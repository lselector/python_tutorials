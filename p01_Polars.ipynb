{
 "cells": [
  {
   "cell_type": "markdown",
   "id": "bb4957b4",
   "metadata": {},
   "source": [
    "## Polars\n",
    "\n",
    " - Polars is very fast and memory efficient\n",
    " - written in Rust, uses Apache Arrow\n",
    " - Can handle more data than fits in memory ! (Hybrid Streaming)\n",
    " - Lazy | eager execution, Multi-threaded\n",
    " - SIMD (Single Instruction / Multiple Data)\n",
    " - Query optimization, Powerful expression API (Rust | Python | NodeJS | ...)\n",
    " - https://www.pola.rs/\n",
    " - https://pypi.org/project/polars/ \n",
    " - https://github.com/pola-rs/polars\n",
    " - https://pola-rs.github.io/polars-book/user-guide/\n",
    " - https://towardsdatascience.com/pandas-vs-polars-a-syntax-and-speed-comparison-5aa54e27497e \n",
    " - https://pola-rs.github.io/polars-book/user-guide/howcani/selecting_data/selecting_data_expressions.html "
   ]
  },
  {
   "cell_type": "code",
   "execution_count": 1,
   "id": "36d90e77",
   "metadata": {},
   "outputs": [],
   "source": [
    "# pip install polars\n",
    "# pip install 'polars[all]'\n",
    "# pip install 'polars[numpy,pandas,pyarrow]' # install a subset only\n",
    "\n",
    "import os, sys\n",
    "import polars as pl\n",
    "import numpy as np"
   ]
  },
  {
   "cell_type": "code",
   "execution_count": 2,
   "id": "a73e1cd2",
   "metadata": {},
   "outputs": [
    {
     "name": "stdout",
     "output_type": "stream",
     "text": [
      "<class 'polars.internals.dataframe.frame.DataFrame'>\n",
      "--------------------------------\n",
      "rows: 149\n"
     ]
    },
    {
     "data": {
      "text/html": [
       "<div><style>\n",
       ".dataframe > thead > tr > th,\n",
       ".dataframe > tbody > tr > td {\n",
       "  text-align: right;\n",
       "}\n",
       "</style>\n",
       "<small>shape: (3, 5)</small><table border=\"1\" class=\"dataframe\"><thead><tr><th>Sepal_Length</th><th>Sepal_Width</th><th>Petal_Length</th><th>Petal_Width</th><th>Class</th></tr><tr><td>f64</td><td>f64</td><td>f64</td><td>f64</td><td>str</td></tr></thead><tbody><tr><td>4.9</td><td>3.0</td><td>1.4</td><td>0.2</td><td>&quot;Iris-setosa&quot;</td></tr><tr><td>4.7</td><td>3.2</td><td>1.3</td><td>0.2</td><td>&quot;Iris-setosa&quot;</td></tr><tr><td>4.6</td><td>3.1</td><td>1.5</td><td>0.2</td><td>&quot;Iris-setosa&quot;</td></tr></tbody></table></div>"
      ],
      "text/plain": [
       "shape: (3, 5)\n",
       "┌──────────────┬─────────────┬──────────────┬─────────────┬─────────────┐\n",
       "│ Sepal_Length ┆ Sepal_Width ┆ Petal_Length ┆ Petal_Width ┆ Class       │\n",
       "│ ---          ┆ ---         ┆ ---          ┆ ---         ┆ ---         │\n",
       "│ f64          ┆ f64         ┆ f64          ┆ f64         ┆ str         │\n",
       "╞══════════════╪═════════════╪══════════════╪═════════════╪═════════════╡\n",
       "│ 4.9          ┆ 3.0         ┆ 1.4          ┆ 0.2         ┆ Iris-setosa │\n",
       "│ 4.7          ┆ 3.2         ┆ 1.3          ┆ 0.2         ┆ Iris-setosa │\n",
       "│ 4.6          ┆ 3.1         ┆ 1.5          ┆ 0.2         ┆ Iris-setosa │\n",
       "└──────────────┴─────────────┴──────────────┴─────────────┴─────────────┘"
      ]
     },
     "metadata": {},
     "output_type": "display_data"
    },
    {
     "data": {
      "text/html": [
       "<div><style>\n",
       ".dataframe > thead > tr > th,\n",
       ".dataframe > tbody > tr > td {\n",
       "  text-align: right;\n",
       "}\n",
       "</style>\n",
       "<small>shape: (3, 5)</small><table border=\"1\" class=\"dataframe\"><thead><tr><th>Sepal_Length</th><th>Sepal_Width</th><th>Petal_Length</th><th>Petal_Width</th><th>Class</th></tr><tr><td>f64</td><td>f64</td><td>f64</td><td>f64</td><td>str</td></tr></thead><tbody><tr><td>6.5</td><td>3.0</td><td>5.2</td><td>2.0</td><td>&quot;Iris-virginica...</td></tr><tr><td>6.2</td><td>3.4</td><td>5.4</td><td>2.3</td><td>&quot;Iris-virginica...</td></tr><tr><td>5.9</td><td>3.0</td><td>5.1</td><td>1.8</td><td>&quot;Iris-virginica...</td></tr></tbody></table></div>"
      ],
      "text/plain": [
       "shape: (3, 5)\n",
       "┌──────────────┬─────────────┬──────────────┬─────────────┬────────────────┐\n",
       "│ Sepal_Length ┆ Sepal_Width ┆ Petal_Length ┆ Petal_Width ┆ Class          │\n",
       "│ ---          ┆ ---         ┆ ---          ┆ ---         ┆ ---            │\n",
       "│ f64          ┆ f64         ┆ f64          ┆ f64         ┆ str            │\n",
       "╞══════════════╪═════════════╪══════════════╪═════════════╪════════════════╡\n",
       "│ 6.5          ┆ 3.0         ┆ 5.2          ┆ 2.0         ┆ Iris-virginica │\n",
       "│ 6.2          ┆ 3.4         ┆ 5.4          ┆ 2.3         ┆ Iris-virginica │\n",
       "│ 5.9          ┆ 3.0         ┆ 5.1          ┆ 1.8         ┆ Iris-virginica │\n",
       "└──────────────┴─────────────┴──────────────┴─────────────┴────────────────┘"
      ]
     },
     "metadata": {},
     "output_type": "display_data"
    },
    {
     "data": {
      "text/html": [
       "<div><style>\n",
       ".dataframe > thead > tr > th,\n",
       ".dataframe > tbody > tr > td {\n",
       "  text-align: right;\n",
       "}\n",
       "</style>\n",
       "<small>shape: (1, 5)</small><table border=\"1\" class=\"dataframe\"><thead><tr><th>Sepal_Length</th><th>Sepal_Width</th><th>Petal_Length</th><th>Petal_Width</th><th>Class</th></tr><tr><td>f64</td><td>f64</td><td>f64</td><td>f64</td><td>str</td></tr></thead><tbody><tr><td>4.7</td><td>3.2</td><td>1.3</td><td>0.2</td><td>&quot;Iris-setosa&quot;</td></tr></tbody></table></div>"
      ],
      "text/plain": [
       "shape: (1, 5)\n",
       "┌──────────────┬─────────────┬──────────────┬─────────────┬─────────────┐\n",
       "│ Sepal_Length ┆ Sepal_Width ┆ Petal_Length ┆ Petal_Width ┆ Class       │\n",
       "│ ---          ┆ ---         ┆ ---          ┆ ---         ┆ ---         │\n",
       "│ f64          ┆ f64         ┆ f64          ┆ f64         ┆ str         │\n",
       "╞══════════════╪═════════════╪══════════════╪═════════════╪═════════════╡\n",
       "│ 4.7          ┆ 3.2         ┆ 1.3          ┆ 0.2         ┆ Iris-setosa │\n",
       "└──────────────┴─────────────┴──────────────┴─────────────┴─────────────┘"
      ]
     },
     "metadata": {},
     "output_type": "display_data"
    }
   ],
   "source": [
    "# get online data into Polaris DataFrame\n",
    "os.makedirs(\"./data\", exist_ok=True)\n",
    "local_fname = \"data/iris.csv\"\n",
    "csv_url = 'https://archive.ics.uci.edu/ml/machine-learning-databases/iris/iris.data'\n",
    "\n",
    "if os.path.exists(local_fname):\n",
    "    df = pl.read_csv(local_fname)\n",
    "else:\n",
    "    df = pl.read_csv(csv_url)\n",
    "    \n",
    "col_names = ['Sepal_Length','Sepal_Width','Petal_Length','Petal_Width','Class']\n",
    "df.columns = col_names\n",
    "\n",
    "# write it into local CSV file\n",
    "\n",
    "df.write_csv(\"data/iris.csv\")\n",
    "df.write_parquet(\"data/iris.parquet\")\n",
    "\n",
    "# df2 = pl.read_csv(\"data/iris.csv\")\n",
    "# df2 = pl.scan_csv(\"data/iris.csv\")         # lazy\n",
    "# df2 = pl.read_parquet(\"data/iris.parquet\")\n",
    "# df2 = pl.scan_parquet(\"data/iris.parquet\") # lazy\n",
    "\n",
    "df_orig = df.clone()\n",
    "\n",
    "print(type(df))\n",
    "print(\"--------------------------------\")\n",
    "print(f\"rows: {len(df)}\")\n",
    "display(df.head(3))  # first 3 rows\n",
    "display(df.tail(3))  # last 3 rows \n",
    "display(df[1:2])     # row #1 "
   ]
  },
  {
   "cell_type": "code",
   "execution_count": 3,
   "id": "c4110efc",
   "metadata": {},
   "outputs": [
    {
     "name": "stdout",
     "output_type": "stream",
     "text": [
      "rows: 149\n"
     ]
    },
    {
     "data": {
      "text/html": [
       "<div><style>\n",
       ".dataframe > thead > tr > th,\n",
       ".dataframe > tbody > tr > td {\n",
       "  text-align: right;\n",
       "}\n",
       "</style>\n",
       "<small>shape: (5, 2)</small><table border=\"1\" class=\"dataframe\"><thead><tr><th>Sepal_Length</th><th>Class</th></tr><tr><td>f64</td><td>str</td></tr></thead><tbody><tr><td>4.9</td><td>&quot;Iris-setosa&quot;</td></tr><tr><td>4.7</td><td>&quot;Iris-setosa&quot;</td></tr><tr><td>4.6</td><td>&quot;Iris-setosa&quot;</td></tr><tr><td>5.0</td><td>&quot;Iris-setosa&quot;</td></tr><tr><td>5.4</td><td>&quot;Iris-setosa&quot;</td></tr></tbody></table></div>"
      ],
      "text/plain": [
       "shape: (5, 2)\n",
       "┌──────────────┬─────────────┐\n",
       "│ Sepal_Length ┆ Class       │\n",
       "│ ---          ┆ ---         │\n",
       "│ f64          ┆ str         │\n",
       "╞══════════════╪═════════════╡\n",
       "│ 4.9          ┆ Iris-setosa │\n",
       "│ 4.7          ┆ Iris-setosa │\n",
       "│ 4.6          ┆ Iris-setosa │\n",
       "│ 5.0          ┆ Iris-setosa │\n",
       "│ 5.4          ┆ Iris-setosa │\n",
       "└──────────────┴─────────────┘"
      ]
     },
     "execution_count": 3,
     "metadata": {},
     "output_type": "execute_result"
    }
   ],
   "source": [
    "# select subset of columns:\n",
    "# df[['Sepal_Length', 'Class']] \n",
    "\n",
    "df2 = df.select(pl.col(['Sepal_Length', 'Class']))\n",
    "print(f\"rows: {len(df2)}\")\n",
    "df2.head()"
   ]
  },
  {
   "cell_type": "code",
   "execution_count": 4,
   "id": "0baa5c5b",
   "metadata": {},
   "outputs": [
    {
     "name": "stdout",
     "output_type": "stream",
     "text": [
      "rows: 117\n"
     ]
    },
    {
     "data": {
      "text/html": [
       "<div><style>\n",
       ".dataframe > thead > tr > th,\n",
       ".dataframe > tbody > tr > td {\n",
       "  text-align: right;\n",
       "}\n",
       "</style>\n",
       "<small>shape: (5, 5)</small><table border=\"1\" class=\"dataframe\"><thead><tr><th>Sepal_Length</th><th>Sepal_Width</th><th>Petal_Length</th><th>Petal_Width</th><th>Class</th></tr><tr><td>f64</td><td>f64</td><td>f64</td><td>f64</td><td>str</td></tr></thead><tbody><tr><td>5.4</td><td>3.9</td><td>1.7</td><td>0.4</td><td>&quot;Iris-setosa&quot;</td></tr><tr><td>5.4</td><td>3.7</td><td>1.5</td><td>0.2</td><td>&quot;Iris-setosa&quot;</td></tr><tr><td>5.8</td><td>4.0</td><td>1.2</td><td>0.2</td><td>&quot;Iris-setosa&quot;</td></tr><tr><td>5.7</td><td>4.4</td><td>1.5</td><td>0.4</td><td>&quot;Iris-setosa&quot;</td></tr><tr><td>5.4</td><td>3.9</td><td>1.3</td><td>0.4</td><td>&quot;Iris-setosa&quot;</td></tr></tbody></table></div>"
      ],
      "text/plain": [
       "shape: (5, 5)\n",
       "┌──────────────┬─────────────┬──────────────┬─────────────┬─────────────┐\n",
       "│ Sepal_Length ┆ Sepal_Width ┆ Petal_Length ┆ Petal_Width ┆ Class       │\n",
       "│ ---          ┆ ---         ┆ ---          ┆ ---         ┆ ---         │\n",
       "│ f64          ┆ f64         ┆ f64          ┆ f64         ┆ str         │\n",
       "╞══════════════╪═════════════╪══════════════╪═════════════╪═════════════╡\n",
       "│ 5.4          ┆ 3.9         ┆ 1.7          ┆ 0.4         ┆ Iris-setosa │\n",
       "│ 5.4          ┆ 3.7         ┆ 1.5          ┆ 0.2         ┆ Iris-setosa │\n",
       "│ 5.8          ┆ 4.0         ┆ 1.2          ┆ 0.2         ┆ Iris-setosa │\n",
       "│ 5.7          ┆ 4.4         ┆ 1.5          ┆ 0.4         ┆ Iris-setosa │\n",
       "│ 5.4          ┆ 3.9         ┆ 1.3          ┆ 0.4         ┆ Iris-setosa │\n",
       "└──────────────┴─────────────┴──────────────┴─────────────┴─────────────┘"
      ]
     },
     "execution_count": 4,
     "metadata": {},
     "output_type": "execute_result"
    }
   ],
   "source": [
    "# df.filter() instead of df.query('Sepal_Length > 5')\n",
    "\n",
    "df2 = df.filter(pl.col('Sepal_Length') > 5 ) \n",
    "# df2 = df.filter(    df['Sepal_Length'] > 5 ) # same effect\n",
    "print(f\"rows: {len(df2)}\")\n",
    "df2.head()"
   ]
  },
  {
   "cell_type": "code",
   "execution_count": 5,
   "id": "e8559b17",
   "metadata": {},
   "outputs": [
    {
     "name": "stdout",
     "output_type": "stream",
     "text": [
      "rows: 51\n"
     ]
    },
    {
     "data": {
      "text/html": [
       "<div><style>\n",
       ".dataframe > thead > tr > th,\n",
       ".dataframe > tbody > tr > td {\n",
       "  text-align: right;\n",
       "}\n",
       "</style>\n",
       "<small>shape: (5, 5)</small><table border=\"1\" class=\"dataframe\"><thead><tr><th>Sepal_Length</th><th>Sepal_Width</th><th>Petal_Length</th><th>Petal_Width</th><th>Class</th></tr><tr><td>f64</td><td>f64</td><td>f64</td><td>f64</td><td>str</td></tr></thead><tbody><tr><td>5.5</td><td>2.3</td><td>4.0</td><td>1.3</td><td>&quot;Iris-versicolo...</td></tr><tr><td>6.5</td><td>2.8</td><td>4.6</td><td>1.5</td><td>&quot;Iris-versicolo...</td></tr><tr><td>5.7</td><td>2.8</td><td>4.5</td><td>1.3</td><td>&quot;Iris-versicolo...</td></tr><tr><td>6.6</td><td>2.9</td><td>4.6</td><td>1.3</td><td>&quot;Iris-versicolo...</td></tr><tr><td>5.2</td><td>2.7</td><td>3.9</td><td>1.4</td><td>&quot;Iris-versicolo...</td></tr></tbody></table></div>"
      ],
      "text/plain": [
       "shape: (5, 5)\n",
       "┌──────────────┬─────────────┬──────────────┬─────────────┬─────────────────┐\n",
       "│ Sepal_Length ┆ Sepal_Width ┆ Petal_Length ┆ Petal_Width ┆ Class           │\n",
       "│ ---          ┆ ---         ┆ ---          ┆ ---         ┆ ---             │\n",
       "│ f64          ┆ f64         ┆ f64          ┆ f64         ┆ str             │\n",
       "╞══════════════╪═════════════╪══════════════╪═════════════╪═════════════════╡\n",
       "│ 5.5          ┆ 2.3         ┆ 4.0          ┆ 1.3         ┆ Iris-versicolor │\n",
       "│ 6.5          ┆ 2.8         ┆ 4.6          ┆ 1.5         ┆ Iris-versicolor │\n",
       "│ 5.7          ┆ 2.8         ┆ 4.5          ┆ 1.3         ┆ Iris-versicolor │\n",
       "│ 6.6          ┆ 2.9         ┆ 4.6          ┆ 1.3         ┆ Iris-versicolor │\n",
       "│ 5.2          ┆ 2.7         ┆ 3.9          ┆ 1.4         ┆ Iris-versicolor │\n",
       "└──────────────┴─────────────┴──────────────┴─────────────┴─────────────────┘"
      ]
     },
     "execution_count": 5,
     "metadata": {},
     "output_type": "execute_result"
    }
   ],
   "source": [
    "# use multiple filters at once\n",
    "df2 = df.filter( (pl.col('Sepal_Length') > 5) & (pl.col('Sepal_Width') < 3) )\n",
    "print(f\"rows: {len(df2)}\")\n",
    "df2.head()"
   ]
  },
  {
   "cell_type": "code",
   "execution_count": 6,
   "id": "50b426ed",
   "metadata": {},
   "outputs": [
    {
     "name": "stdout",
     "output_type": "stream",
     "text": [
      "rows: 149\n"
     ]
    },
    {
     "data": {
      "text/html": [
       "<div><style>\n",
       ".dataframe > thead > tr > th,\n",
       ".dataframe > tbody > tr > td {\n",
       "  text-align: right;\n",
       "}\n",
       "</style>\n",
       "<small>shape: (5, 6)</small><table border=\"1\" class=\"dataframe\"><thead><tr><th>Sepal_Length</th><th>Sepal_Width</th><th>Petal_Length</th><th>Petal_Width</th><th>Class</th><th>mycol</th></tr><tr><td>f64</td><td>f64</td><td>f64</td><td>f64</td><td>str</td><td>f64</td></tr></thead><tbody><tr><td>4.9</td><td>3.0</td><td>1.4</td><td>0.2</td><td>&quot;Iris-setosa&quot;</td><td>49.0</td></tr><tr><td>4.7</td><td>3.2</td><td>1.3</td><td>0.2</td><td>&quot;Iris-setosa&quot;</td><td>47.0</td></tr><tr><td>4.6</td><td>3.1</td><td>1.5</td><td>0.2</td><td>&quot;Iris-setosa&quot;</td><td>46.0</td></tr><tr><td>5.0</td><td>3.6</td><td>1.4</td><td>0.2</td><td>&quot;Iris-setosa&quot;</td><td>50.0</td></tr><tr><td>5.4</td><td>3.9</td><td>1.7</td><td>0.4</td><td>&quot;Iris-setosa&quot;</td><td>54.0</td></tr></tbody></table></div>"
      ],
      "text/plain": [
       "shape: (5, 6)\n",
       "┌──────────────┬─────────────┬──────────────┬─────────────┬─────────────┬───────┐\n",
       "│ Sepal_Length ┆ Sepal_Width ┆ Petal_Length ┆ Petal_Width ┆ Class       ┆ mycol │\n",
       "│ ---          ┆ ---         ┆ ---          ┆ ---         ┆ ---         ┆ ---   │\n",
       "│ f64          ┆ f64         ┆ f64          ┆ f64         ┆ str         ┆ f64   │\n",
       "╞══════════════╪═════════════╪══════════════╪═════════════╪═════════════╪═══════╡\n",
       "│ 4.9          ┆ 3.0         ┆ 1.4          ┆ 0.2         ┆ Iris-setosa ┆ 49.0  │\n",
       "│ 4.7          ┆ 3.2         ┆ 1.3          ┆ 0.2         ┆ Iris-setosa ┆ 47.0  │\n",
       "│ 4.6          ┆ 3.1         ┆ 1.5          ┆ 0.2         ┆ Iris-setosa ┆ 46.0  │\n",
       "│ 5.0          ┆ 3.6         ┆ 1.4          ┆ 0.2         ┆ Iris-setosa ┆ 50.0  │\n",
       "│ 5.4          ┆ 3.9         ┆ 1.7          ┆ 0.4         ┆ Iris-setosa ┆ 54.0  │\n",
       "└──────────────┴─────────────┴──────────────┴─────────────┴─────────────┴───────┘"
      ]
     },
     "execution_count": 6,
     "metadata": {},
     "output_type": "execute_result"
    }
   ],
   "source": [
    "# Adding new column:\n",
    "# in Pandas: df_pd[\"new_col\"] = df_pd[\"col\"] * 10\n",
    "\n",
    "# in Polars\n",
    "df2 = df.with_columns([(pl.col(\"Sepal_Length\") * 10).alias(\"mycol\")])\n",
    "print(f\"rows: {len(df2)}\")\n",
    "df2.head()\n",
    "\n",
    "# You can add multiple columns in one expression:\n",
    "# df2 = df.with_columns([(pl.col(\"col1\") * 10).alias(\"new_col1\"), ...])"
   ]
  },
  {
   "cell_type": "code",
   "execution_count": 7,
   "id": "72d8213d",
   "metadata": {},
   "outputs": [
    {
     "name": "stdout",
     "output_type": "stream",
     "text": [
      "rows: 3\n"
     ]
    },
    {
     "data": {
      "text/html": [
       "<div><style>\n",
       ".dataframe > thead > tr > th,\n",
       ".dataframe > tbody > tr > td {\n",
       "  text-align: right;\n",
       "}\n",
       "</style>\n",
       "<small>shape: (3, 2)</small><table border=\"1\" class=\"dataframe\"><thead><tr><th>Class</th><th>Sepal_Length</th></tr><tr><td>str</td><td>f64</td></tr></thead><tbody><tr><td>&quot;Iris-virginica...</td><td>6.588</td></tr><tr><td>&quot;Iris-versicolo...</td><td>5.936</td></tr><tr><td>&quot;Iris-setosa&quot;</td><td>5.004082</td></tr></tbody></table></div>"
      ],
      "text/plain": [
       "shape: (3, 2)\n",
       "┌─────────────────┬──────────────┐\n",
       "│ Class           ┆ Sepal_Length │\n",
       "│ ---             ┆ ---          │\n",
       "│ str             ┆ f64          │\n",
       "╞═════════════════╪══════════════╡\n",
       "│ Iris-virginica  ┆ 6.588        │\n",
       "│ Iris-versicolor ┆ 5.936        │\n",
       "│ Iris-setosa     ┆ 5.004082     │\n",
       "└─────────────────┴──────────────┘"
      ]
     },
     "metadata": {},
     "output_type": "display_data"
    },
    {
     "name": "stdout",
     "output_type": "stream",
     "text": [
      "--------------------------------\n",
      "rows: 3\n"
     ]
    },
    {
     "data": {
      "text/html": [
       "<div><style>\n",
       ".dataframe > thead > tr > th,\n",
       ".dataframe > tbody > tr > td {\n",
       "  text-align: right;\n",
       "}\n",
       "</style>\n",
       "<small>shape: (3, 2)</small><table border=\"1\" class=\"dataframe\"><thead><tr><th>Class</th><th>Sepal_Length</th></tr><tr><td>str</td><td>f64</td></tr></thead><tbody><tr><td>&quot;Iris-setosa&quot;</td><td>5.004082</td></tr><tr><td>&quot;Iris-virginica...</td><td>6.588</td></tr><tr><td>&quot;Iris-versicolo...</td><td>5.936</td></tr></tbody></table></div>"
      ],
      "text/plain": [
       "shape: (3, 2)\n",
       "┌─────────────────┬──────────────┐\n",
       "│ Class           ┆ Sepal_Length │\n",
       "│ ---             ┆ ---          │\n",
       "│ str             ┆ f64          │\n",
       "╞═════════════════╪══════════════╡\n",
       "│ Iris-setosa     ┆ 5.004082     │\n",
       "│ Iris-virginica  ┆ 6.588        │\n",
       "│ Iris-versicolor ┆ 5.936        │\n",
       "└─────────────────┴──────────────┘"
      ]
     },
     "metadata": {},
     "output_type": "display_data"
    }
   ],
   "source": [
    "# groupby & aggregate\n",
    "# Pandas: df_pd.groupby('col1')['col2'].agg('mean')\n",
    "\n",
    "# Polars\n",
    "df2 = df.groupby('Class').agg([pl.col('Sepal_Length').mean()])  # As suggested in Polars docs\n",
    "df3 = df.groupby('Class').agg([pl.mean('Sepal_Length')])        # Shorter\n",
    "print(f\"rows: {len(df2)}\")\n",
    "display(df2)\n",
    "print(\"--------------------------------\")\n",
    "print(f\"rows: {len(df3)}\")\n",
    "display(df3)"
   ]
  },
  {
   "cell_type": "code",
   "execution_count": 8,
   "id": "328f57f5",
   "metadata": {},
   "outputs": [
    {
     "data": {
      "text/html": [
       "<div><style>\n",
       ".dataframe > thead > tr > th,\n",
       ".dataframe > tbody > tr > td {\n",
       "  text-align: right;\n",
       "}\n",
       "</style>\n",
       "<small>shape: (3, 5)</small><table border=\"1\" class=\"dataframe\"><thead><tr><th>Class</th><th>Sepal_Length</th><th>Sepal_Width</th><th>Petal_Length</th><th>Petal_Width</th></tr><tr><td>str</td><td>f64</td><td>f64</td><td>f64</td><td>f64</td></tr></thead><tbody><tr><td>&quot;Iris-setosa&quot;</td><td>5.32381</td><td>3.72381</td><td>1.514286</td><td>0.280952</td></tr><tr><td>&quot;Iris-virginica...</td><td>6.622449</td><td>2.983673</td><td>5.573469</td><td>2.032653</td></tr><tr><td>&quot;Iris-versicolo...</td><td>5.997872</td><td>2.804255</td><td>4.317021</td><td>1.346809</td></tr></tbody></table></div>"
      ],
      "text/plain": [
       "shape: (3, 5)\n",
       "┌─────────────────┬──────────────┬─────────────┬──────────────┬─────────────┐\n",
       "│ Class           ┆ Sepal_Length ┆ Sepal_Width ┆ Petal_Length ┆ Petal_Width │\n",
       "│ ---             ┆ ---          ┆ ---         ┆ ---          ┆ ---         │\n",
       "│ str             ┆ f64          ┆ f64         ┆ f64          ┆ f64         │\n",
       "╞═════════════════╪══════════════╪═════════════╪══════════════╪═════════════╡\n",
       "│ Iris-setosa     ┆ 5.32381      ┆ 3.72381     ┆ 1.514286     ┆ 0.280952    │\n",
       "│ Iris-virginica  ┆ 6.622449     ┆ 2.983673    ┆ 5.573469     ┆ 2.032653    │\n",
       "│ Iris-versicolor ┆ 5.997872     ┆ 2.804255    ┆ 4.317021     ┆ 1.346809    │\n",
       "└─────────────────┴──────────────┴─────────────┴──────────────┴─────────────┘"
      ]
     },
     "metadata": {},
     "output_type": "display_data"
    }
   ],
   "source": [
    "# alternative way - read, filter, groupby, aggregate\n",
    "q = (\n",
    "    pl.scan_csv(local_fname)\n",
    "    .filter(pl.col(\"Sepal_Length\") > 5)\n",
    "    .groupby(\"Class\")\n",
    "    .agg(pl.all().mean())\n",
    ")\n",
    "\n",
    "df = q.collect()\n",
    "display(df)"
   ]
  },
  {
   "cell_type": "code",
   "execution_count": 9,
   "id": "3c035d92",
   "metadata": {},
   "outputs": [
    {
     "data": {
      "text/html": [
       "<div><style>\n",
       ".dataframe > thead > tr > th,\n",
       ".dataframe > tbody > tr > td {\n",
       "  text-align: right;\n",
       "}\n",
       "</style>\n",
       "<small>shape: (2, 2)</small><table border=\"1\" class=\"dataframe\"><thead><tr><th>c1</th><th>c2</th></tr><tr><td>f64</td><td>f64</td></tr></thead><tbody><tr><td>1.0</td><td>NaN</td></tr><tr><td>null</td><td>2.0</td></tr></tbody></table></div>"
      ],
      "text/plain": [
       "shape: (2, 2)\n",
       "┌──────┬─────┐\n",
       "│ c1   ┆ c2  │\n",
       "│ ---  ┆ --- │\n",
       "│ f64  ┆ f64 │\n",
       "╞══════╪═════╡\n",
       "│ 1.0  ┆ NaN │\n",
       "│ null ┆ 2.0 │\n",
       "└──────┴─────┘"
      ]
     },
     "metadata": {},
     "output_type": "display_data"
    },
    {
     "data": {
      "text/plain": [
       "[Float64, Float64]"
      ]
     },
     "metadata": {},
     "output_type": "display_data"
    },
    {
     "name": "stdout",
     "output_type": "stream",
     "text": [
      "--------------------------------\n"
     ]
    },
    {
     "data": {
      "text/html": [
       "<div><style>\n",
       ".dataframe > thead > tr > th,\n",
       ".dataframe > tbody > tr > td {\n",
       "  text-align: right;\n",
       "}\n",
       "</style>\n",
       "<small>shape: (1, 2)</small><table border=\"1\" class=\"dataframe\"><thead><tr><th>c1</th><th>c2</th></tr><tr><td>u32</td><td>u32</td></tr></thead><tbody><tr><td>1</td><td>0</td></tr></tbody></table></div>"
      ],
      "text/plain": [
       "shape: (1, 2)\n",
       "┌─────┬─────┐\n",
       "│ c1  ┆ c2  │\n",
       "│ --- ┆ --- │\n",
       "│ u32 ┆ u32 │\n",
       "╞═════╪═════╡\n",
       "│ 1   ┆ 0   │\n",
       "└─────┴─────┘"
      ]
     },
     "metadata": {},
     "output_type": "display_data"
    },
    {
     "name": "stdout",
     "output_type": "stream",
     "text": [
      "--------------------------------\n"
     ]
    },
    {
     "data": {
      "text/plain": [
       "[Float64, Float64]"
      ]
     },
     "metadata": {},
     "output_type": "display_data"
    },
    {
     "name": "stdout",
     "output_type": "stream",
     "text": [
      "--------------------------------\n"
     ]
    },
    {
     "data": {
      "text/html": [
       "<div><style>\n",
       ".dataframe > thead > tr > th,\n",
       ".dataframe > tbody > tr > td {\n",
       "  text-align: right;\n",
       "}\n",
       "</style>\n",
       "<small>shape: (1, 2)</small><table border=\"1\" class=\"dataframe\"><thead><tr><th>c1</th><th>c2</th></tr><tr><td>u32</td><td>u32</td></tr></thead><tbody><tr><td>1</td><td>1</td></tr></tbody></table></div>"
      ],
      "text/plain": [
       "shape: (1, 2)\n",
       "┌─────┬─────┐\n",
       "│ c1  ┆ c2  │\n",
       "│ --- ┆ --- │\n",
       "│ u32 ┆ u32 │\n",
       "╞═════╪═════╡\n",
       "│ 1   ┆ 1   │\n",
       "└─────┴─────┘"
      ]
     },
     "metadata": {},
     "output_type": "display_data"
    }
   ],
   "source": [
    "# Missing Data\n",
    "# https://pola-rs.github.io/polars-book/user-guide/howcani/missing_data.html\n",
    "#   Pandas:  NaN  ,         .fillna()     df['col2'].fillna(-999)\n",
    "#   Polars:  None = null ,  .fill_null()\n",
    "#            NaN            .fill_nan()\n",
    "# \n",
    "# df.null_count() - counts number of nulls (None) values in each column\n",
    "#                   and returns it as a 1-row DataFrame\n",
    "#\n",
    "# NaN values are NOT considered to be missing data\n",
    "#            and NOT counted with the null_count() method\n",
    "#\n",
    "# NaN values are filled with fill_nan(), but not fill_null()\n",
    "#\n",
    "# Polars has is_nan() and fill_nan() methods \n",
    "#            which work similar to is_null() and fill_null() methods. \n",
    "\n",
    "dfn = pl.DataFrame( {\"c1\": [1.0, None], \"c2\": [np.nan, 2.0]})\n",
    "display(dfn)\n",
    "display(dfn.dtypes)\n",
    "print(\"--------------------------------\")\n",
    "display(dfn.null_count())\n",
    "print(\"--------------------------------\")\n",
    "dfn2 = dfn.fill_nan(None)\n",
    "display(dfn2.dtypes)\n",
    "print(\"--------------------------------\")\n",
    "display(dfn2.null_count())"
   ]
  },
  {
   "cell_type": "code",
   "execution_count": 10,
   "id": "fe62f55d",
   "metadata": {},
   "outputs": [
    {
     "data": {
      "text/html": [
       "<div><style>\n",
       ".dataframe > thead > tr > th,\n",
       ".dataframe > tbody > tr > td {\n",
       "  text-align: right;\n",
       "}\n",
       "</style>\n",
       "<small>shape: (2, 4)</small><table border=\"1\" class=\"dataframe\"><thead><tr><th>c1</th><th>c2</th><th>c1_</th><th>c2_</th></tr><tr><td>f64</td><td>f64</td><td>f64</td><td>f64</td></tr></thead><tbody><tr><td>1.0</td><td>NaN</td><td>1.0</td><td>null</td></tr><tr><td>null</td><td>2.0</td><td>null</td><td>2.0</td></tr></tbody></table></div>"
      ],
      "text/plain": [
       "shape: (2, 4)\n",
       "┌──────┬─────┬──────┬──────┐\n",
       "│ c1   ┆ c2  ┆ c1_  ┆ c2_  │\n",
       "│ ---  ┆ --- ┆ ---  ┆ ---  │\n",
       "│ f64  ┆ f64 ┆ f64  ┆ f64  │\n",
       "╞══════╪═════╪══════╪══════╡\n",
       "│ 1.0  ┆ NaN ┆ 1.0  ┆ null │\n",
       "│ null ┆ 2.0 ┆ null ┆ 2.0  │\n",
       "└──────┴─────┴──────┴──────┘"
      ]
     },
     "metadata": {},
     "output_type": "display_data"
    },
    {
     "name": "stdout",
     "output_type": "stream",
     "text": [
      "--------------------------------\n",
      "mean() :\n"
     ]
    },
    {
     "data": {
      "text/html": [
       "<div><style>\n",
       ".dataframe > thead > tr > th,\n",
       ".dataframe > tbody > tr > td {\n",
       "  text-align: right;\n",
       "}\n",
       "</style>\n",
       "<small>shape: (1, 4)</small><table border=\"1\" class=\"dataframe\"><thead><tr><th>c1</th><th>c2</th><th>c1_</th><th>c2_</th></tr><tr><td>f64</td><td>f64</td><td>f64</td><td>f64</td></tr></thead><tbody><tr><td>1.0</td><td>NaN</td><td>1.0</td><td>2.0</td></tr></tbody></table></div>"
      ],
      "text/plain": [
       "shape: (1, 4)\n",
       "┌─────┬─────┬─────┬─────┐\n",
       "│ c1  ┆ c2  ┆ c1_ ┆ c2_ │\n",
       "│ --- ┆ --- ┆ --- ┆ --- │\n",
       "│ f64 ┆ f64 ┆ f64 ┆ f64 │\n",
       "╞═════╪═════╪═════╪═════╡\n",
       "│ 1.0 ┆ NaN ┆ 1.0 ┆ 2.0 │\n",
       "└─────┴─────┴─────┴─────┘"
      ]
     },
     "metadata": {},
     "output_type": "display_data"
    },
    {
     "name": "stdout",
     "output_type": "stream",
     "text": [
      "--------------------------------\n",
      "fill nulls with -999 :\n"
     ]
    },
    {
     "data": {
      "text/html": [
       "<div><style>\n",
       ".dataframe > thead > tr > th,\n",
       ".dataframe > tbody > tr > td {\n",
       "  text-align: right;\n",
       "}\n",
       "</style>\n",
       "<small>shape: (2, 2)</small><table border=\"1\" class=\"dataframe\"><thead><tr><th>c1</th><th>c2</th></tr><tr><td>f64</td><td>f64</td></tr></thead><tbody><tr><td>1.0</td><td>NaN</td></tr><tr><td>-999.0</td><td>2.0</td></tr></tbody></table></div>"
      ],
      "text/plain": [
       "shape: (2, 2)\n",
       "┌────────┬─────┐\n",
       "│ c1     ┆ c2  │\n",
       "│ ---    ┆ --- │\n",
       "│ f64    ┆ f64 │\n",
       "╞════════╪═════╡\n",
       "│ 1.0    ┆ NaN │\n",
       "│ -999.0 ┆ 2.0 │\n",
       "└────────┴─────┘"
      ]
     },
     "metadata": {},
     "output_type": "display_data"
    },
    {
     "name": "stdout",
     "output_type": "stream",
     "text": [
      "--------------------------------\n"
     ]
    },
    {
     "data": {
      "text/html": [
       "<div><style>\n",
       ".dataframe > thead > tr > th,\n",
       ".dataframe > tbody > tr > td {\n",
       "  text-align: right;\n",
       "}\n",
       "</style>\n",
       "<small>shape: (2, 4)</small><table border=\"1\" class=\"dataframe\"><thead><tr><th>c1</th><th>c2</th><th>c1_</th><th>c2_</th></tr><tr><td>f64</td><td>f64</td><td>f64</td><td>f64</td></tr></thead><tbody><tr><td>1.0</td><td>NaN</td><td>1.0</td><td>-999.0</td></tr><tr><td>-999.0</td><td>2.0</td><td>-999.0</td><td>2.0</td></tr></tbody></table></div>"
      ],
      "text/plain": [
       "shape: (2, 4)\n",
       "┌────────┬─────┬────────┬────────┐\n",
       "│ c1     ┆ c2  ┆ c1_    ┆ c2_    │\n",
       "│ ---    ┆ --- ┆ ---    ┆ ---    │\n",
       "│ f64    ┆ f64 ┆ f64    ┆ f64    │\n",
       "╞════════╪═════╪════════╪════════╡\n",
       "│ 1.0    ┆ NaN ┆ 1.0    ┆ -999.0 │\n",
       "│ -999.0 ┆ 2.0 ┆ -999.0 ┆ 2.0    │\n",
       "└────────┴─────┴────────┴────────┘"
      ]
     },
     "metadata": {},
     "output_type": "display_data"
    }
   ],
   "source": [
    "# mean() of data with None/null values - excludes None/null from calculation \n",
    "# mean() of data with np.NaN - result in NaN\n",
    "# Solution - substitute NaN with None\n",
    "\n",
    "dfn2 = dfn.with_columns([\n",
    "    pl.col(\"c1\").fill_nan(None).alias(\"c1_\"),\n",
    "    pl.col(\"c2\").fill_nan(None).alias(\"c2_\"),\n",
    "])\n",
    "\n",
    "display(dfn2)\n",
    "print(\"--------------------------------\")\n",
    "print(\"mean() :\")\n",
    "display(dfn2.mean())\n",
    "print(\"--------------------------------\")\n",
    "print(\"fill nulls with -999 :\")\n",
    "dfn3 = dfn.with_columns(pl.col('c1').fill_null(pl.lit(-999))) # As suggested in Polars docs\n",
    "dfn3 = dfn.with_columns(pl.col('c1').fill_null(-999))         # Shorter\n",
    "display(dfn3)\n",
    "print(\"--------------------------------\")\n",
    "dfn4 = dfn2.fill_null(-999)\n",
    "display(dfn4)"
   ]
  },
  {
   "cell_type": "markdown",
   "id": "4eda7e76",
   "metadata": {},
   "source": [
    "### Manipulating data in a Polars DataFrame\n",
    "\n",
    "https://towardsdatascience.com/manipulating-values-in-polars-dataframes-1087d88dd436"
   ]
  },
  {
   "cell_type": "code",
   "execution_count": 11,
   "id": "d242c298",
   "metadata": {},
   "outputs": [
    {
     "data": {
      "text/html": [
       "<div><style>\n",
       ".dataframe > thead > tr > th,\n",
       ".dataframe > tbody > tr > td {\n",
       "  text-align: right;\n",
       "}\n",
       "</style>\n",
       "<small>shape: (6, 3)</small><table border=\"1\" class=\"dataframe\"><thead><tr><th>a</th><th>b</th><th>c</th></tr><tr><td>i64</td><td>i64</td><td>i64</td></tr></thead><tbody><tr><td>1</td><td>2</td><td>3</td></tr><tr><td>4</td><td>5</td><td>6</td></tr><tr><td>7</td><td>8</td><td>9</td></tr><tr><td>10</td><td>11</td><td>12</td></tr><tr><td>13</td><td>14</td><td>15</td></tr><tr><td>16</td><td>17</td><td>18</td></tr></tbody></table></div>"
      ],
      "text/plain": [
       "shape: (6, 3)\n",
       "┌─────┬─────┬─────┐\n",
       "│ a   ┆ b   ┆ c   │\n",
       "│ --- ┆ --- ┆ --- │\n",
       "│ i64 ┆ i64 ┆ i64 │\n",
       "╞═════╪═════╪═════╡\n",
       "│ 1   ┆ 2   ┆ 3   │\n",
       "│ 4   ┆ 5   ┆ 6   │\n",
       "│ 7   ┆ 8   ┆ 9   │\n",
       "│ 10  ┆ 11  ┆ 12  │\n",
       "│ 13  ┆ 14  ┆ 15  │\n",
       "│ 16  ┆ 17  ┆ 18  │\n",
       "└─────┴─────┴─────┘"
      ]
     },
     "execution_count": 11,
     "metadata": {},
     "output_type": "execute_result"
    }
   ],
   "source": [
    "matrix = [\n",
    "    (1, 2, 3),\n",
    "    (4, 5, 6),\n",
    "    (7, 8, 9),\n",
    "    (10, 11, 12),\n",
    "    (13, 14, 15),\n",
    "    (16, 17, 18)\n",
    "]\n",
    "df = pl.DataFrame(matrix, schema=list('abc'))  # \"schema\" used instead of \"columns\"\n",
    "df"
   ]
  },
  {
   "cell_type": "code",
   "execution_count": 12,
   "id": "89bcb2a1",
   "metadata": {},
   "outputs": [
    {
     "name": "stdout",
     "output_type": "stream",
     "text": [
      "<class 'polars.internals.dataframe.frame.DataFrame'>\n",
      "shape: (6, 1)\n",
      "┌─────┐\n",
      "│ a   │\n",
      "│ --- │\n",
      "│ i64 │\n",
      "╞═════╡\n",
      "│ 1   │\n",
      "│ 4   │\n",
      "│ 14  │\n",
      "│ 20  │\n",
      "│ 26  │\n",
      "│ 32  │\n",
      "└─────┘\n",
      "------------------------------\n",
      "<class 'polars.internals.dataframe.frame.DataFrame'>\n",
      "shape: (6, 1)\n",
      "┌─────┐\n",
      "│ a   │\n",
      "│ --- │\n",
      "│ i64 │\n",
      "╞═════╡\n",
      "│ 2   │\n",
      "│ 8   │\n",
      "│ 14  │\n",
      "│ 20  │\n",
      "│ 26  │\n",
      "│ 32  │\n",
      "└─────┘\n"
     ]
    }
   ],
   "source": [
    "# apply() and map()\n",
    "\n",
    "# pl.col('a').apply(lambda x: x*2)     # use apply and lambda\n",
    "# pl.col('a') * 2                      # use simple column expression\n",
    "\n",
    "df2 = df.select(\n",
    "    pl.col('a').apply(lambda x: x*2 if x>=5 else x)\n",
    ")\n",
    "print(type(df2))\n",
    "print(df2)\n",
    "\n",
    "print(\"------------------------------\")\n",
    "df2 = df.select(\n",
    "    pl.col('a').map(lambda x: x*2) # can not use \"if\" on a Series\n",
    ")\n",
    "print(type(df2))\n",
    "print(df2)"
   ]
  },
  {
   "cell_type": "code",
   "execution_count": 13,
   "id": "6025b6f4",
   "metadata": {},
   "outputs": [
    {
     "data": {
      "text/html": [
       "<div><style>\n",
       ".dataframe > thead > tr > th,\n",
       ".dataframe > tbody > tr > td {\n",
       "  text-align: right;\n",
       "}\n",
       "</style>\n",
       "<small>shape: (6, 3)</small><table border=\"1\" class=\"dataframe\"><thead><tr><th>a</th><th>b</th><th>c</th></tr><tr><td>i64</td><td>i64</td><td>i64</td></tr></thead><tbody><tr><td>2</td><td>2</td><td>3</td></tr><tr><td>8</td><td>5</td><td>6</td></tr><tr><td>14</td><td>8</td><td>9</td></tr><tr><td>20</td><td>11</td><td>12</td></tr><tr><td>26</td><td>14</td><td>15</td></tr><tr><td>32</td><td>17</td><td>18</td></tr></tbody></table></div>"
      ],
      "text/plain": [
       "shape: (6, 3)\n",
       "┌─────┬─────┬─────┐\n",
       "│ a   ┆ b   ┆ c   │\n",
       "│ --- ┆ --- ┆ --- │\n",
       "│ i64 ┆ i64 ┆ i64 │\n",
       "╞═════╪═════╪═════╡\n",
       "│ 2   ┆ 2   ┆ 3   │\n",
       "│ 8   ┆ 5   ┆ 6   │\n",
       "│ 14  ┆ 8   ┆ 9   │\n",
       "│ 20  ┆ 11  ┆ 12  │\n",
       "│ 26  ┆ 14  ┆ 15  │\n",
       "│ 32  ┆ 17  ┆ 18  │\n",
       "└─────┴─────┴─────┘"
      ]
     },
     "execution_count": 13,
     "metadata": {},
     "output_type": "execute_result"
    }
   ],
   "source": [
    "# changing only column 'a' - returning all columns\n",
    "\n",
    "q = (\n",
    "    df\n",
    "    .lazy()\n",
    "    .select(\n",
    "        [\n",
    "            pl.col('a').apply(lambda x: x*2),\n",
    "            pl.exclude('a')\n",
    "        ]\n",
    "    )\n",
    ")\n",
    "\n",
    "df2 = q.collect()\n",
    "df2"
   ]
  },
  {
   "cell_type": "code",
   "execution_count": 14,
   "id": "21bc1bcb",
   "metadata": {},
   "outputs": [
    {
     "data": {
      "text/html": [
       "<div><style>\n",
       ".dataframe > thead > tr > th,\n",
       ".dataframe > tbody > tr > td {\n",
       "  text-align: right;\n",
       "}\n",
       "</style>\n",
       "<small>shape: (6, 4)</small><table border=\"1\" class=\"dataframe\"><thead><tr><th>a</th><th>b</th><th>c</th><th>a2</th></tr><tr><td>i64</td><td>i64</td><td>i64</td><td>i64</td></tr></thead><tbody><tr><td>1</td><td>2</td><td>3</td><td>2</td></tr><tr><td>4</td><td>5</td><td>6</td><td>8</td></tr><tr><td>7</td><td>8</td><td>9</td><td>14</td></tr><tr><td>10</td><td>11</td><td>12</td><td>20</td></tr><tr><td>13</td><td>14</td><td>15</td><td>26</td></tr><tr><td>16</td><td>17</td><td>18</td><td>32</td></tr></tbody></table></div>"
      ],
      "text/plain": [
       "shape: (6, 4)\n",
       "┌─────┬─────┬─────┬─────┐\n",
       "│ a   ┆ b   ┆ c   ┆ a2  │\n",
       "│ --- ┆ --- ┆ --- ┆ --- │\n",
       "│ i64 ┆ i64 ┆ i64 ┆ i64 │\n",
       "╞═════╪═════╪═════╪═════╡\n",
       "│ 1   ┆ 2   ┆ 3   ┆ 2   │\n",
       "│ 4   ┆ 5   ┆ 6   ┆ 8   │\n",
       "│ 7   ┆ 8   ┆ 9   ┆ 14  │\n",
       "│ 10  ┆ 11  ┆ 12  ┆ 20  │\n",
       "│ 13  ┆ 14  ┆ 15  ┆ 26  │\n",
       "│ 16  ┆ 17  ┆ 18  ┆ 32  │\n",
       "└─────┴─────┴─────┴─────┘"
      ]
     },
     "execution_count": 14,
     "metadata": {},
     "output_type": "execute_result"
    }
   ],
   "source": [
    "# multiply column \"a\" by 2 \n",
    "# store the result in new column \"a2\"\n",
    "\n",
    "q = (\n",
    "    df\n",
    "    .lazy()\n",
    "    .select(\n",
    "        [\n",
    "            pl.col('*'),\n",
    "            pl.col('a').apply(lambda x: x*2).alias(\"a2\"),\n",
    "        ]\n",
    "    )\n",
    ")\n",
    "q.collect()"
   ]
  },
  {
   "cell_type": "code",
   "execution_count": 15,
   "id": "c4249fe0",
   "metadata": {},
   "outputs": [
    {
     "name": "stdout",
     "output_type": "stream",
     "text": [
      "(1, 2, 3)\n",
      "(4, 5, 6)\n",
      "(7, 8, 9)\n",
      "(10, 11, 12)\n",
      "(13, 14, 15)\n",
      "(16, 17, 18)\n",
      "---------------------------\n"
     ]
    },
    {
     "data": {
      "text/html": [
       "<div><style>\n",
       ".dataframe > thead > tr > th,\n",
       ".dataframe > tbody > tr > td {\n",
       "  text-align: right;\n",
       "}\n",
       "</style>\n",
       "<small>shape: (6, 3)</small><table border=\"1\" class=\"dataframe\"><thead><tr><th>column_0</th><th>column_1</th><th>column_2</th></tr><tr><td>i64</td><td>i64</td><td>i64</td></tr></thead><tbody><tr><td>1</td><td>2</td><td>3</td></tr><tr><td>4</td><td>5</td><td>6</td></tr><tr><td>7</td><td>8</td><td>9</td></tr><tr><td>10</td><td>11</td><td>12</td></tr><tr><td>13</td><td>14</td><td>15</td></tr><tr><td>16</td><td>17</td><td>18</td></tr></tbody></table></div>"
      ],
      "text/plain": [
       "shape: (6, 3)\n",
       "┌──────────┬──────────┬──────────┐\n",
       "│ column_0 ┆ column_1 ┆ column_2 │\n",
       "│ ---      ┆ ---      ┆ ---      │\n",
       "│ i64      ┆ i64      ┆ i64      │\n",
       "╞══════════╪══════════╪══════════╡\n",
       "│ 1        ┆ 2        ┆ 3        │\n",
       "│ 4        ┆ 5        ┆ 6        │\n",
       "│ 7        ┆ 8        ┆ 9        │\n",
       "│ 10       ┆ 11       ┆ 12       │\n",
       "│ 13       ┆ 14       ┆ 15       │\n",
       "│ 16       ┆ 17       ┆ 18       │\n",
       "└──────────┴──────────┴──────────┘"
      ]
     },
     "metadata": {},
     "output_type": "display_data"
    }
   ],
   "source": [
    "# applying function to rows\n",
    "\n",
    "def test(x):\n",
    "    print(x) # print row as tuple\n",
    "    return x # return row as tuple\n",
    "  \n",
    "df2 = df.apply(test) # apply() works row by row\n",
    "print(\"---------------------------\")\n",
    "display(df2)"
   ]
  },
  {
   "cell_type": "code",
   "execution_count": 16,
   "id": "05c70123",
   "metadata": {},
   "outputs": [
    {
     "data": {
      "text/html": [
       "<div><style>\n",
       ".dataframe > thead > tr > th,\n",
       ".dataframe > tbody > tr > td {\n",
       "  text-align: right;\n",
       "}\n",
       "</style>\n",
       "<small>shape: (6, 3)</small><table border=\"1\" class=\"dataframe\"><thead><tr><th>column_0</th><th>column_1</th><th>column_2</th></tr><tr><td>i64</td><td>i64</td><td>i64</td></tr></thead><tbody><tr><td>1</td><td>2</td><td>3</td></tr><tr><td>2</td><td>2</td><td>3</td></tr><tr><td>3</td><td>4</td><td>4</td></tr><tr><td>5</td><td>5</td><td>6</td></tr><tr><td>6</td><td>7</td><td>7</td></tr><tr><td>8</td><td>8</td><td>9</td></tr></tbody></table></div>"
      ],
      "text/plain": [
       "shape: (6, 3)\n",
       "┌──────────┬──────────┬──────────┐\n",
       "│ column_0 ┆ column_1 ┆ column_2 │\n",
       "│ ---      ┆ ---      ┆ ---      │\n",
       "│ i64      ┆ i64      ┆ i64      │\n",
       "╞══════════╪══════════╪══════════╡\n",
       "│ 1        ┆ 2        ┆ 3        │\n",
       "│ 2        ┆ 2        ┆ 3        │\n",
       "│ 3        ┆ 4        ┆ 4        │\n",
       "│ 5        ┆ 5        ┆ 6        │\n",
       "│ 6        ┆ 7        ┆ 7        │\n",
       "│ 8        ┆ 8        ┆ 9        │\n",
       "└──────────┴──────────┴──────────┘"
      ]
     },
     "execution_count": 16,
     "metadata": {},
     "output_type": "execute_result"
    }
   ],
   "source": [
    "# perform an integer division of all the numbers in a row by 2 \n",
    "# if the sum of the numers in this row sum(x) > 10:\n",
    "\n",
    "df.apply(lambda x: tuple([i // 2 for i in x]) if sum(x) > 10 else x)"
   ]
  },
  {
   "cell_type": "code",
   "execution_count": 17,
   "id": "7f2a860a",
   "metadata": {},
   "outputs": [
    {
     "data": {
      "text/plain": [
       "(1, 2, 3, 1, 2, 3)"
      ]
     },
     "execution_count": 17,
     "metadata": {},
     "output_type": "execute_result"
    }
   ],
   "source": [
    "# in Python multiplying tuple causes repeating\n",
    "aa = (1,2,3)\n",
    "aa*2             # (1, 2, 3, 1, 2, 3)"
   ]
  },
  {
   "cell_type": "code",
   "execution_count": 18,
   "id": "4e88b99e",
   "metadata": {},
   "outputs": [
    {
     "data": {
      "text/html": [
       "<div><style>\n",
       ".dataframe > thead > tr > th,\n",
       ".dataframe > tbody > tr > td {\n",
       "  text-align: right;\n",
       "}\n",
       "</style>\n",
       "<small>shape: (6, 6)</small><table border=\"1\" class=\"dataframe\"><thead><tr><th>column_0</th><th>column_1</th><th>column_2</th><th>column_3</th><th>column_4</th><th>column_5</th></tr><tr><td>i64</td><td>i64</td><td>i64</td><td>i64</td><td>i64</td><td>i64</td></tr></thead><tbody><tr><td>1</td><td>2</td><td>3</td><td>1</td><td>2</td><td>3</td></tr><tr><td>4</td><td>5</td><td>6</td><td>4</td><td>5</td><td>6</td></tr><tr><td>7</td><td>8</td><td>9</td><td>7</td><td>8</td><td>9</td></tr><tr><td>10</td><td>11</td><td>12</td><td>10</td><td>11</td><td>12</td></tr><tr><td>13</td><td>14</td><td>15</td><td>13</td><td>14</td><td>15</td></tr><tr><td>16</td><td>17</td><td>18</td><td>16</td><td>17</td><td>18</td></tr></tbody></table></div>"
      ],
      "text/plain": [
       "shape: (6, 6)\n",
       "┌──────────┬──────────┬──────────┬──────────┬──────────┬──────────┐\n",
       "│ column_0 ┆ column_1 ┆ column_2 ┆ column_3 ┆ column_4 ┆ column_5 │\n",
       "│ ---      ┆ ---      ┆ ---      ┆ ---      ┆ ---      ┆ ---      │\n",
       "│ i64      ┆ i64      ┆ i64      ┆ i64      ┆ i64      ┆ i64      │\n",
       "╞══════════╪══════════╪══════════╪══════════╪══════════╪══════════╡\n",
       "│ 1        ┆ 2        ┆ 3        ┆ 1        ┆ 2        ┆ 3        │\n",
       "│ 4        ┆ 5        ┆ 6        ┆ 4        ┆ 5        ┆ 6        │\n",
       "│ 7        ┆ 8        ┆ 9        ┆ 7        ┆ 8        ┆ 9        │\n",
       "│ 10       ┆ 11       ┆ 12       ┆ 10       ┆ 11       ┆ 12       │\n",
       "│ 13       ┆ 14       ┆ 15       ┆ 13       ┆ 14       ┆ 15       │\n",
       "│ 16       ┆ 17       ┆ 18       ┆ 16       ┆ 17       ┆ 18       │\n",
       "└──────────┴──────────┴──────────┴──────────┴──────────┴──────────┘"
      ]
     },
     "execution_count": 18,
     "metadata": {},
     "output_type": "execute_result"
    }
   ],
   "source": [
    "# duplicate all columns \n",
    "# (x*2 converts a tuple of 3 numbers to 6 numbers):\n",
    "\n",
    "df.apply(lambda x: x*2)"
   ]
  },
  {
   "cell_type": "code",
   "execution_count": 19,
   "id": "2cb138fb",
   "metadata": {},
   "outputs": [
    {
     "data": {
      "text/html": [
       "<div><style>\n",
       ".dataframe > thead > tr > th,\n",
       ".dataframe > tbody > tr > td {\n",
       "  text-align: right;\n",
       "}\n",
       "</style>\n",
       "<small>shape: (1, 3)</small><table border=\"1\" class=\"dataframe\"><thead><tr><th>a</th><th>b</th><th>c</th></tr><tr><td>i64</td><td>i64</td><td>i64</td></tr></thead><tbody><tr><td>51</td><td>57</td><td>63</td></tr></tbody></table></div>"
      ],
      "text/plain": [
       "shape: (1, 3)\n",
       "┌─────┬─────┬─────┐\n",
       "│ a   ┆ b   ┆ c   │\n",
       "│ --- ┆ --- ┆ --- │\n",
       "│ i64 ┆ i64 ┆ i64 │\n",
       "╞═════╪═════╪═════╡\n",
       "│ 51  ┆ 57  ┆ 63  │\n",
       "└─────┴─────┴─────┘"
      ]
     },
     "execution_count": 19,
     "metadata": {},
     "output_type": "execute_result"
    }
   ],
   "source": [
    "# calculate totals by column:\n",
    "\n",
    "df.sum()"
   ]
  },
  {
   "cell_type": "code",
   "execution_count": 20,
   "id": "372b752a",
   "metadata": {},
   "outputs": [
    {
     "data": {
      "text/html": [
       "<div><style>\n",
       ".dataframe > thead > tr > th,\n",
       ".dataframe > tbody > tr > td {\n",
       "  text-align: right;\n",
       "}\n",
       "</style>\n",
       "<small>shape: (7, 3)</small><table border=\"1\" class=\"dataframe\"><thead><tr><th>a</th><th>b</th><th>c</th></tr><tr><td>i64</td><td>i64</td><td>i64</td></tr></thead><tbody><tr><td>1</td><td>2</td><td>3</td></tr><tr><td>4</td><td>5</td><td>6</td></tr><tr><td>7</td><td>8</td><td>9</td></tr><tr><td>10</td><td>11</td><td>12</td></tr><tr><td>13</td><td>14</td><td>15</td></tr><tr><td>16</td><td>17</td><td>18</td></tr><tr><td>51</td><td>57</td><td>63</td></tr></tbody></table></div>"
      ],
      "text/plain": [
       "shape: (7, 3)\n",
       "┌─────┬─────┬─────┐\n",
       "│ a   ┆ b   ┆ c   │\n",
       "│ --- ┆ --- ┆ --- │\n",
       "│ i64 ┆ i64 ┆ i64 │\n",
       "╞═════╪═════╪═════╡\n",
       "│ 1   ┆ 2   ┆ 3   │\n",
       "│ 4   ┆ 5   ┆ 6   │\n",
       "│ 7   ┆ 8   ┆ 9   │\n",
       "│ 10  ┆ 11  ┆ 12  │\n",
       "│ 13  ┆ 14  ┆ 15  │\n",
       "│ 16  ┆ 17  ┆ 18  │\n",
       "│ 51  ┆ 57  ┆ 63  │\n",
       "└─────┴─────┴─────┘"
      ]
     },
     "execution_count": 20,
     "metadata": {},
     "output_type": "execute_result"
    }
   ],
   "source": [
    "# add a row with totals at the bottom of the DataFrame\n",
    "\n",
    "pl.concat([df, df.sum()])"
   ]
  },
  {
   "cell_type": "code",
   "execution_count": 21,
   "id": "b628d6ec",
   "metadata": {},
   "outputs": [
    {
     "data": {
      "text/html": [
       "<div><style>\n",
       ".dataframe > thead > tr > th,\n",
       ".dataframe > tbody > tr > td {\n",
       "  text-align: right;\n",
       "}\n",
       "</style>\n",
       "<small>shape: (6,)</small><table border=\"1\" class=\"dataframe\"><thead><tr><th>a</th></tr><tr><td>i64</td></tr></thead><tbody><tr><td>6</td></tr><tr><td>15</td></tr><tr><td>24</td></tr><tr><td>33</td></tr><tr><td>42</td></tr><tr><td>51</td></tr></tbody></table></div>"
      ],
      "text/plain": [
       "shape: (6,)\n",
       "Series: 'a' [i64]\n",
       "[\n",
       "\t6\n",
       "\t15\n",
       "\t24\n",
       "\t33\n",
       "\t42\n",
       "\t51\n",
       "]"
      ]
     },
     "execution_count": 21,
     "metadata": {},
     "output_type": "execute_result"
    }
   ],
   "source": [
    "# sum by row\n",
    "\n",
    "df.sum(axis=1)"
   ]
  },
  {
   "cell_type": "code",
   "execution_count": 22,
   "id": "1196ea67",
   "metadata": {},
   "outputs": [
    {
     "data": {
      "text/html": [
       "<div><style>\n",
       ".dataframe > thead > tr > th,\n",
       ".dataframe > tbody > tr > td {\n",
       "  text-align: right;\n",
       "}\n",
       "</style>\n",
       "<small>shape: (6, 4)</small><table border=\"1\" class=\"dataframe\"><thead><tr><th>a</th><th>b</th><th>c</th><th>sum</th></tr><tr><td>i64</td><td>i64</td><td>i64</td><td>i64</td></tr></thead><tbody><tr><td>1</td><td>2</td><td>3</td><td>6</td></tr><tr><td>4</td><td>5</td><td>6</td><td>15</td></tr><tr><td>7</td><td>8</td><td>9</td><td>24</td></tr><tr><td>10</td><td>11</td><td>12</td><td>33</td></tr><tr><td>13</td><td>14</td><td>15</td><td>42</td></tr><tr><td>16</td><td>17</td><td>18</td><td>51</td></tr></tbody></table></div>"
      ],
      "text/plain": [
       "shape: (6, 4)\n",
       "┌─────┬─────┬─────┬─────┐\n",
       "│ a   ┆ b   ┆ c   ┆ sum │\n",
       "│ --- ┆ --- ┆ --- ┆ --- │\n",
       "│ i64 ┆ i64 ┆ i64 ┆ i64 │\n",
       "╞═════╪═════╪═════╪═════╡\n",
       "│ 1   ┆ 2   ┆ 3   ┆ 6   │\n",
       "│ 4   ┆ 5   ┆ 6   ┆ 15  │\n",
       "│ 7   ┆ 8   ┆ 9   ┆ 24  │\n",
       "│ 10  ┆ 11  ┆ 12  ┆ 33  │\n",
       "│ 13  ┆ 14  ┆ 15  ┆ 42  │\n",
       "│ 16  ┆ 17  ┆ 18  ┆ 51  │\n",
       "└─────┴─────┴─────┴─────┘"
      ]
     },
     "execution_count": 22,
     "metadata": {},
     "output_type": "execute_result"
    }
   ],
   "source": [
    "# add the sum by row as a new column:\n",
    "\n",
    "df.select(\n",
    "    [\n",
    "        pl.col('*'),\n",
    "        df.select(pl.col('*')).sum(axis=1).alias('sum')\n",
    "    ]\n",
    ")"
   ]
  },
  {
   "cell_type": "markdown",
   "id": "b9cc27e4",
   "metadata": {},
   "source": [
    "### Polars: change a value in a dataframe if a condition is met in another column\n",
    "\n",
    "https://stackoverflow.com/questions/75984983/polars-change-a-value-in-a-dataframe-if-a-condition-is-met-in-another-column \n",
    "\n",
    "This is similar to the \"UPDATE\" operation in SQL,\n",
    "<br>or using \"mask\" in Pandas "
   ]
  },
  {
   "cell_type": "code",
   "execution_count": 23,
   "id": "74154b49",
   "metadata": {},
   "outputs": [
    {
     "data": {
      "text/html": [
       "<div><style>\n",
       ".dataframe > thead > tr > th,\n",
       ".dataframe > tbody > tr > td {\n",
       "  text-align: right;\n",
       "}\n",
       "</style>\n",
       "<small>shape: (6, 3)</small><table border=\"1\" class=\"dataframe\"><thead><tr><th>a</th><th>b</th><th>c</th></tr><tr><td>i64</td><td>i64</td><td>i64</td></tr></thead><tbody><tr><td>1</td><td>2</td><td>3</td></tr><tr><td>555</td><td>5</td><td>6</td></tr><tr><td>7</td><td>8</td><td>9</td></tr><tr><td>10</td><td>11</td><td>12</td></tr><tr><td>13</td><td>14</td><td>15</td></tr><tr><td>16</td><td>17</td><td>18</td></tr></tbody></table></div>"
      ],
      "text/plain": [
       "shape: (6, 3)\n",
       "┌─────┬─────┬─────┐\n",
       "│ a   ┆ b   ┆ c   │\n",
       "│ --- ┆ --- ┆ --- │\n",
       "│ i64 ┆ i64 ┆ i64 │\n",
       "╞═════╪═════╪═════╡\n",
       "│ 1   ┆ 2   ┆ 3   │\n",
       "│ 555 ┆ 5   ┆ 6   │\n",
       "│ 7   ┆ 8   ┆ 9   │\n",
       "│ 10  ┆ 11  ┆ 12  │\n",
       "│ 13  ┆ 14  ┆ 15  │\n",
       "│ 16  ┆ 17  ┆ 18  │\n",
       "└─────┴─────┴─────┘"
      ]
     },
     "metadata": {},
     "output_type": "display_data"
    }
   ],
   "source": [
    "# change value in column \"a\" based on value in column \"b\"\n",
    "# here we use the **kwargs input of with_columns \n",
    "# to allow the column named to be on the left of an equal sign\n",
    "# as though it were a parameter to a function\n",
    "\n",
    "df2 = (df \n",
    "    .with_columns(\n",
    "        a = pl.when(pl.col('b') == 5)\n",
    "                .then(555)\n",
    "                .otherwise(pl.col('a')))\n",
    ")\n",
    "\n",
    "display(df2)"
   ]
  },
  {
   "cell_type": "code",
   "execution_count": 24,
   "id": "402e60f7",
   "metadata": {},
   "outputs": [
    {
     "data": {
      "text/html": [
       "<div><style>\n",
       ".dataframe > thead > tr > th,\n",
       ".dataframe > tbody > tr > td {\n",
       "  text-align: right;\n",
       "}\n",
       "</style>\n",
       "<small>shape: (6, 3)</small><table border=\"1\" class=\"dataframe\"><thead><tr><th>a</th><th>b</th><th>c</th></tr><tr><td>i64</td><td>i64</td><td>i64</td></tr></thead><tbody><tr><td>1</td><td>2</td><td>3</td></tr><tr><td>555</td><td>5</td><td>6</td></tr><tr><td>555</td><td>8</td><td>9</td></tr><tr><td>10</td><td>11</td><td>12</td></tr><tr><td>13</td><td>14</td><td>15</td></tr><tr><td>16</td><td>17</td><td>18</td></tr></tbody></table></div>"
      ],
      "text/plain": [
       "shape: (6, 3)\n",
       "┌─────┬─────┬─────┐\n",
       "│ a   ┆ b   ┆ c   │\n",
       "│ --- ┆ --- ┆ --- │\n",
       "│ i64 ┆ i64 ┆ i64 │\n",
       "╞═════╪═════╪═════╡\n",
       "│ 1   ┆ 2   ┆ 3   │\n",
       "│ 555 ┆ 5   ┆ 6   │\n",
       "│ 555 ┆ 8   ┆ 9   │\n",
       "│ 10  ┆ 11  ┆ 12  │\n",
       "│ 13  ┆ 14  ┆ 15  │\n",
       "│ 16  ┆ 17  ┆ 18  │\n",
       "└─────┴─────┴─────┘"
      ]
     },
     "metadata": {},
     "output_type": "display_data"
    }
   ],
   "source": [
    "# You can also use alias()\n",
    "# Note: we can check values in more than one column\n",
    "# Note: use parenthesis around (pl.when/then/otherwise) to avoid unexpected results. \n",
    "\n",
    "df2 = (df \n",
    "    .with_columns(\n",
    "        (pl.when( (pl.col('b') >= 5) & (pl.col('c') <= 9) )\n",
    "                .then(555)\n",
    "                .otherwise(pl.col('a'))\n",
    "        ).alias('a')\n",
    "                )\n",
    "      )\n",
    "\n",
    "display(df2)"
   ]
  },
  {
   "cell_type": "markdown",
   "id": "f6c80881",
   "metadata": {},
   "source": [
    "### Cheatsheet for Pandas to Polars\n",
    "\n",
    "https://www.rhosignal.com/posts/polars-pandas-cheatsheet/"
   ]
  },
  {
   "cell_type": "code",
   "execution_count": 25,
   "id": "cc48178e",
   "metadata": {},
   "outputs": [
    {
     "name": "stdout",
     "output_type": "stream",
     "text": [
      "['grp', 'x', 'y', 'z', 'index']\n",
      "6\n"
     ]
    },
    {
     "data": {
      "text/html": [
       "<div><style>\n",
       ".dataframe > thead > tr > th,\n",
       ".dataframe > tbody > tr > td {\n",
       "  text-align: right;\n",
       "}\n",
       "</style>\n",
       "<small>shape: (6, 5)</small><table border=\"1\" class=\"dataframe\"><thead><tr><th>grp</th><th>x</th><th>y</th><th>z</th><th>index</th></tr><tr><td>i64</td><td>i64</td><td>i64</td><td>i64</td><td>str</td></tr></thead><tbody><tr><td>1</td><td>6</td><td>4</td><td>3</td><td>&quot;a&quot;</td></tr><tr><td>2</td><td>5</td><td>5</td><td>4</td><td>&quot;b&quot;</td></tr><tr><td>1</td><td>4</td><td>6</td><td>5</td><td>&quot;c&quot;</td></tr><tr><td>2</td><td>3</td><td>7</td><td>6</td><td>&quot;d&quot;</td></tr><tr><td>1</td><td>2</td><td>8</td><td>7</td><td>&quot;e&quot;</td></tr><tr><td>2</td><td>1</td><td>9</td><td>null</td><td>&quot;f&quot;</td></tr></tbody></table></div>"
      ],
      "text/plain": [
       "shape: (6, 5)\n",
       "┌─────┬─────┬─────┬──────┬───────┐\n",
       "│ grp ┆ x   ┆ y   ┆ z    ┆ index │\n",
       "│ --- ┆ --- ┆ --- ┆ ---  ┆ ---   │\n",
       "│ i64 ┆ i64 ┆ i64 ┆ i64  ┆ str   │\n",
       "╞═════╪═════╪═════╪══════╪═══════╡\n",
       "│ 1   ┆ 6   ┆ 4   ┆ 3    ┆ a     │\n",
       "│ 2   ┆ 5   ┆ 5   ┆ 4    ┆ b     │\n",
       "│ 1   ┆ 4   ┆ 6   ┆ 5    ┆ c     │\n",
       "│ 2   ┆ 3   ┆ 7   ┆ 6    ┆ d     │\n",
       "│ 1   ┆ 2   ┆ 8   ┆ 7    ┆ e     │\n",
       "│ 2   ┆ 1   ┆ 9   ┆ null ┆ f     │\n",
       "└─────┴─────┴─────┴──────┴───────┘"
      ]
     },
     "metadata": {},
     "output_type": "display_data"
    }
   ],
   "source": [
    "df = pl.DataFrame({'grp': [1, 2, 1, 2, 1, 2],\n",
    "                   'x': list(range(6, 0, -1)),\n",
    "                   'y': list(range(4, 10)),\n",
    "                   'z': [3, 4, 5, 6, 7, None],\n",
    "                   \"index\" : list('abcdef')})\n",
    "print(df.columns)\n",
    "print(len(df))\n",
    "display(df)"
   ]
  },
  {
   "cell_type": "code",
   "execution_count": 26,
   "id": "f86fce80",
   "metadata": {},
   "outputs": [
    {
     "name": "stdout",
     "output_type": "stream",
     "text": [
      "5\n",
      "55\n",
      "shape: (6, 5)\n",
      "┌─────┬─────┬─────┬──────┬───────┐\n",
      "│ grp ┆ x   ┆ y   ┆ z    ┆ index │\n",
      "│ --- ┆ --- ┆ --- ┆ ---  ┆ ---   │\n",
      "│ i64 ┆ i64 ┆ i64 ┆ i64  ┆ str   │\n",
      "╞═════╪═════╪═════╪══════╪═══════╡\n",
      "│ 1   ┆ 6   ┆ 4   ┆ 3    ┆ a     │\n",
      "│ 2   ┆ 55  ┆ 5   ┆ 4    ┆ b     │\n",
      "│ 1   ┆ 4   ┆ 6   ┆ 5    ┆ c     │\n",
      "│ 2   ┆ 3   ┆ 7   ┆ 6    ┆ d     │\n",
      "│ 1   ┆ 2   ┆ 8   ┆ 7    ┆ e     │\n",
      "│ 2   ┆ 1   ┆ 9   ┆ null ┆ f     │\n",
      "└─────┴─────┴─────┴──────┴───────┘\n"
     ]
    }
   ],
   "source": [
    "# get/set value in single cell \n",
    "print(df[1, 1]) # 5\n",
    "df[1, 1] = 55\n",
    "print(df[1, 1]) # 5\n",
    "print(df)"
   ]
  },
  {
   "cell_type": "code",
   "execution_count": 27,
   "id": "278b6784",
   "metadata": {},
   "outputs": [
    {
     "data": {
      "text/html": [
       "<div><style>\n",
       ".dataframe > thead > tr > th,\n",
       ".dataframe > tbody > tr > td {\n",
       "  text-align: right;\n",
       "}\n",
       "</style>\n",
       "<small>shape: (2, 5)</small><table border=\"1\" class=\"dataframe\"><thead><tr><th>grp</th><th>x</th><th>y</th><th>z</th><th>index</th></tr><tr><td>i64</td><td>i64</td><td>i64</td><td>i64</td><td>str</td></tr></thead><tbody><tr><td>2</td><td>55</td><td>5</td><td>4</td><td>&quot;b&quot;</td></tr><tr><td>1</td><td>4</td><td>6</td><td>5</td><td>&quot;c&quot;</td></tr></tbody></table></div>"
      ],
      "text/plain": [
       "shape: (2, 5)\n",
       "┌─────┬─────┬─────┬─────┬───────┐\n",
       "│ grp ┆ x   ┆ y   ┆ z   ┆ index │\n",
       "│ --- ┆ --- ┆ --- ┆ --- ┆ ---   │\n",
       "│ i64 ┆ i64 ┆ i64 ┆ i64 ┆ str   │\n",
       "╞═════╪═════╪═════╪═════╪═══════╡\n",
       "│ 2   ┆ 55  ┆ 5   ┆ 4   ┆ b     │\n",
       "│ 1   ┆ 4   ┆ 6   ┆ 5   ┆ c     │\n",
       "└─────┴─────┴─────┴─────┴───────┘"
      ]
     },
     "execution_count": 27,
     "metadata": {},
     "output_type": "execute_result"
    }
   ],
   "source": [
    "# Row slicing by location\n",
    "df[1:3]"
   ]
  },
  {
   "cell_type": "code",
   "execution_count": 28,
   "id": "c660130d",
   "metadata": {},
   "outputs": [
    {
     "data": {
      "text/html": [
       "<div><style>\n",
       ".dataframe > thead > tr > th,\n",
       ".dataframe > tbody > tr > td {\n",
       "  text-align: right;\n",
       "}\n",
       "</style>\n",
       "<small>shape: (6, 4)</small><table border=\"1\" class=\"dataframe\"><thead><tr><th>x</th><th>y</th><th>z</th><th>index</th></tr><tr><td>i64</td><td>i64</td><td>i64</td><td>str</td></tr></thead><tbody><tr><td>6</td><td>4</td><td>3</td><td>&quot;a&quot;</td></tr><tr><td>55</td><td>5</td><td>4</td><td>&quot;b&quot;</td></tr><tr><td>4</td><td>6</td><td>5</td><td>&quot;c&quot;</td></tr><tr><td>3</td><td>7</td><td>6</td><td>&quot;d&quot;</td></tr><tr><td>2</td><td>8</td><td>7</td><td>&quot;e&quot;</td></tr><tr><td>1</td><td>9</td><td>null</td><td>&quot;f&quot;</td></tr></tbody></table></div>"
      ],
      "text/plain": [
       "shape: (6, 4)\n",
       "┌─────┬─────┬──────┬───────┐\n",
       "│ x   ┆ y   ┆ z    ┆ index │\n",
       "│ --- ┆ --- ┆ ---  ┆ ---   │\n",
       "│ i64 ┆ i64 ┆ i64  ┆ str   │\n",
       "╞═════╪═════╪══════╪═══════╡\n",
       "│ 6   ┆ 4   ┆ 3    ┆ a     │\n",
       "│ 55  ┆ 5   ┆ 4    ┆ b     │\n",
       "│ 4   ┆ 6   ┆ 5    ┆ c     │\n",
       "│ 3   ┆ 7   ┆ 6    ┆ d     │\n",
       "│ 2   ┆ 8   ┆ 7    ┆ e     │\n",
       "│ 1   ┆ 9   ┆ null ┆ f     │\n",
       "└─────┴─────┴──────┴───────┘"
      ]
     },
     "execution_count": 28,
     "metadata": {},
     "output_type": "execute_result"
    }
   ],
   "source": [
    "# Column slicing by location (removed \"grp\" column)\n",
    "df[:, 1:]"
   ]
  },
  {
   "cell_type": "code",
   "execution_count": 29,
   "id": "a7ad7b8a",
   "metadata": {},
   "outputs": [
    {
     "data": {
      "text/html": [
       "<div><style>\n",
       ".dataframe > thead > tr > th,\n",
       ".dataframe > tbody > tr > td {\n",
       "  text-align: right;\n",
       "}\n",
       "</style>\n",
       "<small>shape: (1, 5)</small><table border=\"1\" class=\"dataframe\"><thead><tr><th>grp</th><th>x</th><th>y</th><th>z</th><th>index</th></tr><tr><td>i64</td><td>i64</td><td>i64</td><td>i64</td><td>str</td></tr></thead><tbody><tr><td>1</td><td>4</td><td>6</td><td>5</td><td>&quot;c&quot;</td></tr></tbody></table></div>"
      ],
      "text/plain": [
       "shape: (1, 5)\n",
       "┌─────┬─────┬─────┬─────┬───────┐\n",
       "│ grp ┆ x   ┆ y   ┆ z   ┆ index │\n",
       "│ --- ┆ --- ┆ --- ┆ --- ┆ ---   │\n",
       "│ i64 ┆ i64 ┆ i64 ┆ i64 ┆ str   │\n",
       "╞═════╪═════╪═════╪═════╪═══════╡\n",
       "│ 1   ┆ 4   ┆ 6   ┆ 5   ┆ c     │\n",
       "└─────┴─────┴─────┴─────┴───────┘"
      ]
     },
     "execution_count": 29,
     "metadata": {},
     "output_type": "execute_result"
    }
   ],
   "source": [
    "# Row indexing by label\n",
    "df.filter(pl.col(\"index\") == \"c\")"
   ]
  },
  {
   "cell_type": "code",
   "execution_count": 30,
   "id": "7af88e9e",
   "metadata": {},
   "outputs": [
    {
     "name": "stdout",
     "output_type": "stream",
     "text": [
      "shape: (6, 1)\n",
      "┌─────┐\n",
      "│ x   │\n",
      "│ --- │\n",
      "│ i64 │\n",
      "╞═════╡\n",
      "│ 6   │\n",
      "│ 55  │\n",
      "│ 4   │\n",
      "│ 3   │\n",
      "│ 2   │\n",
      "│ 1   │\n",
      "└─────┘\n",
      "shape: (6, 1)\n",
      "┌─────┐\n",
      "│ x   │\n",
      "│ --- │\n",
      "│ i64 │\n",
      "╞═════╡\n",
      "│ 6   │\n",
      "│ 55  │\n",
      "│ 4   │\n",
      "│ 3   │\n",
      "│ 2   │\n",
      "│ 1   │\n",
      "└─────┘\n"
     ]
    }
   ],
   "source": [
    "# Column indexing by label\n",
    "print(df[:, \"x\"])\n",
    "print(df.select(\"x\"))"
   ]
  },
  {
   "cell_type": "code",
   "execution_count": 31,
   "id": "cf9986f2",
   "metadata": {},
   "outputs": [
    {
     "name": "stdout",
     "output_type": "stream",
     "text": [
      "shape: (6, 2)\n",
      "┌─────┬──────┐\n",
      "│ x   ┆ z    │\n",
      "│ --- ┆ ---  │\n",
      "│ i64 ┆ i64  │\n",
      "╞═════╪══════╡\n",
      "│ 6   ┆ 3    │\n",
      "│ 55  ┆ 4    │\n",
      "│ 4   ┆ 5    │\n",
      "│ 3   ┆ 6    │\n",
      "│ 2   ┆ 7    │\n",
      "│ 1   ┆ null │\n",
      "└─────┴──────┘\n",
      "shape: (6, 2)\n",
      "┌─────┬──────┐\n",
      "│ x   ┆ z    │\n",
      "│ --- ┆ ---  │\n",
      "│ i64 ┆ i64  │\n",
      "╞═════╪══════╡\n",
      "│ 6   ┆ 3    │\n",
      "│ 55  ┆ 4    │\n",
      "│ 4   ┆ 5    │\n",
      "│ 3   ┆ 6    │\n",
      "│ 2   ┆ 7    │\n",
      "│ 1   ┆ null │\n",
      "└─────┴──────┘\n"
     ]
    }
   ],
   "source": [
    "# Column indexing by labels\n",
    "print( df[:, ['x', 'z']] )\n",
    "print( df.select(['x', 'z']) )"
   ]
  },
  {
   "cell_type": "code",
   "execution_count": 32,
   "id": "4a2a67d7",
   "metadata": {},
   "outputs": [
    {
     "data": {
      "text/html": [
       "<div><style>\n",
       ".dataframe > thead > tr > th,\n",
       ".dataframe > tbody > tr > td {\n",
       "  text-align: right;\n",
       "}\n",
       "</style>\n",
       "<small>shape: (6, 3)</small><table border=\"1\" class=\"dataframe\"><thead><tr><th>x</th><th>y</th><th>z</th></tr><tr><td>i64</td><td>i64</td><td>i64</td></tr></thead><tbody><tr><td>6</td><td>4</td><td>3</td></tr><tr><td>55</td><td>5</td><td>4</td></tr><tr><td>4</td><td>6</td><td>5</td></tr><tr><td>3</td><td>7</td><td>6</td></tr><tr><td>2</td><td>8</td><td>7</td></tr><tr><td>1</td><td>9</td><td>null</td></tr></tbody></table></div>"
      ],
      "text/plain": [
       "shape: (6, 3)\n",
       "┌─────┬─────┬──────┐\n",
       "│ x   ┆ y   ┆ z    │\n",
       "│ --- ┆ --- ┆ ---  │\n",
       "│ i64 ┆ i64 ┆ i64  │\n",
       "╞═════╪═════╪══════╡\n",
       "│ 6   ┆ 4   ┆ 3    │\n",
       "│ 55  ┆ 5   ┆ 4    │\n",
       "│ 4   ┆ 6   ┆ 5    │\n",
       "│ 3   ┆ 7   ┆ 6    │\n",
       "│ 2   ┆ 8   ┆ 7    │\n",
       "│ 1   ┆ 9   ┆ null │\n",
       "└─────┴─────┴──────┘"
      ]
     },
     "execution_count": 32,
     "metadata": {},
     "output_type": "execute_result"
    }
   ],
   "source": [
    "# Column slicing by label\n",
    "df[:, \"x\":\"z\"]"
   ]
  },
  {
   "cell_type": "code",
   "execution_count": 33,
   "id": "91a9e687",
   "metadata": {},
   "outputs": [
    {
     "data": {
      "text/plain": [
       "4"
      ]
     },
     "execution_count": 33,
     "metadata": {},
     "output_type": "execute_result"
    }
   ],
   "source": [
    "# Mixed indexing\n",
    "df.filter(pl.col(\"index\") == \"c\")[0, 1]"
   ]
  },
  {
   "cell_type": "code",
   "execution_count": 34,
   "id": "92346727",
   "metadata": {},
   "outputs": [
    {
     "data": {
      "text/plain": [
       "5.0"
      ]
     },
     "execution_count": 34,
     "metadata": {},
     "output_type": "execute_result"
    }
   ],
   "source": [
    "# Reduce multiple values (mean, sum, ...)\n",
    "df['z'].mean()"
   ]
  },
  {
   "cell_type": "code",
   "execution_count": 35,
   "id": "57dd4925",
   "metadata": {},
   "outputs": [
    {
     "data": {
      "text/html": [
       "<div><style>\n",
       ".dataframe > thead > tr > th,\n",
       ".dataframe > tbody > tr > td {\n",
       "  text-align: right;\n",
       "}\n",
       "</style>\n",
       "<small>shape: (1, 1)</small><table border=\"1\" class=\"dataframe\"><thead><tr><th>z</th></tr><tr><td>f64</td></tr></thead><tbody><tr><td>5.0</td></tr></tbody></table></div>"
      ],
      "text/plain": [
       "shape: (1, 1)\n",
       "┌─────┐\n",
       "│ z   │\n",
       "│ --- │\n",
       "│ f64 │\n",
       "╞═════╡\n",
       "│ 5.0 │\n",
       "└─────┘"
      ]
     },
     "execution_count": 35,
     "metadata": {},
     "output_type": "execute_result"
    }
   ],
   "source": [
    "df.select(pl.col(\"z\").mean())"
   ]
  },
  {
   "cell_type": "code",
   "execution_count": 36,
   "id": "9183bda4",
   "metadata": {},
   "outputs": [
    {
     "data": {
      "text/html": [
       "<div><style>\n",
       ".dataframe > thead > tr > th,\n",
       ".dataframe > tbody > tr > td {\n",
       "  text-align: right;\n",
       "}\n",
       "</style>\n",
       "<small>shape: (6, 6)</small><table border=\"1\" class=\"dataframe\"><thead><tr><th>grp</th><th>x</th><th>y</th><th>z</th><th>index</th><th>z1</th></tr><tr><td>i64</td><td>i64</td><td>i64</td><td>i64</td><td>str</td><td>i64</td></tr></thead><tbody><tr><td>1</td><td>6</td><td>4</td><td>3</td><td>&quot;a&quot;</td><td>4</td></tr><tr><td>2</td><td>55</td><td>5</td><td>4</td><td>&quot;b&quot;</td><td>5</td></tr><tr><td>1</td><td>4</td><td>6</td><td>5</td><td>&quot;c&quot;</td><td>6</td></tr><tr><td>2</td><td>3</td><td>7</td><td>6</td><td>&quot;d&quot;</td><td>7</td></tr><tr><td>1</td><td>2</td><td>8</td><td>7</td><td>&quot;e&quot;</td><td>8</td></tr><tr><td>2</td><td>1</td><td>9</td><td>null</td><td>&quot;f&quot;</td><td>null</td></tr></tbody></table></div>"
      ],
      "text/plain": [
       "shape: (6, 6)\n",
       "┌─────┬─────┬─────┬──────┬───────┬──────┐\n",
       "│ grp ┆ x   ┆ y   ┆ z    ┆ index ┆ z1   │\n",
       "│ --- ┆ --- ┆ --- ┆ ---  ┆ ---   ┆ ---  │\n",
       "│ i64 ┆ i64 ┆ i64 ┆ i64  ┆ str   ┆ i64  │\n",
       "╞═════╪═════╪═════╪══════╪═══════╪══════╡\n",
       "│ 1   ┆ 6   ┆ 4   ┆ 3    ┆ a     ┆ 4    │\n",
       "│ 2   ┆ 55  ┆ 5   ┆ 4    ┆ b     ┆ 5    │\n",
       "│ 1   ┆ 4   ┆ 6   ┆ 5    ┆ c     ┆ 6    │\n",
       "│ 2   ┆ 3   ┆ 7   ┆ 6    ┆ d     ┆ 7    │\n",
       "│ 1   ┆ 2   ┆ 8   ┆ 7    ┆ e     ┆ 8    │\n",
       "│ 2   ┆ 1   ┆ 9   ┆ null ┆ f     ┆ null │\n",
       "└─────┴─────┴─────┴──────┴───────┴──────┘"
      ]
     },
     "execution_count": 36,
     "metadata": {},
     "output_type": "execute_result"
    }
   ],
   "source": [
    "# Add new column\n",
    "df.with_columns((pl.col(\"z\") + 1).alias(\"z1\"))"
   ]
  },
  {
   "cell_type": "code",
   "execution_count": 37,
   "id": "3c513069",
   "metadata": {},
   "outputs": [
    {
     "data": {
      "text/html": [
       "<div><style>\n",
       ".dataframe > thead > tr > th,\n",
       ".dataframe > tbody > tr > td {\n",
       "  text-align: right;\n",
       "}\n",
       "</style>\n",
       "<small>shape: (6, 5)</small><table border=\"1\" class=\"dataframe\"><thead><tr><th>grp</th><th>x_new</th><th>y</th><th>z</th><th>index</th></tr><tr><td>i64</td><td>i64</td><td>i64</td><td>i64</td><td>str</td></tr></thead><tbody><tr><td>1</td><td>6</td><td>4</td><td>3</td><td>&quot;a&quot;</td></tr><tr><td>2</td><td>55</td><td>5</td><td>4</td><td>&quot;b&quot;</td></tr><tr><td>1</td><td>4</td><td>6</td><td>5</td><td>&quot;c&quot;</td></tr><tr><td>2</td><td>3</td><td>7</td><td>6</td><td>&quot;d&quot;</td></tr><tr><td>1</td><td>2</td><td>8</td><td>7</td><td>&quot;e&quot;</td></tr><tr><td>2</td><td>1</td><td>9</td><td>null</td><td>&quot;f&quot;</td></tr></tbody></table></div>"
      ],
      "text/plain": [
       "shape: (6, 5)\n",
       "┌─────┬───────┬─────┬──────┬───────┐\n",
       "│ grp ┆ x_new ┆ y   ┆ z    ┆ index │\n",
       "│ --- ┆ ---   ┆ --- ┆ ---  ┆ ---   │\n",
       "│ i64 ┆ i64   ┆ i64 ┆ i64  ┆ str   │\n",
       "╞═════╪═══════╪═════╪══════╪═══════╡\n",
       "│ 1   ┆ 6     ┆ 4   ┆ 3    ┆ a     │\n",
       "│ 2   ┆ 55    ┆ 5   ┆ 4    ┆ b     │\n",
       "│ 1   ┆ 4     ┆ 6   ┆ 5    ┆ c     │\n",
       "│ 2   ┆ 3     ┆ 7   ┆ 6    ┆ d     │\n",
       "│ 1   ┆ 2     ┆ 8   ┆ 7    ┆ e     │\n",
       "│ 2   ┆ 1     ┆ 9   ┆ null ┆ f     │\n",
       "└─────┴───────┴─────┴──────┴───────┘"
      ]
     },
     "execution_count": 37,
     "metadata": {},
     "output_type": "execute_result"
    }
   ],
   "source": [
    "# Rename columns\n",
    "df.rename({\"x\": \"x_new\"})"
   ]
  },
  {
   "cell_type": "code",
   "execution_count": 38,
   "id": "49ebf0cb",
   "metadata": {},
   "outputs": [
    {
     "data": {
      "text/html": [
       "<div><style>\n",
       ".dataframe > thead > tr > th,\n",
       ".dataframe > tbody > tr > td {\n",
       "  text-align: right;\n",
       "}\n",
       "</style>\n",
       "<small>shape: (6, 3)</small><table border=\"1\" class=\"dataframe\"><thead><tr><th>grp</th><th>z</th><th>index</th></tr><tr><td>i64</td><td>i64</td><td>str</td></tr></thead><tbody><tr><td>1</td><td>3</td><td>&quot;a&quot;</td></tr><tr><td>2</td><td>4</td><td>&quot;b&quot;</td></tr><tr><td>1</td><td>5</td><td>&quot;c&quot;</td></tr><tr><td>2</td><td>6</td><td>&quot;d&quot;</td></tr><tr><td>1</td><td>7</td><td>&quot;e&quot;</td></tr><tr><td>2</td><td>null</td><td>&quot;f&quot;</td></tr></tbody></table></div>"
      ],
      "text/plain": [
       "shape: (6, 3)\n",
       "┌─────┬──────┬───────┐\n",
       "│ grp ┆ z    ┆ index │\n",
       "│ --- ┆ ---  ┆ ---   │\n",
       "│ i64 ┆ i64  ┆ str   │\n",
       "╞═════╪══════╪═══════╡\n",
       "│ 1   ┆ 3    ┆ a     │\n",
       "│ 2   ┆ 4    ┆ b     │\n",
       "│ 1   ┆ 5    ┆ c     │\n",
       "│ 2   ┆ 6    ┆ d     │\n",
       "│ 1   ┆ 7    ┆ e     │\n",
       "│ 2   ┆ null ┆ f     │\n",
       "└─────┴──────┴───────┘"
      ]
     },
     "execution_count": 38,
     "metadata": {},
     "output_type": "execute_result"
    }
   ],
   "source": [
    "# Drop columns\n",
    "df.drop(['x','y'])"
   ]
  },
  {
   "cell_type": "code",
   "execution_count": 39,
   "id": "b5f8b098",
   "metadata": {},
   "outputs": [
    {
     "data": {
      "text/html": [
       "<div><style>\n",
       ".dataframe > thead > tr > th,\n",
       ".dataframe > tbody > tr > td {\n",
       "  text-align: right;\n",
       "}\n",
       "</style>\n",
       "<small>shape: (6, 5)</small><table border=\"1\" class=\"dataframe\"><thead><tr><th>grp</th><th>x</th><th>y</th><th>z</th><th>index</th></tr><tr><td>i64</td><td>i64</td><td>i64</td><td>i64</td><td>str</td></tr></thead><tbody><tr><td>2</td><td>1</td><td>9</td><td>null</td><td>&quot;f&quot;</td></tr><tr><td>1</td><td>2</td><td>8</td><td>7</td><td>&quot;e&quot;</td></tr><tr><td>2</td><td>3</td><td>7</td><td>6</td><td>&quot;d&quot;</td></tr><tr><td>1</td><td>4</td><td>6</td><td>5</td><td>&quot;c&quot;</td></tr><tr><td>1</td><td>6</td><td>4</td><td>3</td><td>&quot;a&quot;</td></tr><tr><td>2</td><td>55</td><td>5</td><td>4</td><td>&quot;b&quot;</td></tr></tbody></table></div>"
      ],
      "text/plain": [
       "shape: (6, 5)\n",
       "┌─────┬─────┬─────┬──────┬───────┐\n",
       "│ grp ┆ x   ┆ y   ┆ z    ┆ index │\n",
       "│ --- ┆ --- ┆ --- ┆ ---  ┆ ---   │\n",
       "│ i64 ┆ i64 ┆ i64 ┆ i64  ┆ str   │\n",
       "╞═════╪═════╪═════╪══════╪═══════╡\n",
       "│ 2   ┆ 1   ┆ 9   ┆ null ┆ f     │\n",
       "│ 1   ┆ 2   ┆ 8   ┆ 7    ┆ e     │\n",
       "│ 2   ┆ 3   ┆ 7   ┆ 6    ┆ d     │\n",
       "│ 1   ┆ 4   ┆ 6   ┆ 5    ┆ c     │\n",
       "│ 1   ┆ 6   ┆ 4   ┆ 3    ┆ a     │\n",
       "│ 2   ┆ 55  ┆ 5   ┆ 4    ┆ b     │\n",
       "└─────┴─────┴─────┴──────┴───────┘"
      ]
     },
     "execution_count": 39,
     "metadata": {},
     "output_type": "execute_result"
    }
   ],
   "source": [
    "# Sort rows by a column\n",
    "df.sort(\"x\")"
   ]
  },
  {
   "cell_type": "code",
   "execution_count": 40,
   "id": "e21563f2",
   "metadata": {},
   "outputs": [
    {
     "data": {
      "text/html": [
       "<div><style>\n",
       ".dataframe > thead > tr > th,\n",
       ".dataframe > tbody > tr > td {\n",
       "  text-align: right;\n",
       "}\n",
       "</style>\n",
       "<small>shape: (5, 5)</small><table border=\"1\" class=\"dataframe\"><thead><tr><th>grp</th><th>x</th><th>y</th><th>z</th><th>index</th></tr><tr><td>i64</td><td>i64</td><td>i64</td><td>i64</td><td>str</td></tr></thead><tbody><tr><td>1</td><td>6</td><td>4</td><td>3</td><td>&quot;a&quot;</td></tr><tr><td>2</td><td>55</td><td>5</td><td>4</td><td>&quot;b&quot;</td></tr><tr><td>1</td><td>4</td><td>6</td><td>5</td><td>&quot;c&quot;</td></tr><tr><td>2</td><td>3</td><td>7</td><td>6</td><td>&quot;d&quot;</td></tr><tr><td>1</td><td>2</td><td>8</td><td>7</td><td>&quot;e&quot;</td></tr></tbody></table></div>"
      ],
      "text/plain": [
       "shape: (5, 5)\n",
       "┌─────┬─────┬─────┬─────┬───────┐\n",
       "│ grp ┆ x   ┆ y   ┆ z   ┆ index │\n",
       "│ --- ┆ --- ┆ --- ┆ --- ┆ ---   │\n",
       "│ i64 ┆ i64 ┆ i64 ┆ i64 ┆ str   │\n",
       "╞═════╪═════╪═════╪═════╪═══════╡\n",
       "│ 1   ┆ 6   ┆ 4   ┆ 3   ┆ a     │\n",
       "│ 2   ┆ 55  ┆ 5   ┆ 4   ┆ b     │\n",
       "│ 1   ┆ 4   ┆ 6   ┆ 5   ┆ c     │\n",
       "│ 2   ┆ 3   ┆ 7   ┆ 6   ┆ d     │\n",
       "│ 1   ┆ 2   ┆ 8   ┆ 7   ┆ e     │\n",
       "└─────┴─────┴─────┴─────┴───────┘"
      ]
     },
     "execution_count": 40,
     "metadata": {},
     "output_type": "execute_result"
    }
   ],
   "source": [
    "# Drop rows with missing values\n",
    "df.drop_nulls()"
   ]
  },
  {
   "cell_type": "code",
   "execution_count": 41,
   "id": "eba28fb2",
   "metadata": {},
   "outputs": [
    {
     "data": {
      "text/html": [
       "<div><style>\n",
       ".dataframe > thead > tr > th,\n",
       ".dataframe > tbody > tr > td {\n",
       "  text-align: right;\n",
       "}\n",
       "</style>\n",
       "<small>shape: (6, 5)</small><table border=\"1\" class=\"dataframe\"><thead><tr><th>grp</th><th>x</th><th>y</th><th>z</th><th>index</th></tr><tr><td>i64</td><td>i64</td><td>i64</td><td>i64</td><td>str</td></tr></thead><tbody><tr><td>1</td><td>6</td><td>4</td><td>3</td><td>&quot;a&quot;</td></tr><tr><td>2</td><td>55</td><td>5</td><td>4</td><td>&quot;b&quot;</td></tr><tr><td>1</td><td>4</td><td>6</td><td>5</td><td>&quot;c&quot;</td></tr><tr><td>2</td><td>3</td><td>7</td><td>6</td><td>&quot;d&quot;</td></tr><tr><td>1</td><td>2</td><td>8</td><td>7</td><td>&quot;e&quot;</td></tr><tr><td>2</td><td>1</td><td>9</td><td>null</td><td>&quot;f&quot;</td></tr></tbody></table></div>"
      ],
      "text/plain": [
       "shape: (6, 5)\n",
       "┌─────┬─────┬─────┬──────┬───────┐\n",
       "│ grp ┆ x   ┆ y   ┆ z    ┆ index │\n",
       "│ --- ┆ --- ┆ --- ┆ ---  ┆ ---   │\n",
       "│ i64 ┆ i64 ┆ i64 ┆ i64  ┆ str   │\n",
       "╞═════╪═════╪═════╪══════╪═══════╡\n",
       "│ 1   ┆ 6   ┆ 4   ┆ 3    ┆ a     │\n",
       "│ 2   ┆ 55  ┆ 5   ┆ 4    ┆ b     │\n",
       "│ 1   ┆ 4   ┆ 6   ┆ 5    ┆ c     │\n",
       "│ 2   ┆ 3   ┆ 7   ┆ 6    ┆ d     │\n",
       "│ 1   ┆ 2   ┆ 8   ┆ 7    ┆ e     │\n",
       "│ 2   ┆ 1   ┆ 9   ┆ null ┆ f     │\n",
       "└─────┴─────┴─────┴──────┴───────┘"
      ]
     },
     "execution_count": 41,
     "metadata": {},
     "output_type": "execute_result"
    }
   ],
   "source": [
    "# Select unique rows\n",
    "df.unique()"
   ]
  },
  {
   "cell_type": "markdown",
   "id": "f3ebb0a5",
   "metadata": {},
   "source": [
    "### concat, extend, or vstack\n",
    "\n",
    "https://www.rhosignal.com/posts/polars-extend-vstack/    \n",
    "\n",
    "- pl.concat([df1,df2]) copies all the data to a single new location\n",
    "- df1.vstack(df2) does not copy data, it just links the new DataFrame to the existing two locations in memory\n",
    "- df1.extend(df2) copies the data from df2 and appends it to the data for df1"
   ]
  },
  {
   "cell_type": "code",
   "execution_count": 42,
   "id": "d78e30f3",
   "metadata": {},
   "outputs": [
    {
     "data": {
      "text/html": [
       "<div><style>\n",
       ".dataframe > thead > tr > th,\n",
       ".dataframe > tbody > tr > td {\n",
       "  text-align: right;\n",
       "}\n",
       "</style>\n",
       "<small>shape: (12, 5)</small><table border=\"1\" class=\"dataframe\"><thead><tr><th>grp</th><th>x</th><th>y</th><th>z</th><th>index</th></tr><tr><td>i64</td><td>i64</td><td>i64</td><td>i64</td><td>str</td></tr></thead><tbody><tr><td>1</td><td>6</td><td>4</td><td>3</td><td>&quot;a&quot;</td></tr><tr><td>2</td><td>55</td><td>5</td><td>4</td><td>&quot;b&quot;</td></tr><tr><td>1</td><td>4</td><td>6</td><td>5</td><td>&quot;c&quot;</td></tr><tr><td>2</td><td>3</td><td>7</td><td>6</td><td>&quot;d&quot;</td></tr><tr><td>1</td><td>2</td><td>8</td><td>7</td><td>&quot;e&quot;</td></tr><tr><td>2</td><td>1</td><td>9</td><td>null</td><td>&quot;f&quot;</td></tr><tr><td>1</td><td>6</td><td>4</td><td>3</td><td>&quot;a&quot;</td></tr><tr><td>2</td><td>55</td><td>5</td><td>4</td><td>&quot;b&quot;</td></tr><tr><td>1</td><td>4</td><td>6</td><td>5</td><td>&quot;c&quot;</td></tr><tr><td>2</td><td>3</td><td>7</td><td>6</td><td>&quot;d&quot;</td></tr><tr><td>1</td><td>2</td><td>8</td><td>7</td><td>&quot;e&quot;</td></tr><tr><td>2</td><td>1</td><td>9</td><td>null</td><td>&quot;f&quot;</td></tr></tbody></table></div>"
      ],
      "text/plain": [
       "shape: (12, 5)\n",
       "┌─────┬─────┬─────┬──────┬───────┐\n",
       "│ grp ┆ x   ┆ y   ┆ z    ┆ index │\n",
       "│ --- ┆ --- ┆ --- ┆ ---  ┆ ---   │\n",
       "│ i64 ┆ i64 ┆ i64 ┆ i64  ┆ str   │\n",
       "╞═════╪═════╪═════╪══════╪═══════╡\n",
       "│ 1   ┆ 6   ┆ 4   ┆ 3    ┆ a     │\n",
       "│ 2   ┆ 55  ┆ 5   ┆ 4    ┆ b     │\n",
       "│ 1   ┆ 4   ┆ 6   ┆ 5    ┆ c     │\n",
       "│ 2   ┆ 3   ┆ 7   ┆ 6    ┆ d     │\n",
       "│ ... ┆ ... ┆ ... ┆ ...  ┆ ...   │\n",
       "│ 1   ┆ 4   ┆ 6   ┆ 5    ┆ c     │\n",
       "│ 2   ┆ 3   ┆ 7   ┆ 6    ┆ d     │\n",
       "│ 1   ┆ 2   ┆ 8   ┆ 7    ┆ e     │\n",
       "│ 2   ┆ 1   ┆ 9   ┆ null ┆ f     │\n",
       "└─────┴─────┴─────┴──────┴───────┘"
      ]
     },
     "execution_count": 42,
     "metadata": {},
     "output_type": "execute_result"
    }
   ],
   "source": [
    "pl.concat([df,df]) "
   ]
  },
  {
   "cell_type": "code",
   "execution_count": 43,
   "id": "cfb06833",
   "metadata": {},
   "outputs": [
    {
     "data": {
      "text/html": [
       "<div><style>\n",
       ".dataframe > thead > tr > th,\n",
       ".dataframe > tbody > tr > td {\n",
       "  text-align: right;\n",
       "}\n",
       "</style>\n",
       "<small>shape: (12, 5)</small><table border=\"1\" class=\"dataframe\"><thead><tr><th>grp</th><th>x</th><th>y</th><th>z</th><th>index</th></tr><tr><td>i64</td><td>i64</td><td>i64</td><td>i64</td><td>str</td></tr></thead><tbody><tr><td>1</td><td>6</td><td>4</td><td>3</td><td>&quot;a&quot;</td></tr><tr><td>2</td><td>55</td><td>5</td><td>4</td><td>&quot;b&quot;</td></tr><tr><td>1</td><td>4</td><td>6</td><td>5</td><td>&quot;c&quot;</td></tr><tr><td>2</td><td>3</td><td>7</td><td>6</td><td>&quot;d&quot;</td></tr><tr><td>1</td><td>2</td><td>8</td><td>7</td><td>&quot;e&quot;</td></tr><tr><td>2</td><td>1</td><td>9</td><td>null</td><td>&quot;f&quot;</td></tr><tr><td>1</td><td>6</td><td>4</td><td>3</td><td>&quot;a&quot;</td></tr><tr><td>2</td><td>55</td><td>5</td><td>4</td><td>&quot;b&quot;</td></tr><tr><td>1</td><td>4</td><td>6</td><td>5</td><td>&quot;c&quot;</td></tr><tr><td>2</td><td>3</td><td>7</td><td>6</td><td>&quot;d&quot;</td></tr><tr><td>1</td><td>2</td><td>8</td><td>7</td><td>&quot;e&quot;</td></tr><tr><td>2</td><td>1</td><td>9</td><td>null</td><td>&quot;f&quot;</td></tr></tbody></table></div>"
      ],
      "text/plain": [
       "shape: (12, 5)\n",
       "┌─────┬─────┬─────┬──────┬───────┐\n",
       "│ grp ┆ x   ┆ y   ┆ z    ┆ index │\n",
       "│ --- ┆ --- ┆ --- ┆ ---  ┆ ---   │\n",
       "│ i64 ┆ i64 ┆ i64 ┆ i64  ┆ str   │\n",
       "╞═════╪═════╪═════╪══════╪═══════╡\n",
       "│ 1   ┆ 6   ┆ 4   ┆ 3    ┆ a     │\n",
       "│ 2   ┆ 55  ┆ 5   ┆ 4    ┆ b     │\n",
       "│ 1   ┆ 4   ┆ 6   ┆ 5    ┆ c     │\n",
       "│ 2   ┆ 3   ┆ 7   ┆ 6    ┆ d     │\n",
       "│ ... ┆ ... ┆ ... ┆ ...  ┆ ...   │\n",
       "│ 1   ┆ 4   ┆ 6   ┆ 5    ┆ c     │\n",
       "│ 2   ┆ 3   ┆ 7   ┆ 6    ┆ d     │\n",
       "│ 1   ┆ 2   ┆ 8   ┆ 7    ┆ e     │\n",
       "│ 2   ┆ 1   ┆ 9   ┆ null ┆ f     │\n",
       "└─────┴─────┴─────┴──────┴───────┘"
      ]
     },
     "execution_count": 43,
     "metadata": {},
     "output_type": "execute_result"
    }
   ],
   "source": [
    "# you can not \"extend()\" a DataFrame with itself.\n",
    "# so first we make a copy using the \"clone()\" command\n",
    "df2 = df.clone()\n",
    "df2.extend(df)"
   ]
  },
  {
   "cell_type": "code",
   "execution_count": 44,
   "id": "2aee7627",
   "metadata": {},
   "outputs": [
    {
     "data": {
      "text/html": [
       "<div><style>\n",
       ".dataframe > thead > tr > th,\n",
       ".dataframe > tbody > tr > td {\n",
       "  text-align: right;\n",
       "}\n",
       "</style>\n",
       "<small>shape: (1, 3)</small><table border=\"1\" class=\"dataframe\"><thead><tr><th>A</th><th>B</th><th>C</th></tr><tr><td>u32</td><td>u32</td><td>u32</td></tr></thead><tbody><tr><td>1</td><td>2</td><td>1</td></tr></tbody></table></div>"
      ],
      "text/plain": [
       "shape: (1, 3)\n",
       "┌─────┬─────┬─────┐\n",
       "│ A   ┆ B   ┆ C   │\n",
       "│ --- ┆ --- ┆ --- │\n",
       "│ u32 ┆ u32 ┆ u32 │\n",
       "╞═════╪═════╪═════╡\n",
       "│ 1   ┆ 2   ┆ 1   │\n",
       "└─────┴─────┴─────┘"
      ]
     },
     "metadata": {},
     "output_type": "display_data"
    },
    {
     "name": "stdout",
     "output_type": "stream",
     "text": [
      "-----------------\n",
      "Total number of nulls: 4\n"
     ]
    }
   ],
   "source": [
    "# counting number of nulls int he whole DataFrame\n",
    "\n",
    "# Create a sample DataFrame\n",
    "data = {\n",
    "    \"A\": [1, 2, None, 4, 5],\n",
    "    \"B\": [None, 2, 3, 4, None],\n",
    "    \"C\": [1, 2, 3, None, 5],\n",
    "}\n",
    "\n",
    "df = pl.DataFrame(data)\n",
    "\n",
    "# print number of nulls in each column:\n",
    "dfn = df.null_count()\n",
    "display(dfn)\n",
    "print(\"-----------------\")\n",
    "# calculate total number of nulls in DataFrame\n",
    "df_nulls = 0\n",
    "for col in dfn.columns:\n",
    "    df_nulls += dfn[col][0]\n",
    "print(f\"Total number of nulls: {df_nulls}\")"
   ]
  },
  {
   "cell_type": "code",
   "execution_count": 45,
   "id": "dc929881",
   "metadata": {},
   "outputs": [
    {
     "name": "stdout",
     "output_type": "stream",
     "text": [
      "shape: (3, 3)\n",
      "┌─────┬─────┬─────┐\n",
      "│ 0   ┆ 1   ┆ 2   │\n",
      "│ --- ┆ --- ┆ --- │\n",
      "│ i64 ┆ i64 ┆ i64 │\n",
      "╞═════╪═════╪═════╡\n",
      "│ 1   ┆ 2   ┆ 3   │\n",
      "│ 4   ┆ 5   ┆ 6   │\n",
      "│ 7   ┆ 8   ┆ 9   │\n",
      "└─────┴─────┴─────┘\n"
     ]
    }
   ],
   "source": [
    "# There is no transpose function built-in\n",
    "# but you can write your own.\n",
    "# You can first convert DataFrame into a dict of columns using df.to_dict()\n",
    "# Or you can go through columns using df[col].to_list()\n",
    "# Or you can jsut take values one by one from the DataFrame like that:\n",
    "\n",
    "def T(df):\n",
    "    t_data = {}\n",
    "    for i in range(df.height):        \n",
    "        row_vals = []\n",
    "        for c in range(df.width):\n",
    "            row_vals.append(df[i,c])\n",
    "        t_data[str(i)] = row_vals\n",
    "    return pl.DataFrame(t_data)\n",
    "\n",
    "# Create a sample DataFrame\n",
    "data = {\n",
    "    \"A\": [1, 2, 3],\n",
    "    \"B\": [4, 5, 6],\n",
    "    \"C\": [7, 8, 9],\n",
    "}\n",
    "\n",
    "df = pl.DataFrame(data)\n",
    "\n",
    "# Transpose the DataFrame\n",
    "transposed_df = T(df)\n",
    "print(transposed_df)"
   ]
  },
  {
   "cell_type": "code",
   "execution_count": 46,
   "id": "0bc7609c",
   "metadata": {},
   "outputs": [
    {
     "data": {
      "text/plain": [
       "[1, 2, 3]"
      ]
     },
     "execution_count": 46,
     "metadata": {},
     "output_type": "execute_result"
    }
   ],
   "source": [
    "# get column values\n",
    "df['A'].to_list()"
   ]
  },
  {
   "cell_type": "code",
   "execution_count": 47,
   "id": "f6cf8aba",
   "metadata": {},
   "outputs": [
    {
     "data": {
      "text/html": [
       "<div><style>\n",
       ".dataframe > thead > tr > th,\n",
       ".dataframe > tbody > tr > td {\n",
       "  text-align: right;\n",
       "}\n",
       "</style>\n",
       "<small>shape: (3,)</small><table border=\"1\" class=\"dataframe\"><thead><tr><th>A</th></tr><tr><td>i64</td></tr></thead><tbody><tr><td>1</td></tr><tr><td>2</td></tr><tr><td>3</td></tr></tbody></table></div>"
      ],
      "text/plain": [
       "shape: (3,)\n",
       "Series: 'A' [i64]\n",
       "[\n",
       "\t1\n",
       "\t2\n",
       "\t3\n",
       "]"
      ]
     },
     "metadata": {},
     "output_type": "display_data"
    },
    {
     "name": "stdout",
     "output_type": "stream",
     "text": [
      "--------------------------\n",
      "convert Polars column/Series to numpy using s.to_numpy()\n",
      "<class 'numpy.ndarray'> [1 2 3]\n",
      "convert Polars column/Series to list\n",
      "<class 'list'> [1, 2, 3]\n",
      "--------------------------\n",
      "convert whole Polars DataFrame to Numpy using df.to_numpy()\n",
      "[[1 4 7]\n",
      " [2 5 8]\n",
      " [3 6 9]]\n",
      "--------------------------\n",
      "convert whole Polars DataFrame to list of lists\n",
      "[[1, 2, 3], [4, 5, 6], [7, 8, 9]]\n",
      "convert whole Polars DataFrame to list of tuples\n",
      "[(1, 2, 3), (4, 5, 6), (7, 8, 9)]\n"
     ]
    }
   ],
   "source": [
    "# get column as a series\n",
    "s = df['A']\n",
    "display(s)\n",
    "print(\"--------------------------\")\n",
    "print(\"convert Polars column/Series to numpy using s.to_numpy()\")\n",
    "num_arr = df['A'].to_numpy()\n",
    "print(type(num_arr),num_arr)\n",
    "print(\"convert Polars column/Series to list\")\n",
    "mylist = df['A'].to_list()\n",
    "print(type(mylist),mylist)\n",
    "print(\"--------------------------\")\n",
    "print(\"convert whole Polars DataFrame to Numpy using df.to_numpy()\")\n",
    "print(df.to_numpy())\n",
    "print(\"--------------------------\")\n",
    "print(\"convert whole Polars DataFrame to list of lists\")\n",
    "list_of_lists = list([list(row) for row in df])\n",
    "print(list_of_lists)\n",
    "print(\"convert whole Polars DataFrame to list of tuples\")\n",
    "list_of_tuples = list([tuple(row) for row in df])\n",
    "print(list_of_tuples)"
   ]
  },
  {
   "cell_type": "code",
   "execution_count": 48,
   "id": "e6b00b32",
   "metadata": {},
   "outputs": [
    {
     "name": "stdout",
     "output_type": "stream",
     "text": [
      "   a  b  c\n",
      "0  1  2  3\n",
      "1  4  5  6\n",
      "----------------------------\n",
      "shape: (2, 3)\n",
      "┌─────┬─────┬─────┐\n",
      "│ a   ┆ b   ┆ c   │\n",
      "│ --- ┆ --- ┆ --- │\n",
      "│ i64 ┆ i64 ┆ i64 │\n",
      "╞═════╪═════╪═════╡\n",
      "│ 1   ┆ 2   ┆ 3   │\n",
      "│ 4   ┆ 5   ┆ 6   │\n",
      "└─────┴─────┴─────┘\n",
      "----------------------------\n",
      "   a  b  c\n",
      "0  1  2  3\n",
      "1  4  5  6\n"
     ]
    }
   ],
   "source": [
    "# converting between Pandas and Polars\n",
    "# needs \"pip install pyarrow\"\n",
    "\n",
    "import polars as pl\n",
    "import pandas as pd\n",
    "\n",
    "pd_df = pd.DataFrame([[1, 2, 3], [4, 5, 6]], columns=[\"a\", \"b\", \"c\"])\n",
    "print(pd_df)\n",
    "print(\"----------------------------\")\n",
    "df_pl = pl.from_pandas(pd_df)\n",
    "print(df_pl)\n",
    "print(\"----------------------------\")\n",
    "pd_df2 = df_pl.to_pandas()\n",
    "print(pd_df2)"
   ]
  },
  {
   "cell_type": "code",
   "execution_count": 49,
   "id": "edbc75e2",
   "metadata": {},
   "outputs": [
    {
     "name": "stdout",
     "output_type": "stream",
     "text": [
      "shape: (4, 3)\n",
      "┌─────┬─────────┬─────┐\n",
      "│ id  ┆ name    ┆ age │\n",
      "│ --- ┆ ---     ┆ --- │\n",
      "│ i64 ┆ str     ┆ i64 │\n",
      "╞═════╪═════════╪═════╡\n",
      "│ 1   ┆ Alice   ┆ 25  │\n",
      "│ 2   ┆ Bob     ┆ 30  │\n",
      "│ 3   ┆ Charlie ┆ 35  │\n",
      "│ 4   ┆ David   ┆ 28  │\n",
      "└─────┴─────────┴─────┘\n"
     ]
    }
   ],
   "source": [
    "# joining dataframes in Polars is similar \n",
    "# to how things work with join/merge in Pandas\n",
    "# \"left_on\" and \"right_on\" parameters can use different columns \n",
    "# \"how\" parameter can have values \"left\", \"right\", \"inner\", \"outer\"\n",
    "\n",
    "d1 = {\"id\":         [1, 2, 3, 4], \"name\": [\"Alice\", \"Bob\", \"Charlie\", \"David\"]}\n",
    "d2 = {\"account_id\": [1, 2, 3, 4], \"age\": [25, 30, 35, 28]}\n",
    "\n",
    "df1 = pl.DataFrame(d1)\n",
    "df2 = pl.DataFrame(d2)\n",
    "\n",
    "joined_df = df1.join(df2, left_on=\"id\", right_on=\"account_id\")\n",
    "print(joined_df)"
   ]
  },
  {
   "cell_type": "code",
   "execution_count": null,
   "id": "9f62e5f9",
   "metadata": {},
   "outputs": [],
   "source": []
  }
 ],
 "metadata": {
  "kernelspec": {
   "display_name": "Python 3 (ipykernel)",
   "language": "python",
   "name": "python3"
  },
  "language_info": {
   "codemirror_mode": {
    "name": "ipython",
    "version": 3
   },
   "file_extension": ".py",
   "mimetype": "text/x-python",
   "name": "python",
   "nbconvert_exporter": "python",
   "pygments_lexer": "ipython3",
   "version": "3.9.12"
  }
 },
 "nbformat": 4,
 "nbformat_minor": 5
}
