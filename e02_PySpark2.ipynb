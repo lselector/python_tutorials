{
 "cells": [
  {
   "cell_type": "markdown",
   "metadata": {},
   "source": [
    "### PySpark Tutorial\n",
    "\n",
    "from https://www.youtube.com/watch?v=B-x58mOUEbw\n",
    "<br> Spark DataFrame Operations and Transformations\n",
    "<br> by  Radu Fotolescu\n",
    "<br> https://www.decisionforest.com"
   ]
  },
  {
   "cell_type": "markdown",
   "metadata": {},
   "source": [
    "Download data: \n",
    "https://www.gov.uk/government/statistical-data-sets/price-paid-data-downloads#single-file"
   ]
  },
  {
   "cell_type": "code",
   "execution_count": 1,
   "metadata": {},
   "outputs": [],
   "source": [
    "# %load_ext nb_black\n",
    "import os, sys\n",
    "import numpy as np\n",
    "import pandas as pd\n",
    "import matplotlib.pyplot as plt\n",
    "\n",
    "plt.style.use(style=\"seaborn\")\n",
    "%matplotlib inline"
   ]
  },
  {
   "cell_type": "code",
   "execution_count": 2,
   "metadata": {},
   "outputs": [
    {
     "name": "stdout",
     "output_type": "stream",
     "text": [
      "22/07/09 20:47:52 WARN Utils: Your hostname, MacBook-M1-Pro-16-Lev-2022.local resolves to a loopback address: 127.0.0.1; using 192.168.0.34 instead (on interface en0)\n",
      "22/07/09 20:47:52 WARN Utils: Set SPARK_LOCAL_IP if you need to bind to another address\n"
     ]
    },
    {
     "name": "stderr",
     "output_type": "stream",
     "text": [
      "Setting default log level to \"WARN\".\n",
      "To adjust logging level use sc.setLogLevel(newLevel). For SparkR, use setLogLevel(newLevel).\n"
     ]
    },
    {
     "name": "stdout",
     "output_type": "stream",
     "text": [
      "22/07/09 20:47:53 WARN NativeCodeLoader: Unable to load native-hadoop library for your platform... using builtin-java classes where applicable\n"
     ]
    },
    {
     "data": {
      "text/html": [
       "\n",
       "            <div>\n",
       "                <p><b>SparkSession - in-memory</b></p>\n",
       "                \n",
       "        <div>\n",
       "            <p><b>SparkContext</b></p>\n",
       "\n",
       "            <p><a href=\"http://192.168.0.34:4040\">Spark UI</a></p>\n",
       "\n",
       "            <dl>\n",
       "              <dt>Version</dt>\n",
       "                <dd><code>v3.3.0</code></dd>\n",
       "              <dt>Master</dt>\n",
       "                <dd><code>local[*]</code></dd>\n",
       "              <dt>AppName</dt>\n",
       "                <dd><code>UK Property Analysis</code></dd>\n",
       "            </dl>\n",
       "        </div>\n",
       "        \n",
       "            </div>\n",
       "        "
      ],
      "text/plain": [
       "<pyspark.sql.session.SparkSession at 0x7f88d0e895e0>"
      ]
     },
     "execution_count": 2,
     "metadata": {},
     "output_type": "execute_result"
    }
   ],
   "source": [
    "from pyspark.sql import SparkSession, Window\n",
    "from pyspark import SparkConf\n",
    "import pyspark.sql.functions as F\n",
    "from pyspark.sql import types as T\n",
    "\n",
    "spark = SparkSession.builder.appName(\"UK Property Analysis\").getOrCreate()\n",
    "spark"
   ]
  },
  {
   "cell_type": "code",
   "execution_count": 3,
   "metadata": {},
   "outputs": [
    {
     "name": "stderr",
     "output_type": "stream",
     "text": [
      "                                                                                \r"
     ]
    }
   ],
   "source": [
    "# download file from here\n",
    "# 'http://prod.publicdata.landregistry.gov.uk.s3-website-eu-west-1.amazonaws.com/pp-2022.csv'\n",
    "data = spark.read.csv(\"data/pp-2022.csv\", inferSchema=True, header=True)"
   ]
  },
  {
   "cell_type": "code",
   "execution_count": 4,
   "metadata": {},
   "outputs": [
    {
     "name": "stderr",
     "output_type": "stream",
     "text": [
      "                                                                                \r"
     ]
    },
    {
     "data": {
      "text/plain": [
       "161803"
      ]
     },
     "execution_count": 4,
     "metadata": {},
     "output_type": "execute_result"
    }
   ],
   "source": [
    "data.count()"
   ]
  },
  {
   "cell_type": "code",
   "execution_count": 5,
   "metadata": {},
   "outputs": [],
   "source": [
    "data = data.toDF(\n",
    "    \"Transaction ID\",\n",
    "    \"Price\",\n",
    "    \"Date\",\n",
    "    \"Postcode\",\n",
    "    \"Property Type\",\n",
    "    \"New Build\",\n",
    "    \"Estate Type\",\n",
    "    \"Building Name/Nr\",\n",
    "    \"Column_8\",\n",
    "    \"Street\",\n",
    "    \"Column_10\",\n",
    "    \"Town\",\n",
    "    \"District\",\n",
    "    \"County\",\n",
    "    \"Column_14\",\n",
    "    \"Column_15\",\n",
    ")"
   ]
  },
  {
   "cell_type": "code",
   "execution_count": 6,
   "metadata": {},
   "outputs": [
    {
     "name": "stdout",
     "output_type": "stream",
     "text": [
      "22/07/09 20:48:05 WARN CSVHeaderChecker: CSV header does not conform to the schema.\n",
      " Header: {DE2D0CE0-1D92-51EE-E053-6C04A8C00671}, 230000, 2022-03-14 00:00, CR0 1AB, F, N, L, LION HEAD COURT, 17, FLAT 4, ST ANDREWS ROAD, , CROYDON, CROYDON, GREATER LONDON, A, A\n",
      " Schema: {DE2D0CE0-1D92-51EE-E053-6C04A8C00671}, 230000, 2022-03-14 00:00, CR0 1AB, F, N, L, LION HEAD COURT, 17, FLAT 4, ST ANDREWS ROAD, _c10, CROYDON11, CROYDON12, GREATER LONDON, A14, A15\n",
      "Expected: _c10 but found: \n",
      "CSV file: file:///Users/levselector/Documents/GitHub/python_tutorials/files/pp-2022.csv\n",
      "+--------------------+------+-------------------+--------+-------------+---------+-----------+-----------------+--------+----------+---------+---------+--------------------+--------------+---------+---------+\n",
      "|      Transaction ID| Price|               Date|Postcode|Property Type|New Build|Estate Type| Building Name/Nr|Column_8|    Street|Column_10|     Town|            District|        County|Column_14|Column_15|\n",
      "+--------------------+------+-------------------+--------+-------------+---------+-----------+-----------------+--------+----------+---------+---------+--------------------+--------------+---------+---------+\n",
      "|{DE2D0CE0-1D93-51...|345000|2022-01-21 00:00:00| KT6 7DU|            F|        N|          L|TALEORDE HOUSE, 1| FLAT 21|TALA CLOSE|     null| SURBITON|KINGSTON UPON THAMES|GREATER LONDON|        A|        A|\n",
      "|{DE2D0CE0-1D94-51...|315000|2022-03-31 00:00:00| BR3 4HY|            F|        N|          L|FONTAINE COURT, 1| FLAT 17|HAYNE ROAD|     null|BECKENHAM|             BROMLEY|GREATER LONDON|        A|        A|\n",
      "+--------------------+------+-------------------+--------+-------------+---------+-----------+-----------------+--------+----------+---------+---------+--------------------+--------------+---------+---------+\n",
      "only showing top 2 rows\n",
      "\n"
     ]
    }
   ],
   "source": [
    "data.show(2)"
   ]
  },
  {
   "cell_type": "markdown",
   "metadata": {},
   "source": [
    "### Data Resampling"
   ]
  },
  {
   "cell_type": "code",
   "execution_count": 7,
   "metadata": {},
   "outputs": [
    {
     "data": {
      "text/plain": [
       "[('Date', 'timestamp')]"
      ]
     },
     "execution_count": 7,
     "metadata": {},
     "output_type": "execute_result"
    }
   ],
   "source": [
    "data.select(\"Date\").dtypes"
   ]
  },
  {
   "cell_type": "code",
   "execution_count": 8,
   "metadata": {},
   "outputs": [
    {
     "data": {
      "text/plain": [
       "[Row(Date=datetime.datetime(2022, 1, 21, 0, 0))]"
      ]
     },
     "execution_count": 8,
     "metadata": {},
     "output_type": "execute_result"
    }
   ],
   "source": [
    "data.select(\"Date\").take(1)"
   ]
  },
  {
   "cell_type": "code",
   "execution_count": 9,
   "metadata": {},
   "outputs": [],
   "source": [
    "data = data.withColumn(\"Date\", F.to_timestamp(data.Date, \"yyyy-MM-dd 00:00\"))"
   ]
  },
  {
   "cell_type": "code",
   "execution_count": 10,
   "metadata": {},
   "outputs": [
    {
     "data": {
      "text/plain": [
       "[('Price', 'int')]"
      ]
     },
     "execution_count": 10,
     "metadata": {},
     "output_type": "execute_result"
    }
   ],
   "source": [
    "data.select(\"Price\").dtypes"
   ]
  },
  {
   "cell_type": "code",
   "execution_count": 11,
   "metadata": {},
   "outputs": [],
   "source": [
    "data = data.withColumn(\"Price\", data.Price.cast(\"float\"))"
   ]
  },
  {
   "cell_type": "code",
   "execution_count": 12,
   "metadata": {
    "scrolled": true
   },
   "outputs": [
    {
     "data": {
      "text/plain": [
       "[Row(Date=datetime.datetime(2022, 1, 21, 0, 0))]"
      ]
     },
     "execution_count": 12,
     "metadata": {},
     "output_type": "execute_result"
    }
   ],
   "source": [
    "data.select(\"Date\").take(1)"
   ]
  },
  {
   "cell_type": "code",
   "execution_count": 13,
   "metadata": {},
   "outputs": [
    {
     "name": "stderr",
     "output_type": "stream",
     "text": [
      "                                                                                \r"
     ]
    }
   ],
   "source": [
    "assert data.groupBy(\"Transaction ID\").count().count() == data.count()"
   ]
  },
  {
   "cell_type": "code",
   "execution_count": 14,
   "metadata": {},
   "outputs": [],
   "source": [
    "sub = data.groupBy(\"Date\", F.window(\"Date\", \"30 days\")).agg(\n",
    "    F.expr(\"collect_list(Price)\").alias(\"Prices\"),\n",
    "    F.expr(\"count('Transaction ID')\").alias(\"Count\"),\n",
    ")"
   ]
  },
  {
   "cell_type": "code",
   "execution_count": 15,
   "metadata": {},
   "outputs": [
    {
     "name": "stderr",
     "output_type": "stream",
     "text": [
      "[Stage 17:========>                                                 (1 + 6) / 7]\r"
     ]
    },
    {
     "name": "stdout",
     "output_type": "stream",
     "text": [
      "+-------------------+--------------------+--------------------+-----+\n",
      "|               Date|              window|              Prices|Count|\n",
      "+-------------------+--------------------+--------------------+-----+\n",
      "|2022-01-01 00:00:00|{2021-12-28 19:00...|[325000.0, 160000...|   32|\n",
      "|2022-01-02 00:00:00|{2021-12-28 19:00...|[418000.0, 120000...|    8|\n",
      "+-------------------+--------------------+--------------------+-----+\n",
      "only showing top 2 rows\n",
      "\n"
     ]
    },
    {
     "name": "stderr",
     "output_type": "stream",
     "text": [
      "\r\n",
      "                                                                                \r"
     ]
    }
   ],
   "source": [
    "sub.show(2)"
   ]
  },
  {
   "cell_type": "code",
   "execution_count": 16,
   "metadata": {},
   "outputs": [
    {
     "data": {
      "text/plain": [
       "[Row(window=Row(start=datetime.datetime(2021, 12, 28, 19, 0), end=datetime.datetime(2022, 1, 27, 19, 0)))]"
      ]
     },
     "execution_count": 16,
     "metadata": {},
     "output_type": "execute_result"
    }
   ],
   "source": [
    "sub.select(\"window\").take(1)"
   ]
  },
  {
   "cell_type": "code",
   "execution_count": 17,
   "metadata": {},
   "outputs": [],
   "source": [
    "sub = sub.select(\"Date\", \"window.*\", \"Prices\", \"Count\").sort(F.asc(\"end\"))"
   ]
  },
  {
   "cell_type": "code",
   "execution_count": 18,
   "metadata": {},
   "outputs": [
    {
     "name": "stdout",
     "output_type": "stream",
     "text": [
      "+-------------------+-------------------+-------------------+--------------------+-----+\n",
      "|               Date|              start|                end|              Prices|Count|\n",
      "+-------------------+-------------------+-------------------+--------------------+-----+\n",
      "|2022-01-01 00:00:00|2021-12-28 19:00:00|2022-01-27 19:00:00|[325000.0, 160000...|   32|\n",
      "|2022-01-02 00:00:00|2021-12-28 19:00:00|2022-01-27 19:00:00|[418000.0, 120000...|    8|\n",
      "|2022-01-03 00:00:00|2021-12-28 19:00:00|2022-01-27 19:00:00|[415000.0, 893225...|    8|\n",
      "|2022-01-04 00:00:00|2021-12-28 19:00:00|2022-01-27 19:00:00|[205000.0, 450000...|  442|\n",
      "|2022-01-05 00:00:00|2021-12-28 19:00:00|2022-01-27 19:00:00|[640000.0, 270000...| 1287|\n",
      "+-------------------+-------------------+-------------------+--------------------+-----+\n",
      "only showing top 5 rows\n",
      "\n"
     ]
    }
   ],
   "source": [
    "sub.show(5)"
   ]
  },
  {
   "cell_type": "code",
   "execution_count": 19,
   "metadata": {
    "scrolled": true
   },
   "outputs": [
    {
     "data": {
      "text/plain": [
       "144"
      ]
     },
     "execution_count": 19,
     "metadata": {},
     "output_type": "execute_result"
    }
   ],
   "source": [
    "sub.count()"
   ]
  },
  {
   "cell_type": "code",
   "execution_count": 20,
   "metadata": {},
   "outputs": [],
   "source": [
    "sub = sub.groupBy(\"end\").agg(\n",
    "    F.expr(\"collect_list(Prices)\").alias(\"Prices\"),\n",
    "    F.expr(\"sum(Count)\").alias(\"Count\"),\n",
    ")"
   ]
  },
  {
   "cell_type": "code",
   "execution_count": 21,
   "metadata": {},
   "outputs": [
    {
     "name": "stdout",
     "output_type": "stream",
     "text": [
      "+-------------------+--------------------+-----+\n",
      "|                end|              Prices|Count|\n",
      "+-------------------+--------------------+-----+\n",
      "|2022-01-27 19:00:00|[[325000.0, 16000...|30476|\n",
      "|2022-02-26 19:00:00|[[146000.0, 27575...|59427|\n",
      "|2022-03-28 20:00:00|[[635000.0, 74000...|42653|\n",
      "|2022-04-27 20:00:00|[[100000.0, 70000...|23699|\n",
      "|2022-05-27 20:00:00|[[146100.0, 12500...| 5547|\n",
      "+-------------------+--------------------+-----+\n",
      "only showing top 5 rows\n",
      "\n"
     ]
    }
   ],
   "source": [
    "sub.show(5)"
   ]
  },
  {
   "cell_type": "markdown",
   "metadata": {},
   "source": [
    "### UDFs\n",
    "User-Defined Functions (UDFs) are functions that are applied on rows. \n",
    "They require to be registered as UDFs."
   ]
  },
  {
   "cell_type": "code",
   "execution_count": 22,
   "metadata": {},
   "outputs": [],
   "source": [
    "def unpack_list(t):\n",
    "    return list(set([item for sublist in t for item in sublist]))\n",
    "\n",
    "\n",
    "unpack_list_udf = F.udf(unpack_list, T.ArrayType(T.FloatType()))"
   ]
  },
  {
   "cell_type": "code",
   "execution_count": 23,
   "metadata": {},
   "outputs": [],
   "source": [
    "sub = sub.withColumn(\"Prices\", unpack_list_udf(F.col(\"Prices\")))"
   ]
  },
  {
   "cell_type": "code",
   "execution_count": 24,
   "metadata": {},
   "outputs": [
    {
     "name": "stdout",
     "output_type": "stream",
     "text": [
      "+-------------------+--------------------+-----+\n",
      "|                end|              Prices|Count|\n",
      "+-------------------+--------------------+-----+\n",
      "|2022-01-27 19:00:00|[106500.0, 213000...|30476|\n",
      "|2022-02-26 19:00:00|[106500.0, 196614...|59427|\n",
      "+-------------------+--------------------+-----+\n",
      "only showing top 2 rows\n",
      "\n"
     ]
    },
    {
     "name": "stderr",
     "output_type": "stream",
     "text": [
      "\r\n",
      "[Stage 45:>                                                         (0 + 1) / 1]\r\n",
      "\r\n",
      "                                                                                \r"
     ]
    }
   ],
   "source": [
    "sub.show(2)"
   ]
  },
  {
   "cell_type": "code",
   "execution_count": 25,
   "metadata": {},
   "outputs": [],
   "source": [
    "mean_udf = F.udf(lambda x: float(np.mean(x)), T.FloatType())\n",
    "median_udf = F.udf(lambda x: float(np.median(x)), T.FloatType())"
   ]
  },
  {
   "cell_type": "code",
   "execution_count": 26,
   "metadata": {},
   "outputs": [],
   "source": [
    "sub = (\n",
    "    sub.withColumn(\"Mean\", mean_udf(\"Prices\"))\n",
    "    .withColumn(\"Median\", median_udf(\"Prices\"))\n",
    "    .drop(\"Prices\")\n",
    ")"
   ]
  },
  {
   "cell_type": "code",
   "execution_count": 27,
   "metadata": {},
   "outputs": [
    {
     "name": "stdout",
     "output_type": "stream",
     "text": [
      "+-------------------+-----+---------+--------+\n",
      "|                end|Count|     Mean|  Median|\n",
      "+-------------------+-----+---------+--------+\n",
      "|2022-01-27 19:00:00|30476| 719908.0|344750.0|\n",
      "|2022-02-26 19:00:00|59427| 723439.5|345850.0|\n",
      "|2022-03-28 20:00:00|42653|691317.75|340250.0|\n",
      "|2022-04-27 20:00:00|23699|770007.06|363050.0|\n",
      "|2022-05-27 20:00:00| 5547|539958.75|322580.0|\n",
      "|2022-06-26 20:00:00|    1| 160000.0|160000.0|\n",
      "+-------------------+-----+---------+--------+\n",
      "\n"
     ]
    }
   ],
   "source": [
    "sub.show()"
   ]
  },
  {
   "cell_type": "code",
   "execution_count": 28,
   "metadata": {},
   "outputs": [],
   "source": [
    "sub = sub.toPandas()"
   ]
  },
  {
   "cell_type": "code",
   "execution_count": 29,
   "metadata": {},
   "outputs": [
    {
     "data": {
      "text/html": [
       "<div>\n",
       "<style scoped>\n",
       "    .dataframe tbody tr th:only-of-type {\n",
       "        vertical-align: middle;\n",
       "    }\n",
       "\n",
       "    .dataframe tbody tr th {\n",
       "        vertical-align: top;\n",
       "    }\n",
       "\n",
       "    .dataframe thead th {\n",
       "        text-align: right;\n",
       "    }\n",
       "</style>\n",
       "<table border=\"1\" class=\"dataframe\">\n",
       "  <thead>\n",
       "    <tr style=\"text-align: right;\">\n",
       "      <th></th>\n",
       "      <th>end</th>\n",
       "      <th>Count</th>\n",
       "      <th>Mean</th>\n",
       "      <th>Median</th>\n",
       "    </tr>\n",
       "  </thead>\n",
       "  <tbody>\n",
       "    <tr>\n",
       "      <th>0</th>\n",
       "      <td>2022-01-27 19:00:00</td>\n",
       "      <td>30476</td>\n",
       "      <td>719908.0000</td>\n",
       "      <td>344750.0</td>\n",
       "    </tr>\n",
       "    <tr>\n",
       "      <th>1</th>\n",
       "      <td>2022-02-26 19:00:00</td>\n",
       "      <td>59427</td>\n",
       "      <td>723439.5000</td>\n",
       "      <td>345850.0</td>\n",
       "    </tr>\n",
       "    <tr>\n",
       "      <th>2</th>\n",
       "      <td>2022-03-28 20:00:00</td>\n",
       "      <td>42653</td>\n",
       "      <td>691317.7500</td>\n",
       "      <td>340250.0</td>\n",
       "    </tr>\n",
       "    <tr>\n",
       "      <th>3</th>\n",
       "      <td>2022-04-27 20:00:00</td>\n",
       "      <td>23699</td>\n",
       "      <td>770007.0625</td>\n",
       "      <td>363050.0</td>\n",
       "    </tr>\n",
       "    <tr>\n",
       "      <th>4</th>\n",
       "      <td>2022-05-27 20:00:00</td>\n",
       "      <td>5547</td>\n",
       "      <td>539958.7500</td>\n",
       "      <td>322580.0</td>\n",
       "    </tr>\n",
       "    <tr>\n",
       "      <th>5</th>\n",
       "      <td>2022-06-26 20:00:00</td>\n",
       "      <td>1</td>\n",
       "      <td>160000.0000</td>\n",
       "      <td>160000.0</td>\n",
       "    </tr>\n",
       "  </tbody>\n",
       "</table>\n",
       "</div>"
      ],
      "text/plain": [
       "                  end  Count         Mean    Median\n",
       "0 2022-01-27 19:00:00  30476  719908.0000  344750.0\n",
       "1 2022-02-26 19:00:00  59427  723439.5000  345850.0\n",
       "2 2022-03-28 20:00:00  42653  691317.7500  340250.0\n",
       "3 2022-04-27 20:00:00  23699  770007.0625  363050.0\n",
       "4 2022-05-27 20:00:00   5547  539958.7500  322580.0\n",
       "5 2022-06-26 20:00:00      1  160000.0000  160000.0"
      ]
     },
     "execution_count": 29,
     "metadata": {},
     "output_type": "execute_result"
    }
   ],
   "source": [
    "sub"
   ]
  },
  {
   "cell_type": "code",
   "execution_count": 30,
   "metadata": {},
   "outputs": [
    {
     "data": {
      "image/png": "[encoded data removed]",
      "text/plain": [
       "<Figure size 1152x576 with 2 Axes>"
      ]
     },
     "metadata": {
      "needs_background": "light"
     },
     "output_type": "display_data"
    }
   ],
   "source": [
    "fig, (ax1, ax2) = plt.subplots(2, 1, sharex=True,figsize=(16,8))\n",
    "plt.subplot(211)\n",
    "plt.plot(sub['end'],sub['Median'])\n",
    "plt.ticklabel_format(style='plain', axis='y')\n",
    "plt.subplot(212)\n",
    "plt.plot(sub['end'],sub['Count'])\n",
    "plt.ticklabel_format(style='plain', axis='y')\n"
   ]
  },
  {
   "cell_type": "code",
   "execution_count": null,
   "metadata": {},
   "outputs": [],
   "source": []
  }
 ],
 "metadata": {
  "kernelspec": {
   "display_name": "Python 3 (ipykernel)",
   "language": "python",
   "name": "python3"
  },
  "language_info": {
   "codemirror_mode": {
    "name": "ipython",
    "version": 3
   },
   "file_extension": ".py",
   "mimetype": "text/x-python",
   "name": "python",
   "nbconvert_exporter": "python",
   "pygments_lexer": "ipython3",
   "version": "3.9.12"
  }
 },
 "nbformat": 4,
 "nbformat_minor": 2
}
