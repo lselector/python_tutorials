{
 "cells": [
  {
   "cell_type": "markdown",
   "metadata": {},
   "source": [
    "# Python Test 100\n",
    "## Group 2 Questions 1..22"
   ]
  },
  {
   "cell_type": "markdown",
   "metadata": {},
   "source": [
    "### -------------------- Question 1 --------------------"
   ]
  },
  {
   "cell_type": "markdown",
   "metadata": {},
   "source": [
    "Write a procedure which reads a text file \n",
    "and returns 3 numbers like unix wc utility: \n",
    "- number of lines, \n",
    "- number of words, \n",
    "- number of characters."
   ]
  },
  {
   "cell_type": "markdown",
   "metadata": {},
   "source": [
    "#### Answer"
   ]
  },
  {
   "cell_type": "code",
   "execution_count": 1,
   "metadata": {},
   "outputs": [
    {
     "name": "stdout",
     "output_type": "stream",
     "text": [
      "wrote several lines to file 'junk.txt'\n",
      "       5       5      20 junk.txt\n",
      "       5       5      20 junk.txt\n",
      "------------------------------------------------------------\n",
      "400\n",
      "502\n",
      "503\n",
      "604\n",
      "705\n",
      "------------------------------------------------------------\n"
     ]
    }
   ],
   "source": [
    "# create a small text file 'junk.txt'\n",
    "fname = 'junk.txt'\n",
    "aa = [400,502,503,604,705]\n",
    "fh = open(fname, 'w')\n",
    "for ii in aa:\n",
    "    fh.write(\"%d\\n\" % ii)\n",
    "fh.close()\n",
    "print(\"wrote several lines to file 'junk.txt'\")\n",
    "\n",
    "# ----------------------------------------\n",
    "def wc(fname):\n",
    "    fh = open(fname)\n",
    "    Nlines = 0\n",
    "    Nwords = 0\n",
    "    Nchars = 0\n",
    "\n",
    "    for line in fh:\n",
    "        Nlines += 1\n",
    "        Nwords += len(line.split())\n",
    "        Nchars += len(list(line))\n",
    "\n",
    "    fh.close()\n",
    "    print(\"%8d%8d%8d %s\" % (Nlines, Nwords, Nchars, fname))\n",
    "    \n",
    "# ----------------------------------------\n",
    "\n",
    "wc('junk.txt')  # python function \"wc()\"\n",
    "!wc junk.txt    # unix function \"wc\"\n",
    "print(\"-\"*60)\n",
    "!cat junk.txt\n",
    "print(\"-\"*60)"
   ]
  },
  {
   "cell_type": "markdown",
   "metadata": {},
   "source": [
    "### -------------------- Question 2 --------------------"
   ]
  },
  {
   "cell_type": "markdown",
   "metadata": {},
   "source": [
    "John has 300 at the start, he saves 100 per month, and 500 every 6 months. \n",
    "Write a procedure returning his savings after N months. \n"
   ]
  },
  {
   "cell_type": "markdown",
   "metadata": {},
   "source": [
    "#### Answer"
   ]
  },
  {
   "cell_type": "code",
   "execution_count": 2,
   "metadata": {},
   "outputs": [
    {
     "name": "stdout",
     "output_type": "stream",
     "text": [
      "500\n",
      "600\n",
      "700\n",
      "800\n",
      "1400\n",
      "1500\n"
     ]
    }
   ],
   "source": [
    "def john_savings(nn):\n",
    "    ss=300\n",
    "    for mm in range(nn):\n",
    "        ss +=100\n",
    "        if mm % 6 == 5:\n",
    "            ss +=500\n",
    "    return ss\n",
    "\n",
    "print(john_savings(2))\n",
    "print(john_savings(3))\n",
    "print(john_savings(4))\n",
    "print(john_savings(5))\n",
    "print(john_savings(6))\n",
    "print(john_savings(7))\n"
   ]
  },
  {
   "cell_type": "markdown",
   "metadata": {},
   "source": [
    "### -------------------- Question 3 --------------------"
   ]
  },
  {
   "cell_type": "markdown",
   "metadata": {},
   "source": [
    "Write a procedure which finds the Greatest Common Divisor of 2 numbers, \n",
    "which is defined as the largest number which will evenly divide two other numbers. <br>\n",
    "Examples: GCD( 5, 10 ) = 5, GCD( 21, 28 ) = 7.\n"
   ]
  },
  {
   "cell_type": "markdown",
   "metadata": {},
   "source": [
    "#### Answer"
   ]
  },
  {
   "cell_type": "code",
   "execution_count": 3,
   "metadata": {},
   "outputs": [
    {
     "name": "stdout",
     "output_type": "stream",
     "text": [
      "5\n",
      "7\n"
     ]
    }
   ],
   "source": [
    "def gcd(aa,bb):\n",
    "    small = aa if aa < bb else bb\n",
    "    mmm = 1\n",
    "    for nn in range(1,small+1):\n",
    "        if (aa % nn == 0) and (bb % nn == 0):\n",
    "            mmm = nn\n",
    "    return mmm\n",
    "\n",
    "print(gcd(5, 10))\n",
    "print(gcd(21, 28))"
   ]
  },
  {
   "cell_type": "markdown",
   "metadata": {},
   "source": [
    "### -------------------- Question 4 --------------------"
   ]
  },
  {
   "cell_type": "markdown",
   "metadata": {},
   "source": [
    "find longest common substring in words in text\n",
    "<br>(substring should belong to two different words)."
   ]
  },
  {
   "cell_type": "markdown",
   "metadata": {},
   "source": [
    "#### Answer"
   ]
  },
  {
   "cell_type": "code",
   "execution_count": 4,
   "metadata": {},
   "outputs": [
    {
     "name": "stdout",
     "output_type": "stream",
     "text": [
      "[('bbbbbb', 'bbbbbb'), ('bbbbb', 'bbbbbb'), ('bbbb', 'bbbbbb'), ('aaa', 'aaa'), ('bbb', 'bbbbbb'), ('aa', 'aa'), ('aa', 'aaa'), ('bb', 'bbbbbb'), ('bb', 'bb'), ('a', 'aaa'), ('a', 'aa'), ('b', 'bb'), ('b', 'bbbbbb')]\n",
      "('bbbbb', 'bbbbbb')\n",
      "('bbbb', 'bbbbbb')\n",
      "('aaa', 'aaa')\n",
      "('bbb', 'bbbbbb')\n",
      "('aa', 'aa')\n",
      "('aa', 'aaa')\n",
      "aa\n"
     ]
    }
   ],
   "source": [
    "ss = \"aa bb aaa bbbbbb\"\n",
    "words = ss.split()\n",
    "# make big list of tuples.\n",
    "# each tuple consist of 2 elements - the substring \n",
    "# and a word from which it is derived\n",
    "biglist = []\n",
    "for word in words:\n",
    "    N=len(word)\n",
    "    for nn in range(0,N):\n",
    "        for mm in range(nn+1,N+1):\n",
    "            substr = word[nn:mm]\n",
    "            biglist.append((substr,word))\n",
    "\n",
    "# remove duplicates\n",
    "biglist = list(set(biglist))\n",
    "\n",
    "# sort by length (reverse) and within length sort alphabetically\n",
    "# key is provided as a tuple\n",
    "biglist = sorted(biglist, key = lambda x: (-len(x[0]), x[0]))\n",
    "print(biglist)\n",
    "\n",
    "# finally go through list from top to bottom\n",
    "# stop when you find 2 elements with the same substring\n",
    "nn=1\n",
    "result = ''\n",
    "while nn < len(biglist):\n",
    "    print(biglist[nn])\n",
    "    if (biglist[nn-1][0] == biglist[nn][0]) and (biglist[nn-1][1] != biglist[nn][1]):\n",
    "        result = biglist[nn][0]\n",
    "        break\n",
    "    nn += 1\n",
    "\n",
    "print(result)"
   ]
  },
  {
   "cell_type": "markdown",
   "metadata": {},
   "source": [
    "### -------------------- Question 5 --------------------"
   ]
  },
  {
   "cell_type": "markdown",
   "metadata": {},
   "source": [
    "mydebug.py - module to do debugging"
   ]
  },
  {
   "cell_type": "markdown",
   "metadata": {},
   "source": [
    "#### Answer"
   ]
  },
  {
   "cell_type": "code",
   "execution_count": 5,
   "metadata": {},
   "outputs": [],
   "source": [
    "def run_from_ipython():\n",
    "    try:\n",
    "        __IPYTHON__\n",
    "        return True\n",
    "    except NameError:\n",
    "        return False\n",
    "\n",
    "if run_from_ipython():\n",
    "    import IPython.core.debugger\n",
    "    from IPython.core.debugger import set_trace\n",
    "    debug_here = set_trace\n",
    "else:\n",
    "    debug_here = sys.exit\n",
    "    \n",
    "# Then in your program:\n",
    "\n",
    "# import mydebug\n",
    "# from mydebug import *\n",
    "\n",
    "# debug_here()\n"
   ]
  },
  {
   "cell_type": "markdown",
   "metadata": {},
   "source": [
    "### -------------------- Question 6 --------------------"
   ]
  },
  {
   "cell_type": "markdown",
   "metadata": {},
   "source": [
    "Show how to split text into words using str and re "
   ]
  },
  {
   "cell_type": "markdown",
   "metadata": {},
   "source": [
    "#### Answer"
   ]
  },
  {
   "cell_type": "code",
   "execution_count": 6,
   "metadata": {},
   "outputs": [
    {
     "name": "stdout",
     "output_type": "stream",
     "text": [
      "[\"mama's\", 'papa', 'son', 'cat']\n",
      "----------------------------------------\n",
      "[\"mama's\", 'papa', 'son', 'cat']\n",
      "----------------------------------------\n",
      "[\"mama's\", 'papa', 'son', 'cat']\n",
      "----------------------------------------\n",
      "['mama', 's', 'papa', 'son', 'cat']\n",
      "----------------------------------------\n",
      "['mama', 's', 'papa', 'son', 'cat']\n"
     ]
    }
   ],
   "source": [
    "# use str.split()\n",
    "ss=\"\"\"   \\n  mama's \\n papa son cat\\n\"\"\"\n",
    "aa = ss.split()\n",
    "print(aa)\n",
    "\n",
    "print('-'*40)\n",
    "bb=[x for x in ss.split() if len(x) >= 2]\n",
    "print(bb)\n",
    "\n",
    "print('-'*40)\n",
    "# use re\n",
    "import re\n",
    "ss=\"\"\"   \\n  mama's \\n papa son cat\\n\"\"\"\n",
    "r=re.compile(r'\\s+')    # type = _sre.SRE_Pattern\n",
    "aa=r.split(ss.strip())  # split by empty space\n",
    "print(aa)\n",
    "\n",
    "print('-'*40)\n",
    "r=re.compile(r'\\W+')\n",
    "aa=r.split(ss.strip())  # split by non-word characters\n",
    "print(aa)\n",
    "\n",
    "print('-'*40)\n",
    "bb = re.findall(r'(\\b\\w+\\b)',ss.strip())  # find all words\n",
    "print(bb)"
   ]
  },
  {
   "cell_type": "markdown",
   "metadata": {},
   "source": [
    "### -------------------- Question 7 --------------------"
   ]
  },
  {
   "cell_type": "markdown",
   "metadata": {},
   "source": [
    "ftplib"
   ]
  },
  {
   "cell_type": "markdown",
   "metadata": {},
   "source": [
    "#### Answer"
   ]
  },
  {
   "cell_type": "code",
   "execution_count": 7,
   "metadata": {},
   "outputs": [],
   "source": [
    "import ftplib\n",
    "# ftp = ftplib.FTP(myserver)\n",
    "# ftp.login(mylogin, mypasswd)\n",
    "# ftp.dir()   # show long listing\n",
    "# ftp.<tab> # show available methods\n",
    "# ftp.cwd(mypath)\n",
    "# ftp.pwd()\n",
    "# data = []\n",
    "# ftp.dir(data.append)\n",
    "# print(data[0:10])"
   ]
  },
  {
   "cell_type": "markdown",
   "metadata": {},
   "source": [
    "### -------------------- Question 8 --------------------"
   ]
  },
  {
   "cell_type": "markdown",
   "metadata": {},
   "source": [
    "substring operations\n",
    "- get first char\n",
    "- get last char\n",
    "- get substring\n",
    "- remove substring\n"
   ]
  },
  {
   "cell_type": "markdown",
   "metadata": {},
   "source": [
    "#### Answer"
   ]
  },
  {
   "cell_type": "code",
   "execution_count": 8,
   "metadata": {},
   "outputs": [
    {
     "name": "stdout",
     "output_type": "stream",
     "text": [
      "a\n",
      "k\n",
      "en\n",
      "a gre crocodile likes to walk\n"
     ]
    }
   ],
   "source": [
    "ss = \"\"\"a green crocodile likes to walk\"\"\"\n",
    "a1 = ss[0]            # first char\n",
    "a2 = ss[-1]           # last char\n",
    "a3 = ss[5:7]          # substring\n",
    "a4 = ss[:5] + ss[7:]  # remove substring\n",
    "print(a1)\n",
    "print(a2)\n",
    "print(a3)\n",
    "print(a4)"
   ]
  },
  {
   "cell_type": "markdown",
   "metadata": {},
   "source": [
    "### -------------------- Question 9 --------------------"
   ]
  },
  {
   "cell_type": "markdown",
   "metadata": {},
   "source": [
    "give examples of comprehensions for list, set, dict, generator"
   ]
  },
  {
   "cell_type": "markdown",
   "metadata": {},
   "source": [
    "#### Answer"
   ]
  },
  {
   "cell_type": "code",
   "execution_count": 9,
   "metadata": {},
   "outputs": [
    {
     "name": "stdout",
     "output_type": "stream",
     "text": [
      "0\n",
      "1\n",
      "4\n",
      "9\n",
      "<class 'generator'>\n",
      "0\n",
      "1\n",
      "4\n",
      "9\n"
     ]
    }
   ],
   "source": [
    "# list comprehension:\n",
    "[3*x for x in range(10)]  #  [0, 3, 6, 9, 12, 15, 18, 21, 24, 27]\n",
    "[3*x for x in range(10) if x % 3 == 0]  # [0, 9, 18, 27]\n",
    "# [0,1,2,3,4,5,6,7,8,9]\n",
    "\n",
    "\n",
    "# set comprehension:\n",
    "{x for x in 'abracadabra' if x not in 'abc'}    #  set(['r', 'd'])\n",
    "\n",
    "# dict comprehension\n",
    "{x: x**2 for x in (2, 4, 6)}  # {2: 4, 4: 16, 6: 36}\n",
    "\n",
    "# Generator comprehension\n",
    "for ii in (x**2 for x in range(4)):\n",
    "    print(ii)\n",
    "\n",
    "mygen = (x**2 for x in range(4))\n",
    "print(type(mygen))\n",
    "for ii in mygen: print(ii)\n",
    "for ii in mygen: print(ii) # second time it is empty"
   ]
  },
  {
   "cell_type": "markdown",
   "metadata": {},
   "source": [
    "### -------------------- Question 10 --------------------"
   ]
  },
  {
   "cell_type": "markdown",
   "metadata": {},
   "source": [
    "How to convert string to all upper or all lower chars.\n",
    "Also how to remove empty spaces and line-feed chars form the end or from both ends\n"
   ]
  },
  {
   "cell_type": "markdown",
   "metadata": {},
   "source": [
    "#### Answer"
   ]
  },
  {
   "cell_type": "code",
   "execution_count": 10,
   "metadata": {
    "execution": {
     "iopub.execute_input": "2020-06-20T01:09:29.425Z",
     "iopub.status.busy": "2020-06-20T01:09:29.409Z",
     "iopub.status.idle": "2020-06-20T01:09:29.458Z",
     "shell.execute_reply": "2020-06-20T01:09:29.473Z"
    }
   },
   "outputs": [
    {
     "name": "stdout",
     "output_type": "stream",
     "text": [
      "MAMA\n",
      "mama\n",
      "mama\n",
      " \n",
      " mama\n"
     ]
    }
   ],
   "source": [
    "print('MAma'.upper())\n",
    "print('MAma'.lower())\n",
    "print(' \\n mama \\n \\n '.strip())\n",
    "print(' \\n mama \\n \\n '.rstrip())"
   ]
  },
  {
   "cell_type": "markdown",
   "metadata": {},
   "source": [
    "### -------------------- Question 11 --------------------"
   ]
  },
  {
   "cell_type": "markdown",
   "metadata": {},
   "source": [
    "What is True or False ?\n",
    "<br>What is the difference between None and NaN ?\n",
    "<br>How to test if a variable is None or NaN\n",
    "<br>Is NaN True or False ?\n",
    "<br>How to create a NaN value (for testing)?"
   ]
  },
  {
   "cell_type": "markdown",
   "metadata": {},
   "source": [
    "#### Answer"
   ]
  },
  {
   "cell_type": "code",
   "execution_count": 11,
   "metadata": {},
   "outputs": [
    {
     "name": "stdout",
     "output_type": "stream",
     "text": [
      "nan\n",
      "nan\n"
     ]
    }
   ],
   "source": [
    "# False = None, False, any zero, empty string,\n",
    "#         empty sequence or mapping - (),[],{}\n",
    "\n",
    "# NaN (Not A Number) is True  (go figure).\n",
    "\n",
    "# a == a is True for None, but False for NaN \n",
    "\n",
    "def is_nan(num):\n",
    "    return num != num\n",
    "\n",
    "# Two ways to create a NaN value:\n",
    "aa = 1e400*0\n",
    "print(aa)\n",
    "\n",
    "import numpy as np\n",
    "aa = np.nan\n",
    "print(aa)"
   ]
  },
  {
   "cell_type": "markdown",
   "metadata": {},
   "source": [
    "### -------------------- Question 12 --------------------"
   ]
  },
  {
   "cell_type": "markdown",
   "metadata": {},
   "source": [
    "How to write a function which changes a string?"
   ]
  },
  {
   "cell_type": "markdown",
   "metadata": {},
   "source": [
    "#### Answer"
   ]
  },
  {
   "cell_type": "markdown",
   "metadata": {},
   "source": [
    "```\n",
    "When passing parameters into functions:\n",
    "  - simple types (int, float, etc.) a passed \"by value\", \n",
    "    so changing them inside doesn't change them outside.\n",
    "  - all objects (except strings) are passed by reference, \n",
    "    so changing them inside also changs them outside\n",
    "\n",
    "def modifyList(aList):\n",
    "      N=len(aList)\n",
    "      for ii in range(N):\n",
    "        aList[ii] *= 2\n",
    "\n",
    "  - strings are passed by reference, but changing the string \n",
    "    inside doesn't change it outside.\n",
    "    You have to \"return\" the string from the function\n",
    "    (or pass it inside of a container - for example in a list).\n",
    "```"
   ]
  },
  {
   "cell_type": "markdown",
   "metadata": {},
   "source": [
    "### -------------------- Question 13 --------------------"
   ]
  },
  {
   "cell_type": "markdown",
   "metadata": {},
   "source": [
    "What are default values of function arguments?"
   ]
  },
  {
   "cell_type": "markdown",
   "metadata": {},
   "source": [
    "#### Answer"
   ]
  },
  {
   "cell_type": "code",
   "execution_count": 12,
   "metadata": {},
   "outputs": [
    {
     "name": "stdout",
     "output_type": "stream",
     "text": [
      "Hello\n",
      "WorldWorldWorldWorldWorld\n"
     ]
    }
   ],
   "source": [
    "# Example:\n",
    "\n",
    "def say(message, times = 1):\n",
    "    print(message * times)\n",
    "\n",
    "say('Hello')\n",
    "say('World', 5)"
   ]
  },
  {
   "cell_type": "markdown",
   "metadata": {},
   "source": [
    "### -------------------- Question 14 --------------------"
   ]
  },
  {
   "cell_type": "code",
   "execution_count": 13,
   "metadata": {},
   "outputs": [],
   "source": [
    "# ??"
   ]
  },
  {
   "cell_type": "markdown",
   "metadata": {},
   "source": [
    "#### Answer"
   ]
  },
  {
   "cell_type": "code",
   "execution_count": 14,
   "metadata": {},
   "outputs": [],
   "source": [
    "# ??"
   ]
  },
  {
   "cell_type": "markdown",
   "metadata": {},
   "source": [
    "### -------------------- Question 15 --------------------"
   ]
  },
  {
   "cell_type": "markdown",
   "metadata": {},
   "source": [
    "How to use a module's \\_\\_name\\_\\_"
   ]
  },
  {
   "cell_type": "markdown",
   "metadata": {},
   "source": [
    "#### Answer"
   ]
  },
  {
   "cell_type": "code",
   "execution_count": 15,
   "metadata": {},
   "outputs": [
    {
     "name": "stdout",
     "output_type": "stream",
     "text": [
      "This program is being run by itself\n"
     ]
    }
   ],
   "source": [
    "if __name__ == '__main__':\n",
    "    print('This program is being run by itself')\n",
    "else:\n",
    "    print('I am being imported from another module')\n"
   ]
  },
  {
   "cell_type": "markdown",
   "metadata": {},
   "source": [
    "### -------------------- Question 16 --------------------"
   ]
  },
  {
   "cell_type": "markdown",
   "metadata": {},
   "source": [
    "How to undefine a variable?"
   ]
  },
  {
   "cell_type": "markdown",
   "metadata": {},
   "source": [
    "#### Answer"
   ]
  },
  {
   "cell_type": "code",
   "execution_count": 16,
   "metadata": {
    "execution": {
     "iopub.execute_input": "2020-06-20T01:11:41.543Z",
     "iopub.status.busy": "2020-06-20T01:11:41.528Z",
     "iopub.status.idle": "2020-06-20T01:11:41.576Z",
     "shell.execute_reply": "2020-06-20T01:11:41.592Z"
    }
   },
   "outputs": [
    {
     "name": "stdout",
     "output_type": "stream",
     "text": [
      "['BitGenerator', 'Generator', 'IPython', 'Image', 'In', 'MT19937', 'MyBunch', 'N', 'Out', 'PCG64', 'PCG64DXSM', 'Pdb', 'Philox', 'RandomState', 'SFC64', 'SeedSequence', '_', '__', '___', '__builtin__', '__builtins__', '__doc__', '__loader__', '__name__', '__package__', '__spec__', '_dh', '_exit_code', '_i', '_i1', '_i10', '_i11', '_i12', '_i13', '_i14', '_i15', '_i16', '_i2', '_i3', '_i4', '_i5', '_i6', '_i7', '_i8', '_i9', '_ih', '_ii', '_iii', '_oh', 'a1', 'a2', 'a3', 'a4', 'aa', 'bb', 'bbb', 'beta', 'biglist', 'binomial', 'bytes', 'chisquare', 'choice', 'ddd', 'ddd2', 'ddd3', 'debug_here', 'default_rng', 'df_size', 'dirichlet', 'display', 'exit', 'exponential', 'f', 'fh', 'fname', 'ftplib', 'gamma', 'gcd', 'geometric', 'get_ipython', 'get_state', 'gumbel', 'hypergeometric', 'ii', 'importlib', 'is_nan', 'john_savings', 'laplace', 'logistic', 'lognormal', 'logseries', 'mm', 'multinomial', 'multivariate_normal', 'mygen', 'mygrep', 'myhist', 'mymodules', 'myprint', 'negative_binomial', 'nn', 'noncentral_chisquare', 'noncentral_f', 'normal', 'np', 'os', 'pareto', 'pd', 'pdb', 'permutation', 'pkgutil', 'plt', 'poisson', 'power', 'quit', 'r', 'rand', 'randint', 'randn', 'random', 'random_integers', 'random_sample', 'ranf', 'rayleigh', 're', 'read_pk', 'remask', 'result', 'rows_with_nulls', 'run_from_ipython', 'sample', 'say', 'seed', 'set_state', 'set_trace', 'show_duplicates', 'shuffle', 'ss', 'standard_cauchy', 'standard_exponential', 'standard_gamma', 'standard_normal', 'standard_t', 'substr', 'sys', 'sys_exit_1', 'test_avail', 'tofile', 'triangular', 'uniform', 'vonmises', 'wald', 'wc', 'weibull', 'word', 'words', 'zipf']\n",
      "True\n",
      "False\n"
     ]
    }
   ],
   "source": [
    "print(dir())    # shows big list of names of variables/objects\n",
    "aaa = 5         # create new variable\n",
    "print('aaa' in dir())  # True\n",
    "del aaa         # removed this variable\n",
    "print('aaa' in dir())  # False"
   ]
  },
  {
   "cell_type": "markdown",
   "metadata": {},
   "source": [
    "### -------------------- Question 17 --------------------"
   ]
  },
  {
   "cell_type": "markdown",
   "metadata": {},
   "source": [
    "What is a tuple?"
   ]
  },
  {
   "cell_type": "markdown",
   "metadata": {},
   "source": [
    "#### Answer"
   ]
  },
  {
   "cell_type": "code",
   "execution_count": 17,
   "metadata": {},
   "outputs": [],
   "source": [
    "mytuple = (1, 2, 'aa', 'bb')\n",
    "one_element_tuple = ('a',)\n",
    "\n",
    "# Tuples are just like lists except that they are immutable\n",
    "# like strings i.e. you cannot modify tuples.\n",
    "# You can use tuples as keys in dictionaries or as elements in sets"
   ]
  },
  {
   "cell_type": "markdown",
   "metadata": {},
   "source": [
    "### -------------------- Question 18 --------------------"
   ]
  },
  {
   "cell_type": "markdown",
   "metadata": {},
   "source": [
    "What is a sequence?"
   ]
  },
  {
   "cell_type": "markdown",
   "metadata": {},
   "source": [
    "#### Answer"
   ]
  },
  {
   "cell_type": "code",
   "execution_count": 18,
   "metadata": {},
   "outputs": [],
   "source": [
    "# Sequences are things that can be indexed and sliced.\n",
    "# Lists, tuples and strings are examples of sequences.\n",
    "# Here are examples of indexing / slicing:\n",
    "#   [i1:i2]   # i1, i1+1, ...  i2-1 (does NOT include i2) \n",
    "#   [i:]      # i, i+1, ... to the end\n",
    "#   [:i]      # 0,1,2,... i-1 (does NOT include i)\n",
    "#   [:]       # everything\n",
    "#   [i]       # returns list with just one element\n",
    "#   [i:i]     # returns [] empty list (i:i indicates empty position right after i)"
   ]
  },
  {
   "cell_type": "markdown",
   "metadata": {},
   "source": [
    "### -------------------- Question 19 --------------------"
   ]
  },
  {
   "cell_type": "markdown",
   "metadata": {},
   "source": [
    "Show how to reverse a list and a string."
   ]
  },
  {
   "cell_type": "markdown",
   "metadata": {},
   "source": [
    "#### Answer"
   ]
  },
  {
   "cell_type": "code",
   "execution_count": 19,
   "metadata": {},
   "outputs": [
    {
     "name": "stdout",
     "output_type": "stream",
     "text": [
      "range(12, -3, -3)\n",
      "[12, 9, 6, 3, 0]\n",
      "[12, 9, 6, 3, 0]\n",
      "[]\n",
      "olleh\n",
      "olleh\n"
     ]
    }
   ],
   "source": [
    "# reversing a list\n",
    "mylist = range(0,15,3)\n",
    "print(mylist[::-1])           # [12, 9, 6, 3, 0]\n",
    "print(list(reversed(mylist))) # [12, 9, 6, 3, 0] \n",
    "\n",
    "# Note: reversed(mylist) creates an iterator\n",
    "# you have to be careful with iterators,\n",
    "# you can use them only once after creation\n",
    "\n",
    "aa = reversed(mylist)\n",
    "print(list(aa))  # [9, 8, 7, 6, 5, 4, 3, 2, 1, 0]\n",
    "print(list(aa))  # []  - second time iterator can not be used\n",
    "\n",
    "# for strings unfortunately there is no method for reversing.\n",
    "# two common workarounds: using extended slice syntax with negative step\n",
    "# or converting to list, reversing, converting back to string:\n",
    "\n",
    "print('hello'[::-1])                     # 'olleh'\n",
    "print(''.join(reversed(list('hello'))))  # 'olleh'"
   ]
  },
  {
   "cell_type": "markdown",
   "metadata": {},
   "source": [
    "### -------------------- Question 20 --------------------"
   ]
  },
  {
   "cell_type": "markdown",
   "metadata": {},
   "source": [
    "Show how to use the following standard functions \n",
    "- filter(func, seq)\n",
    "- map(func, seq)\n",
    "- reduce(func, seq)"
   ]
  },
  {
   "cell_type": "markdown",
   "metadata": {},
   "source": [
    "#### Answer"
   ]
  },
  {
   "cell_type": "code",
   "execution_count": 20,
   "metadata": {},
   "outputs": [
    {
     "name": "stdout",
     "output_type": "stream",
     "text": [
      "[5, 7, 11, 13, 17, 19, 23]\n",
      "[1, 8, 27, 64]\n",
      "55\n"
     ]
    }
   ],
   "source": [
    "# filter - similar to unix grep,\n",
    "# returns string for string, tuple for tuple, list for anything else\n",
    "def f(x): return x % 2 != 0 and x % 3 != 0\n",
    "a = filter(f, range(2, 25))  # [5, 7, 11, 13, 17, 19, 23]\n",
    "print(list(a))\n",
    "\n",
    "# map - applies function to one or more sequences\n",
    "def cube(x): return x**3\n",
    "a = map(cube, range(1, 5)) # [1, 8, 27, 64, 125]\n",
    "print(list(a))\n",
    "\n",
    "# reduce - applies function to first 2 elements, then to the result and next element, etc.\n",
    "from functools import reduce\n",
    "def add(x,y): return x+y\n",
    "a = reduce(add, range(1, 11)) # 55\n",
    "print(a)"
   ]
  },
  {
   "cell_type": "markdown",
   "metadata": {},
   "source": [
    "### -------------------- Question 21 --------------------"
   ]
  },
  {
   "cell_type": "markdown",
   "metadata": {},
   "source": [
    "Write a short script which asks for input"
   ]
  },
  {
   "cell_type": "markdown",
   "metadata": {},
   "source": [
    "#### Answer"
   ]
  },
  {
   "cell_type": "code",
   "execution_count": 21,
   "metadata": {},
   "outputs": [
    {
     "name": "stdout",
     "output_type": "stream",
     "text": [
      "Enter a digit form 1 to 9 : 2\n"
     ]
    }
   ],
   "source": [
    "resp = input('Enter a digit form 1 to 9 : ')\n",
    "resp = resp.strip()\n",
    "res = re.search(r'(\\d+)',resp)\n",
    "N_entered = None\n",
    "if res:\n",
    "    N_entered = int(res.group(1)[0])"
   ]
  },
  {
   "cell_type": "markdown",
   "metadata": {},
   "source": [
    "### -------------------- Question 22 --------------------"
   ]
  },
  {
   "cell_type": "markdown",
   "metadata": {},
   "source": [
    "Show simple class definition and usage"
   ]
  },
  {
   "cell_type": "markdown",
   "metadata": {},
   "source": [
    "#### Answer"
   ]
  },
  {
   "cell_type": "code",
   "execution_count": 22,
   "metadata": {},
   "outputs": [
    {
     "name": "stdout",
     "output_type": "stream",
     "text": [
      "Hello, my name is John\n"
     ]
    }
   ],
   "source": [
    "class Person:\n",
    "    def __init__(self, name):\n",
    "        self.name = name\n",
    "    def sayHi(self):\n",
    "        print('Hello, my name is', self.name)\n",
    "\n",
    "p = Person('John')\n",
    "p.sayHi()"
   ]
  },
  {
   "cell_type": "code",
   "execution_count": null,
   "metadata": {},
   "outputs": [],
   "source": []
  }
 ],
 "metadata": {
  "kernelspec": {
   "display_name": "Python 3 (ipykernel)",
   "language": "python",
   "name": "python3"
  },
  "language_info": {
   "codemirror_mode": {
    "name": "ipython",
    "version": 3
   },
   "file_extension": ".py",
   "mimetype": "text/x-python",
   "name": "python",
   "nbconvert_exporter": "python",
   "pygments_lexer": "ipython3",
   "version": "3.9.12"
  },
  "nteract": {
   "version": "0.23.3"
  }
 },
 "nbformat": 4,
 "nbformat_minor": 4
}
