{
 "cells": [
  {
   "cell_type": "markdown",
   "metadata": {},
   "source": [
    "## Pandas Date Time Operations"
   ]
  },
  {
   "cell_type": "code",
   "execution_count": 1,
   "metadata": {},
   "outputs": [
    {
     "name": "stdout",
     "output_type": "stream",
     "text": [
      "Python 3.9.12\r\n"
     ]
    }
   ],
   "source": [
    "import os, sys, time\n",
    "t_nb_start = time.time()\n",
    "import pandas as pd\n",
    "import numpy as np\n",
    "import datetime as dt\n",
    "!python --version"
   ]
  },
  {
   "cell_type": "code",
   "execution_count": 2,
   "metadata": {},
   "outputs": [],
   "source": [
    "df = pd.DataFrame(\n",
    "    {'dt_str': [pd.to_datetime('2019-05-15 13:25:43'),\n",
    "                pd.to_datetime('2018-03-14 13:25:43'),\n",
    "                pd.to_datetime('2017-01-13 13:25:43')],\n",
    "     'label': ['A','B','C'],\n",
    "     'date_str': [\n",
    "         \"1/1/2022\",\n",
    "         \"2/1/2022\",\n",
    "         \"3/31/2022\"]\n",
    "     })"
   ]
  },
  {
   "cell_type": "code",
   "execution_count": 3,
   "metadata": {},
   "outputs": [],
   "source": [
    "# convert datetime to int, \n",
    "# then divide by 10*9 to convert nano seconds to seconds\n",
    "df['dt_int'] = pd.to_datetime(df['dt_str']).view(int) / 10**9   "
   ]
  },
  {
   "cell_type": "code",
   "execution_count": 4,
   "metadata": {},
   "outputs": [
    {
     "name": "stdout",
     "output_type": "stream",
     "text": [
      "<class 'pandas.core.frame.DataFrame'>\n",
      "----------------------------------------\n"
     ]
    },
    {
     "data": {
      "text/html": [
       "<div>\n",
       "<style scoped>\n",
       "    .dataframe tbody tr th:only-of-type {\n",
       "        vertical-align: middle;\n",
       "    }\n",
       "\n",
       "    .dataframe tbody tr th {\n",
       "        vertical-align: top;\n",
       "    }\n",
       "\n",
       "    .dataframe thead th {\n",
       "        text-align: right;\n",
       "    }\n",
       "</style>\n",
       "<table border=\"1\" class=\"dataframe\">\n",
       "  <thead>\n",
       "    <tr style=\"text-align: right;\">\n",
       "      <th></th>\n",
       "      <th>dt_str</th>\n",
       "      <th>label</th>\n",
       "      <th>date_str</th>\n",
       "      <th>dt_int</th>\n",
       "    </tr>\n",
       "  </thead>\n",
       "  <tbody>\n",
       "    <tr>\n",
       "      <th>0</th>\n",
       "      <td>2019-05-15 13:25:43</td>\n",
       "      <td>A</td>\n",
       "      <td>1/1/2022</td>\n",
       "      <td>1.557927e+09</td>\n",
       "    </tr>\n",
       "    <tr>\n",
       "      <th>1</th>\n",
       "      <td>2018-03-14 13:25:43</td>\n",
       "      <td>B</td>\n",
       "      <td>2/1/2022</td>\n",
       "      <td>1.521034e+09</td>\n",
       "    </tr>\n",
       "    <tr>\n",
       "      <th>2</th>\n",
       "      <td>2017-01-13 13:25:43</td>\n",
       "      <td>C</td>\n",
       "      <td>3/31/2022</td>\n",
       "      <td>1.484314e+09</td>\n",
       "    </tr>\n",
       "  </tbody>\n",
       "</table>\n",
       "</div>"
      ],
      "text/plain": [
       "               dt_str label   date_str        dt_int\n",
       "0 2019-05-15 13:25:43     A   1/1/2022  1.557927e+09\n",
       "1 2018-03-14 13:25:43     B   2/1/2022  1.521034e+09\n",
       "2 2017-01-13 13:25:43     C  3/31/2022  1.484314e+09"
      ]
     },
     "metadata": {},
     "output_type": "display_data"
    }
   ],
   "source": [
    "print(type(df))\n",
    "print(\"-\"*40)\n",
    "display(df)"
   ]
  },
  {
   "cell_type": "code",
   "execution_count": 5,
   "metadata": {},
   "outputs": [],
   "source": [
    "chars_allowed = set(['0','1','2','3','4','5','6','7','8','9','/'])\n",
    "\n",
    "def clean_date_str(ss):\n",
    "    \"\"\"\n",
    "    # converts date string from 'm/d/y' to \"yyyy-mm-dd\" format\n",
    "    # if format is wrong - returns np.nan\n",
    "    # valid years are 1971-2022\n",
    "    \"\"\"\n",
    "    if ss != ss:\n",
    "        return np.nan\n",
    "    if ss == None:\n",
    "        return np.nan\n",
    "    if not (set(ss) <= chars_allowed):\n",
    "        return np.nan\n",
    "    mylist = ss.split(\"/\")\n",
    "    if len(mylist) != 3:\n",
    "        return np.nan\n",
    "    \n",
    "    m,d,y = mylist\n",
    "    year = int(y)\n",
    "    mm   = int(m)\n",
    "    dd   = int(d)\n",
    "    \n",
    "    if 80 <= year < 100:\n",
    "        yyyy = 1900 + year\n",
    "    elif year < 40:\n",
    "        yyyy = 2000 + year\n",
    "    elif 2000 <= year < 2040:\n",
    "        yyyy = year\n",
    "    else:\n",
    "        return np.nan\n",
    "\n",
    "    try:\n",
    "        dt.datetime(year=yyyy,month=mm,day=dd,hour=1)\n",
    "        return \"%4d-%02d-%02d\" % (yyyy, mm, dd)\n",
    "    except:\n",
    "        return np.nan "
   ]
  },
  {
   "cell_type": "code",
   "execution_count": 6,
   "metadata": {},
   "outputs": [
    {
     "data": {
      "text/html": [
       "<div>\n",
       "<style scoped>\n",
       "    .dataframe tbody tr th:only-of-type {\n",
       "        vertical-align: middle;\n",
       "    }\n",
       "\n",
       "    .dataframe tbody tr th {\n",
       "        vertical-align: top;\n",
       "    }\n",
       "\n",
       "    .dataframe thead th {\n",
       "        text-align: right;\n",
       "    }\n",
       "</style>\n",
       "<table border=\"1\" class=\"dataframe\">\n",
       "  <thead>\n",
       "    <tr style=\"text-align: right;\">\n",
       "      <th></th>\n",
       "      <th>dt_str</th>\n",
       "      <th>label</th>\n",
       "      <th>date_str</th>\n",
       "      <th>dt_int</th>\n",
       "      <th>date_str2</th>\n",
       "    </tr>\n",
       "  </thead>\n",
       "  <tbody>\n",
       "    <tr>\n",
       "      <th>0</th>\n",
       "      <td>2019-05-15 13:25:43</td>\n",
       "      <td>A</td>\n",
       "      <td>1/1/2022</td>\n",
       "      <td>1.557927e+09</td>\n",
       "      <td>2022-01-01</td>\n",
       "    </tr>\n",
       "    <tr>\n",
       "      <th>1</th>\n",
       "      <td>2018-03-14 13:25:43</td>\n",
       "      <td>B</td>\n",
       "      <td>2/1/2022</td>\n",
       "      <td>1.521034e+09</td>\n",
       "      <td>2022-02-01</td>\n",
       "    </tr>\n",
       "    <tr>\n",
       "      <th>2</th>\n",
       "      <td>2017-01-13 13:25:43</td>\n",
       "      <td>C</td>\n",
       "      <td>3/31/2022</td>\n",
       "      <td>1.484314e+09</td>\n",
       "      <td>2022-03-31</td>\n",
       "    </tr>\n",
       "  </tbody>\n",
       "</table>\n",
       "</div>"
      ],
      "text/plain": [
       "               dt_str label   date_str        dt_int   date_str2\n",
       "0 2019-05-15 13:25:43     A   1/1/2022  1.557927e+09  2022-01-01\n",
       "1 2018-03-14 13:25:43     B   2/1/2022  1.521034e+09  2022-02-01\n",
       "2 2017-01-13 13:25:43     C  3/31/2022  1.484314e+09  2022-03-31"
      ]
     },
     "execution_count": 6,
     "metadata": {},
     "output_type": "execute_result"
    }
   ],
   "source": [
    "col = \"date_str\"\n",
    "# clean date_str - and convery to \"YYYY-MM-DD\" format \n",
    "df[col+\"2\"] = df[col].map(clean_date_str)\n",
    "df"
   ]
  },
  {
   "cell_type": "code",
   "execution_count": 7,
   "metadata": {},
   "outputs": [
    {
     "data": {
      "text/html": [
       "<div>\n",
       "<style scoped>\n",
       "    .dataframe tbody tr th:only-of-type {\n",
       "        vertical-align: middle;\n",
       "    }\n",
       "\n",
       "    .dataframe tbody tr th {\n",
       "        vertical-align: top;\n",
       "    }\n",
       "\n",
       "    .dataframe thead th {\n",
       "        text-align: right;\n",
       "    }\n",
       "</style>\n",
       "<table border=\"1\" class=\"dataframe\">\n",
       "  <thead>\n",
       "    <tr style=\"text-align: right;\">\n",
       "      <th></th>\n",
       "      <th>dt_str</th>\n",
       "      <th>label</th>\n",
       "      <th>date_str</th>\n",
       "      <th>dt_int</th>\n",
       "      <th>date_str2</th>\n",
       "      <th>date_str23</th>\n",
       "    </tr>\n",
       "  </thead>\n",
       "  <tbody>\n",
       "    <tr>\n",
       "      <th>0</th>\n",
       "      <td>2019-05-15 13:25:43</td>\n",
       "      <td>A</td>\n",
       "      <td>1/1/2022</td>\n",
       "      <td>1.557927e+09</td>\n",
       "      <td>2022-01-01</td>\n",
       "      <td>2022-01-01</td>\n",
       "    </tr>\n",
       "    <tr>\n",
       "      <th>1</th>\n",
       "      <td>2018-03-14 13:25:43</td>\n",
       "      <td>B</td>\n",
       "      <td>2/1/2022</td>\n",
       "      <td>1.521034e+09</td>\n",
       "      <td>2022-02-01</td>\n",
       "      <td>2022-02-01</td>\n",
       "    </tr>\n",
       "    <tr>\n",
       "      <th>2</th>\n",
       "      <td>2017-01-13 13:25:43</td>\n",
       "      <td>C</td>\n",
       "      <td>3/31/2022</td>\n",
       "      <td>1.484314e+09</td>\n",
       "      <td>2022-03-31</td>\n",
       "      <td>2022-03-31</td>\n",
       "    </tr>\n",
       "  </tbody>\n",
       "</table>\n",
       "</div>"
      ],
      "text/plain": [
       "               dt_str label   date_str        dt_int   date_str2 date_str23\n",
       "0 2019-05-15 13:25:43     A   1/1/2022  1.557927e+09  2022-01-01 2022-01-01\n",
       "1 2018-03-14 13:25:43     B   2/1/2022  1.521034e+09  2022-02-01 2022-02-01\n",
       "2 2017-01-13 13:25:43     C  3/31/2022  1.484314e+09  2022-03-31 2022-03-31"
      ]
     },
     "metadata": {},
     "output_type": "display_data"
    },
    {
     "name": "stdout",
     "output_type": "stream",
     "text": [
      "------------------------------------------------------------\n"
     ]
    },
    {
     "data": {
      "text/plain": [
       "dt_str        datetime64[ns]\n",
       "label                 object\n",
       "date_str              object\n",
       "dt_int               float64\n",
       "date_str2             object\n",
       "date_str23    datetime64[ns]\n",
       "dtype: object"
      ]
     },
     "metadata": {},
     "output_type": "display_data"
    }
   ],
   "source": [
    "# convert string to datetime\n",
    "col = \"date_str2\"\n",
    "df[col+\"3\"] = pd.to_datetime(df[col].values, infer_datetime_format=True)\n",
    "display(df)\n",
    "print(\"-\"*60)\n",
    "display(df.dtypes)"
   ]
  },
  {
   "cell_type": "code",
   "execution_count": 8,
   "metadata": {},
   "outputs": [
    {
     "data": {
      "text/plain": [
       "['2022-01-01', '2022-02-01', '2022-03-31']"
      ]
     },
     "execution_count": 8,
     "metadata": {},
     "output_type": "execute_result"
    }
   ],
   "source": [
    "# convert datetime to string\n",
    "mylist = df[\"date_str23\"].values\n",
    "mylist = [np.datetime_as_string(x, unit='D') for x in mylist]\n",
    "mylist"
   ]
  },
  {
   "cell_type": "code",
   "execution_count": 9,
   "metadata": {},
   "outputs": [
    {
     "data": {
      "text/plain": [
       "'2022-01-01'"
      ]
     },
     "metadata": {},
     "output_type": "display_data"
    },
    {
     "data": {
      "text/plain": [
       "'2022-03-31'"
      ]
     },
     "metadata": {},
     "output_type": "display_data"
    }
   ],
   "source": [
    "# find max and min dates\n",
    "mmin = df[\"date_str23\"].min()            # type - pandas Timestamp\n",
    "mmin_str = mmin.date().strftime(\"%Y-%m-%d\")  # type - str\n",
    "display(mmin_str)\n",
    "\n",
    "mmax = df[\"date_str23\"].max()            # type - pandas Timestamp\n",
    "mmax_str = mmax.date().strftime(\"%Y-%m-%d\")  # type - str\n",
    "display(mmax_str)"
   ]
  },
  {
   "cell_type": "code",
   "execution_count": 10,
   "metadata": {},
   "outputs": [
    {
     "data": {
      "text/html": [
       "<div>\n",
       "<style scoped>\n",
       "    .dataframe tbody tr th:only-of-type {\n",
       "        vertical-align: middle;\n",
       "    }\n",
       "\n",
       "    .dataframe tbody tr th {\n",
       "        vertical-align: top;\n",
       "    }\n",
       "\n",
       "    .dataframe thead th {\n",
       "        text-align: right;\n",
       "    }\n",
       "</style>\n",
       "<table border=\"1\" class=\"dataframe\">\n",
       "  <thead>\n",
       "    <tr style=\"text-align: right;\">\n",
       "      <th></th>\n",
       "      <th>dt_str</th>\n",
       "      <th>label</th>\n",
       "      <th>date_str</th>\n",
       "      <th>dt_int</th>\n",
       "      <th>date_str2</th>\n",
       "      <th>date_str23</th>\n",
       "      <th>day</th>\n",
       "      <th>month</th>\n",
       "      <th>year</th>\n",
       "    </tr>\n",
       "  </thead>\n",
       "  <tbody>\n",
       "    <tr>\n",
       "      <th>0</th>\n",
       "      <td>2019-05-15 13:25:43</td>\n",
       "      <td>A</td>\n",
       "      <td>1/1/2022</td>\n",
       "      <td>1.557927e+09</td>\n",
       "      <td>2022-01-01</td>\n",
       "      <td>2022-01-01</td>\n",
       "      <td>15</td>\n",
       "      <td>5</td>\n",
       "      <td>2019</td>\n",
       "    </tr>\n",
       "    <tr>\n",
       "      <th>1</th>\n",
       "      <td>2018-03-14 13:25:43</td>\n",
       "      <td>B</td>\n",
       "      <td>2/1/2022</td>\n",
       "      <td>1.521034e+09</td>\n",
       "      <td>2022-02-01</td>\n",
       "      <td>2022-02-01</td>\n",
       "      <td>14</td>\n",
       "      <td>3</td>\n",
       "      <td>2018</td>\n",
       "    </tr>\n",
       "    <tr>\n",
       "      <th>2</th>\n",
       "      <td>2017-01-13 13:25:43</td>\n",
       "      <td>C</td>\n",
       "      <td>3/31/2022</td>\n",
       "      <td>1.484314e+09</td>\n",
       "      <td>2022-03-31</td>\n",
       "      <td>2022-03-31</td>\n",
       "      <td>13</td>\n",
       "      <td>1</td>\n",
       "      <td>2017</td>\n",
       "    </tr>\n",
       "  </tbody>\n",
       "</table>\n",
       "</div>"
      ],
      "text/plain": [
       "               dt_str label   date_str        dt_int   date_str2 date_str23  day  month  year\n",
       "0 2019-05-15 13:25:43     A   1/1/2022  1.557927e+09  2022-01-01 2022-01-01   15      5  2019\n",
       "1 2018-03-14 13:25:43     B   2/1/2022  1.521034e+09  2022-02-01 2022-02-01   14      3  2018\n",
       "2 2017-01-13 13:25:43     C  3/31/2022  1.484314e+09  2022-03-31 2022-03-31   13      1  2017"
      ]
     },
     "execution_count": 10,
     "metadata": {},
     "output_type": "execute_result"
    }
   ],
   "source": [
    "# extract day, month, year from date\n",
    "df[\"day\"]   = df[\"dt_str\"].dt.day\n",
    "df[\"month\"] = df[\"dt_str\"].dt.month\n",
    "df[\"year\"]  = df[\"dt_str\"].dt.year\n",
    "df"
   ]
  },
  {
   "cell_type": "code",
   "execution_count": 11,
   "metadata": {},
   "outputs": [
    {
     "data": {
      "text/html": [
       "<div>\n",
       "<style scoped>\n",
       "    .dataframe tbody tr th:only-of-type {\n",
       "        vertical-align: middle;\n",
       "    }\n",
       "\n",
       "    .dataframe tbody tr th {\n",
       "        vertical-align: top;\n",
       "    }\n",
       "\n",
       "    .dataframe thead th {\n",
       "        text-align: right;\n",
       "    }\n",
       "</style>\n",
       "<table border=\"1\" class=\"dataframe\">\n",
       "  <thead>\n",
       "    <tr style=\"text-align: right;\">\n",
       "      <th></th>\n",
       "      <th>dt_str</th>\n",
       "      <th>label</th>\n",
       "      <th>date_str</th>\n",
       "      <th>dt_int</th>\n",
       "      <th>date_str2</th>\n",
       "      <th>date_str23</th>\n",
       "      <th>day</th>\n",
       "      <th>month</th>\n",
       "      <th>year</th>\n",
       "      <th>period_month</th>\n",
       "    </tr>\n",
       "  </thead>\n",
       "  <tbody>\n",
       "    <tr>\n",
       "      <th>0</th>\n",
       "      <td>2019-05-15 13:25:43</td>\n",
       "      <td>A</td>\n",
       "      <td>1/1/2022</td>\n",
       "      <td>1.557927e+09</td>\n",
       "      <td>2022-01-01</td>\n",
       "      <td>2022-01-01</td>\n",
       "      <td>15</td>\n",
       "      <td>5</td>\n",
       "      <td>2019</td>\n",
       "      <td>2019-05</td>\n",
       "    </tr>\n",
       "    <tr>\n",
       "      <th>1</th>\n",
       "      <td>2018-03-14 13:25:43</td>\n",
       "      <td>B</td>\n",
       "      <td>2/1/2022</td>\n",
       "      <td>1.521034e+09</td>\n",
       "      <td>2022-02-01</td>\n",
       "      <td>2022-02-01</td>\n",
       "      <td>14</td>\n",
       "      <td>3</td>\n",
       "      <td>2018</td>\n",
       "      <td>2018-03</td>\n",
       "    </tr>\n",
       "    <tr>\n",
       "      <th>2</th>\n",
       "      <td>2017-01-13 13:25:43</td>\n",
       "      <td>C</td>\n",
       "      <td>3/31/2022</td>\n",
       "      <td>1.484314e+09</td>\n",
       "      <td>2022-03-31</td>\n",
       "      <td>2022-03-31</td>\n",
       "      <td>13</td>\n",
       "      <td>1</td>\n",
       "      <td>2017</td>\n",
       "      <td>2017-01</td>\n",
       "    </tr>\n",
       "  </tbody>\n",
       "</table>\n",
       "</div>"
      ],
      "text/plain": [
       "               dt_str label   date_str        dt_int   date_str2 date_str23  day  month  year period_month\n",
       "0 2019-05-15 13:25:43     A   1/1/2022  1.557927e+09  2022-01-01 2022-01-01   15      5  2019      2019-05\n",
       "1 2018-03-14 13:25:43     B   2/1/2022  1.521034e+09  2022-02-01 2022-02-01   14      3  2018      2018-03\n",
       "2 2017-01-13 13:25:43     C  3/31/2022  1.484314e+09  2022-03-31 2022-03-31   13      1  2017      2017-01"
      ]
     },
     "execution_count": 11,
     "metadata": {},
     "output_type": "execute_result"
    }
   ],
   "source": [
    "# extract \"period_month\" (as \"2001-05\") from date\n",
    "df[\"period_month\"] = pd.to_datetime(df[\"dt_str\"]).dt.to_period('M')\n",
    "df"
   ]
  },
  {
   "cell_type": "code",
   "execution_count": 12,
   "metadata": {},
   "outputs": [
    {
     "data": {
      "text/plain": [
       "dt_str          datetime64[ns]\n",
       "label                   object\n",
       "date_str                object\n",
       "dt_int                 float64\n",
       "date_str2               object\n",
       "date_str23      datetime64[ns]\n",
       "day                      int64\n",
       "month                    int64\n",
       "year                     int64\n",
       "period_month         period[M]\n",
       "dtype: object"
      ]
     },
     "execution_count": 12,
     "metadata": {},
     "output_type": "execute_result"
    }
   ],
   "source": [
    "df.dtypes"
   ]
  },
  {
   "cell_type": "code",
   "execution_count": null,
   "metadata": {},
   "outputs": [],
   "source": []
  }
 ],
 "metadata": {
  "kernelspec": {
   "display_name": "Python 3 (ipykernel)",
   "language": "python",
   "name": "python3"
  },
  "language_info": {
   "codemirror_mode": {
    "name": "ipython",
    "version": 3
   },
   "file_extension": ".py",
   "mimetype": "text/x-python",
   "name": "python",
   "nbconvert_exporter": "python",
   "pygments_lexer": "ipython3",
   "version": "3.9.12"
  }
 },
 "nbformat": 4,
 "nbformat_minor": 4
}
