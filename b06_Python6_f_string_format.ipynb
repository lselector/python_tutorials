{
 "cells": [
  {
   "cell_type": "markdown",
   "metadata": {},
   "source": [
    "## Examples of Using python 3.6+ f-strings\n",
    " - http://zetcode.com/python/fstring/  \n",
    " - https://realpython.com/python-f-strings/"
   ]
  },
  {
   "cell_type": "code",
   "execution_count": 1,
   "metadata": {
    "ExecuteTime": {
     "end_time": "2021-06-20T18:41:29.614388Z",
     "start_time": "2021-06-20T18:41:29.611695Z"
    }
   },
   "outputs": [],
   "source": [
    "import sys,os\n",
    "import datetime as dt"
   ]
  },
  {
   "cell_type": "code",
   "execution_count": 2,
   "metadata": {
    "ExecuteTime": {
     "end_time": "2021-06-20T18:41:29.620079Z",
     "start_time": "2021-06-20T18:41:29.616808Z"
    }
   },
   "outputs": [
    {
     "name": "stdout",
     "output_type": "stream",
     "text": [
      "Peter is 23 years old\n",
      "Peter is 23 years old\n",
      "Peter is 23 years old\n"
     ]
    }
   ],
   "source": [
    "name = 'Peter'\n",
    "age = 23\n",
    "\n",
    "print('%s is %d years old' % (name, age))\n",
    "print('{} is {} years old'.format(name, age))\n",
    "print(f'{name} is {age} years old')"
   ]
  },
  {
   "cell_type": "code",
   "execution_count": 3,
   "metadata": {
    "ExecuteTime": {
     "end_time": "2021-06-20T18:41:29.625357Z",
     "start_time": "2021-06-20T18:41:29.622582Z"
    }
   },
   "outputs": [
    {
     "name": "stdout",
     "output_type": "stream",
     "text": [
      "Total 36 .\n"
     ]
    }
   ],
   "source": [
    "n1 = 3\n",
    "n2 = 12\n",
    "\n",
    "print(f'Total {n1 * n2} .')"
   ]
  },
  {
   "cell_type": "code",
   "execution_count": 4,
   "metadata": {
    "ExecuteTime": {
     "end_time": "2021-06-20T18:41:29.630971Z",
     "start_time": "2021-06-20T18:41:29.627292Z"
    }
   },
   "outputs": [
    {
     "name": "stdout",
     "output_type": "stream",
     "text": [
      "aaaaa | 5 | 12345.6789\n",
      "======================\n",
      "2022-07-09 19:14:16.049151\n",
      "2022-07-09\n",
      "20220709_191416\n"
     ]
    }
   ],
   "source": [
    "sss = 'aaaaa'\n",
    "iii = 5\n",
    "fff = 12345.6789\n",
    "print(f\"{sss} | {iii} | {fff}\")\n",
    "print(\"======================\")\n",
    "now_obj = dt.datetime.now()\n",
    "print(f'{now_obj}')\n",
    "print(f'{now_obj:%Y-%m-%d}')\n",
    "print(f'{now_obj:%Y%m%d_%H%M%S}')"
   ]
  },
  {
   "cell_type": "code",
   "execution_count": 5,
   "metadata": {
    "ExecuteTime": {
     "end_time": "2021-06-20T18:41:29.637405Z",
     "start_time": "2021-06-20T18:41:29.632673Z"
    }
   },
   "outputs": [
    {
     "name": "stdout",
     "output_type": "stream",
     "text": [
      "right        -          a\n",
      "right        -         ab\n",
      "right        -       abcd\n",
      "right padded - 000000abcd\n",
      "-------------------------\n",
      "left         - a         \n",
      "left         - ab        \n",
      "left         - abcd      \n",
      "left  padded - abcd000000\n"
     ]
    }
   ],
   "source": [
    "# formatting strings\n",
    "s1 = 'a'\n",
    "s2 = 'ab'\n",
    "s4 = 'abcd'\n",
    "\n",
    "print(f'right        - {s1:>10}')\n",
    "print(f'right        - {s2:>10}')\n",
    "print(f'right        - {s4:>10}')\n",
    "print(f'right padded - {s4:>010}')\n",
    "print(\"-\"*25)\n",
    "print(f'left         - {s1:<10}')\n",
    "print(f'left         - {s2:<10}')\n",
    "print(f'left         - {s4:<10}')\n",
    "print(f'left  padded - {s4:<010}')"
   ]
  },
  {
   "cell_type": "code",
   "execution_count": 6,
   "metadata": {
    "ExecuteTime": {
     "end_time": "2021-06-20T18:41:29.643418Z",
     "start_time": "2021-06-20T18:41:29.639128Z"
    }
   },
   "outputs": [
    {
     "name": "stdout",
     "output_type": "stream",
     "text": [
      "50000\n",
      "right        -                50000\n",
      "right padded - 00000000000000050000\n",
      "left         - 50000               \n",
      "-------------------------\n",
      "right commas -               50,000\n",
      "left  commas - 50,000              \n",
      "-------------------------\n",
      "hexadecimal  - 30\n",
      "octal        - 60\n",
      "scientific   - 4.800000e+01\n"
     ]
    }
   ],
   "source": [
    "# formatting of integer numbers\n",
    "iii = 50000\n",
    "print(f\"{iii}\")\n",
    "print(f\"right        - {iii:>20d}\")\n",
    "print(f\"right padded - {iii:>020d}\")\n",
    "print(f\"left         - {iii:<20d}\")\n",
    "print(\"-\"*25)\n",
    "print(f\"right commas - {iii:>20,d}\")\n",
    "print(f\"left  commas - {iii:<20,d}\")\n",
    "print(\"-\"*25)\n",
    "a = 48\n",
    "print(f\"hexadecimal  - {a:x}\")\n",
    "print(f\"octal        - {a:o}\")\n",
    "print(f\"scientific   - {a:e}\")"
   ]
  },
  {
   "cell_type": "code",
   "execution_count": 7,
   "metadata": {
    "ExecuteTime": {
     "end_time": "2021-06-20T18:41:29.651073Z",
     "start_time": "2021-06-20T18:41:29.646545Z"
    }
   },
   "outputs": [
    {
     "name": "stdout",
     "output_type": "stream",
     "text": [
      "12345.6789\n",
      "right          -         12345.678900\n",
      "right padded   - 0000000012345.678900\n",
      "left           - 12345.678900        \n",
      "-------------------------\n",
      "right        2 -             12345.68\n",
      "right padded 2 - 00000000000012345.68\n",
      "left         2 - 12345.68            \n",
      "-------------------------\n",
      "left  commas , - 12,345.68\n",
      "-------------------------\n",
      "right commas   -        12,345.678900\n",
      "left  commas   - 12,345.678900       \n",
      "-------------------------\n",
      "right commas 2 -            12,345.68\n",
      "left  commas 2 - 12,345.68           \n",
      "scientific     - 1.234568e+04\n"
     ]
    }
   ],
   "source": [
    "# formatting of float numbers\n",
    "fff = 12345.6789\n",
    "print(f\"{fff}\")\n",
    "print(f\"right          - {fff:>20f}\")\n",
    "print(f\"right padded   - {fff:>020f}\")\n",
    "print(f\"left           - {fff:<20f}\")\n",
    "print(\"-\"*25)\n",
    "print(f\"right        2 - {fff:>20.2f}\")\n",
    "print(f\"right padded 2 - {fff:>020.2f}\")\n",
    "print(f\"left         2 - {fff:<20.2f}\")\n",
    "print(\"-\"*25)\n",
    "print(f\"left  commas , - {fff:#,.2f}\")\n",
    "print(\"-\"*25)\n",
    "print(f\"right commas   - {fff:>20,f}\")\n",
    "print(f\"left  commas   - {fff:<20,f}\")\n",
    "print(\"-\"*25)\n",
    "print(f\"right commas 2 - {fff:>20,.2f}\")\n",
    "print(f\"left  commas 2 - {fff:<20,.2f}\")\n",
    "print(f\"scientific     - {fff:e}\")"
   ]
  },
  {
   "cell_type": "code",
   "execution_count": 8,
   "metadata": {
    "ExecuteTime": {
     "end_time": "2021-06-20T18:41:29.656300Z",
     "start_time": "2021-06-20T18:41:29.653122Z"
    }
   },
   "outputs": [
    {
     "name": "stdout",
     "output_type": "stream",
     "text": [
      "Hello, John. You are 45.\n",
      "Hello, John. You are 45.\n"
     ]
    }
   ],
   "source": [
    "person = {'name': 'John', 'age': 45}\n",
    "print(\"Hello, {name}. You are {age}.\".format(**person))\n",
    "print(F\"Hello, {person['name']}. You are {person['age']}.\")"
   ]
  },
  {
   "cell_type": "code",
   "execution_count": 9,
   "metadata": {
    "ExecuteTime": {
     "end_time": "2021-06-20T18:41:29.662466Z",
     "start_time": "2021-06-20T18:41:29.658500Z"
    }
   },
   "outputs": [
    {
     "name": "stdout",
     "output_type": "stream",
     "text": [
      " 0 in binary is 00000000\n",
      " 1 in binary is 00000001\n",
      " 2 in binary is 00000010\n",
      " 3 in binary is 00000011\n",
      " 4 in binary is 00000100\n",
      " 5 in binary is 00000101\n"
     ]
    }
   ],
   "source": [
    "# Binary\n",
    "for ii in range(6):\n",
    "    print(f\"{ii:>2} in binary is {ii:>08b}\")"
   ]
  },
  {
   "cell_type": "code",
   "execution_count": 10,
   "metadata": {
    "ExecuteTime": {
     "end_time": "2021-06-20T18:41:29.668554Z",
     "start_time": "2021-06-20T18:41:29.665204Z"
    }
   },
   "outputs": [
    {
     "name": "stdout",
     "output_type": "stream",
     "text": [
      "v1=8 , v2 = 'mama',   v1 % 3 = 2 ,  (( v1 % 3 )) = 2\n"
     ]
    }
   ],
   "source": [
    "# using {var=} syntax (started with Python 3.8)\n",
    "# (convenient for debugging)\n",
    "\n",
    "v1 = 8\n",
    "v2 = \"mama\"\n",
    "print(f\"{v1=} , {v2 = },  { v1 % 3 = } , { (( v1 % 3 )) = }\")"
   ]
  },
  {
   "cell_type": "code",
   "execution_count": 11,
   "metadata": {
    "ExecuteTime": {
     "end_time": "2021-06-20T18:41:29.674853Z",
     "start_time": "2021-06-20T18:41:29.670802Z"
    }
   },
   "outputs": [
    {
     "name": "stdout",
     "output_type": "stream",
     "text": [
      "🐶\n",
      "🐶\n",
      "----------------------------------------\n",
      "a : '\\U0001f436'\n",
      "r : '🐶'\n",
      "s : 🐶\n"
     ]
    }
   ],
   "source": [
    "# using !a !r !s modifiers\n",
    "# example for this char\n",
    "# https://www.fileformat.info/info/unicode/char/1f436/index.htm\n",
    "\n",
    "a = \"\\U0001F436\"  # dog face\n",
    "print(a)\n",
    "print(f\"{a}\")\n",
    "print(\"-\"*40)\n",
    "print(f\"a : {a!a}\")   # code\n",
    "print(f\"r : {a!r}\")   # repr\n",
    "print(f\"s : {a!s}\")   # str"
   ]
  },
  {
   "cell_type": "code",
   "execution_count": null,
   "metadata": {},
   "outputs": [],
   "source": []
  }
 ],
 "metadata": {
  "kernelspec": {
   "display_name": "Python 3 (ipykernel)",
   "language": "python",
   "name": "python3"
  },
  "language_info": {
   "codemirror_mode": {
    "name": "ipython",
    "version": 3
   },
   "file_extension": ".py",
   "mimetype": "text/x-python",
   "name": "python",
   "nbconvert_exporter": "python",
   "pygments_lexer": "ipython3",
   "version": "3.9.12"
  },
  "toc": {
   "base_numbering": 1,
   "nav_menu": {},
   "number_sections": true,
   "sideBar": true,
   "skip_h1_title": false,
   "title_cell": "Table of Contents",
   "title_sidebar": "Contents",
   "toc_cell": false,
   "toc_position": {},
   "toc_section_display": true,
   "toc_window_display": true
  },
  "varInspector": {
   "cols": {
    "lenName": 16,
    "lenType": 16,
    "lenVar": 40
   },
   "kernels_config": {
    "python": {
     "delete_cmd_postfix": "",
     "delete_cmd_prefix": "del ",
     "library": "var_list.py",
     "varRefreshCmd": "print(var_dic_list())"
    },
    "r": {
     "delete_cmd_postfix": ") ",
     "delete_cmd_prefix": "rm(",
     "library": "var_list.r",
     "varRefreshCmd": "cat(var_dic_list()) "
    }
   },
   "types_to_exclude": [
    "module",
    "function",
    "builtin_function_or_method",
    "instance",
    "_Feature"
   ],
   "window_display": false
  }
 },
 "nbformat": 4,
 "nbformat_minor": 4
}
