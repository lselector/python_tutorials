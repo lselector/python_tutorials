{
 "cells": [
  {
   "cell_type": "markdown",
   "metadata": {},
   "source": [
    "### SQL Tutorial (by Michail Agladze, June 2021)\n",
    "\n",
    "The <b>SQL</b> (Structured Query Language) was first developed in the 1970s \n",
    "<br>by IBM researchers <b>Raymond Boyce</b> and <b>Donald Chamberlin</b>. \n",
    " - https://en.wikipedia.org/wiki/SQL \n",
    "\n",
    "SQL databases have become standard.\n",
    "<br>There are many types and brands.\n",
    "<br>This short tutorial shows how to run basic SQL commands\n",
    "<br>right inside Jupyter notebook using <b>SQLite</b> - a simple free database:\n",
    "- https://www.sqlite.org\n",
    "\n",
    "You can read these pages on how to run \n",
    "<br>SQL queries from a Jupyter Notebook:\n",
    " - https://towardsdatascience.com/how-to-run-sql-queries-from-a-jupyter-notebook-aaa18e59e7bc \n",
    " - https://stackoverflow.com/questions/50973191/connect-to-mysql-db-from-jupyter-notebook \n",
    " - https://medium.com/@tattwei46/how-to-use-python-with-mysql-79304bee8753 \n",
    "\n",
    "You can also search google and YouTube for SQL tutorials.\n",
    "For example: - https://www.sqlcourse.com/ - good online tutorial\n",
    "\n",
    "Also I have some tutorials on my old website:\n",
    " - https://www.levselector.com/sql_tut.html - basic SQL\n",
    " - https://www.levselector.com/sql_sybase.html - SQL for Sybase\n",
    " - https://www.levselector.com/sql_test0.html - 6 problems\n",
    " - https://www.levselector.com/sql_test1.html - 60 problems\n",
    " "
   ]
  },
  {
   "cell_type": "code",
   "execution_count": 1,
   "metadata": {
    "ExecuteTime": {
     "end_time": "2021-06-30T02:49:31.274885Z",
     "start_time": "2021-06-30T02:49:31.272326Z"
    }
   },
   "outputs": [],
   "source": [
    "import os, sys\n",
    "import numpy as np\n",
    "import pandas as pd"
   ]
  },
  {
   "cell_type": "code",
   "execution_count": 2,
   "metadata": {
    "ExecuteTime": {
     "end_time": "2021-06-30T02:49:31.279396Z",
     "start_time": "2021-06-30T02:49:31.276791Z"
    }
   },
   "outputs": [],
   "source": [
    "# this should be run only once to install \"SQL\" extension\n",
    "# to be able to do this: %load_ext sql\n",
    "#\n",
    "# !pip install ipython-sql"
   ]
  },
  {
   "cell_type": "code",
   "execution_count": 3,
   "metadata": {
    "ExecuteTime": {
     "end_time": "2021-06-30T02:49:31.433546Z",
     "start_time": "2021-06-30T02:49:31.281466Z"
    }
   },
   "outputs": [],
   "source": [
    "%load_ext sql"
   ]
  },
  {
   "cell_type": "code",
   "execution_count": 4,
   "metadata": {
    "ExecuteTime": {
     "end_time": "2021-06-30T02:49:31.447365Z",
     "start_time": "2021-06-30T02:49:31.435583Z"
    }
   },
   "outputs": [],
   "source": [
    "%sql sqlite://\n",
    "# %sql sqlite:////path/to/your/database.db"
   ]
  },
  {
   "cell_type": "code",
   "execution_count": 5,
   "metadata": {
    "ExecuteTime": {
     "end_time": "2021-06-30T02:49:31.456619Z",
     "start_time": "2021-06-30T02:49:31.449574Z"
    }
   },
   "outputs": [
    {
     "name": "stdout",
     "output_type": "stream",
     "text": [
      " * sqlite://\n",
      "Done.\n",
      "Done.\n",
      "Done.\n",
      "Done.\n",
      "Done.\n"
     ]
    },
    {
     "data": {
      "text/plain": [
       "[]"
      ]
     },
     "execution_count": 5,
     "metadata": {},
     "output_type": "execute_result"
    }
   ],
   "source": [
    "%%sql\n",
    "\n",
    "--------------------------------------------------\n",
    "-- Note: that '--' is used for comments\n",
    "-- Note: each statement ends with a semicolon \";\"\n",
    "-- Note: we can execute more than one statement\n",
    "-- Here are five empty statements\n",
    ";;;;;"
   ]
  },
  {
   "cell_type": "code",
   "execution_count": 6,
   "metadata": {
    "ExecuteTime": {
     "end_time": "2021-06-30T02:49:31.463483Z",
     "start_time": "2021-06-30T02:49:31.458645Z"
    }
   },
   "outputs": [
    {
     "name": "stdout",
     "output_type": "stream",
     "text": [
      " * sqlite://\n",
      "Done.\n"
     ]
    },
    {
     "data": {
      "text/html": [
       "<table>\n",
       "    <thead>\n",
       "        <tr>\n",
       "            <th>col1</th>\n",
       "            <th>col2</th>\n",
       "            <th>col3</th>\n",
       "        </tr>\n",
       "    </thead>\n",
       "    <tbody>\n",
       "        <tr>\n",
       "            <td>mother</td>\n",
       "            <td>father</td>\n",
       "            <td>2021</td>\n",
       "        </tr>\n",
       "    </tbody>\n",
       "</table>"
      ],
      "text/plain": [
       "[('mother', 'father', 2021)]"
      ]
     },
     "execution_count": 6,
     "metadata": {},
     "output_type": "execute_result"
    }
   ],
   "source": [
    "%%sql\n",
    "-- lets select some values by themselves\n",
    "\n",
    "select \n",
    "  'mother' as col1, \n",
    "  'father' as col2, \n",
    "  2021     as col3;"
   ]
  },
  {
   "cell_type": "code",
   "execution_count": 7,
   "metadata": {
    "ExecuteTime": {
     "end_time": "2021-06-30T02:49:31.469399Z",
     "start_time": "2021-06-30T02:49:31.465206Z"
    }
   },
   "outputs": [
    {
     "data": {
      "text/html": [
       "<table>\n",
       "    <thead>\n",
       "        <tr>\n",
       "            <th>col1</th>\n",
       "            <th>col2</th>\n",
       "            <th>col3</th>\n",
       "        </tr>\n",
       "    </thead>\n",
       "    <tbody>\n",
       "        <tr>\n",
       "            <td>mother</td>\n",
       "            <td>father</td>\n",
       "            <td>2021</td>\n",
       "        </tr>\n",
       "    </tbody>\n",
       "</table>"
      ],
      "text/plain": [
       "[('mother', 'father', 2021)]"
      ]
     },
     "metadata": {},
     "output_type": "display_data"
    },
    {
     "data": {
      "text/plain": [
       "sql.run.ResultSet"
      ]
     },
     "metadata": {},
     "output_type": "display_data"
    }
   ],
   "source": [
    "# The output is stored in default python variable \"_\"\n",
    "\n",
    "myresult = _\n",
    "display(myresult)\n",
    "display(type(myresult))"
   ]
  },
  {
   "cell_type": "code",
   "execution_count": 8,
   "metadata": {
    "ExecuteTime": {
     "end_time": "2021-06-30T02:49:31.473001Z",
     "start_time": "2021-06-30T02:49:31.471075Z"
    }
   },
   "outputs": [],
   "source": [
    "#1 -- CREATE TABLE command\n",
    "\n",
    "#We will do it in three steps (drop if exists, create, insert data)"
   ]
  },
  {
   "cell_type": "code",
   "execution_count": 9,
   "metadata": {
    "ExecuteTime": {
     "end_time": "2021-06-30T02:49:31.482792Z",
     "start_time": "2021-06-30T02:49:31.474622Z"
    }
   },
   "outputs": [
    {
     "name": "stdout",
     "output_type": "stream",
     "text": [
      " * sqlite://\n",
      "Done.\n",
      "Done.\n",
      "6 rows affected.\n"
     ]
    },
    {
     "data": {
      "text/plain": [
       "[]"
      ]
     },
     "execution_count": 9,
     "metadata": {},
     "output_type": "execute_result"
    }
   ],
   "source": [
    "%%sql\n",
    "--------------------------------------------------\n",
    "-- first drop table in case it exists\n",
    "\n",
    "DROP TABLE IF EXISTS sales;\n",
    "\n",
    "--------------------------------------------------\n",
    "-- then create table fresh\n",
    "\n",
    "CREATE TABLE sales\n",
    "(\n",
    "    key       varchar(6),\n",
    "    ts        timestamp,\n",
    "    product   integer,\n",
    "    completed boolean,\n",
    "    price     float\n",
    ");\n",
    "\n",
    "--------------------------------------------------\n",
    "-- then insert some data into this table\n",
    "\n",
    "INSERT INTO sales\n",
    "VALUES ('sale_1', '2019-11-08 00:00', 0, TRUE, 1.1),\n",
    "       ('sale_2', '2019-11-08 01:00', 0, FALSE, 1.2),\n",
    "       ('sale_3', '2019-11-08 01:00', 0, TRUE, 1.3),\n",
    "       ('sale_4', '2019-11-08 01:00', 1, FALSE, 1.4),\n",
    "       ('sale_5', '2019-11-08 02:00', 1, TRUE, 1.5),\n",
    "       ('sale_6', '2019-11-08 02:00', 1, TRUE, 1.5);"
   ]
  },
  {
   "cell_type": "code",
   "execution_count": 10,
   "metadata": {
    "ExecuteTime": {
     "end_time": "2021-06-30T02:49:31.491285Z",
     "start_time": "2021-06-30T02:49:31.486348Z"
    }
   },
   "outputs": [
    {
     "name": "stdout",
     "output_type": "stream",
     "text": [
      " * sqlite://\n",
      "Done.\n"
     ]
    },
    {
     "data": {
      "text/html": [
       "<table>\n",
       "    <thead>\n",
       "        <tr>\n",
       "            <th>key</th>\n",
       "            <th>ts</th>\n",
       "            <th>product</th>\n",
       "            <th>completed</th>\n",
       "            <th>price</th>\n",
       "        </tr>\n",
       "    </thead>\n",
       "    <tbody>\n",
       "        <tr>\n",
       "            <td>sale_1</td>\n",
       "            <td>2019-11-08 00:00</td>\n",
       "            <td>0</td>\n",
       "            <td>1</td>\n",
       "            <td>1.1</td>\n",
       "        </tr>\n",
       "        <tr>\n",
       "            <td>sale_2</td>\n",
       "            <td>2019-11-08 01:00</td>\n",
       "            <td>0</td>\n",
       "            <td>0</td>\n",
       "            <td>1.2</td>\n",
       "        </tr>\n",
       "        <tr>\n",
       "            <td>sale_3</td>\n",
       "            <td>2019-11-08 01:00</td>\n",
       "            <td>0</td>\n",
       "            <td>1</td>\n",
       "            <td>1.3</td>\n",
       "        </tr>\n",
       "        <tr>\n",
       "            <td>sale_4</td>\n",
       "            <td>2019-11-08 01:00</td>\n",
       "            <td>1</td>\n",
       "            <td>0</td>\n",
       "            <td>1.4</td>\n",
       "        </tr>\n",
       "        <tr>\n",
       "            <td>sale_5</td>\n",
       "            <td>2019-11-08 02:00</td>\n",
       "            <td>1</td>\n",
       "            <td>1</td>\n",
       "            <td>1.5</td>\n",
       "        </tr>\n",
       "        <tr>\n",
       "            <td>sale_6</td>\n",
       "            <td>2019-11-08 02:00</td>\n",
       "            <td>1</td>\n",
       "            <td>1</td>\n",
       "            <td>1.5</td>\n",
       "        </tr>\n",
       "    </tbody>\n",
       "</table>"
      ],
      "text/plain": [
       "[('sale_1', '2019-11-08 00:00', 0, 1, 1.1),\n",
       " ('sale_2', '2019-11-08 01:00', 0, 0, 1.2),\n",
       " ('sale_3', '2019-11-08 01:00', 0, 1, 1.3),\n",
       " ('sale_4', '2019-11-08 01:00', 1, 0, 1.4),\n",
       " ('sale_5', '2019-11-08 02:00', 1, 1, 1.5),\n",
       " ('sale_6', '2019-11-08 02:00', 1, 1, 1.5)]"
      ]
     },
     "execution_count": 10,
     "metadata": {},
     "output_type": "execute_result"
    }
   ],
   "source": [
    "%%sql\n",
    "-- lets select all data from this table\n",
    "select * from sales;"
   ]
  },
  {
   "cell_type": "code",
   "execution_count": 11,
   "metadata": {
    "ExecuteTime": {
     "end_time": "2021-06-30T02:49:31.498339Z",
     "start_time": "2021-06-30T02:49:31.493860Z"
    }
   },
   "outputs": [
    {
     "name": "stdout",
     "output_type": "stream",
     "text": [
      " * sqlite://\n",
      "Done.\n"
     ]
    },
    {
     "data": {
      "text/html": [
       "<table>\n",
       "    <thead>\n",
       "        <tr>\n",
       "            <th>key</th>\n",
       "            <th>ts</th>\n",
       "            <th>product</th>\n",
       "            <th>completed</th>\n",
       "            <th>price</th>\n",
       "        </tr>\n",
       "    </thead>\n",
       "    <tbody>\n",
       "        <tr>\n",
       "            <td>sale_1</td>\n",
       "            <td>2019-11-08 00:00</td>\n",
       "            <td>0</td>\n",
       "            <td>1</td>\n",
       "            <td>1.1</td>\n",
       "        </tr>\n",
       "        <tr>\n",
       "            <td>sale_2</td>\n",
       "            <td>2019-11-08 01:00</td>\n",
       "            <td>0</td>\n",
       "            <td>0</td>\n",
       "            <td>1.2</td>\n",
       "        </tr>\n",
       "    </tbody>\n",
       "</table>"
      ],
      "text/plain": [
       "[('sale_1', '2019-11-08 00:00', 0, 1, 1.1),\n",
       " ('sale_2', '2019-11-08 01:00', 0, 0, 1.2)]"
      ]
     },
     "execution_count": 11,
     "metadata": {},
     "output_type": "execute_result"
    }
   ],
   "source": [
    "%%sql\n",
    "-- lets select only 2 rows\n",
    "select * from sales limit 2;"
   ]
  },
  {
   "cell_type": "code",
   "execution_count": 12,
   "metadata": {
    "ExecuteTime": {
     "end_time": "2021-06-30T02:49:31.512726Z",
     "start_time": "2021-06-30T02:49:31.499678Z"
    }
   },
   "outputs": [
    {
     "data": {
      "text/html": [
       "<div>\n",
       "<style scoped>\n",
       "    .dataframe tbody tr th:only-of-type {\n",
       "        vertical-align: middle;\n",
       "    }\n",
       "\n",
       "    .dataframe tbody tr th {\n",
       "        vertical-align: top;\n",
       "    }\n",
       "\n",
       "    .dataframe thead th {\n",
       "        text-align: right;\n",
       "    }\n",
       "</style>\n",
       "<table border=\"1\" class=\"dataframe\">\n",
       "  <thead>\n",
       "    <tr style=\"text-align: right;\">\n",
       "      <th></th>\n",
       "      <th>key</th>\n",
       "      <th>ts</th>\n",
       "      <th>product</th>\n",
       "      <th>completed</th>\n",
       "      <th>price</th>\n",
       "    </tr>\n",
       "  </thead>\n",
       "  <tbody>\n",
       "    <tr>\n",
       "      <th>0</th>\n",
       "      <td>sale_1</td>\n",
       "      <td>2019-11-08 00:00</td>\n",
       "      <td>0</td>\n",
       "      <td>1</td>\n",
       "      <td>1.1</td>\n",
       "    </tr>\n",
       "    <tr>\n",
       "      <th>1</th>\n",
       "      <td>sale_2</td>\n",
       "      <td>2019-11-08 01:00</td>\n",
       "      <td>0</td>\n",
       "      <td>0</td>\n",
       "      <td>1.2</td>\n",
       "    </tr>\n",
       "  </tbody>\n",
       "</table>\n",
       "</div>"
      ],
      "text/plain": [
       "      key                ts  product  completed  price\n",
       "0  sale_1  2019-11-08 00:00        0          1    1.1\n",
       "1  sale_2  2019-11-08 01:00        0          0    1.2"
      ]
     },
     "execution_count": 12,
     "metadata": {},
     "output_type": "execute_result"
    }
   ],
   "source": [
    "# lets put the result into a Pandas DataFrame\n",
    "result = _\n",
    "df = result.DataFrame()\n",
    "df"
   ]
  },
  {
   "cell_type": "code",
   "execution_count": 13,
   "metadata": {
    "ExecuteTime": {
     "end_time": "2021-06-30T02:49:31.516121Z",
     "start_time": "2021-06-30T02:49:31.514384Z"
    }
   },
   "outputs": [],
   "source": [
    "#2 -- ALTER TABLE command - RENAME TO"
   ]
  },
  {
   "cell_type": "code",
   "execution_count": 14,
   "metadata": {
    "ExecuteTime": {
     "end_time": "2021-06-30T02:49:31.522421Z",
     "start_time": "2021-06-30T02:49:31.517715Z"
    }
   },
   "outputs": [
    {
     "name": "stdout",
     "output_type": "stream",
     "text": [
      " * sqlite://\n",
      "Done.\n"
     ]
    },
    {
     "data": {
      "text/plain": [
       "[]"
      ]
     },
     "execution_count": 14,
     "metadata": {},
     "output_type": "execute_result"
    }
   ],
   "source": [
    "%%sql\n",
    "ALTER TABLE sales\n",
    "RENAME TO salesNew;"
   ]
  },
  {
   "cell_type": "code",
   "execution_count": 15,
   "metadata": {
    "ExecuteTime": {
     "end_time": "2021-06-30T02:49:31.528981Z",
     "start_time": "2021-06-30T02:49:31.524181Z"
    }
   },
   "outputs": [
    {
     "name": "stdout",
     "output_type": "stream",
     "text": [
      " * sqlite://\n",
      "Done.\n"
     ]
    },
    {
     "data": {
      "text/html": [
       "<table>\n",
       "    <thead>\n",
       "        <tr>\n",
       "            <th>key</th>\n",
       "            <th>ts</th>\n",
       "            <th>product</th>\n",
       "            <th>completed</th>\n",
       "            <th>price</th>\n",
       "        </tr>\n",
       "    </thead>\n",
       "    <tbody>\n",
       "        <tr>\n",
       "            <td>sale_1</td>\n",
       "            <td>2019-11-08 00:00</td>\n",
       "            <td>0</td>\n",
       "            <td>1</td>\n",
       "            <td>1.1</td>\n",
       "        </tr>\n",
       "        <tr>\n",
       "            <td>sale_2</td>\n",
       "            <td>2019-11-08 01:00</td>\n",
       "            <td>0</td>\n",
       "            <td>0</td>\n",
       "            <td>1.2</td>\n",
       "        </tr>\n",
       "        <tr>\n",
       "            <td>sale_3</td>\n",
       "            <td>2019-11-08 01:00</td>\n",
       "            <td>0</td>\n",
       "            <td>1</td>\n",
       "            <td>1.3</td>\n",
       "        </tr>\n",
       "        <tr>\n",
       "            <td>sale_4</td>\n",
       "            <td>2019-11-08 01:00</td>\n",
       "            <td>1</td>\n",
       "            <td>0</td>\n",
       "            <td>1.4</td>\n",
       "        </tr>\n",
       "        <tr>\n",
       "            <td>sale_5</td>\n",
       "            <td>2019-11-08 02:00</td>\n",
       "            <td>1</td>\n",
       "            <td>1</td>\n",
       "            <td>1.5</td>\n",
       "        </tr>\n",
       "        <tr>\n",
       "            <td>sale_6</td>\n",
       "            <td>2019-11-08 02:00</td>\n",
       "            <td>1</td>\n",
       "            <td>1</td>\n",
       "            <td>1.5</td>\n",
       "        </tr>\n",
       "    </tbody>\n",
       "</table>"
      ],
      "text/plain": [
       "[('sale_1', '2019-11-08 00:00', 0, 1, 1.1),\n",
       " ('sale_2', '2019-11-08 01:00', 0, 0, 1.2),\n",
       " ('sale_3', '2019-11-08 01:00', 0, 1, 1.3),\n",
       " ('sale_4', '2019-11-08 01:00', 1, 0, 1.4),\n",
       " ('sale_5', '2019-11-08 02:00', 1, 1, 1.5),\n",
       " ('sale_6', '2019-11-08 02:00', 1, 1, 1.5)]"
      ]
     },
     "execution_count": 15,
     "metadata": {},
     "output_type": "execute_result"
    }
   ],
   "source": [
    "%%sql\n",
    "select * from salesNew;"
   ]
  },
  {
   "cell_type": "code",
   "execution_count": 16,
   "metadata": {
    "ExecuteTime": {
     "end_time": "2021-06-30T02:49:31.532935Z",
     "start_time": "2021-06-30T02:49:31.530679Z"
    }
   },
   "outputs": [],
   "source": [
    "#3 -- ALTER command -- RENAME COLUMN"
   ]
  },
  {
   "cell_type": "code",
   "execution_count": 17,
   "metadata": {
    "ExecuteTime": {
     "end_time": "2021-06-30T02:49:31.539322Z",
     "start_time": "2021-06-30T02:49:31.534327Z"
    }
   },
   "outputs": [
    {
     "name": "stdout",
     "output_type": "stream",
     "text": [
      " * sqlite://\n",
      "Done.\n"
     ]
    },
    {
     "data": {
      "text/plain": [
       "[]"
      ]
     },
     "execution_count": 17,
     "metadata": {},
     "output_type": "execute_result"
    }
   ],
   "source": [
    "%%sql\n",
    "ALTER TABLE salesNew\n",
    "RENAME COLUMN key \n",
    "TO keyNew;"
   ]
  },
  {
   "cell_type": "code",
   "execution_count": 18,
   "metadata": {
    "ExecuteTime": {
     "end_time": "2021-06-30T02:49:31.546073Z",
     "start_time": "2021-06-30T02:49:31.541171Z"
    }
   },
   "outputs": [
    {
     "name": "stdout",
     "output_type": "stream",
     "text": [
      " * sqlite://\n",
      "Done.\n"
     ]
    },
    {
     "data": {
      "text/html": [
       "<table>\n",
       "    <thead>\n",
       "        <tr>\n",
       "            <th>keyNew</th>\n",
       "            <th>ts</th>\n",
       "            <th>product</th>\n",
       "            <th>completed</th>\n",
       "            <th>price</th>\n",
       "        </tr>\n",
       "    </thead>\n",
       "    <tbody>\n",
       "        <tr>\n",
       "            <td>sale_1</td>\n",
       "            <td>2019-11-08 00:00</td>\n",
       "            <td>0</td>\n",
       "            <td>1</td>\n",
       "            <td>1.1</td>\n",
       "        </tr>\n",
       "        <tr>\n",
       "            <td>sale_2</td>\n",
       "            <td>2019-11-08 01:00</td>\n",
       "            <td>0</td>\n",
       "            <td>0</td>\n",
       "            <td>1.2</td>\n",
       "        </tr>\n",
       "        <tr>\n",
       "            <td>sale_3</td>\n",
       "            <td>2019-11-08 01:00</td>\n",
       "            <td>0</td>\n",
       "            <td>1</td>\n",
       "            <td>1.3</td>\n",
       "        </tr>\n",
       "        <tr>\n",
       "            <td>sale_4</td>\n",
       "            <td>2019-11-08 01:00</td>\n",
       "            <td>1</td>\n",
       "            <td>0</td>\n",
       "            <td>1.4</td>\n",
       "        </tr>\n",
       "        <tr>\n",
       "            <td>sale_5</td>\n",
       "            <td>2019-11-08 02:00</td>\n",
       "            <td>1</td>\n",
       "            <td>1</td>\n",
       "            <td>1.5</td>\n",
       "        </tr>\n",
       "        <tr>\n",
       "            <td>sale_6</td>\n",
       "            <td>2019-11-08 02:00</td>\n",
       "            <td>1</td>\n",
       "            <td>1</td>\n",
       "            <td>1.5</td>\n",
       "        </tr>\n",
       "    </tbody>\n",
       "</table>"
      ],
      "text/plain": [
       "[('sale_1', '2019-11-08 00:00', 0, 1, 1.1),\n",
       " ('sale_2', '2019-11-08 01:00', 0, 0, 1.2),\n",
       " ('sale_3', '2019-11-08 01:00', 0, 1, 1.3),\n",
       " ('sale_4', '2019-11-08 01:00', 1, 0, 1.4),\n",
       " ('sale_5', '2019-11-08 02:00', 1, 1, 1.5),\n",
       " ('sale_6', '2019-11-08 02:00', 1, 1, 1.5)]"
      ]
     },
     "execution_count": 18,
     "metadata": {},
     "output_type": "execute_result"
    }
   ],
   "source": [
    "%%sql\n",
    "select * from salesNew;"
   ]
  },
  {
   "cell_type": "code",
   "execution_count": 19,
   "metadata": {
    "ExecuteTime": {
     "end_time": "2021-06-30T02:49:31.549699Z",
     "start_time": "2021-06-30T02:49:31.547725Z"
    }
   },
   "outputs": [],
   "source": [
    "#4 -- ALTER command -- ADD COLUMN"
   ]
  },
  {
   "cell_type": "code",
   "execution_count": 20,
   "metadata": {
    "ExecuteTime": {
     "end_time": "2021-06-30T02:49:31.556485Z",
     "start_time": "2021-06-30T02:49:31.551734Z"
    }
   },
   "outputs": [
    {
     "name": "stdout",
     "output_type": "stream",
     "text": [
      " * sqlite://\n",
      "Done.\n"
     ]
    },
    {
     "data": {
      "text/plain": [
       "[]"
      ]
     },
     "execution_count": 20,
     "metadata": {},
     "output_type": "execute_result"
    }
   ],
   "source": [
    "%%sql\n",
    "ALTER TABLE salesNew\n",
    "ADD COLUMN newCol\n",
    "Default (10);"
   ]
  },
  {
   "cell_type": "code",
   "execution_count": 21,
   "metadata": {
    "ExecuteTime": {
     "end_time": "2021-06-30T02:49:31.563145Z",
     "start_time": "2021-06-30T02:49:31.558121Z"
    }
   },
   "outputs": [
    {
     "name": "stdout",
     "output_type": "stream",
     "text": [
      " * sqlite://\n",
      "Done.\n"
     ]
    },
    {
     "data": {
      "text/html": [
       "<table>\n",
       "    <thead>\n",
       "        <tr>\n",
       "            <th>keyNew</th>\n",
       "            <th>ts</th>\n",
       "            <th>product</th>\n",
       "            <th>completed</th>\n",
       "            <th>price</th>\n",
       "            <th>newCol</th>\n",
       "        </tr>\n",
       "    </thead>\n",
       "    <tbody>\n",
       "        <tr>\n",
       "            <td>sale_1</td>\n",
       "            <td>2019-11-08 00:00</td>\n",
       "            <td>0</td>\n",
       "            <td>1</td>\n",
       "            <td>1.1</td>\n",
       "            <td>10</td>\n",
       "        </tr>\n",
       "        <tr>\n",
       "            <td>sale_2</td>\n",
       "            <td>2019-11-08 01:00</td>\n",
       "            <td>0</td>\n",
       "            <td>0</td>\n",
       "            <td>1.2</td>\n",
       "            <td>10</td>\n",
       "        </tr>\n",
       "        <tr>\n",
       "            <td>sale_3</td>\n",
       "            <td>2019-11-08 01:00</td>\n",
       "            <td>0</td>\n",
       "            <td>1</td>\n",
       "            <td>1.3</td>\n",
       "            <td>10</td>\n",
       "        </tr>\n",
       "        <tr>\n",
       "            <td>sale_4</td>\n",
       "            <td>2019-11-08 01:00</td>\n",
       "            <td>1</td>\n",
       "            <td>0</td>\n",
       "            <td>1.4</td>\n",
       "            <td>10</td>\n",
       "        </tr>\n",
       "        <tr>\n",
       "            <td>sale_5</td>\n",
       "            <td>2019-11-08 02:00</td>\n",
       "            <td>1</td>\n",
       "            <td>1</td>\n",
       "            <td>1.5</td>\n",
       "            <td>10</td>\n",
       "        </tr>\n",
       "        <tr>\n",
       "            <td>sale_6</td>\n",
       "            <td>2019-11-08 02:00</td>\n",
       "            <td>1</td>\n",
       "            <td>1</td>\n",
       "            <td>1.5</td>\n",
       "            <td>10</td>\n",
       "        </tr>\n",
       "    </tbody>\n",
       "</table>"
      ],
      "text/plain": [
       "[('sale_1', '2019-11-08 00:00', 0, 1, 1.1, 10),\n",
       " ('sale_2', '2019-11-08 01:00', 0, 0, 1.2, 10),\n",
       " ('sale_3', '2019-11-08 01:00', 0, 1, 1.3, 10),\n",
       " ('sale_4', '2019-11-08 01:00', 1, 0, 1.4, 10),\n",
       " ('sale_5', '2019-11-08 02:00', 1, 1, 1.5, 10),\n",
       " ('sale_6', '2019-11-08 02:00', 1, 1, 1.5, 10)]"
      ]
     },
     "execution_count": 21,
     "metadata": {},
     "output_type": "execute_result"
    }
   ],
   "source": [
    "%%sql\n",
    "select * from salesNew;"
   ]
  },
  {
   "cell_type": "code",
   "execution_count": 22,
   "metadata": {
    "ExecuteTime": {
     "end_time": "2021-06-30T02:49:31.566548Z",
     "start_time": "2021-06-30T02:49:31.564804Z"
    }
   },
   "outputs": [],
   "source": [
    "#5 -- UPDATE  COMMAND -- insert value into an existing column"
   ]
  },
  {
   "cell_type": "code",
   "execution_count": 23,
   "metadata": {
    "ExecuteTime": {
     "end_time": "2021-06-30T02:49:31.572968Z",
     "start_time": "2021-06-30T02:49:31.568181Z"
    }
   },
   "outputs": [
    {
     "name": "stdout",
     "output_type": "stream",
     "text": [
      " * sqlite://\n",
      "1 rows affected.\n"
     ]
    },
    {
     "data": {
      "text/plain": [
       "[]"
      ]
     },
     "execution_count": 23,
     "metadata": {},
     "output_type": "execute_result"
    }
   ],
   "source": [
    "%%sql\n",
    "UPDATE salesNew \n",
    "    set newCol = 333 \n",
    "    WHERE keyNew = 'sale_3';"
   ]
  },
  {
   "cell_type": "code",
   "execution_count": 24,
   "metadata": {
    "ExecuteTime": {
     "end_time": "2021-06-30T02:49:31.579922Z",
     "start_time": "2021-06-30T02:49:31.574816Z"
    }
   },
   "outputs": [
    {
     "name": "stdout",
     "output_type": "stream",
     "text": [
      " * sqlite://\n",
      "Done.\n"
     ]
    },
    {
     "data": {
      "text/html": [
       "<table>\n",
       "    <thead>\n",
       "        <tr>\n",
       "            <th>keyNew</th>\n",
       "            <th>ts</th>\n",
       "            <th>product</th>\n",
       "            <th>completed</th>\n",
       "            <th>price</th>\n",
       "            <th>newCol</th>\n",
       "        </tr>\n",
       "    </thead>\n",
       "    <tbody>\n",
       "        <tr>\n",
       "            <td>sale_1</td>\n",
       "            <td>2019-11-08 00:00</td>\n",
       "            <td>0</td>\n",
       "            <td>1</td>\n",
       "            <td>1.1</td>\n",
       "            <td>10</td>\n",
       "        </tr>\n",
       "        <tr>\n",
       "            <td>sale_2</td>\n",
       "            <td>2019-11-08 01:00</td>\n",
       "            <td>0</td>\n",
       "            <td>0</td>\n",
       "            <td>1.2</td>\n",
       "            <td>10</td>\n",
       "        </tr>\n",
       "        <tr>\n",
       "            <td>sale_3</td>\n",
       "            <td>2019-11-08 01:00</td>\n",
       "            <td>0</td>\n",
       "            <td>1</td>\n",
       "            <td>1.3</td>\n",
       "            <td>333</td>\n",
       "        </tr>\n",
       "        <tr>\n",
       "            <td>sale_4</td>\n",
       "            <td>2019-11-08 01:00</td>\n",
       "            <td>1</td>\n",
       "            <td>0</td>\n",
       "            <td>1.4</td>\n",
       "            <td>10</td>\n",
       "        </tr>\n",
       "        <tr>\n",
       "            <td>sale_5</td>\n",
       "            <td>2019-11-08 02:00</td>\n",
       "            <td>1</td>\n",
       "            <td>1</td>\n",
       "            <td>1.5</td>\n",
       "            <td>10</td>\n",
       "        </tr>\n",
       "        <tr>\n",
       "            <td>sale_6</td>\n",
       "            <td>2019-11-08 02:00</td>\n",
       "            <td>1</td>\n",
       "            <td>1</td>\n",
       "            <td>1.5</td>\n",
       "            <td>10</td>\n",
       "        </tr>\n",
       "    </tbody>\n",
       "</table>"
      ],
      "text/plain": [
       "[('sale_1', '2019-11-08 00:00', 0, 1, 1.1, 10),\n",
       " ('sale_2', '2019-11-08 01:00', 0, 0, 1.2, 10),\n",
       " ('sale_3', '2019-11-08 01:00', 0, 1, 1.3, 333),\n",
       " ('sale_4', '2019-11-08 01:00', 1, 0, 1.4, 10),\n",
       " ('sale_5', '2019-11-08 02:00', 1, 1, 1.5, 10),\n",
       " ('sale_6', '2019-11-08 02:00', 1, 1, 1.5, 10)]"
      ]
     },
     "execution_count": 24,
     "metadata": {},
     "output_type": "execute_result"
    }
   ],
   "source": [
    "%%sql\n",
    "select * from salesNew;"
   ]
  },
  {
   "cell_type": "code",
   "execution_count": 25,
   "metadata": {
    "ExecuteTime": {
     "end_time": "2021-06-30T02:49:31.588582Z",
     "start_time": "2021-06-30T02:49:31.586600Z"
    }
   },
   "outputs": [],
   "source": [
    "#6 -- INSERT INTO command -- add values into new column"
   ]
  },
  {
   "cell_type": "code",
   "execution_count": 26,
   "metadata": {
    "ExecuteTime": {
     "end_time": "2021-06-30T02:49:31.597971Z",
     "start_time": "2021-06-30T02:49:31.593051Z"
    }
   },
   "outputs": [
    {
     "name": "stdout",
     "output_type": "stream",
     "text": [
      " * sqlite://\n",
      "1 rows affected.\n"
     ]
    },
    {
     "data": {
      "text/plain": [
       "[]"
      ]
     },
     "execution_count": 26,
     "metadata": {},
     "output_type": "execute_result"
    }
   ],
   "source": [
    "%%sql\n",
    "INSERT INTO \n",
    "    salesNew (newCol)\n",
    "VALUES (111);"
   ]
  },
  {
   "cell_type": "code",
   "execution_count": 27,
   "metadata": {
    "ExecuteTime": {
     "end_time": "2021-06-30T02:49:31.604682Z",
     "start_time": "2021-06-30T02:49:31.599565Z"
    }
   },
   "outputs": [
    {
     "name": "stdout",
     "output_type": "stream",
     "text": [
      " * sqlite://\n",
      "Done.\n"
     ]
    },
    {
     "data": {
      "text/html": [
       "<table>\n",
       "    <thead>\n",
       "        <tr>\n",
       "            <th>keyNew</th>\n",
       "            <th>ts</th>\n",
       "            <th>product</th>\n",
       "            <th>completed</th>\n",
       "            <th>price</th>\n",
       "            <th>newCol</th>\n",
       "        </tr>\n",
       "    </thead>\n",
       "    <tbody>\n",
       "        <tr>\n",
       "            <td>sale_1</td>\n",
       "            <td>2019-11-08 00:00</td>\n",
       "            <td>0</td>\n",
       "            <td>1</td>\n",
       "            <td>1.1</td>\n",
       "            <td>10</td>\n",
       "        </tr>\n",
       "        <tr>\n",
       "            <td>sale_2</td>\n",
       "            <td>2019-11-08 01:00</td>\n",
       "            <td>0</td>\n",
       "            <td>0</td>\n",
       "            <td>1.2</td>\n",
       "            <td>10</td>\n",
       "        </tr>\n",
       "        <tr>\n",
       "            <td>sale_3</td>\n",
       "            <td>2019-11-08 01:00</td>\n",
       "            <td>0</td>\n",
       "            <td>1</td>\n",
       "            <td>1.3</td>\n",
       "            <td>333</td>\n",
       "        </tr>\n",
       "        <tr>\n",
       "            <td>sale_4</td>\n",
       "            <td>2019-11-08 01:00</td>\n",
       "            <td>1</td>\n",
       "            <td>0</td>\n",
       "            <td>1.4</td>\n",
       "            <td>10</td>\n",
       "        </tr>\n",
       "        <tr>\n",
       "            <td>sale_5</td>\n",
       "            <td>2019-11-08 02:00</td>\n",
       "            <td>1</td>\n",
       "            <td>1</td>\n",
       "            <td>1.5</td>\n",
       "            <td>10</td>\n",
       "        </tr>\n",
       "        <tr>\n",
       "            <td>sale_6</td>\n",
       "            <td>2019-11-08 02:00</td>\n",
       "            <td>1</td>\n",
       "            <td>1</td>\n",
       "            <td>1.5</td>\n",
       "            <td>10</td>\n",
       "        </tr>\n",
       "        <tr>\n",
       "            <td>None</td>\n",
       "            <td>None</td>\n",
       "            <td>None</td>\n",
       "            <td>None</td>\n",
       "            <td>None</td>\n",
       "            <td>111</td>\n",
       "        </tr>\n",
       "    </tbody>\n",
       "</table>"
      ],
      "text/plain": [
       "[('sale_1', '2019-11-08 00:00', 0, 1, 1.1, 10),\n",
       " ('sale_2', '2019-11-08 01:00', 0, 0, 1.2, 10),\n",
       " ('sale_3', '2019-11-08 01:00', 0, 1, 1.3, 333),\n",
       " ('sale_4', '2019-11-08 01:00', 1, 0, 1.4, 10),\n",
       " ('sale_5', '2019-11-08 02:00', 1, 1, 1.5, 10),\n",
       " ('sale_6', '2019-11-08 02:00', 1, 1, 1.5, 10),\n",
       " (None, None, None, None, None, 111)]"
      ]
     },
     "execution_count": 27,
     "metadata": {},
     "output_type": "execute_result"
    }
   ],
   "source": [
    "%%sql\n",
    "select * from salesNew;"
   ]
  },
  {
   "cell_type": "code",
   "execution_count": 28,
   "metadata": {
    "ExecuteTime": {
     "end_time": "2021-06-30T02:49:31.610759Z",
     "start_time": "2021-06-30T02:49:31.606328Z"
    }
   },
   "outputs": [
    {
     "name": "stdout",
     "output_type": "stream",
     "text": [
      " * sqlite://\n",
      "Done.\n"
     ]
    },
    {
     "data": {
      "text/plain": [
       "[]"
      ]
     },
     "execution_count": 28,
     "metadata": {},
     "output_type": "execute_result"
    }
   ],
   "source": [
    "%%sql\n",
    "ALTER TABLE salesNew\n",
    "ADD COLUMN newCol2\n",
    "    Default (55);"
   ]
  },
  {
   "cell_type": "code",
   "execution_count": 29,
   "metadata": {
    "ExecuteTime": {
     "end_time": "2021-06-30T02:49:31.617164Z",
     "start_time": "2021-06-30T02:49:31.612311Z"
    }
   },
   "outputs": [
    {
     "name": "stdout",
     "output_type": "stream",
     "text": [
      " * sqlite://\n",
      "Done.\n"
     ]
    },
    {
     "data": {
      "text/html": [
       "<table>\n",
       "    <thead>\n",
       "        <tr>\n",
       "            <th>keyNew</th>\n",
       "            <th>ts</th>\n",
       "            <th>product</th>\n",
       "            <th>completed</th>\n",
       "            <th>price</th>\n",
       "            <th>newCol</th>\n",
       "            <th>newCol2</th>\n",
       "        </tr>\n",
       "    </thead>\n",
       "    <tbody>\n",
       "        <tr>\n",
       "            <td>sale_1</td>\n",
       "            <td>2019-11-08 00:00</td>\n",
       "            <td>0</td>\n",
       "            <td>1</td>\n",
       "            <td>1.1</td>\n",
       "            <td>10</td>\n",
       "            <td>55</td>\n",
       "        </tr>\n",
       "        <tr>\n",
       "            <td>sale_2</td>\n",
       "            <td>2019-11-08 01:00</td>\n",
       "            <td>0</td>\n",
       "            <td>0</td>\n",
       "            <td>1.2</td>\n",
       "            <td>10</td>\n",
       "            <td>55</td>\n",
       "        </tr>\n",
       "        <tr>\n",
       "            <td>sale_3</td>\n",
       "            <td>2019-11-08 01:00</td>\n",
       "            <td>0</td>\n",
       "            <td>1</td>\n",
       "            <td>1.3</td>\n",
       "            <td>333</td>\n",
       "            <td>55</td>\n",
       "        </tr>\n",
       "        <tr>\n",
       "            <td>sale_4</td>\n",
       "            <td>2019-11-08 01:00</td>\n",
       "            <td>1</td>\n",
       "            <td>0</td>\n",
       "            <td>1.4</td>\n",
       "            <td>10</td>\n",
       "            <td>55</td>\n",
       "        </tr>\n",
       "        <tr>\n",
       "            <td>sale_5</td>\n",
       "            <td>2019-11-08 02:00</td>\n",
       "            <td>1</td>\n",
       "            <td>1</td>\n",
       "            <td>1.5</td>\n",
       "            <td>10</td>\n",
       "            <td>55</td>\n",
       "        </tr>\n",
       "        <tr>\n",
       "            <td>sale_6</td>\n",
       "            <td>2019-11-08 02:00</td>\n",
       "            <td>1</td>\n",
       "            <td>1</td>\n",
       "            <td>1.5</td>\n",
       "            <td>10</td>\n",
       "            <td>55</td>\n",
       "        </tr>\n",
       "        <tr>\n",
       "            <td>None</td>\n",
       "            <td>None</td>\n",
       "            <td>None</td>\n",
       "            <td>None</td>\n",
       "            <td>None</td>\n",
       "            <td>111</td>\n",
       "            <td>55</td>\n",
       "        </tr>\n",
       "    </tbody>\n",
       "</table>"
      ],
      "text/plain": [
       "[('sale_1', '2019-11-08 00:00', 0, 1, 1.1, 10, 55),\n",
       " ('sale_2', '2019-11-08 01:00', 0, 0, 1.2, 10, 55),\n",
       " ('sale_3', '2019-11-08 01:00', 0, 1, 1.3, 333, 55),\n",
       " ('sale_4', '2019-11-08 01:00', 1, 0, 1.4, 10, 55),\n",
       " ('sale_5', '2019-11-08 02:00', 1, 1, 1.5, 10, 55),\n",
       " ('sale_6', '2019-11-08 02:00', 1, 1, 1.5, 10, 55),\n",
       " (None, None, None, None, None, 111, 55)]"
      ]
     },
     "execution_count": 29,
     "metadata": {},
     "output_type": "execute_result"
    }
   ],
   "source": [
    "%%sql\n",
    "select * from salesNew;"
   ]
  },
  {
   "cell_type": "code",
   "execution_count": 30,
   "metadata": {
    "ExecuteTime": {
     "end_time": "2021-06-30T02:49:31.620497Z",
     "start_time": "2021-06-30T02:49:31.618739Z"
    }
   },
   "outputs": [],
   "source": [
    "#7 -- DROP COLUMN -- get rid of a colum in the table"
   ]
  },
  {
   "cell_type": "code",
   "execution_count": 31,
   "metadata": {
    "ExecuteTime": {
     "end_time": "2021-06-30T02:49:31.627292Z",
     "start_time": "2021-06-30T02:49:31.622090Z"
    }
   },
   "outputs": [
    {
     "name": "stdout",
     "output_type": "stream",
     "text": [
      " * sqlite://\n",
      "Done.\n"
     ]
    },
    {
     "data": {
      "text/plain": [
       "[]"
      ]
     },
     "execution_count": 31,
     "metadata": {},
     "output_type": "execute_result"
    }
   ],
   "source": [
    "%%sql\n",
    "CREATE TABLE salesNewTemp\n",
    "(\n",
    "    keyNew    varchar(6),\n",
    "    ts        timestamp,\n",
    "    product   integer,\n",
    "    completed boolean,\n",
    "    price     float,\n",
    "    newCol    integer\n",
    ");"
   ]
  },
  {
   "cell_type": "code",
   "execution_count": 32,
   "metadata": {
    "ExecuteTime": {
     "end_time": "2021-06-30T02:49:31.635847Z",
     "start_time": "2021-06-30T02:49:31.629050Z"
    }
   },
   "outputs": [
    {
     "name": "stdout",
     "output_type": "stream",
     "text": [
      " * sqlite://\n",
      "7 rows affected.\n",
      "Done.\n"
     ]
    },
    {
     "data": {
      "text/html": [
       "<table>\n",
       "    <thead>\n",
       "        <tr>\n",
       "            <th>keyNew</th>\n",
       "            <th>ts</th>\n",
       "            <th>product</th>\n",
       "            <th>completed</th>\n",
       "            <th>price</th>\n",
       "            <th>newCol</th>\n",
       "        </tr>\n",
       "    </thead>\n",
       "    <tbody>\n",
       "        <tr>\n",
       "            <td>sale_1</td>\n",
       "            <td>2019-11-08 00:00</td>\n",
       "            <td>0</td>\n",
       "            <td>1</td>\n",
       "            <td>1.1</td>\n",
       "            <td>10</td>\n",
       "        </tr>\n",
       "        <tr>\n",
       "            <td>sale_2</td>\n",
       "            <td>2019-11-08 01:00</td>\n",
       "            <td>0</td>\n",
       "            <td>0</td>\n",
       "            <td>1.2</td>\n",
       "            <td>10</td>\n",
       "        </tr>\n",
       "        <tr>\n",
       "            <td>sale_3</td>\n",
       "            <td>2019-11-08 01:00</td>\n",
       "            <td>0</td>\n",
       "            <td>1</td>\n",
       "            <td>1.3</td>\n",
       "            <td>333</td>\n",
       "        </tr>\n",
       "        <tr>\n",
       "            <td>sale_4</td>\n",
       "            <td>2019-11-08 01:00</td>\n",
       "            <td>1</td>\n",
       "            <td>0</td>\n",
       "            <td>1.4</td>\n",
       "            <td>10</td>\n",
       "        </tr>\n",
       "        <tr>\n",
       "            <td>sale_5</td>\n",
       "            <td>2019-11-08 02:00</td>\n",
       "            <td>1</td>\n",
       "            <td>1</td>\n",
       "            <td>1.5</td>\n",
       "            <td>10</td>\n",
       "        </tr>\n",
       "        <tr>\n",
       "            <td>sale_6</td>\n",
       "            <td>2019-11-08 02:00</td>\n",
       "            <td>1</td>\n",
       "            <td>1</td>\n",
       "            <td>1.5</td>\n",
       "            <td>10</td>\n",
       "        </tr>\n",
       "        <tr>\n",
       "            <td>None</td>\n",
       "            <td>None</td>\n",
       "            <td>None</td>\n",
       "            <td>None</td>\n",
       "            <td>None</td>\n",
       "            <td>111</td>\n",
       "        </tr>\n",
       "    </tbody>\n",
       "</table>"
      ],
      "text/plain": [
       "[('sale_1', '2019-11-08 00:00', 0, 1, 1.1, 10),\n",
       " ('sale_2', '2019-11-08 01:00', 0, 0, 1.2, 10),\n",
       " ('sale_3', '2019-11-08 01:00', 0, 1, 1.3, 333),\n",
       " ('sale_4', '2019-11-08 01:00', 1, 0, 1.4, 10),\n",
       " ('sale_5', '2019-11-08 02:00', 1, 1, 1.5, 10),\n",
       " ('sale_6', '2019-11-08 02:00', 1, 1, 1.5, 10),\n",
       " (None, None, None, None, None, 111)]"
      ]
     },
     "execution_count": 32,
     "metadata": {},
     "output_type": "execute_result"
    }
   ],
   "source": [
    "%%sql\n",
    "INSERT INTO \n",
    "    salesNewTemp\n",
    "SELECT \n",
    "    keyNew, \n",
    "    ts, \n",
    "    product, \n",
    "    completed, \n",
    "    price, \n",
    "    newCol \n",
    "FROM \n",
    "    salesNew;\n",
    "\n",
    "select * from salesNewTemp;"
   ]
  },
  {
   "cell_type": "code",
   "execution_count": 33,
   "metadata": {
    "ExecuteTime": {
     "end_time": "2021-06-30T02:49:31.643663Z",
     "start_time": "2021-06-30T02:49:31.637469Z"
    }
   },
   "outputs": [
    {
     "name": "stdout",
     "output_type": "stream",
     "text": [
      " * sqlite://\n",
      "Done.\n",
      "Done.\n",
      "Done.\n"
     ]
    },
    {
     "data": {
      "text/html": [
       "<table>\n",
       "    <thead>\n",
       "        <tr>\n",
       "            <th>keyNew</th>\n",
       "            <th>ts</th>\n",
       "            <th>product</th>\n",
       "            <th>completed</th>\n",
       "            <th>price</th>\n",
       "            <th>newCol</th>\n",
       "        </tr>\n",
       "    </thead>\n",
       "    <tbody>\n",
       "        <tr>\n",
       "            <td>sale_1</td>\n",
       "            <td>2019-11-08 00:00</td>\n",
       "            <td>0</td>\n",
       "            <td>1</td>\n",
       "            <td>1.1</td>\n",
       "            <td>10</td>\n",
       "        </tr>\n",
       "        <tr>\n",
       "            <td>sale_2</td>\n",
       "            <td>2019-11-08 01:00</td>\n",
       "            <td>0</td>\n",
       "            <td>0</td>\n",
       "            <td>1.2</td>\n",
       "            <td>10</td>\n",
       "        </tr>\n",
       "        <tr>\n",
       "            <td>sale_3</td>\n",
       "            <td>2019-11-08 01:00</td>\n",
       "            <td>0</td>\n",
       "            <td>1</td>\n",
       "            <td>1.3</td>\n",
       "            <td>333</td>\n",
       "        </tr>\n",
       "        <tr>\n",
       "            <td>sale_4</td>\n",
       "            <td>2019-11-08 01:00</td>\n",
       "            <td>1</td>\n",
       "            <td>0</td>\n",
       "            <td>1.4</td>\n",
       "            <td>10</td>\n",
       "        </tr>\n",
       "        <tr>\n",
       "            <td>sale_5</td>\n",
       "            <td>2019-11-08 02:00</td>\n",
       "            <td>1</td>\n",
       "            <td>1</td>\n",
       "            <td>1.5</td>\n",
       "            <td>10</td>\n",
       "        </tr>\n",
       "        <tr>\n",
       "            <td>sale_6</td>\n",
       "            <td>2019-11-08 02:00</td>\n",
       "            <td>1</td>\n",
       "            <td>1</td>\n",
       "            <td>1.5</td>\n",
       "            <td>10</td>\n",
       "        </tr>\n",
       "        <tr>\n",
       "            <td>None</td>\n",
       "            <td>None</td>\n",
       "            <td>None</td>\n",
       "            <td>None</td>\n",
       "            <td>None</td>\n",
       "            <td>111</td>\n",
       "        </tr>\n",
       "    </tbody>\n",
       "</table>"
      ],
      "text/plain": [
       "[('sale_1', '2019-11-08 00:00', 0, 1, 1.1, 10),\n",
       " ('sale_2', '2019-11-08 01:00', 0, 0, 1.2, 10),\n",
       " ('sale_3', '2019-11-08 01:00', 0, 1, 1.3, 333),\n",
       " ('sale_4', '2019-11-08 01:00', 1, 0, 1.4, 10),\n",
       " ('sale_5', '2019-11-08 02:00', 1, 1, 1.5, 10),\n",
       " ('sale_6', '2019-11-08 02:00', 1, 1, 1.5, 10),\n",
       " (None, None, None, None, None, 111)]"
      ]
     },
     "execution_count": 33,
     "metadata": {},
     "output_type": "execute_result"
    }
   ],
   "source": [
    "%%sql\n",
    "DROP TABLE IF EXISTS \n",
    "    salesNew;\n",
    "    \n",
    "ALTER TABLE \n",
    "    salesNewTemp\n",
    "RENAME TO \n",
    "    salesNew;\n",
    "\n",
    "select * from salesNew;"
   ]
  },
  {
   "cell_type": "code",
   "execution_count": 34,
   "metadata": {
    "ExecuteTime": {
     "end_time": "2021-06-30T02:49:31.646720Z",
     "start_time": "2021-06-30T02:49:31.645005Z"
    }
   },
   "outputs": [],
   "source": [
    "#8 -- DELETE command -- delete a row"
   ]
  },
  {
   "cell_type": "code",
   "execution_count": 35,
   "metadata": {
    "ExecuteTime": {
     "end_time": "2021-06-30T02:49:31.654398Z",
     "start_time": "2021-06-30T02:49:31.648315Z"
    }
   },
   "outputs": [
    {
     "name": "stdout",
     "output_type": "stream",
     "text": [
      " * sqlite://\n",
      "1 rows affected.\n",
      "0 rows affected.\n",
      "Done.\n"
     ]
    },
    {
     "data": {
      "text/html": [
       "<table>\n",
       "    <thead>\n",
       "        <tr>\n",
       "            <th>keyNew</th>\n",
       "            <th>ts</th>\n",
       "            <th>product</th>\n",
       "            <th>completed</th>\n",
       "            <th>price</th>\n",
       "            <th>newCol</th>\n",
       "        </tr>\n",
       "    </thead>\n",
       "    <tbody>\n",
       "        <tr>\n",
       "            <td>sale_1</td>\n",
       "            <td>2019-11-08 00:00</td>\n",
       "            <td>0</td>\n",
       "            <td>1</td>\n",
       "            <td>1.1</td>\n",
       "            <td>10</td>\n",
       "        </tr>\n",
       "        <tr>\n",
       "            <td>sale_2</td>\n",
       "            <td>2019-11-08 01:00</td>\n",
       "            <td>0</td>\n",
       "            <td>0</td>\n",
       "            <td>1.2</td>\n",
       "            <td>10</td>\n",
       "        </tr>\n",
       "        <tr>\n",
       "            <td>sale_3</td>\n",
       "            <td>2019-11-08 01:00</td>\n",
       "            <td>0</td>\n",
       "            <td>1</td>\n",
       "            <td>1.3</td>\n",
       "            <td>333</td>\n",
       "        </tr>\n",
       "        <tr>\n",
       "            <td>sale_4</td>\n",
       "            <td>2019-11-08 01:00</td>\n",
       "            <td>1</td>\n",
       "            <td>0</td>\n",
       "            <td>1.4</td>\n",
       "            <td>10</td>\n",
       "        </tr>\n",
       "        <tr>\n",
       "            <td>sale_5</td>\n",
       "            <td>2019-11-08 02:00</td>\n",
       "            <td>1</td>\n",
       "            <td>1</td>\n",
       "            <td>1.5</td>\n",
       "            <td>10</td>\n",
       "        </tr>\n",
       "        <tr>\n",
       "            <td>sale_6</td>\n",
       "            <td>2019-11-08 02:00</td>\n",
       "            <td>1</td>\n",
       "            <td>1</td>\n",
       "            <td>1.5</td>\n",
       "            <td>10</td>\n",
       "        </tr>\n",
       "    </tbody>\n",
       "</table>"
      ],
      "text/plain": [
       "[('sale_1', '2019-11-08 00:00', 0, 1, 1.1, 10),\n",
       " ('sale_2', '2019-11-08 01:00', 0, 0, 1.2, 10),\n",
       " ('sale_3', '2019-11-08 01:00', 0, 1, 1.3, 333),\n",
       " ('sale_4', '2019-11-08 01:00', 1, 0, 1.4, 10),\n",
       " ('sale_5', '2019-11-08 02:00', 1, 1, 1.5, 10),\n",
       " ('sale_6', '2019-11-08 02:00', 1, 1, 1.5, 10)]"
      ]
     },
     "execution_count": 35,
     "metadata": {},
     "output_type": "execute_result"
    }
   ],
   "source": [
    "%%sql\n",
    "DELETE FROM \n",
    "    salesNew\n",
    "WHERE \n",
    "    newCol = 111;\n",
    "    \n",
    "DELETE FROM \n",
    "    salesNew\n",
    "WHERE \n",
    "    newCol = 777;\n",
    "\n",
    "select * from salesNew;"
   ]
  },
  {
   "cell_type": "code",
   "execution_count": 36,
   "metadata": {
    "ExecuteTime": {
     "end_time": "2021-06-30T02:49:31.657604Z",
     "start_time": "2021-06-30T02:49:31.655865Z"
    }
   },
   "outputs": [],
   "source": [
    "#9 -- DELETE command -- delete a row with any NULL values"
   ]
  },
  {
   "cell_type": "code",
   "execution_count": 37,
   "metadata": {
    "ExecuteTime": {
     "end_time": "2021-06-30T02:49:31.665062Z",
     "start_time": "2021-06-30T02:49:31.659087Z"
    }
   },
   "outputs": [
    {
     "name": "stdout",
     "output_type": "stream",
     "text": [
      " * sqlite://\n",
      "1 rows affected.\n",
      "Done.\n"
     ]
    },
    {
     "data": {
      "text/html": [
       "<table>\n",
       "    <thead>\n",
       "        <tr>\n",
       "            <th>keyNew</th>\n",
       "            <th>ts</th>\n",
       "            <th>product</th>\n",
       "            <th>completed</th>\n",
       "            <th>price</th>\n",
       "            <th>newCol</th>\n",
       "        </tr>\n",
       "    </thead>\n",
       "    <tbody>\n",
       "        <tr>\n",
       "            <td>sale_1</td>\n",
       "            <td>2019-11-08 00:00</td>\n",
       "            <td>0</td>\n",
       "            <td>1</td>\n",
       "            <td>1.1</td>\n",
       "            <td>10</td>\n",
       "        </tr>\n",
       "        <tr>\n",
       "            <td>sale_2</td>\n",
       "            <td>2019-11-08 01:00</td>\n",
       "            <td>0</td>\n",
       "            <td>0</td>\n",
       "            <td>1.2</td>\n",
       "            <td>10</td>\n",
       "        </tr>\n",
       "        <tr>\n",
       "            <td>sale_3</td>\n",
       "            <td>2019-11-08 01:00</td>\n",
       "            <td>0</td>\n",
       "            <td>1</td>\n",
       "            <td>1.3</td>\n",
       "            <td>333</td>\n",
       "        </tr>\n",
       "        <tr>\n",
       "            <td>sale_4</td>\n",
       "            <td>2019-11-08 01:00</td>\n",
       "            <td>1</td>\n",
       "            <td>0</td>\n",
       "            <td>1.4</td>\n",
       "            <td>10</td>\n",
       "        </tr>\n",
       "        <tr>\n",
       "            <td>sale_5</td>\n",
       "            <td>2019-11-08 02:00</td>\n",
       "            <td>1</td>\n",
       "            <td>1</td>\n",
       "            <td>1.5</td>\n",
       "            <td>10</td>\n",
       "        </tr>\n",
       "        <tr>\n",
       "            <td>sale_6</td>\n",
       "            <td>2019-11-08 02:00</td>\n",
       "            <td>1</td>\n",
       "            <td>1</td>\n",
       "            <td>1.5</td>\n",
       "            <td>10</td>\n",
       "        </tr>\n",
       "        <tr>\n",
       "            <td>None</td>\n",
       "            <td>None</td>\n",
       "            <td>None</td>\n",
       "            <td>None</td>\n",
       "            <td>None</td>\n",
       "            <td>777</td>\n",
       "        </tr>\n",
       "    </tbody>\n",
       "</table>"
      ],
      "text/plain": [
       "[('sale_1', '2019-11-08 00:00', 0, 1, 1.1, 10),\n",
       " ('sale_2', '2019-11-08 01:00', 0, 0, 1.2, 10),\n",
       " ('sale_3', '2019-11-08 01:00', 0, 1, 1.3, 333),\n",
       " ('sale_4', '2019-11-08 01:00', 1, 0, 1.4, 10),\n",
       " ('sale_5', '2019-11-08 02:00', 1, 1, 1.5, 10),\n",
       " ('sale_6', '2019-11-08 02:00', 1, 1, 1.5, 10),\n",
       " (None, None, None, None, None, 777)]"
      ]
     },
     "execution_count": 37,
     "metadata": {},
     "output_type": "execute_result"
    }
   ],
   "source": [
    "%%sql\n",
    "INSERT INTO \n",
    "    salesNew (newCol)\n",
    "VALUES \n",
    "    (777);\n",
    "\n",
    "select * from salesNew;"
   ]
  },
  {
   "cell_type": "code",
   "execution_count": 38,
   "metadata": {
    "ExecuteTime": {
     "end_time": "2021-06-30T02:49:31.672975Z",
     "start_time": "2021-06-30T02:49:31.666323Z"
    }
   },
   "outputs": [
    {
     "name": "stdout",
     "output_type": "stream",
     "text": [
      " * sqlite://\n",
      "1 rows affected.\n",
      "Done.\n"
     ]
    },
    {
     "data": {
      "text/html": [
       "<table>\n",
       "    <thead>\n",
       "        <tr>\n",
       "            <th>keyNew</th>\n",
       "            <th>ts</th>\n",
       "            <th>product</th>\n",
       "            <th>completed</th>\n",
       "            <th>price</th>\n",
       "            <th>newCol</th>\n",
       "        </tr>\n",
       "    </thead>\n",
       "    <tbody>\n",
       "        <tr>\n",
       "            <td>sale_1</td>\n",
       "            <td>2019-11-08 00:00</td>\n",
       "            <td>0</td>\n",
       "            <td>1</td>\n",
       "            <td>1.1</td>\n",
       "            <td>10</td>\n",
       "        </tr>\n",
       "        <tr>\n",
       "            <td>sale_2</td>\n",
       "            <td>2019-11-08 01:00</td>\n",
       "            <td>0</td>\n",
       "            <td>0</td>\n",
       "            <td>1.2</td>\n",
       "            <td>10</td>\n",
       "        </tr>\n",
       "        <tr>\n",
       "            <td>sale_3</td>\n",
       "            <td>2019-11-08 01:00</td>\n",
       "            <td>0</td>\n",
       "            <td>1</td>\n",
       "            <td>1.3</td>\n",
       "            <td>333</td>\n",
       "        </tr>\n",
       "        <tr>\n",
       "            <td>sale_4</td>\n",
       "            <td>2019-11-08 01:00</td>\n",
       "            <td>1</td>\n",
       "            <td>0</td>\n",
       "            <td>1.4</td>\n",
       "            <td>10</td>\n",
       "        </tr>\n",
       "        <tr>\n",
       "            <td>sale_5</td>\n",
       "            <td>2019-11-08 02:00</td>\n",
       "            <td>1</td>\n",
       "            <td>1</td>\n",
       "            <td>1.5</td>\n",
       "            <td>10</td>\n",
       "        </tr>\n",
       "        <tr>\n",
       "            <td>sale_6</td>\n",
       "            <td>2019-11-08 02:00</td>\n",
       "            <td>1</td>\n",
       "            <td>1</td>\n",
       "            <td>1.5</td>\n",
       "            <td>10</td>\n",
       "        </tr>\n",
       "    </tbody>\n",
       "</table>"
      ],
      "text/plain": [
       "[('sale_1', '2019-11-08 00:00', 0, 1, 1.1, 10),\n",
       " ('sale_2', '2019-11-08 01:00', 0, 0, 1.2, 10),\n",
       " ('sale_3', '2019-11-08 01:00', 0, 1, 1.3, 333),\n",
       " ('sale_4', '2019-11-08 01:00', 1, 0, 1.4, 10),\n",
       " ('sale_5', '2019-11-08 02:00', 1, 1, 1.5, 10),\n",
       " ('sale_6', '2019-11-08 02:00', 1, 1, 1.5, 10)]"
      ]
     },
     "execution_count": 38,
     "metadata": {},
     "output_type": "execute_result"
    }
   ],
   "source": [
    "%%sql\n",
    "DELETE FROM salesNew\n",
    "WHERE \n",
    "    keyNew IS NULL OR \n",
    "    ts IS NULL OR \n",
    "    product IS NULL OR \n",
    "    completed IS NULL OR \n",
    "    price IS NULL OR \n",
    "    newCol IS NULL;\n",
    "\n",
    "select * from salesNew;"
   ]
  },
  {
   "cell_type": "code",
   "execution_count": 39,
   "metadata": {
    "ExecuteTime": {
     "end_time": "2021-06-30T02:49:31.676465Z",
     "start_time": "2021-06-30T02:49:31.674354Z"
    }
   },
   "outputs": [],
   "source": [
    "#10 -- DROP TABLE command -- this will get rid of that table"
   ]
  },
  {
   "cell_type": "code",
   "execution_count": 40,
   "metadata": {
    "ExecuteTime": {
     "end_time": "2021-06-30T02:49:31.684368Z",
     "start_time": "2021-06-30T02:49:31.677668Z"
    }
   },
   "outputs": [
    {
     "name": "stdout",
     "output_type": "stream",
     "text": [
      " * sqlite://\n",
      "Done.\n",
      "1 rows affected.\n",
      "Done.\n"
     ]
    },
    {
     "data": {
      "text/html": [
       "<table>\n",
       "    <thead>\n",
       "        <tr>\n",
       "            <th>key</th>\n",
       "            <th>ts</th>\n",
       "            <th>product</th>\n",
       "            <th>completed</th>\n",
       "            <th>price</th>\n",
       "        </tr>\n",
       "    </thead>\n",
       "    <tbody>\n",
       "        <tr>\n",
       "            <td>example</td>\n",
       "            <td>7/7/7</td>\n",
       "            <td>7</td>\n",
       "            <td>3.3</td>\n",
       "            <td>444.0</td>\n",
       "        </tr>\n",
       "    </tbody>\n",
       "</table>"
      ],
      "text/plain": [
       "[('example', '7/7/7', 7, 3.3, 444.0)]"
      ]
     },
     "execution_count": 40,
     "metadata": {},
     "output_type": "execute_result"
    }
   ],
   "source": [
    "%%sql\n",
    "CREATE TABLE salesNewExample\n",
    "(\n",
    "    key       varchar(6),\n",
    "    ts        timestamp,\n",
    "    product   integer,\n",
    "    completed boolean,\n",
    "    price     float\n",
    ");\n",
    "\n",
    "INSERT INTO \n",
    "    salesNewExample\n",
    "VALUES \n",
    "    ('example','7/7/7', 7, 3.3, 444);\n",
    "\n",
    "select * from salesNewExample;"
   ]
  },
  {
   "cell_type": "code",
   "execution_count": 41,
   "metadata": {
    "ExecuteTime": {
     "end_time": "2021-06-30T02:49:31.689879Z",
     "start_time": "2021-06-30T02:49:31.685718Z"
    }
   },
   "outputs": [
    {
     "name": "stdout",
     "output_type": "stream",
     "text": [
      " * sqlite://\n",
      "Done.\n",
      "(sqlite3.OperationalError) no such table: salesNewExample\n",
      "[SQL: select * from salesNewExample;]\n",
      "(Background on this error at: https://sqlalche.me/e/20/e3q8)\n"
     ]
    }
   ],
   "source": [
    "%%sql\n",
    "DROP TABLE \n",
    "    salesNewExample;\n",
    "\n",
    "select * from salesNewExample;"
   ]
  },
  {
   "cell_type": "code",
   "execution_count": 42,
   "metadata": {
    "ExecuteTime": {
     "end_time": "2021-06-30T02:49:31.693172Z",
     "start_time": "2021-06-30T02:49:31.691303Z"
    }
   },
   "outputs": [],
   "source": [
    "#11 -- SELECT command -- show a specific column from the table"
   ]
  },
  {
   "cell_type": "code",
   "execution_count": 43,
   "metadata": {
    "ExecuteTime": {
     "end_time": "2021-06-30T02:49:31.700137Z",
     "start_time": "2021-06-30T02:49:31.694412Z"
    }
   },
   "outputs": [
    {
     "name": "stdout",
     "output_type": "stream",
     "text": [
      " * sqlite://\n",
      "Done.\n"
     ]
    },
    {
     "data": {
      "text/html": [
       "<table>\n",
       "    <thead>\n",
       "        <tr>\n",
       "            <th>price</th>\n",
       "            <th>product</th>\n",
       "            <th>completed</th>\n",
       "        </tr>\n",
       "    </thead>\n",
       "    <tbody>\n",
       "        <tr>\n",
       "            <td>1.1</td>\n",
       "            <td>0</td>\n",
       "            <td>1</td>\n",
       "        </tr>\n",
       "        <tr>\n",
       "            <td>1.2</td>\n",
       "            <td>0</td>\n",
       "            <td>0</td>\n",
       "        </tr>\n",
       "        <tr>\n",
       "            <td>1.3</td>\n",
       "            <td>0</td>\n",
       "            <td>1</td>\n",
       "        </tr>\n",
       "        <tr>\n",
       "            <td>1.4</td>\n",
       "            <td>1</td>\n",
       "            <td>0</td>\n",
       "        </tr>\n",
       "        <tr>\n",
       "            <td>1.5</td>\n",
       "            <td>1</td>\n",
       "            <td>1</td>\n",
       "        </tr>\n",
       "        <tr>\n",
       "            <td>1.5</td>\n",
       "            <td>1</td>\n",
       "            <td>1</td>\n",
       "        </tr>\n",
       "    </tbody>\n",
       "</table>"
      ],
      "text/plain": [
       "[(1.1, 0, 1), (1.2, 0, 0), (1.3, 0, 1), (1.4, 1, 0), (1.5, 1, 1), (1.5, 1, 1)]"
      ]
     },
     "execution_count": 43,
     "metadata": {},
     "output_type": "execute_result"
    }
   ],
   "source": [
    "%%sql\n",
    "SELECT \n",
    "    price,\n",
    "    product,\n",
    "    completed\n",
    "FROM \n",
    "    salesNew;"
   ]
  },
  {
   "cell_type": "code",
   "execution_count": 44,
   "metadata": {
    "ExecuteTime": {
     "end_time": "2021-06-30T02:49:31.703606Z",
     "start_time": "2021-06-30T02:49:31.701423Z"
    }
   },
   "outputs": [],
   "source": [
    "#we have already seen how SELECT * will show the whole table"
   ]
  },
  {
   "cell_type": "code",
   "execution_count": 45,
   "metadata": {
    "ExecuteTime": {
     "end_time": "2021-06-30T02:49:31.709439Z",
     "start_time": "2021-06-30T02:49:31.704950Z"
    }
   },
   "outputs": [
    {
     "name": "stdout",
     "output_type": "stream",
     "text": [
      " * sqlite://\n",
      "Done.\n"
     ]
    },
    {
     "data": {
      "text/html": [
       "<table>\n",
       "    <thead>\n",
       "        <tr>\n",
       "            <th>keyNew</th>\n",
       "            <th>ts</th>\n",
       "            <th>product</th>\n",
       "            <th>completed</th>\n",
       "            <th>price</th>\n",
       "            <th>newCol</th>\n",
       "        </tr>\n",
       "    </thead>\n",
       "    <tbody>\n",
       "        <tr>\n",
       "            <td>sale_1</td>\n",
       "            <td>2019-11-08 00:00</td>\n",
       "            <td>0</td>\n",
       "            <td>1</td>\n",
       "            <td>1.1</td>\n",
       "            <td>10</td>\n",
       "        </tr>\n",
       "        <tr>\n",
       "            <td>sale_2</td>\n",
       "            <td>2019-11-08 01:00</td>\n",
       "            <td>0</td>\n",
       "            <td>0</td>\n",
       "            <td>1.2</td>\n",
       "            <td>10</td>\n",
       "        </tr>\n",
       "        <tr>\n",
       "            <td>sale_3</td>\n",
       "            <td>2019-11-08 01:00</td>\n",
       "            <td>0</td>\n",
       "            <td>1</td>\n",
       "            <td>1.3</td>\n",
       "            <td>333</td>\n",
       "        </tr>\n",
       "        <tr>\n",
       "            <td>sale_4</td>\n",
       "            <td>2019-11-08 01:00</td>\n",
       "            <td>1</td>\n",
       "            <td>0</td>\n",
       "            <td>1.4</td>\n",
       "            <td>10</td>\n",
       "        </tr>\n",
       "        <tr>\n",
       "            <td>sale_5</td>\n",
       "            <td>2019-11-08 02:00</td>\n",
       "            <td>1</td>\n",
       "            <td>1</td>\n",
       "            <td>1.5</td>\n",
       "            <td>10</td>\n",
       "        </tr>\n",
       "        <tr>\n",
       "            <td>sale_6</td>\n",
       "            <td>2019-11-08 02:00</td>\n",
       "            <td>1</td>\n",
       "            <td>1</td>\n",
       "            <td>1.5</td>\n",
       "            <td>10</td>\n",
       "        </tr>\n",
       "    </tbody>\n",
       "</table>"
      ],
      "text/plain": [
       "[('sale_1', '2019-11-08 00:00', 0, 1, 1.1, 10),\n",
       " ('sale_2', '2019-11-08 01:00', 0, 0, 1.2, 10),\n",
       " ('sale_3', '2019-11-08 01:00', 0, 1, 1.3, 333),\n",
       " ('sale_4', '2019-11-08 01:00', 1, 0, 1.4, 10),\n",
       " ('sale_5', '2019-11-08 02:00', 1, 1, 1.5, 10),\n",
       " ('sale_6', '2019-11-08 02:00', 1, 1, 1.5, 10)]"
      ]
     },
     "execution_count": 45,
     "metadata": {},
     "output_type": "execute_result"
    }
   ],
   "source": [
    "%%sql\n",
    "select * FROM salesNew;"
   ]
  },
  {
   "cell_type": "code",
   "execution_count": 46,
   "metadata": {
    "ExecuteTime": {
     "end_time": "2021-06-30T02:49:31.712507Z",
     "start_time": "2021-06-30T02:49:31.710726Z"
    }
   },
   "outputs": [],
   "source": [
    "# CREATE TABLE AS -- make a table from a search query\n",
    "\n",
    "#this will create a table called keyNewPrice with just columns keyNew and price... we made our query into a table"
   ]
  },
  {
   "cell_type": "code",
   "execution_count": 47,
   "metadata": {
    "ExecuteTime": {
     "end_time": "2021-06-30T02:49:31.717986Z",
     "start_time": "2021-06-30T02:49:31.713859Z"
    }
   },
   "outputs": [
    {
     "name": "stdout",
     "output_type": "stream",
     "text": [
      " * sqlite://\n",
      "Done.\n"
     ]
    },
    {
     "data": {
      "text/plain": [
       "[]"
      ]
     },
     "execution_count": 47,
     "metadata": {},
     "output_type": "execute_result"
    }
   ],
   "source": [
    "%%sql\n",
    "CREATE TABLE keyNewPrice AS\n",
    "SELECT\n",
    "    keyNew,\n",
    "    price\n",
    "FROM\n",
    "    salesNew;"
   ]
  },
  {
   "cell_type": "code",
   "execution_count": 48,
   "metadata": {
    "ExecuteTime": {
     "end_time": "2021-06-30T02:49:31.723410Z",
     "start_time": "2021-06-30T02:49:31.719360Z"
    }
   },
   "outputs": [
    {
     "name": "stdout",
     "output_type": "stream",
     "text": [
      " * sqlite://\n",
      "Done.\n"
     ]
    },
    {
     "data": {
      "text/html": [
       "<table>\n",
       "    <thead>\n",
       "        <tr>\n",
       "            <th>keyNew</th>\n",
       "            <th>price</th>\n",
       "        </tr>\n",
       "    </thead>\n",
       "    <tbody>\n",
       "        <tr>\n",
       "            <td>sale_1</td>\n",
       "            <td>1.1</td>\n",
       "        </tr>\n",
       "        <tr>\n",
       "            <td>sale_2</td>\n",
       "            <td>1.2</td>\n",
       "        </tr>\n",
       "        <tr>\n",
       "            <td>sale_3</td>\n",
       "            <td>1.3</td>\n",
       "        </tr>\n",
       "        <tr>\n",
       "            <td>sale_4</td>\n",
       "            <td>1.4</td>\n",
       "        </tr>\n",
       "        <tr>\n",
       "            <td>sale_5</td>\n",
       "            <td>1.5</td>\n",
       "        </tr>\n",
       "        <tr>\n",
       "            <td>sale_6</td>\n",
       "            <td>1.5</td>\n",
       "        </tr>\n",
       "    </tbody>\n",
       "</table>"
      ],
      "text/plain": [
       "[('sale_1', 1.1),\n",
       " ('sale_2', 1.2),\n",
       " ('sale_3', 1.3),\n",
       " ('sale_4', 1.4),\n",
       " ('sale_5', 1.5),\n",
       " ('sale_6', 1.5)]"
      ]
     },
     "execution_count": 48,
     "metadata": {},
     "output_type": "execute_result"
    }
   ],
   "source": [
    "%%sql\n",
    "\n",
    "SELECT * FROM keyNewPrice;"
   ]
  },
  {
   "cell_type": "code",
   "execution_count": 49,
   "metadata": {
    "ExecuteTime": {
     "end_time": "2021-06-30T02:49:31.726452Z",
     "start_time": "2021-06-30T02:49:31.724701Z"
    }
   },
   "outputs": [],
   "source": [
    "#JOIN commands"
   ]
  },
  {
   "cell_type": "code",
   "execution_count": 50,
   "metadata": {
    "ExecuteTime": {
     "end_time": "2021-06-30T02:49:31.730314Z",
     "start_time": "2021-06-30T02:49:31.728377Z"
    }
   },
   "outputs": [],
   "source": [
    "#12 -- CROSS JOIN -- matching every row of the first table with every row of the second table -- creates LARGE table"
   ]
  },
  {
   "cell_type": "code",
   "execution_count": 51,
   "metadata": {
    "ExecuteTime": {
     "end_time": "2021-06-30T02:49:31.738856Z",
     "start_time": "2021-06-30T02:49:31.731960Z"
    }
   },
   "outputs": [
    {
     "name": "stdout",
     "output_type": "stream",
     "text": [
      " * sqlite://\n",
      "Done.\n",
      "6 rows affected.\n"
     ]
    },
    {
     "data": {
      "text/plain": [
       "[]"
      ]
     },
     "execution_count": 51,
     "metadata": {},
     "output_type": "execute_result"
    }
   ],
   "source": [
    "%%sql\n",
    "CREATE TABLE soldRecords\n",
    "(\n",
    "    keyNewRecords       varchar(6),\n",
    "    numberSold   integer\n",
    ");\n",
    "\n",
    "INSERT INTO \n",
    "    soldRecords\n",
    "VALUES \n",
    "    ('sale_1', 11),\n",
    "    ('sale_22', 22),\n",
    "    ('sale_3', 33),\n",
    "    ('sale_44', 44),\n",
    "    ('sale_5', 55),\n",
    "    ('sale_66', 66);\n",
    "    \n"
   ]
  },
  {
   "cell_type": "code",
   "execution_count": 52,
   "metadata": {
    "ExecuteTime": {
     "end_time": "2021-06-30T02:49:31.746831Z",
     "start_time": "2021-06-30T02:49:31.740423Z"
    }
   },
   "outputs": [
    {
     "name": "stdout",
     "output_type": "stream",
     "text": [
      " * sqlite://\n",
      "Done.\n"
     ]
    },
    {
     "data": {
      "text/html": [
       "<table>\n",
       "    <thead>\n",
       "        <tr>\n",
       "            <th>keyNew</th>\n",
       "            <th>ts</th>\n",
       "            <th>price</th>\n",
       "        </tr>\n",
       "    </thead>\n",
       "    <tbody>\n",
       "        <tr>\n",
       "            <td>sale_1</td>\n",
       "            <td>2019-11-08 00:00</td>\n",
       "            <td>1.1</td>\n",
       "        </tr>\n",
       "        <tr>\n",
       "            <td>sale_1</td>\n",
       "            <td>2019-11-08 00:00</td>\n",
       "            <td>1.1</td>\n",
       "        </tr>\n",
       "        <tr>\n",
       "            <td>sale_1</td>\n",
       "            <td>2019-11-08 00:00</td>\n",
       "            <td>1.1</td>\n",
       "        </tr>\n",
       "        <tr>\n",
       "            <td>sale_1</td>\n",
       "            <td>2019-11-08 00:00</td>\n",
       "            <td>1.1</td>\n",
       "        </tr>\n",
       "        <tr>\n",
       "            <td>sale_1</td>\n",
       "            <td>2019-11-08 00:00</td>\n",
       "            <td>1.1</td>\n",
       "        </tr>\n",
       "        <tr>\n",
       "            <td>sale_1</td>\n",
       "            <td>2019-11-08 00:00</td>\n",
       "            <td>1.1</td>\n",
       "        </tr>\n",
       "        <tr>\n",
       "            <td>sale_2</td>\n",
       "            <td>2019-11-08 01:00</td>\n",
       "            <td>1.2</td>\n",
       "        </tr>\n",
       "        <tr>\n",
       "            <td>sale_2</td>\n",
       "            <td>2019-11-08 01:00</td>\n",
       "            <td>1.2</td>\n",
       "        </tr>\n",
       "        <tr>\n",
       "            <td>sale_2</td>\n",
       "            <td>2019-11-08 01:00</td>\n",
       "            <td>1.2</td>\n",
       "        </tr>\n",
       "        <tr>\n",
       "            <td>sale_2</td>\n",
       "            <td>2019-11-08 01:00</td>\n",
       "            <td>1.2</td>\n",
       "        </tr>\n",
       "        <tr>\n",
       "            <td>sale_2</td>\n",
       "            <td>2019-11-08 01:00</td>\n",
       "            <td>1.2</td>\n",
       "        </tr>\n",
       "        <tr>\n",
       "            <td>sale_2</td>\n",
       "            <td>2019-11-08 01:00</td>\n",
       "            <td>1.2</td>\n",
       "        </tr>\n",
       "        <tr>\n",
       "            <td>sale_3</td>\n",
       "            <td>2019-11-08 01:00</td>\n",
       "            <td>1.3</td>\n",
       "        </tr>\n",
       "        <tr>\n",
       "            <td>sale_3</td>\n",
       "            <td>2019-11-08 01:00</td>\n",
       "            <td>1.3</td>\n",
       "        </tr>\n",
       "        <tr>\n",
       "            <td>sale_3</td>\n",
       "            <td>2019-11-08 01:00</td>\n",
       "            <td>1.3</td>\n",
       "        </tr>\n",
       "        <tr>\n",
       "            <td>sale_3</td>\n",
       "            <td>2019-11-08 01:00</td>\n",
       "            <td>1.3</td>\n",
       "        </tr>\n",
       "        <tr>\n",
       "            <td>sale_3</td>\n",
       "            <td>2019-11-08 01:00</td>\n",
       "            <td>1.3</td>\n",
       "        </tr>\n",
       "        <tr>\n",
       "            <td>sale_3</td>\n",
       "            <td>2019-11-08 01:00</td>\n",
       "            <td>1.3</td>\n",
       "        </tr>\n",
       "        <tr>\n",
       "            <td>sale_4</td>\n",
       "            <td>2019-11-08 01:00</td>\n",
       "            <td>1.4</td>\n",
       "        </tr>\n",
       "        <tr>\n",
       "            <td>sale_4</td>\n",
       "            <td>2019-11-08 01:00</td>\n",
       "            <td>1.4</td>\n",
       "        </tr>\n",
       "        <tr>\n",
       "            <td>sale_4</td>\n",
       "            <td>2019-11-08 01:00</td>\n",
       "            <td>1.4</td>\n",
       "        </tr>\n",
       "        <tr>\n",
       "            <td>sale_4</td>\n",
       "            <td>2019-11-08 01:00</td>\n",
       "            <td>1.4</td>\n",
       "        </tr>\n",
       "        <tr>\n",
       "            <td>sale_4</td>\n",
       "            <td>2019-11-08 01:00</td>\n",
       "            <td>1.4</td>\n",
       "        </tr>\n",
       "        <tr>\n",
       "            <td>sale_4</td>\n",
       "            <td>2019-11-08 01:00</td>\n",
       "            <td>1.4</td>\n",
       "        </tr>\n",
       "        <tr>\n",
       "            <td>sale_5</td>\n",
       "            <td>2019-11-08 02:00</td>\n",
       "            <td>1.5</td>\n",
       "        </tr>\n",
       "        <tr>\n",
       "            <td>sale_5</td>\n",
       "            <td>2019-11-08 02:00</td>\n",
       "            <td>1.5</td>\n",
       "        </tr>\n",
       "        <tr>\n",
       "            <td>sale_5</td>\n",
       "            <td>2019-11-08 02:00</td>\n",
       "            <td>1.5</td>\n",
       "        </tr>\n",
       "        <tr>\n",
       "            <td>sale_5</td>\n",
       "            <td>2019-11-08 02:00</td>\n",
       "            <td>1.5</td>\n",
       "        </tr>\n",
       "        <tr>\n",
       "            <td>sale_5</td>\n",
       "            <td>2019-11-08 02:00</td>\n",
       "            <td>1.5</td>\n",
       "        </tr>\n",
       "        <tr>\n",
       "            <td>sale_5</td>\n",
       "            <td>2019-11-08 02:00</td>\n",
       "            <td>1.5</td>\n",
       "        </tr>\n",
       "        <tr>\n",
       "            <td>sale_6</td>\n",
       "            <td>2019-11-08 02:00</td>\n",
       "            <td>1.5</td>\n",
       "        </tr>\n",
       "        <tr>\n",
       "            <td>sale_6</td>\n",
       "            <td>2019-11-08 02:00</td>\n",
       "            <td>1.5</td>\n",
       "        </tr>\n",
       "        <tr>\n",
       "            <td>sale_6</td>\n",
       "            <td>2019-11-08 02:00</td>\n",
       "            <td>1.5</td>\n",
       "        </tr>\n",
       "        <tr>\n",
       "            <td>sale_6</td>\n",
       "            <td>2019-11-08 02:00</td>\n",
       "            <td>1.5</td>\n",
       "        </tr>\n",
       "        <tr>\n",
       "            <td>sale_6</td>\n",
       "            <td>2019-11-08 02:00</td>\n",
       "            <td>1.5</td>\n",
       "        </tr>\n",
       "        <tr>\n",
       "            <td>sale_6</td>\n",
       "            <td>2019-11-08 02:00</td>\n",
       "            <td>1.5</td>\n",
       "        </tr>\n",
       "    </tbody>\n",
       "</table>"
      ],
      "text/plain": [
       "[('sale_1', '2019-11-08 00:00', 1.1),\n",
       " ('sale_1', '2019-11-08 00:00', 1.1),\n",
       " ('sale_1', '2019-11-08 00:00', 1.1),\n",
       " ('sale_1', '2019-11-08 00:00', 1.1),\n",
       " ('sale_1', '2019-11-08 00:00', 1.1),\n",
       " ('sale_1', '2019-11-08 00:00', 1.1),\n",
       " ('sale_2', '2019-11-08 01:00', 1.2),\n",
       " ('sale_2', '2019-11-08 01:00', 1.2),\n",
       " ('sale_2', '2019-11-08 01:00', 1.2),\n",
       " ('sale_2', '2019-11-08 01:00', 1.2),\n",
       " ('sale_2', '2019-11-08 01:00', 1.2),\n",
       " ('sale_2', '2019-11-08 01:00', 1.2),\n",
       " ('sale_3', '2019-11-08 01:00', 1.3),\n",
       " ('sale_3', '2019-11-08 01:00', 1.3),\n",
       " ('sale_3', '2019-11-08 01:00', 1.3),\n",
       " ('sale_3', '2019-11-08 01:00', 1.3),\n",
       " ('sale_3', '2019-11-08 01:00', 1.3),\n",
       " ('sale_3', '2019-11-08 01:00', 1.3),\n",
       " ('sale_4', '2019-11-08 01:00', 1.4),\n",
       " ('sale_4', '2019-11-08 01:00', 1.4),\n",
       " ('sale_4', '2019-11-08 01:00', 1.4),\n",
       " ('sale_4', '2019-11-08 01:00', 1.4),\n",
       " ('sale_4', '2019-11-08 01:00', 1.4),\n",
       " ('sale_4', '2019-11-08 01:00', 1.4),\n",
       " ('sale_5', '2019-11-08 02:00', 1.5),\n",
       " ('sale_5', '2019-11-08 02:00', 1.5),\n",
       " ('sale_5', '2019-11-08 02:00', 1.5),\n",
       " ('sale_5', '2019-11-08 02:00', 1.5),\n",
       " ('sale_5', '2019-11-08 02:00', 1.5),\n",
       " ('sale_5', '2019-11-08 02:00', 1.5),\n",
       " ('sale_6', '2019-11-08 02:00', 1.5),\n",
       " ('sale_6', '2019-11-08 02:00', 1.5),\n",
       " ('sale_6', '2019-11-08 02:00', 1.5),\n",
       " ('sale_6', '2019-11-08 02:00', 1.5),\n",
       " ('sale_6', '2019-11-08 02:00', 1.5),\n",
       " ('sale_6', '2019-11-08 02:00', 1.5)]"
      ]
     },
     "execution_count": 52,
     "metadata": {},
     "output_type": "execute_result"
    }
   ],
   "source": [
    "%%sql\n",
    "SELECT \n",
    "    keyNew, \n",
    "    ts, \n",
    "    price \n",
    "FROM \n",
    "    salesNew \n",
    "    \n",
    "CROSS JOIN \n",
    "    soldRecords;"
   ]
  },
  {
   "cell_type": "code",
   "execution_count": 53,
   "metadata": {
    "ExecuteTime": {
     "end_time": "2021-06-30T02:49:31.750129Z",
     "start_time": "2021-06-30T02:49:31.748164Z"
    }
   },
   "outputs": [],
   "source": [
    "#13 -- INNER JOIN -- identify common entries in two tables based on condition"
   ]
  },
  {
   "cell_type": "code",
   "execution_count": 54,
   "metadata": {
    "ExecuteTime": {
     "end_time": "2021-06-30T02:49:31.758020Z",
     "start_time": "2021-06-30T02:49:31.751796Z"
    }
   },
   "outputs": [
    {
     "name": "stdout",
     "output_type": "stream",
     "text": [
      " * sqlite://\n",
      "Done.\n"
     ]
    },
    {
     "data": {
      "text/html": [
       "<table>\n",
       "    <thead>\n",
       "        <tr>\n",
       "            <th>keyNew</th>\n",
       "            <th>ts</th>\n",
       "            <th>price</th>\n",
       "        </tr>\n",
       "    </thead>\n",
       "    <tbody>\n",
       "        <tr>\n",
       "            <td>sale_1</td>\n",
       "            <td>2019-11-08 00:00</td>\n",
       "            <td>1.1</td>\n",
       "        </tr>\n",
       "        <tr>\n",
       "            <td>sale_3</td>\n",
       "            <td>2019-11-08 01:00</td>\n",
       "            <td>1.3</td>\n",
       "        </tr>\n",
       "        <tr>\n",
       "            <td>sale_5</td>\n",
       "            <td>2019-11-08 02:00</td>\n",
       "            <td>1.5</td>\n",
       "        </tr>\n",
       "    </tbody>\n",
       "</table>"
      ],
      "text/plain": [
       "[('sale_1', '2019-11-08 00:00', 1.1),\n",
       " ('sale_3', '2019-11-08 01:00', 1.3),\n",
       " ('sale_5', '2019-11-08 02:00', 1.5)]"
      ]
     },
     "execution_count": 54,
     "metadata": {},
     "output_type": "execute_result"
    }
   ],
   "source": [
    "%%sql\n",
    "SELECT \n",
    "    keyNew, \n",
    "    ts, \n",
    "    price \n",
    "FROM \n",
    "    salesNew sn\n",
    "INNER JOIN soldRecords sr\n",
    "    ON sn.keyNew = sr.keyNewRecords;"
   ]
  },
  {
   "cell_type": "code",
   "execution_count": 55,
   "metadata": {
    "ExecuteTime": {
     "end_time": "2021-06-30T02:49:31.761227Z",
     "start_time": "2021-06-30T02:49:31.759510Z"
    }
   },
   "outputs": [],
   "source": [
    "#14 -- LEFT OUTER JOIN -- Return all rows from the left-hand table and only the rows from the right that fit the \n",
    "#specified condition"
   ]
  },
  {
   "cell_type": "code",
   "execution_count": 56,
   "metadata": {
    "ExecuteTime": {
     "end_time": "2021-06-30T02:49:31.768180Z",
     "start_time": "2021-06-30T02:49:31.762597Z"
    }
   },
   "outputs": [
    {
     "name": "stdout",
     "output_type": "stream",
     "text": [
      " * sqlite://\n",
      "Done.\n"
     ]
    },
    {
     "data": {
      "text/html": [
       "<table>\n",
       "    <thead>\n",
       "        <tr>\n",
       "            <th>keyNew</th>\n",
       "            <th>ts</th>\n",
       "            <th>price</th>\n",
       "        </tr>\n",
       "    </thead>\n",
       "    <tbody>\n",
       "        <tr>\n",
       "            <td>sale_1</td>\n",
       "            <td>2019-11-08 00:00</td>\n",
       "            <td>1.1</td>\n",
       "        </tr>\n",
       "        <tr>\n",
       "            <td>sale_2</td>\n",
       "            <td>2019-11-08 01:00</td>\n",
       "            <td>1.2</td>\n",
       "        </tr>\n",
       "        <tr>\n",
       "            <td>sale_3</td>\n",
       "            <td>2019-11-08 01:00</td>\n",
       "            <td>1.3</td>\n",
       "        </tr>\n",
       "        <tr>\n",
       "            <td>sale_4</td>\n",
       "            <td>2019-11-08 01:00</td>\n",
       "            <td>1.4</td>\n",
       "        </tr>\n",
       "        <tr>\n",
       "            <td>sale_5</td>\n",
       "            <td>2019-11-08 02:00</td>\n",
       "            <td>1.5</td>\n",
       "        </tr>\n",
       "        <tr>\n",
       "            <td>sale_6</td>\n",
       "            <td>2019-11-08 02:00</td>\n",
       "            <td>1.5</td>\n",
       "        </tr>\n",
       "    </tbody>\n",
       "</table>"
      ],
      "text/plain": [
       "[('sale_1', '2019-11-08 00:00', 1.1),\n",
       " ('sale_2', '2019-11-08 01:00', 1.2),\n",
       " ('sale_3', '2019-11-08 01:00', 1.3),\n",
       " ('sale_4', '2019-11-08 01:00', 1.4),\n",
       " ('sale_5', '2019-11-08 02:00', 1.5),\n",
       " ('sale_6', '2019-11-08 02:00', 1.5)]"
      ]
     },
     "execution_count": 56,
     "metadata": {},
     "output_type": "execute_result"
    }
   ],
   "source": [
    "%%sql\n",
    "SELECT \n",
    "    keyNew, \n",
    "    ts, \n",
    "    price \n",
    "FROM \n",
    "    salesNew sn\n",
    "LEFT OUTER JOIN \n",
    "    soldRecords sr\n",
    "    ON \n",
    "    sn.keyNew = sr.keyNewRecords;"
   ]
  },
  {
   "cell_type": "code",
   "execution_count": 57,
   "metadata": {
    "ExecuteTime": {
     "end_time": "2021-06-30T02:49:31.774309Z",
     "start_time": "2021-06-30T02:49:31.769528Z"
    }
   },
   "outputs": [
    {
     "name": "stdout",
     "output_type": "stream",
     "text": [
      " * sqlite://\n",
      "Done.\n"
     ]
    },
    {
     "data": {
      "text/html": [
       "<table>\n",
       "    <thead>\n",
       "        <tr>\n",
       "            <th>keyNew</th>\n",
       "            <th>ts</th>\n",
       "            <th>product</th>\n",
       "            <th>completed</th>\n",
       "            <th>price</th>\n",
       "            <th>newCol</th>\n",
       "        </tr>\n",
       "    </thead>\n",
       "    <tbody>\n",
       "        <tr>\n",
       "            <td>sale_1</td>\n",
       "            <td>2019-11-08 00:00</td>\n",
       "            <td>0</td>\n",
       "            <td>1</td>\n",
       "            <td>1.1</td>\n",
       "            <td>10</td>\n",
       "        </tr>\n",
       "        <tr>\n",
       "            <td>sale_2</td>\n",
       "            <td>2019-11-08 01:00</td>\n",
       "            <td>0</td>\n",
       "            <td>0</td>\n",
       "            <td>1.2</td>\n",
       "            <td>10</td>\n",
       "        </tr>\n",
       "        <tr>\n",
       "            <td>sale_3</td>\n",
       "            <td>2019-11-08 01:00</td>\n",
       "            <td>0</td>\n",
       "            <td>1</td>\n",
       "            <td>1.3</td>\n",
       "            <td>333</td>\n",
       "        </tr>\n",
       "        <tr>\n",
       "            <td>sale_4</td>\n",
       "            <td>2019-11-08 01:00</td>\n",
       "            <td>1</td>\n",
       "            <td>0</td>\n",
       "            <td>1.4</td>\n",
       "            <td>10</td>\n",
       "        </tr>\n",
       "        <tr>\n",
       "            <td>sale_5</td>\n",
       "            <td>2019-11-08 02:00</td>\n",
       "            <td>1</td>\n",
       "            <td>1</td>\n",
       "            <td>1.5</td>\n",
       "            <td>10</td>\n",
       "        </tr>\n",
       "        <tr>\n",
       "            <td>sale_6</td>\n",
       "            <td>2019-11-08 02:00</td>\n",
       "            <td>1</td>\n",
       "            <td>1</td>\n",
       "            <td>1.5</td>\n",
       "            <td>10</td>\n",
       "        </tr>\n",
       "    </tbody>\n",
       "</table>"
      ],
      "text/plain": [
       "[('sale_1', '2019-11-08 00:00', 0, 1, 1.1, 10),\n",
       " ('sale_2', '2019-11-08 01:00', 0, 0, 1.2, 10),\n",
       " ('sale_3', '2019-11-08 01:00', 0, 1, 1.3, 333),\n",
       " ('sale_4', '2019-11-08 01:00', 1, 0, 1.4, 10),\n",
       " ('sale_5', '2019-11-08 02:00', 1, 1, 1.5, 10),\n",
       " ('sale_6', '2019-11-08 02:00', 1, 1, 1.5, 10)]"
      ]
     },
     "execution_count": 57,
     "metadata": {},
     "output_type": "execute_result"
    }
   ],
   "source": [
    "%%sql\n",
    "select * FROM salesNew;"
   ]
  },
  {
   "cell_type": "code",
   "execution_count": 58,
   "metadata": {
    "ExecuteTime": {
     "end_time": "2021-06-30T02:49:31.780848Z",
     "start_time": "2021-06-30T02:49:31.775829Z"
    }
   },
   "outputs": [
    {
     "name": "stdout",
     "output_type": "stream",
     "text": [
      " * sqlite://\n",
      "Done.\n"
     ]
    },
    {
     "data": {
      "text/html": [
       "<table>\n",
       "    <thead>\n",
       "        <tr>\n",
       "            <th>keyNewRecords</th>\n",
       "            <th>numberSold</th>\n",
       "        </tr>\n",
       "    </thead>\n",
       "    <tbody>\n",
       "        <tr>\n",
       "            <td>sale_1</td>\n",
       "            <td>11</td>\n",
       "        </tr>\n",
       "        <tr>\n",
       "            <td>sale_22</td>\n",
       "            <td>22</td>\n",
       "        </tr>\n",
       "        <tr>\n",
       "            <td>sale_3</td>\n",
       "            <td>33</td>\n",
       "        </tr>\n",
       "        <tr>\n",
       "            <td>sale_44</td>\n",
       "            <td>44</td>\n",
       "        </tr>\n",
       "        <tr>\n",
       "            <td>sale_5</td>\n",
       "            <td>55</td>\n",
       "        </tr>\n",
       "        <tr>\n",
       "            <td>sale_66</td>\n",
       "            <td>66</td>\n",
       "        </tr>\n",
       "    </tbody>\n",
       "</table>"
      ],
      "text/plain": [
       "[('sale_1', 11),\n",
       " ('sale_22', 22),\n",
       " ('sale_3', 33),\n",
       " ('sale_44', 44),\n",
       " ('sale_5', 55),\n",
       " ('sale_66', 66)]"
      ]
     },
     "execution_count": 58,
     "metadata": {},
     "output_type": "execute_result"
    }
   ],
   "source": [
    "%%sql\n",
    "select * FROM soldRecords;"
   ]
  },
  {
   "cell_type": "code",
   "execution_count": 59,
   "metadata": {
    "ExecuteTime": {
     "end_time": "2021-06-30T02:49:31.784531Z",
     "start_time": "2021-06-30T02:49:31.782456Z"
    }
   },
   "outputs": [],
   "source": [
    "#%%sql\n",
    "#DROP TABLE soldRecords;\n"
   ]
  },
  {
   "cell_type": "code",
   "execution_count": 60,
   "metadata": {
    "ExecuteTime": {
     "end_time": "2021-06-30T02:49:31.788125Z",
     "start_time": "2021-06-30T02:49:31.786158Z"
    }
   },
   "outputs": [],
   "source": [
    "#%%sql\n",
    "#DROP TABLE salesNew;"
   ]
  },
  {
   "cell_type": "code",
   "execution_count": 61,
   "metadata": {
    "ExecuteTime": {
     "end_time": "2021-06-30T02:49:31.793018Z",
     "start_time": "2021-06-30T02:49:31.790472Z"
    }
   },
   "outputs": [],
   "source": [
    "#15 -- WHERE command -- getting a set of results based on a condition we set for the table contents"
   ]
  },
  {
   "cell_type": "code",
   "execution_count": 62,
   "metadata": {
    "ExecuteTime": {
     "end_time": "2021-06-30T02:49:31.801596Z",
     "start_time": "2021-06-30T02:49:31.795396Z"
    }
   },
   "outputs": [
    {
     "name": "stdout",
     "output_type": "stream",
     "text": [
      " * sqlite://\n",
      "Done.\n"
     ]
    },
    {
     "data": {
      "text/html": [
       "<table>\n",
       "    <thead>\n",
       "        <tr>\n",
       "            <th>keyNew</th>\n",
       "            <th>ts</th>\n",
       "            <th>product</th>\n",
       "            <th>completed</th>\n",
       "            <th>price</th>\n",
       "            <th>newCol</th>\n",
       "        </tr>\n",
       "    </thead>\n",
       "    <tbody>\n",
       "        <tr>\n",
       "            <td>sale_3</td>\n",
       "            <td>2019-11-08 01:00</td>\n",
       "            <td>0</td>\n",
       "            <td>1</td>\n",
       "            <td>1.3</td>\n",
       "            <td>333</td>\n",
       "        </tr>\n",
       "    </tbody>\n",
       "</table>"
      ],
      "text/plain": [
       "[('sale_3', '2019-11-08 01:00', 0, 1, 1.3, 333)]"
      ]
     },
     "execution_count": 62,
     "metadata": {},
     "output_type": "execute_result"
    }
   ],
   "source": [
    "%%sql\n",
    "SELECT * FROM salesNew \n",
    "WHERE \n",
    "    newCol > 10;"
   ]
  },
  {
   "cell_type": "code",
   "execution_count": 63,
   "metadata": {
    "ExecuteTime": {
     "end_time": "2021-06-30T02:49:31.806144Z",
     "start_time": "2021-06-30T02:49:31.803595Z"
    }
   },
   "outputs": [],
   "source": [
    "# 16 -- WHERE command cont'd -- adding more than one constraint -- OR statement"
   ]
  },
  {
   "cell_type": "code",
   "execution_count": 64,
   "metadata": {
    "ExecuteTime": {
     "end_time": "2021-06-30T02:49:31.814684Z",
     "start_time": "2021-06-30T02:49:31.808873Z"
    }
   },
   "outputs": [
    {
     "name": "stdout",
     "output_type": "stream",
     "text": [
      " * sqlite://\n",
      "Done.\n"
     ]
    },
    {
     "data": {
      "text/html": [
       "<table>\n",
       "    <thead>\n",
       "        <tr>\n",
       "            <th>keyNew</th>\n",
       "            <th>ts</th>\n",
       "            <th>product</th>\n",
       "            <th>completed</th>\n",
       "            <th>price</th>\n",
       "            <th>newCol</th>\n",
       "        </tr>\n",
       "    </thead>\n",
       "    <tbody>\n",
       "        <tr>\n",
       "            <td>sale_3</td>\n",
       "            <td>2019-11-08 01:00</td>\n",
       "            <td>0</td>\n",
       "            <td>1</td>\n",
       "            <td>1.3</td>\n",
       "            <td>333</td>\n",
       "        </tr>\n",
       "        <tr>\n",
       "            <td>sale_4</td>\n",
       "            <td>2019-11-08 01:00</td>\n",
       "            <td>1</td>\n",
       "            <td>0</td>\n",
       "            <td>1.4</td>\n",
       "            <td>10</td>\n",
       "        </tr>\n",
       "        <tr>\n",
       "            <td>sale_5</td>\n",
       "            <td>2019-11-08 02:00</td>\n",
       "            <td>1</td>\n",
       "            <td>1</td>\n",
       "            <td>1.5</td>\n",
       "            <td>10</td>\n",
       "        </tr>\n",
       "        <tr>\n",
       "            <td>sale_6</td>\n",
       "            <td>2019-11-08 02:00</td>\n",
       "            <td>1</td>\n",
       "            <td>1</td>\n",
       "            <td>1.5</td>\n",
       "            <td>10</td>\n",
       "        </tr>\n",
       "    </tbody>\n",
       "</table>"
      ],
      "text/plain": [
       "[('sale_3', '2019-11-08 01:00', 0, 1, 1.3, 333),\n",
       " ('sale_4', '2019-11-08 01:00', 1, 0, 1.4, 10),\n",
       " ('sale_5', '2019-11-08 02:00', 1, 1, 1.5, 10),\n",
       " ('sale_6', '2019-11-08 02:00', 1, 1, 1.5, 10)]"
      ]
     },
     "execution_count": 64,
     "metadata": {},
     "output_type": "execute_result"
    }
   ],
   "source": [
    "%%sql\n",
    "SELECT * FROM salesNew \n",
    "WHERE \n",
    "    newCol > 10 \n",
    "OR \n",
    "    price >= 1.3;"
   ]
  },
  {
   "cell_type": "code",
   "execution_count": 65,
   "metadata": {
    "ExecuteTime": {
     "end_time": "2021-06-30T02:49:31.818075Z",
     "start_time": "2021-06-30T02:49:31.816238Z"
    }
   },
   "outputs": [],
   "source": [
    "#17 -- WHERE command cont'd -- adding more than one contstraint using WHERE -- AND statement"
   ]
  },
  {
   "cell_type": "code",
   "execution_count": 66,
   "metadata": {
    "ExecuteTime": {
     "end_time": "2021-06-30T02:49:31.826693Z",
     "start_time": "2021-06-30T02:49:31.820220Z"
    }
   },
   "outputs": [
    {
     "name": "stdout",
     "output_type": "stream",
     "text": [
      " * sqlite://\n",
      "Done.\n"
     ]
    },
    {
     "data": {
      "text/html": [
       "<table>\n",
       "    <thead>\n",
       "        <tr>\n",
       "            <th>keyNew</th>\n",
       "            <th>ts</th>\n",
       "            <th>product</th>\n",
       "            <th>completed</th>\n",
       "            <th>price</th>\n",
       "            <th>newCol</th>\n",
       "        </tr>\n",
       "    </thead>\n",
       "    <tbody>\n",
       "        <tr>\n",
       "            <td>sale_5</td>\n",
       "            <td>2019-11-08 02:00</td>\n",
       "            <td>1</td>\n",
       "            <td>1</td>\n",
       "            <td>1.5</td>\n",
       "            <td>10</td>\n",
       "        </tr>\n",
       "        <tr>\n",
       "            <td>sale_6</td>\n",
       "            <td>2019-11-08 02:00</td>\n",
       "            <td>1</td>\n",
       "            <td>1</td>\n",
       "            <td>1.5</td>\n",
       "            <td>10</td>\n",
       "        </tr>\n",
       "    </tbody>\n",
       "</table>"
      ],
      "text/plain": [
       "[('sale_5', '2019-11-08 02:00', 1, 1, 1.5, 10),\n",
       " ('sale_6', '2019-11-08 02:00', 1, 1, 1.5, 10)]"
      ]
     },
     "execution_count": 66,
     "metadata": {},
     "output_type": "execute_result"
    }
   ],
   "source": [
    "%%sql\n",
    "SELECT * FROM salesNew \n",
    "WHERE \n",
    "    product = 1 \n",
    "AND \n",
    "    price = 1.5;"
   ]
  },
  {
   "cell_type": "code",
   "execution_count": 67,
   "metadata": {
    "ExecuteTime": {
     "end_time": "2021-06-30T02:49:31.833844Z",
     "start_time": "2021-06-30T02:49:31.828721Z"
    }
   },
   "outputs": [
    {
     "name": "stdout",
     "output_type": "stream",
     "text": [
      " * sqlite://\n",
      "Done.\n"
     ]
    },
    {
     "data": {
      "text/html": [
       "<table>\n",
       "    <thead>\n",
       "        <tr>\n",
       "            <th>ts</th>\n",
       "        </tr>\n",
       "    </thead>\n",
       "    <tbody>\n",
       "        <tr>\n",
       "            <td>2019-11-08 01:00</td>\n",
       "        </tr>\n",
       "    </tbody>\n",
       "</table>"
      ],
      "text/plain": [
       "[('2019-11-08 01:00',)]"
      ]
     },
     "execution_count": 67,
     "metadata": {},
     "output_type": "execute_result"
    }
   ],
   "source": [
    "%%sql\n",
    "SELECT ts FROM salesNew \n",
    "WHERE \n",
    "    completed = 1 \n",
    "AND \n",
    "    newCol > 10;"
   ]
  },
  {
   "cell_type": "code",
   "execution_count": 68,
   "metadata": {
    "ExecuteTime": {
     "end_time": "2021-06-30T02:49:31.837467Z",
     "start_time": "2021-06-30T02:49:31.835660Z"
    }
   },
   "outputs": [],
   "source": [
    "#18 -- WHERE command cont'd -- isolating contents of a column based on specific value in another column"
   ]
  },
  {
   "cell_type": "code",
   "execution_count": 69,
   "metadata": {
    "ExecuteTime": {
     "end_time": "2021-06-30T02:49:31.844505Z",
     "start_time": "2021-06-30T02:49:31.839271Z"
    }
   },
   "outputs": [
    {
     "name": "stdout",
     "output_type": "stream",
     "text": [
      " * sqlite://\n",
      "Done.\n"
     ]
    },
    {
     "data": {
      "text/html": [
       "<table>\n",
       "    <thead>\n",
       "        <tr>\n",
       "            <th>ts</th>\n",
       "        </tr>\n",
       "    </thead>\n",
       "    <tbody>\n",
       "        <tr>\n",
       "            <td>2019-11-08 00:00</td>\n",
       "        </tr>\n",
       "        <tr>\n",
       "            <td>2019-11-08 01:00</td>\n",
       "        </tr>\n",
       "        <tr>\n",
       "            <td>2019-11-08 02:00</td>\n",
       "        </tr>\n",
       "        <tr>\n",
       "            <td>2019-11-08 02:00</td>\n",
       "        </tr>\n",
       "    </tbody>\n",
       "</table>"
      ],
      "text/plain": [
       "[('2019-11-08 00:00',),\n",
       " ('2019-11-08 01:00',),\n",
       " ('2019-11-08 02:00',),\n",
       " ('2019-11-08 02:00',)]"
      ]
     },
     "execution_count": 69,
     "metadata": {},
     "output_type": "execute_result"
    }
   ],
   "source": [
    "%%sql\n",
    "SELECT \n",
    "    ts \n",
    "FROM \n",
    "    salesNew \n",
    "WHERE \n",
    "    completed = 1;"
   ]
  },
  {
   "cell_type": "code",
   "execution_count": 70,
   "metadata": {
    "ExecuteTime": {
     "end_time": "2021-06-30T02:49:31.858924Z",
     "start_time": "2021-06-30T02:49:31.857161Z"
    }
   },
   "outputs": [],
   "source": [
    "#19 -- GROUP BY command -- connected to the SELECT statement, this command allows you to arrange identical data\n",
    "#into groups with the help of some functions -- one row is returned for each \"group\""
   ]
  },
  {
   "cell_type": "code",
   "execution_count": 71,
   "metadata": {
    "ExecuteTime": {
     "end_time": "2021-06-30T02:49:31.866406Z",
     "start_time": "2021-06-30T02:49:31.864746Z"
    }
   },
   "outputs": [],
   "source": [
    "#return unique entries in our table specific to completed and newCol"
   ]
  },
  {
   "cell_type": "code",
   "execution_count": 72,
   "metadata": {
    "ExecuteTime": {
     "end_time": "2021-06-30T02:49:31.873341Z",
     "start_time": "2021-06-30T02:49:31.868025Z"
    }
   },
   "outputs": [
    {
     "name": "stdout",
     "output_type": "stream",
     "text": [
      " * sqlite://\n",
      "Done.\n"
     ]
    },
    {
     "data": {
      "text/html": [
       "<table>\n",
       "    <thead>\n",
       "        <tr>\n",
       "            <th>keyNew</th>\n",
       "            <th>ts</th>\n",
       "            <th>product</th>\n",
       "            <th>completed</th>\n",
       "            <th>price</th>\n",
       "            <th>newCol</th>\n",
       "        </tr>\n",
       "    </thead>\n",
       "    <tbody>\n",
       "        <tr>\n",
       "            <td>sale_2</td>\n",
       "            <td>2019-11-08 01:00</td>\n",
       "            <td>0</td>\n",
       "            <td>0</td>\n",
       "            <td>1.2</td>\n",
       "            <td>10</td>\n",
       "        </tr>\n",
       "        <tr>\n",
       "            <td>sale_1</td>\n",
       "            <td>2019-11-08 00:00</td>\n",
       "            <td>0</td>\n",
       "            <td>1</td>\n",
       "            <td>1.1</td>\n",
       "            <td>10</td>\n",
       "        </tr>\n",
       "        <tr>\n",
       "            <td>sale_3</td>\n",
       "            <td>2019-11-08 01:00</td>\n",
       "            <td>0</td>\n",
       "            <td>1</td>\n",
       "            <td>1.3</td>\n",
       "            <td>333</td>\n",
       "        </tr>\n",
       "    </tbody>\n",
       "</table>"
      ],
      "text/plain": [
       "[('sale_2', '2019-11-08 01:00', 0, 0, 1.2, 10),\n",
       " ('sale_1', '2019-11-08 00:00', 0, 1, 1.1, 10),\n",
       " ('sale_3', '2019-11-08 01:00', 0, 1, 1.3, 333)]"
      ]
     },
     "execution_count": 72,
     "metadata": {},
     "output_type": "execute_result"
    }
   ],
   "source": [
    "%%sql\n",
    "SELECT * FROM salesNew\n",
    "GROUP BY \n",
    "    completed, \n",
    "    newCol;"
   ]
  },
  {
   "cell_type": "code",
   "execution_count": 73,
   "metadata": {
    "ExecuteTime": {
     "end_time": "2021-06-30T02:49:31.876727Z",
     "start_time": "2021-06-30T02:49:31.875072Z"
    }
   },
   "outputs": [],
   "source": [
    "#20 -- GROUP BY command cont'd -- return count of price at different timestamps \n",
    "#(how many timestamps reflect the same price)"
   ]
  },
  {
   "cell_type": "code",
   "execution_count": 74,
   "metadata": {
    "ExecuteTime": {
     "end_time": "2021-06-30T02:49:31.882859Z",
     "start_time": "2021-06-30T02:49:31.878243Z"
    }
   },
   "outputs": [
    {
     "name": "stdout",
     "output_type": "stream",
     "text": [
      " * sqlite://\n",
      "Done.\n"
     ]
    },
    {
     "data": {
      "text/html": [
       "<table>\n",
       "    <thead>\n",
       "        <tr>\n",
       "            <th>price</th>\n",
       "            <th>COUNT(ts)</th>\n",
       "        </tr>\n",
       "    </thead>\n",
       "    <tbody>\n",
       "        <tr>\n",
       "            <td>1.1</td>\n",
       "            <td>1</td>\n",
       "        </tr>\n",
       "        <tr>\n",
       "            <td>1.2</td>\n",
       "            <td>1</td>\n",
       "        </tr>\n",
       "        <tr>\n",
       "            <td>1.3</td>\n",
       "            <td>1</td>\n",
       "        </tr>\n",
       "        <tr>\n",
       "            <td>1.4</td>\n",
       "            <td>1</td>\n",
       "        </tr>\n",
       "        <tr>\n",
       "            <td>1.5</td>\n",
       "            <td>2</td>\n",
       "        </tr>\n",
       "    </tbody>\n",
       "</table>"
      ],
      "text/plain": [
       "[(1.1, 1), (1.2, 1), (1.3, 1), (1.4, 1), (1.5, 2)]"
      ]
     },
     "execution_count": 74,
     "metadata": {},
     "output_type": "execute_result"
    }
   ],
   "source": [
    "%%sql\n",
    "SELECT \n",
    "    price, \n",
    "    COUNT(ts) \n",
    "FROM \n",
    "    salesNew\n",
    "GROUP BY \n",
    "    price;"
   ]
  },
  {
   "cell_type": "code",
   "execution_count": 75,
   "metadata": {
    "ExecuteTime": {
     "end_time": "2021-06-30T02:49:31.885864Z",
     "start_time": "2021-06-30T02:49:31.884050Z"
    }
   },
   "outputs": [],
   "source": [
    "#21 -- GROUP BY command cont'd -- return the above result in decreasing order of count (so from most to least)"
   ]
  },
  {
   "cell_type": "code",
   "execution_count": 76,
   "metadata": {
    "ExecuteTime": {
     "end_time": "2021-06-30T02:49:31.892674Z",
     "start_time": "2021-06-30T02:49:31.887138Z"
    }
   },
   "outputs": [
    {
     "name": "stdout",
     "output_type": "stream",
     "text": [
      " * sqlite://\n",
      "Done.\n"
     ]
    },
    {
     "data": {
      "text/html": [
       "<table>\n",
       "    <thead>\n",
       "        <tr>\n",
       "            <th>price</th>\n",
       "            <th>COUNT(ts)</th>\n",
       "        </tr>\n",
       "    </thead>\n",
       "    <tbody>\n",
       "        <tr>\n",
       "            <td>1.5</td>\n",
       "            <td>2</td>\n",
       "        </tr>\n",
       "        <tr>\n",
       "            <td>1.4</td>\n",
       "            <td>1</td>\n",
       "        </tr>\n",
       "        <tr>\n",
       "            <td>1.3</td>\n",
       "            <td>1</td>\n",
       "        </tr>\n",
       "        <tr>\n",
       "            <td>1.2</td>\n",
       "            <td>1</td>\n",
       "        </tr>\n",
       "        <tr>\n",
       "            <td>1.1</td>\n",
       "            <td>1</td>\n",
       "        </tr>\n",
       "    </tbody>\n",
       "</table>"
      ],
      "text/plain": [
       "[(1.5, 2), (1.4, 1), (1.3, 1), (1.2, 1), (1.1, 1)]"
      ]
     },
     "execution_count": 76,
     "metadata": {},
     "output_type": "execute_result"
    }
   ],
   "source": [
    "%%sql\n",
    "SELECT \n",
    "    price, \n",
    "    COUNT(ts) \n",
    "FROM \n",
    "    salesNew\n",
    "GROUP BY \n",
    "    price\n",
    "ORDER BY \n",
    "    COUNT(ts) DESC;"
   ]
  },
  {
   "cell_type": "code",
   "execution_count": 77,
   "metadata": {
    "ExecuteTime": {
     "end_time": "2021-06-30T02:49:31.895659Z",
     "start_time": "2021-06-30T02:49:31.893867Z"
    }
   },
   "outputs": [],
   "source": [
    "#22 -- GROUP BY command cont'd -- SUM function -- return SUM of completed rows for specific timestamps in our table,\n",
    "#this gives us a summary of how many completed at that timestamp."
   ]
  },
  {
   "cell_type": "code",
   "execution_count": 78,
   "metadata": {
    "ExecuteTime": {
     "end_time": "2021-06-30T02:49:31.902258Z",
     "start_time": "2021-06-30T02:49:31.896948Z"
    }
   },
   "outputs": [
    {
     "name": "stdout",
     "output_type": "stream",
     "text": [
      " * sqlite://\n",
      "Done.\n"
     ]
    },
    {
     "data": {
      "text/html": [
       "<table>\n",
       "    <thead>\n",
       "        <tr>\n",
       "            <th>ts</th>\n",
       "            <th>SUM(completed)</th>\n",
       "        </tr>\n",
       "    </thead>\n",
       "    <tbody>\n",
       "        <tr>\n",
       "            <td>2019-11-08 00:00</td>\n",
       "            <td>1</td>\n",
       "        </tr>\n",
       "        <tr>\n",
       "            <td>2019-11-08 01:00</td>\n",
       "            <td>1</td>\n",
       "        </tr>\n",
       "        <tr>\n",
       "            <td>2019-11-08 02:00</td>\n",
       "            <td>2</td>\n",
       "        </tr>\n",
       "    </tbody>\n",
       "</table>"
      ],
      "text/plain": [
       "[('2019-11-08 00:00', 1), ('2019-11-08 01:00', 1), ('2019-11-08 02:00', 2)]"
      ]
     },
     "execution_count": 78,
     "metadata": {},
     "output_type": "execute_result"
    }
   ],
   "source": [
    "%%sql\n",
    "SELECT \n",
    "    ts, \n",
    "    SUM(completed) \n",
    "FROM \n",
    "    salesNew\n",
    "GROUP BY \n",
    "    ts;"
   ]
  },
  {
   "cell_type": "code",
   "execution_count": 79,
   "metadata": {
    "ExecuteTime": {
     "end_time": "2021-06-30T02:49:31.908421Z",
     "start_time": "2021-06-30T02:49:31.903859Z"
    }
   },
   "outputs": [
    {
     "name": "stdout",
     "output_type": "stream",
     "text": [
      " * sqlite://\n",
      "Done.\n"
     ]
    },
    {
     "data": {
      "text/html": [
       "<table>\n",
       "    <thead>\n",
       "        <tr>\n",
       "            <th>keyNew</th>\n",
       "            <th>ts</th>\n",
       "            <th>product</th>\n",
       "            <th>completed</th>\n",
       "            <th>price</th>\n",
       "            <th>newCol</th>\n",
       "        </tr>\n",
       "    </thead>\n",
       "    <tbody>\n",
       "        <tr>\n",
       "            <td>sale_1</td>\n",
       "            <td>2019-11-08 00:00</td>\n",
       "            <td>0</td>\n",
       "            <td>1</td>\n",
       "            <td>1.1</td>\n",
       "            <td>10</td>\n",
       "        </tr>\n",
       "        <tr>\n",
       "            <td>sale_2</td>\n",
       "            <td>2019-11-08 01:00</td>\n",
       "            <td>0</td>\n",
       "            <td>0</td>\n",
       "            <td>1.2</td>\n",
       "            <td>10</td>\n",
       "        </tr>\n",
       "        <tr>\n",
       "            <td>sale_3</td>\n",
       "            <td>2019-11-08 01:00</td>\n",
       "            <td>0</td>\n",
       "            <td>1</td>\n",
       "            <td>1.3</td>\n",
       "            <td>333</td>\n",
       "        </tr>\n",
       "        <tr>\n",
       "            <td>sale_4</td>\n",
       "            <td>2019-11-08 01:00</td>\n",
       "            <td>1</td>\n",
       "            <td>0</td>\n",
       "            <td>1.4</td>\n",
       "            <td>10</td>\n",
       "        </tr>\n",
       "        <tr>\n",
       "            <td>sale_5</td>\n",
       "            <td>2019-11-08 02:00</td>\n",
       "            <td>1</td>\n",
       "            <td>1</td>\n",
       "            <td>1.5</td>\n",
       "            <td>10</td>\n",
       "        </tr>\n",
       "        <tr>\n",
       "            <td>sale_6</td>\n",
       "            <td>2019-11-08 02:00</td>\n",
       "            <td>1</td>\n",
       "            <td>1</td>\n",
       "            <td>1.5</td>\n",
       "            <td>10</td>\n",
       "        </tr>\n",
       "    </tbody>\n",
       "</table>"
      ],
      "text/plain": [
       "[('sale_1', '2019-11-08 00:00', 0, 1, 1.1, 10),\n",
       " ('sale_2', '2019-11-08 01:00', 0, 0, 1.2, 10),\n",
       " ('sale_3', '2019-11-08 01:00', 0, 1, 1.3, 333),\n",
       " ('sale_4', '2019-11-08 01:00', 1, 0, 1.4, 10),\n",
       " ('sale_5', '2019-11-08 02:00', 1, 1, 1.5, 10),\n",
       " ('sale_6', '2019-11-08 02:00', 1, 1, 1.5, 10)]"
      ]
     },
     "execution_count": 79,
     "metadata": {},
     "output_type": "execute_result"
    }
   ],
   "source": [
    "%%sql\n",
    "SELECT * FROM salesNew;"
   ]
  },
  {
   "cell_type": "code",
   "execution_count": 80,
   "metadata": {
    "ExecuteTime": {
     "end_time": "2021-06-30T02:49:31.914559Z",
     "start_time": "2021-06-30T02:49:31.909861Z"
    }
   },
   "outputs": [
    {
     "name": "stdout",
     "output_type": "stream",
     "text": [
      " * sqlite://\n",
      "Done.\n"
     ]
    },
    {
     "data": {
      "text/html": [
       "<table>\n",
       "    <thead>\n",
       "        <tr>\n",
       "            <th>keyNewRecords</th>\n",
       "            <th>numberSold</th>\n",
       "        </tr>\n",
       "    </thead>\n",
       "    <tbody>\n",
       "        <tr>\n",
       "            <td>sale_1</td>\n",
       "            <td>11</td>\n",
       "        </tr>\n",
       "        <tr>\n",
       "            <td>sale_22</td>\n",
       "            <td>22</td>\n",
       "        </tr>\n",
       "        <tr>\n",
       "            <td>sale_3</td>\n",
       "            <td>33</td>\n",
       "        </tr>\n",
       "        <tr>\n",
       "            <td>sale_44</td>\n",
       "            <td>44</td>\n",
       "        </tr>\n",
       "        <tr>\n",
       "            <td>sale_5</td>\n",
       "            <td>55</td>\n",
       "        </tr>\n",
       "        <tr>\n",
       "            <td>sale_66</td>\n",
       "            <td>66</td>\n",
       "        </tr>\n",
       "    </tbody>\n",
       "</table>"
      ],
      "text/plain": [
       "[('sale_1', 11),\n",
       " ('sale_22', 22),\n",
       " ('sale_3', 33),\n",
       " ('sale_44', 44),\n",
       " ('sale_5', 55),\n",
       " ('sale_66', 66)]"
      ]
     },
     "execution_count": 80,
     "metadata": {},
     "output_type": "execute_result"
    }
   ],
   "source": [
    "%%sql\n",
    "SELECT * FROM soldRecords;"
   ]
  },
  {
   "cell_type": "code",
   "execution_count": 81,
   "metadata": {
    "ExecuteTime": {
     "end_time": "2021-06-30T02:49:31.917784Z",
     "start_time": "2021-06-30T02:49:31.915837Z"
    }
   },
   "outputs": [],
   "source": [
    "#23 -- GROUP BY command cont'd -- GROUBY BY with INNER JOIN -- Bring in info from soldRecords table that connects\n",
    "#to info in salesNew table, and display result of connection\n",
    "\n",
    "#our example will yield numberSold column entries that correspond to matching \"key\" values in both tables"
   ]
  },
  {
   "cell_type": "code",
   "execution_count": 82,
   "metadata": {
    "ExecuteTime": {
     "end_time": "2021-06-30T02:49:31.925081Z",
     "start_time": "2021-06-30T02:49:31.919217Z"
    }
   },
   "outputs": [
    {
     "name": "stdout",
     "output_type": "stream",
     "text": [
      " * sqlite://\n",
      "Done.\n"
     ]
    },
    {
     "data": {
      "text/html": [
       "<table>\n",
       "    <thead>\n",
       "        <tr>\n",
       "            <th>keyNew</th>\n",
       "            <th>numberSold</th>\n",
       "        </tr>\n",
       "    </thead>\n",
       "    <tbody>\n",
       "        <tr>\n",
       "            <td>sale_1</td>\n",
       "            <td>11</td>\n",
       "        </tr>\n",
       "        <tr>\n",
       "            <td>sale_3</td>\n",
       "            <td>33</td>\n",
       "        </tr>\n",
       "        <tr>\n",
       "            <td>sale_5</td>\n",
       "            <td>55</td>\n",
       "        </tr>\n",
       "    </tbody>\n",
       "</table>"
      ],
      "text/plain": [
       "[('sale_1', 11), ('sale_3', 33), ('sale_5', 55)]"
      ]
     },
     "execution_count": 82,
     "metadata": {},
     "output_type": "execute_result"
    }
   ],
   "source": [
    "%%sql\n",
    "SELECT \n",
    "    keyNew, \n",
    "    soldRecords.numberSold\n",
    "FROM \n",
    "    salesNew\n",
    "INNER JOIN \n",
    "    soldRecords\n",
    "ON \n",
    "    salesNew.keyNew = soldRecords.keyNewRecords\n",
    "GROUP BY \n",
    "    keyNew;"
   ]
  },
  {
   "cell_type": "code",
   "execution_count": 83,
   "metadata": {
    "ExecuteTime": {
     "end_time": "2021-06-30T02:49:31.928143Z",
     "start_time": "2021-06-30T02:49:31.926278Z"
    }
   },
   "outputs": [],
   "source": [
    "#24 -- GROUP BY command cont'd -- using the HAVING clause -- we further filter our data by adding another constraint\n",
    "\n",
    "#in our example we will find of the above numberSold search, which entry has newCol (salesNew table) entry that is \n",
    "#greater than 10"
   ]
  },
  {
   "cell_type": "code",
   "execution_count": 84,
   "metadata": {
    "ExecuteTime": {
     "end_time": "2021-06-30T02:49:31.935468Z",
     "start_time": "2021-06-30T02:49:31.929706Z"
    }
   },
   "outputs": [
    {
     "name": "stdout",
     "output_type": "stream",
     "text": [
      " * sqlite://\n",
      "Done.\n"
     ]
    },
    {
     "data": {
      "text/html": [
       "<table>\n",
       "    <thead>\n",
       "        <tr>\n",
       "            <th>keyNew</th>\n",
       "            <th>numberSold</th>\n",
       "        </tr>\n",
       "    </thead>\n",
       "    <tbody>\n",
       "        <tr>\n",
       "            <td>sale_3</td>\n",
       "            <td>33</td>\n",
       "        </tr>\n",
       "    </tbody>\n",
       "</table>"
      ],
      "text/plain": [
       "[('sale_3', 33)]"
      ]
     },
     "execution_count": 84,
     "metadata": {},
     "output_type": "execute_result"
    }
   ],
   "source": [
    "%%sql\n",
    "SELECT \n",
    "    keyNew, \n",
    "    soldRecords.numberSold\n",
    "FROM \n",
    "    salesNew\n",
    "INNER JOIN \n",
    "    soldRecords ON salesNew.keyNew = soldRecords.keyNewRecords\n",
    "GROUP BY \n",
    "    keyNew\n",
    "HAVING \n",
    "    newCol > 10;"
   ]
  },
  {
   "cell_type": "code",
   "execution_count": 85,
   "metadata": {
    "ExecuteTime": {
     "end_time": "2021-06-30T02:49:31.938984Z",
     "start_time": "2021-06-30T02:49:31.937051Z"
    }
   },
   "outputs": [],
   "source": [
    "#25 -- GROUP BY command cont'd -- using the HAVING clause -- now newCol less than or equal to 10"
   ]
  },
  {
   "cell_type": "code",
   "execution_count": 86,
   "metadata": {
    "ExecuteTime": {
     "end_time": "2021-06-30T02:49:31.946370Z",
     "start_time": "2021-06-30T02:49:31.941167Z"
    }
   },
   "outputs": [
    {
     "name": "stdout",
     "output_type": "stream",
     "text": [
      " * sqlite://\n",
      "Done.\n"
     ]
    },
    {
     "data": {
      "text/html": [
       "<table>\n",
       "    <thead>\n",
       "        <tr>\n",
       "            <th>keyNew</th>\n",
       "            <th>numberSold</th>\n",
       "        </tr>\n",
       "    </thead>\n",
       "    <tbody>\n",
       "        <tr>\n",
       "            <td>sale_1</td>\n",
       "            <td>11</td>\n",
       "        </tr>\n",
       "        <tr>\n",
       "            <td>sale_5</td>\n",
       "            <td>55</td>\n",
       "        </tr>\n",
       "    </tbody>\n",
       "</table>"
      ],
      "text/plain": [
       "[('sale_1', 11), ('sale_5', 55)]"
      ]
     },
     "execution_count": 86,
     "metadata": {},
     "output_type": "execute_result"
    }
   ],
   "source": [
    "%%sql\n",
    "SELECT \n",
    "    keyNew, \n",
    "    soldRecords.numberSold\n",
    "FROM \n",
    "    salesNew\n",
    "INNER JOIN \n",
    "    soldRecords \n",
    "ON \n",
    "    salesNew.keyNew = soldRecords.keyNewRecords\n",
    "GROUP BY \n",
    "    keyNew\n",
    "HAVING \n",
    "    newCol <= 10;"
   ]
  },
  {
   "cell_type": "code",
   "execution_count": 87,
   "metadata": {
    "ExecuteTime": {
     "end_time": "2021-06-30T02:49:31.949665Z",
     "start_time": "2021-06-30T02:49:31.947742Z"
    }
   },
   "outputs": [],
   "source": [
    "#24 -- GROUP BY command cont'd -- MAX, MIN, and AVG functions"
   ]
  },
  {
   "cell_type": "code",
   "execution_count": 88,
   "metadata": {
    "ExecuteTime": {
     "end_time": "2021-06-30T02:49:31.957218Z",
     "start_time": "2021-06-30T02:49:31.951085Z"
    }
   },
   "outputs": [
    {
     "name": "stdout",
     "output_type": "stream",
     "text": [
      " * sqlite://\n",
      "Done.\n"
     ]
    },
    {
     "data": {
      "text/html": [
       "<table>\n",
       "    <thead>\n",
       "        <tr>\n",
       "            <th>keyNew</th>\n",
       "            <th>completed</th>\n",
       "            <th>min(price)</th>\n",
       "            <th>max(price)</th>\n",
       "            <th>round(avg(price),2)</th>\n",
       "        </tr>\n",
       "    </thead>\n",
       "    <tbody>\n",
       "        <tr>\n",
       "            <td>sale_4</td>\n",
       "            <td>0</td>\n",
       "            <td>1.2</td>\n",
       "            <td>1.4</td>\n",
       "            <td>1.3</td>\n",
       "        </tr>\n",
       "        <tr>\n",
       "            <td>sale_5</td>\n",
       "            <td>1</td>\n",
       "            <td>1.1</td>\n",
       "            <td>1.5</td>\n",
       "            <td>1.35</td>\n",
       "        </tr>\n",
       "    </tbody>\n",
       "</table>"
      ],
      "text/plain": [
       "[('sale_4', 0, 1.2, 1.4, 1.3), ('sale_5', 1, 1.1, 1.5, 1.35)]"
      ]
     },
     "execution_count": 88,
     "metadata": {},
     "output_type": "execute_result"
    }
   ],
   "source": [
    "%%sql\n",
    "SELECT \n",
    "    keyNew, \n",
    "    completed, \n",
    "    min(price), \n",
    "    max(price), \n",
    "    round(avg(price),2)\n",
    "FROM \n",
    "    salesNew\n",
    "GROUP BY \n",
    "    completed;"
   ]
  },
  {
   "cell_type": "code",
   "execution_count": 89,
   "metadata": {
    "ExecuteTime": {
     "end_time": "2021-06-30T02:49:31.960329Z",
     "start_time": "2021-06-30T02:49:31.958518Z"
    }
   },
   "outputs": [],
   "source": [
    "#25 -- GROUP BY command cont'd -- MAX, MIN, and AVG functions with LEFT JOIN to soldRecords table\n",
    "\n",
    "#notice how numberSold is None, because in the tables there is no matching keys for numberSold with 0 completed"
   ]
  },
  {
   "cell_type": "code",
   "execution_count": 90,
   "metadata": {
    "ExecuteTime": {
     "end_time": "2021-06-30T02:49:31.967937Z",
     "start_time": "2021-06-30T02:49:31.961864Z"
    }
   },
   "outputs": [
    {
     "name": "stdout",
     "output_type": "stream",
     "text": [
      " * sqlite://\n",
      "Done.\n"
     ]
    },
    {
     "data": {
      "text/html": [
       "<table>\n",
       "    <thead>\n",
       "        <tr>\n",
       "            <th>keyNew</th>\n",
       "            <th>completed</th>\n",
       "            <th>min(price)</th>\n",
       "            <th>max(price)</th>\n",
       "            <th>round(avg(price),2)</th>\n",
       "            <th>numberSold</th>\n",
       "        </tr>\n",
       "    </thead>\n",
       "    <tbody>\n",
       "        <tr>\n",
       "            <td>sale_4</td>\n",
       "            <td>0</td>\n",
       "            <td>1.2</td>\n",
       "            <td>1.4</td>\n",
       "            <td>1.3</td>\n",
       "            <td>None</td>\n",
       "        </tr>\n",
       "        <tr>\n",
       "            <td>sale_5</td>\n",
       "            <td>1</td>\n",
       "            <td>1.1</td>\n",
       "            <td>1.5</td>\n",
       "            <td>1.35</td>\n",
       "            <td>55</td>\n",
       "        </tr>\n",
       "    </tbody>\n",
       "</table>"
      ],
      "text/plain": [
       "[('sale_4', 0, 1.2, 1.4, 1.3, None), ('sale_5', 1, 1.1, 1.5, 1.35, 55)]"
      ]
     },
     "execution_count": 90,
     "metadata": {},
     "output_type": "execute_result"
    }
   ],
   "source": [
    "%%sql\n",
    "SELECT \n",
    "    keyNew, \n",
    "    completed, \n",
    "    min(price), \n",
    "    max(price), \n",
    "    round(avg(price),2), \n",
    "    soldRecords.numberSold\n",
    "FROM \n",
    "    salesNew\n",
    "LEFT JOIN \n",
    "    soldRecords \n",
    "ON \n",
    "    salesNew.keyNew = soldRecords.keyNewRecords\n",
    "GROUP BY \n",
    "    completed;"
   ]
  },
  {
   "cell_type": "code",
   "execution_count": 91,
   "metadata": {
    "ExecuteTime": {
     "end_time": "2021-06-30T02:49:31.971098Z",
     "start_time": "2021-06-30T02:49:31.969498Z"
    }
   },
   "outputs": [],
   "source": [
    "#26 -- GROUP BY command cont'd -- GROUP BY using multiple columns\n",
    "\n",
    "#in our example we sort by completed and then by product"
   ]
  },
  {
   "cell_type": "code",
   "execution_count": 92,
   "metadata": {
    "ExecuteTime": {
     "end_time": "2021-06-30T02:49:31.978427Z",
     "start_time": "2021-06-30T02:49:31.972809Z"
    }
   },
   "outputs": [
    {
     "name": "stdout",
     "output_type": "stream",
     "text": [
      " * sqlite://\n",
      "Done.\n"
     ]
    },
    {
     "data": {
      "text/html": [
       "<table>\n",
       "    <thead>\n",
       "        <tr>\n",
       "            <th>keyNew</th>\n",
       "            <th>completed</th>\n",
       "            <th>product</th>\n",
       "            <th>price</th>\n",
       "        </tr>\n",
       "    </thead>\n",
       "    <tbody>\n",
       "        <tr>\n",
       "            <td>sale_2</td>\n",
       "            <td>0</td>\n",
       "            <td>0</td>\n",
       "            <td>1.2</td>\n",
       "        </tr>\n",
       "        <tr>\n",
       "            <td>sale_4</td>\n",
       "            <td>0</td>\n",
       "            <td>1</td>\n",
       "            <td>1.4</td>\n",
       "        </tr>\n",
       "        <tr>\n",
       "            <td>sale_1</td>\n",
       "            <td>1</td>\n",
       "            <td>0</td>\n",
       "            <td>1.1</td>\n",
       "        </tr>\n",
       "        <tr>\n",
       "            <td>sale_5</td>\n",
       "            <td>1</td>\n",
       "            <td>1</td>\n",
       "            <td>1.5</td>\n",
       "        </tr>\n",
       "    </tbody>\n",
       "</table>"
      ],
      "text/plain": [
       "[('sale_2', 0, 0, 1.2),\n",
       " ('sale_4', 0, 1, 1.4),\n",
       " ('sale_1', 1, 0, 1.1),\n",
       " ('sale_5', 1, 1, 1.5)]"
      ]
     },
     "execution_count": 92,
     "metadata": {},
     "output_type": "execute_result"
    }
   ],
   "source": [
    "%%sql\n",
    "SELECT \n",
    "    keyNew, \n",
    "    completed, \n",
    "    product, \n",
    "    price\n",
    "FROM \n",
    "    salesNew\n",
    "GROUP BY \n",
    "    completed, \n",
    "    product;"
   ]
  },
  {
   "cell_type": "code",
   "execution_count": 93,
   "metadata": {
    "ExecuteTime": {
     "end_time": "2021-06-30T02:49:31.981843Z",
     "start_time": "2021-06-30T02:49:31.979912Z"
    }
   },
   "outputs": [],
   "source": [
    "#26 -- ORDER BY command -- arrange query results in the order desired\n",
    "\n",
    "#in our example we look for completed and top price first"
   ]
  },
  {
   "cell_type": "code",
   "execution_count": 94,
   "metadata": {
    "ExecuteTime": {
     "end_time": "2021-06-30T02:49:31.988801Z",
     "start_time": "2021-06-30T02:49:31.983250Z"
    }
   },
   "outputs": [
    {
     "name": "stdout",
     "output_type": "stream",
     "text": [
      " * sqlite://\n",
      "Done.\n"
     ]
    },
    {
     "data": {
      "text/html": [
       "<table>\n",
       "    <thead>\n",
       "        <tr>\n",
       "            <th>keyNew</th>\n",
       "            <th>ts</th>\n",
       "            <th>product</th>\n",
       "            <th>completed</th>\n",
       "            <th>price</th>\n",
       "            <th>newCol</th>\n",
       "        </tr>\n",
       "    </thead>\n",
       "    <tbody>\n",
       "        <tr>\n",
       "            <td>sale_5</td>\n",
       "            <td>2019-11-08 02:00</td>\n",
       "            <td>1</td>\n",
       "            <td>1</td>\n",
       "            <td>1.5</td>\n",
       "            <td>10</td>\n",
       "        </tr>\n",
       "        <tr>\n",
       "            <td>sale_6</td>\n",
       "            <td>2019-11-08 02:00</td>\n",
       "            <td>1</td>\n",
       "            <td>1</td>\n",
       "            <td>1.5</td>\n",
       "            <td>10</td>\n",
       "        </tr>\n",
       "        <tr>\n",
       "            <td>sale_3</td>\n",
       "            <td>2019-11-08 01:00</td>\n",
       "            <td>0</td>\n",
       "            <td>1</td>\n",
       "            <td>1.3</td>\n",
       "            <td>333</td>\n",
       "        </tr>\n",
       "        <tr>\n",
       "            <td>sale_1</td>\n",
       "            <td>2019-11-08 00:00</td>\n",
       "            <td>0</td>\n",
       "            <td>1</td>\n",
       "            <td>1.1</td>\n",
       "            <td>10</td>\n",
       "        </tr>\n",
       "        <tr>\n",
       "            <td>sale_4</td>\n",
       "            <td>2019-11-08 01:00</td>\n",
       "            <td>1</td>\n",
       "            <td>0</td>\n",
       "            <td>1.4</td>\n",
       "            <td>10</td>\n",
       "        </tr>\n",
       "        <tr>\n",
       "            <td>sale_2</td>\n",
       "            <td>2019-11-08 01:00</td>\n",
       "            <td>0</td>\n",
       "            <td>0</td>\n",
       "            <td>1.2</td>\n",
       "            <td>10</td>\n",
       "        </tr>\n",
       "    </tbody>\n",
       "</table>"
      ],
      "text/plain": [
       "[('sale_5', '2019-11-08 02:00', 1, 1, 1.5, 10),\n",
       " ('sale_6', '2019-11-08 02:00', 1, 1, 1.5, 10),\n",
       " ('sale_3', '2019-11-08 01:00', 0, 1, 1.3, 333),\n",
       " ('sale_1', '2019-11-08 00:00', 0, 1, 1.1, 10),\n",
       " ('sale_4', '2019-11-08 01:00', 1, 0, 1.4, 10),\n",
       " ('sale_2', '2019-11-08 01:00', 0, 0, 1.2, 10)]"
      ]
     },
     "execution_count": 94,
     "metadata": {},
     "output_type": "execute_result"
    }
   ],
   "source": [
    "%%sql\n",
    "SELECT * FROM salesNew\n",
    "ORDER BY \n",
    "    completed DESC, \n",
    "    price DESC;"
   ]
  },
  {
   "cell_type": "code",
   "execution_count": 95,
   "metadata": {
    "ExecuteTime": {
     "end_time": "2021-06-30T02:49:31.992264Z",
     "start_time": "2021-06-30T02:49:31.990456Z"
    }
   },
   "outputs": [],
   "source": [
    "#27 -- ORDER BY command -- use ascending order (ASC) for the same search\n",
    "\n",
    "#this time not completed and lowest price first"
   ]
  },
  {
   "cell_type": "code",
   "execution_count": 96,
   "metadata": {
    "ExecuteTime": {
     "end_time": "2021-06-30T02:49:31.999955Z",
     "start_time": "2021-06-30T02:49:31.993773Z"
    }
   },
   "outputs": [
    {
     "name": "stdout",
     "output_type": "stream",
     "text": [
      " * sqlite://\n",
      "Done.\n"
     ]
    },
    {
     "data": {
      "text/html": [
       "<table>\n",
       "    <thead>\n",
       "        <tr>\n",
       "            <th>keyNew</th>\n",
       "            <th>ts</th>\n",
       "            <th>product</th>\n",
       "            <th>completed</th>\n",
       "            <th>price</th>\n",
       "            <th>newCol</th>\n",
       "        </tr>\n",
       "    </thead>\n",
       "    <tbody>\n",
       "        <tr>\n",
       "            <td>sale_2</td>\n",
       "            <td>2019-11-08 01:00</td>\n",
       "            <td>0</td>\n",
       "            <td>0</td>\n",
       "            <td>1.2</td>\n",
       "            <td>10</td>\n",
       "        </tr>\n",
       "        <tr>\n",
       "            <td>sale_4</td>\n",
       "            <td>2019-11-08 01:00</td>\n",
       "            <td>1</td>\n",
       "            <td>0</td>\n",
       "            <td>1.4</td>\n",
       "            <td>10</td>\n",
       "        </tr>\n",
       "        <tr>\n",
       "            <td>sale_1</td>\n",
       "            <td>2019-11-08 00:00</td>\n",
       "            <td>0</td>\n",
       "            <td>1</td>\n",
       "            <td>1.1</td>\n",
       "            <td>10</td>\n",
       "        </tr>\n",
       "        <tr>\n",
       "            <td>sale_3</td>\n",
       "            <td>2019-11-08 01:00</td>\n",
       "            <td>0</td>\n",
       "            <td>1</td>\n",
       "            <td>1.3</td>\n",
       "            <td>333</td>\n",
       "        </tr>\n",
       "        <tr>\n",
       "            <td>sale_5</td>\n",
       "            <td>2019-11-08 02:00</td>\n",
       "            <td>1</td>\n",
       "            <td>1</td>\n",
       "            <td>1.5</td>\n",
       "            <td>10</td>\n",
       "        </tr>\n",
       "        <tr>\n",
       "            <td>sale_6</td>\n",
       "            <td>2019-11-08 02:00</td>\n",
       "            <td>1</td>\n",
       "            <td>1</td>\n",
       "            <td>1.5</td>\n",
       "            <td>10</td>\n",
       "        </tr>\n",
       "    </tbody>\n",
       "</table>"
      ],
      "text/plain": [
       "[('sale_2', '2019-11-08 01:00', 0, 0, 1.2, 10),\n",
       " ('sale_4', '2019-11-08 01:00', 1, 0, 1.4, 10),\n",
       " ('sale_1', '2019-11-08 00:00', 0, 1, 1.1, 10),\n",
       " ('sale_3', '2019-11-08 01:00', 0, 1, 1.3, 333),\n",
       " ('sale_5', '2019-11-08 02:00', 1, 1, 1.5, 10),\n",
       " ('sale_6', '2019-11-08 02:00', 1, 1, 1.5, 10)]"
      ]
     },
     "execution_count": 96,
     "metadata": {},
     "output_type": "execute_result"
    }
   ],
   "source": [
    "%%sql\n",
    "SELECT * FROM salesNew\n",
    "ORDER BY \n",
    "    completed ASC, \n",
    "    price ASC;"
   ]
  },
  {
   "cell_type": "code",
   "execution_count": 97,
   "metadata": {
    "ExecuteTime": {
     "end_time": "2021-06-30T02:49:32.004302Z",
     "start_time": "2021-06-30T02:49:32.001830Z"
    }
   },
   "outputs": [],
   "source": [
    "#28 -- ORDER BY command -- isolate search to a few columns, not the whole table"
   ]
  },
  {
   "cell_type": "code",
   "execution_count": 98,
   "metadata": {
    "ExecuteTime": {
     "end_time": "2021-06-30T02:49:32.011603Z",
     "start_time": "2021-06-30T02:49:32.006534Z"
    }
   },
   "outputs": [
    {
     "name": "stdout",
     "output_type": "stream",
     "text": [
      " * sqlite://\n",
      "Done.\n"
     ]
    },
    {
     "data": {
      "text/html": [
       "<table>\n",
       "    <thead>\n",
       "        <tr>\n",
       "            <th>ts</th>\n",
       "            <th>product</th>\n",
       "            <th>price</th>\n",
       "        </tr>\n",
       "    </thead>\n",
       "    <tbody>\n",
       "        <tr>\n",
       "            <td>2019-11-08 02:00</td>\n",
       "            <td>1</td>\n",
       "            <td>1.5</td>\n",
       "        </tr>\n",
       "        <tr>\n",
       "            <td>2019-11-08 02:00</td>\n",
       "            <td>1</td>\n",
       "            <td>1.5</td>\n",
       "        </tr>\n",
       "        <tr>\n",
       "            <td>2019-11-08 01:00</td>\n",
       "            <td>1</td>\n",
       "            <td>1.4</td>\n",
       "        </tr>\n",
       "        <tr>\n",
       "            <td>2019-11-08 01:00</td>\n",
       "            <td>0</td>\n",
       "            <td>1.3</td>\n",
       "        </tr>\n",
       "        <tr>\n",
       "            <td>2019-11-08 01:00</td>\n",
       "            <td>0</td>\n",
       "            <td>1.2</td>\n",
       "        </tr>\n",
       "        <tr>\n",
       "            <td>2019-11-08 00:00</td>\n",
       "            <td>0</td>\n",
       "            <td>1.1</td>\n",
       "        </tr>\n",
       "    </tbody>\n",
       "</table>"
      ],
      "text/plain": [
       "[('2019-11-08 02:00', 1, 1.5),\n",
       " ('2019-11-08 02:00', 1, 1.5),\n",
       " ('2019-11-08 01:00', 1, 1.4),\n",
       " ('2019-11-08 01:00', 0, 1.3),\n",
       " ('2019-11-08 01:00', 0, 1.2),\n",
       " ('2019-11-08 00:00', 0, 1.1)]"
      ]
     },
     "execution_count": 98,
     "metadata": {},
     "output_type": "execute_result"
    }
   ],
   "source": [
    "%%sql\n",
    "SELECT \n",
    "    ts, \n",
    "    product, \n",
    "    price \n",
    "FROM \n",
    "    salesNew\n",
    "ORDER BY \n",
    "    price DESC;"
   ]
  },
  {
   "cell_type": "code",
   "execution_count": 99,
   "metadata": {
    "ExecuteTime": {
     "end_time": "2021-06-30T02:49:32.015468Z",
     "start_time": "2021-06-30T02:49:32.013324Z"
    }
   },
   "outputs": [],
   "source": [
    "#29 -- ORDER BY command -- string column in descending order"
   ]
  },
  {
   "cell_type": "code",
   "execution_count": 100,
   "metadata": {
    "ExecuteTime": {
     "end_time": "2021-06-30T02:49:32.023435Z",
     "start_time": "2021-06-30T02:49:32.017178Z"
    }
   },
   "outputs": [
    {
     "name": "stdout",
     "output_type": "stream",
     "text": [
      " * sqlite://\n",
      "Done.\n"
     ]
    },
    {
     "data": {
      "text/html": [
       "<table>\n",
       "    <thead>\n",
       "        <tr>\n",
       "            <th>keyNew</th>\n",
       "            <th>product</th>\n",
       "            <th>price</th>\n",
       "        </tr>\n",
       "    </thead>\n",
       "    <tbody>\n",
       "        <tr>\n",
       "            <td>sale_6</td>\n",
       "            <td>1</td>\n",
       "            <td>1.5</td>\n",
       "        </tr>\n",
       "        <tr>\n",
       "            <td>sale_5</td>\n",
       "            <td>1</td>\n",
       "            <td>1.5</td>\n",
       "        </tr>\n",
       "        <tr>\n",
       "            <td>sale_4</td>\n",
       "            <td>1</td>\n",
       "            <td>1.4</td>\n",
       "        </tr>\n",
       "        <tr>\n",
       "            <td>sale_3</td>\n",
       "            <td>0</td>\n",
       "            <td>1.3</td>\n",
       "        </tr>\n",
       "        <tr>\n",
       "            <td>sale_2</td>\n",
       "            <td>0</td>\n",
       "            <td>1.2</td>\n",
       "        </tr>\n",
       "        <tr>\n",
       "            <td>sale_1</td>\n",
       "            <td>0</td>\n",
       "            <td>1.1</td>\n",
       "        </tr>\n",
       "    </tbody>\n",
       "</table>"
      ],
      "text/plain": [
       "[('sale_6', 1, 1.5),\n",
       " ('sale_5', 1, 1.5),\n",
       " ('sale_4', 1, 1.4),\n",
       " ('sale_3', 0, 1.3),\n",
       " ('sale_2', 0, 1.2),\n",
       " ('sale_1', 0, 1.1)]"
      ]
     },
     "execution_count": 100,
     "metadata": {},
     "output_type": "execute_result"
    }
   ],
   "source": [
    "%%sql\n",
    "SELECT \n",
    "    keyNew, \n",
    "    product, \n",
    "    price \n",
    "FROM \n",
    "    salesNew\n",
    "ORDER BY \n",
    "    keyNew DESC;"
   ]
  },
  {
   "cell_type": "code",
   "execution_count": 101,
   "metadata": {
    "ExecuteTime": {
     "end_time": "2021-06-30T02:49:32.027667Z",
     "start_time": "2021-06-30T02:49:32.025505Z"
    }
   },
   "outputs": [],
   "source": [
    "#30 -- UNION command -- join two queries (removing duplicates) "
   ]
  },
  {
   "cell_type": "code",
   "execution_count": 102,
   "metadata": {
    "ExecuteTime": {
     "end_time": "2021-06-30T02:49:32.036885Z",
     "start_time": "2021-06-30T02:49:32.029945Z"
    }
   },
   "outputs": [
    {
     "name": "stdout",
     "output_type": "stream",
     "text": [
      " * sqlite://\n",
      "Done.\n"
     ]
    },
    {
     "data": {
      "text/html": [
       "<table>\n",
       "    <thead>\n",
       "        <tr>\n",
       "            <th>keyNew</th>\n",
       "        </tr>\n",
       "    </thead>\n",
       "    <tbody>\n",
       "        <tr>\n",
       "            <td>sale_1</td>\n",
       "        </tr>\n",
       "        <tr>\n",
       "            <td>sale_2</td>\n",
       "        </tr>\n",
       "        <tr>\n",
       "            <td>sale_22</td>\n",
       "        </tr>\n",
       "        <tr>\n",
       "            <td>sale_3</td>\n",
       "        </tr>\n",
       "        <tr>\n",
       "            <td>sale_4</td>\n",
       "        </tr>\n",
       "        <tr>\n",
       "            <td>sale_44</td>\n",
       "        </tr>\n",
       "        <tr>\n",
       "            <td>sale_5</td>\n",
       "        </tr>\n",
       "        <tr>\n",
       "            <td>sale_6</td>\n",
       "        </tr>\n",
       "        <tr>\n",
       "            <td>sale_66</td>\n",
       "        </tr>\n",
       "    </tbody>\n",
       "</table>"
      ],
      "text/plain": [
       "[('sale_1',),\n",
       " ('sale_2',),\n",
       " ('sale_22',),\n",
       " ('sale_3',),\n",
       " ('sale_4',),\n",
       " ('sale_44',),\n",
       " ('sale_5',),\n",
       " ('sale_6',),\n",
       " ('sale_66',)]"
      ]
     },
     "execution_count": 102,
     "metadata": {},
     "output_type": "execute_result"
    }
   ],
   "source": [
    "%%sql\n",
    "SELECT \n",
    "    keyNew \n",
    "FROM \n",
    "    salesNew\n",
    "    \n",
    "UNION\n",
    "\n",
    "SELECT \n",
    "    keyNewRecords \n",
    "FROM \n",
    "    soldRecords;"
   ]
  },
  {
   "cell_type": "code",
   "execution_count": 103,
   "metadata": {
    "ExecuteTime": {
     "end_time": "2021-06-30T02:49:32.041037Z",
     "start_time": "2021-06-30T02:49:32.039266Z"
    }
   },
   "outputs": [],
   "source": [
    "#31 -- UNION ALL command -- join two queries (do not remove duplicates)"
   ]
  },
  {
   "cell_type": "code",
   "execution_count": 104,
   "metadata": {
    "ExecuteTime": {
     "end_time": "2021-06-30T02:49:32.048684Z",
     "start_time": "2021-06-30T02:49:32.043087Z"
    }
   },
   "outputs": [
    {
     "name": "stdout",
     "output_type": "stream",
     "text": [
      " * sqlite://\n",
      "Done.\n"
     ]
    },
    {
     "data": {
      "text/html": [
       "<table>\n",
       "    <thead>\n",
       "        <tr>\n",
       "            <th>keyNew</th>\n",
       "        </tr>\n",
       "    </thead>\n",
       "    <tbody>\n",
       "        <tr>\n",
       "            <td>sale_1</td>\n",
       "        </tr>\n",
       "        <tr>\n",
       "            <td>sale_1</td>\n",
       "        </tr>\n",
       "        <tr>\n",
       "            <td>sale_2</td>\n",
       "        </tr>\n",
       "        <tr>\n",
       "            <td>sale_22</td>\n",
       "        </tr>\n",
       "        <tr>\n",
       "            <td>sale_3</td>\n",
       "        </tr>\n",
       "        <tr>\n",
       "            <td>sale_3</td>\n",
       "        </tr>\n",
       "        <tr>\n",
       "            <td>sale_4</td>\n",
       "        </tr>\n",
       "        <tr>\n",
       "            <td>sale_44</td>\n",
       "        </tr>\n",
       "        <tr>\n",
       "            <td>sale_5</td>\n",
       "        </tr>\n",
       "        <tr>\n",
       "            <td>sale_5</td>\n",
       "        </tr>\n",
       "        <tr>\n",
       "            <td>sale_6</td>\n",
       "        </tr>\n",
       "        <tr>\n",
       "            <td>sale_66</td>\n",
       "        </tr>\n",
       "    </tbody>\n",
       "</table>"
      ],
      "text/plain": [
       "[('sale_1',),\n",
       " ('sale_1',),\n",
       " ('sale_2',),\n",
       " ('sale_22',),\n",
       " ('sale_3',),\n",
       " ('sale_3',),\n",
       " ('sale_4',),\n",
       " ('sale_44',),\n",
       " ('sale_5',),\n",
       " ('sale_5',),\n",
       " ('sale_6',),\n",
       " ('sale_66',)]"
      ]
     },
     "execution_count": 104,
     "metadata": {},
     "output_type": "execute_result"
    }
   ],
   "source": [
    "%%sql\n",
    "SELECT \n",
    "    keyNew \n",
    "FROM \n",
    "    salesNew\n",
    "    \n",
    "UNION ALL\n",
    "\n",
    "SELECT \n",
    "    keyNewRecords \n",
    "FROM \n",
    "    soldRecords\n",
    "ORDER BY \n",
    "    keyNew ASC;"
   ]
  },
  {
   "cell_type": "code",
   "execution_count": 105,
   "metadata": {
    "ExecuteTime": {
     "end_time": "2021-06-30T02:49:32.052269Z",
     "start_time": "2021-06-30T02:49:32.050191Z"
    }
   },
   "outputs": [],
   "source": [
    "#32 -- IS NULL command -- checking for NULL values\n",
    "\n",
    "#our example below returns the row(s) that contain a NULL value in the specified column"
   ]
  },
  {
   "cell_type": "code",
   "execution_count": 106,
   "metadata": {
    "ExecuteTime": {
     "end_time": "2021-06-30T02:49:32.060782Z",
     "start_time": "2021-06-30T02:49:32.054598Z"
    }
   },
   "outputs": [
    {
     "name": "stdout",
     "output_type": "stream",
     "text": [
      " * sqlite://\n",
      "1 rows affected.\n",
      "Done.\n"
     ]
    },
    {
     "data": {
      "text/html": [
       "<table>\n",
       "    <thead>\n",
       "        <tr>\n",
       "            <th>keyNew</th>\n",
       "            <th>ts</th>\n",
       "            <th>product</th>\n",
       "            <th>completed</th>\n",
       "            <th>price</th>\n",
       "            <th>newCol</th>\n",
       "        </tr>\n",
       "    </thead>\n",
       "    <tbody>\n",
       "        <tr>\n",
       "            <td>sale_1</td>\n",
       "            <td>2019-11-08 00:00</td>\n",
       "            <td>0</td>\n",
       "            <td>1</td>\n",
       "            <td>1.1</td>\n",
       "            <td>10</td>\n",
       "        </tr>\n",
       "        <tr>\n",
       "            <td>sale_2</td>\n",
       "            <td>2019-11-08 01:00</td>\n",
       "            <td>0</td>\n",
       "            <td>0</td>\n",
       "            <td>1.2</td>\n",
       "            <td>10</td>\n",
       "        </tr>\n",
       "        <tr>\n",
       "            <td>sale_3</td>\n",
       "            <td>2019-11-08 01:00</td>\n",
       "            <td>0</td>\n",
       "            <td>1</td>\n",
       "            <td>1.3</td>\n",
       "            <td>333</td>\n",
       "        </tr>\n",
       "        <tr>\n",
       "            <td>sale_4</td>\n",
       "            <td>2019-11-08 01:00</td>\n",
       "            <td>1</td>\n",
       "            <td>0</td>\n",
       "            <td>1.4</td>\n",
       "            <td>10</td>\n",
       "        </tr>\n",
       "        <tr>\n",
       "            <td>sale_5</td>\n",
       "            <td>2019-11-08 02:00</td>\n",
       "            <td>1</td>\n",
       "            <td>1</td>\n",
       "            <td>1.5</td>\n",
       "            <td>10</td>\n",
       "        </tr>\n",
       "        <tr>\n",
       "            <td>sale_6</td>\n",
       "            <td>2019-11-08 02:00</td>\n",
       "            <td>1</td>\n",
       "            <td>1</td>\n",
       "            <td>1.5</td>\n",
       "            <td>10</td>\n",
       "        </tr>\n",
       "        <tr>\n",
       "            <td>None</td>\n",
       "            <td>None</td>\n",
       "            <td>None</td>\n",
       "            <td>None</td>\n",
       "            <td>None</td>\n",
       "            <td>777</td>\n",
       "        </tr>\n",
       "    </tbody>\n",
       "</table>"
      ],
      "text/plain": [
       "[('sale_1', '2019-11-08 00:00', 0, 1, 1.1, 10),\n",
       " ('sale_2', '2019-11-08 01:00', 0, 0, 1.2, 10),\n",
       " ('sale_3', '2019-11-08 01:00', 0, 1, 1.3, 333),\n",
       " ('sale_4', '2019-11-08 01:00', 1, 0, 1.4, 10),\n",
       " ('sale_5', '2019-11-08 02:00', 1, 1, 1.5, 10),\n",
       " ('sale_6', '2019-11-08 02:00', 1, 1, 1.5, 10),\n",
       " (None, None, None, None, None, 777)]"
      ]
     },
     "execution_count": 106,
     "metadata": {},
     "output_type": "execute_result"
    }
   ],
   "source": [
    "%%sql\n",
    "INSERT INTO \n",
    "    salesNew (newCol)\n",
    "VALUES \n",
    "    (777);\n",
    "\n",
    "select * from salesNew;"
   ]
  },
  {
   "cell_type": "code",
   "execution_count": 107,
   "metadata": {
    "ExecuteTime": {
     "end_time": "2021-06-30T02:49:32.067520Z",
     "start_time": "2021-06-30T02:49:32.062473Z"
    }
   },
   "outputs": [
    {
     "name": "stdout",
     "output_type": "stream",
     "text": [
      " * sqlite://\n",
      "Done.\n"
     ]
    },
    {
     "data": {
      "text/html": [
       "<table>\n",
       "    <thead>\n",
       "        <tr>\n",
       "            <th>keyNew</th>\n",
       "            <th>ts</th>\n",
       "            <th>product</th>\n",
       "            <th>completed</th>\n",
       "            <th>price</th>\n",
       "            <th>newCol</th>\n",
       "        </tr>\n",
       "    </thead>\n",
       "    <tbody>\n",
       "        <tr>\n",
       "            <td>None</td>\n",
       "            <td>None</td>\n",
       "            <td>None</td>\n",
       "            <td>None</td>\n",
       "            <td>None</td>\n",
       "            <td>777</td>\n",
       "        </tr>\n",
       "    </tbody>\n",
       "</table>"
      ],
      "text/plain": [
       "[(None, None, None, None, None, 777)]"
      ]
     },
     "execution_count": 107,
     "metadata": {},
     "output_type": "execute_result"
    }
   ],
   "source": [
    "%%sql\n",
    "SELECT * FROM salesNew\n",
    "WHERE \n",
    "    keyNew IS NULL;"
   ]
  },
  {
   "cell_type": "code",
   "execution_count": 108,
   "metadata": {
    "ExecuteTime": {
     "end_time": "2021-06-30T02:49:32.070683Z",
     "start_time": "2021-06-30T02:49:32.068992Z"
    }
   },
   "outputs": [],
   "source": [
    "#33 -- IS NOT NULL command -- checking for NULL values\n",
    "\n",
    "#our example below returns the row(s) that DON'T contain a NULL value in the specified column"
   ]
  },
  {
   "cell_type": "code",
   "execution_count": 109,
   "metadata": {
    "ExecuteTime": {
     "end_time": "2021-06-30T02:49:32.077247Z",
     "start_time": "2021-06-30T02:49:32.072357Z"
    }
   },
   "outputs": [
    {
     "name": "stdout",
     "output_type": "stream",
     "text": [
      " * sqlite://\n",
      "Done.\n"
     ]
    },
    {
     "data": {
      "text/html": [
       "<table>\n",
       "    <thead>\n",
       "        <tr>\n",
       "            <th>keyNew</th>\n",
       "            <th>ts</th>\n",
       "            <th>product</th>\n",
       "            <th>completed</th>\n",
       "            <th>price</th>\n",
       "            <th>newCol</th>\n",
       "        </tr>\n",
       "    </thead>\n",
       "    <tbody>\n",
       "        <tr>\n",
       "            <td>sale_1</td>\n",
       "            <td>2019-11-08 00:00</td>\n",
       "            <td>0</td>\n",
       "            <td>1</td>\n",
       "            <td>1.1</td>\n",
       "            <td>10</td>\n",
       "        </tr>\n",
       "        <tr>\n",
       "            <td>sale_2</td>\n",
       "            <td>2019-11-08 01:00</td>\n",
       "            <td>0</td>\n",
       "            <td>0</td>\n",
       "            <td>1.2</td>\n",
       "            <td>10</td>\n",
       "        </tr>\n",
       "        <tr>\n",
       "            <td>sale_3</td>\n",
       "            <td>2019-11-08 01:00</td>\n",
       "            <td>0</td>\n",
       "            <td>1</td>\n",
       "            <td>1.3</td>\n",
       "            <td>333</td>\n",
       "        </tr>\n",
       "        <tr>\n",
       "            <td>sale_4</td>\n",
       "            <td>2019-11-08 01:00</td>\n",
       "            <td>1</td>\n",
       "            <td>0</td>\n",
       "            <td>1.4</td>\n",
       "            <td>10</td>\n",
       "        </tr>\n",
       "        <tr>\n",
       "            <td>sale_5</td>\n",
       "            <td>2019-11-08 02:00</td>\n",
       "            <td>1</td>\n",
       "            <td>1</td>\n",
       "            <td>1.5</td>\n",
       "            <td>10</td>\n",
       "        </tr>\n",
       "        <tr>\n",
       "            <td>sale_6</td>\n",
       "            <td>2019-11-08 02:00</td>\n",
       "            <td>1</td>\n",
       "            <td>1</td>\n",
       "            <td>1.5</td>\n",
       "            <td>10</td>\n",
       "        </tr>\n",
       "    </tbody>\n",
       "</table>"
      ],
      "text/plain": [
       "[('sale_1', '2019-11-08 00:00', 0, 1, 1.1, 10),\n",
       " ('sale_2', '2019-11-08 01:00', 0, 0, 1.2, 10),\n",
       " ('sale_3', '2019-11-08 01:00', 0, 1, 1.3, 333),\n",
       " ('sale_4', '2019-11-08 01:00', 1, 0, 1.4, 10),\n",
       " ('sale_5', '2019-11-08 02:00', 1, 1, 1.5, 10),\n",
       " ('sale_6', '2019-11-08 02:00', 1, 1, 1.5, 10)]"
      ]
     },
     "execution_count": 109,
     "metadata": {},
     "output_type": "execute_result"
    }
   ],
   "source": [
    "%%sql\n",
    "SELECT * FROM salesNew\n",
    "WHERE \n",
    "    keyNew IS NOT NULL;"
   ]
  },
  {
   "cell_type": "code",
   "execution_count": 110,
   "metadata": {
    "ExecuteTime": {
     "end_time": "2021-06-30T02:49:32.080404Z",
     "start_time": "2021-06-30T02:49:32.078733Z"
    }
   },
   "outputs": [],
   "source": [
    "#34 -- IN command -- use this to see if any value in your query matches a value you specify\n",
    "\n",
    "#in our example we isolate rows where newCol = 333 or 777"
   ]
  },
  {
   "cell_type": "code",
   "execution_count": 111,
   "metadata": {
    "ExecuteTime": {
     "end_time": "2021-06-30T02:49:32.086870Z",
     "start_time": "2021-06-30T02:49:32.081936Z"
    }
   },
   "outputs": [
    {
     "name": "stdout",
     "output_type": "stream",
     "text": [
      " * sqlite://\n",
      "Done.\n"
     ]
    },
    {
     "data": {
      "text/html": [
       "<table>\n",
       "    <thead>\n",
       "        <tr>\n",
       "            <th>product</th>\n",
       "            <th>completed</th>\n",
       "            <th>ts</th>\n",
       "            <th>newCol</th>\n",
       "        </tr>\n",
       "    </thead>\n",
       "    <tbody>\n",
       "        <tr>\n",
       "            <td>None</td>\n",
       "            <td>None</td>\n",
       "            <td>None</td>\n",
       "            <td>777</td>\n",
       "        </tr>\n",
       "        <tr>\n",
       "            <td>0</td>\n",
       "            <td>1</td>\n",
       "            <td>2019-11-08 01:00</td>\n",
       "            <td>333</td>\n",
       "        </tr>\n",
       "    </tbody>\n",
       "</table>"
      ],
      "text/plain": [
       "[(None, None, None, 777), (0, 1, '2019-11-08 01:00', 333)]"
      ]
     },
     "execution_count": 111,
     "metadata": {},
     "output_type": "execute_result"
    }
   ],
   "source": [
    "%%sql\n",
    "SELECT \n",
    "    product, \n",
    "    completed, \n",
    "    ts, \n",
    "    newCol \n",
    "FROM \n",
    "    salesNew\n",
    "WHERE \n",
    "    newCol IN (333, 777)\n",
    "ORDER BY \n",
    "    newCol DESC;"
   ]
  },
  {
   "cell_type": "code",
   "execution_count": 112,
   "metadata": {
    "ExecuteTime": {
     "end_time": "2021-06-30T02:49:32.090426Z",
     "start_time": "2021-06-30T02:49:32.088421Z"
    }
   },
   "outputs": [],
   "source": [
    "#35 -- OR command -- same result as IN, but different syntax"
   ]
  },
  {
   "cell_type": "code",
   "execution_count": 113,
   "metadata": {
    "ExecuteTime": {
     "end_time": "2021-06-30T02:49:32.097413Z",
     "start_time": "2021-06-30T02:49:32.091690Z"
    }
   },
   "outputs": [
    {
     "name": "stdout",
     "output_type": "stream",
     "text": [
      " * sqlite://\n",
      "Done.\n"
     ]
    },
    {
     "data": {
      "text/html": [
       "<table>\n",
       "    <thead>\n",
       "        <tr>\n",
       "            <th>product</th>\n",
       "            <th>completed</th>\n",
       "            <th>ts</th>\n",
       "            <th>newCol</th>\n",
       "        </tr>\n",
       "    </thead>\n",
       "    <tbody>\n",
       "        <tr>\n",
       "            <td>None</td>\n",
       "            <td>None</td>\n",
       "            <td>None</td>\n",
       "            <td>777</td>\n",
       "        </tr>\n",
       "        <tr>\n",
       "            <td>0</td>\n",
       "            <td>1</td>\n",
       "            <td>2019-11-08 01:00</td>\n",
       "            <td>333</td>\n",
       "        </tr>\n",
       "    </tbody>\n",
       "</table>"
      ],
      "text/plain": [
       "[(None, None, None, 777), (0, 1, '2019-11-08 01:00', 333)]"
      ]
     },
     "execution_count": 113,
     "metadata": {},
     "output_type": "execute_result"
    }
   ],
   "source": [
    "%%sql\n",
    "SELECT \n",
    "    product, \n",
    "    completed, \n",
    "    ts, \n",
    "    newCol \n",
    "FROM \n",
    "    salesNew\n",
    "WHERE \n",
    "    newCol = 333 \n",
    "OR \n",
    "    newCol = 777\n",
    "ORDER BY \n",
    "    newCol DESC;"
   ]
  },
  {
   "cell_type": "code",
   "execution_count": 114,
   "metadata": {
    "ExecuteTime": {
     "end_time": "2021-06-30T02:49:32.100672Z",
     "start_time": "2021-06-30T02:49:32.098873Z"
    }
   },
   "outputs": [],
   "source": [
    "#36 -- NOT IN command  -- opposite result of IN\n",
    "#use this to see if any value in your query DOES NOT matches a value you specify"
   ]
  },
  {
   "cell_type": "code",
   "execution_count": 115,
   "metadata": {
    "ExecuteTime": {
     "end_time": "2021-06-30T02:49:32.107805Z",
     "start_time": "2021-06-30T02:49:32.102285Z"
    }
   },
   "outputs": [
    {
     "name": "stdout",
     "output_type": "stream",
     "text": [
      " * sqlite://\n",
      "Done.\n"
     ]
    },
    {
     "data": {
      "text/html": [
       "<table>\n",
       "    <thead>\n",
       "        <tr>\n",
       "            <th>product</th>\n",
       "            <th>completed</th>\n",
       "            <th>ts</th>\n",
       "            <th>newCol</th>\n",
       "        </tr>\n",
       "    </thead>\n",
       "    <tbody>\n",
       "        <tr>\n",
       "            <td>0</td>\n",
       "            <td>1</td>\n",
       "            <td>2019-11-08 00:00</td>\n",
       "            <td>10</td>\n",
       "        </tr>\n",
       "        <tr>\n",
       "            <td>0</td>\n",
       "            <td>0</td>\n",
       "            <td>2019-11-08 01:00</td>\n",
       "            <td>10</td>\n",
       "        </tr>\n",
       "        <tr>\n",
       "            <td>1</td>\n",
       "            <td>0</td>\n",
       "            <td>2019-11-08 01:00</td>\n",
       "            <td>10</td>\n",
       "        </tr>\n",
       "        <tr>\n",
       "            <td>1</td>\n",
       "            <td>1</td>\n",
       "            <td>2019-11-08 02:00</td>\n",
       "            <td>10</td>\n",
       "        </tr>\n",
       "        <tr>\n",
       "            <td>1</td>\n",
       "            <td>1</td>\n",
       "            <td>2019-11-08 02:00</td>\n",
       "            <td>10</td>\n",
       "        </tr>\n",
       "    </tbody>\n",
       "</table>"
      ],
      "text/plain": [
       "[(0, 1, '2019-11-08 00:00', 10),\n",
       " (0, 0, '2019-11-08 01:00', 10),\n",
       " (1, 0, '2019-11-08 01:00', 10),\n",
       " (1, 1, '2019-11-08 02:00', 10),\n",
       " (1, 1, '2019-11-08 02:00', 10)]"
      ]
     },
     "execution_count": 115,
     "metadata": {},
     "output_type": "execute_result"
    }
   ],
   "source": [
    "%%sql\n",
    "SELECT \n",
    "    product, \n",
    "    completed, \n",
    "    ts, \n",
    "    newCol \n",
    "FROM \n",
    "    salesNew\n",
    "WHERE \n",
    "    newCol NOT IN (333, 777)\n",
    "ORDER BY \n",
    "    newCol DESC;"
   ]
  },
  {
   "cell_type": "code",
   "execution_count": 116,
   "metadata": {
    "ExecuteTime": {
     "end_time": "2021-06-30T02:49:32.110870Z",
     "start_time": "2021-06-30T02:49:32.109084Z"
    }
   },
   "outputs": [],
   "source": [
    "#37 -- SUBQUERY -- a SELECT statment nested in another SELECT statement\n",
    "\n",
    "#In our example we isolate matching keys from the saleNew and soldRecords tables."
   ]
  },
  {
   "cell_type": "code",
   "execution_count": 117,
   "metadata": {
    "ExecuteTime": {
     "end_time": "2021-06-30T02:49:32.118114Z",
     "start_time": "2021-06-30T02:49:32.112051Z"
    }
   },
   "outputs": [
    {
     "name": "stdout",
     "output_type": "stream",
     "text": [
      " * sqlite://\n",
      "Done.\n"
     ]
    },
    {
     "data": {
      "text/html": [
       "<table>\n",
       "    <thead>\n",
       "        <tr>\n",
       "            <th>keyNew</th>\n",
       "            <th>product</th>\n",
       "            <th>price</th>\n",
       "        </tr>\n",
       "    </thead>\n",
       "    <tbody>\n",
       "        <tr>\n",
       "            <td>sale_1</td>\n",
       "            <td>0</td>\n",
       "            <td>1.1</td>\n",
       "        </tr>\n",
       "        <tr>\n",
       "            <td>sale_3</td>\n",
       "            <td>0</td>\n",
       "            <td>1.3</td>\n",
       "        </tr>\n",
       "        <tr>\n",
       "            <td>sale_5</td>\n",
       "            <td>1</td>\n",
       "            <td>1.5</td>\n",
       "        </tr>\n",
       "    </tbody>\n",
       "</table>"
      ],
      "text/plain": [
       "[('sale_1', 0, 1.1), ('sale_3', 0, 1.3), ('sale_5', 1, 1.5)]"
      ]
     },
     "execution_count": 117,
     "metadata": {},
     "output_type": "execute_result"
    }
   ],
   "source": [
    "%%sql\n",
    "SELECT \n",
    "    keyNew, \n",
    "    product, \n",
    "    price \n",
    "FROM \n",
    "    salesNew sn\n",
    "WHERE keyNew = \n",
    "    (\n",
    "        SELECT \n",
    "            keyNewRecords\n",
    "        FROM \n",
    "            soldRecords sr\n",
    "        WHERE \n",
    "            sn.keyNew = sr.keyNewRecords \n",
    "    );"
   ]
  },
  {
   "cell_type": "code",
   "execution_count": 118,
   "metadata": {
    "ExecuteTime": {
     "end_time": "2021-06-30T02:49:32.121384Z",
     "start_time": "2021-06-30T02:49:32.119628Z"
    }
   },
   "outputs": [],
   "source": [
    "#38 -- SUBQUERY cont'd -- more specific condition"
   ]
  },
  {
   "cell_type": "code",
   "execution_count": 119,
   "metadata": {
    "ExecuteTime": {
     "end_time": "2021-06-30T02:49:32.128523Z",
     "start_time": "2021-06-30T02:49:32.122797Z"
    }
   },
   "outputs": [
    {
     "name": "stdout",
     "output_type": "stream",
     "text": [
      " * sqlite://\n",
      "Done.\n"
     ]
    },
    {
     "data": {
      "text/html": [
       "<table>\n",
       "    <thead>\n",
       "        <tr>\n",
       "            <th>keyNew</th>\n",
       "            <th>product</th>\n",
       "            <th>price</th>\n",
       "        </tr>\n",
       "    </thead>\n",
       "    <tbody>\n",
       "        <tr>\n",
       "            <td>sale_5</td>\n",
       "            <td>1</td>\n",
       "            <td>1.5</td>\n",
       "        </tr>\n",
       "    </tbody>\n",
       "</table>"
      ],
      "text/plain": [
       "[('sale_5', 1, 1.5)]"
      ]
     },
     "execution_count": 119,
     "metadata": {},
     "output_type": "execute_result"
    }
   ],
   "source": [
    "%%sql\n",
    "SELECT \n",
    "    keyNew, \n",
    "    product, \n",
    "    price \n",
    "FROM \n",
    "    salesNew\n",
    "WHERE \n",
    "    keyNew = \n",
    "    (\n",
    "        SELECT \n",
    "            keyNewRecords\n",
    "        FROM \n",
    "            soldRecords\n",
    "        WHERE \n",
    "            keyNewRecords = \"sale_5\" \n",
    "    );"
   ]
  },
  {
   "cell_type": "code",
   "execution_count": 120,
   "metadata": {
    "ExecuteTime": {
     "end_time": "2021-06-30T02:49:32.131705Z",
     "start_time": "2021-06-30T02:49:32.129795Z"
    }
   },
   "outputs": [],
   "source": [
    "#39 -- CASE expression -- allows us to create an IF-THEN-ELSE condition in our query, dividing results accordingly\n",
    "\n",
    "#notice how in our example, we created a classification ProductType, and classified any newCol entry that equals 10\n",
    "#as generic, and anything else as unique"
   ]
  },
  {
   "cell_type": "code",
   "execution_count": 121,
   "metadata": {
    "ExecuteTime": {
     "end_time": "2021-06-30T02:49:32.139129Z",
     "start_time": "2021-06-30T02:49:32.133027Z"
    }
   },
   "outputs": [
    {
     "name": "stdout",
     "output_type": "stream",
     "text": [
      " * sqlite://\n",
      "Done.\n"
     ]
    },
    {
     "data": {
      "text/html": [
       "<table>\n",
       "    <thead>\n",
       "        <tr>\n",
       "            <th>newCol</th>\n",
       "            <th>price</th>\n",
       "            <th>product</th>\n",
       "            <th>ProductType</th>\n",
       "        </tr>\n",
       "    </thead>\n",
       "    <tbody>\n",
       "        <tr>\n",
       "            <td>777</td>\n",
       "            <td>None</td>\n",
       "            <td>None</td>\n",
       "            <td>Unique</td>\n",
       "        </tr>\n",
       "        <tr>\n",
       "            <td>10</td>\n",
       "            <td>1.1</td>\n",
       "            <td>0</td>\n",
       "            <td>Generic</td>\n",
       "        </tr>\n",
       "        <tr>\n",
       "            <td>10</td>\n",
       "            <td>1.2</td>\n",
       "            <td>0</td>\n",
       "            <td>Generic</td>\n",
       "        </tr>\n",
       "        <tr>\n",
       "            <td>333</td>\n",
       "            <td>1.3</td>\n",
       "            <td>0</td>\n",
       "            <td>Unique</td>\n",
       "        </tr>\n",
       "        <tr>\n",
       "            <td>10</td>\n",
       "            <td>1.4</td>\n",
       "            <td>1</td>\n",
       "            <td>Generic</td>\n",
       "        </tr>\n",
       "        <tr>\n",
       "            <td>10</td>\n",
       "            <td>1.5</td>\n",
       "            <td>1</td>\n",
       "            <td>Generic</td>\n",
       "        </tr>\n",
       "        <tr>\n",
       "            <td>10</td>\n",
       "            <td>1.5</td>\n",
       "            <td>1</td>\n",
       "            <td>Generic</td>\n",
       "        </tr>\n",
       "    </tbody>\n",
       "</table>"
      ],
      "text/plain": [
       "[(777, None, None, 'Unique'),\n",
       " (10, 1.1, 0, 'Generic'),\n",
       " (10, 1.2, 0, 'Generic'),\n",
       " (333, 1.3, 0, 'Unique'),\n",
       " (10, 1.4, 1, 'Generic'),\n",
       " (10, 1.5, 1, 'Generic'),\n",
       " (10, 1.5, 1, 'Generic')]"
      ]
     },
     "execution_count": 121,
     "metadata": {},
     "output_type": "execute_result"
    }
   ],
   "source": [
    "%%sql\n",
    "SELECT \n",
    "    newCol, \n",
    "    price, \n",
    "    product,\n",
    "    CASE \n",
    "        newCol \n",
    "            WHEN 10\n",
    "                THEN \"Generic\"\n",
    "            ELSE \"Unique\"\n",
    "    END ProductType\n",
    "FROM \n",
    "    salesNew\n",
    "ORDER BY \n",
    "    keyNew;"
   ]
  },
  {
   "cell_type": "code",
   "execution_count": 122,
   "metadata": {
    "ExecuteTime": {
     "end_time": "2021-06-30T02:49:32.142540Z",
     "start_time": "2021-06-30T02:49:32.140684Z"
    }
   },
   "outputs": [],
   "source": [
    "#40 -- CASE expression -- using case to search our results according to a specified filter and categorize\n",
    "#query accordingly"
   ]
  },
  {
   "cell_type": "code",
   "execution_count": 123,
   "metadata": {
    "ExecuteTime": {
     "end_time": "2021-06-30T02:49:32.159759Z",
     "start_time": "2021-06-30T02:49:32.153143Z"
    }
   },
   "outputs": [
    {
     "name": "stdout",
     "output_type": "stream",
     "text": [
      " * sqlite://\n",
      "Done.\n"
     ]
    },
    {
     "data": {
      "text/html": [
       "<table>\n",
       "    <thead>\n",
       "        <tr>\n",
       "            <th>keyNew</th>\n",
       "            <th>price</th>\n",
       "            <th>completed</th>\n",
       "            <th>currentStatus</th>\n",
       "        </tr>\n",
       "    </thead>\n",
       "    <tbody>\n",
       "        <tr>\n",
       "            <td>sale_1</td>\n",
       "            <td>1.1</td>\n",
       "            <td>1</td>\n",
       "            <td>Sold</td>\n",
       "        </tr>\n",
       "        <tr>\n",
       "            <td>sale_2</td>\n",
       "            <td>1.2</td>\n",
       "            <td>0</td>\n",
       "            <td>Not Sold</td>\n",
       "        </tr>\n",
       "        <tr>\n",
       "            <td>sale_3</td>\n",
       "            <td>1.3</td>\n",
       "            <td>1</td>\n",
       "            <td>Sold</td>\n",
       "        </tr>\n",
       "        <tr>\n",
       "            <td>sale_4</td>\n",
       "            <td>1.4</td>\n",
       "            <td>0</td>\n",
       "            <td>Not Sold</td>\n",
       "        </tr>\n",
       "        <tr>\n",
       "            <td>sale_5</td>\n",
       "            <td>1.5</td>\n",
       "            <td>1</td>\n",
       "            <td>Sold</td>\n",
       "        </tr>\n",
       "        <tr>\n",
       "            <td>sale_6</td>\n",
       "            <td>1.5</td>\n",
       "            <td>1</td>\n",
       "            <td>Sold</td>\n",
       "        </tr>\n",
       "        <tr>\n",
       "            <td>None</td>\n",
       "            <td>None</td>\n",
       "            <td>None</td>\n",
       "            <td>Beta Testing</td>\n",
       "        </tr>\n",
       "    </tbody>\n",
       "</table>"
      ],
      "text/plain": [
       "[('sale_1', 1.1, 1, 'Sold'),\n",
       " ('sale_2', 1.2, 0, 'Not Sold'),\n",
       " ('sale_3', 1.3, 1, 'Sold'),\n",
       " ('sale_4', 1.4, 0, 'Not Sold'),\n",
       " ('sale_5', 1.5, 1, 'Sold'),\n",
       " ('sale_6', 1.5, 1, 'Sold'),\n",
       " (None, None, None, 'Beta Testing')]"
      ]
     },
     "execution_count": 123,
     "metadata": {},
     "output_type": "execute_result"
    }
   ],
   "source": [
    "%%sql\n",
    "SELECT \n",
    "    keyNew, \n",
    "    price, \n",
    "    completed,\n",
    "    CASE \n",
    "        WHEN completed = 1 \n",
    "            THEN \"Sold\"\n",
    "        WHEN newCol != 10 \n",
    "            THEN \"Beta Testing\"\n",
    "        ELSE \"Not Sold\"\n",
    "    END currentStatus\n",
    "FROM \n",
    "    salesNew;"
   ]
  },
  {
   "cell_type": "code",
   "execution_count": 124,
   "metadata": {
    "ExecuteTime": {
     "end_time": "2021-06-30T02:49:32.162919Z",
     "start_time": "2021-06-30T02:49:32.161263Z"
    }
   },
   "outputs": [],
   "source": [
    "#41 -- WITH clause -- creating a labeled subquery that we can refer to throughout our query"
   ]
  },
  {
   "cell_type": "code",
   "execution_count": 125,
   "metadata": {
    "ExecuteTime": {
     "end_time": "2021-06-30T02:49:32.170474Z",
     "start_time": "2021-06-30T02:49:32.164663Z"
    }
   },
   "outputs": [
    {
     "name": "stdout",
     "output_type": "stream",
     "text": [
      " * sqlite://\n",
      "Done.\n"
     ]
    },
    {
     "data": {
      "text/html": [
       "<table>\n",
       "    <thead>\n",
       "        <tr>\n",
       "            <th>keyNew</th>\n",
       "        </tr>\n",
       "    </thead>\n",
       "    <tbody>\n",
       "        <tr>\n",
       "            <td>sale_1</td>\n",
       "        </tr>\n",
       "        <tr>\n",
       "            <td>sale_2</td>\n",
       "        </tr>\n",
       "        <tr>\n",
       "            <td>sale_3</td>\n",
       "        </tr>\n",
       "        <tr>\n",
       "            <td>sale_4</td>\n",
       "        </tr>\n",
       "        <tr>\n",
       "            <td>sale_5</td>\n",
       "        </tr>\n",
       "        <tr>\n",
       "            <td>sale_6</td>\n",
       "        </tr>\n",
       "        <tr>\n",
       "            <td>None</td>\n",
       "        </tr>\n",
       "    </tbody>\n",
       "</table>"
      ],
      "text/plain": [
       "[('sale_1',),\n",
       " ('sale_2',),\n",
       " ('sale_3',),\n",
       " ('sale_4',),\n",
       " ('sale_5',),\n",
       " ('sale_6',),\n",
       " (None,)]"
      ]
     },
     "execution_count": 125,
     "metadata": {},
     "output_type": "execute_result"
    }
   ],
   "source": [
    "%%sql\n",
    "WITH \n",
    "    keyOne \n",
    "AS \n",
    "    (\n",
    "        SELECT\n",
    "            keyNew\n",
    "        FROM \n",
    "            salesNew\n",
    "    )\n",
    "    \n",
    "SELECT * FROM keyOne;"
   ]
  },
  {
   "cell_type": "code",
   "execution_count": 126,
   "metadata": {
    "ExecuteTime": {
     "end_time": "2021-06-30T02:49:32.177510Z",
     "start_time": "2021-06-30T02:49:32.172132Z"
    }
   },
   "outputs": [
    {
     "name": "stdout",
     "output_type": "stream",
     "text": [
      " * sqlite://\n",
      "Done.\n"
     ]
    },
    {
     "data": {
      "text/html": [
       "<table>\n",
       "    <thead>\n",
       "        <tr>\n",
       "            <th>keyNewRecords</th>\n",
       "        </tr>\n",
       "    </thead>\n",
       "    <tbody>\n",
       "        <tr>\n",
       "            <td>sale_1</td>\n",
       "        </tr>\n",
       "        <tr>\n",
       "            <td>sale_22</td>\n",
       "        </tr>\n",
       "        <tr>\n",
       "            <td>sale_3</td>\n",
       "        </tr>\n",
       "        <tr>\n",
       "            <td>sale_44</td>\n",
       "        </tr>\n",
       "        <tr>\n",
       "            <td>sale_5</td>\n",
       "        </tr>\n",
       "        <tr>\n",
       "            <td>sale_66</td>\n",
       "        </tr>\n",
       "    </tbody>\n",
       "</table>"
      ],
      "text/plain": [
       "[('sale_1',),\n",
       " ('sale_22',),\n",
       " ('sale_3',),\n",
       " ('sale_44',),\n",
       " ('sale_5',),\n",
       " ('sale_66',)]"
      ]
     },
     "execution_count": 126,
     "metadata": {},
     "output_type": "execute_result"
    }
   ],
   "source": [
    "%%sql \n",
    "WITH\n",
    "    keyTwo\n",
    "AS\n",
    "    (\n",
    "        SELECT\n",
    "            keyNewRecords\n",
    "        FROM\n",
    "            soldRecords\n",
    "    )\n",
    "    \n",
    "SELECT * FROM keyTwo;"
   ]
  },
  {
   "cell_type": "code",
   "execution_count": 127,
   "metadata": {
    "ExecuteTime": {
     "end_time": "2021-06-30T02:49:32.181111Z",
     "start_time": "2021-06-30T02:49:32.179309Z"
    }
   },
   "outputs": [],
   "source": [
    "#42 -- WITH clause -- subquery example where we create a subquery that calls on the common entries of two tables based\n",
    "#on one column\n",
    "\n",
    "#extending our example, we then use the query we created through the WITH clause to further narrow our search of\n",
    "#those results"
   ]
  },
  {
   "cell_type": "code",
   "execution_count": 128,
   "metadata": {
    "ExecuteTime": {
     "end_time": "2021-06-30T02:49:32.189221Z",
     "start_time": "2021-06-30T02:49:32.182912Z"
    }
   },
   "outputs": [
    {
     "name": "stdout",
     "output_type": "stream",
     "text": [
      " * sqlite://\n",
      "Done.\n"
     ]
    },
    {
     "data": {
      "text/html": [
       "<table>\n",
       "    <thead>\n",
       "        <tr>\n",
       "            <th>keyNew</th>\n",
       "            <th>completed</th>\n",
       "            <th>min(price)</th>\n",
       "        </tr>\n",
       "    </thead>\n",
       "    <tbody>\n",
       "        <tr>\n",
       "            <td>sale_1</td>\n",
       "            <td>1</td>\n",
       "            <td>1.1</td>\n",
       "        </tr>\n",
       "    </tbody>\n",
       "</table>"
      ],
      "text/plain": [
       "[('sale_1', 1, 1.1)]"
      ]
     },
     "execution_count": 128,
     "metadata": {},
     "output_type": "execute_result"
    }
   ],
   "source": [
    "%%sql\n",
    "WITH \n",
    "    sNew_sRecords\n",
    "AS\n",
    "    (\n",
    "        SELECT * FROM salesNew sn\n",
    "        WHERE keyNew = \n",
    "        (\n",
    "            SELECT \n",
    "                keyNewRecords\n",
    "            FROM \n",
    "                soldRecords sr\n",
    "            WHERE \n",
    "                sn.keyNew = sr.keyNewRecords \n",
    "        )\n",
    "    \n",
    "    )\n",
    "\n",
    "\n",
    "SELECT \n",
    "    keyNew, \n",
    "    completed, \n",
    "    min(price)\n",
    "FROM\n",
    "    sNew_sRecords;"
   ]
  },
  {
   "cell_type": "code",
   "execution_count": 129,
   "metadata": {
    "ExecuteTime": {
     "end_time": "2021-06-30T02:49:32.192954Z",
     "start_time": "2021-06-30T02:49:32.191000Z"
    }
   },
   "outputs": [],
   "source": [
    "#43 -- Window Functions -- ROW_NUMBER() -- adds sequential integer to each row in our query result"
   ]
  },
  {
   "cell_type": "code",
   "execution_count": 130,
   "metadata": {
    "ExecuteTime": {
     "end_time": "2021-06-30T02:49:32.200666Z",
     "start_time": "2021-06-30T02:49:32.194513Z"
    }
   },
   "outputs": [
    {
     "name": "stdout",
     "output_type": "stream",
     "text": [
      " * sqlite://\n",
      "Done.\n"
     ]
    },
    {
     "data": {
      "text/html": [
       "<table>\n",
       "    <thead>\n",
       "        <tr>\n",
       "            <th>RowCount</th>\n",
       "            <th>keyNew</th>\n",
       "            <th>ts</th>\n",
       "            <th>price</th>\n",
       "            <th>completed</th>\n",
       "        </tr>\n",
       "    </thead>\n",
       "    <tbody>\n",
       "        <tr>\n",
       "            <td>1</td>\n",
       "            <td>None</td>\n",
       "            <td>None</td>\n",
       "            <td>None</td>\n",
       "            <td>None</td>\n",
       "        </tr>\n",
       "        <tr>\n",
       "            <td>2</td>\n",
       "            <td>sale_1</td>\n",
       "            <td>2019-11-08 00:00</td>\n",
       "            <td>1.1</td>\n",
       "            <td>1</td>\n",
       "        </tr>\n",
       "        <tr>\n",
       "            <td>3</td>\n",
       "            <td>sale_2</td>\n",
       "            <td>2019-11-08 01:00</td>\n",
       "            <td>1.2</td>\n",
       "            <td>0</td>\n",
       "        </tr>\n",
       "        <tr>\n",
       "            <td>4</td>\n",
       "            <td>sale_3</td>\n",
       "            <td>2019-11-08 01:00</td>\n",
       "            <td>1.3</td>\n",
       "            <td>1</td>\n",
       "        </tr>\n",
       "        <tr>\n",
       "            <td>5</td>\n",
       "            <td>sale_4</td>\n",
       "            <td>2019-11-08 01:00</td>\n",
       "            <td>1.4</td>\n",
       "            <td>0</td>\n",
       "        </tr>\n",
       "        <tr>\n",
       "            <td>6</td>\n",
       "            <td>sale_5</td>\n",
       "            <td>2019-11-08 02:00</td>\n",
       "            <td>1.5</td>\n",
       "            <td>1</td>\n",
       "        </tr>\n",
       "        <tr>\n",
       "            <td>7</td>\n",
       "            <td>sale_6</td>\n",
       "            <td>2019-11-08 02:00</td>\n",
       "            <td>1.5</td>\n",
       "            <td>1</td>\n",
       "        </tr>\n",
       "    </tbody>\n",
       "</table>"
      ],
      "text/plain": [
       "[(1, None, None, None, None),\n",
       " (2, 'sale_1', '2019-11-08 00:00', 1.1, 1),\n",
       " (3, 'sale_2', '2019-11-08 01:00', 1.2, 0),\n",
       " (4, 'sale_3', '2019-11-08 01:00', 1.3, 1),\n",
       " (5, 'sale_4', '2019-11-08 01:00', 1.4, 0),\n",
       " (6, 'sale_5', '2019-11-08 02:00', 1.5, 1),\n",
       " (7, 'sale_6', '2019-11-08 02:00', 1.5, 1)]"
      ]
     },
     "execution_count": 130,
     "metadata": {},
     "output_type": "execute_result"
    }
   ],
   "source": [
    "%%sql\n",
    "SELECT \n",
    "    ROW_NUMBER()\n",
    "        OVER (\n",
    "            ORDER BY keyNew\n",
    "             ) RowCount,\n",
    "    keyNew,\n",
    "    ts,\n",
    "    price,\n",
    "    completed\n",
    "FROM\n",
    "    salesNew;"
   ]
  },
  {
   "cell_type": "code",
   "execution_count": 131,
   "metadata": {
    "ExecuteTime": {
     "end_time": "2021-06-30T02:49:32.204377Z",
     "start_time": "2021-06-30T02:49:32.202063Z"
    }
   },
   "outputs": [],
   "source": [
    "#44 -- Window Functions -- ROW_NUMBER() cont'd -- setting the order of the query it more specifically\n",
    "\n",
    "#NOTE: we are interested in what is completed first, and which was highest price, \n",
    "#so we sort by descending order in our list -- we call our numerical order as TopResults"
   ]
  },
  {
   "cell_type": "code",
   "execution_count": 132,
   "metadata": {
    "ExecuteTime": {
     "end_time": "2021-06-30T02:49:32.213813Z",
     "start_time": "2021-06-30T02:49:32.206061Z"
    }
   },
   "outputs": [
    {
     "name": "stdout",
     "output_type": "stream",
     "text": [
      " * sqlite://\n",
      "Done.\n"
     ]
    },
    {
     "data": {
      "text/html": [
       "<table>\n",
       "    <thead>\n",
       "        <tr>\n",
       "            <th>TopResults</th>\n",
       "            <th>keyNew</th>\n",
       "            <th>ts</th>\n",
       "            <th>price</th>\n",
       "            <th>completed</th>\n",
       "        </tr>\n",
       "    </thead>\n",
       "    <tbody>\n",
       "        <tr>\n",
       "            <td>1</td>\n",
       "            <td>sale_5</td>\n",
       "            <td>2019-11-08 02:00</td>\n",
       "            <td>1.5</td>\n",
       "            <td>1</td>\n",
       "        </tr>\n",
       "        <tr>\n",
       "            <td>2</td>\n",
       "            <td>sale_6</td>\n",
       "            <td>2019-11-08 02:00</td>\n",
       "            <td>1.5</td>\n",
       "            <td>1</td>\n",
       "        </tr>\n",
       "        <tr>\n",
       "            <td>3</td>\n",
       "            <td>sale_3</td>\n",
       "            <td>2019-11-08 01:00</td>\n",
       "            <td>1.3</td>\n",
       "            <td>1</td>\n",
       "        </tr>\n",
       "        <tr>\n",
       "            <td>4</td>\n",
       "            <td>sale_1</td>\n",
       "            <td>2019-11-08 00:00</td>\n",
       "            <td>1.1</td>\n",
       "            <td>1</td>\n",
       "        </tr>\n",
       "        <tr>\n",
       "            <td>5</td>\n",
       "            <td>sale_4</td>\n",
       "            <td>2019-11-08 01:00</td>\n",
       "            <td>1.4</td>\n",
       "            <td>0</td>\n",
       "        </tr>\n",
       "        <tr>\n",
       "            <td>6</td>\n",
       "            <td>sale_2</td>\n",
       "            <td>2019-11-08 01:00</td>\n",
       "            <td>1.2</td>\n",
       "            <td>0</td>\n",
       "        </tr>\n",
       "        <tr>\n",
       "            <td>7</td>\n",
       "            <td>None</td>\n",
       "            <td>None</td>\n",
       "            <td>None</td>\n",
       "            <td>None</td>\n",
       "        </tr>\n",
       "    </tbody>\n",
       "</table>"
      ],
      "text/plain": [
       "[(1, 'sale_5', '2019-11-08 02:00', 1.5, 1),\n",
       " (2, 'sale_6', '2019-11-08 02:00', 1.5, 1),\n",
       " (3, 'sale_3', '2019-11-08 01:00', 1.3, 1),\n",
       " (4, 'sale_1', '2019-11-08 00:00', 1.1, 1),\n",
       " (5, 'sale_4', '2019-11-08 01:00', 1.4, 0),\n",
       " (6, 'sale_2', '2019-11-08 01:00', 1.2, 0),\n",
       " (7, None, None, None, None)]"
      ]
     },
     "execution_count": 132,
     "metadata": {},
     "output_type": "execute_result"
    }
   ],
   "source": [
    "%%sql\n",
    "SELECT \n",
    "    ROW_NUMBER() \n",
    "        OVER (\n",
    "            ORDER BY completed DESC, \n",
    "                        price DESC\n",
    "             ) TopResults,\n",
    "    keyNew,\n",
    "    ts,\n",
    "    price,\n",
    "    completed\n",
    "FROM\n",
    "    salesNew;"
   ]
  },
  {
   "cell_type": "code",
   "execution_count": 133,
   "metadata": {
    "ExecuteTime": {
     "end_time": "2021-06-30T02:49:32.217398Z",
     "start_time": "2021-06-30T02:49:32.215596Z"
    }
   },
   "outputs": [],
   "source": [
    "#45 -- Window Functions -- ROW_NUMBER() cont'd -- adding PARTITION BY -- we will now have fresh number sequences \n",
    "#for each defined partition\n",
    "\n",
    "#Observe in our example there are 3 groups of timestamps that result (we also got rid of NULL row in our query)"
   ]
  },
  {
   "cell_type": "code",
   "execution_count": 134,
   "metadata": {
    "ExecuteTime": {
     "end_time": "2021-06-30T02:49:32.226334Z",
     "start_time": "2021-06-30T02:49:32.218743Z"
    }
   },
   "outputs": [
    {
     "name": "stdout",
     "output_type": "stream",
     "text": [
      " * sqlite://\n",
      "Done.\n"
     ]
    },
    {
     "data": {
      "text/html": [
       "<table>\n",
       "    <thead>\n",
       "        <tr>\n",
       "            <th>TimeLists</th>\n",
       "            <th>keyNew</th>\n",
       "            <th>ts</th>\n",
       "            <th>price</th>\n",
       "            <th>completed</th>\n",
       "        </tr>\n",
       "    </thead>\n",
       "    <tbody>\n",
       "        <tr>\n",
       "            <td>1</td>\n",
       "            <td>sale_1</td>\n",
       "            <td>2019-11-08 00:00</td>\n",
       "            <td>1.1</td>\n",
       "            <td>1</td>\n",
       "        </tr>\n",
       "        <tr>\n",
       "            <td>1</td>\n",
       "            <td>sale_3</td>\n",
       "            <td>2019-11-08 01:00</td>\n",
       "            <td>1.3</td>\n",
       "            <td>1</td>\n",
       "        </tr>\n",
       "        <tr>\n",
       "            <td>2</td>\n",
       "            <td>sale_4</td>\n",
       "            <td>2019-11-08 01:00</td>\n",
       "            <td>1.4</td>\n",
       "            <td>0</td>\n",
       "        </tr>\n",
       "        <tr>\n",
       "            <td>3</td>\n",
       "            <td>sale_2</td>\n",
       "            <td>2019-11-08 01:00</td>\n",
       "            <td>1.2</td>\n",
       "            <td>0</td>\n",
       "        </tr>\n",
       "        <tr>\n",
       "            <td>1</td>\n",
       "            <td>sale_5</td>\n",
       "            <td>2019-11-08 02:00</td>\n",
       "            <td>1.5</td>\n",
       "            <td>1</td>\n",
       "        </tr>\n",
       "        <tr>\n",
       "            <td>2</td>\n",
       "            <td>sale_6</td>\n",
       "            <td>2019-11-08 02:00</td>\n",
       "            <td>1.5</td>\n",
       "            <td>1</td>\n",
       "        </tr>\n",
       "    </tbody>\n",
       "</table>"
      ],
      "text/plain": [
       "[(1, 'sale_1', '2019-11-08 00:00', 1.1, 1),\n",
       " (1, 'sale_3', '2019-11-08 01:00', 1.3, 1),\n",
       " (2, 'sale_4', '2019-11-08 01:00', 1.4, 0),\n",
       " (3, 'sale_2', '2019-11-08 01:00', 1.2, 0),\n",
       " (1, 'sale_5', '2019-11-08 02:00', 1.5, 1),\n",
       " (2, 'sale_6', '2019-11-08 02:00', 1.5, 1)]"
      ]
     },
     "execution_count": 134,
     "metadata": {},
     "output_type": "execute_result"
    }
   ],
   "source": [
    "%%sql\n",
    "SELECT \n",
    "    ROW_NUMBER() \n",
    "        OVER (\n",
    "            PARTITION BY ts\n",
    "            ORDER BY completed DESC, \n",
    "                        price DESC\n",
    "             ) TimeLists,\n",
    "    keyNew,\n",
    "    ts,\n",
    "    price,\n",
    "    completed\n",
    "FROM\n",
    "    salesNew\n",
    "WHERE \n",
    "    keyNew IS NOT NULL;"
   ]
  },
  {
   "cell_type": "code",
   "execution_count": 135,
   "metadata": {
    "ExecuteTime": {
     "end_time": "2021-06-30T02:49:32.229696Z",
     "start_time": "2021-06-30T02:49:32.228064Z"
    }
   },
   "outputs": [],
   "source": [
    "#46 -- Window Functions -- RANK() -- a numerical \"rank\" is assigned to each row based on whether its unique and what\n",
    "#order it falls in when you specify you query\n",
    "\n",
    "#notice how in our example, the completed entries (having completed = 1) are grouped into one cluster and ranked as #1,\n",
    "#then because there are 4 entries with completed = 1, the next rank in our list is #5 (which is completed = 0)"
   ]
  },
  {
   "cell_type": "code",
   "execution_count": 136,
   "metadata": {
    "ExecuteTime": {
     "end_time": "2021-06-30T02:49:32.238811Z",
     "start_time": "2021-06-30T02:49:32.231438Z"
    }
   },
   "outputs": [
    {
     "name": "stdout",
     "output_type": "stream",
     "text": [
      " * sqlite://\n",
      "Done.\n"
     ]
    },
    {
     "data": {
      "text/html": [
       "<table>\n",
       "    <thead>\n",
       "        <tr>\n",
       "            <th>RankCompleted</th>\n",
       "            <th>keyNew</th>\n",
       "            <th>ts</th>\n",
       "            <th>price</th>\n",
       "            <th>completed</th>\n",
       "        </tr>\n",
       "    </thead>\n",
       "    <tbody>\n",
       "        <tr>\n",
       "            <td>1</td>\n",
       "            <td>sale_1</td>\n",
       "            <td>2019-11-08 00:00</td>\n",
       "            <td>1.1</td>\n",
       "            <td>1</td>\n",
       "        </tr>\n",
       "        <tr>\n",
       "            <td>1</td>\n",
       "            <td>sale_3</td>\n",
       "            <td>2019-11-08 01:00</td>\n",
       "            <td>1.3</td>\n",
       "            <td>1</td>\n",
       "        </tr>\n",
       "        <tr>\n",
       "            <td>1</td>\n",
       "            <td>sale_5</td>\n",
       "            <td>2019-11-08 02:00</td>\n",
       "            <td>1.5</td>\n",
       "            <td>1</td>\n",
       "        </tr>\n",
       "        <tr>\n",
       "            <td>1</td>\n",
       "            <td>sale_6</td>\n",
       "            <td>2019-11-08 02:00</td>\n",
       "            <td>1.5</td>\n",
       "            <td>1</td>\n",
       "        </tr>\n",
       "        <tr>\n",
       "            <td>5</td>\n",
       "            <td>sale_2</td>\n",
       "            <td>2019-11-08 01:00</td>\n",
       "            <td>1.2</td>\n",
       "            <td>0</td>\n",
       "        </tr>\n",
       "        <tr>\n",
       "            <td>5</td>\n",
       "            <td>sale_4</td>\n",
       "            <td>2019-11-08 01:00</td>\n",
       "            <td>1.4</td>\n",
       "            <td>0</td>\n",
       "        </tr>\n",
       "        <tr>\n",
       "            <td>7</td>\n",
       "            <td>None</td>\n",
       "            <td>None</td>\n",
       "            <td>None</td>\n",
       "            <td>None</td>\n",
       "        </tr>\n",
       "    </tbody>\n",
       "</table>"
      ],
      "text/plain": [
       "[(1, 'sale_1', '2019-11-08 00:00', 1.1, 1),\n",
       " (1, 'sale_3', '2019-11-08 01:00', 1.3, 1),\n",
       " (1, 'sale_5', '2019-11-08 02:00', 1.5, 1),\n",
       " (1, 'sale_6', '2019-11-08 02:00', 1.5, 1),\n",
       " (5, 'sale_2', '2019-11-08 01:00', 1.2, 0),\n",
       " (5, 'sale_4', '2019-11-08 01:00', 1.4, 0),\n",
       " (7, None, None, None, None)]"
      ]
     },
     "execution_count": 136,
     "metadata": {},
     "output_type": "execute_result"
    }
   ],
   "source": [
    "%%sql\n",
    "SELECT \n",
    "    RANK() \n",
    "        OVER (\n",
    "            ORDER BY completed DESC\n",
    "             ) RankCompleted,\n",
    "    keyNew,\n",
    "    ts,\n",
    "    price,\n",
    "    completed\n",
    "FROM\n",
    "    salesNew"
   ]
  },
  {
   "cell_type": "code",
   "execution_count": 137,
   "metadata": {
    "ExecuteTime": {
     "end_time": "2021-06-30T02:49:32.242149Z",
     "start_time": "2021-06-30T02:49:32.240452Z"
    }
   },
   "outputs": [],
   "source": [
    "#47 -- Window Functions -- RANK() cont'd -- Order it by price to get more ranks since there are more unique\n",
    "#price entries"
   ]
  },
  {
   "cell_type": "code",
   "execution_count": 138,
   "metadata": {
    "ExecuteTime": {
     "end_time": "2021-06-30T02:49:32.251063Z",
     "start_time": "2021-06-30T02:49:32.243922Z"
    }
   },
   "outputs": [
    {
     "name": "stdout",
     "output_type": "stream",
     "text": [
      " * sqlite://\n",
      "Done.\n"
     ]
    },
    {
     "data": {
      "text/html": [
       "<table>\n",
       "    <thead>\n",
       "        <tr>\n",
       "            <th>RankPrice</th>\n",
       "            <th>keyNew</th>\n",
       "            <th>ts</th>\n",
       "            <th>price</th>\n",
       "            <th>completed</th>\n",
       "        </tr>\n",
       "    </thead>\n",
       "    <tbody>\n",
       "        <tr>\n",
       "            <td>1</td>\n",
       "            <td>sale_5</td>\n",
       "            <td>2019-11-08 02:00</td>\n",
       "            <td>1.5</td>\n",
       "            <td>1</td>\n",
       "        </tr>\n",
       "        <tr>\n",
       "            <td>1</td>\n",
       "            <td>sale_6</td>\n",
       "            <td>2019-11-08 02:00</td>\n",
       "            <td>1.5</td>\n",
       "            <td>1</td>\n",
       "        </tr>\n",
       "        <tr>\n",
       "            <td>3</td>\n",
       "            <td>sale_4</td>\n",
       "            <td>2019-11-08 01:00</td>\n",
       "            <td>1.4</td>\n",
       "            <td>0</td>\n",
       "        </tr>\n",
       "        <tr>\n",
       "            <td>4</td>\n",
       "            <td>sale_3</td>\n",
       "            <td>2019-11-08 01:00</td>\n",
       "            <td>1.3</td>\n",
       "            <td>1</td>\n",
       "        </tr>\n",
       "        <tr>\n",
       "            <td>5</td>\n",
       "            <td>sale_2</td>\n",
       "            <td>2019-11-08 01:00</td>\n",
       "            <td>1.2</td>\n",
       "            <td>0</td>\n",
       "        </tr>\n",
       "        <tr>\n",
       "            <td>6</td>\n",
       "            <td>sale_1</td>\n",
       "            <td>2019-11-08 00:00</td>\n",
       "            <td>1.1</td>\n",
       "            <td>1</td>\n",
       "        </tr>\n",
       "        <tr>\n",
       "            <td>7</td>\n",
       "            <td>None</td>\n",
       "            <td>None</td>\n",
       "            <td>None</td>\n",
       "            <td>None</td>\n",
       "        </tr>\n",
       "    </tbody>\n",
       "</table>"
      ],
      "text/plain": [
       "[(1, 'sale_5', '2019-11-08 02:00', 1.5, 1),\n",
       " (1, 'sale_6', '2019-11-08 02:00', 1.5, 1),\n",
       " (3, 'sale_4', '2019-11-08 01:00', 1.4, 0),\n",
       " (4, 'sale_3', '2019-11-08 01:00', 1.3, 1),\n",
       " (5, 'sale_2', '2019-11-08 01:00', 1.2, 0),\n",
       " (6, 'sale_1', '2019-11-08 00:00', 1.1, 1),\n",
       " (7, None, None, None, None)]"
      ]
     },
     "execution_count": 138,
     "metadata": {},
     "output_type": "execute_result"
    }
   ],
   "source": [
    "%%sql\n",
    "SELECT \n",
    "    RANK() \n",
    "        OVER (\n",
    "            ORDER BY price DESC\n",
    "             ) RankPrice,\n",
    "    keyNew,\n",
    "    ts,\n",
    "    price,\n",
    "    completed\n",
    "FROM\n",
    "    salesNew"
   ]
  },
  {
   "cell_type": "code",
   "execution_count": 139,
   "metadata": {
    "ExecuteTime": {
     "end_time": "2021-06-30T02:49:32.255077Z",
     "start_time": "2021-06-30T02:49:32.252950Z"
    }
   },
   "outputs": [],
   "source": [
    "#48 -- Window Functions -- RANK() cont'd -- insert PARTITION BY into it as well\n",
    "\n",
    "#here we partition our ranks by the completed status of each row"
   ]
  },
  {
   "cell_type": "code",
   "execution_count": 140,
   "metadata": {
    "ExecuteTime": {
     "end_time": "2021-06-30T02:49:32.265163Z",
     "start_time": "2021-06-30T02:49:32.257076Z"
    }
   },
   "outputs": [
    {
     "name": "stdout",
     "output_type": "stream",
     "text": [
      " * sqlite://\n",
      "Done.\n"
     ]
    },
    {
     "data": {
      "text/html": [
       "<table>\n",
       "    <thead>\n",
       "        <tr>\n",
       "            <th>RankPriceCompleted</th>\n",
       "            <th>keyNew</th>\n",
       "            <th>ts</th>\n",
       "            <th>price</th>\n",
       "            <th>completed</th>\n",
       "        </tr>\n",
       "    </thead>\n",
       "    <tbody>\n",
       "        <tr>\n",
       "            <td>1</td>\n",
       "            <td>None</td>\n",
       "            <td>None</td>\n",
       "            <td>None</td>\n",
       "            <td>None</td>\n",
       "        </tr>\n",
       "        <tr>\n",
       "            <td>1</td>\n",
       "            <td>sale_4</td>\n",
       "            <td>2019-11-08 01:00</td>\n",
       "            <td>1.4</td>\n",
       "            <td>0</td>\n",
       "        </tr>\n",
       "        <tr>\n",
       "            <td>2</td>\n",
       "            <td>sale_2</td>\n",
       "            <td>2019-11-08 01:00</td>\n",
       "            <td>1.2</td>\n",
       "            <td>0</td>\n",
       "        </tr>\n",
       "        <tr>\n",
       "            <td>1</td>\n",
       "            <td>sale_5</td>\n",
       "            <td>2019-11-08 02:00</td>\n",
       "            <td>1.5</td>\n",
       "            <td>1</td>\n",
       "        </tr>\n",
       "        <tr>\n",
       "            <td>1</td>\n",
       "            <td>sale_6</td>\n",
       "            <td>2019-11-08 02:00</td>\n",
       "            <td>1.5</td>\n",
       "            <td>1</td>\n",
       "        </tr>\n",
       "        <tr>\n",
       "            <td>3</td>\n",
       "            <td>sale_3</td>\n",
       "            <td>2019-11-08 01:00</td>\n",
       "            <td>1.3</td>\n",
       "            <td>1</td>\n",
       "        </tr>\n",
       "        <tr>\n",
       "            <td>4</td>\n",
       "            <td>sale_1</td>\n",
       "            <td>2019-11-08 00:00</td>\n",
       "            <td>1.1</td>\n",
       "            <td>1</td>\n",
       "        </tr>\n",
       "    </tbody>\n",
       "</table>"
      ],
      "text/plain": [
       "[(1, None, None, None, None),\n",
       " (1, 'sale_4', '2019-11-08 01:00', 1.4, 0),\n",
       " (2, 'sale_2', '2019-11-08 01:00', 1.2, 0),\n",
       " (1, 'sale_5', '2019-11-08 02:00', 1.5, 1),\n",
       " (1, 'sale_6', '2019-11-08 02:00', 1.5, 1),\n",
       " (3, 'sale_3', '2019-11-08 01:00', 1.3, 1),\n",
       " (4, 'sale_1', '2019-11-08 00:00', 1.1, 1)]"
      ]
     },
     "execution_count": 140,
     "metadata": {},
     "output_type": "execute_result"
    }
   ],
   "source": [
    "%%sql\n",
    "SELECT \n",
    "    RANK() \n",
    "        OVER (\n",
    "            PARTITION BY completed \n",
    "           ORDER BY price DESC\n",
    "             ) RankPriceCompleted,\n",
    "    keyNew,\n",
    "    ts,\n",
    "    price,\n",
    "    completed \n",
    "FROM\n",
    "    salesNew"
   ]
  },
  {
   "cell_type": "code",
   "execution_count": 141,
   "metadata": {
    "ExecuteTime": {
     "end_time": "2021-06-30T02:49:32.268834Z",
     "start_time": "2021-06-30T02:49:32.266959Z"
    }
   },
   "outputs": [],
   "source": [
    "#49 -- DISTINCT clause -- an attachment to SELECT command that is useful for removal of duplicates\n",
    "\n",
    "#in our example, lets see how many different timestamps in salesNew table, but not NULL values (those are irrelavent)"
   ]
  },
  {
   "cell_type": "code",
   "execution_count": 142,
   "metadata": {
    "ExecuteTime": {
     "end_time": "2021-06-30T02:49:32.275752Z",
     "start_time": "2021-06-30T02:49:32.270493Z"
    }
   },
   "outputs": [
    {
     "name": "stdout",
     "output_type": "stream",
     "text": [
      " * sqlite://\n",
      "Done.\n"
     ]
    },
    {
     "data": {
      "text/html": [
       "<table>\n",
       "    <thead>\n",
       "        <tr>\n",
       "            <th>ts</th>\n",
       "        </tr>\n",
       "    </thead>\n",
       "    <tbody>\n",
       "        <tr>\n",
       "            <td>2019-11-08 00:00</td>\n",
       "        </tr>\n",
       "        <tr>\n",
       "            <td>2019-11-08 01:00</td>\n",
       "        </tr>\n",
       "        <tr>\n",
       "            <td>2019-11-08 02:00</td>\n",
       "        </tr>\n",
       "    </tbody>\n",
       "</table>"
      ],
      "text/plain": [
       "[('2019-11-08 00:00',), ('2019-11-08 01:00',), ('2019-11-08 02:00',)]"
      ]
     },
     "execution_count": 142,
     "metadata": {},
     "output_type": "execute_result"
    }
   ],
   "source": [
    "%%sql\n",
    "SELECT DISTINCT \n",
    "    ts\n",
    "FROM \n",
    "    salesNew\n",
    "WHERE \n",
    "    ts IS NOT NULL;"
   ]
  },
  {
   "cell_type": "code",
   "execution_count": 143,
   "metadata": {
    "ExecuteTime": {
     "end_time": "2021-06-30T02:49:32.279084Z",
     "start_time": "2021-06-30T02:49:32.277457Z"
    }
   },
   "outputs": [],
   "source": [
    "#49 -- DISTINCT clause cont'd -- let's include more columns in our query \n",
    "\n",
    "#the result shows one row missing (with price 1.5), but the rest were not total duplicates considering the multiple\n",
    "#columns, so they are showing even though within individual columns there are some duplicate entries"
   ]
  },
  {
   "cell_type": "code",
   "execution_count": 144,
   "metadata": {
    "ExecuteTime": {
     "end_time": "2021-06-30T02:49:32.286497Z",
     "start_time": "2021-06-30T02:49:32.280791Z"
    }
   },
   "outputs": [
    {
     "name": "stdout",
     "output_type": "stream",
     "text": [
      " * sqlite://\n",
      "Done.\n"
     ]
    },
    {
     "data": {
      "text/html": [
       "<table>\n",
       "    <thead>\n",
       "        <tr>\n",
       "            <th>ts</th>\n",
       "            <th>price</th>\n",
       "            <th>product</th>\n",
       "            <th>completed</th>\n",
       "        </tr>\n",
       "    </thead>\n",
       "    <tbody>\n",
       "        <tr>\n",
       "            <td>2019-11-08 00:00</td>\n",
       "            <td>1.1</td>\n",
       "            <td>0</td>\n",
       "            <td>1</td>\n",
       "        </tr>\n",
       "        <tr>\n",
       "            <td>2019-11-08 01:00</td>\n",
       "            <td>1.2</td>\n",
       "            <td>0</td>\n",
       "            <td>0</td>\n",
       "        </tr>\n",
       "        <tr>\n",
       "            <td>2019-11-08 01:00</td>\n",
       "            <td>1.3</td>\n",
       "            <td>0</td>\n",
       "            <td>1</td>\n",
       "        </tr>\n",
       "        <tr>\n",
       "            <td>2019-11-08 01:00</td>\n",
       "            <td>1.4</td>\n",
       "            <td>1</td>\n",
       "            <td>0</td>\n",
       "        </tr>\n",
       "        <tr>\n",
       "            <td>2019-11-08 02:00</td>\n",
       "            <td>1.5</td>\n",
       "            <td>1</td>\n",
       "            <td>1</td>\n",
       "        </tr>\n",
       "        <tr>\n",
       "            <td>None</td>\n",
       "            <td>None</td>\n",
       "            <td>None</td>\n",
       "            <td>None</td>\n",
       "        </tr>\n",
       "    </tbody>\n",
       "</table>"
      ],
      "text/plain": [
       "[('2019-11-08 00:00', 1.1, 0, 1),\n",
       " ('2019-11-08 01:00', 1.2, 0, 0),\n",
       " ('2019-11-08 01:00', 1.3, 0, 1),\n",
       " ('2019-11-08 01:00', 1.4, 1, 0),\n",
       " ('2019-11-08 02:00', 1.5, 1, 1),\n",
       " (None, None, None, None)]"
      ]
     },
     "execution_count": 144,
     "metadata": {},
     "output_type": "execute_result"
    }
   ],
   "source": [
    "%%sql\n",
    "SELECT DISTINCT \n",
    "    ts,\n",
    "    price,\n",
    "    product,\n",
    "    completed\n",
    "FROM \n",
    "    salesNew;"
   ]
  },
  {
   "cell_type": "code",
   "execution_count": 145,
   "metadata": {
    "ExecuteTime": {
     "end_time": "2021-06-30T02:49:32.293439Z",
     "start_time": "2021-06-30T02:49:32.288083Z"
    }
   },
   "outputs": [
    {
     "name": "stdout",
     "output_type": "stream",
     "text": [
      " * sqlite://\n",
      "Done.\n"
     ]
    },
    {
     "data": {
      "text/html": [
       "<table>\n",
       "    <thead>\n",
       "        <tr>\n",
       "            <th>ts</th>\n",
       "            <th>product</th>\n",
       "        </tr>\n",
       "    </thead>\n",
       "    <tbody>\n",
       "        <tr>\n",
       "            <td>2019-11-08 00:00</td>\n",
       "            <td>0</td>\n",
       "        </tr>\n",
       "        <tr>\n",
       "            <td>2019-11-08 01:00</td>\n",
       "            <td>0</td>\n",
       "        </tr>\n",
       "        <tr>\n",
       "            <td>2019-11-08 01:00</td>\n",
       "            <td>1</td>\n",
       "        </tr>\n",
       "        <tr>\n",
       "            <td>2019-11-08 02:00</td>\n",
       "            <td>1</td>\n",
       "        </tr>\n",
       "    </tbody>\n",
       "</table>"
      ],
      "text/plain": [
       "[('2019-11-08 00:00', 0),\n",
       " ('2019-11-08 01:00', 0),\n",
       " ('2019-11-08 01:00', 1),\n",
       " ('2019-11-08 02:00', 1)]"
      ]
     },
     "execution_count": 145,
     "metadata": {},
     "output_type": "execute_result"
    }
   ],
   "source": [
    "%%sql \n",
    "SELECT DISTINCT \n",
    "    ts,\n",
    "    product\n",
    "FROM salesNew\n",
    "WHERE\n",
    "ts IS NOT NULL;"
   ]
  },
  {
   "cell_type": "code",
   "execution_count": 146,
   "metadata": {
    "ExecuteTime": {
     "end_time": "2021-06-30T02:49:32.296926Z",
     "start_time": "2021-06-30T02:49:32.295167Z"
    }
   },
   "outputs": [],
   "source": [
    "#50 -- EXISTS operator -- return a result based on the existence of specified contents\n",
    "\n",
    "#in our example we are returning set of results where entries in the first column of salesNew are equal to the entries\n",
    "# of the first column of soldRecords (if such matches exist)"
   ]
  },
  {
   "cell_type": "code",
   "execution_count": 147,
   "metadata": {
    "ExecuteTime": {
     "end_time": "2021-06-30T02:49:32.303977Z",
     "start_time": "2021-06-30T02:49:32.298460Z"
    }
   },
   "outputs": [
    {
     "name": "stdout",
     "output_type": "stream",
     "text": [
      " * sqlite://\n",
      "Done.\n"
     ]
    },
    {
     "data": {
      "text/html": [
       "<table>\n",
       "    <thead>\n",
       "        <tr>\n",
       "            <th>keyNew</th>\n",
       "            <th>completed</th>\n",
       "            <th>product</th>\n",
       "            <th>price</th>\n",
       "        </tr>\n",
       "    </thead>\n",
       "    <tbody>\n",
       "        <tr>\n",
       "            <td>sale_1</td>\n",
       "            <td>1</td>\n",
       "            <td>0</td>\n",
       "            <td>1.1</td>\n",
       "        </tr>\n",
       "        <tr>\n",
       "            <td>sale_3</td>\n",
       "            <td>1</td>\n",
       "            <td>0</td>\n",
       "            <td>1.3</td>\n",
       "        </tr>\n",
       "        <tr>\n",
       "            <td>sale_5</td>\n",
       "            <td>1</td>\n",
       "            <td>1</td>\n",
       "            <td>1.5</td>\n",
       "        </tr>\n",
       "    </tbody>\n",
       "</table>"
      ],
      "text/plain": [
       "[('sale_1', 1, 0, 1.1), ('sale_3', 1, 0, 1.3), ('sale_5', 1, 1, 1.5)]"
      ]
     },
     "execution_count": 147,
     "metadata": {},
     "output_type": "execute_result"
    }
   ],
   "source": [
    "%%sql\n",
    "SELECT \n",
    "    keyNew, \n",
    "    completed, \n",
    "    product, \n",
    "    price\n",
    "FROM \n",
    "    salesNew sn\n",
    "WHERE\n",
    "     EXISTS (\n",
    "        SELECT\n",
    "            1\n",
    "        FROM \n",
    "            soldRecords\n",
    "        WHERE\n",
    "            keyNewRecords = sn.keyNew\n",
    "    )\n",
    "ORDER BY keyNew;"
   ]
  },
  {
   "cell_type": "code",
   "execution_count": 148,
   "metadata": {
    "ExecuteTime": {
     "end_time": "2021-06-30T02:49:32.307291Z",
     "start_time": "2021-06-30T02:49:32.305421Z"
    }
   },
   "outputs": [],
   "source": [
    "#51 -- NOT EXISTS operator -- return a result based on the non-existence of specified contents\n",
    "\n",
    "#in our example we are returning set of results where entries in the first column of salesNew are not equal to the \n",
    "# entries of the first column of soldRecords (if such matches exist)"
   ]
  },
  {
   "cell_type": "code",
   "execution_count": 149,
   "metadata": {
    "ExecuteTime": {
     "end_time": "2021-06-30T02:49:32.314798Z",
     "start_time": "2021-06-30T02:49:32.308907Z"
    }
   },
   "outputs": [
    {
     "name": "stdout",
     "output_type": "stream",
     "text": [
      " * sqlite://\n",
      "Done.\n"
     ]
    },
    {
     "data": {
      "text/html": [
       "<table>\n",
       "    <thead>\n",
       "        <tr>\n",
       "            <th>keyNew</th>\n",
       "            <th>completed</th>\n",
       "            <th>product</th>\n",
       "            <th>price</th>\n",
       "        </tr>\n",
       "    </thead>\n",
       "    <tbody>\n",
       "        <tr>\n",
       "            <td>None</td>\n",
       "            <td>None</td>\n",
       "            <td>None</td>\n",
       "            <td>None</td>\n",
       "        </tr>\n",
       "        <tr>\n",
       "            <td>sale_2</td>\n",
       "            <td>0</td>\n",
       "            <td>0</td>\n",
       "            <td>1.2</td>\n",
       "        </tr>\n",
       "        <tr>\n",
       "            <td>sale_4</td>\n",
       "            <td>0</td>\n",
       "            <td>1</td>\n",
       "            <td>1.4</td>\n",
       "        </tr>\n",
       "        <tr>\n",
       "            <td>sale_6</td>\n",
       "            <td>1</td>\n",
       "            <td>1</td>\n",
       "            <td>1.5</td>\n",
       "        </tr>\n",
       "    </tbody>\n",
       "</table>"
      ],
      "text/plain": [
       "[(None, None, None, None),\n",
       " ('sale_2', 0, 0, 1.2),\n",
       " ('sale_4', 0, 1, 1.4),\n",
       " ('sale_6', 1, 1, 1.5)]"
      ]
     },
     "execution_count": 149,
     "metadata": {},
     "output_type": "execute_result"
    }
   ],
   "source": [
    "%%sql\n",
    "SELECT \n",
    "    keyNew, \n",
    "    completed, \n",
    "    product, \n",
    "    price\n",
    "FROM \n",
    "    salesNew sn\n",
    "WHERE\n",
    "     NOT EXISTS (\n",
    "        SELECT\n",
    "            1\n",
    "        FROM \n",
    "            soldRecords\n",
    "        WHERE\n",
    "            keyNewRecords = sn.keyNew\n",
    "    )\n",
    "ORDER BY keyNew;"
   ]
  },
  {
   "cell_type": "code",
   "execution_count": 150,
   "metadata": {
    "ExecuteTime": {
     "end_time": "2021-06-30T02:49:32.319149Z",
     "start_time": "2021-06-30T02:49:32.317224Z"
    }
   },
   "outputs": [],
   "source": [
    "#52 -- EXISTS operator cont'd -- example where our search doesn't match anything\n",
    "\n",
    "#observe that the below query returns empty search result, because the search doesn't exist"
   ]
  },
  {
   "cell_type": "code",
   "execution_count": 151,
   "metadata": {
    "ExecuteTime": {
     "end_time": "2021-06-30T02:49:32.328616Z",
     "start_time": "2021-06-30T02:49:32.321823Z"
    }
   },
   "outputs": [
    {
     "name": "stdout",
     "output_type": "stream",
     "text": [
      " * sqlite://\n",
      "Done.\n"
     ]
    },
    {
     "data": {
      "text/html": [
       "<table>\n",
       "    <thead>\n",
       "        <tr>\n",
       "            <th>keyNew</th>\n",
       "            <th>completed</th>\n",
       "            <th>product</th>\n",
       "            <th>price</th>\n",
       "        </tr>\n",
       "    </thead>\n",
       "    <tbody>\n",
       "    </tbody>\n",
       "</table>"
      ],
      "text/plain": [
       "[]"
      ]
     },
     "execution_count": 151,
     "metadata": {},
     "output_type": "execute_result"
    }
   ],
   "source": [
    "%%sql\n",
    "SELECT \n",
    "    keyNew, \n",
    "    completed, \n",
    "    product, \n",
    "    price\n",
    "FROM \n",
    "    salesNew sn\n",
    "WHERE\n",
    "    EXISTS (\n",
    "        SELECT\n",
    "            1\n",
    "        FROM \n",
    "            soldRecords\n",
    "        WHERE\n",
    "            keyNewRecords = \"entry that isn't there\"\n",
    "    )\n",
    "ORDER BY keyNew;"
   ]
  },
  {
   "cell_type": "code",
   "execution_count": 152,
   "metadata": {
    "ExecuteTime": {
     "end_time": "2021-06-30T02:49:32.335800Z",
     "start_time": "2021-06-30T02:49:32.331119Z"
    }
   },
   "outputs": [
    {
     "name": "stdout",
     "output_type": "stream",
     "text": [
      " * sqlite://\n",
      "Done.\n"
     ]
    },
    {
     "data": {
      "text/html": [
       "<table>\n",
       "    <thead>\n",
       "        <tr>\n",
       "            <th>keyNewRecords</th>\n",
       "            <th>numberSold</th>\n",
       "        </tr>\n",
       "    </thead>\n",
       "    <tbody>\n",
       "        <tr>\n",
       "            <td>sale_1</td>\n",
       "            <td>11</td>\n",
       "        </tr>\n",
       "        <tr>\n",
       "            <td>sale_22</td>\n",
       "            <td>22</td>\n",
       "        </tr>\n",
       "        <tr>\n",
       "            <td>sale_3</td>\n",
       "            <td>33</td>\n",
       "        </tr>\n",
       "        <tr>\n",
       "            <td>sale_44</td>\n",
       "            <td>44</td>\n",
       "        </tr>\n",
       "        <tr>\n",
       "            <td>sale_5</td>\n",
       "            <td>55</td>\n",
       "        </tr>\n",
       "        <tr>\n",
       "            <td>sale_66</td>\n",
       "            <td>66</td>\n",
       "        </tr>\n",
       "    </tbody>\n",
       "</table>"
      ],
      "text/plain": [
       "[('sale_1', 11),\n",
       " ('sale_22', 22),\n",
       " ('sale_3', 33),\n",
       " ('sale_44', 44),\n",
       " ('sale_5', 55),\n",
       " ('sale_66', 66)]"
      ]
     },
     "execution_count": 152,
     "metadata": {},
     "output_type": "execute_result"
    }
   ],
   "source": [
    "%%sql\n",
    "SELECT * FROM soldRecords;"
   ]
  },
  {
   "cell_type": "code",
   "execution_count": 153,
   "metadata": {
    "ExecuteTime": {
     "end_time": "2021-06-30T02:49:32.340139Z",
     "start_time": "2021-06-30T02:49:32.337573Z"
    }
   },
   "outputs": [],
   "source": [
    "#53 -- difference between JOIN and EXISTS -- \n",
    "# The main difference is that JOIN actually returns data\n",
    "# while EXISTS simply checks for it's existence (and can stop searching when found)\n",
    "# the results are the same, but with EXISTS we can \n",
    "# get away with using less resources"
   ]
  },
  {
   "cell_type": "code",
   "execution_count": 154,
   "metadata": {
    "ExecuteTime": {
     "end_time": "2021-06-30T02:49:32.347612Z",
     "start_time": "2021-06-30T02:49:32.342273Z"
    }
   },
   "outputs": [
    {
     "name": "stdout",
     "output_type": "stream",
     "text": [
      " * sqlite://\n",
      "Done.\n"
     ]
    },
    {
     "data": {
      "text/html": [
       "<table>\n",
       "    <thead>\n",
       "        <tr>\n",
       "            <th>keyNew</th>\n",
       "            <th>completed</th>\n",
       "            <th>product</th>\n",
       "            <th>price</th>\n",
       "        </tr>\n",
       "    </thead>\n",
       "    <tbody>\n",
       "        <tr>\n",
       "            <td>sale_1</td>\n",
       "            <td>1</td>\n",
       "            <td>0</td>\n",
       "            <td>1.1</td>\n",
       "        </tr>\n",
       "        <tr>\n",
       "            <td>sale_3</td>\n",
       "            <td>1</td>\n",
       "            <td>0</td>\n",
       "            <td>1.3</td>\n",
       "        </tr>\n",
       "        <tr>\n",
       "            <td>sale_5</td>\n",
       "            <td>1</td>\n",
       "            <td>1</td>\n",
       "            <td>1.5</td>\n",
       "        </tr>\n",
       "    </tbody>\n",
       "</table>"
      ],
      "text/plain": [
       "[('sale_1', 1, 0, 1.1), ('sale_3', 1, 0, 1.3), ('sale_5', 1, 1, 1.5)]"
      ]
     },
     "execution_count": 154,
     "metadata": {},
     "output_type": "execute_result"
    }
   ],
   "source": [
    "%%sql\n",
    "SELECT \n",
    "    keyNew, \n",
    "    completed, \n",
    "    product, \n",
    "    price \n",
    "FROM \n",
    "    salesNew sn\n",
    "INNER JOIN soldRecords sr\n",
    "    ON sn.keyNew = sr.keyNewRecords;"
   ]
  },
  {
   "cell_type": "code",
   "execution_count": 155,
   "metadata": {
    "ExecuteTime": {
     "end_time": "2021-06-30T02:49:32.355577Z",
     "start_time": "2021-06-30T02:49:32.349406Z"
    }
   },
   "outputs": [
    {
     "name": "stdout",
     "output_type": "stream",
     "text": [
      " * sqlite://\n",
      "Done.\n"
     ]
    },
    {
     "data": {
      "text/html": [
       "<table>\n",
       "    <thead>\n",
       "        <tr>\n",
       "            <th>keyNew</th>\n",
       "            <th>completed</th>\n",
       "            <th>product</th>\n",
       "            <th>price</th>\n",
       "        </tr>\n",
       "    </thead>\n",
       "    <tbody>\n",
       "        <tr>\n",
       "            <td>sale_1</td>\n",
       "            <td>1</td>\n",
       "            <td>0</td>\n",
       "            <td>1.1</td>\n",
       "        </tr>\n",
       "        <tr>\n",
       "            <td>sale_3</td>\n",
       "            <td>1</td>\n",
       "            <td>0</td>\n",
       "            <td>1.3</td>\n",
       "        </tr>\n",
       "        <tr>\n",
       "            <td>sale_5</td>\n",
       "            <td>1</td>\n",
       "            <td>1</td>\n",
       "            <td>1.5</td>\n",
       "        </tr>\n",
       "    </tbody>\n",
       "</table>"
      ],
      "text/plain": [
       "[('sale_1', 1, 0, 1.1), ('sale_3', 1, 0, 1.3), ('sale_5', 1, 1, 1.5)]"
      ]
     },
     "execution_count": 155,
     "metadata": {},
     "output_type": "execute_result"
    }
   ],
   "source": [
    "%%sql\n",
    "SELECT \n",
    "    keyNew, \n",
    "    completed, \n",
    "    product, \n",
    "    price\n",
    "FROM \n",
    "    salesNew sn\n",
    "WHERE\n",
    "     EXISTS (\n",
    "        SELECT\n",
    "            1\n",
    "        FROM \n",
    "            soldRecords\n",
    "        WHERE\n",
    "            keyNewRecords = sn.keyNew\n",
    "    )\n",
    "ORDER BY keyNew;"
   ]
  },
  {
   "cell_type": "markdown",
   "metadata": {},
   "source": [
    "### ------------------------------------------------------\n",
    "### ------------------------------------------------------\n",
    "### ------------------------------------------------------\n",
    "### \n",
    "## How to Install MySQL on Mac"
   ]
  },
  {
   "cell_type": "markdown",
   "metadata": {},
   "source": [
    "#### STEP 1 - install mysql-connector\n",
    "```pip install mysql-connector-python```\n",
    "\n",
    "#### STEP 2 - try this code (fill in correct host, ...)\n",
    "```python\n",
    "import mysql.connector as connection\n",
    "import pandas as pd\n",
    "    \n",
    "try:\n",
    "    dbh = connection.connect(\n",
    "        host=\"localhost\", \n",
    "        database='nameDB',\n",
    "        user=\"root\", \n",
    "        passwd=\"yourpasswd\",\n",
    "        use_pure=True)\n",
    "    sql = \"Select * from test;\"\n",
    "    df = pd.read_sql(sql, dbh)\n",
    "    dbh.close() #close the connection\n",
    "except Exception as e:\n",
    "    dbh.close()\n",
    "    print(str(e))\n",
    "```\n",
    "\n",
    "Additional info: \n",
    "<br>You can also try to download a GUI to work with MySQL.\n",
    "<br>There are many to choose from, for example:\n",
    "- https://dev.mysql.com/downloads/workbench/\n",
    "- https://dev.to/dailydevtips1/top-5-mysql-clients-for-mac-3j0p\n",
    "- https://www.quora.com/What-is-the-best-SQL-query-tool-for-a-Mac\n",
    "- etc."
   ]
  },
  {
   "cell_type": "markdown",
   "metadata": {},
   "source": [
    "## How to Install PostgreSQL on Mac\n",
    "\n",
    "#### STEP 1 - install psycopg2 library\n",
    "```pip install psycopg2```\n",
    "#### STEP 2 - download Postgres App from https://postgresapp.com/ \n",
    "Install, click initialize to create a new server\n",
    "\n",
    "#### STEP 3 - Configure your $PATH\n",
    "Run the following code in terminal:\n",
    "```sudo mkdir -p /etc/paths.d && echo /Applications/Postgres.app/Contents/Versions/latest/bin | sudo tee /etc/paths.d/postgresapp```"
   ]
  },
  {
   "cell_type": "markdown",
   "metadata": {},
   "source": [
    "## How to Install Microsoft SQL Server on Mac\n",
    "\n",
    "#### STEP 1 - download and install Docker Desktop for Mac\n",
    "https://hub.docker.com/editions/community/docker-ce-desktop-mac?tab=description\n",
    "<br>Launch Docker\n",
    "\n",
    "#### STEP 2 - download SQL SERVER - run in terminal:\n",
    "```sudo docker pull mcr.microsoft.com/mssql/server:2019-latest```\n",
    "\n",
    "Note: if you downloaded a different Docker image, you can replace \n",
    "<br><b>mcr.microsoft.com/mssql/server:2019-latest</b>\n",
    "<br>with the one you downloaded.\n",
    "\n",
    "#### STEP 3 - Launch Docker Image - run in terminal:\n",
    "```#docker run -d --name sql_server_demo -e 'ACCEPT_EULA=Y' -e 'SA_PASSWORD=reallyStrongPwd123' -p 1433:1433 mcr.microsoft.com/mssql/server:2019-latest ```\n",
    "\n",
    "Note: in command above use your own name and password.\n",
    "\n",
    "Note: if you downloaded a different Docker image, you can replace \n",
    "<br><b>mcr.microsoft.com/mssql/server:2019-latest</b>\n",
    "<br>with the one you downloaded.\n",
    "\n",
    "#### STEP 4 - run command to install the sql-cli command line tool:\n",
    "```sudo npm install -g sql-cli```\n",
    "\n",
    "#### STEP 5 - from terminal connect to SQL server using command:\n",
    "```mssql -u myuser -p myuser```\n",
    "\n",
    "#### STEP 6 - run a quick test - see what version of SQL Server you're running:\n",
    "```select @@version```"
   ]
  },
  {
   "cell_type": "raw",
   "metadata": {},
   "source": [
    "Once you have MS SQL Server running locally, \n",
    "you can load sample database, for example\n",
    "AdventureWorks sample databases:\n",
    "  https://docs.microsoft.com/en-us/sql/samples/adventureworks-install-configure?view=sql-server-ver15&tabs=ssms"
   ]
  }
 ],
 "metadata": {
  "kernelspec": {
   "display_name": "Python 3 (ipykernel)",
   "language": "python",
   "name": "python3"
  },
  "language_info": {
   "codemirror_mode": {
    "name": "ipython",
    "version": 3
   },
   "file_extension": ".py",
   "mimetype": "text/x-python",
   "name": "python",
   "nbconvert_exporter": "python",
   "pygments_lexer": "ipython3",
   "version": "3.11.5"
  }
 },
 "nbformat": 4,
 "nbformat_minor": 4
}
