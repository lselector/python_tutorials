{
 "cells": [
  {
   "cell_type": "markdown",
   "metadata": {},
   "source": [
    "### Regression in R\n",
    "\n",
    "https://stats.idre.ucla.edu/r/dae/logit-regression/\n"
   ]
  },
  {
   "cell_type": "code",
   "execution_count": 1,
   "metadata": {},
   "outputs": [],
   "source": [
    "# unility functions\n",
    "printf <- function(...) cat(sprintf(...),\"\\n\")\n",
    "dfcols <- function(...) trimws(dput(names(...))[0])\n",
    "sep    <- function(...) printf(\"%s\",strrep(\"-\",...))"
   ]
  },
  {
   "cell_type": "code",
   "execution_count": 2,
   "metadata": {},
   "outputs": [
    {
     "name": "stdout",
     "output_type": "stream",
     "text": [
      "loading CSV data from ucla.edu \n",
      "---------------------------------------- \n",
      "n_rows  = 400 \n",
      "c(\"admit\", \"gre\", \"gpa\", \"rank\")\n",
      " \n",
      "---------------------------------------- \n"
     ]
    }
   ],
   "source": [
    "# Logit Regression\n",
    "printf(\"loading CSV data from ucla.edu\")\n",
    "df = read.csv(\"https://stats.idre.ucla.edu/stat/data/binary.csv\")\n",
    "sep(40)\n",
    "printf(\"n_rows  = %d\", nrow(df))\n",
    "printf(\"columns = %s\", dfcols(df))\n",
    "sep(40)"
   ]
  },
  {
   "cell_type": "code",
   "execution_count": 3,
   "metadata": {},
   "outputs": [
    {
     "data": {
      "text/plain": [
       "     admit             gre             gpa             rank      \n",
       " Min.   :0.0000   Min.   :220.0   Min.   :2.260   Min.   :1.000  \n",
       " 1st Qu.:0.0000   1st Qu.:520.0   1st Qu.:3.130   1st Qu.:2.000  \n",
       " Median :0.0000   Median :580.0   Median :3.395   Median :2.000  \n",
       " Mean   :0.3175   Mean   :587.7   Mean   :3.390   Mean   :2.485  \n",
       " 3rd Qu.:1.0000   3rd Qu.:660.0   3rd Qu.:3.670   3rd Qu.:3.000  \n",
       " Max.   :1.0000   Max.   :800.0   Max.   :4.000   Max.   :4.000  "
      ]
     },
     "metadata": {},
     "output_type": "display_data"
    }
   ],
   "source": [
    "summary(df)"
   ]
  },
  {
   "cell_type": "code",
   "execution_count": 4,
   "metadata": {},
   "outputs": [
    {
     "data": {
      "text/html": [
       "<style>\n",
       ".dl-inline {width: auto; margin:0; padding: 0}\n",
       ".dl-inline>dt, .dl-inline>dd {float: none; width: auto; display: inline-block}\n",
       ".dl-inline>dt::after {content: \":\\0020\"; padding-right: .5ex}\n",
       ".dl-inline>dt:not(:first-of-type) {padding-left: .5ex}\n",
       "</style><dl class=dl-inline><dt>admit</dt><dd>0.466086732384932</dd><dt>gre</dt><dd>115.516536372238</dd><dt>gpa</dt><dd>0.380566771630384</dd><dt>rank</dt><dd>0.944460169902007</dd></dl>\n"
      ],
      "text/latex": [
       "\\begin{description*}\n",
       "\\item[admit] 0.466086732384932\n",
       "\\item[gre] 115.516536372238\n",
       "\\item[gpa] 0.380566771630384\n",
       "\\item[rank] 0.944460169902007\n",
       "\\end{description*}\n"
      ],
      "text/markdown": [
       "admit\n",
       ":   0.466086732384932gre\n",
       ":   115.516536372238gpa\n",
       ":   0.380566771630384rank\n",
       ":   0.944460169902007\n",
       "\n"
      ],
      "text/plain": [
       "      admit         gre         gpa        rank \n",
       "  0.4660867 115.5165364   0.3805668   0.9444602 "
      ]
     },
     "metadata": {},
     "output_type": "display_data"
    }
   ],
   "source": [
    "# s (simple output) apply function \"sd\" (standard deviation) to each column\n",
    "sapply(df, sd)"
   ]
  },
  {
   "cell_type": "code",
   "execution_count": 5,
   "metadata": {},
   "outputs": [
    {
     "data": {
      "text/plain": [
       "     rank\n",
       "admit  1  2  3  4\n",
       "    0 28 97 93 55\n",
       "    1 33 54 28 12"
      ]
     },
     "metadata": {},
     "output_type": "display_data"
    }
   ],
   "source": [
    "## two-way contingency table of categorical outcome and predictors we want\n",
    "## to make sure there are not 0 cells\n",
    "xtabs(~admit + rank, data = df)"
   ]
  },
  {
   "cell_type": "code",
   "execution_count": 6,
   "metadata": {},
   "outputs": [],
   "source": [
    "# change the copy of the dataframe\n",
    "df2 <- data.frame(df)"
   ]
  },
  {
   "cell_type": "code",
   "execution_count": 7,
   "metadata": {},
   "outputs": [],
   "source": [
    "# encode the \"rank\" column as a factor to use in the model\n",
    "df2$rank <- factor(df2$rank)\n",
    "mylogit <- glm(admit ~ gre + gpa + rank, data = df2, family = \"binomial\")"
   ]
  },
  {
   "cell_type": "code",
   "execution_count": 8,
   "metadata": {},
   "outputs": [
    {
     "data": {
      "text/plain": [
       "\n",
       "Call:\n",
       "glm(formula = admit ~ gre + gpa + rank, family = \"binomial\", \n",
       "    data = df2)\n",
       "\n",
       "Deviance Residuals: \n",
       "    Min       1Q   Median       3Q      Max  \n",
       "-1.6268  -0.8662  -0.6388   1.1490   2.0790  \n",
       "\n",
       "Coefficients:\n",
       "             Estimate Std. Error z value Pr(>|z|)    \n",
       "(Intercept) -3.989979   1.139951  -3.500 0.000465 ***\n",
       "gre          0.002264   0.001094   2.070 0.038465 *  \n",
       "gpa          0.804038   0.331819   2.423 0.015388 *  \n",
       "rank2       -0.675443   0.316490  -2.134 0.032829 *  \n",
       "rank3       -1.340204   0.345306  -3.881 0.000104 ***\n",
       "rank4       -1.551464   0.417832  -3.713 0.000205 ***\n",
       "---\n",
       "Signif. codes:  0 ‘***’ 0.001 ‘**’ 0.01 ‘*’ 0.05 ‘.’ 0.1 ‘ ’ 1\n",
       "\n",
       "(Dispersion parameter for binomial family taken to be 1)\n",
       "\n",
       "    Null deviance: 499.98  on 399  degrees of freedom\n",
       "Residual deviance: 458.52  on 394  degrees of freedom\n",
       "AIC: 470.52\n",
       "\n",
       "Number of Fisher Scoring iterations: 4\n"
      ]
     },
     "metadata": {},
     "output_type": "display_data"
    }
   ],
   "source": [
    "summary(mylogit)"
   ]
  },
  {
   "cell_type": "code",
   "execution_count": null,
   "metadata": {},
   "outputs": [],
   "source": []
  }
 ],
 "metadata": {
  "kernelspec": {
   "display_name": "R",
   "language": "R",
   "name": "ir"
  },
  "language_info": {
   "codemirror_mode": "r",
   "file_extension": ".r",
   "mimetype": "text/x-r-source",
   "name": "R",
   "pygments_lexer": "r",
   "version": "4.1.1"
  }
 },
 "nbformat": 4,
 "nbformat_minor": 2
}
