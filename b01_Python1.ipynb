{
 "cells": [
  {
   "cell_type": "markdown",
   "metadata": {},
   "source": [
    "# Python Test 100\n",
    "## Group 1 Questions 0..22"
   ]
  },
  {
   "cell_type": "markdown",
   "metadata": {},
   "source": [
    "### -------------------- Question 0 --------------------\n",
    "Install Anaconda Python (version 3.7 or later)"
   ]
  },
  {
   "cell_type": "code",
   "execution_count": 1,
   "metadata": {},
   "outputs": [
    {
     "name": "stdout",
     "output_type": "stream",
     "text": [
      "sys.version_info(major=3, minor=9, micro=12, releaselevel='final', serial=0)\n",
      "version 3.9.12\n"
     ]
    }
   ],
   "source": [
    "# Installation - anaconda python:\n",
    "#     - https://www.anaconda.com/products/individual\n",
    "# After installation you can always add modules.\n",
    "# Modules can be added from different channels.\n",
    "#   conda info\n",
    "#   conda config --add channels anaconda\n",
    "#   conda config --add channels conda-forge\n",
    "# You can do periodic updates using these commands:\n",
    "#   conda update conda\n",
    "#   conda update anaconda\n",
    "# -------------------------------------------------------\n",
    "import sys\n",
    "vv = sys.version_info\n",
    "print(vv)\n",
    "print('version ' + '.'.join([str(x) for x in vv[0:3]]))"
   ]
  },
  {
   "cell_type": "markdown",
   "metadata": {},
   "source": [
    "### -------------------- Question 1 --------------------"
   ]
  },
  {
   "cell_type": "markdown",
   "metadata": {},
   "source": [
    "```Write a small python script\n",
    "Create a function mysort(mylist=[], numflag=False)\n",
    "which sorts and returns the list.\n",
    "By default it should sort alphabetically, \n",
    "but if numflag==True, it should sort numerically. \n",
    "In the main execution portion:\n",
    " - create a list\n",
    " - call the function to sort it numerically - print the result\n",
    " - call the function to sort it alphabetically - print the result\n",
    " - print \"DONE\"\n",
    "```"
   ]
  },
  {
   "cell_type": "markdown",
   "metadata": {},
   "source": [
    "#### Answer"
   ]
  },
  {
   "cell_type": "code",
   "execution_count": 2,
   "metadata": {},
   "outputs": [
    {
     "name": "stdout",
     "output_type": "stream",
     "text": [
      "alpha-numeric sort\n",
      "id(aa) = 140190820453056\n",
      "id(aa) = 140190820453056 - sorting leaves array 'in place'\n",
      "id(bb) = 140190820453056 - bb points to same memory\n",
      "aa = ['1', '100', '11', '2', '21', '3', '31']\n",
      "bb = ['1', '100', '11', '2', '21', '3', '31']\n",
      "----------------------------------------\n",
      "numeric sort\n",
      "aa = ['1', '2', '3', '11', '21', '31', '100']\n",
      "bb = ['1', '2', '3', '11', '21', '31', '100']\n",
      "DONE\n"
     ]
    }
   ],
   "source": [
    "def mysort(mylist=None, numflag=False):\n",
    "    if numflag == False:\n",
    "        mylist.sort()\n",
    "    else:\n",
    "        mylist.sort(key=int)\n",
    "    return mylist\n",
    "\n",
    "print(\"alpha-numeric sort\")\n",
    "aa = ['31','21','11','100','1','2','3']\n",
    "print(\"id(aa) =\", id(aa))\n",
    "bb = mysort(aa,False) \n",
    "# aa was sorted \"in place\", so aa == bb\n",
    "print(\"id(aa) =\", id(aa), \"- sorting leaves array 'in place'\")\n",
    "print(\"id(bb) =\", id(bb), \"- bb points to same memory\")\n",
    "print(\"aa =\", aa)     # ['1', '100', '11', '2', '21', '3', '31']\n",
    "print(\"bb =\", bb)     # ['1', '100', '11', '2', '21', '3', '31']\n",
    "\n",
    "print('-'*40)\n",
    "\n",
    "print(\"numeric sort\")\n",
    "aa = ['31','21','11','100','1','2','3']\n",
    "bb = mysort(aa,True)     #  [1,2,3,11,21,31,100]\n",
    "print(\"aa =\", aa)     # ['1', '2', '3', '11', '21', '31', '100']\n",
    "print(\"bb =\", bb)     # ['1', '2', '3', '11', '21', '31', '100']\n",
    "\n",
    "print(\"DONE\")"
   ]
  },
  {
   "cell_type": "markdown",
   "metadata": {},
   "source": [
    "### -------------------- Question 2 --------------------"
   ]
  },
  {
   "cell_type": "markdown",
   "metadata": {},
   "source": [
    "Create a function which reverts a dictionary\n",
    "(keys become values, values become keys)\n"
   ]
  },
  {
   "cell_type": "markdown",
   "metadata": {},
   "source": [
    "#### Answer"
   ]
  },
  {
   "cell_type": "code",
   "execution_count": 3,
   "metadata": {},
   "outputs": [
    {
     "name": "stdout",
     "output_type": "stream",
     "text": [
      "{1: 'k1', 2: 'k2'}\n"
     ]
    }
   ],
   "source": [
    "dd = {}\n",
    "dd['k1'] = 1\n",
    "dd['k2'] = 2\n",
    "\n",
    "def inv_dict(mydict):\n",
    "    mydict = dict(   (mydict[k], k) for k in mydict   )\n",
    "    return mydict\n",
    "\n",
    "inv_dd = inv_dict(dd)\n",
    "print(inv_dd)"
   ]
  },
  {
   "cell_type": "markdown",
   "metadata": {},
   "source": [
    "### -------------------- Question 3 --------------------"
   ]
  },
  {
   "cell_type": "markdown",
   "metadata": {},
   "source": [
    " - How do you convert between int, float, str?\n",
    " - What is the difference between str and string ?\n"
   ]
  },
  {
   "cell_type": "markdown",
   "metadata": {},
   "source": [
    "#### Answer"
   ]
  },
  {
   "cell_type": "code",
   "execution_count": 4,
   "metadata": {},
   "outputs": [
    {
     "name": "stdout",
     "output_type": "stream",
     "text": [
      "3 , 2.2   <- these are an int and float\n",
      "aaa 1.1 2 <- this is one string\n"
     ]
    }
   ],
   "source": [
    "# string into nubmers:\n",
    "aa = 1 + int('2');\n",
    "bb = 1.1 + float('1.1');\n",
    "print(aa,',',bb, '  <- these are an int and float')\n",
    "\n",
    "# number to string\n",
    "ss = 'aaa ' + str(1.1) + ' ' + str(2) + ' <- this is one string'\n",
    "print(ss)\n",
    "\n",
    "# \"str\" is a built-in class with many string functions \n",
    "#       available for any string object.\n",
    "#       str.upper(), str.strip(), etc.\n",
    "\n",
    "# \"string\" is a standard module with some more functions\n",
    "#       you have to import it to use it:\n",
    "#\n",
    "# import string\n",
    "# str.<TAB>\n",
    "# string.<TAB>"
   ]
  },
  {
   "cell_type": "markdown",
   "metadata": {},
   "source": [
    "### -------------------- Question 4 --------------------"
   ]
  },
  {
   "cell_type": "markdown",
   "metadata": {},
   "source": [
    "- Make a copy of an array \n",
    "- Make a copy of a dict\n",
    "- Use id() function to prove that they are copies\n"
   ]
  },
  {
   "cell_type": "markdown",
   "metadata": {},
   "source": [
    "#### Answer"
   ]
  },
  {
   "cell_type": "code",
   "execution_count": 5,
   "metadata": {},
   "outputs": [
    {
     "name": "stdout",
     "output_type": "stream",
     "text": [
      "id(aa) = 140191409307584\n",
      "id(bb) = 140191409307584 - bb points to same address as 'aa'\n",
      "id(cc) = 140191409267008 - cc has different address\n",
      "id(dd) = 140191409307456 - dd has different address\n",
      "----------------------------------------\n",
      "id(dd) = 140191409307712\n",
      "id(ee) = 140191409307712 - ee points to same address as 'dd'\n",
      "id(ff) = 140191409324992 - ff has different address\n"
     ]
    }
   ],
   "source": [
    "# list\n",
    "import copy\n",
    "aa = [1,2,3]\n",
    "bb = aa \n",
    "cc = copy.copy(aa)\n",
    "dd = aa[:]\n",
    "print(\"id(aa) =\", id(aa))\n",
    "print(\"id(bb) =\", id(bb), \"- bb points to same address as 'aa'\")\n",
    "print(\"id(cc) =\", id(cc), \"- cc has different address\")\n",
    "print(\"id(dd) =\", id(dd), \"- dd has different address\")\n",
    "\n",
    "print('-'*40)\n",
    "# dict\n",
    "dd={'c1': 'v1', 'c2': 'v2', 'c3': 'v3'}\n",
    "ee = dd\n",
    "ff = dd.copy()\n",
    "print(\"id(dd) =\", id(dd))\n",
    "print(\"id(ee) =\", id(ee), \"- ee points to same address as 'dd'\")\n",
    "print(\"id(ff) =\", id(ff), \"- ff has different address\")"
   ]
  },
  {
   "cell_type": "markdown",
   "metadata": {},
   "source": [
    "### -------------------- Question 5 --------------------"
   ]
  },
  {
   "cell_type": "markdown",
   "metadata": {},
   "source": [
    "Given 2 dictionaries - find common keys.\n",
    "<br>Provide 2 solutions: using sets or looping through keys\n"
   ]
  },
  {
   "cell_type": "markdown",
   "metadata": {},
   "source": [
    "#### Answer"
   ]
  },
  {
   "cell_type": "code",
   "execution_count": 6,
   "metadata": {},
   "outputs": [
    {
     "name": "stdout",
     "output_type": "stream",
     "text": [
      "['a', 'b']\n",
      "----------------------------------------\n",
      "['a', 'b']\n"
     ]
    }
   ],
   "source": [
    "d1 = {'a': 1, 'c': 3, 'b': 2}\n",
    "d2 = {'a': 1, 'b': 2}\n",
    "\n",
    "# using sets:\n",
    "common_keys = list(set(d1) & set(d2))\n",
    "print(common_keys)\n",
    "print('-'*40)\n",
    "\n",
    "# using for-loop\n",
    "common_keys1 = []\n",
    "for kk in d1:\n",
    "    if kk in d2:\n",
    "        common_keys1.append(kk)\n",
    "\n",
    "print(common_keys1)"
   ]
  },
  {
   "cell_type": "markdown",
   "metadata": {},
   "source": [
    "### -------------------- Question 6 --------------------"
   ]
  },
  {
   "cell_type": "markdown",
   "metadata": {},
   "source": [
    "Remove duplicates from a list"
   ]
  },
  {
   "cell_type": "markdown",
   "metadata": {},
   "source": [
    "#### Answer"
   ]
  },
  {
   "cell_type": "code",
   "execution_count": 7,
   "metadata": {},
   "outputs": [
    {
     "name": "stdout",
     "output_type": "stream",
     "text": [
      "[1, 2, 3, 4, 5, 6, 7]\n"
     ]
    }
   ],
   "source": [
    "aa = [1,2,3,4,5,4,3,6,3,2,7]\n",
    "bb=list(set(aa))\n",
    "print(bb)"
   ]
  },
  {
   "cell_type": "markdown",
   "metadata": {},
   "source": [
    "### -------------------- Question 7 --------------------"
   ]
  },
  {
   "cell_type": "markdown",
   "metadata": {},
   "source": [
    "Open a text file, read it, print, close it"
   ]
  },
  {
   "cell_type": "markdown",
   "metadata": {},
   "source": [
    "#### Answer"
   ]
  },
  {
   "cell_type": "code",
   "execution_count": 8,
   "metadata": {},
   "outputs": [
    {
     "name": "stdout",
     "output_type": "stream",
     "text": [
      "wrote several lines to file 'junk.txt'\n",
      "----------------------------------------\n",
      "reading whole file in one gulp\n",
      "400\n",
      "502\n",
      "503\n",
      "604\n",
      "705\n",
      "\n",
      "----------------------------------------\n",
      "reading line by line more accurately\n",
      ">>>400<<<\n",
      ">>>502<<<\n",
      ">>>503<<<\n",
      ">>>604<<<\n",
      ">>>705<<<\n",
      "----------------------------------------\n",
      "reading line using 'with ...' syntax\n",
      ">>>400<<<\n",
      ">>>502<<<\n",
      ">>>503<<<\n",
      ">>>604<<<\n",
      ">>>705<<<\n"
     ]
    }
   ],
   "source": [
    "fname = 'junk.txt'\n",
    "# first write something into a file\n",
    "aa = [400,502,503,604,705]\n",
    "fh = open(fname, 'w')\n",
    "for ii in aa:\n",
    "    fh.write(\"%d\\n\" % ii)\n",
    "fh.close()\n",
    "print(\"wrote several lines to file 'junk.txt'\")\n",
    "\n",
    "# -------------------------------\n",
    "print('-'*40)\n",
    "print(\"reading whole file in one gulp\")\n",
    "fh = open(fname,'r')\n",
    "txt  = fh.read() # read the whole file into a variable\n",
    "fh.close()\n",
    "lines = txt.split('\\n')\n",
    "for line in lines:\n",
    "    print(line)\n",
    "\n",
    "# or\n",
    "\n",
    "# -------------------------------\n",
    "print('-'*40)\n",
    "print(\"reading line by line more accurately\")\n",
    "for line in open(fname, 'r'):\n",
    "    line = line.rstrip() # remove \"\\n\" at the end\n",
    "    print(\">>>\" + line + \"<<<\")\n",
    "\n",
    "# or\n",
    "\n",
    "# -------------------------------\n",
    "print('-'*40)\n",
    "print(\"reading line using 'with ...' syntax\")\n",
    "with open(fname) as fh:\n",
    "    for line in fh:\n",
    "        line = line.rstrip() # remove \"\\n\" at the end\n",
    "        print(\">>>\" + line + \"<<<\")\n",
    "\n",
    "# Note:\n",
    "# Looks like in both previous cases\n",
    "# the file will be closed automatically.\n",
    "# http://stackoverflow.com/questions/1478697/for-line-in-openfilename"
   ]
  },
  {
   "cell_type": "markdown",
   "metadata": {},
   "source": [
    "### -------------------- Question 8 --------------------"
   ]
  },
  {
   "cell_type": "markdown",
   "metadata": {},
   "source": [
    "Write a list to a file (one element per line), close the file"
   ]
  },
  {
   "cell_type": "markdown",
   "metadata": {},
   "source": [
    "#### Answer"
   ]
  },
  {
   "cell_type": "code",
   "execution_count": 9,
   "metadata": {},
   "outputs": [
    {
     "name": "stdout",
     "output_type": "stream",
     "text": [
      "wrote several lines to file 'junk.txt'\n"
     ]
    }
   ],
   "source": [
    "fname = 'junk.txt'\n",
    "# first write something into a file\n",
    "aa = [400,502,503,604,705]\n",
    "fh = open(fname, 'w')\n",
    "for ii in aa:\n",
    "    fh.write(\"%d\\n\" % ii)\n",
    "fh.close()\n",
    "print(\"wrote several lines to file 'junk.txt'\")"
   ]
  },
  {
   "cell_type": "markdown",
   "metadata": {},
   "source": [
    "### -------------------- Question 9 --------------------"
   ]
  },
  {
   "cell_type": "markdown",
   "metadata": {},
   "source": [
    "Use glob.glob() to get a list of certain files \n",
    "in a directory using a pattern\n"
   ]
  },
  {
   "cell_type": "markdown",
   "metadata": {},
   "source": [
    "#### Answer"
   ]
  },
  {
   "cell_type": "code",
   "execution_count": 10,
   "metadata": {},
   "outputs": [
    {
     "name": "stdout",
     "output_type": "stream",
     "text": [
      "['b04_Python4.ipynb', 'b05_Python5_colored_text.ipynb', 'c07_Pandas7_Pyvot_Table.ipynb', 'c04_Pandas_Data_Manip_Rotten_Tomatoes.ipynb', 's01_SQL_Tutorial.ipynb', 'Untitled.ipynb', 'b03_Python3.ipynb', 'd05_plotnine_ggplot2.ipynb', 'R_tutorial.ipynb', 'a02_Jupyter2_Shortcuts_etc.ipynb', 'd03_Matplotlib_ChartBars.ipynb', 'e02_PySpark2.ipynb', 'e01_PySpark1.ipynb', 'y01_yaml.ipynb', 'c06_Pandas6_Date_Time.ipynb', 'd06_Plotly1.ipynb', 'a01_Jupyter1_Overview.ipynb', 'b01_Python1.ipynb', 'd02_Matplotlib_3D.ipynb', 'c01_Pandas1.ipynb', 'd01_Matplotlib.ipynb', 'b06_Python6_f_string_format.ipynb', 'c03_Pandas3_SettingwithCopyWarning.ipynb', 'c05_Pandas5_Features_Cleaning.ipynb', 'd04_animation.ipynb', 'd06_Plotly2.ipynb', 'c02_Pandas2.ipynb', 'R_Regression.ipynb', 's03_mysql_SQL_questions1.ipynb', 'b02_Python2.ipynb']\n",
      "['./c01_Pandas1.ipynb', './c02_Pandas2.ipynb']\n"
     ]
    }
   ],
   "source": [
    "import glob\n",
    "flist1 = glob.glob('*.ipynb')\n",
    "print(flist1)\n",
    "flist2 = glob.glob('./*Pandas[0-9].*')\n",
    "print(flist2)"
   ]
  },
  {
   "cell_type": "markdown",
   "metadata": {},
   "source": [
    "### -------------------- Question 10 --------------------"
   ]
  },
  {
   "cell_type": "markdown",
   "metadata": {},
   "source": [
    "Check if a file exists in a directory"
   ]
  },
  {
   "cell_type": "markdown",
   "metadata": {},
   "source": [
    "#### Answer"
   ]
  },
  {
   "cell_type": "code",
   "execution_count": 11,
   "metadata": {},
   "outputs": [
    {
     "name": "stdout",
     "output_type": "stream",
     "text": [
      "file sample.txt doesn't exist\n",
      "file PyTest3.ipynb doesn't exist\n"
     ]
    }
   ],
   "source": [
    "for fname in ['sample.txt', 'PyTest3.ipynb']:\n",
    "    if not os.path.exists(fname):\n",
    "        print(\"file %s doesn't exist\" % fname)\n",
    "    else:\n",
    "        print(\"file %s exists\" % fname)"
   ]
  },
  {
   "cell_type": "markdown",
   "metadata": {},
   "source": [
    "### -------------------- Question 11 --------------------"
   ]
  },
  {
   "cell_type": "markdown",
   "metadata": {},
   "source": [
    "- How to test the type of the variable (is it an int? float? str?, list? dict? etc.) \n",
    "- How to test type of a column in a DataFrame \n",
    "- How to list types of all columns in a dataFrame\n"
   ]
  },
  {
   "cell_type": "markdown",
   "metadata": {},
   "source": [
    "#### Answer"
   ]
  },
  {
   "cell_type": "code",
   "execution_count": 12,
   "metadata": {},
   "outputs": [
    {
     "name": "stdout",
     "output_type": "stream",
     "text": [
      "          0           1           2           3           4           5           6           7           8           9\n",
      "ii      0.0         1.0         2.0         3.0         4.0         5.0         NaN         7.0         8.0         9.0\n",
      "i1        6           5           4           3           2           1           0          -1          -2          -3\n",
      "i2        6           5           4           4           1           1           0          -1          -2          -3\n",
      "ff      0.0         1.0         2.0         NaN         4.0         5.0         6.0         7.0         8.0         9.0\n",
      "f1      0.0        1.01       2.002      3.0003     4.00004    5.000005    6.000001         7.0         8.0         9.0\n",
      "f2     1.11        2.22        3.33        4.44        5.55        7.77        9.99        0.01       -0.01       -1.11\n",
      "ss       s0          s1           狗          汽车         NaN          s5          s6          s7          s8          s9\n",
      "s1       s0          s1          s2          s2         nan          s5          s6          s7          s8          s9\n",
      "s2     1.11        2.22        3.33        4.44        5.55        7.77        9.99        0.01       -0.01       -1.11\n",
      "bb     True       False        True       False         NaN       False        True         NaN       False        True\n",
      "b1     True       False        True       False        True       False        True        True       False        True\n",
      "xx        0           1           2           3           4           5           6           7           8           9\n",
      "yy  62.0312  111.397827  157.807989  210.287895  259.521119  309.754102  360.262282  409.551271  461.380877  510.393335\n",
      "----------------------------------------\n",
      "float64\n",
      "----------------------------------------\n",
      "ii    float64\n",
      "i1      int64\n",
      "i2      int64\n",
      "ff    float64\n",
      "f1    float64\n",
      "f2    float64\n",
      "ss     object\n",
      "s1     object\n",
      "s2     object\n",
      "bb     object\n",
      "b1       bool\n",
      "xx      int64\n",
      "yy    float64\n",
      "dtype: object\n"
     ]
    }
   ],
   "source": [
    "def print_type(obj):\n",
    "    if type(obj) == int:\n",
    "        print(\"int\")\n",
    "    elif type(obj) == float:\n",
    "        print(\"float\")\n",
    "    elif type(obj) == str:\n",
    "        print(\"str\")\n",
    "    else:\n",
    "        print(\"unknown type\")\n",
    "\n",
    "aa = ddd() # this creates pandas DataFrame\n",
    "print(aa.T)\n",
    "print('-'*40)\n",
    "print(aa.f1.dtype)\n",
    "print('-'*40)\n",
    "print(aa.dtypes)"
   ]
  },
  {
   "cell_type": "markdown",
   "metadata": {},
   "source": [
    "### -------------------- Question 12 --------------------"
   ]
  },
  {
   "cell_type": "markdown",
   "metadata": {},
   "source": [
    "Create a 2-dimensional matrix (as a list of rows,<br>\n",
    "where rows are also lists).<br>\n",
    "Use for loop inside for loop to populate it with some numbers,<br>\n",
    "for example:<br>\n",
    "<br>\n",
    "$\n",
    "\\begin{vmatrix}\n",
    "1 & 2 & 3 \\\\\n",
    "4 & 5 & 6 \\\\\n",
    "7 & 8 & 9 \\\\\n",
    "\\end{vmatrix}\n",
    "$"
   ]
  },
  {
   "cell_type": "markdown",
   "metadata": {},
   "source": [
    "#### Answer"
   ]
  },
  {
   "cell_type": "code",
   "execution_count": 13,
   "metadata": {},
   "outputs": [
    {
     "name": "stdout",
     "output_type": "stream",
     "text": [
      "[[1, 2, 3], [4, 5, 6], [7, 8, 9]]\n"
     ]
    }
   ],
   "source": [
    "matrix = []\n",
    "n = 1\n",
    "for row in range(3):\n",
    "    r=[]\n",
    "    for col in range(3):\n",
    "        r.append(n)\n",
    "        n = n + 1\n",
    "    matrix.append(r)\n",
    "\n",
    "print(matrix)"
   ]
  },
  {
   "cell_type": "markdown",
   "metadata": {},
   "source": [
    "### -------------------- Question 13 --------------------"
   ]
  },
  {
   "cell_type": "markdown",
   "metadata": {},
   "source": [
    "explain the meaning of the following: \n",
    "- sys.exit(0)\n",
    "- return\n",
    "- break\n",
    "- continue\n"
   ]
  },
  {
   "cell_type": "markdown",
   "metadata": {},
   "source": [
    "#### Answer"
   ]
  },
  {
   "cell_type": "code",
   "execution_count": 14,
   "metadata": {},
   "outputs": [],
   "source": [
    "# sys.exit(status) - stop execution and exit\n",
    "#                    (status=0 - success, status=1 - error)\n",
    "# return           - return from a function (can return nothing, \n",
    "#                    or value or object/tuple)\n",
    "# break            - break out of a loop statement\n",
    "# continue         - skip the rest of the statements \n",
    "#                    in the current loop block "
   ]
  },
  {
   "cell_type": "markdown",
   "metadata": {},
   "source": [
    "### -------------------- Question 14 --------------------"
   ]
  },
  {
   "cell_type": "markdown",
   "metadata": {},
   "source": [
    "How do you break out of nested loops?"
   ]
  },
  {
   "cell_type": "markdown",
   "metadata": {},
   "source": [
    "#### Answer"
   ]
  },
  {
   "cell_type": "code",
   "execution_count": 15,
   "metadata": {},
   "outputs": [
    {
     "name": "stdout",
     "output_type": "stream",
     "text": [
      "x = 0\n",
      "    y = 0\n",
      "    y = 1\n",
      "    y = 2\n",
      "x = 0\n",
      "    y = 0\n",
      "    y = 1\n",
      "    y = 2\n",
      "x = 0\n",
      "    y = 0\n",
      "    y = 1\n",
      "    y = 2\n"
     ]
    }
   ],
   "source": [
    "# ---------------------------\n",
    "# 1st method - set a flag\n",
    "\n",
    "break_flag=False\n",
    "for x in range(5):\n",
    "    print(\"x =\", x)\n",
    "    for y in range(5):\n",
    "        print(\"    y =\", y)\n",
    "        if y > 1:\n",
    "            break_flag = True\n",
    "            break\n",
    "    if break_flag:\n",
    "        break\n",
    "\n",
    "# ---------------------------\n",
    "# 2nd method - use for .. else syntax\n",
    "\n",
    "for x in range(5):\n",
    "    print(\"x =\", x)\n",
    "    for y in range(5):\n",
    "        print(\"    y =\", y)\n",
    "        if y > 1:\n",
    "            break\n",
    "    else:\n",
    "        continue  # executed if the loop ended normally (no break)\n",
    "    break         # executed if 'continue' was skipped (break)\n",
    "\n",
    "# ---------------------------\n",
    "# 3rd method - wrap loops in a function - and use \"return\"\n",
    "\n",
    "def myfunc():\n",
    "    for x in range(5):\n",
    "        print(\"x =\", x)\n",
    "        for y in range(5):\n",
    "            print(\"    y =\", y)\n",
    "            if y > 1:\n",
    "                return\n",
    "\n",
    "myfunc()"
   ]
  },
  {
   "cell_type": "markdown",
   "metadata": {},
   "source": [
    "### -------------------- Question 15 --------------------"
   ]
  },
  {
   "cell_type": "markdown",
   "metadata": {},
   "source": [
    "Write a text of a simple python function in a text editor. <br>\n",
    "How can you copy/paste it onto ipython prompt to make it work?"
   ]
  },
  {
   "cell_type": "markdown",
   "metadata": {},
   "source": [
    "#### Answer"
   ]
  },
  {
   "cell_type": "code",
   "execution_count": 16,
   "metadata": {},
   "outputs": [],
   "source": [
    "# with latest versions of ipython you just copy/paste.\n",
    "# But with old versions you needed to use the %cpaste magic command:\n",
    "# \n",
    "# 1)  on ipython prompt type %cpaste <ENTER>\n",
    "# 2)  copy text from editor into clipboard\n",
    "# 3)  paste into ipython\n",
    "# 4)  press <ENTER>--<ENTER> (or Ctrl-D)"
   ]
  },
  {
   "cell_type": "markdown",
   "metadata": {},
   "source": [
    "### -------------------- Question 16 --------------------"
   ]
  },
  {
   "cell_type": "markdown",
   "metadata": {},
   "source": [
    "What is the difference between\n",
    "- import somemodule\n",
    "- from somemodule import *\n",
    "- reload(somemodule)\n"
   ]
  },
  {
   "cell_type": "markdown",
   "metadata": {},
   "source": [
    "#### Answer"
   ]
  },
  {
   "cell_type": "code",
   "execution_count": 17,
   "metadata": {},
   "outputs": [],
   "source": [
    "# import somesodule         # functions imported, but has to be prefixed with module name: somemodule.somefinction()\n",
    "# from somemodule import *  # functions imported - and their names imported. Can call simply by name: somefinction()\n",
    "# reload(somemodule)        # forces reload. Useful when you are debugging scripts from ipython. \n",
    "                            # pyhon keeps track of which modules have been imported. \n",
    "                            # If a module was modified, it will not be reloaded unless you explicitly do so with reload() statement.\n",
    "\n",
    "# Also note that for python version > 3.3 \n",
    "# you need to use \"importlib\" module:\n",
    "\n",
    "import pandas\n",
    "if sys.version_info > (3,3):\n",
    "    import importlib\n",
    "    importlib.reload(pandas)\n",
    "else:\n",
    "    reload(pandas)\n",
    "from pandas import *"
   ]
  },
  {
   "cell_type": "markdown",
   "metadata": {},
   "source": [
    "### -------------------- Question 17 --------------------"
   ]
  },
  {
   "cell_type": "markdown",
   "metadata": {},
   "source": [
    "Calculate sum of numbers of<br>\n",
    "<br>\n",
    "$\n",
    "\\sum_{k=3}^n k \n",
    "$"
   ]
  },
  {
   "cell_type": "markdown",
   "metadata": {},
   "source": [
    "#### Answer"
   ]
  },
  {
   "cell_type": "code",
   "execution_count": 18,
   "metadata": {},
   "outputs": [
    {
     "name": "stdout",
     "output_type": "stream",
     "text": [
      "75\n",
      "75\n"
     ]
    }
   ],
   "source": [
    "ss=0\n",
    "N=12\n",
    "for ii in range(3,N+1): \n",
    "    ss += ii\n",
    "print(ss)\n",
    "print(3+4+5+6+7+8+9+10 + 11 +12)"
   ]
  },
  {
   "cell_type": "markdown",
   "metadata": {},
   "source": [
    "### -------------------- Question 18 --------------------"
   ]
  },
  {
   "cell_type": "markdown",
   "metadata": {},
   "source": [
    "Calculate number of particular characters in a string\n",
    "using a for loop or using a regex.\n"
   ]
  },
  {
   "cell_type": "markdown",
   "metadata": {},
   "source": [
    "#### Answer"
   ]
  },
  {
   "cell_type": "code",
   "execution_count": 19,
   "metadata": {},
   "outputs": [
    {
     "name": "stdout",
     "output_type": "stream",
     "text": [
      "using for-loop   : number of 'e': 6\n",
      "using re.findall : number of 'e': 6\n"
     ]
    }
   ],
   "source": [
    "ss = \"\"\"  rqwe rqwer we rqer qwer qwer \"\"\"\n",
    "\n",
    "# using for loop\n",
    "nn=0\n",
    "for cc in ss:\n",
    "    if cc == 'e':\n",
    "        nn += 1\n",
    "print(\"using for-loop   : number of 'e':\",nn)\n",
    "\n",
    "# using regex\n",
    "import re\n",
    "nn = len(re.findall(r'e',ss))\n",
    "print(\"using re.findall : number of 'e':\",nn)\n"
   ]
  },
  {
   "cell_type": "markdown",
   "metadata": {},
   "source": [
    "### -------------------- Question 19 --------------------"
   ]
  },
  {
   "cell_type": "markdown",
   "metadata": {},
   "source": [
    "Calculate <b>N!</b> (factorial)"
   ]
  },
  {
   "cell_type": "markdown",
   "metadata": {},
   "source": [
    "#### Answer"
   ]
  },
  {
   "cell_type": "code",
   "execution_count": 20,
   "metadata": {},
   "outputs": [
    {
     "name": "stdout",
     "output_type": "stream",
     "text": [
      "120\n"
     ]
    }
   ],
   "source": [
    "N=5\n",
    "fact=1\n",
    "for ii in range(2,N+1):\n",
    "    fact *= ii\n",
    "print(fact)"
   ]
  },
  {
   "cell_type": "markdown",
   "metadata": {},
   "source": [
    "### -------------------- Question 20 --------------------"
   ]
  },
  {
   "cell_type": "markdown",
   "metadata": {},
   "source": [
    "Write a function which checks if a number is prime"
   ]
  },
  {
   "cell_type": "markdown",
   "metadata": {},
   "source": [
    "#### Answer"
   ]
  },
  {
   "cell_type": "code",
   "execution_count": 21,
   "metadata": {},
   "outputs": [
    {
     "name": "stdout",
     "output_type": "stream",
     "text": [
      "4   divides\n",
      "5   prime\n",
      "6   divides\n",
      "7   prime\n"
     ]
    }
   ],
   "source": [
    "import math\n",
    "\n",
    "def is_prime(n):\n",
    "    m=int(math.sqrt(n))\n",
    "    ii=2  \n",
    "    while ii <= m:\n",
    "        if n % ii == 0:\n",
    "            return False\n",
    "        ii += 1\n",
    "    return True\n",
    "\n",
    "for nn in [4,5,6,7]:\n",
    "    label = 'prime' if is_prime(nn) else 'divides'\n",
    "    print(nn, ' ', label)"
   ]
  },
  {
   "cell_type": "markdown",
   "metadata": {},
   "source": [
    "### -------------------- Question 21 --------------------"
   ]
  },
  {
   "cell_type": "markdown",
   "metadata": {},
   "source": [
    "Write a procedure to calculate number pi (3.14159) \n",
    "using one of the formulas here:\n",
    "http://www.linuxtopia.org/online_books/programming_books/python_programming/python_ch08s05.html\n"
   ]
  },
  {
   "cell_type": "markdown",
   "metadata": {},
   "source": [
    "#### Answer"
   ]
  },
  {
   "cell_type": "code",
   "execution_count": 22,
   "metadata": {},
   "outputs": [
    {
     "name": "stdout",
     "output_type": "stream",
     "text": [
      "3.1415916535897743\n"
     ]
    }
   ],
   "source": [
    "# we will use this formula:\n",
    "# pi = 4.0 * ( 1 - 1/3 + 1/5 - 1/7 + ... )\n",
    "\n",
    "N_steps = int(1e6) # million steps\n",
    "mypi = 4.0         # init value\n",
    "\n",
    "for ii in range(1, N_steps): \n",
    "    mypi += (-1)**ii * 4.0/(2.0*ii+1.0)\n",
    "    \n",
    "print(mypi)\n"
   ]
  },
  {
   "cell_type": "markdown",
   "metadata": {},
   "source": [
    "### -------------------- Question 22 --------------------"
   ]
  },
  {
   "cell_type": "markdown",
   "metadata": {},
   "source": [
    "Write a procedure to calculate number e \n",
    "(base of natural logarithms 2.718281828459045...) \n",
    "using formula \n",
    "\n",
    "$\n",
    "\\begin{equation*}\n",
    "e = \\sum_{k=1}^n \\frac{1}{k!} \n",
    "\\end{equation*}\n",
    "$"
   ]
  },
  {
   "cell_type": "markdown",
   "metadata": {},
   "source": [
    "#### Answer"
   ]
  },
  {
   "cell_type": "code",
   "execution_count": 23,
   "metadata": {},
   "outputs": [
    {
     "name": "stdout",
     "output_type": "stream",
     "text": [
      "2.7182818284590455\n"
     ]
    }
   ],
   "source": [
    "N=100\n",
    "member = 1.0\n",
    "val    = 1.0\n",
    "for ii in range(1,N):\n",
    "    member = member/ii\n",
    "    val   += member\n",
    "print(val)"
   ]
  },
  {
   "cell_type": "code",
   "execution_count": null,
   "metadata": {},
   "outputs": [],
   "source": []
  }
 ],
 "metadata": {
  "kernelspec": {
   "display_name": "Python 3 (ipykernel)",
   "language": "python",
   "name": "python3"
  },
  "language_info": {
   "codemirror_mode": {
    "name": "ipython",
    "version": 3
   },
   "file_extension": ".py",
   "mimetype": "text/x-python",
   "name": "python",
   "nbconvert_exporter": "python",
   "pygments_lexer": "ipython3",
   "version": "3.9.12"
  }
 },
 "nbformat": 4,
 "nbformat_minor": 4
}
