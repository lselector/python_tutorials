{
 "cells": [
  {
   "cell_type": "markdown",
   "metadata": {},
   "source": [
    "# Python Test 100\n",
    "## Group 3 Questions 1..22"
   ]
  },
  {
   "cell_type": "markdown",
   "metadata": {},
   "source": [
    "### -------------------- Question 1 --------------------"
   ]
  },
  {
   "cell_type": "markdown",
   "metadata": {},
   "source": [
    "What is Pickling/Unpickling?"
   ]
  },
  {
   "cell_type": "markdown",
   "metadata": {},
   "source": [
    "#### Answer"
   ]
  },
  {
   "cell_type": "code",
   "execution_count": 1,
   "metadata": {},
   "outputs": [
    {
     "name": "stdout",
     "output_type": "stream",
     "text": [
      "True\n"
     ]
    }
   ],
   "source": [
    "# Python provides a standard module called 'pickle'\n",
    "# which can be used to store any Python object in a file.\n",
    "# cPickle is a fast version of pickle\n",
    "\n",
    "import pickle\n",
    "\n",
    "aa = {'hello': 'world'}\n",
    "fname = 'junk.pk'\n",
    "\n",
    "with open(fname, 'wb') as fhw:\n",
    "    pickle.dump(aa, fhw, protocol=pickle.HIGHEST_PROTOCOL)\n",
    "\n",
    "with open(fname, 'rb') as fhr:\n",
    "    bb = pickle.load(fhr)\n",
    "\n",
    "print(aa == bb)"
   ]
  },
  {
   "cell_type": "markdown",
   "metadata": {},
   "source": [
    "### -------------------- Question 2 --------------------"
   ]
  },
  {
   "cell_type": "markdown",
   "metadata": {},
   "source": [
    "How can you re-throw an exception?"
   ]
  },
  {
   "cell_type": "markdown",
   "metadata": {},
   "source": [
    "#### Answer"
   ]
  },
  {
   "cell_type": "markdown",
   "metadata": {},
   "source": [
    "``` python\n",
    "try:\n",
    "    do_something_dangerous()\n",
    "except:\n",
    "    do_something_to_apologize()\n",
    "    raise\n",
    "```"
   ]
  },
  {
   "cell_type": "markdown",
   "metadata": {},
   "source": [
    "### -------------------- Question 3 --------------------"
   ]
  },
  {
   "cell_type": "markdown",
   "metadata": {},
   "source": [
    "How can you use *  or ** to unpack list or dictionary into function arguments?"
   ]
  },
  {
   "cell_type": "markdown",
   "metadata": {},
   "source": [
    "#### Answer"
   ]
  },
  {
   "cell_type": "markdown",
   "metadata": {},
   "source": [
    "``` python\n",
    "If a function accepts several arguments, you can\n",
    "prepare arguments in some external list\n",
    "and then pass this list to the function all at once\n",
    "(instead of passing individual argumentss).\n",
    "\n",
    "When passing the list to a function, prepend it with '*'\n",
    "to tell python to expand the list into function arguments.\n",
    "\n",
    "      *arr\n",
    "\n",
    "Similarly you may put named arguments into a dictionary,\n",
    "and pass it to function prepending it with '**'\n",
    "\n",
    "     **dict\n",
    "\n",
    "\n",
    "def __init__(self, *args, **kwargs):\n",
    "    pass\n",
    "```"
   ]
  },
  {
   "cell_type": "markdown",
   "metadata": {},
   "source": [
    "### -------------------- Question 4 --------------------"
   ]
  },
  {
   "cell_type": "markdown",
   "metadata": {},
   "source": [
    "How can you copy key-value pairs from a dictionary\n",
    "into local variables of a function?"
   ]
  },
  {
   "cell_type": "markdown",
   "metadata": {},
   "source": [
    "#### Answer"
   ]
  },
  {
   "cell_type": "code",
   "execution_count": 2,
   "metadata": {},
   "outputs": [
    {
     "name": "stdout",
     "output_type": "stream",
     "text": [
      ">>>aa<<<\n",
      "55 0\n",
      ">>>bb<<<\n",
      "55 33\n",
      " \n",
      "55 33\n"
     ]
    }
   ],
   "source": [
    "# actually I didn't find the way to do it with local variables.\n",
    "# But it works with global variables:\n",
    "\n",
    "par = {}\n",
    "par['aa'] = 55\n",
    "par['bb'] = 33\n",
    "aa = bb = 0\n",
    "for kk in par:\n",
    "    print(\">>>%s<<<\" % kk)\n",
    "    exec(\"%s = par[kk]\" % kk)\n",
    "    print(aa,bb) \n",
    "\n",
    "print(\" \")\n",
    "print(aa,bb) \n",
    "    "
   ]
  },
  {
   "cell_type": "markdown",
   "metadata": {},
   "source": [
    "### Question 5"
   ]
  },
  {
   "cell_type": "markdown",
   "metadata": {},
   "source": [
    "Give examples of 3 typical usage of the following regular expressions\n",
    "- search\n",
    "- findall\n",
    "- sub"
   ]
  },
  {
   "cell_type": "markdown",
   "metadata": {},
   "source": [
    "#### Answer"
   ]
  },
  {
   "cell_type": "code",
   "execution_count": 3,
   "metadata": {},
   "outputs": [
    {
     "name": "stdout",
     "output_type": "stream",
     "text": [
      "res.group()  :  aa bb\n",
      "res.group(1) :  aa\n",
      "res.group(2) :  bb\n"
     ]
    }
   ],
   "source": [
    "import re\n",
    "\n",
    "ss = 'aa bb cc'\n",
    "\n",
    "res = re.search( r'(\\w+)\\s+(\\w+)', ss, re.M|re.I)\n",
    "\n",
    "# the above regex matches 2 first words\n",
    "if res:\n",
    "    print(\"res.group()  : \", res.group() )   # full string\n",
    "    print(\"res.group(1) : \", res.group(1))   # aa\n",
    "    print(\"res.group(2) : \", res.group(2))   # bb\n",
    "\n",
    "res = re.findall(r'(\\b\\w+\\b)',ss)\n",
    "\n",
    "ss2 = re.sub(r'bb', \"\", ss)\n"
   ]
  },
  {
   "cell_type": "markdown",
   "metadata": {},
   "source": [
    "### -------------------- Question 6 --------------------"
   ]
  },
  {
   "cell_type": "markdown",
   "metadata": {},
   "source": [
    "How can you parse cmd arguments?"
   ]
  },
  {
   "cell_type": "markdown",
   "metadata": {},
   "source": [
    "#### Answer"
   ]
  },
  {
   "cell_type": "code",
   "execution_count": 4,
   "metadata": {},
   "outputs": [
    {
     "name": "stdout",
     "output_type": "stream",
     "text": [
      "/Users/levselector/Library/Jupyter/runtime/kernel-94b3cece-e21b-4053-b5cb-534a880b192f.json\n"
     ]
    }
   ],
   "source": [
    "# make a standalone script to see how argparse works\n",
    "import argparse\n",
    "\n",
    "parser = argparse.ArgumentParser(description='Some description string.')\n",
    "parser.add_argument('--file', '-f', '-i', '--input', action=\"store\", dest=\"lev\", \n",
    "                    help='store input file name to lev')\n",
    "results = parser.parse_args()\n",
    "print(results.lev)\n",
    "\n",
    "# try this script like this:\n",
    "# > python test.py -f 5 \n",
    "# > python test.py -f=5 \n",
    "# > python test.py -f5 \n",
    "# > python test.py -h"
   ]
  },
  {
   "cell_type": "markdown",
   "metadata": {},
   "source": [
    "### -------------------- Question 7 --------------------"
   ]
  },
  {
   "cell_type": "markdown",
   "metadata": {},
   "source": [
    "How can you test/set env variables?"
   ]
  },
  {
   "cell_type": "markdown",
   "metadata": {},
   "source": [
    "#### Answer"
   ]
  },
  {
   "cell_type": "code",
   "execution_count": 5,
   "metadata": {},
   "outputs": [
    {
     "name": "stdout",
     "output_type": "stream",
     "text": [
      "CROCODILE\n"
     ]
    }
   ],
   "source": [
    "import os\n",
    "import re\n",
    "\n",
    "user = os.environ['USER']\n",
    "os.environ[\"MY_PATH\"]=\"CROCODILE\"\n",
    "\n",
    "keys = os.environ.keys()\n",
    "found = False\n",
    "for key in keys: \n",
    "    if re.search(\"MY_PATH\", key): \n",
    "        found=True\n",
    "if not found:\n",
    "    os.environ[\"MY_PATH\"]=\"CROCODILE\" \n",
    "\n",
    "print(os.getenv('MY_PATH'))"
   ]
  },
  {
   "cell_type": "markdown",
   "metadata": {},
   "source": [
    "### -------------------- Question 8 --------------------"
   ]
  },
  {
   "cell_type": "markdown",
   "metadata": {},
   "source": [
    "Show how to do the following:\n",
    "- Unbuffer file output\n",
    "- Unbuffer stdout\n",
    "- Write to stderr\n"
   ]
  },
  {
   "cell_type": "markdown",
   "metadata": {},
   "source": [
    "#### Answer"
   ]
  },
  {
   "cell_type": "code",
   "execution_count": 6,
   "metadata": {},
   "outputs": [],
   "source": [
    "# method 1 - explicitly flush():\n",
    "#   sys.stdout.flush()\n",
    "# ----------------------------------------\n",
    "# method 2 flush inside the print statement. \n",
    "# Works from unix prompt or iPython prompt, but not from Jupyter\n",
    "    \n",
    "#   print(\"Hello World!\", flush=True)\n",
    "# ----------------------------------------\n",
    "# Third method - reopen file handler with zero buffer size.\n",
    "#   fh = open('junk_unbuf.txt','wb',0)\n",
    "# Note - this no longer works in python 3.7 for stdout\n",
    "#   sys.stdout = os.fdopen(1, 'wb', 0)"
   ]
  },
  {
   "cell_type": "markdown",
   "metadata": {},
   "source": [
    "### -------------------- Question 9 --------------------"
   ]
  },
  {
   "cell_type": "markdown",
   "metadata": {},
   "source": [
    "What is the difference between exec and eval?<br>\n",
    "How can you run external programs?\n"
   ]
  },
  {
   "cell_type": "markdown",
   "metadata": {},
   "source": [
    "#### Answer"
   ]
  },
  {
   "cell_type": "code",
   "execution_count": 7,
   "metadata": {},
   "outputs": [
    {
     "name": "stdout",
     "output_type": "stream",
     "text": [
      "Hello World\n",
      "6\n",
      "-rw-r--r--@ 1 levselector  staff   2617 Feb  4 12:25 apache_airflow.txt\n",
      "-rw-r--r--@ 1 levselector  staff   4860 Nov  6  2021 b07_Python7_venv.txt\n",
      "-rw-r--r--@ 1 levselector  staff   3935 Dec 15  2021 b08_Python08_aws.txt\n",
      "-rw-r--r--@ 1 levselector  staff   8100 Sep 22  2021 g01_git_procedures.txt\n",
      "-rw-r--r--@ 1 levselector  staff  15918 Sep 22  2021 g02_git_branches.txt\n",
      "-rw-r--r--@ 1 levselector  staff   2966 Nov 11  2021 g03_github_single_account.txt\n",
      "-rw-r--r--@ 1 levselector  staff   1601 Jan 29 15:43 g04_git_ssh_main2master.txt\n",
      "-rw-r--r--@ 1 levselector  staff   1988 Apr  2 10:47 g05_github_remove_old_stuff.txt\n",
      "-rwxr-xr-x@ 1 levselector  staff  20900 Mar 28 14:07 h01_haskell.txt*\n",
      "-rw-r--r--  1 levselector  staff     20 Jul  9 19:02 junk.txt\n",
      "-rw-r--r--@ 1 levselector  staff   2113 Jan 27 01:14 python101.txt\n",
      "-rw-r--r--  1 levselector  staff  92090 May 26 23:03 python_tutorials_pdf.txt\n",
      "-rw-r--r--  1 levselector  staff      0 May 26 23:03 python_tutorials_ppt.txt\n",
      "-rw-r--r--@ 1 levselector  staff  15352 Apr  3 20:53 r01_Rust_tutorial.txt\n",
      "-rw-r--r--@ 1 levselector  staff   5819 Jul  4 17:14 s04_T-SQL_Window_Functions.txt\n",
      "-rw-r--r--@ 1 levselector  staff   5305 May  1 11:37 u01_unix_tutorial.txt\n",
      "-rw-r--r--@ 1 levselector  staff   7585 Jan 14 20:49 u02_vi_vim_tutorial.txt\n",
      "-rw-r--r--@ 1 levselector  staff    958 Mar  1 19:27 u03_bash_tutorial.txt\n",
      "-rw-r--r--@ 1 levselector  staff   7469 Mar 20 18:55 w01_webapp.txt\n",
      "-rw-r--r--@ 1 levselector  staff  13268 Mar 20 18:03 w02_flask_tutorial.txt\n",
      "\n",
      "total 42712\n",
      "drwxr-xr-x  64 levselector  staff     2048 Jul  9 19:03 ./\n",
      "drwxrwxrwx@ 19 levselector  staff      608 Jul  5 15:23 ../\n",
      "-rw-r--r--@  1 levselector  staff     6148 Nov 24  2021 .DS_Store\n",
      "drwxr-xr-x  14 levselector  staff      448 Jul  5 19:02 .git/\n",
      "-rw-r--r--   1 levselector  staff      129 Jul  5 15:24 .gitignore\n",
      "drwxr-xr-x  16 levselector  staff      512 Jul  9 19:02 .ipynb_checkpoints/\n",
      "-rwxr-xr-x   1 levselector  staff     6464 Sep 22  2021 R_Regression.ipynb*\n",
      "-rw-r--r--   1 levselector  staff    17925 Sep 22  2021 R_tutorial.R\n",
      "-rwxr-xr-x@  1 levselector  staff   379551 Sep 22  2021 R_tutorial.ipynb*\n",
      "-rw-r--r--   1 levselector  staff       72 Jul  7 13:03 Untitled.ipynb\n",
      "-rwxr-xr-x@  1 levselector  staff  3924543 Jul  9 18:58 a01_Jupyter1_Overview.ipynb*\n",
      "-rwxr-xr-x@  1 levselector  staff   440202 Jul  9 19:01 a02_Jupyter2_Shortcuts_etc.ipynb*\n",
      "-rw-r--r--@  1 levselector  staff     2617 Feb  4 12:25 apache_airflow.txt\n",
      "-rwxr-xr-x@  1 levselector  staff    32170 Jul  9 19:02 b00\n",
      "1_Python1.ipynb*\n",
      "-rwxr-xr-x@  1 levselector  staff    27994 Jul  9 19:03 b02_Python2.ipynb*\n",
      "-rwxr-xr-x@  1 levselector  staff    27483 Sep 22  2021 b03_Python3.ipynb*\n",
      "-rwxr-xr-x@  1 levselector  staff    16141 Sep 22  2021 b04_Python4.ipynb*\n",
      "-rwxr-xr-x@  1 levselector  staff     7025 Sep 22  2021 b05_Python5_colored_text.ipynb*\n",
      "-rwxr-xr-x@  1 levselector  staff    10819 Sep 22  2021 b06_Python6_f_string_format.ipynb*\n",
      "-rw-r--r--@  1 levselector  staff     4860 Nov  6  2021 b07_Python7_venv.txt\n",
      "-rw-r--r--@  1 levselector  staff     3935 Dec 15  2021 b08_Python08_aws.txt\n",
      "-rwxr-xr-x@  1 levselector  staff    34099 Nov 24  2021 c00_pandas_tutorial_orig_script.py*\n",
      "-rwxr-xr-x@  1 levselector  staff   277657 Sep 22  2021 c01_Pandas1.ipynb*\n",
      "-rwxr-xr-x@  1 levselector  staff   269255 Sep 22  2021 c02_Pandas2.ipynb*\n",
      "-rwxr-xr-x@  1 levselector  staff    14616 Sep 22  2021 c03_Pandas3_SettingwithCopyWarning.ipynb*\n",
      "-rw-r--r--@  1 levselector  staff   896659 Sep 22  2021 c03_Pandas3_SettingwithCopyWarning.pdf\n",
      "-rwxr-xr-x@  1 levselector  staff  3518413 Nov 24  2021 c04_Pandas_Data_Manip_Rotten_Tomatoes.ipynb*\n",
      "-rwxr-xr-x@  1 levselector  staff    42009 Nov 25  2021 c05_Pandas5_Features_Cleaning.ipynb*\n",
      "-rwxr-xr-x   1 levselector  staff    19286 May 20 21:50 c06_Pandas6_Date_Time.ipynb*\n",
      "-rwxr-xr-x   1 levselector  staff     3402 Nov 25  2021 c07_Pandas7_Pyvot_Table.ipynb*\n",
      "-rwxr-xr-x@  1 levselector  staff   490653 Apr 30 10:56 d01_Matplotlib.ipynb*\n",
      "-rwxr-xr-x@  1 levselector  staff   250819 Sep 22  2021 d02_Matplotlib_3D.ipynb*\n",
      "-rwxr-xr-x@  1 levselector  staff   201023 Sep 22  2021 d03_Matplotlib_ChartBars.ipynb*\n",
      "-rwxr-xr-x   1 levselector  staff   825634 Sep 22  2021 d04_animation.ipynb*\n",
      "-rwxr-xr-x@  1 levselector  staff   243078 Mar 24 19:35 d05_plotnine_ggplot2.ipynb*\n",
      "-rwxr-xr-x@  1 levselector  staff  4841044 Apr 30 11:04 d06_Plotly1.ipynb*\n",
      "-rwxr-xr-x@  1 levselector  staff  4037607 Apr 22 19:07 d06_Plotly2.ipynb*\n",
      "drwxr-xr-x   4 levselector  staff      128 Nov 26  2021 data/\n",
      "-rwxr-xr-x   1 levselector  staff    16322 Sep 22  2021 e01_PySpark1.ipynb*\n",
      "-rwxr-xr-x   1 levselector  staff   139861 Sep 22  2021 e02_PySpark2.ipynb*\n",
      "-rw-r--r--@  1 levselector  staff     8100 Sep 22  2021 g01_git_procedures.txt\n",
      "-rw-r--r--@  1 levselector  staff    15918 Sep 22  2021 g02_git_branches.txt\n",
      "-rw-r--r--@  1 levselector  staff     2966 Nov 11  2021 g03_github_single_account.txt\n",
      "-rw-r--r--@  1 levselector  staff     1601 Jan 29 15:43 g04_git_ssh_main2master.txt\n",
      "-rw-r--r--@  1 levselector  staff     1988 Apr  2 10:47 g05_github_remove_old_stuff.txt\n",
      "-rwxr-xr-x@  1 levselector  staff    20900 Mar 28 14:07 h01_haskell.txt*\n",
      "drwxr-xr-x   4 levselector  staff      128 Sep 22  2021 images/\n",
      "-rw-r--r--   1 levselector  staff       31 Jul  9 19:03 junk.pk\n",
      "-rw-r--r--   1 levselector  staff       20 Jul  9 19:02 junk.txt\n",
      "-rw-r--r--   1 levselector  staff     3212 Sep 22  2021 pivottablejs.html\n",
      "-rw-r--r--@  1 levselector  staff     2113 Jan 27 01:14 python101.txt\n",
      "-rw-r--r--   1 levselector  staff    92090 May 26 23:03 python_tutorials_pdf.txt\n",
      "-rw-r--r--   1 levselector  staff        0 May 26 23:03 python_tutorials_ppt.txt\n",
      "-rw-r--r--@  1 levselector  staff    15352 Apr  3 20:53 r01_Rust_tutorial.txt\n",
      "-rwxr-xr-x@  1 levselector  staff   206256 Sep 22  2021 s01_SQL_Tutorial.ipynb*\n",
      "-rw-r--r--@  1 levselector  staff   304590 Sep 22  2021 s02_SQL_Cheat_Sheet.png\n",
      "-rwxr-xr-x@  1 levselector  staff    11637 Feb  4 14:14 s03_mysql_SQL_questions1.ipynb*\n",
      "-rw-r--r--@  1 levselector  staff     5819 Jul  4 17:14 s04_T-SQL_Window_Functions.txt\n",
      "-rw-r--r--@  1 levselector  staff     5305 May  1 11:37 u01_unix_tutorial.txt\n",
      "-rw-r--r--@  1 levselector  staff     7585 Jan 14 20:49 u02_vi_vim_tutorial.txt\n",
      "-rw-r--r--@  1 levselector  staff      958 Mar  1 19:27 u03_bash_tutorial.txt\n",
      "-rw-r--r--@  1 levselector  staff     7469 Mar 20 18:55 w01_webapp.txt\n",
      "-rw-r--r--@  1 levselector  staff    13268 Mar 20 18:03 w02_flask_tutorial.txt\n",
      "-rwxr-xr-x@  1 levselector  staff     5700 Nov 26  2021 y01_yaml.ipynb*\n"
     ]
    }
   ],
   "source": [
    "# exec - execute statement(s) from a string\n",
    "# eval - returns the value of an expression\n",
    "\n",
    "exec('print(\"Hello World\")') # Hello World\n",
    "print(eval('2*3'))         # 6\n",
    "\n",
    "import subprocess\n",
    "output = subprocess.check_output(\"ls -alF *.txt\", shell=True)\n",
    "text = output.decode(\"utf-8\")\n",
    "print(text)\n",
    "\n",
    "retcode = subprocess.call(\"ls -alF\", shell=True)\n",
    "print(retcode)"
   ]
  },
  {
   "cell_type": "markdown",
   "metadata": {},
   "source": [
    "### -------------------- Question 10 --------------------"
   ]
  },
  {
   "cell_type": "markdown",
   "metadata": {},
   "source": [
    "Using the <b>time</b> module <br>\n",
    "- Show how to sleep half a second\n",
    "- Show how to get number of epoch seconds (since 1970)\n"
   ]
  },
  {
   "cell_type": "markdown",
   "metadata": {},
   "source": [
    "#### Answer"
   ]
  },
  {
   "cell_type": "code",
   "execution_count": 8,
   "metadata": {},
   "outputs": [
    {
     "name": "stdout",
     "output_type": "stream",
     "text": [
      "sleep 1 sec\n",
      "sleep 1 sec\n",
      "sleep 1 sec\n",
      "sleep 1 sec\n",
      "sleep 1 sec\n",
      "sleep 0.2 sec\n",
      "sleep 0.2 sec\n",
      "sleep 0.2 sec\n",
      "sleep 0.2 sec\n",
      "sleep 0.2 sec\n",
      "get floating number of epoch seconds (in UTC) since 1/1/1970\n",
      "1657407808.761364\n"
     ]
    }
   ],
   "source": [
    "import time\n",
    "for ii in range(5):\n",
    "    print(\"sleep 1 sec\")\n",
    "    time.sleep(1)\n",
    "for ii in range(5):\n",
    "    print(\"sleep 0.2 sec\")\n",
    "    time.sleep(0.2)\n",
    "print(\"get floating number of epoch seconds (in UTC) since 1/1/1970\")\n",
    "print(time.time())"
   ]
  },
  {
   "cell_type": "markdown",
   "metadata": {},
   "source": [
    "### -------------------- Question 11 --------------------"
   ]
  },
  {
   "cell_type": "markdown",
   "metadata": {},
   "source": [
    "Show how to convert date into epoch seconds"
   ]
  },
  {
   "cell_type": "markdown",
   "metadata": {},
   "source": [
    "#### Answer"
   ]
  },
  {
   "cell_type": "code",
   "execution_count": 9,
   "metadata": {},
   "outputs": [
    {
     "name": "stdout",
     "output_type": "stream",
     "text": [
      "epoch_secs = 1378699200\n"
     ]
    }
   ],
   "source": [
    "import time\n",
    "date_str = '2013-09-09'\n",
    "time_obj = time.strptime(date_str, '%Y-%m-%d')\n",
    "epoch_secs = int(time.mktime(time_obj))\n",
    "print(\"epoch_secs =\",epoch_secs)\n",
    "# Note - the above method shows epoch seconds \n",
    "# passed from beginning of 1970 in UTC."
   ]
  },
  {
   "cell_type": "markdown",
   "metadata": {},
   "source": [
    "### -------------------- Question 12 --------------------"
   ]
  },
  {
   "cell_type": "markdown",
   "metadata": {},
   "source": [
    "Show how to read/write excel files"
   ]
  },
  {
   "cell_type": "markdown",
   "metadata": {},
   "source": [
    "#### Answer"
   ]
  },
  {
   "cell_type": "markdown",
   "metadata": {},
   "source": [
    "```\n",
    "Prefered method to write to Excel is using module \"xlsxwriter\".\n",
    "It allows to handle big files and do flexible formatting different cells.\n",
    "\n",
    "    import xlsxwriter\n",
    "    output = io.BytesIO()\n",
    "    workbook = xlsxwriter.Workbook(output)\n",
    "    worksheet = workbook.add_worksheet()\n",
    "    ws = worksheet\n",
    "    ws.write(myrow, mycol, myval, myfmt)\n",
    "    ...\n",
    "    workbook.close()\n",
    "\n",
    "For simple read/writes we can use these two modules:\n",
    "    xlrd - excel read\n",
    "    xlwt - excel write\n",
    "\n",
    "    book = xlrd.open_workbook(fname)\n",
    "    sh = book.sheet_by_index(idx)\n",
    "    sh.nrows\n",
    "    sh.ncols\n",
    "    mytype = sh.cell_type(myrow, mycol)\n",
    "    cval   = sh.cell_value(myrow, mycol)\n",
    "\n",
    "pandas has methods to write/read dataframes to/from Excel worksheets\n",
    "\n",
    "```"
   ]
  },
  {
   "cell_type": "markdown",
   "metadata": {},
   "source": [
    "### -------------------- Question 13 --------------------"
   ]
  },
  {
   "cell_type": "markdown",
   "metadata": {},
   "source": [
    "Using <b>struct</b> module\n",
    "- Show how to write/read binary files"
   ]
  },
  {
   "cell_type": "markdown",
   "metadata": {},
   "source": [
    "#### Answer"
   ]
  },
  {
   "cell_type": "markdown",
   "metadata": {},
   "source": [
    "``` python\n",
    "import struct\n",
    "\n",
    "buff = struct.pack('4i', 1,2,3,4)\n",
    "fh = open('junk', 'wb')\n",
    "fh.write(buff)\n",
    "fh.close()\n",
    "\n",
    "fh = open('junk', 'rb')\n",
    "buf= ''\n",
    "while True:\n",
    "    buf = fh.read(4)\n",
    "    if len(buf) <= 0:\n",
    "        break\n",
    "    print struct.unpack('i', buf)[0]\n",
    "```"
   ]
  },
  {
   "cell_type": "markdown",
   "metadata": {},
   "source": [
    "### -------------------- Question 14 --------------------"
   ]
  },
  {
   "cell_type": "markdown",
   "metadata": {},
   "source": [
    "Show how to find installed modules"
   ]
  },
  {
   "cell_type": "markdown",
   "metadata": {},
   "source": [
    "#### Answer"
   ]
  },
  {
   "cell_type": "markdown",
   "metadata": {},
   "source": [
    "``` python\n",
    "conda list\n",
    "conda list | grep pandas\n",
    "pip list\n",
    "pip freeze\n",
    "\n",
    "import <TAB>\n",
    "\n",
    "import pkgutil\n",
    "mod1 = sorted([x[1] for x in pkgutil.iter_modules()])\n",
    "\n",
    "import sys\n",
    "sys.modules  # this shows only already imported modules\n",
    "\n",
    "!pydoc modules # this works slowly, lots of unnecessary output\n",
    "```"
   ]
  },
  {
   "cell_type": "markdown",
   "metadata": {},
   "source": [
    "### -------------------- Question 15 --------------------"
   ]
  },
  {
   "cell_type": "markdown",
   "metadata": {},
   "source": [
    "Show how to convert python structures to JSON and back using <b>json</b> or <b>simplejson</b> modules"
   ]
  },
  {
   "cell_type": "markdown",
   "metadata": {},
   "source": [
    "#### Answer"
   ]
  },
  {
   "cell_type": "code",
   "execution_count": 10,
   "metadata": {},
   "outputs": [
    {
     "name": "stdout",
     "output_type": "stream",
     "text": [
      "{\"aa\": [0, 1, 2, 3], \"bb\": \"crocodile\", \"cc\": {\"cc1\": \"mama\", \"cc2\": 3.14159}}\n",
      "{'aa': [0, 1, 2, 3], 'bb': 'crocodile', 'cc': {'cc1': 'mama', 'cc2': 3.14159}}\n"
     ]
    }
   ],
   "source": [
    "# JSON = JavaScript Object Notation\n",
    "\n",
    "# next line define python structure.\n",
    "# note - it is not valid JSON. Valid JSON requires double-quotes only!\n",
    "myobj = {'aa':list(range(4)), 'bb':'crocodile', 'cc': {'cc1':'mama','cc2': 3.14159}}\n",
    "\n",
    "import json\n",
    "\n",
    "ss = json.dumps(myobj)  # convert structure into a json string - note double-quotes\n",
    "print(ss) # '{\"aa\": [0, 1, 2, 3], \"cc\": {\"cc1\": \"mama\", \"cc2\": 3.14159}, \"bb\": \"crocodile\"}'\n",
    "\n",
    "dd = json.loads(ss)  # create an object from a json string\n",
    "print(dd) # {u'aa': [0, 1, 2, 3], u'cc': {u'cc1': u'mama', u'cc2': 3.14159}, u'bb': u'crocodile'}\n",
    "\n",
    "# even better to use simplejson - if it is installed\n",
    "# import simplejson\n",
    "# ss = simplejson.dumps(myobj) \n",
    "# dd = simplejson.loads(ss)\n"
   ]
  },
  {
   "cell_type": "markdown",
   "metadata": {},
   "source": [
    "### -------------------- Question 16 --------------------"
   ]
  },
  {
   "cell_type": "markdown",
   "metadata": {},
   "source": [
    "Show how to read html page from url"
   ]
  },
  {
   "cell_type": "markdown",
   "metadata": {},
   "source": [
    "#### Answer"
   ]
  },
  {
   "cell_type": "code",
   "execution_count": 11,
   "metadata": {},
   "outputs": [
    {
     "name": "stdout",
     "output_type": "stream",
     "text": [
      "Object `urllib.request` not found.\n"
     ]
    }
   ],
   "source": [
    "urllib.request?\n"
   ]
  },
  {
   "cell_type": "code",
   "execution_count": 12,
   "metadata": {},
   "outputs": [
    {
     "name": "stdout",
     "output_type": "stream",
     "text": [
      "b'<!DOCTYPE html PUBLIC \"-//w3c//dtd html 4.0 transitional//en\">\\n<html>\\n  <head>\\n    <meta http-equiv=\"Content-Type\" content=\"text/html;\\n      charset=windows-1252\">\\n    <meta name=\"google-site-verifica'\n"
     ]
    }
   ],
   "source": [
    "# Use urllib, urllib2, or httplib2 to get the page.\n",
    "# Use BeautifulSoup to parse the HTML\n",
    "\n",
    "import urllib\n",
    "url = \"http://www.levselector.com\"\n",
    "sock = urllib.request.urlopen(url)\n",
    "page = sock.read()\n",
    "sock.close()\n",
    "print(page[:200])"
   ]
  },
  {
   "cell_type": "markdown",
   "metadata": {},
   "source": [
    "### -------------------- Question 17 --------------------"
   ]
  },
  {
   "cell_type": "markdown",
   "metadata": {},
   "source": [
    "Show how to send a simple text email "
   ]
  },
  {
   "cell_type": "markdown",
   "metadata": {},
   "source": [
    "#### Answer"
   ]
  },
  {
   "cell_type": "markdown",
   "metadata": {},
   "source": [
    "``` python\n",
    "import smtplib\n",
    "from email.mime.text import MIMEText\n",
    "\n",
    "email_from     = 'john.smith@gmail.com'\n",
    "email_to       = 'gena.crocodil@gmail.com'\n",
    "\n",
    "msg            = MIMEText(text_of_your_email)\n",
    "msg['Subject'] = 'my subject string'\n",
    "msg['From']    = email_from\n",
    "msg['To']      = email_to\n",
    "\n",
    "s = smtplib.SMTP('some.smtp.server.com')\n",
    "s.sendmail(email_from, [email_to], msg.as_string())\n",
    "s.quit()\n",
    "```"
   ]
  },
  {
   "cell_type": "markdown",
   "metadata": {},
   "source": [
    "### -------------------- Question 18 --------------------"
   ]
  },
  {
   "cell_type": "markdown",
   "metadata": {},
   "source": [
    "Show how to iterate throught the elements of a dictionary"
   ]
  },
  {
   "cell_type": "markdown",
   "metadata": {},
   "source": [
    "#### Answer"
   ]
  },
  {
   "cell_type": "code",
   "execution_count": 13,
   "metadata": {},
   "outputs": [
    {
     "name": "stdout",
     "output_type": "stream",
     "text": [
      "k1\n",
      "k2\n",
      "k3\n",
      "k1\n",
      "k2\n",
      "k3\n",
      "v1\n",
      "v2\n",
      "v3\n",
      "v1\n",
      "v2\n",
      "v3\n",
      "k1 v1\n",
      "k2 v2\n",
      "k3 v3\n"
     ]
    }
   ],
   "source": [
    "d = {'k1':'v1','k2':'v2','k3':'v3'}\n",
    "\n",
    "for k    in d          : print(k)\n",
    "for k    in d.keys()   : print(k)\n",
    "for v    in d.values() : print(v)\n",
    "for k    in d          : print(d[k]) \n",
    "for k, v in d.items()  : print(k,v)"
   ]
  },
  {
   "cell_type": "markdown",
   "metadata": {},
   "source": [
    "### -------------------- Question 19 --------------------"
   ]
  },
  {
   "cell_type": "markdown",
   "metadata": {},
   "source": [
    "Show how to combine a list of sets into one sorted list"
   ]
  },
  {
   "cell_type": "markdown",
   "metadata": {},
   "source": [
    "#### Answer"
   ]
  },
  {
   "cell_type": "code",
   "execution_count": 14,
   "metadata": {},
   "outputs": [
    {
     "name": "stdout",
     "output_type": "stream",
     "text": [
      "[1, 2, 3, 4, 5]\n"
     ]
    }
   ],
   "source": [
    "gg = [{1,2,3},{2,3,4},{3,4,5}]  # list of 3 sets\n",
    "print(sorted(set.union(*gg)))"
   ]
  },
  {
   "cell_type": "markdown",
   "metadata": {},
   "source": [
    "### -------------------- Question 20 --------------------"
   ]
  },
  {
   "cell_type": "markdown",
   "metadata": {},
   "source": [
    "Write a python script as following:<br>\n",
    "Write a function that takes two arguments:\n",
    "```\n",
    "  imp_data = [\n",
    "             # id            imps               \n",
    "              [123, 45875, 8484049],\n",
    "              [456, 78135, 984563],\n",
    "              [789, 80135, 7754212],\n",
    "              [212, 63157, 135795],\n",
    "              [310, 54870, 63269402],\n",
    "              [658, 40386, 72130456]\n",
    "              ]\n",
    "\n",
    "  member_names = {\n",
    "                  789 : \"eBay\", \n",
    "                  823 : \"Amazon\",\n",
    "                  456 : \"CPX\",\n",
    "                  212 : \"Kitara\",\n",
    "                  123 : \"Adgorithms\", \n",
    "                  658 : \"Bizo\", \n",
    "                  310 : \"YHMG\"\n",
    "                  }\n",
    "\n",
    "```\n",
    "```\n",
    "The function should go through the inputed list and find the\n",
    "member_id (very first member of each sublist) who has \n",
    "the most imps (last element), \n",
    "but only if that number is above 50 million.\n",
    "\n",
    "Then, go through the dictionary of member_names to find\n",
    "the corresponding member name and have the function return it.\n",
    "\n",
    "If no members meet the criteria, return \"Criteria Not Met\".<br>\n",
    "\n",
    "Have your program (separate from the function) take the \n",
    "returned name and print out the following: \n",
    "\n",
    "The member with the highest impressions, over 50 million, is:<br> \"(Member_Name)\"<br>\n",
    "\n",
    "Use string formatting to pass in the name\n",
    "```"
   ]
  },
  {
   "cell_type": "markdown",
   "metadata": {},
   "source": [
    "#### Answer"
   ]
  },
  {
   "cell_type": "code",
   "execution_count": 15,
   "metadata": {},
   "outputs": [
    {
     "name": "stdout",
     "output_type": "stream",
     "text": [
      "The member with the highest impressions, over 50 million, is: Bizo\n"
     ]
    }
   ],
   "source": [
    "# -------------------------------------\n",
    "def myfunc(mylist,mydict):\n",
    "    \"\"\"some coment\"\"\"\n",
    "    mid=0\n",
    "    mmax=0\n",
    "    for sublist in mylist:\n",
    "        mm=sublist[0]\n",
    "        nn=sublist[2]\n",
    "        if nn > 5e7 and nn > mmax:\n",
    "            mid = mm\n",
    "            mmax = nn\n",
    "    if mid == 0:\n",
    "        return \"Criteria not met\"\n",
    "    else:\n",
    "        return mydict[mid]\n",
    "\n",
    "# -------------------------------------\n",
    "# main execution\n",
    "# -------------------------------------\n",
    "imp_data = [[123, 45875, 8484049], [456, 78135, 984563],\n",
    "    [789, 80135, 7754212], [212, 63157, 135795],\n",
    "    [310, 54870, 63269402], [658, 40386, 72130456]]\n",
    "\n",
    "member_names = {789 : \"eBay\", 823 : \"Amazon\", 456 : \"CPX\", \n",
    "    212 : \"Kitara\", 123 : \"Adgorithms\", 658 : \"Bizo\", 310: \"YHMG\"}\n",
    "\n",
    "ss = myfunc(imp_data, member_names)\n",
    "print(\"The member with the highest impressions, over 50 million, is: %s\" % ss)"
   ]
  },
  {
   "cell_type": "markdown",
   "metadata": {},
   "source": [
    "### -------------------- Question 21 --------------------"
   ]
  },
  {
   "cell_type": "markdown",
   "metadata": {},
   "source": [
    "What are the main modules to handle date and time?"
   ]
  },
  {
   "cell_type": "markdown",
   "metadata": {},
   "source": [
    "#### Answer"
   ]
  },
  {
   "cell_type": "markdown",
   "metadata": {},
   "source": [
    "``` python\n",
    "python modules: datetime, \n",
    "          also: time, calendar, dateutil\n",
    "types in datetime:  date, time, datetime, timedelta\n",
    "\n",
    "import datetime\n",
    "from datetime import date, time, datetime, timedelta\n",
    "date.today()\n",
    "datetime.now()\n",
    "str(date.today()).split('-')[0]  # current year YYYY\n",
    "str(date.today()).split('-')[1]  # current month MM\n",
    "str(date.today()).split('-')[2]  # current date of the month DD\n",
    "\n",
    "from dateutil.parser import parse\n",
    "parse('2011-01-03') # creates datetime.datetime object\n",
    "\n",
    "ss = '2011-12-31'\n",
    "mydt = datetime.strptime(ss,'%Y-%m-%d') # str-parse-time  - parse string into datetime object\n",
    "ss2  = mydt.strftime('%Y-%m-%d')        # str-format-time - formats datetime object back into a string using a format\n",
    "\n",
    "# pandas has its own convenience method which creates tseries index  \n",
    "tt = pandas.to_datetime(['7/6/2011','8/6/2011']) \n",
    "type(tt) # pandas.tseries.index.DatetimeIndex\n",
    "```"
   ]
  },
  {
   "cell_type": "markdown",
   "metadata": {},
   "source": [
    "### -------------------- Question 22 --------------------"
   ]
  },
  {
   "cell_type": "markdown",
   "metadata": {},
   "source": [
    "Given date as 'YYYY-MM-DD', calculate next and previous dates"
   ]
  },
  {
   "cell_type": "markdown",
   "metadata": {},
   "source": [
    "#### Answer"
   ]
  },
  {
   "cell_type": "code",
   "execution_count": 16,
   "metadata": {},
   "outputs": [
    {
     "name": "stdout",
     "output_type": "stream",
     "text": [
      "2011-12-30\n",
      "2011-12-31\n",
      "2012-01-01\n"
     ]
    }
   ],
   "source": [
    "import datetime\n",
    "ss      = '2011-12-31'\n",
    "ss_next = (datetime.datetime.strptime(ss,'%Y-%m-%d') + datetime.timedelta(1)).strftime('%Y-%m-%d')\n",
    "ss_prev = (datetime.datetime.strptime(ss,'%Y-%m-%d') - datetime.timedelta(1)).strftime('%Y-%m-%d')\n",
    "print(ss_prev)\n",
    "print(ss)\n",
    "print(ss_next)"
   ]
  },
  {
   "cell_type": "code",
   "execution_count": null,
   "metadata": {},
   "outputs": [],
   "source": []
  }
 ],
 "metadata": {
  "kernelspec": {
   "display_name": "Python 3 (ipykernel)",
   "language": "python",
   "name": "python3"
  },
  "language_info": {
   "codemirror_mode": {
    "name": "ipython",
    "version": 3
   },
   "file_extension": ".py",
   "mimetype": "text/x-python",
   "name": "python",
   "nbconvert_exporter": "python",
   "pygments_lexer": "ipython3",
   "version": "3.9.12"
  }
 },
 "nbformat": 4,
 "nbformat_minor": 4
}
