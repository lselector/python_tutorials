{
 "cells": [
  {
   "cell_type": "markdown",
   "id": "7fb78ff4",
   "metadata": {},
   "source": [
    "### SQL Interview Questions\n",
    "\n",
    "using MySQL and Python"
   ]
  },
  {
   "cell_type": "markdown",
   "id": "35ceeda8",
   "metadata": {},
   "source": [
    "Installing mysql on mac is easy.\n",
    "\n",
    " - https://dev.mysql.com/doc/refman/5.7/en/macos-installation-pkg.html\n",
    " - https://dev.mysql.com/downloads/mysql/\n",
    "\n",
    "You download Intel-based dmg installer (mysql-8.0.28-macos11-x86_64.dmg)\n",
    "and follow instructions.\n",
    "\n",
    "Note:\n",
    "  About new Mac with M1 chip and python.\n",
    "  As of this writing in January 2022 I recommend to use Intel-based installers.\n",
    "  Native (to ARM M1 chip) version of python has appeared in July of 2021.\n",
    "  But it is still too new, many modules are not supported yet. \n",
    "  Even today if you look at the official anaconda download page,\n",
    "  there is no support for ARM.\n",
    "\n",
    "Note:\n",
    "<br>You will be asked to create root password during the installation.\n",
    "<br>Or you can do it from terminal: \n",
    "``` code\n",
    "mysqladmin -u root password YOURNEWPASSWORD\n",
    "```\n",
    "\n",
    "Add the root password into config file in your home directory:\n",
    "\n",
    "```\n",
    "vi ~/.my.cnf\n",
    "\n",
    "[mysql]\n",
    "user=root\n",
    "password=YOURNEWPASSWORD\n",
    "```\n",
    "\n",
    "save - and change permissions:\n",
    "```\n",
    "chmod 0600 .my.cnf\n",
    "```\n",
    "\n",
    "edit .bashrc - add path to mysql executables like this:\n",
    "\n",
    "```\n",
    "PATH=$PATH:/usr/local/mysql/bin\n",
    "```\n",
    "\n",
    "Restart terminal.\n",
    "Now you can start mysql prompt with \"mysql\" command\n",
    "\n",
    "Once on mysql prompt, you can start working with SQL:\n",
    "\n",
    "```\n",
    "show databases;\n",
    "create database testdb;\n",
    "use testdb;\n",
    "create table t1 ( i1 int null, c1 varchar(80) null );\n",
    "show tables;\n",
    "insert into t1 values (1,'a');\n",
    "insert into t1 values (2,'b');\n",
    "select * from t1;\n",
    "exit\n",
    "```"
   ]
  },
  {
   "cell_type": "markdown",
   "id": "09dd7b3b",
   "metadata": {},
   "source": [
    "To work with mysql from python - look at this python file:\n",
    "\n",
    "https://github.com/lselector/setup_computer/blob/master/py_lib/myutil_mysql.py\n",
    "\n",
    "```\n",
    "pip install mysql-connector-python\n",
    "```"
   ]
  },
  {
   "cell_type": "code",
   "execution_count": 1,
   "id": "3c8cfd9e",
   "metadata": {},
   "outputs": [
    {
     "name": "stdout",
     "output_type": "stream",
     "text": [
      "     .\n",
      "     /Users/levselector/Documents/GitHub/setup_computer/py_lib\n",
      "     /Users/levselector/Documents/GitHub/python_tutorials\n",
      "     /Users/levselector/Documents/GitHub/python_tutorials/py_lib\n",
      "     /Users/levselector/docs/py_lib\n",
      "     /Users/levselector/miniconda3/lib/python39.zip\n",
      "     /Users/levselector/miniconda3/lib/python3.9\n",
      "     /Users/levselector/miniconda3/lib/python3.9/lib-dynload\n",
      "     \n",
      "     /Users/levselector/miniconda3/lib/python3.9/site-packages\n"
     ]
    }
   ],
   "source": [
    "import os, sys\n",
    "\n",
    "# add py_lib directory\n",
    "myhome = os.getenv('HOME')\n",
    "my_py_lib_dir = myhome+\"/Documents/GitHub/setup_computer/py_lib\"\n",
    "if my_py_lib_dir not in sys.path:\n",
    "    sys.path = [my_py_lib_dir] + sys.path\n",
    "\n",
    "# add current directory to search path\n",
    "if \".\" not in sys.path:\n",
    "    sys.path = [\".\"] + sys.path\n",
    "\n",
    "for p in sys.path:\n",
    "    print(\"    \", p)"
   ]
  },
  {
   "cell_type": "code",
   "execution_count": 2,
   "id": "fef2b9f1",
   "metadata": {},
   "outputs": [
    {
     "name": "stdout",
     "output_type": "stream",
     "text": [
      "   i1     c1\n",
      "0   1      a\n",
      "1   2      b\n",
      "2   5     cc\n",
      "3   5     cc\n",
      "4  10  NuxeI\n",
      "5   2  DKXaH\n",
      "6   0  mlcAO\n",
      "7   3  aXplK\n"
     ]
    },
    {
     "name": "stderr",
     "output_type": "stream",
     "text": [
      "/Users/levselector/miniconda3/lib/python3.9/site-packages/pandas/io/sql.py:761: UserWarning: pandas only support SQLAlchemy connectable(engine/connection) ordatabase string URI or sqlite3 DBAPI2 connectionother DBAPI2 objects are not tested, please consider using SQLAlchemy\n",
      "  warnings.warn(\n"
     ]
    }
   ],
   "source": [
    "import mysql.connector as connection\n",
    "import pandas as pd\n",
    "\n",
    "mysql_pwd = os.getenv('MYSQL_PWD')\n",
    "mysql_conn = None # connection\n",
    "try:\n",
    "    mysql_conn = connection.connect(\n",
    "        host     = \"localhost\", \n",
    "        database = 'testdb',\n",
    "        user     = \"root\", \n",
    "        passwd   = mysql_pwd,\n",
    "        use_pure = True)\n",
    "    sql = \"select * from t1;\"\n",
    "    df = pd.read_sql(sql, mysql_conn)\n",
    "    print(df)\n",
    "    # mysql_conn.close() # close the connection\n",
    "except Exception as e:\n",
    "    mysql_conn.close()\n",
    "    print(str(e))"
   ]
  },
  {
   "cell_type": "code",
   "execution_count": 3,
   "id": "ccfe6329",
   "metadata": {},
   "outputs": [
    {
     "data": {
      "text/plain": [
       "['__builtins__',\n",
       " '__cached__',\n",
       " '__doc__',\n",
       " '__file__',\n",
       " '__loader__',\n",
       " '__name__',\n",
       " '__package__',\n",
       " '__spec__',\n",
       " 'connect_to_mysql',\n",
       " 'dbquote',\n",
       " 'do_query',\n",
       " 'do_sql',\n",
       " 'dt',\n",
       " 'mysql',\n",
       " 'np',\n",
       " 'os',\n",
       " 'pd',\n",
       " 're',\n",
       " 'remove_extra_indents',\n",
       " 'sys',\n",
       " 'time']"
      ]
     },
     "execution_count": 3,
     "metadata": {},
     "output_type": "execute_result"
    }
   ],
   "source": [
    "import myutil_mysql\n",
    "from myutil_mysql import *\n",
    "dir(myutil_mysql)"
   ]
  },
  {
   "cell_type": "code",
   "execution_count": 4,
   "id": "e153774c",
   "metadata": {},
   "outputs": [],
   "source": [
    "# functions in myutil_mysql\n",
    "# remove_extra_indents(sql) \n",
    "#    - returns SQL string without extra indents on the left\n",
    "# dbquote(form, val)\n",
    "#    - convenience function to format your value \n",
    "#      \"val\" into a string with quotes\n",
    "# connect_to_mysql(myuser=None, mypasswd) \n",
    "#    - connects to the database\n",
    "#    - returns tuple (cnx, 0) \n",
    "# do_query(cnx, sql) - runs sql query, \n",
    "#    - returns tuple (df, error_code)\n",
    "# do_sql(cnx, sql) - runs sql, returns error code"
   ]
  },
  {
   "cell_type": "code",
   "execution_count": 5,
   "id": "a668dac5",
   "metadata": {},
   "outputs": [],
   "source": [
    "# create connection\n",
    "cnx,err = connect_to_mysql(myuser=\"root\", mypasswd=os.getenv(\"MYSQL_PWD\")) "
   ]
  },
  {
   "cell_type": "code",
   "execution_count": 6,
   "id": "14bc2575",
   "metadata": {},
   "outputs": [
    {
     "name": "stdout",
     "output_type": "stream",
     "text": [
      "   i1     c1\n",
      "0   1      a\n",
      "1   2      b\n",
      "2   5     cc\n",
      "3   5     cc\n",
      "4  10  NuxeI\n",
      "5   2  DKXaH\n",
      "6   0  mlcAO\n",
      "7   3  aXplK\n"
     ]
    },
    {
     "name": "stderr",
     "output_type": "stream",
     "text": [
      "/Users/levselector/miniconda3/lib/python3.9/site-packages/pandas/io/sql.py:761: UserWarning: pandas only support SQLAlchemy connectable(engine/connection) ordatabase string URI or sqlite3 DBAPI2 connectionother DBAPI2 objects are not tested, please consider using SQLAlchemy\n",
      "  warnings.warn(\n"
     ]
    }
   ],
   "source": [
    "df,err = do_query(cnx, \"select * from t1;\")\n",
    "print(df)\n",
    "if err != 0:\n",
    "    print(\"ERROR:\",err)"
   ]
  },
  {
   "cell_type": "code",
   "execution_count": 7,
   "id": "d09b15d1",
   "metadata": {},
   "outputs": [
    {
     "name": "stdout",
     "output_type": "stream",
     "text": [
      "  Tables_in_testdb\n",
      "0               t1\n"
     ]
    },
    {
     "name": "stderr",
     "output_type": "stream",
     "text": [
      "/Users/levselector/miniconda3/lib/python3.9/site-packages/pandas/io/sql.py:761: UserWarning: pandas only support SQLAlchemy connectable(engine/connection) ordatabase string URI or sqlite3 DBAPI2 connectionother DBAPI2 objects are not tested, please consider using SQLAlchemy\n",
      "  warnings.warn(\n"
     ]
    }
   ],
   "source": [
    "# example using do_query() function\n",
    "df,err = do_query(cnx, \"show tables;\")\n",
    "print(df)\n",
    "if err != 0:\n",
    "    print(\"ERROR:\",err)"
   ]
  },
  {
   "cell_type": "code",
   "execution_count": 8,
   "id": "972e9d00",
   "metadata": {},
   "outputs": [],
   "source": [
    "# function to generate random string\n",
    "import string\n",
    "from random import choices, randint"
   ]
  },
  {
   "cell_type": "code",
   "execution_count": 9,
   "id": "bb01aca8",
   "metadata": {},
   "outputs": [],
   "source": [
    "def rstr(mylen=5):\n",
    "    return ''.join(choices(string.ascii_letters,k=mylen))"
   ]
  },
  {
   "cell_type": "code",
   "execution_count": 10,
   "id": "acce5d9c",
   "metadata": {},
   "outputs": [],
   "source": [
    "# example using do_sql() function\n",
    "ri = randint(0,10)\n",
    "rs = rstr() # random string\n",
    "err = do_sql(cnx, f\"insert into t1 values({ri},'{rs}');\")\n",
    "if err != 0:\n",
    "    print(\"ERROR:\",err)"
   ]
  },
  {
   "cell_type": "code",
   "execution_count": 11,
   "id": "524c658f",
   "metadata": {},
   "outputs": [
    {
     "name": "stdout",
     "output_type": "stream",
     "text": [
      "   i1     c1\n",
      "0   1      a\n",
      "1   2      b\n",
      "2  10  NuxeI\n",
      "3   2  DKXaH\n",
      "4   0  mlcAO\n",
      "5   3  aXplK\n",
      "6   3  epPdh\n"
     ]
    },
    {
     "name": "stderr",
     "output_type": "stream",
     "text": [
      "/Users/levselector/miniconda3/lib/python3.9/site-packages/pandas/io/sql.py:761: UserWarning: pandas only support SQLAlchemy connectable(engine/connection) ordatabase string URI or sqlite3 DBAPI2 connectionother DBAPI2 objects are not tested, please consider using SQLAlchemy\n",
      "  warnings.warn(\n"
     ]
    }
   ],
   "source": [
    "# example using do_query() function\n",
    "df,err = do_query(cnx, \"select * from t1 where c1 != 'cc';\")\n",
    "print(df)\n",
    "if err != 0:\n",
    "    print(\"ERROR:\",err)"
   ]
  },
  {
   "cell_type": "code",
   "execution_count": 12,
   "id": "2ff177d2",
   "metadata": {},
   "outputs": [
    {
     "name": "stdout",
     "output_type": "stream",
     "text": [
      "  database()\n",
      "0     testdb\n",
      "----------------------------------------\n",
      "           user()\n",
      "0  root@localhost\n"
     ]
    },
    {
     "name": "stderr",
     "output_type": "stream",
     "text": [
      "/Users/levselector/miniconda3/lib/python3.9/site-packages/pandas/io/sql.py:761: UserWarning: pandas only support SQLAlchemy connectable(engine/connection) ordatabase string URI or sqlite3 DBAPI2 connectionother DBAPI2 objects are not tested, please consider using SQLAlchemy\n",
      "  warnings.warn(\n",
      "/Users/levselector/miniconda3/lib/python3.9/site-packages/pandas/io/sql.py:761: UserWarning: pandas only support SQLAlchemy connectable(engine/connection) ordatabase string URI or sqlite3 DBAPI2 connectionother DBAPI2 objects are not tested, please consider using SQLAlchemy\n",
      "  warnings.warn(\n"
     ]
    }
   ],
   "source": [
    "# mysql specific example - get current database and user\n",
    "df,err = do_query(cnx, \"select database()\")\n",
    "print(df)\n",
    "print(\"-\"*40)\n",
    "df,err = do_query(cnx, \"select user()\")\n",
    "print(df)"
   ]
  },
  {
   "cell_type": "code",
   "execution_count": 13,
   "id": "d72a8891",
   "metadata": {
    "scrolled": false
   },
   "outputs": [
    {
     "name": "stdout",
     "output_type": "stream",
     "text": [
      "              Variable_name            Value\n",
      "0            Current_tls_ca           ca.pem\n",
      "1        Current_tls_capath                 \n",
      "2          Current_tls_cert  server-cert.pem\n",
      "3        Current_tls_cipher                 \n",
      "4  Current_tls_ciphersuites                 \n",
      "5           Current_tls_crl                 \n",
      "6       Current_tls_crlpath                 \n",
      "7           Current_tls_key   server-key.pem\n",
      "8       Current_tls_version  TLSv1.2,TLSv1.3\n"
     ]
    },
    {
     "name": "stderr",
     "output_type": "stream",
     "text": [
      "/Users/levselector/miniconda3/lib/python3.9/site-packages/pandas/io/sql.py:761: UserWarning: pandas only support SQLAlchemy connectable(engine/connection) ordatabase string URI or sqlite3 DBAPI2 connectionother DBAPI2 objects are not tested, please consider using SQLAlchemy\n",
      "  warnings.warn(\n"
     ]
    }
   ],
   "source": [
    "# mysql specific example - get current database\n",
    "df,err = do_query(cnx, \"show session status like 'Current%' \")\n",
    "print(df.to_string())\n",
    "if err != 0:\n",
    "    print(\"ERROR:\",err)"
   ]
  },
  {
   "cell_type": "code",
   "execution_count": null,
   "id": "d0d1906f",
   "metadata": {},
   "outputs": [],
   "source": []
  }
 ],
 "metadata": {
  "kernelspec": {
   "display_name": "Python 3 (ipykernel)",
   "language": "python",
   "name": "python3"
  },
  "language_info": {
   "codemirror_mode": {
    "name": "ipython",
    "version": 3
   },
   "file_extension": ".py",
   "mimetype": "text/x-python",
   "name": "python",
   "nbconvert_exporter": "python",
   "pygments_lexer": "ipython3",
   "version": "3.9.12"
  }
 },
 "nbformat": 4,
 "nbformat_minor": 5
}
