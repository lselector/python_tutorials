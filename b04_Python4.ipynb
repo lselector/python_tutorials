{
 "cells": [
  {
   "cell_type": "markdown",
   "metadata": {},
   "source": [
    "# Python Test 100\n",
    "## Group 4 Questions 1..6"
   ]
  },
  {
   "cell_type": "markdown",
   "metadata": {},
   "source": [
    "### -------------------- Question 1 --------------------"
   ]
  },
  {
   "cell_type": "markdown",
   "metadata": {},
   "source": [
    "timeseries - a series indexed by datetime objects (or similar objects)<br>\n",
    "Give examples of creating a timeseries\n"
   ]
  },
  {
   "cell_type": "markdown",
   "metadata": {},
   "source": [
    "#### Answer"
   ]
  },
  {
   "cell_type": "code",
   "execution_count": 9,
   "metadata": {},
   "outputs": [
    {
     "name": "stdout",
     "output_type": "stream",
     "text": [
      "2011-01-02    0.993197\n",
      "2011-01-05   -0.129720\n",
      "2011-01-07    0.040141\n",
      "2011-01-08   -1.290629\n",
      "2011-01-10   -0.705552\n",
      "2011-01-12   -1.214130\n",
      "dtype: float64\n",
      "----------------------------------------\n",
      "2000-01-01    1.086165\n",
      "2000-01-02   -0.500243\n",
      "2000-01-03    0.031623\n",
      "2000-01-04    0.537872\n",
      "2000-01-05    0.749311\n",
      "                ...   \n",
      "2002-09-22   -1.451047\n",
      "2002-09-23    0.393659\n",
      "2002-09-24    0.087311\n",
      "2002-09-25   -0.360105\n",
      "2002-09-26   -0.352867\n",
      "Freq: D, Length: 1000, dtype: float64\n"
     ]
    }
   ],
   "source": [
    "import sys, os\n",
    "import pandas as pd\n",
    "import numpy as np\n",
    "import datetime as dt\n",
    "mydates = [dt.datetime(2011,1,2), \n",
    "           dt.datetime(2011,1,5), \n",
    "           dt.datetime(2011,1,7), \n",
    "           dt.datetime(2011,1,8), \n",
    "           dt.datetime(2011,1,10), \n",
    "           dt.datetime(2011,1,12)]\n",
    "\n",
    "ts = pd.Series(np.random.randn(6), index=mydates) \n",
    "print(ts)\n",
    "\n",
    "ts = pd.Series(np.random.randn(1000), \n",
    "               index = pd.date_range('1/1/2000',periods=1000, normalize=True))\n",
    "print(\"-\"*40)\n",
    "print(ts)\n",
    "\n",
    "#   note: in above we use normalize=True to zero-out times. \n",
    "#   so ts.index = [2000-01-01 00:00:00, ..., 2002-09-26 00:00:00]"
   ]
  },
  {
   "cell_type": "markdown",
   "metadata": {},
   "source": [
    "### -------------------- Question 2 --------------------"
   ]
  },
  {
   "cell_type": "markdown",
   "metadata": {},
   "source": [
    "Show how to sort dictionary keys by keys or by values"
   ]
  },
  {
   "cell_type": "markdown",
   "metadata": {},
   "source": [
    "#### Answer"
   ]
  },
  {
   "cell_type": "code",
   "execution_count": 10,
   "metadata": {},
   "outputs": [
    {
     "name": "stdout",
     "output_type": "stream",
     "text": [
      "[11, 22, 33, 44, 55]\n",
      "[55, 44, 33, 22, 11]\n",
      "[11, 22, 33, 44, 55]\n"
     ]
    }
   ],
   "source": [
    "dd = {11:5, 22:4, 33:3, 44:2, 55:1}\n",
    "print(sorted(dd))                          # [11, 22, 33, 44, 55]\n",
    "print(sorted(dd,key=dd.get))               # [55, 44, 33, 22, 11]\n",
    "print(sorted(dd,key=dd.get, reverse=True)) # [11, 22, 33, 44, 55]"
   ]
  },
  {
   "cell_type": "markdown",
   "metadata": {},
   "source": [
    "### -------------------- Question 3 --------------------"
   ]
  },
  {
   "cell_type": "markdown",
   "metadata": {},
   "source": [
    "Show the uses sorted() function by using each of the parameters<br>\n",
    "<b>sorted(iterable, cmp=None, key=None, reverse=False)</b>"
   ]
  },
  {
   "cell_type": "markdown",
   "metadata": {},
   "source": [
    "#### Answer"
   ]
  },
  {
   "cell_type": "code",
   "execution_count": 11,
   "metadata": {},
   "outputs": [
    {
     "name": "stdout",
     "output_type": "stream",
     "text": [
      "[1, 2, 3, 11, 12, 13]\n",
      "[1, 11, 12, 13, 2, 3]\n",
      "[1, 2, 3, 11, 12, 13]\n",
      "[13, 12, 11, 3, 2, 1]\n",
      "[3, 2, 13, 12, 11, 1]\n"
     ]
    }
   ],
   "source": [
    "# sorted(iterable, cmp=None, key=None, reverse=False) - returns new sorted list\n",
    "\n",
    "aa=[1,2,3,11,12,13]\n",
    "print(sorted(aa))                       # [1, 2, 3, 11, 12, 13]\n",
    "print(sorted(aa,key=str))               # [1, 11, 12, 13, 2, 3]\n",
    "print(sorted(aa,key=int))               # [1, 2, 3, 11, 12, 13]\n",
    "print(sorted(aa,key=int,reverse=True))  # [13, 12, 11, 3, 2, 1]\n",
    "print(sorted(aa,key=str,reverse=True))  # [3, 2, 13, 12, 11, 1]\n"
   ]
  },
  {
   "cell_type": "markdown",
   "metadata": {},
   "source": [
    "### -------------------- Question 4 --------------------"
   ]
  },
  {
   "cell_type": "markdown",
   "metadata": {},
   "source": [
    "Show the variables that I have defined in current ipython session\n",
    "<br>    (dir(), locals(), globals() return too much)"
   ]
  },
  {
   "cell_type": "markdown",
   "metadata": {},
   "source": [
    "#### Answer"
   ]
  },
  {
   "cell_type": "code",
   "execution_count": 12,
   "metadata": {},
   "outputs": [
    {
     "name": "stdout",
     "output_type": "stream",
     "text": [
      "['A', 'B', 'aa', 'arr', 'byte_txt', 'cnt_eff', 'cnt_np', 'dd', 'df', 'dt', 'dt1', 'dt2', 'fh', 'fname', 'ii', 'mydates', 'mylist', 'row', 'ss', 'ts', 'working_days_in_range']\n"
     ]
    }
   ],
   "source": [
    "# use magic command %who to print the list\n",
    "# use magic command %who_ls to return the list\n",
    "\n",
    "mylist = %who_ls\n",
    "print(mylist)"
   ]
  },
  {
   "cell_type": "markdown",
   "metadata": {},
   "source": [
    "### -------------------- Question 5 --------------------"
   ]
  },
  {
   "cell_type": "markdown",
   "metadata": {},
   "source": [
    "Calculate number of business days between two dates"
   ]
  },
  {
   "cell_type": "markdown",
   "metadata": {},
   "source": [
    "#### Answer"
   ]
  },
  {
   "cell_type": "code",
   "execution_count": 13,
   "metadata": {},
   "outputs": [
    {
     "name": "stdout",
     "output_type": "stream",
     "text": [
      "np: 5\n"
     ]
    }
   ],
   "source": [
    "import numpy as np\n",
    "import datetime as dt\n",
    "\n",
    "dt1 = dt.date(2021,4,12)\n",
    "dt2 = dt.date(2021,4,18)\n",
    "\n",
    "# use numpy\n",
    "cnt_np = np.busday_count(dt1, dt2)\n",
    "print(\"np:\",cnt_np)"
   ]
  },
  {
   "cell_type": "code",
   "execution_count": 14,
   "metadata": {},
   "outputs": [
    {
     "name": "stdout",
     "output_type": "stream",
     "text": [
      "eff: 5\n"
     ]
    }
   ],
   "source": [
    "# ------------------------------------------------\n",
    "# efficient way to calculate \n",
    "# ------------------------------------------------\n",
    "def working_days_in_range(from_date, to_date):\n",
    "    from_wkd = from_date.weekday()\n",
    "    to_wkd = to_date.weekday()\n",
    "    if from_wkd > 4:    # Sat, Sun\n",
    "        from_wkd = 0    # Mon\n",
    "    day_diff = to_wkd - from_wkd\n",
    "    whole_wks = ((to_date - from_date).days - day_diff) / 7\n",
    "    correction = min(day_diff, 5) - (max(to_wkd - 4, 0) % 5)\n",
    "    if day_diff in [5,6]:\n",
    "        whole_wks += 1\n",
    "        correction = 0\n",
    "    wkdays_whole_weeks = whole_wks * 5\n",
    "    working_days = wkdays_whole_weeks + correction\n",
    "    # Final sanity check (i.e. if the entire range is weekends)\n",
    "    return int(max(0, working_days))\n",
    "\n",
    "# ------------------------------------------------\n",
    "cnt_eff = working_days_in_range(dt1, dt2)\n",
    "print(\"eff:\",cnt_eff)\n",
    "\n",
    "# special libraries for bus. days calculations\n",
    "# https://pypi.org/project/workdays/\n",
    "# https://bitbucket.org/shelldweller/python-bizdatetime\n",
    "pass"
   ]
  },
  {
   "cell_type": "code",
   "execution_count": 15,
   "metadata": {},
   "outputs": [
    {
     "data": {
      "text/html": [
       "<div>\n",
       "<style scoped>\n",
       "    .dataframe tbody tr th:only-of-type {\n",
       "        vertical-align: middle;\n",
       "    }\n",
       "\n",
       "    .dataframe tbody tr th {\n",
       "        vertical-align: top;\n",
       "    }\n",
       "\n",
       "    .dataframe thead th {\n",
       "        text-align: right;\n",
       "    }\n",
       "</style>\n",
       "<table border=\"1\" class=\"dataframe\">\n",
       "  <thead>\n",
       "    <tr style=\"text-align: right;\">\n",
       "      <th></th>\n",
       "      <th>A</th>\n",
       "      <th>B</th>\n",
       "    </tr>\n",
       "  </thead>\n",
       "  <tbody>\n",
       "    <tr>\n",
       "      <th>0</th>\n",
       "      <td>1/1/2013</td>\n",
       "      <td>1/12/2013</td>\n",
       "    </tr>\n",
       "    <tr>\n",
       "      <th>1</th>\n",
       "      <td>2/2/2013</td>\n",
       "      <td>4/4/2013</td>\n",
       "    </tr>\n",
       "    <tr>\n",
       "      <th>2</th>\n",
       "      <td>3/3/2013</td>\n",
       "      <td>3/3/2013</td>\n",
       "    </tr>\n",
       "  </tbody>\n",
       "</table>\n",
       "</div>"
      ],
      "text/plain": [
       "          A          B\n",
       "0  1/1/2013  1/12/2013\n",
       "1  2/2/2013   4/4/2013\n",
       "2  3/3/2013   3/3/2013"
      ]
     },
     "metadata": {},
     "output_type": "display_data"
    },
    {
     "name": "stdout",
     "output_type": "stream",
     "text": [
      "----------------------------------------\n"
     ]
    },
    {
     "data": {
      "text/html": [
       "<div>\n",
       "<style scoped>\n",
       "    .dataframe tbody tr th:only-of-type {\n",
       "        vertical-align: middle;\n",
       "    }\n",
       "\n",
       "    .dataframe tbody tr th {\n",
       "        vertical-align: top;\n",
       "    }\n",
       "\n",
       "    .dataframe thead th {\n",
       "        text-align: right;\n",
       "    }\n",
       "</style>\n",
       "<table border=\"1\" class=\"dataframe\">\n",
       "  <thead>\n",
       "    <tr style=\"text-align: right;\">\n",
       "      <th></th>\n",
       "      <th>A</th>\n",
       "      <th>B</th>\n",
       "      <th>Ad</th>\n",
       "      <th>Bd</th>\n",
       "    </tr>\n",
       "  </thead>\n",
       "  <tbody>\n",
       "    <tr>\n",
       "      <th>0</th>\n",
       "      <td>1/1/2013</td>\n",
       "      <td>1/12/2013</td>\n",
       "      <td>2013-01-01</td>\n",
       "      <td>2013-01-12</td>\n",
       "    </tr>\n",
       "    <tr>\n",
       "      <th>1</th>\n",
       "      <td>2/2/2013</td>\n",
       "      <td>4/4/2013</td>\n",
       "      <td>2013-02-02</td>\n",
       "      <td>2013-04-04</td>\n",
       "    </tr>\n",
       "    <tr>\n",
       "      <th>2</th>\n",
       "      <td>3/3/2013</td>\n",
       "      <td>3/3/2013</td>\n",
       "      <td>2013-03-03</td>\n",
       "      <td>2013-03-03</td>\n",
       "    </tr>\n",
       "  </tbody>\n",
       "</table>\n",
       "</div>"
      ],
      "text/plain": [
       "          A          B         Ad         Bd\n",
       "0  1/1/2013  1/12/2013 2013-01-01 2013-01-12\n",
       "1  2/2/2013   4/4/2013 2013-02-02 2013-04-04\n",
       "2  3/3/2013   3/3/2013 2013-03-03 2013-03-03"
      ]
     },
     "metadata": {},
     "output_type": "display_data"
    },
    {
     "name": "stdout",
     "output_type": "stream",
     "text": [
      "----------------------------------------\n",
      "['2013-01-01' '2013-02-02' '2013-03-03']\n",
      "----------------------------------------\n"
     ]
    },
    {
     "data": {
      "text/html": [
       "<div>\n",
       "<style scoped>\n",
       "    .dataframe tbody tr th:only-of-type {\n",
       "        vertical-align: middle;\n",
       "    }\n",
       "\n",
       "    .dataframe tbody tr th {\n",
       "        vertical-align: top;\n",
       "    }\n",
       "\n",
       "    .dataframe thead th {\n",
       "        text-align: right;\n",
       "    }\n",
       "</style>\n",
       "<table border=\"1\" class=\"dataframe\">\n",
       "  <thead>\n",
       "    <tr style=\"text-align: right;\">\n",
       "      <th></th>\n",
       "      <th>A</th>\n",
       "      <th>B</th>\n",
       "      <th>Ad</th>\n",
       "      <th>Bd</th>\n",
       "      <th>DIFF</th>\n",
       "    </tr>\n",
       "  </thead>\n",
       "  <tbody>\n",
       "    <tr>\n",
       "      <th>0</th>\n",
       "      <td>1/1/2013</td>\n",
       "      <td>1/12/2013</td>\n",
       "      <td>2013-01-01</td>\n",
       "      <td>2013-01-12</td>\n",
       "      <td>9</td>\n",
       "    </tr>\n",
       "    <tr>\n",
       "      <th>1</th>\n",
       "      <td>2/2/2013</td>\n",
       "      <td>4/4/2013</td>\n",
       "      <td>2013-02-02</td>\n",
       "      <td>2013-04-04</td>\n",
       "      <td>43</td>\n",
       "    </tr>\n",
       "    <tr>\n",
       "      <th>2</th>\n",
       "      <td>3/3/2013</td>\n",
       "      <td>3/3/2013</td>\n",
       "      <td>2013-03-03</td>\n",
       "      <td>2013-03-03</td>\n",
       "      <td>0</td>\n",
       "    </tr>\n",
       "  </tbody>\n",
       "</table>\n",
       "</div>"
      ],
      "text/plain": [
       "          A          B         Ad         Bd  DIFF\n",
       "0  1/1/2013  1/12/2013 2013-01-01 2013-01-12     9\n",
       "1  2/2/2013   4/4/2013 2013-02-02 2013-04-04    43\n",
       "2  3/3/2013   3/3/2013 2013-03-03 2013-03-03     0"
      ]
     },
     "metadata": {},
     "output_type": "display_data"
    }
   ],
   "source": [
    "import pandas as pd\n",
    "import numpy as np\n",
    "\n",
    "df = pd.DataFrame({ 'A' : ['1/1/2013', '2/2/2013', '3/3/2013'],\n",
    "                    'B': ['1/12/2013', '4/4/2013', '3/3/2013']})\n",
    "display(df)\n",
    "print(\"-\"*40)\n",
    "\n",
    "df['Ad'] = pd.to_datetime(df['A'])\n",
    "df['Bd'] = pd.to_datetime(df['B'])\n",
    "\n",
    "display(df)\n",
    "print(\"-\"*40)\n",
    "\n",
    "A = np.array(df['Ad'].values.astype('datetime64[D]'))\n",
    "B = np.array(df['Bd'].values.astype('datetime64[D]'))\n",
    "print(A)\n",
    "print(\"-\"*40)\n",
    "\n",
    "df['DIFF'] = np.busday_count(A,B)\n",
    "display(df)"
   ]
  },
  {
   "cell_type": "markdown",
   "metadata": {},
   "source": [
    "### -------------------- Question 6 --------------------"
   ]
  },
  {
   "cell_type": "markdown",
   "metadata": {},
   "source": [
    "How to write/read binary strings"
   ]
  },
  {
   "cell_type": "code",
   "execution_count": 16,
   "metadata": {},
   "outputs": [
    {
     "name": "stdout",
     "output_type": "stream",
     "text": [
      "type =  <class 'bytes'> , len =  18\n",
      "length =  4\n",
      "[b'\\x00\\x01\\x02\\x03\\x04', b'\\x00\\x01\\x02\\x03\\x04', b'\\x00\\x01\\x02\\x03\\x04', b'']\n"
     ]
    }
   ],
   "source": [
    "import os,sys\n",
    "\n",
    "fname = \"/tmp/junk_binary.txt\"\n",
    "\n",
    "# --------------------------\n",
    "# Writing binary file\n",
    "# --------------------------\n",
    "fh = open(fname,\"wb\")\n",
    "for row in range(3):\n",
    "    ss=b\"\"\n",
    "    for ii in range(5): \n",
    "        ss+=ii.to_bytes(1,\"big\")\n",
    "    ss += b\"\\n\"\n",
    "    fh.write(ss)\n",
    "fh.close()\n",
    "\n",
    "# --------------------------\n",
    "# Reading binary file\n",
    "# --------------------------\n",
    "\n",
    "with open(fname,'rb') as fh:\n",
    "    byte_txt = fh.read()\n",
    "\n",
    "print(\"type = \", type(byte_txt), \", len = \",len(byte_txt))\n",
    "\n",
    "arr = byte_txt.split(b'\\n')\n",
    "print(\"length = \", len(arr))\n",
    "print(arr)"
   ]
  },
  {
   "cell_type": "code",
   "execution_count": null,
   "metadata": {},
   "outputs": [],
   "source": []
  }
 ],
 "metadata": {
  "kernelspec": {
   "display_name": "Python 3 (ipykernel)",
   "language": "python",
   "name": "python3"
  },
  "language_info": {
   "codemirror_mode": {
    "name": "ipython",
    "version": 3
   },
   "file_extension": ".py",
   "mimetype": "text/x-python",
   "name": "python",
   "nbconvert_exporter": "python",
   "pygments_lexer": "ipython3",
   "version": "3.9.12"
  }
 },
 "nbformat": 4,
 "nbformat_minor": 4
}
