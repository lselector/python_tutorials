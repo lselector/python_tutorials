{
 "cells": [
  {
   "cell_type": "markdown",
   "metadata": {},
   "source": [
    "## Pivot table"
   ]
  },
  {
   "cell_type": "code",
   "execution_count": 1,
   "metadata": {},
   "outputs": [
    {
     "name": "stdout",
     "output_type": "stream",
     "text": [
      "Python 3.9.12\r\n"
     ]
    }
   ],
   "source": [
    "import os,sys\n",
    "import pandas as pd\n",
    "import numpy as np\n",
    "!python --version"
   ]
  },
  {
   "cell_type": "code",
   "execution_count": 2,
   "metadata": {},
   "outputs": [
    {
     "name": "stdout",
     "output_type": "stream",
     "text": [
      "   foo bar  baz\n",
      "0  one   A    1\n",
      "1  one   B    2\n",
      "2  one   C    3\n",
      "3  two   A    4\n",
      "4  two   B    5\n",
      "5  two   C    6\n",
      "---------------\n",
      "bar  A  B  C\n",
      "foo         \n",
      "one  1  2  3\n",
      "two  4  5  6\n",
      "---------------\n",
      "bar  A  B  C\n",
      "foo         \n",
      "one  1  2  3\n",
      "two  4  5  6\n"
     ]
    }
   ],
   "source": [
    "aa = pd.DataFrame(\n",
    "    { 'foo' : 3*['one'] + 3*['two'],\n",
    "      'bar' : 2*['A','B','C'],\n",
    "      'baz' : [1,2,3,4,5,6]\n",
    "    }\n",
    ")\n",
    "\n",
    "aa = aa[['foo','bar','baz']]\n",
    "print(aa)\n",
    "print(\"---------------\")\n",
    "#       foo bar  baz\n",
    "#    0  one   A    1\n",
    "#    1  one   B    2\n",
    "#    2  one   C    3\n",
    "#    3  two   A    4\n",
    "#    4  two   B    5\n",
    "#    5  two   C    6\n",
    "\n",
    "print(aa.pivot('foo','bar','baz'))\n",
    "print(\"---------------\")\n",
    "print(aa.pivot('foo', 'bar')['baz'])"
   ]
  },
  {
   "cell_type": "code",
   "execution_count": 4,
   "metadata": {},
   "outputs": [],
   "source": [
    "# jupyter gadget - pivot table: drag & drop !!\n",
    "#\n",
    "# http://nicolas.kruchten.com/content/2015/09/jupyter_pivottablejs/\n",
    "# https://anaconda.org/conda-forge/jupyter_pivottablejs\n",
    "# conda install -c conda-forge jupyter_pivottablejs\n",
    "\n",
    "from pivottablejs import pivot_ui"
   ]
  },
  {
   "cell_type": "code",
   "execution_count": 5,
   "metadata": {},
   "outputs": [
    {
     "data": {
      "text/html": [
       "\n",
       "        <iframe\n",
       "            width=\"100%\"\n",
       "            height=\"500\"\n",
       "            src=\"pivottablejs.html\"\n",
       "            frameborder=\"0\"\n",
       "            allowfullscreen\n",
       "            \n",
       "        ></iframe>\n",
       "        "
      ],
      "text/plain": [
       "<IPython.lib.display.IFrame at 0x7fa8a09549a0>"
      ]
     },
     "execution_count": 5,
     "metadata": {},
     "output_type": "execute_result"
    }
   ],
   "source": [
    "aa = pd.DataFrame(\n",
    "    { 'foo' : 3*['one'] + 3*['two'],\n",
    "      'bar' : 2*['A','B','C'],\n",
    "      'baz' : [1,2,3,4,5,6]\n",
    "    }\n",
    ")\n",
    "aa\n",
    "pivot_ui(aa)"
   ]
  },
  {
   "cell_type": "code",
   "execution_count": null,
   "metadata": {},
   "outputs": [],
   "source": []
  }
 ],
 "metadata": {
  "kernelspec": {
   "display_name": "Python 3 (ipykernel)",
   "language": "python",
   "name": "python3"
  },
  "language_info": {
   "codemirror_mode": {
    "name": "ipython",
    "version": 3
   },
   "file_extension": ".py",
   "mimetype": "text/x-python",
   "name": "python",
   "nbconvert_exporter": "python",
   "pygments_lexer": "ipython3",
   "version": "3.9.12"
  }
 },
 "nbformat": 4,
 "nbformat_minor": 4
}
