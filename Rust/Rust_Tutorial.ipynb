{
 "cells": [
  {
   "cell_type": "markdown",
   "id": "9f6f8c65-f499-4e6c-b8e1-f5fbb70c94fd",
   "metadata": {},
   "source": [
    "# Rust Programming Turotial\n",
    "\n",
    "Why Rust? \n",
    "- Rust is fast as C - but reduces memory related errors.\n",
    "- No Garbage collector required!\n",
    "- Tend to take less memory.\n",
    "- Excellent at concurrent programming (threads).\n",
    "- Good clear error reporting\n",
    "- cargo - package manager and build system. Excellent!\n",
    "\n",
    "<br> ----------------------------------------------------\n",
    "<br>Official docs:\n",
    "<br>.. https://www.rust-lang.org/learn\n",
    "<br>.. https://doc.rust-lang.org/rust-by-example/ - Online Book\n",
    "<br>.. https://doc.rust-lang.org/book/ - Book 2024\n",
    "<br> ----------------------------------------------------\n",
    "<br>Derek Banas tutorials (video and code):\n",
    "<br>(2016) (47 min) - https://www.youtube.com/watch?v=U1EFgCNLDB8 \n",
    "<br>(2022) (2.5h) - https://www.youtube.com/watch?v=ygL_xcavzQ4 \n",
    "<br> ----------------------------------------------------\n",
    "<br>Install Rust  - https://www.rust-lang.org/tools/install \n",
    "```bash\n",
    "    In MacOS Terminal:   curl --proto '=https' --tlsv1.2 -sSf https://sh.rustup.rs | sh\n",
    "\n",
    "----------------------------------------------------\n",
    "Important files:\n",
    "    ~/.rustup  # RUSTUP_HOME env. variable\n",
    "    ~/.cargo   # CARGO_HOME  env. variable\n",
    "    ~/.cargo/bin # cargo, rustc, rustup, etc.\n",
    "PATH setting in .bashrc , .bash_profile, .profile, .zshenv\n",
    "test:\n",
    "    which rustc\n",
    "    rustc --version\n",
    "```"
   ]
  },
  {
   "cell_type": "markdown",
   "id": "39e50941-11fc-41b0-a32d-56764407480b",
   "metadata": {},
   "source": [
    "// -------------------------------------------------------\n",
    "```rust\n",
    "fn main() {\n",
    "    println!(\"Hello World\") // \"!\" = macro\n",
    "}\n",
    "```\n",
    "// -------------------------------------------------------\n",
    "```bash\n",
    "rustc test.rs -A warnings    # compile with \"allow all warnings\"\n",
    "./test                       # run\n",
    "```"
   ]
  },
  {
   "cell_type": "markdown",
   "id": "2dfa7dc2-b186-4428-a955-81c4f1a59e7a",
   "metadata": {},
   "source": [
    "// --------------------------------------------------------------\n",
    "### You can learn Rust by interactively running snippets of code in REPL tools\n",
    "\n",
    "<br><b>REPL = Read-Eval-Print Loop</b>\n",
    "<br>\n",
    "<br>There is an online playground: https://play.rust-lang.org \n",
    "<br>\n",
    "<br>or you can install it locally\n",
    "```bash\n",
    " cargo install evcxr_repl  # installs  ~/.cargo/bin/evcxr\n",
    "```\n",
    "<br>then add link \"rust\" to this executable\n",
    "```bash\n",
    " cd ~/.cargo/bin\n",
    " ln -s evcxr rust\n",
    "```\n",
    "\n",
    "Then simply type \"rust\" in terminal to get prompt (like iPython)\n",
    "\n",
    "```bash\n",
    "rust\n",
    ">> let x = 42\n",
    ">> println!(\"The value is: {}\", x)\n",
    ":quit\n",
    "```"
   ]
  },
  {
   "cell_type": "markdown",
   "id": "17f249bc-e8ad-4e06-b273-21605999fc47",
   "metadata": {},
   "source": [
    "// --------------------------------------------------------------\n",
    "\n",
    "### You can also use Rust from inside Jupyter notebook:\n",
    "\n",
    "<br>https://github.com/evcxr/evcxr/blob/main/evcxr_jupyter/README.md\n",
    "\n",
    "```bash\n",
    "cargo install --locked evcxr_jupyter\n",
    "evcxr_jupyter --install\n",
    "rustup component add rust-src\n",
    "jupyter notebook\n",
    "```"
   ]
  },
  {
   "cell_type": "markdown",
   "id": "4626be08",
   "metadata": {},
   "source": [
    "// --------------------------------------------------------------\n",
    "### VS Code editor - install extension \"Rust Extension Pack\"\n",
    "\n",
    "It contains \"Rust (rust-analyzer)\", \"crates\", and \"Even Better TOML\"\n",
    "\n",
    "With this extension you can use Jupyter notebook with Rust kernel from inside VS Code"
   ]
  },
  {
   "cell_type": "markdown",
   "id": "3bccc39f-e61c-4469-bdad-78e4ecc7eca1",
   "metadata": {},
   "source": [
    "// --------------------------------------------------------------\n",
    "<br>Cargo-Play allows you to simply run your rust files\n",
    "<br>https://github.com/fanzeyi/cargo-play\n",
    "\n",
    "```bash\n",
    "cargo install cargo-play\n",
    "cargo play <files>\n",
    "```"
   ]
  },
  {
   "cell_type": "code",
   "execution_count": null,
   "id": "2b103f0a-cc46-4a4f-af1a-266ad09631a4",
   "metadata": {
    "vscode": {
     "languageId": "rust"
    }
   },
   "outputs": [],
   "source": [
    "// println!() is a macro. The exclamation mark (!) is telling that it is a macro.\n",
    "// println!() needs to be a macro because it can handle a variable number \n",
    "// of arguments with different types. This flexibility wouldn't be \n",
    "// possible with a regular function.\n",
    "\n",
    "println!(\"Hello\");  // semicolon prevents returning the empty tuple ()\n",
    "println!(\"{:.2}\", 1.234);                         // 1.23\n",
    "println!(\"B: {:b} H: {:x} O: {:o}\", 10, 10, 10);  // B: 1010 H: a O: 12"
   ]
  },
  {
   "cell_type": "code",
   "execution_count": null,
   "id": "8013e539",
   "metadata": {
    "vscode": {
     "languageId": "rust"
    }
   },
   "outputs": [],
   "source": [
    "// In Rust, every expression must have some type, \n",
    "// and () is used as \"void\" \n",
    "// () is called the \"unit type\", it is an empty tuple.\n",
    "//\n",
    "// println!() returns ().\n",
    "// add semicolon at the end to prevent outputting it"
   ]
  },
  {
   "cell_type": "code",
   "execution_count": null,
   "id": "4b1a7b7e-4609-4be5-ad3d-b74849c22fae",
   "metadata": {
    "vscode": {
     "languageId": "rust"
    }
   },
   "outputs": [],
   "source": [
    "// another macro - format!\n",
    "let name = \"Alice\";\n",
    "let age = 30;\n",
    "let message = format!(\"Hello, {}! You are {} years old.\", name, age); \n",
    "message"
   ]
  },
  {
   "cell_type": "code",
   "execution_count": null,
   "id": "f90fbeff",
   "metadata": {
    "vscode": {
     "languageId": "rust"
    }
   },
   "outputs": [],
   "source": [
    "// another macro - dbg!()\n",
    "let x = 42;\n",
    "println!(\"x is {}\", x);    // Prints: x is 42\n",
    "dbg!(x);                   // Prints: [src/main.rs:2] x = 42\n",
    "\n",
    "// println!() goes to stdout, dbg!() goes to stderr\n",
    "// println!() Returns () (unit type), dbg!() Returns the value\n",
    "let x = 42;\n",
    "let a = println!(\"x: {}\", x);  // Returns () (unit type)\n",
    "let b = dbg!(x);              // Returns the value (42 in this case)\n",
    "// Can be used in expressions:\n",
    "let y = dbg!(x + 1);  // Prints debug info AND assigns y\n",
    "// both can print out multiple values\n",
    "let x = 42;\n",
    "let y = \"hello\";\n",
    "println!(\"x: {}, y: {}\", x, y);\n",
    "dbg!(x, y);  // Prints each with source location\n",
    "\n",
    "// Example\n",
    "// let result = dbg!(complex_calculation());  // See intermediate values\n",
    "\n",
    "// Debugging in chains\n",
    "println!(\"------------------\");\n",
    "let numbers = dbg!(vec![1, 2, 3])\n",
    "    .iter()\n",
    "    .map(|x| dbg!(x * 2))\n",
    "    .collect::<Vec<_>>();\n",
    "println!(\"numbers = {:#?}\",numbers);  // note the usage of {:?} or {:#?} isntead of simply {}"
   ]
  },
  {
   "cell_type": "code",
   "execution_count": null,
   "id": "828568eb",
   "metadata": {
    "vscode": {
     "languageId": "rust"
    }
   },
   "outputs": [],
   "source": [
    "// yet another macro vec!()\n",
    "// vec! is more convenient for creating vectors with known values\n",
    "// Vec<T> is needed when declaring types or using methods like new() or with_capacity()\n",
    "\n",
    "// Using vec! macro:\n",
    "let v1 = vec![1, 2, 3];           // Creates vector with values\n",
    "let v2 = vec![0; 5];              // Creates [0, 0, 0, 0, 0]\n",
    "let v3 = vec![\"hello\"; 3];        // Creates [\"hello\", \"hello\", \"hello\"]\n",
    "\n",
    "// Using Vec<T>:\n",
    "let v4: Vec<i32> = Vec::new();    // Empty vector\n",
    "let v5: Vec<String> = Vec::with_capacity(10);  // Preallocated space\n",
    "\n",
    "// Type annotation with vec! macro\n",
    "let v6: Vec<i32> = vec![1, 2, 3];\n",
    "\n",
    "// Different ways to create vectors\n",
    "let mut numbers: Vec<i32> = Vec::new();        // Empty\n",
    "let mut words = Vec::<String>::new();          // Empty with explicit type\n",
    "let mut pre_sized: Vec<i32> = Vec::with_capacity(10);    // Preallocated\n",
    "\n",
    "// Adding elements\n",
    "numbers.push(1);\n",
    "numbers.push(2);\n",
    "\n",
    "// vec! macro is more concise for initialization\n",
    "let nums = vec![1, 2, 3];  // vs doing multiple .push()\n",
    "\n",
    "// Type inference\n",
    "let inferred = vec![1, 2, 3];          // Rust infers Vec<i32>\n",
    "let explicit: Vec<i32> = vec![1, 2, 3]; // Same, but explicit\n",
    "\n",
    "// Different types\n",
    "let integers: Vec<i32> = vec![1, 2, 3];\n",
    "let floats: Vec<f64> = vec![1.0, 2.0, 3.0];\n",
    "let strings: Vec<String> = vec![String::from(\"hello\"), String::from(\"world\")];"
   ]
  },
  {
   "cell_type": "markdown",
   "id": "d7a6fd96",
   "metadata": {},
   "source": [
    "### Rust achieves memory safety through several key mechanisms:\n",
    "\n",
    "1. Ownership system:\n",
    "   - Each value has exactly one owner\n",
    "   - When owner goes out of scope, value is dropped\n",
    "```rust\n",
    "let s1 = String::from(\"hello\"); // s1 owns the string\n",
    "let s2 = s1; // ownership moves to s2, s1 is no longer valid\n",
    "```\n",
    "\n",
    "2. Borrowing rules:\n",
    "   - One mutable reference OR any number of immutable references.\n",
    "   - References must never outlive the data they refer to\n",
    "\n",
    " If you have a mutable reference to a variable, you cannot have \n",
    " <br>any immutable references to that same variable within the same scope. \n",
    " <br>The borrow checker will prevent this.\n",
    "\n",
    "3. Static lifetime checking:\n",
    "   - Compiler tracks how long references are valid, prevents dangling references\n",
    "\n",
    "4. No null pointers:\n",
    "   - Optional values use `Option<T>` type\n",
    "   - Must explicitly handle None case\n",
    "\n",
    "These rules are enforced at compile time, preventing memory bugs before the program runs.\n",
    "\n",
    "Would you like me to elaborate on any of these concepts?"
   ]
  },
  {
   "cell_type": "code",
   "execution_count": null,
   "id": "43505743",
   "metadata": {
    "vscode": {
     "languageId": "rust"
    }
   },
   "outputs": [],
   "source": [
    "// Example showing separate scopes for immutable and mutable references\n",
    "\n",
    "fn main() {\n",
    "    let mut data = 10;\n",
    "\n",
    "    let ref1 = &data; // Immutable reference\n",
    "    let ref2 = &data; // Another immutable reference\n",
    "\n",
    "    println!(\"ref1: {}, ref2: {}\", ref1, ref2); // OK to use immutable refs\n",
    "\n",
    "    let ref3 = &mut data; // Mutable reference\n",
    "    *ref3 += 1; // Modify data through the mutable reference \n",
    "\n",
    "    println!(\"data: {}\", data); // OK to use data again\n",
    "    // println!(\"ref1: {}\", ref1); // ❌ Error! \n",
    "\n",
    "}\n",
    "\n",
    "main();"
   ]
  },
  {
   "cell_type": "code",
   "execution_count": null,
   "id": "e0f57a4e",
   "metadata": {
    "vscode": {
     "languageId": "rust"
    }
   },
   "outputs": [],
   "source": [
    "// Example showing \"no null pointers\"\n",
    "\n",
    "// Rust makes you explicitly handle both cases\n",
    "let name: Option<String> = None;\n",
    "match name {\n",
    "    Some(n) => println!(\"Length is {}\", n.len()),\n",
    "    None => println!(\"No name provided\")\n",
    "};\n",
    "\n",
    "// Note, name.len()  will give an ERROR: can't call methods directly on Option\n"
   ]
  },
  {
   "cell_type": "code",
   "execution_count": null,
   "id": "3844a5c9",
   "metadata": {
    "vscode": {
     "languageId": "rust"
    }
   },
   "outputs": [],
   "source": [
    "// 1. Use match\n",
    "let name: Option<String> = Some(String::from(\"Alice\"));\n",
    "\n",
    "match name {\n",
    "    Some(n) => println!(\"Name is {}\", n),\n",
    "    None => println!(\"No name\")\n",
    "};\n"
   ]
  },
  {
   "cell_type": "code",
   "execution_count": null,
   "id": "e39cef15",
   "metadata": {
    "vscode": {
     "languageId": "rust"
    }
   },
   "outputs": [],
   "source": [
    "// 2. unwrap_or provide default\n",
    "let name: Option<String> = Some(String::from(\"Alice\"));\n",
    "let length = name.unwrap_or(String::from(\"\")).len();\n",
    "length"
   ]
  },
  {
   "cell_type": "code",
   "execution_count": null,
   "id": "c9cd2ecf",
   "metadata": {
    "vscode": {
     "languageId": "rust"
    }
   },
   "outputs": [],
   "source": [
    "// 3. Use \"if let\" construct for cleaner \"Some\" case\n",
    "let name: Option<String> = Some(String::from(\"Alice\"));\n",
    "if let Some(n) = name {\n",
    "    println!(\"Name is {}\", n);\n",
    "};"
   ]
  },
  {
   "cell_type": "markdown",
   "id": "6bdd33d4",
   "metadata": {},
   "source": [
    "### Smart Pointers - Rc & Arc\n",
    "\n",
    "- Rc = \"Reference Counted\" pointer. \n",
    "- Arc = Atomically Reference Counted (thread safe)\n",
    "\n",
    "Here are a few videos you should see about rust's smart pointers. (Daniel too)\n",
    "- https://www.youtube.com/watch?v=algDLvbl1YY\n",
    "- https://www.youtube.com/watch?v=A4cKi7PTJSs\n",
    "- https://www.youtube.com/watch?v=CTTiaOo4cbY"
   ]
  },
  {
   "cell_type": "markdown",
   "id": "9cada9f1",
   "metadata": {},
   "source": [
    "Rc - smart pointer type in Rust that provides shared ownership of a value. \n",
    "<br>Rc keeps track of how many references (or \"owners\") point to the data it manages. \n",
    "<br>This count is incremented when you clone an Rc pointer \n",
    "<br>and decremented when an Rc pointer goes out of scope.\n",
    "<br>When the reference count reaches zero, Rc automatically deallocates the underlying memory, preventing memory leaks.\n",
    "\n",
    "Arc - a thread-safe version of Rc. The \"Atomic\" in Arc means that updating of the reference counter is done correctly even when multiple threads are accessing and modifying it concurrently.\n",
    "<br>Arc is particularly well-suited for sharing immutable data. If you need to share mutable data, you'll typically combine Arc with interior mutability types like Mutex or RwLock."
   ]
  },
  {
   "cell_type": "code",
   "execution_count": null,
   "id": "fd805a71",
   "metadata": {
    "vscode": {
     "languageId": "rust"
    }
   },
   "outputs": [],
   "source": [
    "// Example of using Rc\n",
    "\n",
    "use std::rc::Rc;\n",
    "\n",
    "fn main() {\n",
    "    let data = Rc::new(5);\n",
    "    let ref1 = data.clone();\n",
    "    let ref2 = data.clone();\n",
    "\n",
    "    println!(\"ref1: {}, ref2: {}\", ref1, ref2); // Both print 5\n",
    "\n",
    "} // When ref1, ref2, and data go out of scope, the memory for 5 is deallocated.\n",
    "\n",
    "main();"
   ]
  },
  {
   "cell_type": "code",
   "execution_count": null,
   "id": "086435de",
   "metadata": {
    "vscode": {
     "languageId": "rust"
    }
   },
   "outputs": [],
   "source": [
    "// Example of using Arc\n",
    "use std::sync::Arc;\n",
    "use std::thread;\n",
    "\n",
    "fn main() {\n",
    "    let shared_data = Arc::new(vec![1, 2, 3]);\n",
    "\n",
    "    let thread1 = thread::spawn({\n",
    "        let data = shared_data.clone();\n",
    "        move || {\n",
    "            println!(\"Thread 1: {:?}\", data);\n",
    "        }\n",
    "    });\n",
    "\n",
    "    let thread2 = thread::spawn({\n",
    "        let data = shared_data.clone();\n",
    "        move || {\n",
    "            println!(\"Thread 2: {:?}\", data);\n",
    "        }\n",
    "    });\n",
    "\n",
    "    thread1.join().unwrap();\n",
    "    thread2.join().unwrap();\n",
    "}\n",
    "\n",
    "main();\n",
    "\n",
    "//  Note \"move || {  }  construct - it creates a closure \n",
    "// which takes ownership of any variables it uses from the outer scope\n",
    "// This is necessary because the new thread may outlive the current scope"
   ]
  },
  {
   "cell_type": "markdown",
   "id": "28e3253c",
   "metadata": {},
   "source": [
    "### Arc\\<str\\> vs Arc\\<String\\>\n",
    "\n",
    "Arc<str>:\n",
    "\n",
    "- More memory efficient since it doesn't include String's capacity field\n",
    "- Cannot be modified since str is an immutable string slice\n",
    "- Great for sharing static read-only string data between threads\n",
    "\n",
    "Arc<String>:\n",
    "\n",
    "- Contains extra capacity field even if unused\n",
    "- Theoretically could be modified if you have mutable access (though you'd need additional synchronization like Mutex)\n",
    "- Better when you need to eventually modify the string or when working with owned strings\n",
    "- Allows operations like push_str() if you can get mutable access\n",
    "\n",
    "```rust\n",
    "use std::sync::Arc;\n",
    "\n",
    "// Arc<str> - Direct from string literal\n",
    "let str_arc: Arc<str> = Arc::from(\"hello\");\n",
    "\n",
    "// Arc<String> - Must be created from an owned String\n",
    "let string_arc: Arc<String> = Arc::new(String::from(\"hello\"));\n",
    "\n",
    "// Converting between them:\n",
    "let str_from_string: Arc<str> = Arc::from(&*string_arc);  // Arc<String> to Arc<str>\n",
    "let new_string_arc: Arc<String> = Arc::new(str_arc.to_string()); // Arc<str> to Arc<String>\n",
    "```\n"
   ]
  },
  {
   "cell_type": "markdown",
   "id": "ac84d135",
   "metadata": {},
   "source": [
    "### The Borrow Checker\n",
    "\n",
    "The borrow checker is a compile-time system that enforces rules \n",
    "<br>about data ownership and borrowing. "
   ]
  },
  {
   "cell_type": "code",
   "execution_count": null,
   "id": "d363ff57",
   "metadata": {
    "vscode": {
     "languageId": "rust"
    }
   },
   "outputs": [],
   "source": [
    "// 1. Core Rules:\n",
    "// - You can have either ONE mutable reference OR ANY NUMBER of immutable references\n",
    "// - References must never outlive the data they reference\n",
    "// - You can't modify data while it's borrowed immutably\n",
    "\n",
    "let mut x = 5;          // x owns this value\n",
    "{\n",
    "    let y = &x;         // y borrows x (shared/immutable borrow)\n",
    "    println!(\"y = {}\",y);\n",
    "}\n",
    "{\n",
    "    let z = &mut x;     // z mutably borrows x (exclusive/mutable borrow)\n",
    "    println!(\"z = {}\",z);\n",
    "};\n"
   ]
  },
  {
   "cell_type": "code",
   "execution_count": null,
   "id": "17e299a4",
   "metadata": {
    "vscode": {
     "languageId": "rust"
    }
   },
   "outputs": [],
   "source": [
    "let mut x = 5;\n",
    "{\n",
    "    let y = &x;\n",
    "    // x = 6; // ❌ Error! cannot assign to `x` because it is borrowed\n",
    "    println!(\"x = {}\", x);\n",
    "    println!(\"y = {}\", y);\n",
    "};\n"
   ]
  },
  {
   "cell_type": "code",
   "execution_count": null,
   "id": "d49d7c80",
   "metadata": {
    "vscode": {
     "languageId": "rust"
    }
   },
   "outputs": [],
   "source": [
    "// 2. Common Example of Borrow Checker Preventing Bugs:\n",
    "\n",
    "let mut vec = vec![1, 2, 3];\n",
    "{\n",
    "    let first = &vec[0];    // Immutable borrow\n",
    "    // vec.push(4);         // ❌ Error! Can't modify while borrowed\n",
    "    println!(\"{}\", first);  // Using borrowed reference\n",
    "};"
   ]
  },
  {
   "cell_type": "code",
   "execution_count": null,
   "id": "64691e26",
   "metadata": {
    "vscode": {
     "languageId": "rust"
    }
   },
   "outputs": [],
   "source": [
    "// 3. Lifetime Example:\n",
    "// Lifetime - a marker construct, an apostrophe followed usually by a lowercase letter like 'a, 'b, etc.\n",
    "// Lifetime is a construct that the compiler uses to ensure all borrows are valid. \n",
    "\n",
    "struct Container<'a> {\n",
    "    data: &'a str,  // Reference must not outlive 'a\n",
    "}\n",
    "\n",
    "fn example<'a>(x: &'a str) -> &'a str {\n",
    "    x  // Return value must not outlive input\n",
    "}"
   ]
  },
  {
   "cell_type": "code",
   "execution_count": null,
   "id": "cd5eb2ec",
   "metadata": {
    "vscode": {
     "languageId": "rust"
    }
   },
   "outputs": [],
   "source": [
    "// 4. Common Patterns to Satisfy the Borrow Checker:\n",
    "\n",
    "// Clone to avoid borrowing\n",
    "let original = String::from(\"hello\");\n",
    "let copied = original.clone();\n",
    "\n",
    "// Scoped blocks to limit borrow duration\n",
    "let mut data = vec![1, 2, 3];\n",
    "{\n",
    "    let reference = &data[0];\n",
    "    println!(\"{}\", reference);\n",
    "}  // borrow ends here\n",
    "data.push(4);  // Now OK to modify\n",
    "\n",
    "// Drop references explicitly\n",
    "let mut value = String::from(\"hello\");\n",
    "{\n",
    "    let reference = &value;\n",
    "    println!(\"{}\", reference);\n",
    "    // drop(reference);  // Not needed!\n",
    "}\n",
    "value.push_str(\" world\");  // OK now"
   ]
  },
  {
   "cell_type": "markdown",
   "id": "72b968ed",
   "metadata": {},
   "source": [
    "\n",
    "The borrow checker provides several benefits:\n",
    "- Prevents data races at compile time\n",
    "- Guarantees memory safety without garbage collection\n",
    "- Eliminates entire classes of bugs like use-after-free and dangling pointers\n",
    "- Makes concurrent programming safer\n",
    "\n",
    "Common situations where you need to work with the borrow checker:\n",
    "1. Modifying collections while iterating\n",
    "2. Storing references in structs\n",
    "3. Returning references from functions\n",
    "4. Sharing data between threads\n",
    "5. Managing complex data structures with internal references\n",
    "\n",
    "If you find yourself fighting the borrow checker, common solutions include:\n",
    "- Using `Clone` when you need independent ownership\n",
    "- Restructuring code to reduce lifetime complexity\n",
    "- Using reference-counting (`Rc` or `Arc`)\n",
    "- Using interior mutability (`RefCell` or `Mutex`)\n",
    "- Breaking up complex operations into smaller scopes\n"
   ]
  },
  {
   "cell_type": "markdown",
   "id": "8d00d2b4",
   "metadata": {},
   "source": [
    "### --------------------------------------------------------------"
   ]
  },
  {
   "cell_type": "code",
   "execution_count": null,
   "id": "8c2a143f",
   "metadata": {
    "vscode": {
     "languageId": "rust"
    }
   },
   "outputs": [],
   "source": [
    "use std::io;\n",
    "\n",
    "let greeting = \"Nice to meet you\"; // immutable\n",
    "\n",
    "let mut name = String::new();      // mutable, empty string\n",
    "name.push_str(\"Lev\");\n",
    "// io::stdin().read_line(&mut name)\n",
    "//     .expect(\"Didn't Receive Input\");\n",
    "\n",
    "println!(\"Hello {}! {}\", name.trim_end(), greeting);"
   ]
  },
  {
   "cell_type": "code",
   "execution_count": null,
   "id": "8988c85d",
   "metadata": {
    "vscode": {
     "languageId": "rust"
    }
   },
   "outputs": [],
   "source": [
    "// ----- VARIABLES  ----- \n",
    "\n",
    "const ONE_MIL: u32 = 1_000_000;\n",
    "const PI: f32 = 3.141592;\n",
    "\n",
    "// You can define variables with the same name \n",
    "// but with different data types (Shadowing)\n",
    "let age = \"47\";\n",
    "let mut age: u32 = age.trim().parse()\n",
    "    .expect(\"Age wasn't assigned a number\");\n",
    "age = age + 1;\n",
    "println!(\"I'm {} and I want ${}\", age, ONE_MIL);"
   ]
  },
  {
   "cell_type": "code",
   "execution_count": null,
   "id": "0eaf4a9e",
   "metadata": {
    "vscode": {
     "languageId": "rust"
    }
   },
   "outputs": [],
   "source": [
    "// ----- DATA TYPES -----\n",
    "// Unsigned integer : u8, u16, u32, u64, u128, usize\n",
    "// Signed integer : i8, i16, i32, i64, i128, isize\n",
    "let max_u32 = u32::MAX;\n",
    "println!(\"Max u32 : {}\", max_u32);\n",
    "println!(\"Max u64 : {}\", u64::MAX);\n",
    "\n",
    "// usize depends on your computer (If 64 bit then it's 64 bit)\n",
    "println!(\"Max usize : {}\", usize::MAX);\n",
    "println!(\"Max u128 : {}\", u128::MAX);\n",
    "\n",
    "// Floating Points : f32, f64\n",
    "println!(\"Max f32 : {}\", f32::MAX);\n",
    "println!(\"Max f64 : {}\", f64::MAX);\n",
    "\n",
    "let _is_true = true;   // true or false\n",
    "let _my_grade = 'A';   // single quotes used for immutable single character\n",
    "\n",
    "println!(\"_is_true  : {}\", _is_true);\n",
    "println!(\"_my_grade : {}\", _my_grade);\n"
   ]
  },
  {
   "cell_type": "code",
   "execution_count": null,
   "id": "d91f7a80",
   "metadata": {
    "vscode": {
     "languageId": "rust"
    }
   },
   "outputs": [],
   "source": [
    "// ----- MATH -----\n",
    "\n",
    "// f32 has 6 digits of precision\n",
    "let num_1: f32 = 1.111111111111111;\n",
    "println!(\"f32 : {}\", num_1 + 0.111111111111111);\n",
    "\n",
    "// f64 has 14 digits of precision\n",
    "let num_2: f64 = 1.111111111111111;\n",
    "println!(\"f64 : {}\", num_2 + 0.111111111111111);"
   ]
  },
  {
   "cell_type": "code",
   "execution_count": null,
   "id": "52fe5e6b",
   "metadata": {
    "vscode": {
     "languageId": "rust"
    }
   },
   "outputs": [],
   "source": [
    "// Basic math operators\n",
    "let num_3: u32 = 5;\n",
    "let num_4: u32 = 4;\n",
    "println!(\"5 + 4 = {}\", num_3 + num_4);\n",
    "println!(\"5 - 4 = {}\", num_3 - num_4);\n",
    "println!(\"5 * 4 = {}\", num_3 * num_4);\n",
    "println!(\"5 / 4 = {}\", num_3 / num_4);\n",
    "println!(\"5 % 4 = {}\", num_3 % num_4); // Remainder\n",
    "\n",
    "// You can use var += 1 instead of var = var + 1"
   ]
  },
  {
   "cell_type": "code",
   "execution_count": null,
   "id": "67d523a9",
   "metadata": {
    "vscode": {
     "languageId": "rust"
    }
   },
   "outputs": [],
   "source": [
    "// Generate random values between 1 and 100\n",
    "// indicate \"rand\" crate as a necessary dependency \n",
    ":dep rand = \"0.8.5\"\n",
    "use rand::Rng;\n",
    "\n",
    "fn main() {\n",
    "    let random_num = rand::thread_rng().gen_range(1..101);\n",
    "    println!(\"Random number: {}\", random_num);\n",
    "}\n",
    "\n",
    "main();"
   ]
  },
  {
   "cell_type": "code",
   "execution_count": null,
   "id": "55f1ee45",
   "metadata": {
    "vscode": {
     "languageId": "rust"
    }
   },
   "outputs": [],
   "source": [
    "// ----- IF EXPRESSIONS -----\n",
    "let age = 8;\n",
    "\n",
    "if (age >= 1) && (age <= 18){\n",
    "    println!(\"Important Birthday 1..18\");\n",
    "} else if (age == 21) || (age == 50){\n",
    "    println!(\"Important Birthday 21,50\");\n",
    "} else if age >= 65 {\n",
    "    println!(\"Important Birthday > 65\");\n",
    "} else {\n",
    "    println!(\"Not an Important Birthday\");\n",
    "};"
   ]
  },
  {
   "cell_type": "code",
   "execution_count": null,
   "id": "8b8fc93d",
   "metadata": {
    "vscode": {
     "languageId": "rust"
    }
   },
   "outputs": [],
   "source": [
    "// ----- TERNARY OPERATOR -----\n",
    "let mut my_age = 47;\n",
    "let can_vote = if my_age >= 18 {\n",
    "    true\n",
    "} else {\n",
    "    false\n",
    "};\n",
    "println!(\"Can Vote : {}\", can_vote);"
   ]
  },
  {
   "cell_type": "code",
   "execution_count": null,
   "id": "ea913534",
   "metadata": {
    "vscode": {
     "languageId": "rust"
    }
   },
   "outputs": [],
   "source": [
    "// ----- MATCH -----\n",
    "let age2 = 8;\n",
    "match age2 {\n",
    "    1..=18        => println!(\"Important Birthday\"), // 1 through 18\n",
    "    21 | 50       => println!(\"Important Birthday\"), // 21 or 50\n",
    "    65..=i32::MAX => println!(\"Important Birthday\"), // > 65\n",
    "    _ => println!(\"Not an Important Birthday\"), // Default\n",
    "};"
   ]
  },
  {
   "cell_type": "code",
   "execution_count": null,
   "id": "4ecbc27a",
   "metadata": {
    "vscode": {
     "languageId": "rust"
    }
   },
   "outputs": [],
   "source": [
    "// Ordering is enum with values Less, Greater, Equal\n",
    "use std::cmp::Ordering;\n",
    "let my_age = 18;\n",
    "let voting_age = 18;\n",
    "match my_age.cmp(&voting_age) {\n",
    "    Ordering::Less    => println!(\"Can't Vote\"),\n",
    "    Ordering::Greater => println!(\"Can Vote\"),\n",
    "    Ordering::Equal   => println!(\"You just gained the right to vote!\"),\n",
    "};"
   ]
  },
  {
   "cell_type": "code",
   "execution_count": null,
   "id": "dce01360",
   "metadata": {
    "vscode": {
     "languageId": "rust"
    }
   },
   "outputs": [],
   "source": [
    "// ----- ARRAYS -----\n",
    "let a = [1,2,3,4,5,6,7];        // elements of same type\n",
    "println!(\"1st : {}\", a[0]);     // index starts with 0\n",
    "println!(\"Length : {}\", a.len());"
   ]
  },
  {
   "cell_type": "code",
   "execution_count": null,
   "id": "2d310119",
   "metadata": {
    "vscode": {
     "languageId": "rust"
    }
   },
   "outputs": [],
   "source": [
    "// ----- LOOP until break -----\n",
    "let arr_2 = [1,2,3,4,5,6,7,8,9];\n",
    "let mut loop_idx = 0;\n",
    "loop {\n",
    "    if arr_2[loop_idx] % 2 == 0 {\n",
    "        loop_idx += 1;\n",
    "        continue; // Goes to beginning of loop\n",
    "    }\n",
    "\n",
    "    if arr_2[loop_idx] == 9 {\n",
    "        break; // Breaks out of loop\n",
    "    }\n",
    "\n",
    "    println!(\"Val : {}\", arr_2[loop_idx]);\n",
    "    loop_idx += 1;\n",
    "};"
   ]
  },
  {
   "cell_type": "code",
   "execution_count": null,
   "id": "cf053121",
   "metadata": {
    "vscode": {
     "languageId": "rust"
    }
   },
   "outputs": [],
   "source": [
    "// ----- WHILE LOOP -----\n",
    "loop_idx = 0;\n",
    "while loop_idx < arr_2.len(){\n",
    "    println!(\"Arr : {}\", arr_2[loop_idx]);\n",
    "    loop_idx += 1;\n",
    "};"
   ]
  },
  {
   "cell_type": "code",
   "execution_count": null,
   "id": "a6cd1056",
   "metadata": {
    "vscode": {
     "languageId": "rust"
    }
   },
   "outputs": [],
   "source": [
    "// ----- FOR LOOP -----\n",
    "for val in arr_2.iter() {\n",
    "    println!(\"Val : {}\", val);\n",
    "};"
   ]
  },
  {
   "cell_type": "code",
   "execution_count": null,
   "id": "96bd4298",
   "metadata": {
    "vscode": {
     "languageId": "rust"
    }
   },
   "outputs": [],
   "source": [
    "// ----- TUPLES -----\n",
    "// fixed length, can be various types\n",
    "let my_tuple: (u8, String, f64) = (47, \"Derek\".to_string(), 50_000.00);\n",
    "println!(\"Name : {}\", my_tuple.1);  // get values by index starting at 0\n",
    "let (v1, _v2, _v3) = my_tuple;      // assign multiple variables at once\n",
    "println!(\"Age : {}\", v1);"
   ]
  },
  {
   "cell_type": "code",
   "execution_count": null,
   "id": "69e0a696",
   "metadata": {
    "vscode": {
     "languageId": "rust"
    }
   },
   "outputs": [],
   "source": [
    "// ----- STRINGS -----\n",
    "// There are 2 types of strings\n",
    "// 1. String : Vector of bytes that can be changed\n",
    "// 2. &str : Points to the string and allows for viewing\n",
    "\n",
    "let mut st1 = String::new(); // empty growable string\n",
    "st1.push('A');               // Insert a character at the end\n",
    "st1.push_str(\" word\");       // Insert a string at the end\n",
    "for word in st1.split_whitespace() { // split by whitespace\n",
    "    println!(\"word {}\", word);\n",
    "}\n",
    "println!(\"-------------------------------------\");\n",
    "let st2 = st1.replace(\"A\", \"Another\"); // Replace by \"\" for deleting\n",
    "println!(\"st2 = {}\", st2);\n",
    "\n",
    "let st3 = String::from(\"x r t b h k k a m c\");  // Create string of characters\n",
    "let mut v1: Vec<char> = st3.chars().collect();  // Convert to a vector\n",
    "v1.sort();     // Sort characters inplace\n",
    "v1.dedup();    // Remove duplicates\n",
    "for char in v1 {\n",
    "    println!(\"char {}\", char);\n",
    "}\n",
    "\n",
    "let st4: &str = \"Random string\";        // Create a string literal\n",
    "let mut st5: String = st4.to_string();  // Convert to heap allocated String\n",
    "println!(\"st5 = {}\", st5);"
   ]
  },
  {
   "cell_type": "code",
   "execution_count": null,
   "id": "62aafe26",
   "metadata": {
    "vscode": {
     "languageId": "rust"
    }
   },
   "outputs": [],
   "source": [
    "// Convert string into an array of bytes\n",
    "let mut st5: String = String::from(\"Random string\");\n",
    "let byte_arr1: Vec<u8> = st5.as_bytes().to_vec();\n",
    "println!(\"{:?}\", byte_arr1);"
   ]
  },
  {
   "cell_type": "code",
   "execution_count": null,
   "id": "177531a7",
   "metadata": {
    "vscode": {
     "languageId": "rust"
    }
   },
   "outputs": [],
   "source": [
    "// Get a slice of a string from index 0 to 5\n",
    "{ \n",
    "    let st6 = &st5[0..6]; \n",
    "    println!(\"st6 {}\", st6); \n",
    "    println!(\"String Length : {}\", st6.len());\n",
    "    st5.clear(); // Delete values in a mutable String\n",
    "};"
   ]
  },
  {
   "cell_type": "code",
   "execution_count": null,
   "id": "9b23d8e3",
   "metadata": {
    "vscode": {
     "languageId": "rust"
    }
   },
   "outputs": [],
   "source": [
    "// Combine strings\n",
    "let st6 = String::from(\"Just some \");\n",
    "let st7 = String::from(\"слова\");\n",
    "let st8 = st6 + &st7; // moves st6 into st8\n",
    "println!(\"st8 {}\", st8);\n",
    "// dbg!(st6); // ❌ Error! st6 was moved, can not be used\n",
    "for bb in st8.bytes() {\n",
    "    println!(\"byte {}\", bb);\n",
    "};\n",
    "println!(\"-------------------------\");\n",
    "for cc in st8.chars() {\n",
    "    println!(\"char {}\", cc);\n",
    "};"
   ]
  },
  {
   "cell_type": "code",
   "execution_count": null,
   "id": "d1b8070d",
   "metadata": {
    "vscode": {
     "languageId": "rust"
    }
   },
   "outputs": [],
   "source": [
    "// utf8 and unicode\n",
    "// UTF-8 character may be 1, 2, 3, or 4 bytes\n",
    "// It is a variable-width encoding, backward compatible with ASCII\n",
    "// Rust strings are UTF-8 encoded by default\n",
    "//     1 byte: ASCII characters (0-127)\n",
    "//     2 bytes: Most Latin-script letters with diacritics\n",
    "//     3 bytes: Most Chinese/Japanese/Korean characters\n",
    "//     4 bytes: Emojis, rare characters, mathematical symbols\n",
    "//\n",
    "// Unicode (UTF-16) character can be 2 or 4 bytes\n",
    "//     2 bytes: Basic Multilingual Plane (BMP)\n",
    "//     4 bytes: Supplementary characters (using surrogate pairs)\n",
    "//\n",
    "// Every Unicode scalar value can be encoded in UTF-8\n",
    "// A Rust char always represents a Unicode scalar value (4 bytes)\n",
    "//\n",
    "// Examples in Rust:\n",
    "\n",
    "// UTF-8 examples\n",
    "let ascii   = \"a\";     // 1 byte\n",
    "let latin   = \"é\";     // 2 bytes\n",
    "let chinese = \"我\";    // 3 bytes\n",
    "let emoji   = \"🦀\";    // 4 bytes\n",
    "\n",
    "println!(\"Bytes in ascii  : {}\", ascii.len());    // 1\n",
    "println!(\"Bytes in latin  : {}\", latin.len());    // 2\n",
    "println!(\"Bytes in chinese: {}\", chinese.len());  // 3\n",
    "println!(\"Bytes in emoji  : {}\", emoji.len());    // 4\n",
    "\n",
    "// Getting actual chars\n",
    "for c in \"aé我🦀\".chars() {\n",
    "    println!(\"char '{}' takes {} bytes\", c, c.len_utf8());\n",
    "};"
   ]
  },
  {
   "cell_type": "code",
   "execution_count": null,
   "id": "7d1621ef",
   "metadata": {
    "vscode": {
     "languageId": "rust"
    }
   },
   "outputs": [],
   "source": [
    "// A Unicode scalar value is a number from 0 to 0x10FFFF (1,114,111 in decimal)\n",
    "// It represents a single Unicode code point (a number assigned to a specific character)\n",
    "// excluding surrogate code points (numbers reserved for UTF-16 encoding).\n",
    "// Each char in Rust represents exactly one Unicode scalar value\n",
    "// \n",
    "// Not all numbers in the range are assigned to characters.\n",
    "// The term \"scalar value\" is used to distinguish from:\n",
    "// - Surrogate code points (used in UTF-16)\n",
    "// - Combined characters (like é which can be one code point é or two code points e + ´)\n",
    "// - Raw byte values in different encodings\n",
    "\n",
    "// Unicode scalar values examples:\n",
    "let a = 'A';        // Unicode scalar value: U+0041\n",
    "let omega = 'Ω';    // Unicode scalar value: U+03A9\n",
    "let crab = '🦀';    // Unicode scalar value: U+1F980\n",
    "\n",
    "// We can see the numeric values:\n",
    "println!(\"A as number: {}\", 'A' as u32);   // prints 65\n",
    "println!(\"Ω as number: {}\", 'Ω' as u32);   // prints 937\n",
    "println!(\"🦀 as number: {}\", '🦀' as u32);  // prints 129408\n",
    "\n",
    "// Creating chars from scalar values:\n",
    "let char1 = char::from_u32(0x0041).unwrap();  // 'A'\n",
    "let char2 = char::from_u32(0x03A9).unwrap();  // 'Ω'\n",
    "let char3 = char::from_u32(0x1F980).unwrap(); // '🦀'\n",
    "println!(\"char1: {}, char2: {}, char3: {}\",char1,char2,char3);"
   ]
  },
  {
   "cell_type": "code",
   "execution_count": null,
   "id": "1149a8d4",
   "metadata": {
    "vscode": {
     "languageId": "rust"
    }
   },
   "outputs": [],
   "source": [
    "// ----- CASTING WITH AS -----\n",
    "// You can convert to different types in multiple ways\n",
    "let int_u8: u8 = 5;\n",
    "let int2_u8: u8 = 4;\n",
    "// Cast using as\n",
    "let int3_u32: u32 = (int_u8 as u32) + (int2_u8 as u32);"
   ]
  },
  {
   "cell_type": "code",
   "execution_count": null,
   "id": "0efd38d6",
   "metadata": {
    "vscode": {
     "languageId": "rust"
    }
   },
   "outputs": [],
   "source": [
    "// ----- ENUMS -----\n",
    "// Enums allow for the definition of custom \"categorical\" data types\n",
    "enum Day {Monday, Tuesday, Wednesday, Thursday, Friday, Saturday, Sunday}\n",
    "\n",
    "impl Day { // add a method to \"Day\" type \n",
    "    fn is_weekend(&self) -> bool {\n",
    "        match self {\n",
    "            Day::Saturday | Day::Sunday => true,\n",
    "            _ => false\n",
    "        }\n",
    "    }\n",
    "}\n",
    "\n",
    "let today:Day = Day::Monday; // today is a variable of type Day\n",
    "\n",
    "match today {\n",
    "    Day::Monday    => println!(\"Everyone hates Monday\"),\n",
    "    Day::Tuesday   => println!(\"Donut day\"),\n",
    "    Day::Wednesday => println!(\"Hump day\"),\n",
    "    Day::Thursday  => println!(\"Pay day\"),\n",
    "    Day::Friday    => println!(\"Almost Weekend\"),\n",
    "    Day::Saturday  => println!(\"Weekend!!!\"),\n",
    "    Day::Sunday    => println!(\"Weekend!!!\"),\n",
    "}\n",
    "\n",
    "println!(\"Is today the weekend {}\", today.is_weekend());"
   ]
  },
  {
   "cell_type": "code",
   "execution_count": null,
   "id": "8f6fc61f",
   "metadata": {
    "vscode": {
     "languageId": "rust"
    }
   },
   "outputs": [],
   "source": [
    "// ----- VECTORS -----\n",
    "// Vectors are like arrays that can grow if mutable\n",
    "// They only store values of the same type\n",
    "{\n",
    "    let _vec1: Vec<i32> = Vec::new();  // Create an empty vector with i32\n",
    "    let mut vec2 = vec![1, 2, 3, 4];   // Create a vector with defined values\n",
    "    vec2.push(5);                      // Add values to the end of a vector\n",
    "    println!(\"1st : {}\", vec2[0]);     // Get value by index\n",
    "\n",
    "    let _second: &i32 = &vec2[1];\n",
    "    match vec2.get(1) {                // Verify value exists\n",
    "        Some(second) => println!(\"2nd : {}\", second),\n",
    "        None         => println!(\"No 2nd value\"),\n",
    "    };\n",
    "\n",
    "    // Cycle and change values\n",
    "    for i in &mut vec2 {\n",
    "        *i *= 2;\n",
    "    }\n",
    "\n",
    "    // Cycle through vector values\n",
    "    for i in &vec2 {\n",
    "        println!(\"i {}\", i);\n",
    "    }\n",
    "\n",
    "    // Get number of values in a vector\n",
    "    println!(\"Vec Length : {}\", vec2.len());\n",
    "\n",
    "    // Remove and return the last value\n",
    "    println!(\"Pop {:?}\", vec2.pop());\n",
    "};"
   ]
  },
  {
   "cell_type": "code",
   "execution_count": null,
   "id": "ef5c2c55",
   "metadata": {
    "vscode": {
     "languageId": "rust"
    }
   },
   "outputs": [],
   "source": [
    "// ----- FUNCTIONS -----\n",
    "// say_hello();\n",
    "// get_sum(4, 5);\n",
    "// println!(\"{} + {} = {}\", 5, 3, get_sum_2(5, 3));\n",
    "// println!(\"{} + {} = {}\", 7, 8, get_sum_3(7, 8));\n",
    "\n",
    "// // Get multiple values\n",
    "// let (val_1, val_2) = get_2(3);\n",
    "// println!(\"Nums : {} {}\", val_1, val_2);\n",
    "\n",
    "// let num_list = vec![1,2,3,4,5];\n",
    "// println!(\"Sum of list = {}\", sum_list(&num_list));\n"
   ]
  },
  {
   "cell_type": "code",
   "execution_count": null,
   "id": "52bfb103",
   "metadata": {
    "vscode": {
     "languageId": "rust"
    }
   },
   "outputs": [],
   "source": [
    "// ----- GENERIC TYPES -----\n",
    "// We can specify the data type to be used at a later time with generics\n",
    "// It is mainly used when we want to create functions that can work with\n",
    "// multiple data types. It is used with structs, enums, traits, etc.\n",
    "// which we'll talk about later\n",
    "\n",
    "// println!(\"5 + 4 = {}\", get_sum_gen(5,4));\n",
    "// println!(\"5.2 + 4.6 = {}\", get_sum_gen(5.2,4.6));"
   ]
  },
  {
   "cell_type": "code",
   "execution_count": null,
   "id": "da79ced1",
   "metadata": {
    "vscode": {
     "languageId": "rust"
    }
   },
   "outputs": [],
   "source": [
    "// ----- OWNERSHIP -----\n",
    "// Memory is managed through a system of ownership with\n",
    "// rules that are checked at compile time:\n",
    "//   1. Each value has a variable that's called its owner\n",
    "//   2. There is only one owner at a time\n",
    "//   3. When the owner goes out of scope the value disappears\n",
    "\n",
    "// Problem copying a String.\n",
    "// The String just stores a pointer to the beginning, \n",
    "// the memory required for each character and the number of characters. \n",
    "// If we delete one string, the information is deallocated\n",
    "// for both strings. That causes a problem called a \"double free error\".\n",
    "// \n",
    "// To avoid this error, in Rust once you copy a string,\n",
    "// you can no longer access the original:\n",
    "\n",
    "let str1 = String::from(\"World\");\n",
    "let srt2 = str1;\n",
    "// println!(\"Hello {}\", str1);  // ❌ Error!\n",
    "\n",
    "// If you want 2 copies - use clone\n",
    "let str1 = String::from(\"World\");\n",
    "let _str2 = str1.clone();\n",
    "println!(\"Hello {}\", str1);"
   ]
  },
  {
   "cell_type": "code",
   "execution_count": null,
   "id": "5b32e170",
   "metadata": {
    "vscode": {
     "languageId": "rust"
    }
   },
   "outputs": [],
   "source": [
    "// The above doesn't apply with data types :\n",
    "// Integers, bool, char, floats, tuples with the above data types only\n",
    "\n",
    "// Here the string was borrowed by the function\n",
    "let str3: String = String::from(\"World\");\n",
    "// myfunc(str3); // suppose this works, then the ownership\n",
    "                 // to str3 is passed into the function,\n",
    "                 // and str3 is dropped when function ends!\n",
    "// println!(\"str3 = {}\", str3);  // ❌ Error!\n",
    "\n",
    "// You can avoid this by passing a reference to a variable without\n",
    "// transferring ownership (You could also return the variable from\n",
    "// the function) (Passing by reference is called Borrowing)\n",
    "let str4: String = String::from(\"World\");\n",
    "// let str5 = myfunc2(str4);\n",
    "// println!(\"str5 = {}\", str5); // OK\n",
    "\n",
    "// If a function borrows a reference - it can't change it \n",
    "// unless we create a mutable version of it \n",
    "// (You can only create one mutable version in the function)\n",
    "let mut str6: String = String::from(\"Derek\");\n",
    "change_string(&mut str6);"
   ]
  },
  {
   "cell_type": "code",
   "execution_count": null,
   "id": "892989a7",
   "metadata": {
    "vscode": {
     "languageId": "rust"
    }
   },
   "outputs": [],
   "source": [
    "// ----- HASH MAPS -----\n",
    "use std::collections::HashMap;  // store key-value pairs\n",
    "let mut heroes = HashMap::new();\n",
    "heroes.insert(\"Superman\", \"Clark Kent\");\n",
    "heroes.insert(\"Batman\", \"Bruce Wayne\");\n",
    "heroes.insert(\"The Flash\", \"Barry Allen\");\n",
    "\n",
    "for(k, v) in heroes.iter(){\n",
    "    println!(\"{} = {}\", k, v);\n",
    "}\n",
    "\n",
    "println!(\"Length : {}\", heroes.len());\n",
    "\n",
    "if heroes.contains_key(&\"Batman\"){\n",
    "    let the_batman = heroes.get(&\"Batman\");\n",
    "    match the_batman {\n",
    "        Some(_x) => println!(\"Batman is a hero\"),\n",
    "        None     => println!(\"Batman is not a hero\"),\n",
    "    };\n",
    "};"
   ]
  },
  {
   "cell_type": "code",
   "execution_count": null,
   "id": "e46d8d04",
   "metadata": {
    "vscode": {
     "languageId": "rust"
    }
   },
   "outputs": [],
   "source": [
    "// ----- STRUCTS -----\n",
    "// A struct is a custom data type that stores multiple types of data\n",
    "struct Customer{\n",
    "    name: String,\n",
    "    address: String,\n",
    "    balance: f32,\n",
    "}\n",
    "\n",
    "// Create struct\n",
    "let mut bob = Customer {\n",
    "    name: String::from(\"Bob Smith\"),\n",
    "    address: String::from(\"555 Main St\"),\n",
    "    balance: 234.50\n",
    "};\n",
    "\n",
    "// Change a value\n",
    "bob.address = String::from(\"505 Main St\");\n",
    "println!(\"Address : {}\", bob.address);\n",
    "\n",
    "// You could accept multiple data types using generics like\n",
    "// we did with functions. If we had a rectangle struct\n",
    "// that could accept floats or ints we would need 2 generics\n",
    "/* struct Rectangle<T, U> {\n",
    "    length: T,\n",
    "    height: U\n",
    "}\n",
    "The data type is defined when the struct is created\n",
    "let rec = Rectangle {length: 4, height: 10.5};\n",
    "*/"
   ]
  },
  {
   "cell_type": "code",
   "execution_count": null,
   "id": "d0f094b5",
   "metadata": {
    "vscode": {
     "languageId": "rust"
    }
   },
   "outputs": [],
   "source": [
    "// ----- Traits in STRUCTS -----\n",
    "// We can tie struct properties to functions using Traits\n",
    "// You can create functions that can be used by any structs\n",
    "// that implement the right traits\n",
    "trait Shape {\n",
    "    // This is a constructor which returns a Shape\n",
    "    fn new(length: f32, width: f32) -> Self;\n",
    "\n",
    "    // An area function that belongs to this trait\n",
    "    fn area(&self) -> f32;\n",
    "}\n",
    "\n",
    "// Define rectangle and circle struct\n",
    "struct Rectangle {length: f32, width: f32}\n",
    "struct Circle {length: f32, width: f32}\n",
    "\n",
    "// Implement the trait for rectangle\n",
    "impl Shape for Rectangle{\n",
    "    // Constructor\n",
    "    fn new(length: f32, width: f32) -> Rectangle {\n",
    "        return Rectangle{length, width};\n",
    "    }\n",
    "\n",
    "    // self allows us to refer to parameters for this struct\n",
    "    fn area(&self) -> f32{\n",
    "        return self.length * self.width;\n",
    "    }\n",
    "}\n",
    "\n",
    "// Implement the trait for circle\n",
    "impl Shape for Circle{\n",
    "    // Constructor\n",
    "    fn new(length: f32, width: f32) -> Circle {\n",
    "        return Circle{length, width};\n",
    "    }\n",
    "\n",
    "    fn area(&self) -> f32{\n",
    "        return (self.length / 2.0).powf(2.0) * PI;\n",
    "    }\n",
    "}\n",
    "\n",
    "// Create circle and rectangle with Shape\n",
    "let rec: Rectangle = Shape::new(10.0, 10.0);\n",
    "let circ: Circle = Shape::new(10.0, 10.0);\n",
    "\n",
    "println!(\"Rec Area : {}\", rec.area());\n",
    "println!(\"Circ Area : {}\", circ.area());\n",
    "\n",
    "// We can implement methods on structs using generics\n",
    "// impl<T, U>Shape<T, U> ..."
   ]
  },
  {
   "cell_type": "code",
   "execution_count": null,
   "id": "fcec04b7",
   "metadata": {
    "vscode": {
     "languageId": "rust"
    }
   },
   "outputs": [],
   "source": [
    "// ----- PACKAGES CRATES & MODULES -----\n",
    "// It is very important to keep your code organized\n",
    "// You can split code into multiple files\n",
    "// Packages can contain multiple crates\n",
    "// You can define what code is public and which is private\n",
    "\n",
    "// Create a file called mod.rs in a directory named restaurant\n",
    "// in the src directory\n",
    "\n",
    "// Crates : Modules that produce a library or executable\n",
    "// Modules : Organize and handle privacy\n",
    "// Packages : Build, test and share crates\n",
    "// Paths : A way of naming an item such as a struct, function\n",
    "\n",
    "// Packages can contain 0 or 1 library crate and as many binary crates\n",
    "// as you want. If you want more binary crates create a folder\n",
    "// called bin (Create bin directory in src and create file in it\n",
    "// named more_stuff.rs)\n",
    "\n",
    "// Call for the public function that will allow us access to\n",
    "// the module\n",
    "//\n",
    "// order_food();"
   ]
  },
  {
   "cell_type": "code",
   "execution_count": null,
   "id": "819cf50f",
   "metadata": {
    "vscode": {
     "languageId": "rust"
    }
   },
   "outputs": [],
   "source": [
    "// ----- READING & WRITING TO FILES & ERROR HANDLING -----\n",
    "// Rust doesn't have exceptions like other languages. \n",
    "// It handles recoverable errors with Result \n",
    "// and the panic!() macro for unrecoverable errors\n",
    "\n",
    "// When the panic! macro executes,\n",
    "// your program prints an error,\n",
    "// memory is cleaned up - and the program quits\n",
    "//\n",
    "// panic!(\"Terrible Error\");\n",
    "\n",
    "// Accessing an index that doesn't exist calls panic!()\n",
    "// let lil_arr = [1,2];\n",
    "// println!(\"{}\", lil_arr[10]); // invokes panic!()\n",
    "\n",
    "// File to create\n",
    "let path = \"lines.txt\";\n",
    "\n",
    "// Result has 2 varients: Ok  &  Err\n",
    "// enum Result<T, E> { Ok(T), Err(E), }\n",
    "//   where T represents the data typeof the value returns \n",
    "//     and E is the type of error\n",
    "\n",
    "// Create file and handle errors with match\n",
    "let output = File::create(path);\n",
    "let mut output = match output {\n",
    "    Ok(file) => file,\n",
    "    Err(error) => {\n",
    "        panic!(\"Problem creating file : {:?}\", error);\n",
    "    }\n",
    "};\n",
    "\n",
    "// Write to file \n",
    "// and define the panic! error message with expect\n",
    "write!(output, \"Just some\\nRandom Words\").expect(\"Failed to write to file\");\n",
    "\n",
    "// Open the file and if everything is ok, then unwrap() returns the file,\n",
    "// and if not, then panic! triggers an error \n",
    "// (You could replace unwrap with ?)\n",
    "let input = File::open(path).unwrap();\n",
    "let buffered = BufReader::new(input); // Read file using buffering\n",
    "\n",
    "// Cycle through and print the lines\n",
    "for line in buffered.lines() {\n",
    "    println!(\"{}\", line.unwrap());\n",
    "}\n",
    "\n",
    "// You can also catch specific errors\n",
    "// Here I'll try to open a file and trigger an error if the file\n",
    "// couldn't be created, or use a default\n",
    "let output2 = File::create(\"rand.txt\");\n",
    "let output2 = match output2 {\n",
    "    Ok(file) => file,\n",
    "    Err(error) => match error.kind() {\n",
    "        ErrorKind::NotFound => match File::create(\"rand.txt\") {\n",
    "            Ok(fc) => fc,\n",
    "            Err(e) => panic!(\"Can't create file: {:?}\", e),\n",
    "        },\n",
    "        _other_error => panic!(\"Problem opening file : {:?}\", error),\n",
    "    },\n",
    "};"
   ]
  },
  {
   "cell_type": "code",
   "execution_count": null,
   "id": "0245b0d0",
   "metadata": {
    "vscode": {
     "languageId": "rust"
    }
   },
   "outputs": [],
   "source": [
    "// ----- ITERATORS -----\n",
    "// Iterators cycle through values in arrays, vectors, maps, etc.\n",
    "// An iterator cycles through values by borrowing, \n",
    "// so the collection is not moved (You can't change values)\n",
    "let mut arr_it = [1,2,3,4];\n",
    "for val in arr_it.iter() {\n",
    "    println!(\"{}\", val);\n",
    "}\n",
    "\n",
    "// You can create an iterator\n",
    "let mut iter1 = arr_it.iter();\n",
    "// And call for each value with next\n",
    "println!(\"1st : {:?}\", iter1.next());\n",
    "\n",
    "// You could consume the collection with\n",
    "// arr_it.into_iter() but you'll no longer be able to use the collection"
   ]
  },
  {
   "cell_type": "code",
   "execution_count": null,
   "id": "cf404f5e",
   "metadata": {
    "vscode": {
     "languageId": "rust"
    }
   },
   "outputs": [],
   "source": [
    "// ----- CLOSURES -----\n",
    "// A closure is a function without a name \n",
    "// and they are sometimes stored in a variable \n",
    "// (They can be used to pass a function into another function)\n",
    "//\n",
    "// let var_name = |parameters| -> return_type {BODY}\n",
    "\n",
    "// Create a closure that defines if someone can vote\n",
    "{\n",
    "    let can_vote = |age: i32| {\n",
    "        age >= 18\n",
    "    };\n",
    "    println!(\"Can vote : {}\", can_vote(8));\n",
    "};"
   ]
  },
  {
   "cell_type": "code",
   "execution_count": null,
   "id": "fb541b38",
   "metadata": {
    "vscode": {
     "languageId": "rust"
    }
   },
   "outputs": [],
   "source": [
    "\n",
    "// Closures can access variables outside of its body with borrowing\n",
    "{\n",
    "    let mut samp1 = 5;\n",
    "    let print_var = || println!(\"samp1 = {}\", samp1);\n",
    "    print_var();\n",
    "    samp1 = 10; // no error !!\n",
    "\n",
    "    // You can change values if you mark the closure mutable\n",
    "    let mut change_var = || samp1 += 1;\n",
    "    change_var();\n",
    "    println!(\"samp1 = {}\", samp1);\n",
    "    samp1 = 10;\n",
    "    println!(\"samp1 = {}\", samp1);\n",
    "};\n"
   ]
  },
  {
   "cell_type": "code",
   "execution_count": null,
   "id": "af17da70",
   "metadata": {
    "vscode": {
     "languageId": "rust"
    }
   },
   "outputs": [],
   "source": [
    "// You can pass closures to functions\n",
    "{\n",
    "    fn use_func<T>(a: i32, b: i32, func: T) -> i32 where T: Fn(i32, i32) -> i32 {\n",
    "        func(a, b)\n",
    "    }\n",
    "\n",
    "    let sum = |a, b| a + b;\n",
    "    let prod = |a, b| a * b;\n",
    "\n",
    "    println!(\"5 + 4 = {}\", use_func(5, 4, sum));\n",
    "    println!(\"5 * 4 = {}\", use_func(5, 4, prod));\n",
    "};\n"
   ]
  },
  {
   "cell_type": "code",
   "execution_count": null,
   "id": "d4bfd2ed",
   "metadata": {
    "vscode": {
     "languageId": "rust"
    }
   },
   "outputs": [],
   "source": [
    "\n",
    "// ----- SMART POINTERS -----\n",
    "// A pointer is an address to a location in memory. We have been\n",
    "// using them when we used the reference operator(&) to borrow\n",
    "// a value.\n",
    "\n",
    "// Strings and vectors are smart pointers. They own\n",
    "// data and also have functions for manipulating that data.\n",
    "\n",
    "// Smart pointers provide functionality beyond referencing locations\n",
    "// in memory. They can be used to track who has ownership of data.\n",
    "// Ownership is very important with Rust."
   ]
  },
  {
   "cell_type": "code",
   "execution_count": null,
   "id": "39d805aa",
   "metadata": {
    "vscode": {
     "languageId": "rust"
    }
   },
   "outputs": [],
   "source": [
    "// ----- Box smart pointer -----\n",
    "// Box<T> is a smart pointer that provides heap allocation in Rust. \n",
    "// Here are its key characteristics:\n",
    "\n",
    "// Single Ownership:\n",
    "//    Box<T> owns the data it points to\n",
    "//    When the Box is dropped, the heap memory is freed\n",
    "//    Only one Box can own the data at a time\n",
    "\n",
    "// Common Use Cases:\n",
    "//    Recursive types (like linked lists or trees)\n",
    "//    When you want heap allocation (Large data, ...)\n",
    "//    Trait objects that require a fixed size\n",
    "\n",
    "// Key Features:\n",
    "//    Fixed size (pointer size) regardless of T's size\n",
    "//    Can dereference with * operator\n",
    "//    Automatic dereferencing for method calls\n",
    "//    Zero runtime overhead compared to raw pointers\n",
    "\n",
    "// Differences from References:\n",
    "//    Box owns its data; references borrow\n",
    "//    Box allocates on heap; references just point\n",
    "//    Box can be moved; references have lifetimes\n",
    "\n",
    "// More complex ownership:\n",
    "//    Rc<T> - shared ownership\n",
    "//    For thread-safe shared ownership, use Arc<T>\n",
    "//    For interior mutability, use Cell<T> or RefCell<T>"
   ]
  },
  {
   "cell_type": "code",
   "execution_count": null,
   "id": "88563627",
   "metadata": {
    "vscode": {
     "languageId": "rust"
    }
   },
   "outputs": [],
   "source": [
    "// Rust Box Examples\n",
    "\n",
    "// Example 1: Recursive types (won't compile without Box)\n",
    "struct ListNode {\n",
    "    value: i32,\n",
    "    // next: ListNode,  // ERROR: infinite size\n",
    "    next: Option<Box<ListNode>>  // OK: Box has fixed size\n",
    "}\n",
    "\n",
    "// Example 2: Large data on heap instead of stack\n",
    "fn main() {\n",
    "    // Large array on stack - might cause stack overflow\n",
    "    // let large_array = [0; 1000000];\n",
    "    \n",
    "    // Same array on heap - safer\n",
    "    let large_array = Box::new([0; 1000000]);\n",
    "    \n",
    "    // Example 3: Trait objects require Box\n",
    "    let command: Box<dyn Command> = get_command();\n",
    "    command.execute();\n",
    "    \n",
    "    // Example 4: Ensuring heap allocation\n",
    "    let num = Box::new(42);\n",
    "    let string = Box::new(String::from(\"hello\"));\n",
    "    \n",
    "    // Can dereference with *\n",
    "    println!(\"num + 1 = {}\", *num + 1);\n",
    "    \n",
    "    // Automatic dereferencing for methods\n",
    "    println!(\"string length: {}\", string.len()); // no * needed\n",
    "    \n",
    "    // Moving out of box\n",
    "    let unboxed: String = *string;\n",
    "    // println!(\"{}\", string); // Error: value moved\n",
    "}\n",
    "\n",
    "// For Example 3\n",
    "trait Command {\n",
    "    fn execute(&self);\n",
    "}\n",
    "\n",
    "struct PrintCommand {\n",
    "    message: String,\n",
    "}\n",
    "\n",
    "impl Command for PrintCommand {\n",
    "    fn execute(&self) {\n",
    "        println!(\"{}\", self.message);\n",
    "    }\n",
    "}\n",
    "\n",
    "fn get_command() -> Box<dyn Command> {\n",
    "    Box::new(PrintCommand {\n",
    "        message: String::from(\"Hello\"),\n",
    "    })\n",
    "}"
   ]
  },
  {
   "cell_type": "code",
   "execution_count": null,
   "id": "ef68d77e",
   "metadata": {
    "vscode": {
     "languageId": "rust"
    }
   },
   "outputs": [],
   "source": [
    "// XXXXXXXXXXXXXX"
   ]
  },
  {
   "cell_type": "code",
   "execution_count": null,
   "id": "5b02fcad",
   "metadata": {
    "vscode": {
     "languageId": "rust"
    }
   },
   "outputs": [],
   "source": [
    "// Rust Box Example - a Tree\n",
    "\n",
    "// The Box smart pointer stores data on the heap\n",
    "// (all values are stored on the stack by default)\n",
    "// Then you pass pointers to it on the stack.\n",
    "\n",
    "let b_int1 = Box::new(10);        // Create a Box with value 10\n",
    "println!(\"b_int1 = {}\", b_int1);  \n",
    "\n",
    "// If we try to create a Binary tree we get the error\n",
    "// the size for values of type `str` cannot be known at\n",
    "// compilation time within `TreeNode<T>`\n",
    "\n",
    "// This is saying we can't include nodes in a node because\n",
    "// the size of node depends on the size of multiple nodes\n",
    "// which confuses the compiler\n",
    "// struct TreeNode<T> {\n",
    "//     pub left: TreeNode<T>,\n",
    "//     pub right: TreeNode<T>,\n",
    "//     pub key: T,\n",
    "// }\n",
    "\n",
    "// We have other problems in that Binary Trees eventually end\n",
    "// and Rust doesn't like Null values so we have to use Option\n",
    "\n",
    "// We can use a Box here because it has a pointer to data and\n",
    "// a fixed size\n",
    "\n",
    "struct TreeNode<T> {\n",
    "    pub left: Option<Box<TreeNode<T>>>,\n",
    "    pub right: Option<Box<TreeNode<T>>>,\n",
    "    pub key: T,\n",
    "}\n",
    "\n",
    "// Create functions for creating nodes and adding left & right\n",
    "impl<T> TreeNode<T> {\n",
    "    pub fn new(key: T) -> Self {\n",
    "        TreeNode {\n",
    "            left: None,\n",
    "            right: None,\n",
    "            key,\n",
    "        }\n",
    "    }\n",
    "\n",
    "    pub fn left(mut self, node: TreeNode<T>) -> Self {\n",
    "        self.left = Some(Box::new(node));\n",
    "        self\n",
    "    }\n",
    "\n",
    "    pub fn right(mut self, node: TreeNode<T>) -> Self {\n",
    "        self.right = Some(Box::new(node));\n",
    "        self\n",
    "    }\n",
    "}\n",
    "\n",
    "// Create the root node with left and right\n",
    "let node1 = TreeNode::new(1)\n",
    ".left(TreeNode::new(2))\n",
    ".right(TreeNode::new(3));\n",
    "\n",
    "\n",
    "// Used to test original\n",
    "// let mut boss = TreeNode {\n",
    "//     left: None,\n",
    "//     right: None,\n",
    "//     key: 50,\n",
    "// };\n"
   ]
  },
  {
   "cell_type": "code",
   "execution_count": null,
   "id": "b3e7b6d4",
   "metadata": {
    "vscode": {
     "languageId": "rust"
    }
   },
   "outputs": [],
   "source": [
    "\n",
    "// ----- CONCURRENCY -----\n",
    "// Concurrent programming = executing different blocks of code\n",
    "// independently\n",
    "// Parallel programming  = executing at the same time\n",
    "// A thread handles scheduling and execution of blocks of code.\n",
    "\n",
    "// Common problems with parallel programming involve :\n",
    "// 1. Thread are accessing data in the wrong order\n",
    "// 2. Threads are blocked from executing because of confusion\n",
    "// over requirements to proceed with execution\n",
    "\n",
    "use std::thread;\n",
    "use std::time::Duration;\n",
    "\n",
    "// // Create a thread with spawn\n",
    "// thread::spawn(|| {\n",
    "//     for i in 1..25 {\n",
    "//         println!(\"Spawned thread : {}\", i);\n",
    "//         // Forces thread to sleep and allow another thread to execute\n",
    "//         thread::sleep(Duration::from_millis(1));\n",
    "//     }\n",
    "// });\n",
    "\n",
    "// // There are no guarantees on when the threads will execute and\n",
    "// // that they will complete execution\n",
    "// for i in 1..20 {\n",
    "//     println!(\"Main thread : {}\", i);\n",
    "//     thread::sleep(Duration::from_millis(1));\n",
    "// }\n",
    "\n",
    "// If we assign the return value for this thread to a variable\n",
    "// and then call join on it our program will wait for it to stop\n",
    "// executing\n",
    "let thread1 = thread::spawn(|| {\n",
    "    for i in 1..25 {\n",
    "        println!(\"Spawned thread : {}\", i);\n",
    "        // Forces thread to sleep and allow another thread to execute\n",
    "        thread::sleep(Duration::from_millis(1));\n",
    "    }\n",
    "});\n",
    "\n",
    "// There are no guarantees on when the threads will execute and\n",
    "// that they will complete execution\n",
    "for i in 1..20 {\n",
    "    println!(\"Main thread : {}\", i);\n",
    "    thread::sleep(Duration::from_millis(1));\n",
    "}\n",
    "\n",
    "// We call join here so that the main thread executes with thread1\n",
    "// unwrap handles the option Result which is Ok or Err\n",
    "thread1.join().unwrap();\n"
   ]
  },
  {
   "cell_type": "code",
   "execution_count": null,
   "id": "6c30bd95",
   "metadata": {
    "vscode": {
     "languageId": "rust"
    }
   },
   "outputs": [],
   "source": [
    "// ---------- Cell<T> and RefCell<T> ----------\n",
    "// \n",
    "// Cell<T> and RefCell<T> provide interior mutability in Rust,\n",
    "// i.e. a way to mutate data even when there are \n",
    "// immutable references to that data. \n",
    "\n",
    "// ----- Cell<T> is a simpler, useful to simple types that can be copied\n",
    "// Key points about Cell<T>:\n",
    "// - Best for Copy types (like numbers)\n",
    "// - Provides get() and set() methods\n",
    "// - No interior borrowing - just gets and sets values\n",
    "// - Thread-unsafe\n",
    "// - Zero runtime cost\n",
    "\n",
    "use std::cell::Cell;\n",
    "\n",
    "struct Counter {\n",
    "    count: Cell<i32>\n",
    "}\n",
    "\n",
    "impl Counter {\n",
    "    fn increment(&self) {  // Note: &self, not &mut self\n",
    "        let current = self.count.get();\n",
    "        self.count.set(current + 1);\n",
    "    }\n",
    "}\n",
    "\n",
    "fn main() {\n",
    "    let counter = Counter { count: Cell::new(0) };\n",
    "    counter.increment();  // Works even though counter is immutable!\n",
    "    println!(\"Count: {}\", counter.count.get()); // Prints: Count: 1\n",
    "}\n",
    "\n",
    "main();"
   ]
  },
  {
   "cell_type": "code",
   "execution_count": null,
   "id": "d895894b",
   "metadata": {
    "vscode": {
     "languageId": "rust"
    }
   },
   "outputs": [],
   "source": [
    "// ----- RefCell<T>\n",
    "// RefCell<T> is more powerful as it allows \n",
    "// mutable borrows of its contents, but with runtime checks:\n",
    "// Key points about RefCell<T>:\n",
    "// - Works with any type T\n",
    "// - Provides borrow() and borrow_mut() methods\n",
    "// - Enforces borrowing rules at runtime\n",
    "// - Can cause runtime panics if borrowing rules are violated\n",
    "// - Has runtime overhead for checking borrows\n",
    "// - Thread-unsafe\n",
    "\n",
    "// Common use cases for RefCell<T>:\n",
    "// 1. Implementing mock objects for testing\n",
    "// 2. When you need interior mutability in a shared reference\n",
    "// 3. In callback-based APIs\n",
    "// 4. When implementing self-referential structs\n",
    "\n",
    "use std::cell::RefCell;\n",
    "\n",
    "struct Database {\n",
    "    data: RefCell<Vec<String>>\n",
    "}\n",
    "\n",
    "impl Database {\n",
    "    fn new() -> Self {\n",
    "        Database {\n",
    "            data: RefCell::new(Vec::new())\n",
    "        }\n",
    "    }\n",
    "\n",
    "    fn insert(&self, value: String) {  // Note: &self, not &mut self\n",
    "        // borrow_mut() gives us mutable access\n",
    "        self.data.borrow_mut().push(value);\n",
    "    }\n",
    "\n",
    "    fn get_all(&self) -> Vec<String> {\n",
    "        // borrow() gives us immutable access\n",
    "        self.data.borrow().clone()\n",
    "    }\n",
    "}\n",
    "\n",
    "fn main() {\n",
    "    let db = Database::new();\n",
    "    db.insert(\"Hello\".to_string());\n",
    "    db.insert(\"World\".to_string());\n",
    "    \n",
    "    println!(\"Data: {:?}\", db.get_all()); // Prints: Data: [\"Hello\", \"World\"]\n",
    "    \n",
    "    // This would panic at runtime - can't borrow mutably while already borrowed:\n",
    "    // let mut data1 = db.data.borrow_mut();\n",
    "    // let mut data2 = db.data.borrow_mut();\n",
    "}\n",
    "\n",
    "main();"
   ]
  },
  {
   "cell_type": "code",
   "execution_count": null,
   "id": "32fb2d8b",
   "metadata": {
    "vscode": {
     "languageId": "rust"
    }
   },
   "outputs": [],
   "source": [
    "// ----- Combining Rc with RefCell for shared mutable state:\n",
    "\n",
    "// Important considerations:\n",
    "// 1. Use `Cell` for simple `Copy` types when possible\n",
    "// 2. Use `RefCell` when you need dynamic borrowing\n",
    "// 3. Both are for single-threaded scenarios only\n",
    "// 4. For thread-safe interior mutability, use `Mutex` or `RwLock`\n",
    "// 5. Interior mutability should be used sparingly - prefer \n",
    "// normal Rust borrowing rules when possible\n",
    "\n",
    "use std::rc::Rc;\n",
    "use std::cell::RefCell;\n",
    "\n",
    "struct SharedData {\n",
    "    data: Rc<RefCell<Vec<i32>>>\n",
    "}\n",
    "\n",
    "impl SharedData {\n",
    "    fn new() -> Self {\n",
    "        SharedData {\n",
    "            data: Rc::new(RefCell::new(Vec::new()))\n",
    "        }\n",
    "    }\n",
    "\n",
    "    fn add(&self, value: i32) {\n",
    "        self.data.borrow_mut().push(value);\n",
    "    }\n",
    "\n",
    "    fn clone_data(&self) -> Rc<RefCell<Vec<i32>>> {\n",
    "        Rc::clone(&self.data)\n",
    "    }\n",
    "}\n",
    "\n",
    "fn main() {\n",
    "    let shared = SharedData::new();\n",
    "    let clone1 = shared.clone_data();\n",
    "    let clone2 = shared.clone_data();\n",
    "\n",
    "    shared.add(1);\n",
    "    clone1.borrow_mut().push(2);\n",
    "    clone2.borrow_mut().push(3);\n",
    "\n",
    "    println!(\"Data: {:?}\", shared.data.borrow()); // Prints: Data: [1, 2, 3]\n",
    "}\n",
    "\n",
    "main();"
   ]
  },
  {
   "cell_type": "code",
   "execution_count": null,
   "id": "20a8e840",
   "metadata": {
    "vscode": {
     "languageId": "rust"
    }
   },
   "outputs": [],
   "source": [
    "// In Rust a reference cannot be an owner of memory.\n",
    "// This is a fundamental aspect of Rust's design. \n",
    "// A reference is always just \"borrowing\" access\n",
    "// to data that is owned by something else.\n",
    "\n",
    "fn main() {\n",
    "    // Ownership examples\n",
    "    let owner = String::from(\"hello\");  // owner owns this string\n",
    "    let new_owner = owner;              // ownership transferred\n",
    "    // println!(\"owner {}\", owner);     // Error: owner no longer valid\n",
    "    println!(\"new_owner {}\", new_owner);\n",
    "    \n",
    "    // Reference examples\n",
    "    let owner = String::from(\"hello\");\n",
    "    let reference = &owner;              // reference just borrows access\n",
    "    println!(\"owner     {}\", owner);     // owner still valid\n",
    "    println!(\"reference {}\", reference); // reference can use the data\n",
    "    \n",
    "    // Even with Box (heap allocation), references still just borrow\n",
    "    let boxed = Box::new(String::from(\"hello\"));  // boxed owns heap data\n",
    "    let box_ref = &boxed;               // reference doesn't own anything\n",
    "    \n",
    "    // You may use smart pointers insead (shared ownership):\n",
    "    // Rc = Reference Counted pointer. \n",
    "    let rc = std::rc::Rc::new(String::from(\"hello\"));\n",
    "    let clone = rc.clone(); // Both rc and clone now share ownership\n",
    "    println!(\"rc    {}\",rc);\n",
    "    println!(\"clone {}\",clone);\n",
    "    \n",
    "    // Arc = Atomically Reference Counted (thread safe)\n",
    "    let arc = std::sync::Arc::new(String::from(\"world\"));\n",
    "    let arc_clone = arc.clone();  // Both arc and arc_clone share ownership\n",
    "    println!(\"arc       {}\",arc);\n",
    "    println!(\"arc_clone {}\",arc_clone);\n",
    "}\n",
    "\n",
    "main();"
   ]
  },
  {
   "cell_type": "code",
   "execution_count": null,
   "id": "f8dc8336",
   "metadata": {
    "vscode": {
     "languageId": "rust"
    }
   },
   "outputs": [],
   "source": [
    "\n",
    "// This won't compile\n",
    "    // fn create_vector_ref() -> &mut Vec<i32> {\n",
    "    //     let mut vec = Vec::new();  // Vector is created here\n",
    "    //     vec.push(1);\n",
    "    //     vec.push(2);\n",
    "    //     &mut vec  // Trying to return a reference to vec\n",
    "    // }  // vec is dropped here, reference would be dangling\n",
    "\n",
    "// Here's how to fix it - return the vector itself\n",
    "fn create_vector() -> Vec<i32> {\n",
    "    let mut vec = Vec::new();\n",
    "    vec.push(1);\n",
    "    vec.push(2);\n",
    "    vec  // Return the vector, transferring ownership\n",
    "}\n",
    "\n",
    "fn main() {\n",
    "    let mut vec = create_vector();\n",
    "    vec.push(3);\n",
    "    \n",
    "    // Using debug formatter\n",
    "    println!(\"vec: {:?}\", vec);\n",
    "    // Or for pretty printing with line breaks\n",
    "    println!(\"vec: {:#?}\", vec);\n",
    "    \n",
    "    // Alternative: print elements manually\n",
    "    print!(\"vec: [\");\n",
    "    for (i, item) in vec.iter().enumerate() {\n",
    "        if i > 0 {\n",
    "            print!(\", \");\n",
    "        }\n",
    "        print!(\"{}\", item);\n",
    "    }\n",
    "    println!(\"]\");\n",
    "}\n",
    "\n",
    "main();"
   ]
  },
  {
   "cell_type": "code",
   "execution_count": null,
   "id": "6fa827ab",
   "metadata": {
    "vscode": {
     "languageId": "rust"
    }
   },
   "outputs": [],
   "source": [
    "// Using Polars - example with csv files and joining\n",
    ":dep polars = { version = \"0.35.0\", features = [\"csv\", \"parquet\", \"lazy\"] }\n",
    "use polars::prelude::*;\n",
    "use std::fs::File;\n",
    "\n",
    "fn main() -> Result<(), PolarsError> {\n",
    "    // Create first DataFrame (df1) - Sales data\n",
    "    let mut df1 = DataFrame::new(vec![\n",
    "        Series::new(\"product_id\", &[1, 2, 3, 4, 5]),\n",
    "        Series::new(\"product_name\", &[\"Apple\", \"Banana\", \"Orange\", \"Mango\", \"Grape\"]),\n",
    "        Series::new(\"price\", &[1.0, 0.5, 0.7, 2.0, 1.5])\n",
    "    ])?;\n",
    "\n",
    "    // Create second DataFrame (df2) - Inventory data\n",
    "    let mut df2 = DataFrame::new(vec![\n",
    "        Series::new(\"product_id\", &[1, 2, 3, 4, 6]),\n",
    "        Series::new(\"quantity\", &[100, 150, 200, 75, 50]),\n",
    "        Series::new(\"supplier\", &[\"Sup A\", \"Sup B\", \"Sup A\", \"Sup C\", \"Sup B\"])\n",
    "    ])?;\n",
    "\n",
    "    // Save DataFrames to CSV files\n",
    "    println!(\"Saving initial DataFrames to CSV files...\");\n",
    "    let mut file = File::create(\"products.csv\").expect(\"could not create file\");\n",
    "    CsvWriter::new(&mut file)\n",
    "        .finish(&mut df1)\n",
    "        .expect(\"failed to write to csv\");\n",
    "    let mut file = File::create(\"inventory.csv\").expect(\"could not create file\");\n",
    "    CsvWriter::new(&mut file)\n",
    "        .finish(&mut df2)\n",
    "        .expect(\"failed to write to csv\");\n",
    "\n",
    "    // Read the saved CSV files back into new DataFrames\n",
    "    println!(\"\\nReading DataFrames from CSV files...\");\n",
    "    \n",
    "    let df1_read = CsvReader::from_path(\"products.csv\")?\n",
    "        .has_header(true)\n",
    "        .finish()?;\n",
    "\n",
    "    let df2_read = CsvReader::from_path(\"inventory.csv\")?\n",
    "        .has_header(true)\n",
    "        .finish()?;\n",
    "\n",
    "    // Perform a left join on product_id\n",
    "    println!(\"\\nPerforming left join...\");\n",
    "    let mut joined = df1_read.left_join(\n",
    "        &df2_read,\n",
    "        [\"product_id\"],\n",
    "        [\"product_id\"]\n",
    "    )?;\n",
    "\n",
    "    // Write joined result to a new CSV file\n",
    "    println!(\"\\nWriting joined result to output.csv...\");\n",
    "    let mut file = File::create(\"output.csv\").expect(\"could not create file\");\n",
    "    CsvWriter::new(&mut file)\n",
    "        .finish(&mut joined)\n",
    "        .expect(\"failed to write to csv\");\n",
    "\n",
    "    // Display the results\n",
    "    println!(\"\\nOriginal df1 (Products):\");\n",
    "    println!(\"{}\", df1);\n",
    "    \n",
    "    println!(\"\\nOriginal df2 (Inventory):\");\n",
    "    println!(\"{}\", df2);\n",
    "    \n",
    "    println!(\"\\nJoined result:\");\n",
    "    println!(\"{}\", joined);\n",
    "\n",
    "    Ok(())\n",
    "}\n",
    "\n",
    "main();\n"
   ]
  },
  {
   "cell_type": "code",
   "execution_count": null,
   "id": "06a3da7a",
   "metadata": {
    "vscode": {
     "languageId": "rust"
    }
   },
   "outputs": [],
   "source": [
    "// Using parquet files\n",
    "\n",
    ":dep polars = { version = \"0.35.0\", features = [\"csv\", \"parquet\", \"lazy\"] }\n",
    "\n",
    "use polars::prelude::*;\n",
    "use std::fs::File;\n",
    "\n",
    "fn main() -> Result<(), PolarsError> {\n",
    "    // Create first DataFrame (df1) - Sales data\n",
    "    let mut df1 = DataFrame::new(vec![\n",
    "        Series::new(\"product_id\", &[1, 2, 3, 4, 5]),\n",
    "        Series::new(\"product_name\", &[\"Apple\", \"Banana\", \"Orange\", \"Mango\", \"Grape\"]),\n",
    "        Series::new(\"price\", &[1.0, 0.5, 0.7, 2.0, 1.5])\n",
    "    ])?;\n",
    "\n",
    "    // Create second DataFrame (df2) - Inventory data\n",
    "    let mut df2 = DataFrame::new(vec![\n",
    "        Series::new(\"product_id\", &[1, 2, 3, 4, 6]),\n",
    "        Series::new(\"quantity\", &[100, 150, 200, 75, 50]),\n",
    "        Series::new(\"supplier\", &[\"Sup A\", \"Sup B\", \"Sup A\", \"Sup C\", \"Sup B\"])\n",
    "    ])?;\n",
    "\n",
    "    // Save DataFrames to Parquet files\n",
    "    println!(\"Saving initial DataFrames to Parquet files...\");\n",
    "    let mut file = File::create(\"products.parquet\").expect(\"could not create file\");\n",
    "    ParquetWriter::new(&mut file)\n",
    "        .finish(&mut df1)\n",
    "        .expect(\"failed to write to parquet\");\n",
    "    let mut file = File::create(\"inventory.parquet\").expect(\"could not create file\");\n",
    "    ParquetWriter::new(&mut file)\n",
    "        .finish(&mut df2)\n",
    "        .expect(\"failed to write to parquet\");\n",
    "\n",
    "    // Read the saved Parquet files back into new DataFrames\n",
    "    println!(\"\\nReading DataFrames from Parquet files...\");\n",
    "    let df1_read = ParquetReader::new(File::open(\"products.parquet\")?)\n",
    "        .finish()?;\n",
    "    let df2_read = ParquetReader::new(File::open(\"inventory.parquet\")?)\n",
    "        .finish()?;\n",
    "\n",
    "    // Perform a left join on product_id\n",
    "    println!(\"\\nPerforming left join...\");\n",
    "    let mut joined = df1_read.left_join(&df2_read, [\"product_id\"], [\"product_id\"])?;\n",
    "\n",
    "    // Write joined result to a new Parquet file\n",
    "    println!(\"\\nWriting joined result to output.parquet...\");\n",
    "    let mut file = File::create(\"output.parquet\").expect(\"could not create file\");\n",
    "    ParquetWriter::new(&mut file)\n",
    "        .finish(&mut joined)\n",
    "        .expect(\"failed to write to parquet\");\n",
    "\n",
    "    // Display the results\n",
    "    println!(\"\\nOriginal df1 (Products):\");\n",
    "    println!(\"{}\", df1);\n",
    "\n",
    "    println!(\"\\nOriginal df2 (Inventory):\");\n",
    "    println!(\"{}\", df2);\n",
    "\n",
    "    println!(\"\\nJoined result:\");\n",
    "    println!(\"{}\", joined);\n",
    "\n",
    "    Ok(())\n",
    "}\n",
    "\n",
    "main();"
   ]
  },
  {
   "cell_type": "markdown",
   "id": "8fbedaa9",
   "metadata": {},
   "source": [
    "### Rust Extensions for Python\n",
    "\n",
    "<b>file: <font color='red'>src/lib.rs</font></b>\n",
    "<div style=\"background-color: rgb(235, 235, 235);\">\n",
    "\n",
    "```rust\n",
    "use pyo3::prelude::*;\n",
    "\n",
    "/// A simple fibonacci function\n",
    "#[pyfunction]\n",
    "fn fibonacci(n: u64) -> u64 {\n",
    "    match n {\n",
    "        0 => 0,\n",
    "        1 => 1,\n",
    "        _ => fibonacci(n - 1) + fibonacci(n - 2),\n",
    "    }\n",
    "}\n",
    "\n",
    "/// Module documentation\n",
    "#[pymodule]\n",
    "fn rust_extension(_py: Python, m: &PyModule) -> PyResult<()> {\n",
    "    m.add_function(wrap_pyfunction!(fibonacci, m)?)?;\n",
    "    Ok(())\n",
    "}\n",
    "```\n",
    "\n",
    "</div>\n",
    "\n",
    "<b>file: <font color='red'>Cargo.toml</font></b>\n",
    "<div style=\"background-color: rgb(235, 235, 235);\">\n",
    "\n",
    "```rust\n",
    "[package]\n",
    "name = \"rust_extension\"\n",
    "version = \"0.1.0\"\n",
    "edition = \"2021\"\n",
    "\n",
    "[lib]\n",
    "name = \"rust_extension\"\n",
    "crate-type = [\"cdylib\"]\n",
    "\n",
    "[dependencies]\n",
    "pyo3 = { version = \"0.19\", features = [\"extension-module\"] }\n",
    "```\n",
    "\n",
    "</div>\n",
    "\n",
    "<b>file: <font color='red'>example.py</font></b>\n",
    "<div style=\"background-color: rgb(235, 235, 235);\">\n",
    "\n",
    "```python\n",
    "from rust_extension import fibonacci\n",
    "\n",
    "print(fibonacci(10))  # Should print 55\n",
    "```\n",
    "\n",
    "</div>\n",
    "\n",
    "To use this extension:\n",
    "\n",
    "```bash\n",
    "    pip install maturin\n",
    "    mkdir rust_extension\n",
    "    cd rust_extension\n",
    "    src/lib.rs\n",
    "    Cargo.toml\n",
    "    example.py\n",
    "\n",
    "    maturin develop\n",
    "```"
   ]
  },
  {
   "cell_type": "markdown",
   "id": "4b999ef3",
   "metadata": {},
   "source": [
    "### Rust Extensions for Polars in Python\n",
    "\n",
    "<b>file: <font color='red'>src/lib.rs</font></b>\n",
    "<div style=\"background-color: rgb(235, 235, 235);\">\n",
    "\n",
    "```rust\n",
    "use pyo3::prelude::*;\n",
    "use polars::prelude::*;\n",
    "use pyo3_polars::prelude::*;\n",
    "\n",
    "/// Custom function to calculate moving average\n",
    "/// with custom weights\n",
    "#[pyfunction]\n",
    "fn custom_weighted_moving_average(series: PolarsResult<PySeries>, window_size: usize) -> PolarsResult<PySeries> {\n",
    "    let series = series?;\n",
    "    let series = series.as_ref().cast(&DataType::Float64)?;\n",
    "    \n",
    "    // Generate weights (simple linear weights for demonstration)\n",
    "    let weights: Vec<f64> = (1..=window_size)\n",
    "        .map(|i| i as f64)\n",
    "        .collect();\n",
    "    let weights_sum: f64 = weights.iter().sum();\n",
    "    \n",
    "    // Normalize weights\n",
    "    let weights: Vec<f64> = weights\n",
    "        .iter()\n",
    "        .map(|w| w / weights_sum)\n",
    "        .collect();\n",
    "\n",
    "    // Calculate weighted moving average\n",
    "    let values = series.f64()?;\n",
    "    let mut result = Vec::with_capacity(series.len());\n",
    "    \n",
    "    for idx in 0..series.len() {\n",
    "        if idx < window_size - 1 {\n",
    "            result.push(None);\n",
    "            continue;\n",
    "        }\n",
    "        \n",
    "        let mut weighted_sum = 0.0;\n",
    "        let mut weight_sum = 0.0;\n",
    "        \n",
    "        for (w_idx, weight) in weights.iter().enumerate() {\n",
    "            if let Some(val) = values.get(idx - w_idx) {\n",
    "                weighted_sum += val * weight;\n",
    "                weight_sum += weight;\n",
    "            }\n",
    "        }\n",
    "        \n",
    "        if weight_sum > 0.0 {\n",
    "            result.push(Some(weighted_sum));\n",
    "        } else {\n",
    "            result.push(None);\n",
    "        }\n",
    "    }\n",
    "    \n",
    "    let ca = Float64Chunked::from_vec(\"weighted_ma\", result);\n",
    "    Ok(ca.into_series().into())\n",
    "}\n",
    "\n",
    "/// Module documentation\n",
    "#[pymodule]\n",
    "fn polars_extension(_py: Python, m: &PyModule) -> PyResult<()> {\n",
    "    m.add_function(wrap_pyfunction!(custom_weighted_moving_average, m)?)?;\n",
    "    Ok(())\n",
    "}\n",
    "```\n",
    "\n",
    "</div>\n",
    "\n",
    "<b>file: <font color='red'>Cargo.toml</font></b>\n",
    "<div style=\"background-color: rgb(235, 235, 235);\">\n",
    "\n",
    "```rust\n",
    "[package]\n",
    "name = \"polars_extension\"\n",
    "version = \"0.1.0\"\n",
    "edition = \"2021\"\n",
    "\n",
    "[lib]\n",
    "name = \"polars_extension\"\n",
    "crate-type = [\"cdylib\"]\n",
    "\n",
    "[dependencies]\n",
    "pyo3 = { version = \"0.19\", features = [\"extension-module\"] }\n",
    "pyo3-polars = \"0.9\"\n",
    "polars = { version = \"0.34\", features = [\"rolling_window\"] }\n",
    "```\n",
    "\n",
    "</div>\n",
    "\n",
    "<b>file: <font color='red'>example.py</font></b>\n",
    "<div style=\"background-color: rgb(235, 235, 235);\">\n",
    "\n",
    "```python\n",
    "import polars as pl\n",
    "from polars_extension import custom_weighted_moving_average\n",
    "\n",
    "# Create sample data\n",
    "df = pl.DataFrame({\n",
    "    'values': range(10)\n",
    "})\n",
    "\n",
    "# Apply our custom function\n",
    "result = df.with_columns([\n",
    "    pl.col('values')\n",
    "    .pipe(custom_weighted_moving_average, window_size=3)\n",
    "    .alias('weighted_ma')\n",
    "])\n",
    "\n",
    "print(result)\n",
    "```\n",
    "\n",
    "</div>\n",
    "\n",
    "To use this extension:\n",
    "\n",
    "```bash\n",
    "    pip install maturin polars\n",
    "    mkdir polars_extension\n",
    "    cd polars_extension\n",
    "    src/lib.rs\n",
    "    Cargo.toml\n",
    "    example.py\n",
    "\n",
    "    maturin develop\n",
    "```"
   ]
  },
  {
   "cell_type": "markdown",
   "id": "ca6d7754",
   "metadata": {},
   "source": []
  }
 ],
 "metadata": {
  "kernelspec": {
   "display_name": "Rust",
   "language": "rust",
   "name": "rust"
  },
  "language_info": {
   "codemirror_mode": "rust",
   "file_extension": ".rs",
   "mimetype": "text/rust",
   "name": "Rust",
   "pygment_lexer": "rust",
   "version": ""
  }
 },
 "nbformat": 4,
 "nbformat_minor": 5
}
