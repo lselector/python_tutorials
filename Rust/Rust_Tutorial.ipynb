{
 "cells": [
  {
   "cell_type": "markdown",
   "id": "9f6f8c65-f499-4e6c-b8e1-f5fbb70c94fd",
   "metadata": {},
   "source": [
    "# Rust Programming Turotial\n",
    "\n",
    "Derek Banas tutorials (video and code):\n",
    "<br>(2016) (47 min) - https://www.youtube.com/watch?v=U1EFgCNLDB8 \n",
    "<br>(2022) (2.5h) - https://www.youtube.com/watch?v=ygL_xcavzQ4 \n",
    "<br> ----------------------------------------------------\n",
    "<br>Official docs:\n",
    "<br>.. https://www.rust-lang.org/learn\n",
    "<br>.. https://doc.rust-lang.org/rust-by-example/ - Online Book\n",
    "<br>.. https://doc.rust-lang.org/book/ - Book 2024\n",
    "<br> ----------------------------------------------------\n",
    "<br>Install Rust  - https://www.rust-lang.org/tools/install \n",
    "<br>MacOS: curl --proto '=https' --tlsv1.2 -sSf https://sh.rustup.rs | sh\n",
    "<br> ----------------------------------------------------\n",
    "```\n",
    "Important files:\n",
    "    ~/.rustup  # RUSTUP_HOME env. variable\n",
    "    ~/.cargo   # CARGO_HOME  env. variable\n",
    "    ~/.cargo/bin # cargo, rustc, rustup, etc.\n",
    "PATH setting in .bashrc , .bash_profile, .profile, .zshenv\n",
    "test:\n",
    "    which rustc\n",
    "    rustc --version  \n",
    "```"
   ]
  },
  {
   "cell_type": "markdown",
   "id": "39e50941-11fc-41b0-a32d-56764407480b",
   "metadata": {},
   "source": [
    "```rust\n",
    "// -------------------------------------------------------\n",
    "fn main() {\n",
    "    println!(\"Hello World\") // \"!\" = macro\n",
    "}\n",
    "\n",
    "// ------------ compile ----------------\n",
    "rustc test.rs -A warnings\n",
    "\n",
    "// ------------ run ------------------\n",
    "./test\n",
    "```"
   ]
  },
  {
   "cell_type": "markdown",
   "id": "2dfa7dc2-b186-4428-a955-81c4f1a59e7a",
   "metadata": {},
   "source": [
    "// --------------------------------------------------------------\n",
    "<br>You can use interactive environments to learn Rust\n",
    "<br><b>REPL = Read-Eval-Print Loop</b>\n",
    "<br>\n",
    "<br>There is an online playground: https://play.rust-lang.org \n",
    "<br>\n",
    "<br>or you can install it locally\n",
    "```bash\n",
    " cargo install evcxr_repl  # installs  ~/.cargo/bin/evcxr\n",
    "```\n",
    "<br>then add link \"rust\" to this executable\n",
    "```bash\n",
    " cd ~/.cargo/bin\n",
    " ln -s evcxr rust\n",
    "```\n",
    "\n",
    "then type \"rust\" in terminal to get prompt (like iPython)\n",
    "\n",
    "```rust\n",
    ">> let x = 42\n",
    ">> println!(\"The value is: {}\", x)\n",
    ":quit\n",
    "```"
   ]
  },
  {
   "cell_type": "markdown",
   "id": "17f249bc-e8ad-4e06-b273-21605999fc47",
   "metadata": {},
   "source": [
    "// --------------------------------------------------------------\n",
    "<br>You can also use Rust from inside Jupyter notebook:\n",
    "<br>https://github.com/evcxr/evcxr/blob/main/evcxr_jupyter/README.md\n",
    "\n",
    "```bash\n",
    "cargo install --locked evcxr_jupyter\n",
    "evcxr_jupyter --install\n",
    "rustup component add rust-src\n",
    "jupyter notebook\n",
    "```"
   ]
  },
  {
   "cell_type": "markdown",
   "id": "3bccc39f-e61c-4469-bdad-78e4ecc7eca1",
   "metadata": {},
   "source": [
    "// --------------------------------------------------------------\n",
    "<br>Cargo-Play allows you to simply run your rust files\n",
    "<br>https://github.com/fanzeyi/cargo-play\n",
    "\n",
    "```\n",
    "cargo install cargo-play\n",
    "cargo play <files>\n",
    "```"
   ]
  },
  {
   "cell_type": "code",
   "execution_count": 5,
   "id": "2b103f0a-cc46-4a4f-af1a-266ad09631a4",
   "metadata": {},
   "outputs": [
    {
     "name": "stdout",
     "output_type": "stream",
     "text": [
      "Hello\n"
     ]
    },
    {
     "data": {
      "text/plain": [
       "()"
      ]
     },
     "execution_count": 5,
     "metadata": {},
     "output_type": "execute_result"
    }
   ],
   "source": [
    "// println!() is a macro. The exclamation mark (!) is telling that it is a macro.\n",
    "// println!() needs to be a macro because it can handle a variable number \n",
    "// of arguments with different types. This flexibility wouldn't be \n",
    "// possible with a regular function.\n",
    "\n",
    "println!(\"Hello\")"
   ]
  },
  {
   "cell_type": "code",
   "execution_count": 6,
   "id": "4b1a7b7e-4609-4be5-ad3d-b74849c22fae",
   "metadata": {},
   "outputs": [
    {
     "data": {
      "text/plain": [
       "\"Hello, Alice! You are 30 years old.\""
      ]
     },
     "execution_count": 6,
     "metadata": {},
     "output_type": "execute_result"
    }
   ],
   "source": [
    "// another macro - format!\n",
    "let name = \"Alice\";\n",
    "let age = 30;\n",
    "let message = format!(\"Hello, {}! You are {} years old.\", name, age); \n",
    "message"
   ]
  },
  {
   "cell_type": "code",
   "execution_count": null,
   "id": "824563a8-1aaf-48de-a966-59ad667d41f0",
   "metadata": {},
   "outputs": [],
   "source": []
  }
 ],
 "metadata": {
  "kernelspec": {
   "display_name": "Rust",
   "language": "rust",
   "name": "rust"
  },
  "language_info": {
   "codemirror_mode": "rust",
   "file_extension": ".rs",
   "mimetype": "text/rust",
   "name": "Rust",
   "pygment_lexer": "rust",
   "version": ""
  }
 },
 "nbformat": 4,
 "nbformat_minor": 5
}
