{
 "cells": [
  {
   "cell_type": "markdown",
   "metadata": {},
   "source": [
    "## Creating Colored Text Output from python/jupyter"
   ]
  },
  {
   "cell_type": "code",
   "execution_count": 1,
   "metadata": {},
   "outputs": [
    {
     "name": "stdout",
     "output_type": "stream",
     "text": [
      "\u001b[31m\"red\"\u001b[0m\n"
     ]
    }
   ],
   "source": [
    "# using escape sequences\n",
    "print(\"\\x1b[31m\\\"red\\\"\\x1b[0m\")"
   ]
  },
  {
   "cell_type": "code",
   "execution_count": 2,
   "metadata": {},
   "outputs": [],
   "source": [
    "# using termcolor.colored()\n",
    "import termcolor"
   ]
  },
  {
   "cell_type": "code",
   "execution_count": 3,
   "metadata": {},
   "outputs": [
    {
     "name": "stdout",
     "output_type": "stream",
     "text": [
      "\u001b[30mgrey\u001b[0m\n",
      "\u001b[31mred\u001b[0m\n",
      "\u001b[32mgreen\u001b[0m\n",
      "\u001b[33myellow\u001b[0m\n",
      "\u001b[34mblue\u001b[0m\n",
      "\u001b[35mmagenta\u001b[0m\n",
      "\u001b[36mcyan\u001b[0m\n",
      "\u001b[37mwhite\u001b[0m\n"
     ]
    }
   ],
   "source": [
    "for kk,vv in termcolor.COLORS.items():\n",
    "    mystr = termcolor.colored(kk, color=kk)\n",
    "    print(mystr)"
   ]
  },
  {
   "cell_type": "code",
   "execution_count": 4,
   "metadata": {},
   "outputs": [
    {
     "name": "stdout",
     "output_type": "stream",
     "text": [
      "\u001b[43m\u001b[32mgreen on yellow\u001b[0m\n"
     ]
    }
   ],
   "source": [
    "hello=termcolor.colored('green on yellow', color='green', on_color='on_yellow')\n",
    "print(hello)"
   ]
  },
  {
   "cell_type": "code",
   "execution_count": 5,
   "metadata": {},
   "outputs": [
    {
     "data": {
      "text/html": [
       "<text style=color:grey>grey</text>"
      ],
      "text/plain": [
       "<IPython.core.display.HTML object>"
      ]
     },
     "metadata": {},
     "output_type": "display_data"
    },
    {
     "data": {
      "text/html": [
       "<text style=color:red>red</text>"
      ],
      "text/plain": [
       "<IPython.core.display.HTML object>"
      ]
     },
     "metadata": {},
     "output_type": "display_data"
    },
    {
     "data": {
      "text/html": [
       "<text style=color:green>green</text>"
      ],
      "text/plain": [
       "<IPython.core.display.HTML object>"
      ]
     },
     "metadata": {},
     "output_type": "display_data"
    },
    {
     "data": {
      "text/html": [
       "<text style=color:yellow>yellow</text>"
      ],
      "text/plain": [
       "<IPython.core.display.HTML object>"
      ]
     },
     "metadata": {},
     "output_type": "display_data"
    },
    {
     "data": {
      "text/html": [
       "<text style=color:blue>blue</text>"
      ],
      "text/plain": [
       "<IPython.core.display.HTML object>"
      ]
     },
     "metadata": {},
     "output_type": "display_data"
    },
    {
     "data": {
      "text/html": [
       "<text style=color:magenta>magenta</text>"
      ],
      "text/plain": [
       "<IPython.core.display.HTML object>"
      ]
     },
     "metadata": {},
     "output_type": "display_data"
    },
    {
     "data": {
      "text/html": [
       "<text style=color:cyan>cyan</text>"
      ],
      "text/plain": [
       "<IPython.core.display.HTML object>"
      ]
     },
     "metadata": {},
     "output_type": "display_data"
    },
    {
     "data": {
      "text/html": [
       "<text style=color:white>white</text>"
      ],
      "text/plain": [
       "<IPython.core.display.HTML object>"
      ]
     },
     "metadata": {},
     "output_type": "display_data"
    }
   ],
   "source": [
    "# using IPython.display.HTML\n",
    "from IPython.display import HTML\n",
    "\n",
    "def color_str(s, color='black'):\n",
    "    return f\"<text style=color:{color}>{s}</text>\"\n",
    "\n",
    "mycolors = list(termcolor.COLORS.keys()) \n",
    "# ['grey', 'red', 'green', 'yellow', 'blue', 'magenta', 'cyan', 'white']\n",
    "\n",
    "for mycolor in mycolors:\n",
    "    ss = color_str(mycolor, color=mycolor)\n",
    "    #print(ss)\n",
    "    display(HTML(ss))"
   ]
  },
  {
   "cell_type": "code",
   "execution_count": 6,
   "metadata": {},
   "outputs": [
    {
     "name": "stdout",
     "output_type": "stream",
     "text": [
      "<html><font face='courier'><font color='grey'>grey</font><br><font color='red'>red</font><br><font color='green'>green</font><br><font color='yellow'>yellow</font><br><font color='blue'>blue</font><br><font color='magenta'>magenta</font><br><font color='cyan'>cyan</font><br><font color='white'>white</font></font></html>\n"
     ]
    },
    {
     "data": {
      "text/html": [
       "<html><font face='courier'><font color='grey'>grey</font><br><font color='red'>red</font><br><font color='green'>green</font><br><font color='yellow'>yellow</font><br><font color='blue'>blue</font><br><font color='magenta'>magenta</font><br><font color='cyan'>cyan</font><br><font color='white'>white</font></font></html>"
      ],
      "text/plain": [
       "<IPython.core.display.HTML object>"
      ]
     },
     "metadata": {},
     "output_type": "display_data"
    }
   ],
   "source": [
    "# creating colored HTML file 'color.html'\n",
    "ss = \"\"\n",
    "mycolors = list(termcolor.COLORS.keys()) \n",
    "# ['grey', 'red', 'green', 'yellow', 'blue', 'magenta', 'cyan', 'white']\n",
    "\n",
    "lines = []\n",
    "for mycolor in mycolors:\n",
    "    lines.append(f\"<font color='{mycolor}'>{mycolor}</font>\")\n",
    "\n",
    "ss = \"<html><font face='courier'>\" + '<br>'.join(lines) + \"</font></html>\"\n",
    "with open(\"color.html\",\"w\") as fh:\n",
    "    fh.write(ss)\n",
    "print(ss)\n",
    "display(HTML(ss))"
   ]
  },
  {
   "cell_type": "code",
   "execution_count": 7,
   "metadata": {},
   "outputs": [
    {
     "name": "stdout",
     "output_type": "stream",
     "text": [
      "\u001b[31m\"red\"\u001b[0m \u001b[32m\"green\"\u001b[0m\n",
      "found red\n",
      "found green\n"
     ]
    }
   ],
   "source": [
    "# finding colors in string\n",
    "import re\n",
    "ss = \"\\x1b[31m\\\"red\\\"\\x1b[0m \\x1b[32m\\\"green\\\"\\x1b[0m\"\n",
    "print(ss)\n",
    "if re.search( r'\\x1b\\[31', ss):\n",
    "    print(\"found red\")\n",
    "if re.search( r'\\x1b\\[32', ss):\n",
    "    print(\"found green\")\n",
    "if re.search( r'\\x1b\\[34', ss):\n",
    "    print(\"found blue\")"
   ]
  },
  {
   "cell_type": "code",
   "execution_count": null,
   "metadata": {},
   "outputs": [],
   "source": []
  }
 ],
 "metadata": {
  "kernelspec": {
   "display_name": "Python 3 (ipykernel)",
   "language": "python",
   "name": "python3"
  },
  "language_info": {
   "codemirror_mode": {
    "name": "ipython",
    "version": 3
   },
   "file_extension": ".py",
   "mimetype": "text/x-python",
   "name": "python",
   "nbconvert_exporter": "python",
   "pygments_lexer": "ipython3",
   "version": "3.9.12"
  }
 },
 "nbformat": 4,
 "nbformat_minor": 4
}
