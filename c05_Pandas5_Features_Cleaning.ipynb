{
 "cells": [
  {
   "cell_type": "markdown",
   "metadata": {},
   "source": [
    "### Feature Engineering"
   ]
  },
  {
   "cell_type": "markdown",
   "metadata": {},
   "source": [
    "Feature Engineering is a methodology to choose \n",
    "<br>better features for a given machine learning problem \n",
    "<br>via data mining techniques. \n",
    "<br>\n",
    "<br>Techniques Include:\n",
    "- Removing Junk (Columns and Rows)\n",
    "- Imputation (Filling in Missing Data if Applicable)\n",
    "- Handling Outliers\n",
    "- Binning\n",
    "- Log Transformation\n",
    "- One-hot Encoding\n",
    "- Grouping Operations\n",
    "- Feature Split\n",
    "- Scaling\n",
    "- Extracting Date\n",
    "- Feature Importance\n",
    "- Extracting Synthetic Features From Text"
   ]
  },
  {
   "cell_type": "code",
   "execution_count": 1,
   "metadata": {},
   "outputs": [
    {
     "name": "stdout",
     "output_type": "stream",
     "text": [
      "Python 3.9.12\r\n"
     ]
    }
   ],
   "source": [
    "import os, sys\n",
    "import numpy as np\n",
    "import pandas as pd\n",
    "!python --version"
   ]
  },
  {
   "cell_type": "code",
   "execution_count": 2,
   "metadata": {},
   "outputs": [
    {
     "data": {
      "text/plain": [
       "array([[1. ],\n",
       "       [2. ],\n",
       "       [3.6],\n",
       "       [4. ],\n",
       "       [5. ],\n",
       "       [6. ]])"
      ]
     },
     "execution_count": 2,
     "metadata": {},
     "output_type": "execute_result"
    }
   ],
   "source": [
    "# Impute the mean/median of the feature for missing values\n",
    "# Python code: \n",
    "df = pd.DataFrame({\"aa\":[1,2,np.nan,4,5,6]})\n",
    "from sklearn.impute import SimpleImputer\n",
    "imr = SimpleImputer(missing_values=np.nan, strategy='mean')\n",
    "imr = imr.fit(df.values)\n",
    "imputed_data = imr.transform(df.values)\n",
    "imputed_data"
   ]
  },
  {
   "cell_type": "code",
   "execution_count": 3,
   "metadata": {},
   "outputs": [
    {
     "data": {
      "text/html": [
       "<div>\n",
       "<style scoped>\n",
       "    .dataframe tbody tr th:only-of-type {\n",
       "        vertical-align: middle;\n",
       "    }\n",
       "\n",
       "    .dataframe tbody tr th {\n",
       "        vertical-align: top;\n",
       "    }\n",
       "\n",
       "    .dataframe thead th {\n",
       "        text-align: right;\n",
       "    }\n",
       "</style>\n",
       "<table border=\"1\" class=\"dataframe\">\n",
       "  <thead>\n",
       "    <tr style=\"text-align: right;\">\n",
       "      <th></th>\n",
       "      <th>aa</th>\n",
       "    </tr>\n",
       "  </thead>\n",
       "  <tbody>\n",
       "    <tr>\n",
       "      <th>0</th>\n",
       "      <td>1.0</td>\n",
       "    </tr>\n",
       "    <tr>\n",
       "      <th>1</th>\n",
       "      <td>2.0</td>\n",
       "    </tr>\n",
       "    <tr>\n",
       "      <th>2</th>\n",
       "      <td>0.0</td>\n",
       "    </tr>\n",
       "    <tr>\n",
       "      <th>3</th>\n",
       "      <td>4.0</td>\n",
       "    </tr>\n",
       "    <tr>\n",
       "      <th>4</th>\n",
       "      <td>5.0</td>\n",
       "    </tr>\n",
       "    <tr>\n",
       "      <th>5</th>\n",
       "      <td>6.0</td>\n",
       "    </tr>\n",
       "  </tbody>\n",
       "</table>\n",
       "</div>"
      ],
      "text/plain": [
       "    aa\n",
       "0  1.0\n",
       "1  2.0\n",
       "2  0.0\n",
       "3  4.0\n",
       "4  5.0\n",
       "5  6.0"
      ]
     },
     "execution_count": 3,
     "metadata": {},
     "output_type": "execute_result"
    }
   ],
   "source": [
    "# Imputation using (Most Frequent) \n",
    "# or (Zero/Constant) values\n",
    "df = pd.DataFrame({\"aa\":[1,2,np.nan,4,5,6]})\n",
    "df = df.fillna(0)\n",
    "df"
   ]
  },
  {
   "cell_type": "code",
   "execution_count": 4,
   "metadata": {},
   "outputs": [
    {
     "name": "stdout",
     "output_type": "stream",
     "text": [
      "[[ 1.  2.]\n",
      " [ 6. 12.]\n",
      " [ 3.  6.]]\n"
     ]
    }
   ],
   "source": [
    "# Imputation - MICE\n",
    "# Multivariate Imputation by Chained Equation (MICE): \n",
    "# Filling the missing data multiple times. \n",
    "\n",
    "# The chained equations approach is also very \n",
    "# flexible and can handle different variables \n",
    "# of different data types (i.e., continuous or binary) \n",
    "# as well as complexities such as bounds, \n",
    "# or survey skip patterns.\n",
    "\n",
    "# Python code to implement MICE:\n",
    "    \n",
    "import numpy as np\n",
    "from sklearn.experimental import enable_iterative_imputer\n",
    "from sklearn.impute import IterativeImputer\n",
    "\n",
    "imp = IterativeImputer(max_iter=10, random_state=0)\n",
    "imp.fit([[1, 2], [3, 6], [4, 8], [np.nan, 3], [7, np.nan]])\n",
    "X_test = [[np.nan, 2], [6, np.nan], [np.nan, 6]]\n",
    "\n",
    "# the model learns that the second feature \n",
    "# is double the first\n",
    "print(np.round(imp.transform(X_test)))"
   ]
  },
  {
   "cell_type": "code",
   "execution_count": 5,
   "metadata": {},
   "outputs": [
    {
     "data": {
      "image/png": "[encoded data removed]",
      "text/plain": [
       "<Figure size 720x504 with 1 Axes>"
      ]
     },
     "metadata": {
      "needs_background": "light"
     },
     "output_type": "display_data"
    }
   ],
   "source": [
    "# Detect outliers\n",
    "# data visualization, boxplots and scatterplots\n",
    "# \n",
    "# https://towardsdatascience.com/practical-implementation-of-outlier-detection-in-python-90680453b3ce\n",
    "#\n",
    "# Create a boxplot in python:\n",
    "\n",
    "import matplotlib.pyplot as plt \n",
    "import numpy as np \n",
    "\n",
    "np.random.seed(10) \n",
    "data = np.random.normal(100, 20, 200) \n",
    "fig = plt.figure(figsize =(10, 7)) \n",
    "plt.boxplot(data) \n",
    "plt.show()"
   ]
  },
  {
   "cell_type": "code",
   "execution_count": 6,
   "metadata": {},
   "outputs": [
    {
     "data": {
      "text/plain": [
       "array([ 1,  1, -1, -1,  1, -1,  1, -1])"
      ]
     },
     "execution_count": 6,
     "metadata": {},
     "output_type": "execute_result"
    }
   ],
   "source": [
    "np.random.choice((-1, 1), 8)"
   ]
  },
  {
   "cell_type": "code",
   "execution_count": 7,
   "metadata": {},
   "outputs": [],
   "source": [
    "# generate data with outliers\n",
    "def generate( median=630, \n",
    "              err=12, \n",
    "              outlier_err=100, \n",
    "              size=80, \n",
    "              outlier_size=10 ):\n",
    "\n",
    "    # create array of length \"size\" of random numbers [0..1)\n",
    "    arr1 = np.random.rand(size)\n",
    "    # create array of length \"size\" of 1/-1 numbers\n",
    "    arr2 = np.random.choice((-1, 1), size)\n",
    "    # make array of length \"size\" of points median +/ err\n",
    "    data = median + err * arr1 * arr2\n",
    "    # ----------------------------------------\n",
    "    lower_errs = outlier_err * np.random.rand(outlier_size)\n",
    "    upper_errs = outlier_err * np.random.rand(outlier_size)\n",
    "    # outliers:\n",
    "    out_low = median - err - lower_errs\n",
    "    out_upp = median + err + upper_errs\n",
    "    # ----------------------------------------\n",
    "    data = np.concatenate((data, out_low, out_upp))\n",
    "    np.random.shuffle(data)   # shuffle in place\n",
    "\n",
    "    return data"
   ]
  },
  {
   "cell_type": "code",
   "execution_count": 8,
   "metadata": {},
   "outputs": [
    {
     "data": {
      "image/png": "[encoded data removed]",
      "text/plain": [
       "<Figure size 432x288 with 1 Axes>"
      ]
     },
     "metadata": {
      "needs_background": "light"
     },
     "output_type": "display_data"
    }
   ],
   "source": [
    "y = generate()\n",
    "x = list(range(len(y)))\n",
    "plt.plot(x,y)\n",
    "plt.show()"
   ]
  },
  {
   "cell_type": "code",
   "execution_count": null,
   "metadata": {},
   "outputs": [],
   "source": []
  }
 ],
 "metadata": {
  "kernelspec": {
   "display_name": "Python 3 (ipykernel)",
   "language": "python",
   "name": "python3"
  },
  "language_info": {
   "codemirror_mode": {
    "name": "ipython",
    "version": 3
   },
   "file_extension": ".py",
   "mimetype": "text/x-python",
   "name": "python",
   "nbconvert_exporter": "python",
   "pygments_lexer": "ipython3",
   "version": "3.9.12"
  }
 },
 "nbformat": 4,
 "nbformat_minor": 4
}
