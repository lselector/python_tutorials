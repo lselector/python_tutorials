{
 "cells": [
  {
   "cell_type": "markdown",
   "id": "7fb78ff4",
   "metadata": {},
   "source": [
    "# YAML"
   ]
  },
  {
   "cell_type": "markdown",
   "id": "f5420af8",
   "metadata": {},
   "source": [
    "YAML = YAML Ain't Markup Language\n",
    "       (original name was Yet Another Markup Language)\n",
    "\n",
    "- human-friendly serialization language, mostly used for config files, DevOps\n",
    "- created in 2001 by Clark Evans, Ingy döt Net, Oren Ben-Kiki\n",
    "\n",
    "\n",
    "\n",
    "- rhymes with “camel”\n",
    "- unicode based\n",
    "- uses indentation (like python) to indicate nesting\n",
    "- uses [...] for lists and {...} for maps\n",
    "- JSON files are valid YAML\n",
    "- uses \"#\" for comments (benefit in comparison with JSON)"
   ]
  },
  {
   "cell_type": "markdown",
   "id": "b57e86ca",
   "metadata": {},
   "source": [
    "- https://yaml.org -\n",
    "- https://en.wikipedia.org/wiki/YAML  -\n",
    "\n",
    "\n",
    "Authors:\n",
    "- Oren Ben-Kiki - http://ben-kiki.org/oren - https://github.com/orenbenkiki -\n",
    "- Ingy döt Net  - https://github.com/ingydotnet -\n",
    "- Clark Evans   - https://github.com/clarkevans -"
   ]
  },
  {
   "cell_type": "markdown",
   "id": "c922b71e",
   "metadata": {},
   "source": [
    "The reason why we like working with YAML\n",
    "<br>is because it is optimized for \n",
    "- data serialization\n",
    "- formatted dumping,\n",
    "- configuration files\n",
    "- log files\n",
    "- Internet messaging\n",
    "- filtering\n",
    "\n",
    "There are many advantages of localizing files in YML file format.\n",
    "<br>Main one - files are easy to work in a text editor."
   ]
  },
  {
   "cell_type": "markdown",
   "id": "263f1fe2",
   "metadata": {},
   "source": [
    "## YAML Example"
   ]
  },
  {
   "cell_type": "raw",
   "id": "2f5f0d52",
   "metadata": {},
   "source": [
    "# Employee records\n",
    "- martin:\n",
    "    name: Martin D'vloper\n",
    "    job: Developer\n",
    "    skills:\n",
    "      - python\n",
    "      - perl\n",
    "      - pascal\n",
    "- tabitha:\n",
    "    name: Tabitha Bitumen\n",
    "    job: Developer\n",
    "    skills:\n",
    "      - lisp\n",
    "      - fortran\n",
    "      - erlang"
   ]
  },
  {
   "cell_type": "markdown",
   "id": "f80ef623",
   "metadata": {},
   "source": [
    "## YAML in Python"
   ]
  },
  {
   "cell_type": "code",
   "execution_count": 1,
   "id": "0f67b225",
   "metadata": {},
   "outputs": [
    {
     "name": "stdout",
     "output_type": "stream",
     "text": [
      "writing data to file data/junk.yaml\n",
      "reading file data/junk.yaml\n",
      "[{'martin': {'job': 'Developer',\n",
      "             'name': \"Martin D'vloper\",\n",
      "             'skills': ['python', 'perl', 'pascal']}},\n",
      " {'tabitha': {'job': 'Developer',\n",
      "              'name': 'Tabitha Bitumen',\n",
      "              'skills': ['lisp', 'fortran', 'erlang']}}]\n"
     ]
    }
   ],
   "source": [
    "# https://pyyaml.org/wiki/PyYAMLDocumentation\n",
    "# pip install pyyaml\n",
    "\n",
    "import yaml, pprint\n",
    "\n",
    "data = [\n",
    "    {'martin': \n",
    "     {'name': \"Martin D'vloper\", \n",
    "      'job': 'Developer', \n",
    "      'skills': ['python', 'perl', 'pascal']\n",
    "     }\n",
    "    }, \n",
    "    {'tabitha': \n",
    "     {'name': 'Tabitha Bitumen', \n",
    "      'job': 'Developer', \n",
    "      'skills': ['lisp', 'fortran', 'erlang']\n",
    "     }\n",
    "    }\n",
    "] \n",
    "\n",
    "myfile = \"data/junk.yaml\"\n",
    "print(f\"writing data to file {myfile}\")\n",
    "\n",
    "with open(myfile, 'w') as fh:\n",
    "    out = yaml.dump(data, fh)\n",
    "\n",
    "myfile = \"data/junk.yaml\"\n",
    "print(f\"reading file {myfile}\")\n",
    "with open(myfile) as fh:\n",
    "    data = yaml.load(fh, Loader=yaml.FullLoader)\n",
    "\n",
    "pprint.pprint(data)"
   ]
  },
  {
   "cell_type": "code",
   "execution_count": 2,
   "id": "e8324482",
   "metadata": {},
   "outputs": [
    {
     "name": "stdout",
     "output_type": "stream",
     "text": [
      "<class 'dict'>\n",
      "{'age': 1, 'name': 1}\n"
     ]
    }
   ],
   "source": [
    "# dictionary - each element on separate line\n",
    "# note space after the \":\"\n",
    "import yaml, pprint\n",
    "dct = yaml.safe_load(\"\"\"\n",
    "name: 1\n",
    "age: 1\n",
    "\"\"\")\n",
    "\n",
    "print(type(dct))\n",
    "pprint.pprint(dct)"
   ]
  },
  {
   "cell_type": "code",
   "execution_count": 3,
   "id": "a2c6553a",
   "metadata": {},
   "outputs": [
    {
     "name": "stdout",
     "output_type": "stream",
     "text": [
      "<class 'list'>\n",
      "['name', 'age']\n"
     ]
    }
   ],
   "source": [
    "# list - each element on separate line\n",
    "# note space \"-\" preceding the elements\n",
    "import yaml, pprint\n",
    "obj = yaml.safe_load(\"\"\"\n",
    "- name\n",
    "- age\n",
    "\"\"\")\n",
    "\n",
    "print(type(obj))\n",
    "pprint.pprint(obj)"
   ]
  },
  {
   "cell_type": "code",
   "execution_count": null,
   "id": "fef2b9f1",
   "metadata": {},
   "outputs": [],
   "source": []
  }
 ],
 "metadata": {
  "kernelspec": {
   "display_name": "Python 3 (ipykernel)",
   "language": "python",
   "name": "python3"
  },
  "language_info": {
   "codemirror_mode": {
    "name": "ipython",
    "version": 3
   },
   "file_extension": ".py",
   "mimetype": "text/x-python",
   "name": "python",
   "nbconvert_exporter": "python",
   "pygments_lexer": "ipython3",
   "version": "3.9.12"
  }
 },
 "nbformat": 4,
 "nbformat_minor": 5
}
