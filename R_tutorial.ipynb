{
 "cells": [
  {
   "cell_type": "markdown",
   "metadata": {},
   "source": [
    "### R tutorial\n",
    "```\n",
    "Installing R with conda worked, but then R didn't work.\n",
    "So - don't do this:\n",
    "    conda install -c r r-irkernel\n",
    "\n",
    "To fix this, I have removed R from anaconda.\n",
    "I did this by simply freshly reinstalling anaconda.\n",
    "Alternatively you can try uninstalling all r-related stuff:\n",
    "\n",
    "   conda uninstall r-base \n",
    "   conda list | grep ^r-\n",
    "and \n",
    "   conda remove r-*\n",
    "\n",
    "Once you have removed R from anaconda, you can \n",
    "install R normally from this CRAN website:\n",
    "   https://cloud.r-project.org/\n",
    "(CRAN = “Comprehensive R Archive Network”)\n",
    "\n",
    "Once installed, check its location:\n",
    "    which R         # /usr/local/bin/R\n",
    "    which Rscript   # /usr/local/bin/Rscript\n",
    "\n",
    "Then start R console by typing \"R\" command, \n",
    "and then run two commands in an R console:\n",
    "\n",
    "    install.packages('IRkernel')\n",
    "    IRkernel::installspec(user = FALSE)\n",
    "\n",
    "This is described here:\n",
    "  https://irkernel.github.io/installation/\n",
    "  \n",
    "The tutorial below is mostly from this excellent video:\n",
    "  - https://www.youtube.com/watch?v=s3FozVfd7q4\n",
    "  - http://www.newthinktank.com/2017/11/r-programming-tutorial/\n",
    "```"
   ]
  },
  {
   "cell_type": "code",
   "execution_count": null,
   "metadata": {},
   "outputs": [],
   "source": [
    "# -------------------------------------------------\n",
    "# Comment multiple lines \n",
    "# in RStudio: CMD + SHIFT + C (Mac)\n",
    "# in Jupyter: CTRL-/"
   ]
  },
  {
   "cell_type": "code",
   "execution_count": null,
   "metadata": {},
   "outputs": [],
   "source": [
    "# -------------------------------------------------\n",
    "# getwd() returns the working directory\n",
    "# setwd(\"working/directory\") sets the working directory"
   ]
  },
  {
   "cell_type": "code",
   "execution_count": 2,
   "metadata": {},
   "outputs": [
    {
     "data": {
      "text/html": [
       "5"
      ],
      "text/latex": [
       "5"
      ],
      "text/markdown": [
       "5"
      ],
      "text/plain": [
       "[1] 5"
      ]
     },
     "metadata": {},
     "output_type": "display_data"
    }
   ],
   "source": [
    "# -------------------------------------------------\n",
    "# ----- ASSIGNMENT -----\n",
    "# You can assign a value using = or <-\n",
    "myNum = 5\n",
    "myNum"
   ]
  },
  {
   "cell_type": "code",
   "execution_count": 3,
   "metadata": {},
   "outputs": [
    {
     "name": "stdout",
     "output_type": "stream",
     "text": [
      "[1] \"numeric\"\n",
      "[1] \"integer\"\n",
      "[1] \"logical\"\n",
      "[1] \"complex\"\n",
      "[1] \"character\"\n",
      "[1] \"raw\"\n"
     ]
    }
   ],
   "source": [
    "# ----- VARIABLES -----\n",
    "# Variable names start with a letter and can contain\n",
    "# numbers, underscores and dots\n",
    " \n",
    "# Most languages use data types to define how much\n",
    "# space to set asside in memory\n",
    "# Variables in R are assigned R Objects\n",
    " \n",
    "# Types are dynamic which means a variable names data\n",
    "# type changes based on the data assigned to it\n",
    " \n",
    "# Here are the Vector types\n",
    "# numeric\n",
    "print(class(4))\n",
    " \n",
    "# integer\n",
    "print(class(4L))\n",
    " \n",
    "# logical (TRUE, FALSE, T, F)\n",
    "print(class(TRUE))\n",
    " \n",
    "# complex\n",
    "print(class(1 + 4i))\n",
    " \n",
    "# character\n",
    "print(class(\"Sample\"))\n",
    " \n",
    "# raw when converted into raw bytes\n",
    "print(class(charToRaw(\"Sample\")))\n",
    " "
   ]
  },
  {
   "cell_type": "code",
   "execution_count": 4,
   "metadata": {},
   "outputs": [],
   "source": [
    "# -------------------------------------------------\n",
    "# You can check an objects class with \n",
    "# is.integer(), is.numeric(), is.matrix(), is.data.frame(),\n",
    "# is.logical(), is.vector(), is.character()\n",
    " \n",
    "# You can convert to different classes with\n",
    "# as.integer(), as.numeric(),..."
   ]
  },
  {
   "cell_type": "code",
   "execution_count": 5,
   "metadata": {},
   "outputs": [
    {
     "data": {
      "text/html": [
       "'4 + 5 = 9'"
      ],
      "text/latex": [
       "'4 + 5 = 9'"
      ],
      "text/markdown": [
       "'4 + 5 = 9'"
      ],
      "text/plain": [
       "[1] \"4 + 5 = 9\""
      ]
     },
     "metadata": {},
     "output_type": "display_data"
    },
    {
     "data": {
      "text/html": [
       "'4 - 5 = -1'"
      ],
      "text/latex": [
       "'4 - 5 = -1'"
      ],
      "text/markdown": [
       "'4 - 5 = -1'"
      ],
      "text/plain": [
       "[1] \"4 - 5 = -1\""
      ]
     },
     "metadata": {},
     "output_type": "display_data"
    },
    {
     "data": {
      "text/html": [
       "'4 * 5 = 20'"
      ],
      "text/latex": [
       "'4 * 5 = 20'"
      ],
      "text/markdown": [
       "'4 * 5 = 20'"
      ],
      "text/plain": [
       "[1] \"4 * 5 = 20\""
      ]
     },
     "metadata": {},
     "output_type": "display_data"
    },
    {
     "data": {
      "text/html": [
       "'4 / 5 = 0.800'"
      ],
      "text/latex": [
       "'4 / 5 = 0.800'"
      ],
      "text/markdown": [
       "'4 / 5 = 0.800'"
      ],
      "text/plain": [
       "[1] \"4 / 5 = 0.800\""
      ]
     },
     "metadata": {},
     "output_type": "display_data"
    },
    {
     "data": {
      "text/html": [
       "'5 % 4 = 1'"
      ],
      "text/latex": [
       "'5 \\% 4 = 1'"
      ],
      "text/markdown": [
       "'5 % 4 = 1'"
      ],
      "text/plain": [
       "[1] \"5 % 4 = 1\""
      ]
     },
     "metadata": {},
     "output_type": "display_data"
    },
    {
     "data": {
      "text/html": [
       "'4^2 = 16'"
      ],
      "text/latex": [
       "'4\\textasciicircum{}2 = 16'"
      ],
      "text/markdown": [
       "'4^2 = 16'"
      ],
      "text/plain": [
       "[1] \"4^2 = 16\""
      ]
     },
     "metadata": {},
     "output_type": "display_data"
    }
   ],
   "source": [
    "# -------------------------------------------------\n",
    "# ----- ARITHMETIC OPERATORS -----\n",
    "sprintf(\"4 + 5 = %d\", 4 + 5)\n",
    "sprintf(\"4 - 5 = %d\", 4 - 5)\n",
    "sprintf(\"4 * 5 = %d\", 4 * 5)\n",
    "sprintf(\"4 / 5 = %1.3f\", 4 / 5)\n",
    " \n",
    "# Modulus or remainder of division\n",
    "sprintf(\"5 %% 4 = %d\", 5 %% 4)\n",
    " \n",
    "# Value raised to the exponent of the next\n",
    "sprintf(\"4^2 = %d\", 4^2)"
   ]
  },
  {
   "cell_type": "code",
   "execution_count": 7,
   "metadata": {},
   "outputs": [
    {
     "data": {
      "text/html": [
       "<style>\n",
       ".list-inline {list-style: none; margin:0; padding: 0}\n",
       ".list-inline>li {display: inline-block}\n",
       ".list-inline>li:not(:last-child)::after {content: \"\\00b7\"; padding: 0 .5ex}\n",
       "</style>\n",
       "<ol class=list-inline><li>3</li><li>2</li><li>0</li><li>1</li><li>8</li></ol>\n"
      ],
      "text/latex": [
       "\\begin{enumerate*}\n",
       "\\item 3\n",
       "\\item 2\n",
       "\\item 0\n",
       "\\item 1\n",
       "\\item 8\n",
       "\\end{enumerate*}\n"
      ],
      "text/markdown": [
       "1. 3\n",
       "2. 2\n",
       "3. 0\n",
       "4. 1\n",
       "5. 8\n",
       "\n",
       "\n"
      ],
      "text/plain": [
       "[1] 3 2 0 1 8"
      ]
     },
     "metadata": {},
     "output_type": "display_data"
    },
    {
     "data": {
      "text/html": [
       "3"
      ],
      "text/latex": [
       "3"
      ],
      "text/markdown": [
       "3"
      ],
      "text/plain": [
       "[1] 3"
      ]
     },
     "metadata": {},
     "output_type": "display_data"
    },
    {
     "data": {
      "text/html": [
       "5"
      ],
      "text/latex": [
       "5"
      ],
      "text/markdown": [
       "5"
      ],
      "text/plain": [
       "[1] 5"
      ]
     },
     "metadata": {},
     "output_type": "display_data"
    },
    {
     "data": {
      "text/html": [
       "8"
      ],
      "text/latex": [
       "8"
      ],
      "text/markdown": [
       "8"
      ],
      "text/plain": [
       "[1] 8"
      ]
     },
     "metadata": {},
     "output_type": "display_data"
    },
    {
     "data": {
      "text/html": [
       "<style>\n",
       ".list-inline {list-style: none; margin:0; padding: 0}\n",
       ".list-inline>li {display: inline-block}\n",
       ".list-inline>li:not(:last-child)::after {content: \"\\00b7\"; padding: 0 .5ex}\n",
       "</style>\n",
       "<ol class=list-inline><li>2</li><li>0</li><li>1</li><li>8</li></ol>\n"
      ],
      "text/latex": [
       "\\begin{enumerate*}\n",
       "\\item 2\n",
       "\\item 0\n",
       "\\item 1\n",
       "\\item 8\n",
       "\\end{enumerate*}\n"
      ],
      "text/markdown": [
       "1. 2\n",
       "2. 0\n",
       "3. 1\n",
       "4. 8\n",
       "\n",
       "\n"
      ],
      "text/plain": [
       "[1] 2 0 1 8"
      ]
     },
     "metadata": {},
     "output_type": "display_data"
    }
   ],
   "source": [
    "# -------------------------------------------------\n",
    "# ----- VECTORS -----\n",
    "# Vectors store multiple values\n",
    "# Create a vector\n",
    "numbers = c(3, 2, 0, 1, 8)   # c stands for \"combine\" or \"column\" ?\n",
    "numbers\n",
    " \n",
    "# Get value by index\n",
    "numbers[1]\n",
    " \n",
    "# Get the number of items\n",
    "length(numbers)\n",
    "\n",
    "# Get the last value\n",
    "numbers[length(numbers)]\n",
    " \n",
    "# Get everything but an index\n",
    "numbers[-1]"
   ]
  },
  {
   "cell_type": "code",
   "execution_count": 8,
   "metadata": {},
   "outputs": [
    {
     "data": {
      "text/html": [
       "<style>\n",
       ".list-inline {list-style: none; margin:0; padding: 0}\n",
       ".list-inline>li {display: inline-block}\n",
       ".list-inline>li:not(:last-child)::after {content: \"\\00b7\"; padding: 0 .5ex}\n",
       "</style>\n",
       "<ol class=list-inline><li>3</li><li>2</li></ol>\n"
      ],
      "text/latex": [
       "\\begin{enumerate*}\n",
       "\\item 3\n",
       "\\item 2\n",
       "\\end{enumerate*}\n"
      ],
      "text/markdown": [
       "1. 3\n",
       "2. 2\n",
       "\n",
       "\n"
      ],
      "text/plain": [
       "[1] 3 2"
      ]
     },
     "metadata": {},
     "output_type": "display_data"
    },
    {
     "data": {
      "text/html": [
       "<style>\n",
       ".list-inline {list-style: none; margin:0; padding: 0}\n",
       ".list-inline>li {display: inline-block}\n",
       ".list-inline>li:not(:last-child)::after {content: \"\\00b7\"; padding: 0 .5ex}\n",
       "</style>\n",
       "<ol class=list-inline><li>2</li><li>0</li></ol>\n"
      ],
      "text/latex": [
       "\\begin{enumerate*}\n",
       "\\item 2\n",
       "\\item 0\n",
       "\\end{enumerate*}\n"
      ],
      "text/markdown": [
       "1. 2\n",
       "2. 0\n",
       "\n",
       "\n"
      ],
      "text/plain": [
       "[1] 2 0"
      ]
     },
     "metadata": {},
     "output_type": "display_data"
    },
    {
     "data": {
      "text/html": [
       "<style>\n",
       ".list-inline {list-style: none; margin:0; padding: 0}\n",
       ".list-inline>li {display: inline-block}\n",
       ".list-inline>li:not(:last-child)::after {content: \"\\00b7\"; padding: 0 .5ex}\n",
       "</style>\n",
       "<ol class=list-inline><li>3</li><li>2</li><li>0</li><li>1</li><li>1</li></ol>\n"
      ],
      "text/latex": [
       "\\begin{enumerate*}\n",
       "\\item 3\n",
       "\\item 2\n",
       "\\item 0\n",
       "\\item 1\n",
       "\\item 1\n",
       "\\end{enumerate*}\n"
      ],
      "text/markdown": [
       "1. 3\n",
       "2. 2\n",
       "3. 0\n",
       "4. 1\n",
       "5. 1\n",
       "\n",
       "\n"
      ],
      "text/plain": [
       "[1] 3 2 0 1 1"
      ]
     },
     "metadata": {},
     "output_type": "display_data"
    },
    {
     "data": {
      "text/html": [
       "<style>\n",
       ".list-inline {list-style: none; margin:0; padding: 0}\n",
       ".list-inline>li {display: inline-block}\n",
       ".list-inline>li:not(:last-child)::after {content: \"\\00b7\"; padding: 0 .5ex}\n",
       "</style>\n",
       "<ol class=list-inline><li>3</li><li>2</li><li>0</li><li>2</li><li>2</li></ol>\n"
      ],
      "text/latex": [
       "\\begin{enumerate*}\n",
       "\\item 3\n",
       "\\item 2\n",
       "\\item 0\n",
       "\\item 2\n",
       "\\item 2\n",
       "\\end{enumerate*}\n"
      ],
      "text/markdown": [
       "1. 3\n",
       "2. 2\n",
       "3. 0\n",
       "4. 2\n",
       "5. 2\n",
       "\n",
       "\n"
      ],
      "text/plain": [
       "[1] 3 2 0 2 2"
      ]
     },
     "metadata": {},
     "output_type": "display_data"
    },
    {
     "data": {
      "text/html": [
       "<style>\n",
       ".list-inline {list-style: none; margin:0; padding: 0}\n",
       ".list-inline>li {display: inline-block}\n",
       ".list-inline>li:not(:last-child)::after {content: \"\\00b7\"; padding: 0 .5ex}\n",
       "</style>\n",
       "<ol class=list-inline><li>3</li><li>2</li><li>2</li><li>2</li><li>0</li></ol>\n"
      ],
      "text/latex": [
       "\\begin{enumerate*}\n",
       "\\item 3\n",
       "\\item 2\n",
       "\\item 2\n",
       "\\item 2\n",
       "\\item 0\n",
       "\\end{enumerate*}\n"
      ],
      "text/markdown": [
       "1. 3\n",
       "2. 2\n",
       "3. 2\n",
       "4. 2\n",
       "5. 0\n",
       "\n",
       "\n"
      ],
      "text/plain": [
       "[1] 3 2 2 2 0"
      ]
     },
     "metadata": {},
     "output_type": "display_data"
    }
   ],
   "source": [
    "# Get the 1st 2 values\n",
    "numbers[c(1,2)]\n",
    " \n",
    "# Get the 2nd and 3rd\n",
    "numbers[2:3]\n",
    " \n",
    "# Replace a value\n",
    "numbers[5] = 1\n",
    "numbers\n",
    " \n",
    "# Replace the 4th and 5th with 2\n",
    "numbers[c(4,5)] = 2\n",
    "numbers\n",
    " \n",
    "# sort values (decreasing can be TRUE or FALSE)\n",
    "sort(numbers, decreasing=TRUE)"
   ]
  },
  {
   "cell_type": "code",
   "execution_count": 9,
   "metadata": {},
   "outputs": [
    {
     "data": {
      "text/html": [
       "<style>\n",
       ".list-inline {list-style: none; margin:0; padding: 0}\n",
       ".list-inline>li {display: inline-block}\n",
       ".list-inline>li:not(:last-child)::after {content: \"\\00b7\"; padding: 0 .5ex}\n",
       "</style>\n",
       "<ol class=list-inline><li>1</li><li>2</li><li>3</li><li>4</li><li>5</li><li>6</li><li>7</li><li>8</li><li>9</li><li>10</li></ol>\n"
      ],
      "text/latex": [
       "\\begin{enumerate*}\n",
       "\\item 1\n",
       "\\item 2\n",
       "\\item 3\n",
       "\\item 4\n",
       "\\item 5\n",
       "\\item 6\n",
       "\\item 7\n",
       "\\item 8\n",
       "\\item 9\n",
       "\\item 10\n",
       "\\end{enumerate*}\n"
      ],
      "text/markdown": [
       "1. 1\n",
       "2. 2\n",
       "3. 3\n",
       "4. 4\n",
       "5. 5\n",
       "6. 6\n",
       "7. 7\n",
       "8. 8\n",
       "9. 9\n",
       "10. 10\n",
       "\n",
       "\n"
      ],
      "text/plain": [
       " [1]  1  2  3  4  5  6  7  8  9 10"
      ]
     },
     "metadata": {},
     "output_type": "display_data"
    },
    {
     "data": {
      "text/html": [
       "<style>\n",
       ".list-inline {list-style: none; margin:0; padding: 0}\n",
       ".list-inline>li {display: inline-block}\n",
       ".list-inline>li:not(:last-child)::after {content: \"\\00b7\"; padding: 0 .5ex}\n",
       "</style>\n",
       "<ol class=list-inline><li>3</li><li>6</li><li>9</li><li>12</li><li>15</li><li>18</li><li>21</li><li>24</li><li>27</li></ol>\n"
      ],
      "text/latex": [
       "\\begin{enumerate*}\n",
       "\\item 3\n",
       "\\item 6\n",
       "\\item 9\n",
       "\\item 12\n",
       "\\item 15\n",
       "\\item 18\n",
       "\\item 21\n",
       "\\item 24\n",
       "\\item 27\n",
       "\\end{enumerate*}\n"
      ],
      "text/markdown": [
       "1. 3\n",
       "2. 6\n",
       "3. 9\n",
       "4. 12\n",
       "5. 15\n",
       "6. 18\n",
       "7. 21\n",
       "8. 24\n",
       "9. 27\n",
       "\n",
       "\n"
      ],
      "text/plain": [
       "[1]  3  6  9 12 15 18 21 24 27"
      ]
     },
     "metadata": {},
     "output_type": "display_data"
    },
    {
     "data": {
      "text/html": [
       "<style>\n",
       ".list-inline {list-style: none; margin:0; padding: 0}\n",
       ".list-inline>li {display: inline-block}\n",
       ".list-inline>li:not(:last-child)::after {content: \"\\00b7\"; padding: 0 .5ex}\n",
       "</style>\n",
       "<ol class=list-inline><li>2</li><li>4</li><li>6</li><li>8</li><li>10</li><li>12</li><li>14</li><li>16</li><li>18</li><li>20</li></ol>\n"
      ],
      "text/latex": [
       "\\begin{enumerate*}\n",
       "\\item 2\n",
       "\\item 4\n",
       "\\item 6\n",
       "\\item 8\n",
       "\\item 10\n",
       "\\item 12\n",
       "\\item 14\n",
       "\\item 16\n",
       "\\item 18\n",
       "\\item 20\n",
       "\\end{enumerate*}\n"
      ],
      "text/markdown": [
       "1. 2\n",
       "2. 4\n",
       "3. 6\n",
       "4. 8\n",
       "5. 10\n",
       "6. 12\n",
       "7. 14\n",
       "8. 16\n",
       "9. 18\n",
       "10. 20\n",
       "\n",
       "\n"
      ],
      "text/plain": [
       " [1]  2  4  6  8 10 12 14 16 18 20"
      ]
     },
     "metadata": {},
     "output_type": "display_data"
    },
    {
     "data": {
      "text/html": [
       "'4 in evens TRUE'"
      ],
      "text/latex": [
       "'4 in evens TRUE'"
      ],
      "text/markdown": [
       "'4 in evens TRUE'"
      ],
      "text/plain": [
       "[1] \"4 in evens TRUE\""
      ]
     },
     "metadata": {},
     "output_type": "display_data"
    },
    {
     "data": {
      "text/html": [
       "<style>\n",
       ".list-inline {list-style: none; margin:0; padding: 0}\n",
       ".list-inline>li {display: inline-block}\n",
       ".list-inline>li:not(:last-child)::after {content: \"\\00b7\"; padding: 0 .5ex}\n",
       "</style>\n",
       "<ol class=list-inline><li>2</li><li>2</li><li>2</li><li>2</li><li>2</li><li>2</li><li>2</li><li>2</li><li>2</li><li>2</li></ol>\n"
      ],
      "text/latex": [
       "\\begin{enumerate*}\n",
       "\\item 2\n",
       "\\item 2\n",
       "\\item 2\n",
       "\\item 2\n",
       "\\item 2\n",
       "\\item 2\n",
       "\\item 2\n",
       "\\item 2\n",
       "\\item 2\n",
       "\\item 2\n",
       "\\end{enumerate*}\n"
      ],
      "text/markdown": [
       "1. 2\n",
       "2. 2\n",
       "3. 2\n",
       "4. 2\n",
       "5. 2\n",
       "6. 2\n",
       "7. 2\n",
       "8. 2\n",
       "9. 2\n",
       "10. 2\n",
       "\n",
       "\n"
      ],
      "text/plain": [
       " [1] 2 2 2 2 2 2 2 2 2 2"
      ]
     },
     "metadata": {},
     "output_type": "display_data"
    },
    {
     "data": {
      "text/html": [
       "<style>\n",
       ".list-inline {list-style: none; margin:0; padding: 0}\n",
       ".list-inline>li {display: inline-block}\n",
       ".list-inline>li:not(:last-child)::after {content: \"\\00b7\"; padding: 0 .5ex}\n",
       "</style>\n",
       "<ol class=list-inline><li>1</li><li>1</li><li>2</li><li>2</li><li>3</li><li>3</li><li>1</li><li>1</li><li>2</li><li>2</li><li>3</li><li>3</li></ol>\n"
      ],
      "text/latex": [
       "\\begin{enumerate*}\n",
       "\\item 1\n",
       "\\item 1\n",
       "\\item 2\n",
       "\\item 2\n",
       "\\item 3\n",
       "\\item 3\n",
       "\\item 1\n",
       "\\item 1\n",
       "\\item 2\n",
       "\\item 2\n",
       "\\item 3\n",
       "\\item 3\n",
       "\\end{enumerate*}\n"
      ],
      "text/markdown": [
       "1. 1\n",
       "2. 1\n",
       "3. 2\n",
       "4. 2\n",
       "5. 3\n",
       "6. 3\n",
       "7. 1\n",
       "8. 1\n",
       "9. 2\n",
       "10. 2\n",
       "11. 3\n",
       "12. 3\n",
       "\n",
       "\n"
      ],
      "text/plain": [
       " [1] 1 1 2 2 3 3 1 1 2 2 3 3"
      ]
     },
     "metadata": {},
     "output_type": "display_data"
    }
   ],
   "source": [
    "# Generate a sequence from 1 to 10\n",
    "oneToTen = 1:10\n",
    "oneToTen\n",
    " \n",
    "# Sequence from 3 to 27 adding 3 each time\n",
    "add3 = seq(from=3, to=27, by=3)\n",
    "add3\n",
    " \n",
    "# Create 10 evens from 2\n",
    "evens = seq(from=2, by=2, length.out=10)\n",
    "evens\n",
    " \n",
    "# Find out if a value is in vector\n",
    "sprintf(\"4 in evens %s\", 4 %in% evens)\n",
    " \n",
    "# rep() repeats a value/s x, a number of times and\n",
    "# each defines how many times to repeat each item\n",
    "rep(x=2, times=5, each=2)\n",
    " \n",
    "rep(x=c(1,2,3), times=2, each=2)"
   ]
  },
  {
   "cell_type": "code",
   "execution_count": 10,
   "metadata": {},
   "outputs": [
    {
     "data": {
      "text/html": [
       "'4 == 5 : FALSE'"
      ],
      "text/latex": [
       "'4 == 5 : FALSE'"
      ],
      "text/markdown": [
       "'4 == 5 : FALSE'"
      ],
      "text/plain": [
       "[1] \"4 == 5 : FALSE\""
      ]
     },
     "metadata": {},
     "output_type": "display_data"
    },
    {
     "data": {
      "text/html": [
       "'4 != 5 : TRUE'"
      ],
      "text/latex": [
       "'4 != 5 : TRUE'"
      ],
      "text/markdown": [
       "'4 != 5 : TRUE'"
      ],
      "text/plain": [
       "[1] \"4 != 5 : TRUE\""
      ]
     },
     "metadata": {},
     "output_type": "display_data"
    },
    {
     "data": {
      "text/html": [
       "'4 &gt; 5 : FALSE'"
      ],
      "text/latex": [
       "'4 > 5 : FALSE'"
      ],
      "text/markdown": [
       "'4 &gt; 5 : FALSE'"
      ],
      "text/plain": [
       "[1] \"4 > 5 : FALSE\""
      ]
     },
     "metadata": {},
     "output_type": "display_data"
    },
    {
     "data": {
      "text/html": [
       "'4 &lt; 5 : TRUE'"
      ],
      "text/latex": [
       "'4 < 5 : TRUE'"
      ],
      "text/markdown": [
       "'4 &lt; 5 : TRUE'"
      ],
      "text/plain": [
       "[1] \"4 < 5 : TRUE\""
      ]
     },
     "metadata": {},
     "output_type": "display_data"
    },
    {
     "data": {
      "text/html": [
       "'4 &gt;= 5 : FALSE'"
      ],
      "text/latex": [
       "'4 >= 5 : FALSE'"
      ],
      "text/markdown": [
       "'4 &gt;= 5 : FALSE'"
      ],
      "text/plain": [
       "[1] \"4 >= 5 : FALSE\""
      ]
     },
     "metadata": {},
     "output_type": "display_data"
    },
    {
     "data": {
      "text/html": [
       "'4 &lt;= 5 : TRUE'"
      ],
      "text/latex": [
       "'4 <= 5 : TRUE'"
      ],
      "text/markdown": [
       "'4 &lt;= 5 : TRUE'"
      ],
      "text/plain": [
       "[1] \"4 <= 5 : TRUE\""
      ]
     },
     "metadata": {},
     "output_type": "display_data"
    },
    {
     "data": {
      "text/html": [
       "<style>\n",
       ".list-inline {list-style: none; margin:0; padding: 0}\n",
       ".list-inline>li {display: inline-block}\n",
       ".list-inline>li:not(:last-child)::after {content: \"\\00b7\"; padding: 0 .5ex}\n",
       "</style>\n",
       "<ol class=list-inline><li>FALSE</li><li>TRUE</li><li>FALSE</li><li>TRUE</li><li>FALSE</li><li>TRUE</li><li>FALSE</li><li>TRUE</li><li>FALSE</li><li>TRUE</li><li>FALSE</li><li>TRUE</li><li>FALSE</li><li>TRUE</li><li>FALSE</li><li>TRUE</li><li>FALSE</li><li>TRUE</li><li>FALSE</li><li>TRUE</li></ol>\n"
      ],
      "text/latex": [
       "\\begin{enumerate*}\n",
       "\\item FALSE\n",
       "\\item TRUE\n",
       "\\item FALSE\n",
       "\\item TRUE\n",
       "\\item FALSE\n",
       "\\item TRUE\n",
       "\\item FALSE\n",
       "\\item TRUE\n",
       "\\item FALSE\n",
       "\\item TRUE\n",
       "\\item FALSE\n",
       "\\item TRUE\n",
       "\\item FALSE\n",
       "\\item TRUE\n",
       "\\item FALSE\n",
       "\\item TRUE\n",
       "\\item FALSE\n",
       "\\item TRUE\n",
       "\\item FALSE\n",
       "\\item TRUE\n",
       "\\end{enumerate*}\n"
      ],
      "text/markdown": [
       "1. FALSE\n",
       "2. TRUE\n",
       "3. FALSE\n",
       "4. TRUE\n",
       "5. FALSE\n",
       "6. TRUE\n",
       "7. FALSE\n",
       "8. TRUE\n",
       "9. FALSE\n",
       "10. TRUE\n",
       "11. FALSE\n",
       "12. TRUE\n",
       "13. FALSE\n",
       "14. TRUE\n",
       "15. FALSE\n",
       "16. TRUE\n",
       "17. FALSE\n",
       "18. TRUE\n",
       "19. FALSE\n",
       "20. TRUE\n",
       "\n",
       "\n"
      ],
      "text/plain": [
       " [1] FALSE  TRUE FALSE  TRUE FALSE  TRUE FALSE  TRUE FALSE  TRUE FALSE  TRUE\n",
       "[13] FALSE  TRUE FALSE  TRUE FALSE  TRUE FALSE  TRUE"
      ]
     },
     "metadata": {},
     "output_type": "display_data"
    },
    {
     "data": {
      "text/html": [
       "<style>\n",
       ".list-inline {list-style: none; margin:0; padding: 0}\n",
       ".list-inline>li {display: inline-block}\n",
       ".list-inline>li:not(:last-child)::after {content: \"\\00b7\"; padding: 0 .5ex}\n",
       "</style>\n",
       "<ol class=list-inline><li>2</li><li>4</li><li>6</li><li>8</li><li>10</li><li>12</li><li>14</li><li>16</li><li>18</li><li>20</li></ol>\n"
      ],
      "text/latex": [
       "\\begin{enumerate*}\n",
       "\\item 2\n",
       "\\item 4\n",
       "\\item 6\n",
       "\\item 8\n",
       "\\item 10\n",
       "\\item 12\n",
       "\\item 14\n",
       "\\item 16\n",
       "\\item 18\n",
       "\\item 20\n",
       "\\end{enumerate*}\n"
      ],
      "text/markdown": [
       "1. 2\n",
       "2. 4\n",
       "3. 6\n",
       "4. 8\n",
       "5. 10\n",
       "6. 12\n",
       "7. 14\n",
       "8. 16\n",
       "9. 18\n",
       "10. 20\n",
       "\n",
       "\n"
      ],
      "text/plain": [
       " [1]  2  4  6  8 10 12 14 16 18 20"
      ]
     },
     "metadata": {},
     "output_type": "display_data"
    }
   ],
   "source": [
    "# -------------------------------------------------\n",
    "# ----- RELATIONAL OPERATORS -----\n",
    "iAmTrue = TRUE\n",
    "iAmFalse = FALSE\n",
    " \n",
    "sprintf(\"4 == 5 : %s\", 4 == 5)\n",
    "sprintf(\"4 != 5 : %s\", 4 != 5)\n",
    "sprintf(\"4 > 5 : %s\", 4 > 5)\n",
    "sprintf(\"4 < 5 : %s\", 4 < 5)\n",
    "sprintf(\"4 >= 5 : %s\", 4 >= 5)\n",
    "sprintf(\"4 <= 5 : %s\", 4 <= 5)\n",
    " \n",
    "# Relational operator vector tricks\n",
    "oneTo20 = c(1:20)\n",
    " \n",
    "# Create vector of Ts and Fs depending on condition\n",
    "isEven = oneTo20 %% 2 == 0\n",
    "isEven\n",
    " \n",
    "# Create array of evens\n",
    "justEvens = oneTo20[oneTo20 %% 2 == 0]\n",
    "justEvens"
   ]
  },
  {
   "cell_type": "code",
   "execution_count": 11,
   "metadata": {},
   "outputs": [
    {
     "name": "stdout",
     "output_type": "stream",
     "text": [
      "TRUE && FALSE =  FALSE \n",
      "TRUE || FALSE =  TRUE \n",
      "!TRUE =  FALSE \n"
     ]
    }
   ],
   "source": [
    "# -------------------------------------------------\n",
    "# ----- LOGICAL OPERATORS -----\n",
    "cat(\"TRUE && FALSE = \", T && F, \"\\n\")\n",
    "cat(\"TRUE || FALSE = \", T || F, \"\\n\")\n",
    "cat(\"!TRUE = \", !T, \"\\n\")"
   ]
  },
  {
   "cell_type": "code",
   "execution_count": 12,
   "metadata": {},
   "outputs": [
    {
     "name": "stdout",
     "output_type": "stream",
     "text": [
      "[1] \"Drive and Vote\"\n"
     ]
    }
   ],
   "source": [
    "# -------------------------------------------------\n",
    "# ----- DECISION MAKING -----\n",
    "age = 18\n",
    " \n",
    "# if, else and else if works like other languages\n",
    "if(age >= 18) {\n",
    "  print(\"Drive and Vote\")\n",
    "} else if (age >= 16){\n",
    "  print(\"Drive\")\n",
    "} else {\n",
    "  print(\"Wait\")\n",
    "}"
   ]
  },
  {
   "cell_type": "code",
   "execution_count": 13,
   "metadata": {},
   "outputs": [
    {
     "name": "stdout",
     "output_type": "stream",
     "text": [
      "[1] \"No Such Grade\"\n"
     ]
    }
   ],
   "source": [
    "# -------------------------------------------------\n",
    "# ----- SWITCH -----\n",
    "# Used when you have a limited set of possible values\n",
    "grade = \"Z\"\n",
    " \n",
    "switch(grade,\n",
    "       \"A\" = print(\"Great\"),\n",
    "       \"B\" = print(\"Good\"),\n",
    "       \"C\" = print(\"Ok\"),\n",
    "       \"D\" = print(\"Bad\"),\n",
    "       \"F\" = print(\"Terrible\"),\n",
    "       print(\"No Such Grade\"))"
   ]
  },
  {
   "cell_type": "code",
   "execution_count": 16,
   "metadata": {},
   "outputs": [
    {
     "name": "stdout",
     "output_type": "stream",
     "text": [
      "[1] 16\n"
     ]
    },
    {
     "data": {
      "text/html": [
       "'Dog &gt; Egg : FALSE'"
      ],
      "text/latex": [
       "'Dog > Egg : FALSE'"
      ],
      "text/markdown": [
       "'Dog &gt; Egg : FALSE'"
      ],
      "text/plain": [
       "[1] \"Dog > Egg : FALSE\""
      ]
     },
     "metadata": {},
     "output_type": "display_data"
    },
    {
     "data": {
      "text/html": [
       "'Dog == Egg : FALSE'"
      ],
      "text/latex": [
       "'Dog == Egg : FALSE'"
      ],
      "text/markdown": [
       "'Dog == Egg : FALSE'"
      ],
      "text/plain": [
       "[1] \"Dog == Egg : FALSE\""
      ]
     },
     "metadata": {},
     "output_type": "display_data"
    },
    {
     "name": "stdout",
     "output_type": "stream",
     "text": [
      "[1] \"OwlBear\"\n"
     ]
    }
   ],
   "source": [
    "# -------------------------------------------------\n",
    "# ----- STRINGS -----\n",
    "str1 = \"This is a string\"\n",
    " \n",
    "# String length\n",
    "print(nchar(str1))\n",
    " \n",
    "# You can compare strings where later letters are considered\n",
    "# greater than\n",
    "sprintf(\"Dog > Egg : %s\", \"Dog\" > \"Egg\")\n",
    "sprintf(\"Dog == Egg : %s\", \"Dog\" == \"Egg\")\n",
    " \n",
    "# Combine strings and define sperator if any\n",
    "str2 = paste(\"Owl\", \"Bear\", sep=\"\")\n",
    "print(str2)"
   ]
  },
  {
   "cell_type": "code",
   "execution_count": 17,
   "metadata": {},
   "outputs": [
    {
     "data": {
      "text/html": [
       "'Bear'"
      ],
      "text/latex": [
       "'Bear'"
      ],
      "text/markdown": [
       "'Bear'"
      ],
      "text/plain": [
       "[1] \"Bear\""
      ]
     },
     "metadata": {},
     "output_type": "display_data"
    },
    {
     "data": {
      "text/html": [
       "'HawkBear'"
      ],
      "text/latex": [
       "'HawkBear'"
      ],
      "text/markdown": [
       "'HawkBear'"
      ],
      "text/plain": [
       "[1] \"HawkBear\""
      ]
     },
     "metadata": {},
     "output_type": "display_data"
    },
    {
     "data": {
      "text/html": [
       "'Chicken Chicken'"
      ],
      "text/latex": [
       "'Chicken Chicken'"
      ],
      "text/markdown": [
       "'Chicken Chicken'"
      ],
      "text/plain": [
       "[1] \"Chicken Chicken\""
      ]
     },
     "metadata": {},
     "output_type": "display_data"
    },
    {
     "data": {
      "text/html": [
       "<ol>\n",
       "\t<li><style>\n",
       ".list-inline {list-style: none; margin:0; padding: 0}\n",
       ".list-inline>li {display: inline-block}\n",
       ".list-inline>li:not(:last-child)::after {content: \"\\00b7\"; padding: 0 .5ex}\n",
       "</style>\n",
       "<ol class=list-inline><li>'A'</li><li>'dog'</li><li>'ran'</li><li>'fast'</li></ol>\n",
       "</li>\n",
       "</ol>\n"
      ],
      "text/latex": [
       "\\begin{enumerate}\n",
       "\\item \\begin{enumerate*}\n",
       "\\item 'A'\n",
       "\\item 'dog'\n",
       "\\item 'ran'\n",
       "\\item 'fast'\n",
       "\\end{enumerate*}\n",
       "\n",
       "\\end{enumerate}\n"
      ],
      "text/markdown": [
       "1. 1. 'A'\n",
       "2. 'dog'\n",
       "3. 'ran'\n",
       "4. 'fast'\n",
       "\n",
       "\n",
       "\n",
       "\n",
       "\n"
      ],
      "text/plain": [
       "[[1]]\n",
       "[1] \"A\"    \"dog\"  \"ran\"  \"fast\"\n"
      ]
     },
     "metadata": {},
     "output_type": "display_data"
    }
   ],
   "source": [
    "# Extract bear from the string\n",
    "substr(x=str2, start=4, stop=7)\n",
    " \n",
    "# Substitute one string with another\n",
    "sub(pattern=\"Owl\", replacement=\"Hawk\", x=str2)\n",
    " \n",
    "# Substitute all matches\n",
    "gsub(pattern=\"Egg\", replacement=\"Chicken\", x=\"Egg Egg\")\n",
    " \n",
    "# Split string into vector\n",
    "strVect = strsplit(\"A dog ran fast\", \" \")\n",
    " \n",
    "strVect"
   ]
  },
  {
   "cell_type": "code",
   "execution_count": 19,
   "metadata": {},
   "outputs": [
    {
     "data": {
      "text/html": [
       "TRUE"
      ],
      "text/latex": [
       "TRUE"
      ],
      "text/markdown": [
       "TRUE"
      ],
      "text/plain": [
       "[1] TRUE"
      ]
     },
     "metadata": {},
     "output_type": "display_data"
    },
    {
     "data": {
      "text/html": [
       "<style>\n",
       ".list-inline {list-style: none; margin:0; padding: 0}\n",
       ".list-inline>li {display: inline-block}\n",
       ".list-inline>li:not(:last-child)::after {content: \"\\00b7\"; padding: 0 .5ex}\n",
       "</style>\n",
       "<ol class=list-inline><li>'Down'</li><li>'Left'</li><li>'Right'</li><li>'Up'</li></ol>\n"
      ],
      "text/latex": [
       "\\begin{enumerate*}\n",
       "\\item 'Down'\n",
       "\\item 'Left'\n",
       "\\item 'Right'\n",
       "\\item 'Up'\n",
       "\\end{enumerate*}\n"
      ],
      "text/markdown": [
       "1. 'Down'\n",
       "2. 'Left'\n",
       "3. 'Right'\n",
       "4. 'Up'\n",
       "\n",
       "\n"
      ],
      "text/plain": [
       "[1] \"Down\"  \"Left\"  \"Right\" \"Up\"   "
      ]
     },
     "metadata": {},
     "output_type": "display_data"
    },
    {
     "name": "stdout",
     "output_type": "stream",
     "text": [
      "[1] Tuesday  Thursday Monday  \n",
      "7 Levels: Monday < Tuesday < Wednesday < Thursday < Friday < ... < Sunday\n"
     ]
    }
   ],
   "source": [
    "# -------------------------------------------------\n",
    "# ----- FACTORS ------\n",
    "# Factors are used when you have a limited number of values\n",
    "# that are strings or integers\n",
    " \n",
    "# Create a factor vector\n",
    "direction = c(\"Up\", \"Down\", \"Left\", \"Right\", \"Left\", \"Up\")\n",
    "factorDir = factor(direction)\n",
    " \n",
    "# Check if it's a Factor\n",
    "is.factor(factorDir)\n",
    " \n",
    "# A Factor object contains levels which store all possible\n",
    "# values\n",
    "levels(x=factorDir)\n",
    " \n",
    "# You can define your levels and their orders\n",
    "dow = c(\"Monday\", \"Tuesday\", \"Wednesday\", \"Thursday\",\n",
    "        \"Friday\", \"Saturday\", \"Sunday\")\n",
    " \n",
    "wDays = c(\"Tuesday\", \"Thursday\", \"Monday\")\n",
    " \n",
    "wdFact = factor(x=wDays, levels=dow, ordered=T)\n",
    " \n",
    "print(wdFact)"
   ]
  },
  {
   "cell_type": "code",
   "execution_count": 20,
   "metadata": {},
   "outputs": [
    {
     "data": {
      "text/html": [
       "<table>\n",
       "<caption>A data.frame: 3 × 2</caption>\n",
       "<thead>\n",
       "\t<tr><th scope=col>name</th><th scope=col>age</th></tr>\n",
       "\t<tr><th scope=col>&lt;chr&gt;</th><th scope=col>&lt;dbl&gt;</th></tr>\n",
       "</thead>\n",
       "<tbody>\n",
       "\t<tr><td>Tom  </td><td>43</td></tr>\n",
       "\t<tr><td>Sally</td><td>28</td></tr>\n",
       "\t<tr><td>Sue  </td><td>35</td></tr>\n",
       "</tbody>\n",
       "</table>\n"
      ],
      "text/latex": [
       "A data.frame: 3 × 2\n",
       "\\begin{tabular}{ll}\n",
       " name & age\\\\\n",
       " <chr> & <dbl>\\\\\n",
       "\\hline\n",
       "\t Tom   & 43\\\\\n",
       "\t Sally & 28\\\\\n",
       "\t Sue   & 35\\\\\n",
       "\\end{tabular}\n"
      ],
      "text/markdown": [
       "\n",
       "A data.frame: 3 × 2\n",
       "\n",
       "| name &lt;chr&gt; | age &lt;dbl&gt; |\n",
       "|---|---|\n",
       "| Tom   | 43 |\n",
       "| Sally | 28 |\n",
       "| Sue   | 35 |\n",
       "\n"
      ],
      "text/plain": [
       "  name  age\n",
       "1 Tom   43 \n",
       "2 Sally 28 \n",
       "3 Sue   35 "
      ]
     },
     "metadata": {},
     "output_type": "display_data"
    }
   ],
   "source": [
    "# -------------------------------------------------\n",
    "# ----- DATA FRAMES -----\n",
    "# A Data Frame is a table which contains any type \n",
    "# of data and an equal amount of data in each column\n",
    " \n",
    "# Each row is called a record and each column a varaible\n",
    " \n",
    "# Create customer data frame\n",
    "custData = data.frame(name=c(\"Tom\", \"Sally\", \"Sue\"),\n",
    "                      age=c(43, 28, 35), \n",
    "                      stringsAsFactors=F)\n",
    "\n",
    "custData"
   ]
  },
  {
   "cell_type": "code",
   "execution_count": 22,
   "metadata": {},
   "outputs": [
    {
     "data": {
      "text/html": [
       "'Tom'"
      ],
      "text/latex": [
       "'Tom'"
      ],
      "text/markdown": [
       "'Tom'"
      ],
      "text/plain": [
       "[1] \"Tom\""
      ]
     },
     "metadata": {},
     "output_type": "display_data"
    }
   ],
   "source": [
    "# Get data in row 1 column 1\n",
    "custData[1,1]"
   ]
  },
  {
   "cell_type": "code",
   "execution_count": 23,
   "metadata": {},
   "outputs": [
    {
     "data": {
      "text/html": [
       "<table>\n",
       "<caption>A data.frame: 1 × 2</caption>\n",
       "<thead>\n",
       "\t<tr><th></th><th scope=col>name</th><th scope=col>age</th></tr>\n",
       "\t<tr><th></th><th scope=col>&lt;chr&gt;</th><th scope=col>&lt;dbl&gt;</th></tr>\n",
       "</thead>\n",
       "<tbody>\n",
       "\t<tr><th scope=row>1</th><td>Tom</td><td>43</td></tr>\n",
       "</tbody>\n",
       "</table>\n"
      ],
      "text/latex": [
       "A data.frame: 1 × 2\n",
       "\\begin{tabular}{r|ll}\n",
       "  & name & age\\\\\n",
       "  & <chr> & <dbl>\\\\\n",
       "\\hline\n",
       "\t1 & Tom & 43\\\\\n",
       "\\end{tabular}\n"
      ],
      "text/markdown": [
       "\n",
       "A data.frame: 1 × 2\n",
       "\n",
       "| <!--/--> | name &lt;chr&gt; | age &lt;dbl&gt; |\n",
       "|---|---|---|\n",
       "| 1 | Tom | 43 |\n",
       "\n"
      ],
      "text/plain": [
       "  name age\n",
       "1 Tom  43 "
      ]
     },
     "metadata": {},
     "output_type": "display_data"
    }
   ],
   "source": [
    "# Get all data in 1st row\n",
    "custData[1,1:2]"
   ]
  },
  {
   "cell_type": "code",
   "execution_count": 24,
   "metadata": {},
   "outputs": [
    {
     "data": {
      "text/html": [
       "<style>\n",
       ".list-inline {list-style: none; margin:0; padding: 0}\n",
       ".list-inline>li {display: inline-block}\n",
       ".list-inline>li:not(:last-child)::after {content: \"\\00b7\"; padding: 0 .5ex}\n",
       "</style>\n",
       "<ol class=list-inline><li>43</li><li>28</li><li>35</li></ol>\n"
      ],
      "text/latex": [
       "\\begin{enumerate*}\n",
       "\\item 43\n",
       "\\item 28\n",
       "\\item 35\n",
       "\\end{enumerate*}\n"
      ],
      "text/markdown": [
       "1. 43\n",
       "2. 28\n",
       "3. 35\n",
       "\n",
       "\n"
      ],
      "text/plain": [
       "[1] 43 28 35"
      ]
     },
     "metadata": {},
     "output_type": "display_data"
    }
   ],
   "source": [
    "# Get all ages\n",
    "custData[1:3, 2]"
   ]
  },
  {
   "cell_type": "code",
   "execution_count": 25,
   "metadata": {},
   "outputs": [
    {
     "data": {
      "text/html": [
       "<style>\n",
       ".list-inline {list-style: none; margin:0; padding: 0}\n",
       ".list-inline>li {display: inline-block}\n",
       ".list-inline>li:not(:last-child)::after {content: \"\\00b7\"; padding: 0 .5ex}\n",
       "</style>\n",
       "<ol class=list-inline><li>43</li><li>28</li><li>35</li></ol>\n"
      ],
      "text/latex": [
       "\\begin{enumerate*}\n",
       "\\item 43\n",
       "\\item 28\n",
       "\\item 35\n",
       "\\end{enumerate*}\n"
      ],
      "text/markdown": [
       "1. 43\n",
       "2. 28\n",
       "3. 35\n",
       "\n",
       "\n"
      ],
      "text/plain": [
       "[1] 43 28 35"
      ]
     },
     "metadata": {},
     "output_type": "display_data"
    }
   ],
   "source": [
    "# Get all ages\n",
    "custData[1:3, 2] "
   ]
  },
  {
   "cell_type": "code",
   "execution_count": 26,
   "metadata": {},
   "outputs": [
    {
     "data": {
      "text/html": [
       "<style>\n",
       ".list-inline {list-style: none; margin:0; padding: 0}\n",
       ".list-inline>li {display: inline-block}\n",
       ".list-inline>li:not(:last-child)::after {content: \"\\00b7\"; padding: 0 .5ex}\n",
       "</style>\n",
       "<ol class=list-inline><li>3</li><li>2</li></ol>\n"
      ],
      "text/latex": [
       "\\begin{enumerate*}\n",
       "\\item 3\n",
       "\\item 2\n",
       "\\end{enumerate*}\n"
      ],
      "text/markdown": [
       "1. 3\n",
       "2. 2\n",
       "\n",
       "\n"
      ],
      "text/plain": [
       "[1] 3 2"
      ]
     },
     "metadata": {},
     "output_type": "display_data"
    }
   ],
   "source": [
    "# Get dimensions\n",
    "dim(custData) "
   ]
  },
  {
   "cell_type": "code",
   "execution_count": 27,
   "metadata": {},
   "outputs": [
    {
     "data": {
      "text/html": [
       "<table>\n",
       "<caption>A data.frame: 4 × 2</caption>\n",
       "<thead>\n",
       "\t<tr><th scope=col>name</th><th scope=col>age</th></tr>\n",
       "\t<tr><th scope=col>&lt;chr&gt;</th><th scope=col>&lt;dbl&gt;</th></tr>\n",
       "</thead>\n",
       "<tbody>\n",
       "\t<tr><td>Tom  </td><td>43</td></tr>\n",
       "\t<tr><td>Sally</td><td>28</td></tr>\n",
       "\t<tr><td>Sue  </td><td>35</td></tr>\n",
       "\t<tr><td>Mark </td><td>33</td></tr>\n",
       "</tbody>\n",
       "</table>\n"
      ],
      "text/latex": [
       "A data.frame: 4 × 2\n",
       "\\begin{tabular}{ll}\n",
       " name & age\\\\\n",
       " <chr> & <dbl>\\\\\n",
       "\\hline\n",
       "\t Tom   & 43\\\\\n",
       "\t Sally & 28\\\\\n",
       "\t Sue   & 35\\\\\n",
       "\t Mark  & 33\\\\\n",
       "\\end{tabular}\n"
      ],
      "text/markdown": [
       "\n",
       "A data.frame: 4 × 2\n",
       "\n",
       "| name &lt;chr&gt; | age &lt;dbl&gt; |\n",
       "|---|---|\n",
       "| Tom   | 43 |\n",
       "| Sally | 28 |\n",
       "| Sue   | 35 |\n",
       "| Mark  | 33 |\n",
       "\n"
      ],
      "text/plain": [
       "  name  age\n",
       "1 Tom   43 \n",
       "2 Sally 28 \n",
       "3 Sue   35 \n",
       "4 Mark  33 "
      ]
     },
     "metadata": {},
     "output_type": "display_data"
    }
   ],
   "source": [
    "# Add another record\n",
    "recordMark = data.frame(name=\"Mark\", age=33)\n",
    "custData = rbind(custData, recordMark)\n",
    "custData"
   ]
  },
  {
   "cell_type": "code",
   "execution_count": 28,
   "metadata": {},
   "outputs": [
    {
     "data": {
      "text/html": [
       "<table>\n",
       "<caption>A data.frame: 4 × 3</caption>\n",
       "<thead>\n",
       "\t<tr><th scope=col>name</th><th scope=col>age</th><th scope=col>debt</th></tr>\n",
       "\t<tr><th scope=col>&lt;chr&gt;</th><th scope=col>&lt;dbl&gt;</th><th scope=col>&lt;dbl&gt;</th></tr>\n",
       "</thead>\n",
       "<tbody>\n",
       "\t<tr><td>Tom  </td><td>43</td><td> 0.00</td></tr>\n",
       "\t<tr><td>Sally</td><td>28</td><td>25.50</td></tr>\n",
       "\t<tr><td>Sue  </td><td>35</td><td>36.00</td></tr>\n",
       "\t<tr><td>Mark </td><td>33</td><td>48.19</td></tr>\n",
       "</tbody>\n",
       "</table>\n"
      ],
      "text/latex": [
       "A data.frame: 4 × 3\n",
       "\\begin{tabular}{lll}\n",
       " name & age & debt\\\\\n",
       " <chr> & <dbl> & <dbl>\\\\\n",
       "\\hline\n",
       "\t Tom   & 43 &  0.00\\\\\n",
       "\t Sally & 28 & 25.50\\\\\n",
       "\t Sue   & 35 & 36.00\\\\\n",
       "\t Mark  & 33 & 48.19\\\\\n",
       "\\end{tabular}\n"
      ],
      "text/markdown": [
       "\n",
       "A data.frame: 4 × 3\n",
       "\n",
       "| name &lt;chr&gt; | age &lt;dbl&gt; | debt &lt;dbl&gt; |\n",
       "|---|---|---|\n",
       "| Tom   | 43 |  0.00 |\n",
       "| Sally | 28 | 25.50 |\n",
       "| Sue   | 35 | 36.00 |\n",
       "| Mark  | 33 | 48.19 |\n",
       "\n"
      ],
      "text/plain": [
       "  name  age debt \n",
       "1 Tom   43   0.00\n",
       "2 Sally 28  25.50\n",
       "3 Sue   35  36.00\n",
       "4 Mark  33  48.19"
      ]
     },
     "metadata": {},
     "output_type": "display_data"
    }
   ],
   "source": [
    "# Add a column representing debt\n",
    "debt = c(0, 25.50, 36, 48.19)\n",
    "custData = cbind(custData, debt)\n",
    "custData"
   ]
  },
  {
   "cell_type": "code",
   "execution_count": 29,
   "metadata": {},
   "outputs": [
    {
     "data": {
      "text/html": [
       "<table>\n",
       "<caption>A data.frame: 3 × 3</caption>\n",
       "<thead>\n",
       "\t<tr><th></th><th scope=col>name</th><th scope=col>age</th><th scope=col>debt</th></tr>\n",
       "\t<tr><th></th><th scope=col>&lt;chr&gt;</th><th scope=col>&lt;dbl&gt;</th><th scope=col>&lt;dbl&gt;</th></tr>\n",
       "</thead>\n",
       "<tbody>\n",
       "\t<tr><th scope=row>2</th><td>Sally</td><td>28</td><td>25.50</td></tr>\n",
       "\t<tr><th scope=row>3</th><td>Sue  </td><td>35</td><td>36.00</td></tr>\n",
       "\t<tr><th scope=row>4</th><td>Mark </td><td>33</td><td>48.19</td></tr>\n",
       "</tbody>\n",
       "</table>\n"
      ],
      "text/latex": [
       "A data.frame: 3 × 3\n",
       "\\begin{tabular}{r|lll}\n",
       "  & name & age & debt\\\\\n",
       "  & <chr> & <dbl> & <dbl>\\\\\n",
       "\\hline\n",
       "\t2 & Sally & 28 & 25.50\\\\\n",
       "\t3 & Sue   & 35 & 36.00\\\\\n",
       "\t4 & Mark  & 33 & 48.19\\\\\n",
       "\\end{tabular}\n"
      ],
      "text/markdown": [
       "\n",
       "A data.frame: 3 × 3\n",
       "\n",
       "| <!--/--> | name &lt;chr&gt; | age &lt;dbl&gt; | debt &lt;dbl&gt; |\n",
       "|---|---|---|---|\n",
       "| 2 | Sally | 28 | 25.50 |\n",
       "| 3 | Sue   | 35 | 36.00 |\n",
       "| 4 | Mark  | 33 | 48.19 |\n",
       "\n"
      ],
      "text/plain": [
       "  name  age debt \n",
       "2 Sally 28  25.50\n",
       "3 Sue   35  36.00\n",
       "4 Mark  33  48.19"
      ]
     },
     "metadata": {},
     "output_type": "display_data"
    }
   ],
   "source": [
    "# Check if money is owed\n",
    "owesMoney = custData[custData$debt > 0,]\n",
    "owesMoney"
   ]
  },
  {
   "cell_type": "code",
   "execution_count": 30,
   "metadata": {},
   "outputs": [
    {
     "name": "stdout",
     "output_type": "stream",
     "text": [
      "[1] 1\n",
      "[1] 2\n",
      "[1] 3\n",
      "[1] 4\n",
      "[1] 5\n"
     ]
    }
   ],
   "source": [
    "# -------------------------------------------------\n",
    "# ----- LOOPING -----\n",
    "# Repeat until a condition is met\n",
    "num = 1\n",
    "repeat{\n",
    "  print(num)\n",
    "  num = num + 1\n",
    "  if(num > 5){\n",
    "    \n",
    "    # Jumps out of loop\n",
    "    break\n",
    "  }\n",
    "}"
   ]
  },
  {
   "cell_type": "code",
   "execution_count": 31,
   "metadata": {},
   "outputs": [
    {
     "name": "stdout",
     "output_type": "stream",
     "text": [
      "[1] 5\n",
      "[1] 3\n",
      "[1] 1\n"
     ]
    }
   ],
   "source": [
    "# Repeat while condition is true\n",
    "while(num > 0){\n",
    "  num = num - 1\n",
    "  \n",
    "  # next skips the rest of the loop and jumps\n",
    "  # back to the top\n",
    "  if(num %% 2 == 0){\n",
    "    next\n",
    "  }\n",
    "  print(num)\n",
    "}"
   ]
  },
  {
   "cell_type": "code",
   "execution_count": 32,
   "metadata": {},
   "outputs": [
    {
     "name": "stdout",
     "output_type": "stream",
     "text": [
      "[1] 1\n",
      "[1] 2\n",
      "[1] 3\n",
      "[1] 4\n",
      "[1] 5\n"
     ]
    }
   ],
   "source": [
    "# For can be used to cycle through a vector\n",
    "# or do the same thing a specific number of times\n",
    "oneTo5 = 1:5\n",
    "for (i in oneTo5){\n",
    "  print(i)\n",
    "}"
   ]
  },
  {
   "cell_type": "code",
   "execution_count": 33,
   "metadata": {},
   "outputs": [
    {
     "data": {
      "text/html": [
       "<table>\n",
       "<caption>A matrix: 4 × 1 of type dbl</caption>\n",
       "<tbody>\n",
       "\t<tr><td>1</td></tr>\n",
       "\t<tr><td>2</td></tr>\n",
       "\t<tr><td>3</td></tr>\n",
       "\t<tr><td>4</td></tr>\n",
       "</tbody>\n",
       "</table>\n"
      ],
      "text/latex": [
       "A matrix: 4 × 1 of type dbl\n",
       "\\begin{tabular}{l}\n",
       "\t 1\\\\\n",
       "\t 2\\\\\n",
       "\t 3\\\\\n",
       "\t 4\\\\\n",
       "\\end{tabular}\n"
      ],
      "text/markdown": [
       "\n",
       "A matrix: 4 × 1 of type dbl\n",
       "\n",
       "| 1 |\n",
       "| 2 |\n",
       "| 3 |\n",
       "| 4 |\n",
       "\n"
      ],
      "text/plain": [
       "     [,1]\n",
       "[1,] 1   \n",
       "[2,] 2   \n",
       "[3,] 3   \n",
       "[4,] 4   "
      ]
     },
     "metadata": {},
     "output_type": "display_data"
    }
   ],
   "source": [
    "# -------------------------------------------------\n",
    "# ----- MATRICES -----\n",
    "# A Matrix stores values in rows and columns\n",
    " \n",
    "# Create a Matrix with a single column\n",
    "matrix1 = matrix(data=c(1,2,3,4))\n",
    "matrix1"
   ]
  },
  {
   "cell_type": "code",
   "execution_count": 34,
   "metadata": {},
   "outputs": [
    {
     "data": {
      "text/html": [
       "<table>\n",
       "<caption>A matrix: 2 × 2 of type dbl</caption>\n",
       "<tbody>\n",
       "\t<tr><td>1</td><td>3</td></tr>\n",
       "\t<tr><td>2</td><td>4</td></tr>\n",
       "</tbody>\n",
       "</table>\n"
      ],
      "text/latex": [
       "A matrix: 2 × 2 of type dbl\n",
       "\\begin{tabular}{ll}\n",
       "\t 1 & 3\\\\\n",
       "\t 2 & 4\\\\\n",
       "\\end{tabular}\n"
      ],
      "text/markdown": [
       "\n",
       "A matrix: 2 × 2 of type dbl\n",
       "\n",
       "| 1 | 3 |\n",
       "| 2 | 4 |\n",
       "\n"
      ],
      "text/plain": [
       "     [,1] [,2]\n",
       "[1,] 1    3   \n",
       "[2,] 2    4   "
      ]
     },
     "metadata": {},
     "output_type": "display_data"
    }
   ],
   "source": [
    "# Create a matrix with defined rows and columns\n",
    "matrix2 = matrix(data=c(1,2,3,4), nrow=2, ncol=2)\n",
    "matrix2"
   ]
  },
  {
   "cell_type": "code",
   "execution_count": 35,
   "metadata": {},
   "outputs": [
    {
     "data": {
      "text/html": [
       "<table>\n",
       "<caption>A matrix: 2 × 2 of type dbl</caption>\n",
       "<tbody>\n",
       "\t<tr><td>1</td><td>2</td></tr>\n",
       "\t<tr><td>3</td><td>4</td></tr>\n",
       "</tbody>\n",
       "</table>\n"
      ],
      "text/latex": [
       "A matrix: 2 × 2 of type dbl\n",
       "\\begin{tabular}{ll}\n",
       "\t 1 & 2\\\\\n",
       "\t 3 & 4\\\\\n",
       "\\end{tabular}\n"
      ],
      "text/markdown": [
       "\n",
       "A matrix: 2 × 2 of type dbl\n",
       "\n",
       "| 1 | 2 |\n",
       "| 3 | 4 |\n",
       "\n"
      ],
      "text/plain": [
       "     [,1] [,2]\n",
       "[1,] 1    2   \n",
       "[2,] 3    4   "
      ]
     },
     "metadata": {},
     "output_type": "display_data"
    }
   ],
   "source": [
    "# You can also fill by row (You can use T or TRUE)\n",
    "matrix3 = matrix(data=c(1,2,3,4), nrow=2, ncol=2, byrow=T)\n",
    "matrix3"
   ]
  },
  {
   "cell_type": "code",
   "execution_count": 36,
   "metadata": {},
   "outputs": [
    {
     "data": {
      "text/html": [
       "<style>\n",
       ".list-inline {list-style: none; margin:0; padding: 0}\n",
       ".list-inline>li {display: inline-block}\n",
       ".list-inline>li:not(:last-child)::after {content: \"\\00b7\"; padding: 0 .5ex}\n",
       "</style>\n",
       "<ol class=list-inline><li>2</li><li>2</li></ol>\n"
      ],
      "text/latex": [
       "\\begin{enumerate*}\n",
       "\\item 2\n",
       "\\item 2\n",
       "\\end{enumerate*}\n"
      ],
      "text/markdown": [
       "1. 2\n",
       "2. 2\n",
       "\n",
       "\n"
      ],
      "text/plain": [
       "[1] 2 2"
      ]
     },
     "metadata": {},
     "output_type": "display_data"
    }
   ],
   "source": [
    "# Get a Matrix dimension\n",
    "dim(matrix3)"
   ]
  },
  {
   "cell_type": "code",
   "execution_count": 37,
   "metadata": {},
   "outputs": [
    {
     "data": {
      "text/html": [
       "2"
      ],
      "text/latex": [
       "2"
      ],
      "text/markdown": [
       "2"
      ],
      "text/plain": [
       "[1] 2"
      ]
     },
     "metadata": {},
     "output_type": "display_data"
    }
   ],
   "source": [
    "# A value at row, column\n",
    "matrix3[1,2]"
   ]
  },
  {
   "cell_type": "code",
   "execution_count": 38,
   "metadata": {},
   "outputs": [
    {
     "data": {
      "text/html": [
       "<style>\n",
       ".list-inline {list-style: none; margin:0; padding: 0}\n",
       ".list-inline>li {display: inline-block}\n",
       ".list-inline>li:not(:last-child)::after {content: \"\\00b7\"; padding: 0 .5ex}\n",
       "</style>\n",
       "<ol class=list-inline><li>1</li><li>2</li></ol>\n"
      ],
      "text/latex": [
       "\\begin{enumerate*}\n",
       "\\item 1\n",
       "\\item 2\n",
       "\\end{enumerate*}\n"
      ],
      "text/markdown": [
       "1. 1\n",
       "2. 2\n",
       "\n",
       "\n"
      ],
      "text/plain": [
       "[1] 1 2"
      ]
     },
     "metadata": {},
     "output_type": "display_data"
    }
   ],
   "source": [
    "# Get a whole row\n",
    "matrix3[1,]"
   ]
  },
  {
   "cell_type": "code",
   "execution_count": 39,
   "metadata": {},
   "outputs": [
    {
     "data": {
      "text/html": [
       "<style>\n",
       ".list-inline {list-style: none; margin:0; padding: 0}\n",
       ".list-inline>li {display: inline-block}\n",
       ".list-inline>li:not(:last-child)::after {content: \"\\00b7\"; padding: 0 .5ex}\n",
       "</style>\n",
       "<ol class=list-inline><li>2</li><li>4</li></ol>\n"
      ],
      "text/latex": [
       "\\begin{enumerate*}\n",
       "\\item 2\n",
       "\\item 4\n",
       "\\end{enumerate*}\n"
      ],
      "text/markdown": [
       "1. 2\n",
       "2. 4\n",
       "\n",
       "\n"
      ],
      "text/plain": [
       "[1] 2 4"
      ]
     },
     "metadata": {},
     "output_type": "display_data"
    }
   ],
   "source": [
    "# Get a whole column\n",
    "matrix3[,2]"
   ]
  },
  {
   "cell_type": "code",
   "execution_count": 40,
   "metadata": {},
   "outputs": [
    {
     "data": {
      "text/html": [
       "<table>\n",
       "<caption>A matrix: 3 × 3 of type int</caption>\n",
       "<tbody>\n",
       "\t<tr><td>1</td><td>2</td><td>3</td></tr>\n",
       "\t<tr><td>4</td><td>5</td><td>6</td></tr>\n",
       "\t<tr><td>7</td><td>8</td><td>9</td></tr>\n",
       "</tbody>\n",
       "</table>\n"
      ],
      "text/latex": [
       "A matrix: 3 × 3 of type int\n",
       "\\begin{tabular}{lll}\n",
       "\t 1 & 2 & 3\\\\\n",
       "\t 4 & 5 & 6\\\\\n",
       "\t 7 & 8 & 9\\\\\n",
       "\\end{tabular}\n"
      ],
      "text/markdown": [
       "\n",
       "A matrix: 3 × 3 of type int\n",
       "\n",
       "| 1 | 2 | 3 |\n",
       "| 4 | 5 | 6 |\n",
       "| 7 | 8 | 9 |\n",
       "\n"
      ],
      "text/plain": [
       "     [,1] [,2] [,3]\n",
       "[1,] 1    2    3   \n",
       "[2,] 4    5    6   \n",
       "[3,] 7    8    9   "
      ]
     },
     "metadata": {},
     "output_type": "display_data"
    }
   ],
   "source": [
    "# Combine vectors to make a Matrix\n",
    "matrix4 = rbind(1:3, 4:6, 7:9)\n",
    "matrix4"
   ]
  },
  {
   "cell_type": "code",
   "execution_count": 41,
   "metadata": {},
   "outputs": [
    {
     "data": {
      "text/html": [
       "<table>\n",
       "<caption>A matrix: 2 × 3 of type int</caption>\n",
       "<tbody>\n",
       "\t<tr><td>4</td><td>5</td><td>6</td></tr>\n",
       "\t<tr><td>7</td><td>8</td><td>9</td></tr>\n",
       "</tbody>\n",
       "</table>\n"
      ],
      "text/latex": [
       "A matrix: 2 × 3 of type int\n",
       "\\begin{tabular}{lll}\n",
       "\t 4 & 5 & 6\\\\\n",
       "\t 7 & 8 & 9\\\\\n",
       "\\end{tabular}\n"
      ],
      "text/markdown": [
       "\n",
       "A matrix: 2 × 3 of type int\n",
       "\n",
       "| 4 | 5 | 6 |\n",
       "| 7 | 8 | 9 |\n",
       "\n"
      ],
      "text/plain": [
       "     [,1] [,2] [,3]\n",
       "[1,] 4    5    6   \n",
       "[2,] 7    8    9   "
      ]
     },
     "metadata": {},
     "output_type": "display_data"
    }
   ],
   "source": [
    "# Get 2nd and 3rd row\n",
    "matrix4[2:3,]"
   ]
  },
  {
   "cell_type": "code",
   "execution_count": 42,
   "metadata": {},
   "outputs": [
    {
     "data": {
      "text/html": [
       "<table>\n",
       "<caption>A matrix: 2 × 3 of type int</caption>\n",
       "<tbody>\n",
       "\t<tr><td>4</td><td>5</td><td>6</td></tr>\n",
       "\t<tr><td>7</td><td>8</td><td>9</td></tr>\n",
       "</tbody>\n",
       "</table>\n"
      ],
      "text/latex": [
       "A matrix: 2 × 3 of type int\n",
       "\\begin{tabular}{lll}\n",
       "\t 4 & 5 & 6\\\\\n",
       "\t 7 & 8 & 9\\\\\n",
       "\\end{tabular}\n"
      ],
      "text/markdown": [
       "\n",
       "A matrix: 2 × 3 of type int\n",
       "\n",
       "| 4 | 5 | 6 |\n",
       "| 7 | 8 | 9 |\n",
       "\n"
      ],
      "text/plain": [
       "     [,1] [,2] [,3]\n",
       "[1,] 4    5    6   \n",
       "[2,] 7    8    9   "
      ]
     },
     "metadata": {},
     "output_type": "display_data"
    }
   ],
   "source": [
    "# Get 2nd and 3rd row by ommitting the 1st\n",
    "matrix4[-1,]"
   ]
  },
  {
   "cell_type": "code",
   "execution_count": 43,
   "metadata": {},
   "outputs": [
    {
     "data": {
      "text/html": [
       "<table>\n",
       "<caption>A matrix: 3 × 3 of type dbl</caption>\n",
       "<tbody>\n",
       "\t<tr><td>0</td><td>2</td><td>3</td></tr>\n",
       "\t<tr><td>4</td><td>5</td><td>6</td></tr>\n",
       "\t<tr><td>7</td><td>8</td><td>9</td></tr>\n",
       "</tbody>\n",
       "</table>\n"
      ],
      "text/latex": [
       "A matrix: 3 × 3 of type dbl\n",
       "\\begin{tabular}{lll}\n",
       "\t 0 & 2 & 3\\\\\n",
       "\t 4 & 5 & 6\\\\\n",
       "\t 7 & 8 & 9\\\\\n",
       "\\end{tabular}\n"
      ],
      "text/markdown": [
       "\n",
       "A matrix: 3 × 3 of type dbl\n",
       "\n",
       "| 0 | 2 | 3 |\n",
       "| 4 | 5 | 6 |\n",
       "| 7 | 8 | 9 |\n",
       "\n"
      ],
      "text/plain": [
       "     [,1] [,2] [,3]\n",
       "[1,] 0    2    3   \n",
       "[2,] 4    5    6   \n",
       "[3,] 7    8    9   "
      ]
     },
     "metadata": {},
     "output_type": "display_data"
    }
   ],
   "source": [
    "# Change the first value\n",
    "matrix4[1,1] = 0\n",
    "matrix4"
   ]
  },
  {
   "cell_type": "code",
   "execution_count": 44,
   "metadata": {},
   "outputs": [
    {
     "data": {
      "text/html": [
       "<table>\n",
       "<caption>A matrix: 3 × 3 of type dbl</caption>\n",
       "<tbody>\n",
       "\t<tr><td>10</td><td>11</td><td>12</td></tr>\n",
       "\t<tr><td> 4</td><td> 5</td><td> 6</td></tr>\n",
       "\t<tr><td> 7</td><td> 8</td><td> 9</td></tr>\n",
       "</tbody>\n",
       "</table>\n"
      ],
      "text/latex": [
       "A matrix: 3 × 3 of type dbl\n",
       "\\begin{tabular}{lll}\n",
       "\t 10 & 11 & 12\\\\\n",
       "\t  4 &  5 &  6\\\\\n",
       "\t  7 &  8 &  9\\\\\n",
       "\\end{tabular}\n"
      ],
      "text/markdown": [
       "\n",
       "A matrix: 3 × 3 of type dbl\n",
       "\n",
       "| 10 | 11 | 12 |\n",
       "|  4 |  5 |  6 |\n",
       "|  7 |  8 |  9 |\n",
       "\n"
      ],
      "text/plain": [
       "     [,1] [,2] [,3]\n",
       "[1,] 10   11   12  \n",
       "[2,]  4    5    6  \n",
       "[3,]  7    8    9  "
      ]
     },
     "metadata": {},
     "output_type": "display_data"
    }
   ],
   "source": [
    "# Change the 1st row\n",
    "matrix4[1,] = c(10,11,12)\n",
    "matrix4"
   ]
  },
  {
   "cell_type": "code",
   "execution_count": 46,
   "metadata": {},
   "outputs": [
    {
     "data": {
      "text/html": [
       "<style>\n",
       ".list-inline {list-style: none; margin:0; padding: 0}\n",
       ".list-inline>li {display: inline-block}\n",
       ".list-inline>li:not(:last-child)::after {content: \"\\00b7\"; padding: 0 .5ex}\n",
       "</style>\n",
       "<ol class=list-inline><li>1</li><li>2</li><li>3</li><li>4</li><li>5</li><li>6</li><li>7</li><li>8</li></ol>\n"
      ],
      "text/latex": [
       "\\begin{enumerate*}\n",
       "\\item 1\n",
       "\\item 2\n",
       "\\item 3\n",
       "\\item 4\n",
       "\\item 5\n",
       "\\item 6\n",
       "\\item 7\n",
       "\\item 8\n",
       "\\end{enumerate*}\n"
      ],
      "text/markdown": [
       "1. 1\n",
       "2. 2\n",
       "3. 3\n",
       "4. 4\n",
       "5. 5\n",
       "6. 6\n",
       "7. 7\n",
       "8. 8\n",
       "\n",
       "\n"
      ],
      "text/plain": [
       ", , 1\n",
       "\n",
       "     [,1] [,2]\n",
       "[1,]    1    3\n",
       "[2,]    2    4\n",
       "\n",
       ", , 2\n",
       "\n",
       "     [,1] [,2]\n",
       "[1,]    5    7\n",
       "[2,]    6    8\n"
      ]
     },
     "metadata": {},
     "output_type": "display_data"
    }
   ],
   "source": [
    "# -------------------------------------------------\n",
    "# ----- MULTI-DIMENSIONAL ARRAYS -----\n",
    "# You can also create Matrices in layers\n",
    " \n",
    "# Create a MDA with 2 rows, columns and layers\n",
    "array1 = array(data=1:8, dim=c(2,2,2))\n",
    "array1"
   ]
  },
  {
   "cell_type": "code",
   "execution_count": 47,
   "metadata": {},
   "outputs": [
    {
     "name": "stdout",
     "output_type": "stream",
     "text": [
      "[1] 7\n"
     ]
    }
   ],
   "source": [
    "# Get a value\n",
    "print(array1[1,2,2])\n",
    " \n",
    "# Experiment grabbing values like we did with the Matrix\n",
    "# Everything is the same"
   ]
  },
  {
   "cell_type": "code",
   "execution_count": 48,
   "metadata": {},
   "outputs": [
    {
     "data": {
      "text/html": [
       "'5 + 6 = 11'"
      ],
      "text/latex": [
       "'5 + 6 = 11'"
      ],
      "text/markdown": [
       "'5 + 6 = 11'"
      ],
      "text/plain": [
       "[1] \"5 + 6 = 11\""
      ]
     },
     "metadata": {},
     "output_type": "display_data"
    }
   ],
   "source": [
    "# -------------------------------------------------\n",
    "# ----- FUNCTIONS -----\n",
    "# A function is R is an object that performs operations\n",
    "# on passed attributes and then returns results\n",
    "# or simply control back\n",
    " \n",
    "getSum = function(num1, num2){\n",
    "  return(num1 + num2)\n",
    "}\n",
    " \n",
    "sprintf(\"5 + 6 = %d\", getSum(5,6))"
   ]
  },
  {
   "cell_type": "code",
   "execution_count": 49,
   "metadata": {},
   "outputs": [
    {
     "data": {
      "text/html": [
       "'5 - 6 = -1'"
      ],
      "text/latex": [
       "'5 - 6 = -1'"
      ],
      "text/markdown": [
       "'5 - 6 = -1'"
      ],
      "text/plain": [
       "[1] \"5 - 6 = -1\""
      ]
     },
     "metadata": {},
     "output_type": "display_data"
    }
   ],
   "source": [
    "# If there is no return the last expression is returned\n",
    "# You can define default attribute values\n",
    "getDifference = function(num1=1, num2=1){\n",
    "  num1 - num2\n",
    "}\n",
    " \n",
    "sprintf(\"5 - 6 = %d\", getDifference(5,6))"
   ]
  },
  {
   "cell_type": "code",
   "execution_count": 50,
   "metadata": {},
   "outputs": [
    {
     "data": {
      "text/html": [
       "<ol>\n",
       "\t<li><style>\n",
       ".list-inline {list-style: none; margin:0; padding: 0}\n",
       ".list-inline>li {display: inline-block}\n",
       ".list-inline>li:not(:last-child)::after {content: \"\\00b7\"; padding: 0 .5ex}\n",
       "</style>\n",
       "<ol class=list-inline><li>'Random'</li><li>'Words'</li></ol>\n",
       "</li>\n",
       "</ol>\n"
      ],
      "text/latex": [
       "\\begin{enumerate}\n",
       "\\item \\begin{enumerate*}\n",
       "\\item 'Random'\n",
       "\\item 'Words'\n",
       "\\end{enumerate*}\n",
       "\n",
       "\\end{enumerate}\n"
      ],
      "text/markdown": [
       "1. 1. 'Random'\n",
       "2. 'Words'\n",
       "\n",
       "\n",
       "\n",
       "\n",
       "\n"
      ],
      "text/plain": [
       "[[1]]\n",
       "[1] \"Random\" \"Words\" \n"
      ]
     },
     "metadata": {},
     "output_type": "display_data"
    }
   ],
   "source": [
    "# Return multiple values in a list\n",
    "makeList = function(theString){\n",
    "  return (strsplit(theString, \" \"))\n",
    "}\n",
    " \n",
    "makeList(\"Random Words\")"
   ]
  },
  {
   "cell_type": "code",
   "execution_count": 51,
   "metadata": {},
   "outputs": [
    {
     "data": {
      "text/html": [
       "'Missing Argument'"
      ],
      "text/latex": [
       "'Missing Argument'"
      ],
      "text/markdown": [
       "'Missing Argument'"
      ],
      "text/plain": [
       "[1] \"Missing Argument\""
      ]
     },
     "metadata": {},
     "output_type": "display_data"
    }
   ],
   "source": [
    "# Handling missing arguments\n",
    "missFunc = function(x){\n",
    "  if(missing(x)){\n",
    "    return(\"Missing Argument\")\n",
    "  } else {\n",
    "    return(x)\n",
    "  }\n",
    "}\n",
    " \n",
    "missFunc()"
   ]
  },
  {
   "cell_type": "code",
   "execution_count": 52,
   "metadata": {},
   "outputs": [
    {
     "data": {
      "text/html": [
       "10"
      ],
      "text/latex": [
       "10"
      ],
      "text/markdown": [
       "10"
      ],
      "text/plain": [
       "[1] 10"
      ]
     },
     "metadata": {},
     "output_type": "display_data"
    }
   ],
   "source": [
    "# Excepting variable number of arguments with ellipses\n",
    "getSumMore = function(...){\n",
    "  numList = list(...)\n",
    "  sum = 0\n",
    "  for(i in numList){\n",
    "    sum = sum + i\n",
    "  }\n",
    "  sum\n",
    "}\n",
    " \n",
    "getSumMore(1,2,3,4)"
   ]
  },
  {
   "cell_type": "code",
   "execution_count": 53,
   "metadata": {},
   "outputs": [
    {
     "data": {
      "text/html": [
       "<style>\n",
       ".list-inline {list-style: none; margin:0; padding: 0}\n",
       ".list-inline>li {display: inline-block}\n",
       ".list-inline>li:not(:last-child)::after {content: \"\\00b7\"; padding: 0 .5ex}\n",
       "</style>\n",
       "<ol class=list-inline><li>2</li><li>4</li><li>6</li><li>8</li><li>10</li><li>12</li><li>14</li><li>16</li><li>18</li><li>20</li></ol>\n"
      ],
      "text/latex": [
       "\\begin{enumerate*}\n",
       "\\item 2\n",
       "\\item 4\n",
       "\\item 6\n",
       "\\item 8\n",
       "\\item 10\n",
       "\\item 12\n",
       "\\item 14\n",
       "\\item 16\n",
       "\\item 18\n",
       "\\item 20\n",
       "\\end{enumerate*}\n"
      ],
      "text/markdown": [
       "1. 2\n",
       "2. 4\n",
       "3. 6\n",
       "4. 8\n",
       "5. 10\n",
       "6. 12\n",
       "7. 14\n",
       "8. 16\n",
       "9. 18\n",
       "10. 20\n",
       "\n",
       "\n"
      ],
      "text/plain": [
       " [1]  2  4  6  8 10 12 14 16 18 20"
      ]
     },
     "metadata": {},
     "output_type": "display_data"
    }
   ],
   "source": [
    "# Disposable / Anonymous Functions are great for \n",
    "# quick operations like doubling everything in a list\n",
    "numList = 1:10\n",
    "dblList = (function(x) x * 2)(numList)\n",
    "dblList"
   ]
  },
  {
   "cell_type": "code",
   "execution_count": 54,
   "metadata": {},
   "outputs": [
    {
     "data": {
      "text/html": [
       "8"
      ],
      "text/latex": [
       "8"
      ],
      "text/markdown": [
       "8"
      ],
      "text/plain": [
       "[1] 8"
      ]
     },
     "metadata": {},
     "output_type": "display_data"
    },
    {
     "data": {
      "text/html": [
       "<style>\n",
       ".list-inline {list-style: none; margin:0; padding: 0}\n",
       ".list-inline>li {display: inline-block}\n",
       ".list-inline>li:not(:last-child)::after {content: \"\\00b7\"; padding: 0 .5ex}\n",
       "</style>\n",
       "<ol class=list-inline><li>1</li><li>8</li><li>27</li><li>64</li><li>125</li></ol>\n"
      ],
      "text/latex": [
       "\\begin{enumerate*}\n",
       "\\item 1\n",
       "\\item 8\n",
       "\\item 27\n",
       "\\item 64\n",
       "\\item 125\n",
       "\\end{enumerate*}\n"
      ],
      "text/markdown": [
       "1. 1\n",
       "2. 8\n",
       "3. 27\n",
       "4. 64\n",
       "5. 125\n",
       "\n",
       "\n"
      ],
      "text/plain": [
       "[1]   1   8  27  64 125"
      ]
     },
     "metadata": {},
     "output_type": "display_data"
    }
   ],
   "source": [
    "# Closures are functions created by functions\n",
    "# Create a function that finds x to a user defined\n",
    "# power\n",
    "power = function(exp){\n",
    "  function(x){\n",
    "    x ^ exp\n",
    "  }\n",
    "}\n",
    " \n",
    "cubed = power(3)\n",
    "cubed(2)\n",
    "cubed(1:5)"
   ]
  },
  {
   "cell_type": "code",
   "execution_count": 55,
   "metadata": {},
   "outputs": [
    {
     "data": {
      "text/html": [
       "7"
      ],
      "text/latex": [
       "7"
      ],
      "text/markdown": [
       "7"
      ],
      "text/plain": [
       "[1] 7"
      ]
     },
     "metadata": {},
     "output_type": "display_data"
    }
   ],
   "source": [
    "# You can store functions in lists\n",
    "addFunc = list(\n",
    "  add2 = function(x) x + 2,\n",
    "  add3 = function(x) x + 3\n",
    ")\n",
    " \n",
    "addFunc$add2(5)"
   ]
  },
  {
   "cell_type": "code",
   "execution_count": 56,
   "metadata": {},
   "outputs": [
    {
     "name": "stdout",
     "output_type": "stream",
     "text": [
      "[1] \"Can't Divide with Strings\"\n"
     ]
    }
   ],
   "source": [
    "# -------------------------------------------------\n",
    "# ----- EXCEPTION HANDLING -----\n",
    "# Used to gracefully handle errors\n",
    "# I handle a division with string error\n",
    " \n",
    "divide = function(num1, num2){\n",
    "  tryCatch(\n",
    "    num1 / num2,\n",
    "    error = function(e) {\n",
    "      if(is.character(num1) || is.character(num2)){\n",
    "        print(\"Can't Divide with Strings\")\n",
    "      }\n",
    "  })\n",
    "}\n",
    " \n",
    "divide(10,\"5\")"
   ]
  },
  {
   "cell_type": "code",
   "execution_count": null,
   "metadata": {},
   "outputs": [],
   "source": [
    "# -------------------------------------------------\n",
    "# ----- READING WRITING FILES -----\n",
    "# Create a text file with headers fname lname sex\n",
    "# and the data in a txt file Use `for missing values\n",
    "# Save in the same directory as your R file\n",
    " \n",
    "# Supply the file to read, whether the 1st line is \n",
    "# headers, what seperates the data, what is being used\n",
    "# for missing data and false because you don't want to\n",
    "# convert string vectors to factors\n",
    " \n",
    "# myPeople is a data frame\n",
    "myPeople = read.table(file=file.choose(),\n",
    "                      header=T, sep=\" \",\n",
    "                      na.strings=\"`\",\n",
    "                      stringsAsFactors=F)\n",
    "myPeople"
   ]
  },
  {
   "cell_type": "code",
   "execution_count": null,
   "metadata": {},
   "outputs": [],
   "source": [
    "# Add another person\n",
    "donnaRecord = data.frame(fname=\"Donna\",\n",
    "                         lname=\"Heyward\",\n",
    "                         sex=\"female\")\n",
    "myPeople = rbind(myPeople, donnaRecord)"
   ]
  },
  {
   "cell_type": "code",
   "execution_count": null,
   "metadata": {},
   "outputs": [],
   "source": [
    "# Update a record\n",
    "myPeople[7,2] = \"Smith\""
   ]
  },
  {
   "cell_type": "code",
   "execution_count": null,
   "metadata": {},
   "outputs": [],
   "source": [
    "# Update the file by supplying the data.frame,\n",
    "# the file to write, seperator, na, whether to\n",
    "# quote strings, whether to include row numbers\n",
    "write.table(x=myPeople, file=file.choose(),\n",
    "            sep=\" \", na=\"`\",\n",
    "            quote=F, row.names=F)"
   ]
  },
  {
   "cell_type": "code",
   "execution_count": null,
   "metadata": {},
   "outputs": [],
   "source": [
    "# Get 1st 3 records\n",
    "head(myPeople, 3)\n",
    " \n",
    "# Get remaining records\n",
    "tail(myPeople)"
   ]
  },
  {
   "cell_type": "code",
   "execution_count": 57,
   "metadata": {},
   "outputs": [
    {
     "data": {
      "image/png": "[encoded data removed]",
      "text/plain": [
       "plot without title"
      ]
     },
     "metadata": {
      "image/png": {
       "height": 420,
       "width": 420
      }
     },
     "output_type": "display_data"
    }
   ],
   "source": [
    "# -------------------------------------------------\n",
    "# ----- BASIC PLOTTING -----\n",
    "# R provides great plotting tools\n",
    " \n",
    "# Plotting x y coordinates from a matrix\n",
    "# 1st 5 are x and 2nd 5 are y\n",
    "xy1 = matrix(data=c(1,2,3,4,5,\n",
    "                    6,7,8,9,10), nrow=5, ncol=2)\n",
    "plot(xy1)"
   ]
  },
  {
   "cell_type": "code",
   "execution_count": 58,
   "metadata": {},
   "outputs": [
    {
     "data": {
      "image/png": "[encoded data removed]",
      "text/plain": [
       "plot without title"
      ]
     },
     "metadata": {
      "image/png": {
       "height": 420,
       "width": 420
      }
     },
     "output_type": "display_data"
    }
   ],
   "source": [
    "# Draw a line\n",
    "x2 = c(1,2,3,4,5)\n",
    "y2 = c(1,2,3,4,5)\n",
    "plot(x2, y2, type=\"l\")"
   ]
  },
  {
   "cell_type": "code",
   "execution_count": 59,
   "metadata": {},
   "outputs": [
    {
     "data": {
      "image/png": "[encoded data removed]",
      "text/plain": [
       "plot without title"
      ]
     },
     "metadata": {
      "image/png": {
       "height": 420,
       "width": 420
      }
     },
     "output_type": "display_data"
    }
   ],
   "source": [
    "# Points and lines\n",
    "plot(x2, y2, type=\"b\")"
   ]
  },
  {
   "cell_type": "code",
   "execution_count": 60,
   "metadata": {},
   "outputs": [
    {
     "data": {
      "image/png": "[encoded data removed]",
      "text/plain": [
       "Plot with title “My Plot”"
      ]
     },
     "metadata": {
      "image/png": {
       "height": 420,
       "width": 420
      }
     },
     "output_type": "display_data"
    }
   ],
   "source": [
    "# Points and lines with no space around points,\n",
    "# labels, a blue line (Find more with colors())\n",
    "plot(x2, y2, type=\"o\", \n",
    "     main=\"My Plot\", xlab=\"x axis\", ylab=\"y axis\",\n",
    "     col=\"steelblue\")"
   ]
  },
  {
   "cell_type": "code",
   "execution_count": 61,
   "metadata": {},
   "outputs": [
    {
     "data": {
      "image/png": "[encoded data removed]",
      "text/plain": [
       "plot without title"
      ]
     },
     "metadata": {
      "image/png": {
       "height": 420,
       "width": 420
      }
     },
     "output_type": "display_data"
    }
   ],
   "source": [
    "# pch (1-25) defines different points\n",
    "# lty (1-6) defines different lines\n",
    "# xlim defines the max and min x plotting region\n",
    "# ylim defines the max and min y plotting region\n",
    "plot(x2, y2, type=\"b\", pch=2, lty=2,\n",
    "     xlim=c(-8,8), ylim=c(-8,8))"
   ]
  },
  {
   "cell_type": "code",
   "execution_count": 65,
   "metadata": {},
   "outputs": [
    {
     "ename": "ERROR",
     "evalue": "Error in int_abline(a = a, b = b, h = h, v = v, untf = untf, ...): plot.new has not been called yet\n",
     "output_type": "error",
     "traceback": [
      "Error in int_abline(a = a, b = b, h = h, v = v, untf = untf, ...): plot.new has not been called yet\nTraceback:\n",
      "1. abline(h = c(2, 4), col = \"red\", lty = 2)",
      "2. int_abline(a = a, b = b, h = h, v = v, untf = untf, ...)"
     ]
    }
   ],
   "source": [
    "# Multiple plots\n",
    "plot(x2, y2, type=\"b\")"
   ]
  },
  {
   "cell_type": "code",
   "execution_count": 63,
   "metadata": {},
   "outputs": [
    {
     "ename": "ERROR",
     "evalue": "Error in int_abline(a = a, b = b, h = h, v = v, untf = untf, ...): plot.new has not been called yet\n",
     "output_type": "error",
     "traceback": [
      "Error in int_abline(a = a, b = b, h = h, v = v, untf = untf, ...): plot.new has not been called yet\nTraceback:\n",
      "1. abline(h = c(2, 4), col = \"red\", lty = 2)",
      "2. int_abline(a = a, b = b, h = h, v = v, untf = untf, ...)"
     ]
    }
   ],
   "source": [
    "# Adds straight lines at 2 and 4 coordinates\n",
    "abline(h=c(2,4), col=\"red\",lty=2)"
   ]
  },
  {
   "cell_type": "code",
   "execution_count": 64,
   "metadata": {},
   "outputs": [
    {
     "ename": "ERROR",
     "evalue": "Error in segments(x0 = c(2, 4), y0 = c(2, 2), x1 = c(2, 4), y1 = c(4, : plot.new has not been called yet\n",
     "output_type": "error",
     "traceback": [
      "Error in segments(x0 = c(2, 4), y0 = c(2, 2), x1 = c(2, 4), y1 = c(4, : plot.new has not been called yet\nTraceback:\n",
      "1. segments(x0 = c(2, 4), y0 = c(2, 2), x1 = c(2, 4), y1 = c(4, \n .     4), col = \"red\", lty = 2)"
     ]
    }
   ],
   "source": [
    "# Draw a 2 segmented lines with starting and ending x\n",
    "# and y points\n",
    "segments(x0=c(2,4), y0=c(2,2), x1=c(2,4), y1=c(4,4),\n",
    "         col=\"red\",lty=2)"
   ]
  },
  {
   "cell_type": "code",
   "execution_count": null,
   "metadata": {},
   "outputs": [],
   "source": [
    "# Draw an arrow\n",
    "arrows(x0=1.5, y0=4.55, x1=2.7, y1=3.3, col=\"blue\")\n",
    " \n",
    "# Print Text\n",
    "text(x=1.25, y=4.75, labels=\"Center\")"
   ]
  },
  {
   "cell_type": "code",
   "execution_count": 66,
   "metadata": {},
   "outputs": [
    {
     "data": {
      "image/png": "[encoded data removed]",
      "text/plain": [
       "plot without title"
      ]
     },
     "metadata": {
      "image/png": {
       "height": 420,
       "width": 420
      }
     },
     "output_type": "display_data"
    }
   ],
   "source": [
    "# Load a built in data.frame\n",
    "plot(faithful)"
   ]
  },
  {
   "cell_type": "code",
   "execution_count": 67,
   "metadata": {},
   "outputs": [
    {
     "ename": "ERROR",
     "evalue": "Error in plot.xy(xy.coords(x, y), type = type, ...): plot.new has not been called yet\n",
     "output_type": "error",
     "traceback": [
      "Error in plot.xy(xy.coords(x, y), type = type, ...): plot.new has not been called yet\nTraceback:\n",
      "1. points(eruptions4, col = \"red\", pch = 4)",
      "2. points.default(eruptions4, col = \"red\", pch = 4)",
      "3. plot.xy(xy.coords(x, y), type = type, ...)"
     ]
    }
   ],
   "source": [
    "# Highlight eruptions with a waiting time greater\n",
    "# then 4\n",
    "eruptions4 = with(faithful, faithful[eruptions > 4,])\n",
    "\n",
    "# Draw specific points\n",
    "points(eruptions4, col=\"red\", pch=4)"
   ]
  },
  {
   "cell_type": "code",
   "execution_count": 68,
   "metadata": {},
   "outputs": [
    {
     "data": {
      "text/html": [
       "10"
      ],
      "text/latex": [
       "10"
      ],
      "text/markdown": [
       "10"
      ],
      "text/plain": [
       "[1] 10"
      ]
     },
     "metadata": {},
     "output_type": "display_data"
    },
    {
     "data": {
      "text/html": [
       "2"
      ],
      "text/latex": [
       "2"
      ],
      "text/markdown": [
       "2"
      ],
      "text/plain": [
       "[1] 2"
      ]
     },
     "metadata": {},
     "output_type": "display_data"
    },
    {
     "data": {
      "text/html": [
       "7.38905609893065"
      ],
      "text/latex": [
       "7.38905609893065"
      ],
      "text/markdown": [
       "7.38905609893065"
      ],
      "text/plain": [
       "[1] 7.389056"
      ]
     },
     "metadata": {},
     "output_type": "display_data"
    },
    {
     "data": {
      "text/html": [
       "6"
      ],
      "text/latex": [
       "6"
      ],
      "text/markdown": [
       "6"
      ],
      "text/plain": [
       "[1] 6"
      ]
     },
     "metadata": {},
     "output_type": "display_data"
    },
    {
     "data": {
      "text/html": [
       "7.5"
      ],
      "text/latex": [
       "7.5"
      ],
      "text/markdown": [
       "7.5"
      ],
      "text/plain": [
       "[1] 7.5"
      ]
     },
     "metadata": {},
     "output_type": "display_data"
    },
    {
     "data": {
      "text/html": [
       "6.5"
      ],
      "text/latex": [
       "6.5"
      ],
      "text/markdown": [
       "6.5"
      ],
      "text/plain": [
       "[1] 6.5"
      ]
     },
     "metadata": {},
     "output_type": "display_data"
    },
    {
     "data": {
      "text/html": [
       "1"
      ],
      "text/latex": [
       "1"
      ],
      "text/markdown": [
       "1"
      ],
      "text/plain": [
       "[1] 1"
      ]
     },
     "metadata": {},
     "output_type": "display_data"
    },
    {
     "data": {
      "text/html": [
       "16"
      ],
      "text/latex": [
       "16"
      ],
      "text/markdown": [
       "16"
      ],
      "text/plain": [
       "[1] 16"
      ]
     },
     "metadata": {},
     "output_type": "display_data"
    },
    {
     "data": {
      "text/html": [
       "<style>\n",
       ".list-inline {list-style: none; margin:0; padding: 0}\n",
       ".list-inline>li {display: inline-block}\n",
       ".list-inline>li:not(:last-child)::after {content: \"\\00b7\"; padding: 0 .5ex}\n",
       "</style>\n",
       "<ol class=list-inline><li>1</li><li>16</li></ol>\n"
      ],
      "text/latex": [
       "\\begin{enumerate*}\n",
       "\\item 1\n",
       "\\item 16\n",
       "\\end{enumerate*}\n"
      ],
      "text/markdown": [
       "1. 1\n",
       "2. 16\n",
       "\n",
       "\n"
      ],
      "text/plain": [
       "[1]  1 16"
      ]
     },
     "metadata": {},
     "output_type": "display_data"
    },
    {
     "data": {
      "text/html": [
       "5"
      ],
      "text/latex": [
       "5"
      ],
      "text/markdown": [
       "5"
      ],
      "text/plain": [
       "[1] 5"
      ]
     },
     "metadata": {},
     "output_type": "display_data"
    },
    {
     "data": {
      "text/html": [
       "4"
      ],
      "text/latex": [
       "4"
      ],
      "text/markdown": [
       "4"
      ],
      "text/plain": [
       "[1] 4"
      ]
     },
     "metadata": {},
     "output_type": "display_data"
    },
    {
     "data": {
      "text/html": [
       "<style>\n",
       ".list-inline {list-style: none; margin:0; padding: 0}\n",
       ".list-inline>li {display: inline-block}\n",
       ".list-inline>li:not(:last-child)::after {content: \"\\00b7\"; padding: 0 .5ex}\n",
       "</style>\n",
       "<ol class=list-inline><li>1</li><li>3</li><li>6</li></ol>\n"
      ],
      "text/latex": [
       "\\begin{enumerate*}\n",
       "\\item 1\n",
       "\\item 3\n",
       "\\item 6\n",
       "\\end{enumerate*}\n"
      ],
      "text/markdown": [
       "1. 1\n",
       "2. 3\n",
       "3. 6\n",
       "\n",
       "\n"
      ],
      "text/plain": [
       "[1] 1 3 6"
      ]
     },
     "metadata": {},
     "output_type": "display_data"
    },
    {
     "data": {
      "text/html": [
       "<style>\n",
       ".list-inline {list-style: none; margin:0; padding: 0}\n",
       ".list-inline>li {display: inline-block}\n",
       ".list-inline>li:not(:last-child)::after {content: \"\\00b7\"; padding: 0 .5ex}\n",
       "</style>\n",
       "<ol class=list-inline><li>1</li><li>2</li><li>6</li></ol>\n"
      ],
      "text/latex": [
       "\\begin{enumerate*}\n",
       "\\item 1\n",
       "\\item 2\n",
       "\\item 6\n",
       "\\end{enumerate*}\n"
      ],
      "text/markdown": [
       "1. 1\n",
       "2. 2\n",
       "3. 6\n",
       "\n",
       "\n"
      ],
      "text/plain": [
       "[1] 1 2 6"
      ]
     },
     "metadata": {},
     "output_type": "display_data"
    },
    {
     "data": {
      "text/html": [
       "<style>\n",
       ".list-inline {list-style: none; margin:0; padding: 0}\n",
       ".list-inline>li {display: inline-block}\n",
       ".list-inline>li:not(:last-child)::after {content: \"\\00b7\"; padding: 0 .5ex}\n",
       "</style>\n",
       "<ol class=list-inline><li>7</li><li>8</li><li>9</li><li>9</li><li>9</li><li>9</li><li>9</li><li>9</li><li>9</li></ol>\n"
      ],
      "text/latex": [
       "\\begin{enumerate*}\n",
       "\\item 7\n",
       "\\item 8\n",
       "\\item 9\n",
       "\\item 9\n",
       "\\item 9\n",
       "\\item 9\n",
       "\\item 9\n",
       "\\item 9\n",
       "\\item 9\n",
       "\\end{enumerate*}\n"
      ],
      "text/markdown": [
       "1. 7\n",
       "2. 8\n",
       "3. 9\n",
       "4. 9\n",
       "5. 9\n",
       "6. 9\n",
       "7. 9\n",
       "8. 9\n",
       "9. 9\n",
       "\n",
       "\n"
      ],
      "text/plain": [
       "[1] 7 8 9 9 9 9 9 9 9"
      ]
     },
     "metadata": {},
     "output_type": "display_data"
    },
    {
     "data": {
      "text/html": [
       "<style>\n",
       ".list-inline {list-style: none; margin:0; padding: 0}\n",
       ".list-inline>li {display: inline-block}\n",
       ".list-inline>li:not(:last-child)::after {content: \"\\00b7\"; padding: 0 .5ex}\n",
       "</style>\n",
       "<ol class=list-inline><li>4</li><li>4</li><li>4</li><li>1</li><li>1</li><li>1</li><li>1</li><li>1</li><li>1</li></ol>\n"
      ],
      "text/latex": [
       "\\begin{enumerate*}\n",
       "\\item 4\n",
       "\\item 4\n",
       "\\item 4\n",
       "\\item 1\n",
       "\\item 1\n",
       "\\item 1\n",
       "\\item 1\n",
       "\\item 1\n",
       "\\item 1\n",
       "\\end{enumerate*}\n"
      ],
      "text/markdown": [
       "1. 4\n",
       "2. 4\n",
       "3. 4\n",
       "4. 1\n",
       "5. 1\n",
       "6. 1\n",
       "7. 1\n",
       "8. 1\n",
       "9. 1\n",
       "\n",
       "\n"
      ],
      "text/plain": [
       "[1] 4 4 4 1 1 1 1 1 1"
      ]
     },
     "metadata": {},
     "output_type": "display_data"
    },
    {
     "data": {
      "text/html": [
       "<style>\n",
       ".list-inline {list-style: none; margin:0; padding: 0}\n",
       ".list-inline>li {display: inline-block}\n",
       ".list-inline>li:not(:last-child)::after {content: \"\\00b7\"; padding: 0 .5ex}\n",
       "</style>\n",
       "<ol class=list-inline><li>1</li><li>0</li><li>0</li><li>0</li><li>0</li><li>1</li><li>0</li><li>1</li><li>1</li><li>1</li></ol>\n"
      ],
      "text/latex": [
       "\\begin{enumerate*}\n",
       "\\item 1\n",
       "\\item 0\n",
       "\\item 0\n",
       "\\item 0\n",
       "\\item 0\n",
       "\\item 1\n",
       "\\item 0\n",
       "\\item 1\n",
       "\\item 1\n",
       "\\item 1\n",
       "\\end{enumerate*}\n"
      ],
      "text/markdown": [
       "1. 1\n",
       "2. 0\n",
       "3. 0\n",
       "4. 0\n",
       "5. 0\n",
       "6. 1\n",
       "7. 0\n",
       "8. 1\n",
       "9. 1\n",
       "10. 1\n",
       "\n",
       "\n"
      ],
      "text/plain": [
       " [1] 1 0 0 0 0 1 0 1 1 1"
      ]
     },
     "metadata": {},
     "output_type": "display_data"
    },
    {
     "data": {
      "text/html": [
       "<style>\n",
       ".list-inline {list-style: none; margin:0; padding: 0}\n",
       ".list-inline>li {display: inline-block}\n",
       ".list-inline>li:not(:last-child)::after {content: \"\\00b7\"; padding: 0 .5ex}\n",
       "</style>\n",
       "<ol class=list-inline><li>18</li><li>17</li><li>3</li><li>17</li><li>16</li><li>4</li><li>18</li><li>7</li><li>8</li><li>13</li></ol>\n"
      ],
      "text/latex": [
       "\\begin{enumerate*}\n",
       "\\item 18\n",
       "\\item 17\n",
       "\\item 3\n",
       "\\item 17\n",
       "\\item 16\n",
       "\\item 4\n",
       "\\item 18\n",
       "\\item 7\n",
       "\\item 8\n",
       "\\item 13\n",
       "\\end{enumerate*}\n"
      ],
      "text/markdown": [
       "1. 18\n",
       "2. 17\n",
       "3. 3\n",
       "4. 17\n",
       "5. 16\n",
       "6. 4\n",
       "7. 18\n",
       "8. 7\n",
       "9. 8\n",
       "10. 13\n",
       "\n",
       "\n"
      ],
      "text/plain": [
       " [1] 18 17  3 17 16  4 18  7  8 13"
      ]
     },
     "metadata": {},
     "output_type": "display_data"
    }
   ],
   "source": [
    "# -------------------------------------------------\n",
    "# ----- MATH FUNCTIONS -----\n",
    "sqrt(x=100)\n",
    " \n",
    "# Get the power you raise the base to get x\n",
    "log(x=4, base=2)\n",
    " \n",
    "# Euler's number 2.718 to the power of x\n",
    "exp(x=2)\n",
    " \n",
    "# Sum all vector values\n",
    "sum(c(1,2,3))\n",
    " \n",
    "# Find the mean (average)\n",
    "randD1 = c(1,5,6,7,10,16)\n",
    "mean(randD1)\n",
    " \n",
    "# The median (Middle Number or avg of middle 2)\n",
    "median(randD1)\n",
    " \n",
    "# Minimum value\n",
    "min(randD1)\n",
    " \n",
    "# Maximum value\n",
    "max(randD1)\n",
    " \n",
    "# Min and max\n",
    "range(randD1)\n",
    " \n",
    "# Rounding\n",
    "ceiling(4.5)\n",
    "floor(4.5)\n",
    " \n",
    "# Cumulatives\n",
    "cumsum(c(1,2,3))\n",
    "cumprod(c(1,2,3))\n",
    "cummax(c(7:9, 4:6, 1:3))\n",
    "cummin(c(4:6, 1:3, 7:9))\n",
    " \n",
    "# Generating Random samples\n",
    "# Flipping a coin 10 times and weigh the probability\n",
    "# of the next flip based on the previous\n",
    "sample(0:1,10,replace=T)\n",
    " \n",
    "sample(1:20,10,replace=T)"
   ]
  },
  {
   "cell_type": "code",
   "execution_count": null,
   "metadata": {},
   "outputs": [],
   "source": [
    "# -------------------------------------------------\n",
    "# ----- PIE CHARTS -----\n",
    "# List percentages\n",
    "foodPref = c(15, 35, 10, 25, 15)\n",
    " \n",
    "# Labels associated with percentages\n",
    "foodLabels = c(\"Spaghetti\", \"Pizza\", \"Mac n' Cheese\",\n",
    "           \"Chicken Nuggets\", \"Tacos\")\n",
    " \n",
    "# Where to save the image\n",
    "png(file=\"child_food_pref.png\")\n",
    " \n",
    "# Colors used for each option\n",
    "colors = rainbow(length(foodPref))\n",
    " \n",
    "# Create the chart\n",
    "pie(foodPref, foodLabels, main=\"Food Prefs\",\n",
    "    col=colors)\n",
    " \n",
    "# Print legend and cex shrinks the size\n",
    "legend(\"topright\", c(\"Spaghetti\", \"Pizza\", \"Mac n' Cheese\",\n",
    "                     \"Chicken\", \"Tacos\"), cex=0.8,\n",
    "       fill=colors)\n",
    " \n",
    "# Save the chart\n",
    "dev.off()"
   ]
  },
  {
   "cell_type": "code",
   "execution_count": 2,
   "metadata": {},
   "outputs": [],
   "source": [
    "# -------------------------------------------------\n",
    "# 3D Pie Chart\n",
    "# Download package in console install.packages(\"plotrix\")\n",
    "# Get the library\n",
    "library(plotrix)"
   ]
  },
  {
   "cell_type": "code",
   "execution_count": 3,
   "metadata": {},
   "outputs": [
    {
     "ename": "ERROR",
     "evalue": "Error in pie3D(foodPref, labels = foodLabels, explode = 0.1, start = pi/2, : object 'foodPref' not found\n",
     "output_type": "error",
     "traceback": [
      "Error in pie3D(foodPref, labels = foodLabels, explode = 0.1, start = pi/2, : object 'foodPref' not found\nTraceback:\n",
      "1. pie3D(foodPref, labels = foodLabels, explode = 0.1, start = pi/2, \n .     main = \"Food Prefs\", labelcex = 0.8)"
     ]
    }
   ],
   "source": [
    "# Name the chart file\n",
    "png(file=\"3d_child_food_pref.png\")\n",
    "\n",
    "# Create the chart\n",
    "pie3D(foodPref, labels=foodLabels, explode=0.1,\n",
    "      start=pi/2, main=\"Food Prefs\", labelcex=0.8)\n",
    " \n",
    "# Save the chart\n",
    "dev.off()"
   ]
  },
  {
   "cell_type": "code",
   "execution_count": 4,
   "metadata": {},
   "outputs": [
    {
     "ename": "ERROR",
     "evalue": "Error in barplot(foodPref, names.arg = foodLabels, xlab = \"Votes\", ylab = \"Food Options\", : object 'foodPref' not found\n",
     "output_type": "error",
     "traceback": [
      "Error in barplot(foodPref, names.arg = foodLabels, xlab = \"Votes\", ylab = \"Food Options\", : object 'foodPref' not found\nTraceback:\n",
      "1. barplot(foodPref, names.arg = foodLabels, xlab = \"Votes\", ylab = \"Food Options\", \n .     col = colors, main = \"Food Prefs\")"
     ]
    }
   ],
   "source": [
    "# ----- BAR CHARTS -----\n",
    "# Define the bar chart file\n",
    "png(file=\"food_pref_bar_chart.png\")\n",
    " \n",
    "# Plot the chart\n",
    "barplot(foodPref, names.arg=foodLabels, xlab=\"Votes\",\n",
    "        ylab=\"Food Options\", col=colors, \n",
    "        main=\"Food Prefs\")\n",
    " \n",
    "# Save File\n",
    "dev.off()"
   ]
  },
  {
   "cell_type": "code",
   "execution_count": 5,
   "metadata": {},
   "outputs": [
    {
     "ename": "ERROR",
     "evalue": "Error in eval(predvars, data, env): object 'playerData' not found\n",
     "output_type": "error",
     "traceback": [
      "Error in eval(predvars, data, env): object 'playerData' not found\nTraceback:\n",
      "1. lm(playerData$RBI ~ playerData$AVG)",
      "2. eval(mf, parent.frame())",
      "3. eval(mf, parent.frame())",
      "4. stats::model.frame(formula = playerData$RBI ~ playerData$AVG, \n .     drop.unused.levels = TRUE)",
      "5. model.frame.default(formula = playerData$RBI ~ playerData$AVG, \n .     drop.unused.levels = TRUE)",
      "6. eval(predvars, data, env)",
      "7. eval(predvars, data, env)"
     ]
    }
   ],
   "source": [
    "# -------------------------------------------------\n",
    "# ----- REGRESSION ANALYSIS -----\n",
    "# Used to study a relationship between 2 separate \n",
    "# pieces of data (What is the relation between batting\n",
    "# average and RBIS)\n",
    " \n",
    "# Create relationship model between AVG and RBIs\n",
    "relation = lm(playerData$RBI~playerData$AVG)\n",
    " \n",
    "# Create file \n",
    "png(file=\"RBI_AVG_Regression.png\")\n",
    " \n",
    "# Plot the chart\n",
    "plot(playerData$AVG, playerData$RBI, \n",
    "     main=\"AVG & RBI Regression\", \n",
    "     abline(lm(playerData$RBI~playerData$AVG)),\n",
    "     xlab=\"AVG\", ylab=\"RBIs\")\n",
    " \n",
    "# Save chart\n",
    "dev.off()"
   ]
  },
  {
   "cell_type": "code",
   "execution_count": 6,
   "metadata": {},
   "outputs": [
    {
     "ename": "ERROR",
     "evalue": "Error in eval(expr, envir, enclos): object 'mlbPlayers' not found\n",
     "output_type": "error",
     "traceback": [
      "Error in eval(expr, envir, enclos): object 'mlbPlayers' not found\nTraceback:\n"
     ]
    }
   ],
   "source": [
    "# -------------------------------------------------\n",
    "# ----- MULTIPLE REGRESSION -----\n",
    "# Used to study the impact on one variable from numerous \n",
    "# others\n",
    "# Estimate RBIs based on other player stats\n",
    "playerData2 = mlbPlayers[,c(\"RBI\",\"AVG\",\"HR\",\"OBP\",\n",
    "                            \"SLG\",\"OPS\")]\n",
    " \n",
    "# Create the relationship model\n",
    "relation2 = lm(playerData2$RBI ~ playerData2$AVG + \n",
    "                 playerData2$HR + playerData2$OBP +\n",
    "                 playerData2$SLG + playerData2$OPS)\n",
    " \n",
    "sprintf(\"Intercept : %f1.4\", coef(relation2)[1])\n",
    " \n",
    "# How stats effect RBIs\n",
    "sprintf(\"AVG : %f1.4\", coef(relation2)[2])\n",
    "sprintf(\"HR : %f1.4\", coef(relation2)[3])\n",
    "sprintf(\"OBP : %f1.4\", coef(relation2)[4])\n",
    "sprintf(\"SLG : %f1.4\", coef(relation2)[5])\n",
    "sprintf(\"OPS : %f1.4\", coef(relation2)[6])\n",
    " \n",
    "# Calculate expected RBIs based on stats\n",
    "# Evan Longoria\n",
    "# RBIs   AVG   HR   OBP   SLG   OPS\n",
    "# 86     .261  20  .313  .424  .737\n",
    "RBIGuess = -5.05 + (372.96 * .261) + (2.56 * 20) +\n",
    "  (-5.41 * .313) + (-167.37 * .424)\n",
    "RBIGuess"
   ]
  }
 ],
 "metadata": {
  "kernelspec": {
   "display_name": "R",
   "language": "R",
   "name": "ir"
  },
  "language_info": {
   "codemirror_mode": "r",
   "file_extension": ".r",
   "mimetype": "text/x-r-source",
   "name": "R",
   "pygments_lexer": "r",
   "version": "4.0.2"
  }
 },
 "nbformat": 4,
 "nbformat_minor": 4
}
